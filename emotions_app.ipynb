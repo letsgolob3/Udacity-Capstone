{
 "cells": [
  {
   "cell_type": "markdown",
   "metadata": {},
   "source": [
    "# Packages "
   ]
  },
  {
   "cell_type": "code",
   "execution_count": 1,
   "metadata": {},
   "outputs": [
    {
     "name": "stderr",
     "output_type": "stream",
     "text": [
      "C:\\Anaconda3\\lib\\site-packages\\dash_bootstrap_components\\_table.py:5: UserWarning: \n",
      "The dash_html_components package is deprecated. Please replace\n",
      "`import dash_html_components as html` with `from dash import html`\n",
      "  import dash_html_components as html\n"
     ]
    }
   ],
   "source": [
    "import pandas as pd\n",
    "import numpy as np\n",
    "import plotly\n",
    "import plotly.graph_objects as go\n",
    "import os\n",
    "import base64\n",
    "import re\n",
    "import pickle\n",
    "import dash\n",
    "import dash_bootstrap_components as dbc\n",
    "\n",
    "from dash.exceptions import PreventUpdate\n",
    "from dash import dcc\n",
    "from dash import html\n",
    "from dash import dash_table\n",
    "from dash.dependencies import Output\n",
    "from dash.dependencies import Input\n",
    "from plotly.subplots import make_subplots\n",
    "from textblob import TextBlob\n",
    "\n",
    "from emotions_model import count_tokens\n",
    "from emotions_model import apply_features\n",
    "from emotions_model import count_n_char"
   ]
  },
  {
   "cell_type": "markdown",
   "metadata": {},
   "source": [
    "# Images and Model\n"
   ]
  },
  {
   "cell_type": "code",
   "execution_count": 2,
   "metadata": {},
   "outputs": [],
   "source": [
    "# Relative paths\n",
    "cwd=os.getcwd()\n",
    "\n",
    "fpath='.\\images\\initial.jpg'\n",
    "\n",
    "test_base64 = base64.b64encode(open(fpath, 'rb').read()).decode('ascii')\n",
    "\n",
    "\n",
    "# Deserializing model object\n",
    "handler = open('model.pkl', \"rb\")\n",
    "\n",
    "pipeML= pickle.load(handler)\n",
    "\n",
    "\n"
   ]
  },
  {
   "cell_type": "markdown",
   "metadata": {},
   "source": [
    "# App layout and controls"
   ]
  },
  {
   "cell_type": "code",
   "execution_count": 3,
   "metadata": {},
   "outputs": [],
   "source": [
    "app=dash.Dash(__name__,external_stylesheets=[dbc.themes.SPACELAB,\n",
    "                                             \"https://cdnjs.cloudflare.com/ajax/libs/font-awesome/4.7.0/css/font-awesome.min.css\"])\n",
    "\n",
    "\n",
    "\n",
    "app.layout=html.Div([\n",
    "    \n",
    "#Colors and app title\n",
    "    dbc.Row([dbc.Col(\n",
    "                    html.H1('Anger',style={\"color\":\"black\",\"background-color\":\"#F13027\",\n",
    "                                          \"text-align\":\"center\"})\n",
    "                    ,width={'size':2,'offset':0,'order':1}\n",
    "                    ),\n",
    "            dbc.Col(\n",
    "                    html.H1(\"Love\",style={\"color\":\"black\",\"background-color\":\"#F127A1\",\n",
    "                                          \"text-align\":\"center\"})\n",
    "                    ,width={'size':2,'order':2}\n",
    "                    ),\n",
    "            dbc.Col(\n",
    "                    html.H1(\"Joy\",style={\"color\":\"black\",\"background-color\":\"#FFF633\",\n",
    "                                        \"text-align\":\"center\"})\n",
    "                    ,width={'size':2,'order':3}\n",
    "                    ), \n",
    "            dbc.Col(\n",
    "                    html.H1(\"Surprise\",style={\"color\":\"black\",\"background-color\":\"#27F143\",\n",
    "                                             \"text-align\":\"center\"})\n",
    "                    ,width={'size':2,'order':4}\n",
    "                    ), \n",
    "            dbc.Col(\n",
    "                    html.H1(\"Sadness\",style={\"color\":\"black\",\"background-color\":\"#279BF1\",\n",
    "                                            \"text-align\":\"center\"})\n",
    "                    ,width={'size':2,'order':5}\n",
    "                    ), \n",
    "            dbc.Col(\n",
    "                    html.H1(\"Fear\",style={\"color\":\"black\",\"background-color\":\"#9827F1\",\n",
    "                                         \"text-align\":\"center\"})\n",
    "                    ,width={'size':2,'order':6}\n",
    "                    ), \n",
    "            ]),\n",
    "\n",
    "    \n",
    "#Free text input for user text.  The dcc store is used to store data in browser and\n",
    "    #can share data between callbacks \n",
    "    dbc.Row([dbc.Col([\n",
    "                    html.Div([\"How are you feeling\"],style={'font-size':24}),\n",
    "                    dcc.Input(id='text_input',placeholder='Enter text..',type='text',style={'font-size':24,\n",
    "                                                                                      'width':'80%'})],\n",
    "            width={'size':6,'offset':1}),\n",
    "            ]),\n",
    "    \n",
    "    dcc.Download(id='download_excel'),    \n",
    "    dcc.Store(id='saved_data',data={}),\n",
    "    dcc.Store(id='df_filtered',data={}),\n",
    "\n",
    "# Variable image\n",
    "    dbc.Row([\n",
    "\n",
    "        dbc.Col([\n",
    "                html.Br(),\n",
    "                html.Img(id='picture',src='data:image/png;base64,{}'.format(test_base64)),\n",
    "\n",
    "                ],\n",
    "                width={'offset':5,'order':1},\n",
    "\n",
    "                ),#End dbc.Col\n",
    "        \n",
    "            ]), #End dbc.Row\n",
    "        \n",
    "\n",
    "    dbc.Row([html.Br()]),\n",
    "    \n",
    "    dbc.Row([\n",
    "        dbc.Col([\n",
    "            dcc.Graph(id='sentiment')],width={'size':4,'offset':4}),\n",
    "        ]), #End dbc.Row\n",
    "    dbc.Row([\n",
    "        dbc.Col([\n",
    "            html.Table([\n",
    "                html.Tr([html.Td(['Sentiment Subjectivity:  '],\n",
    "                                 style={'font-size':24}), \n",
    "                         html.Td(id='subj',\n",
    "                                 style={'text-align':'right','font-size':24})],\n",
    "                         style={'text-align':'right','font-size':24}),\n",
    "                html.Tr([html.Td('The subjectivity is in the range [0.0, 1.0]',\n",
    "                                  style={'text-align':'right','font-size':16})],\n",
    "                        style={'text-align':'right','font-size':16}),\n",
    "                html.Tr([html.Td('where 0.0 is very objective and 1.0 is very subjective',\n",
    "                                  style={'text-align':'right','font-size':16})],\n",
    "                        style={'text-align':'right','font-size':16}),\n",
    "                        ]), # End Table \n",
    "                ],width={'offset':5}) # End Col\n",
    "\n",
    "    ]) #End Row\n",
    "\n",
    "\n",
    "        \n",
    "        \n",
    "\n",
    "                    \n",
    "]) #End html.Div\n",
    "\n",
    "        "
   ]
  },
  {
   "cell_type": "markdown",
   "metadata": {},
   "source": [
    "# Callbacks\n"
   ]
  },
  {
   "cell_type": "code",
   "execution_count": 4,
   "metadata": {},
   "outputs": [],
   "source": [
    "# 1) Populate the graph with sentiment and subjectivity\n",
    "# 2) Populate the image based on the value of model output \n",
    "\n",
    "@app.callback(\n",
    "    Output(component_id='sentiment',component_property='figure'),\n",
    "    Output('picture', 'src'),\n",
    "    Output('subj','children'),\n",
    "    Input(component_id='text_input',component_property='value')\n",
    "\n",
    ")\n",
    "\n",
    "def set_graph(text):\n",
    "    \n",
    "    print(text)\n",
    "    '''\n",
    "    INPUT\n",
    "    text - a string of text based on the user input in the application\n",
    "\n",
    "    OUTPUT\n",
    "    fig - a figure to show the sentiment and subjectivity of the text using the TextBlob library\n",
    "    '''    \n",
    "    \n",
    "    \n",
    "    def SetColor(y):\n",
    "        '''\n",
    "        INPUT\n",
    "        y - the y-value for the graph\n",
    "\n",
    "        OUTPUT\n",
    "        col - color based on y-value\n",
    "        '''            \n",
    "        if y>=0:\n",
    "            col= \"#3F9C35\"\n",
    "        else:\n",
    "            col= \"red\"\n",
    "        return col\n",
    "\n",
    "    \n",
    "    \n",
    "    if text is None:\n",
    "        raise PreventUpdate\n",
    "    \n",
    "    \n",
    "    #Sentiment from Textblob\n",
    "\n",
    "    tb_phrase = TextBlob(text)\n",
    "    \n",
    "    phrase_corrected=str(tb_phrase.correct())\n",
    "    \n",
    "    \n",
    "    if tb_phrase==phrase_corrected:\n",
    "#         print('No spelling errors')\n",
    "        pass\n",
    "    else:\n",
    "#         print('Spelling error! Fixed')\n",
    "#         print(phrase_corrected)\n",
    "        tb_phrase=TextBlob(phrase_corrected)\n",
    "    \n",
    "\n",
    "    sentiment=tb_phrase.sentiment\n",
    "\n",
    "    polarity=sentiment.polarity\n",
    "\n",
    "    subjectivity=sentiment.subjectivity\n",
    "\n",
    "    #Variables for graph\n",
    "    x=['Sentiment']\n",
    "\n",
    "    ydf=pd.DataFrame([polarity],columns=[\"y1\"])\n",
    "\n",
    "    if polarity<0:\n",
    "\n",
    "        y_text = ['Negative']\n",
    "    else:\n",
    "        y_text = ['Positive']\n",
    "\n",
    "\n",
    "    #Graph properties\n",
    "    fig = go.Figure(data=go.Bar(x=x, y=ydf['y1'],text=y_text,\n",
    "                                marker=dict(color = list(map(SetColor, ydf[\"y1\"])))))\n",
    "\n",
    "    fig.update_traces(marker_line_color='black',marker_line_width=1.5,opacity=0.6)\n",
    "\n",
    "\n",
    "    fig.update_layout(title_text=\"Sentiment score: -1 to 1\",\n",
    "                      title_font_size=30,\n",
    "                      font=dict(size=24),\n",
    "                      title_x=0.5)\n",
    "\n",
    "    fig.update_yaxes(range=[-1,1],tickvals=[-1, -0.5, 0, 0.5,1],\n",
    "                     zeroline=True,zerolinewidth=2,\n",
    "                     zerolinecolor='black',showgrid=True)  \n",
    "    \n",
    "    #Instantiate feature generation object and use methods for preprocessing\n",
    "\n",
    "    numeric_cols=['n_tokens','n_i']\n",
    "\n",
    "    str_cols='document'\n",
    "\n",
    "    features_created=['n_characters']\n",
    "    \n",
    "    \n",
    "    \n",
    "    \n",
    "    new_text_df=pd.DataFrame({'document':[text]},columns=['document'])\n",
    "    \n",
    "    new_text_df=apply_features(new_text_df)\n",
    "    \n",
    "    print(new_text_df.head())\n",
    "    \n",
    "    # Use trained model on new text and output result via image\n",
    "\n",
    "    pred=pipeML.predict(new_text_df)\n",
    "    \n",
    "    pred_emotion=list(pred)[0]\n",
    "    \n",
    "    \n",
    "    fpath=f\".\\images\\{pred_emotion}.jpg\"\n",
    "    \n",
    "    test_base64 = base64.b64encode(open(fpath, 'rb').read()).decode('ascii')\n",
    "    src='data:image/png;base64,{}'.format(test_base64)\n",
    "    \n",
    "    return fig,src,round(subjectivity,1)"
   ]
  },
  {
   "cell_type": "code",
   "execution_count": null,
   "metadata": {},
   "outputs": [
    {
     "name": "stdout",
     "output_type": "stream",
     "text": [
      "Dash is running on http://127.0.0.1:8050/\n",
      "\n",
      " * Serving Flask app \"__main__\" (lazy loading)\n",
      " * Environment: production\n",
      "   WARNING: This is a development server. Do not use it in a production deployment.\n",
      "   Use a production WSGI server instead.\n",
      " * Debug mode: off\n"
     ]
    },
    {
     "name": "stderr",
     "output_type": "stream",
     "text": [
      " * Running on http://127.0.0.1:8050/ (Press CTRL+C to quit)\n",
      "127.0.0.1 - - [18/May/2022 17:13:24] \"\u001b[37mGET / HTTP/1.1\u001b[0m\" 200 -\n",
      "127.0.0.1 - - [18/May/2022 17:13:25] \"\u001b[37mGET /_dash-layout HTTP/1.1\u001b[0m\" 200 -\n",
      "127.0.0.1 - - [18/May/2022 17:13:25] \"\u001b[37mGET /_dash-dependencies HTTP/1.1\u001b[0m\" 200 -\n",
      "127.0.0.1 - - [18/May/2022 17:13:25] \"\u001b[37mGET /_favicon.ico?v=2.0.0 HTTP/1.1\u001b[0m\" 200 -\n",
      "127.0.0.1 - - [18/May/2022 17:13:25] \"\u001b[37mGET /_dash-component-suites/dash/dcc/async-graph.js HTTP/1.1\u001b[0m\" 200 -\n",
      "127.0.0.1 - - [18/May/2022 17:13:25] \"\u001b[37mGET /_dash-component-suites/dash/dcc/async-plotlyjs.js HTTP/1.1\u001b[0m\" 200 -\n",
      "127.0.0.1 - - [18/May/2022 17:13:25] \"\u001b[37mPOST /_dash-update-component HTTP/1.1\u001b[0m\" 204 -\n"
     ]
    },
    {
     "name": "stdout",
     "output_type": "stream",
     "text": [
      "None\n",
      "i\n",
      "i \n"
     ]
    },
    {
     "name": "stderr",
     "output_type": "stream",
     "text": [
      "127.0.0.1 - - [18/May/2022 17:13:27] \"\u001b[37mPOST /_dash-update-component HTTP/1.1\u001b[0m\" 200 -\n",
      "127.0.0.1 - - [18/May/2022 17:13:27] \"\u001b[37mPOST /_dash-update-component HTTP/1.1\u001b[0m\" 200 -\n"
     ]
    },
    {
     "name": "stdout",
     "output_type": "stream",
     "text": [
      "Generating featuresGenerating features\n",
      "\n",
      "  document  n_tokens  n_i  sentiment\n",
      "0       i          1    1        0.0  document  n_tokens  n_i  sentiment\n",
      "0        i         1    0        0.0\n",
      "\n",
      "i a\n",
      "Generating features"
     ]
    },
    {
     "name": "stderr",
     "output_type": "stream",
     "text": [
      "127.0.0.1 - - [18/May/2022 17:13:28] \"\u001b[37mPOST /_dash-update-component HTTP/1.1\u001b[0m\" 200 -\n",
      "127.0.0.1 - - [18/May/2022 17:13:28] \"\u001b[37mPOST /_dash-update-component HTTP/1.1\u001b[0m\" 200 -\n"
     ]
    },
    {
     "name": "stdout",
     "output_type": "stream",
     "text": [
      "\n",
      "  document  n_tokens  n_i  sentiment\n",
      "0      i a         2    1        0.0\n",
      "i am\n",
      "Generating features\n",
      "  document  n_tokens  n_i  sentiment\n",
      "0     i am         2    1        0.0\n",
      "i am \n",
      "Generating features"
     ]
    },
    {
     "name": "stderr",
     "output_type": "stream",
     "text": [
      "127.0.0.1 - - [18/May/2022 17:13:28] \"\u001b[37mPOST /_dash-update-component HTTP/1.1\u001b[0m\" 200 -\n",
      "127.0.0.1 - - [18/May/2022 17:13:28] \"\u001b[37mPOST /_dash-update-component HTTP/1.1\u001b[0m\" 200 -\n"
     ]
    },
    {
     "name": "stdout",
     "output_type": "stream",
     "text": [
      "\n",
      "  document  n_tokens  n_i  sentiment\n",
      "0    i am          2    1        0.0\n",
      "i am b\n",
      "Generating features\n",
      "  document  n_tokens  n_i  sentiment\n",
      "0   i am b         3    1        0.0\n",
      "i am bo\n",
      "Generating features\n",
      "  document  n_tokens  n_i  sentiment\n",
      "0  i am bo         3    1        0.0\n",
      "i am bor"
     ]
    },
    {
     "name": "stderr",
     "output_type": "stream",
     "text": [
      "127.0.0.1 - - [18/May/2022 17:13:28] \"\u001b[37mPOST /_dash-update-component HTTP/1.1\u001b[0m\" 200 -\n",
      "127.0.0.1 - - [18/May/2022 17:13:28] \"\u001b[37mPOST /_dash-update-component HTTP/1.1\u001b[0m\" 200 -\n",
      "127.0.0.1 - - [18/May/2022 17:13:28] \"\u001b[37mPOST /_dash-update-component HTTP/1.1\u001b[0m\" 200 -\n"
     ]
    },
    {
     "name": "stdout",
     "output_type": "stream",
     "text": [
      "\n",
      "Generating features\n",
      "   document  n_tokens  n_i  sentiment\n",
      "0  i am bor         3    1        0.0\n",
      "i am bore\n",
      "Generating features\n",
      "    document  n_tokens  n_i  sentiment\n",
      "0  i am bore         3    1        0.0\n"
     ]
    },
    {
     "name": "stderr",
     "output_type": "stream",
     "text": [
      "127.0.0.1 - - [18/May/2022 17:13:29] \"\u001b[37mPOST /_dash-update-component HTTP/1.1\u001b[0m\" 200 -\n"
     ]
    },
    {
     "name": "stdout",
     "output_type": "stream",
     "text": [
      "i am bored\n",
      "Generating features\n",
      "     document  n_tokens  n_i  sentiment\n",
      "0  i am bored         3    1       -0.5\n",
      "i am bored \n",
      "Generating features\n",
      "      document  n_tokens  n_i  sentiment\n",
      "0  i am bored          3    1       -0.5\n",
      "i am bored o\n"
     ]
    },
    {
     "name": "stderr",
     "output_type": "stream",
     "text": [
      "127.0.0.1 - - [18/May/2022 17:13:29] \"\u001b[37mPOST /_dash-update-component HTTP/1.1\u001b[0m\" 200 -\n"
     ]
    },
    {
     "name": "stdout",
     "output_type": "stream",
     "text": [
      "Generating features\n",
      "       document  n_tokens  n_i  sentiment\n",
      "0  i am bored o         4    1       -0.5\n",
      "i am bored ou\n",
      "i am bored out\n",
      "i am bored out \n"
     ]
    },
    {
     "name": "stderr",
     "output_type": "stream",
     "text": [
      "127.0.0.1 - - [18/May/2022 17:13:29] \"\u001b[37mPOST /_dash-update-component HTTP/1.1\u001b[0m\" 200 -\n"
     ]
    },
    {
     "name": "stdout",
     "output_type": "stream",
     "text": [
      "Generating features\n",
      "Generating features\n",
      "Generating featuresi am bored out o\n",
      "\n",
      "        document  n_tokens  n_i  sentiment\n",
      "0  i am bored ou         4    1       -0.5\n",
      "         document  n_tokens  n_i  sentiment\n",
      "0  i am bored out         4    1       -0.5\n",
      "Generating features\n",
      "i am bored out of\n"
     ]
    },
    {
     "name": "stderr",
     "output_type": "stream",
     "text": [
      "127.0.0.1 - - [18/May/2022 17:13:29] \"\u001b[37mPOST /_dash-update-component HTTP/1.1\u001b[0m\" 200 -\n",
      "127.0.0.1 - - [18/May/2022 17:13:29] \"\u001b[37mPOST /_dash-update-component HTTP/1.1\u001b[0m\" 200 -\n",
      "127.0.0.1 - - [18/May/2022 17:13:29] \"\u001b[37mPOST /_dash-update-component HTTP/1.1\u001b[0m\" 200 -\n"
     ]
    },
    {
     "name": "stdout",
     "output_type": "stream",
     "text": [
      "          document  n_tokens  n_i  sentiment\n",
      "0  i am bored out          4    1       -0.5\n",
      "           document  n_tokens  n_i  sentiment\n",
      "0  i am bored out o         5    1       -0.5\n",
      "Generating features\n",
      "i am bored out of \n",
      "            document  n_tokens  n_i  sentiment\n",
      "0  i am bored out of         5    1       -0.5\n",
      "Generating features\n",
      "             document  n_tokens  n_i  sentiment\n",
      "0  i am bored out of          5    1       -0.5\n"
     ]
    },
    {
     "name": "stderr",
     "output_type": "stream",
     "text": [
      "127.0.0.1 - - [18/May/2022 17:13:29] \"\u001b[37mPOST /_dash-update-component HTTP/1.1\u001b[0m\" 200 -\n",
      "127.0.0.1 - - [18/May/2022 17:13:29] \"\u001b[37mPOST /_dash-update-component HTTP/1.1\u001b[0m\" 200 -\n",
      "127.0.0.1 - - [18/May/2022 17:13:29] \"\u001b[37mPOST /_dash-update-component HTTP/1.1\u001b[0m\" 200 -\n"
     ]
    },
    {
     "name": "stdout",
     "output_type": "stream",
     "text": [
      "i am bored out of m\n",
      "Generating featuresi am bored out of myi am bored out of my \n",
      "\n",
      "\n",
      "              document  n_tokens  n_i  sentiment\n",
      "0  i am bored out of m         6    1       -0.5\n",
      "Generating featuresGenerating features\n",
      "\n",
      "               document  n_tokens  n_i  sentiment\n",
      "0  i am bored out of my         6    1       -0.5\n"
     ]
    },
    {
     "name": "stderr",
     "output_type": "stream",
     "text": [
      "127.0.0.1 - - [18/May/2022 17:13:30] \"\u001b[37mPOST /_dash-update-component HTTP/1.1\u001b[0m\" 200 -\n",
      "127.0.0.1 - - [18/May/2022 17:13:30] \"\u001b[37mPOST /_dash-update-component HTTP/1.1\u001b[0m\" 200 -\n",
      "127.0.0.1 - - [18/May/2022 17:13:30] \"\u001b[37mPOST /_dash-update-component HTTP/1.1\u001b[0m\" 200 -\n"
     ]
    },
    {
     "name": "stdout",
     "output_type": "stream",
     "text": [
      "                document  n_tokens  n_i  sentiment\n",
      "0  i am bored out of my          6    1       -0.5\n",
      "i am bored out of my m\n",
      "Generating features"
     ]
    },
    {
     "name": "stderr",
     "output_type": "stream",
     "text": [
      "127.0.0.1 - - [18/May/2022 17:13:30] \"\u001b[37mPOST /_dash-update-component HTTP/1.1\u001b[0m\" 200 -\n"
     ]
    },
    {
     "name": "stdout",
     "output_type": "stream",
     "text": [
      "\n",
      "i am bored out of my mi                 document  n_tokens  n_i  sentiment\n",
      "0  i am bored out of my m         7    1       -0.5\n",
      "\n",
      "Generating features\n",
      "i am bored out of my min                  document  n_tokens  n_i  sentiment\n",
      "0  i am bored out of my mi         7    1       -0.5\n",
      "\n",
      "i am bored out of my mind\n",
      "Generating features\n",
      "                   document  n_tokens  n_i  sentiment\n",
      "0  i am bored out of my min         7    1       -0.5\n",
      "Generating features\n",
      "                    document  n_tokens  n_i  sentiment\n",
      "0  i am bored out of my mind         7    1       -0.5"
     ]
    },
    {
     "name": "stderr",
     "output_type": "stream",
     "text": [
      "127.0.0.1 - - [18/May/2022 17:13:30] \"\u001b[37mPOST /_dash-update-component HTTP/1.1\u001b[0m\" 200 -\n",
      "127.0.0.1 - - [18/May/2022 17:13:30] \"\u001b[37mPOST /_dash-update-component HTTP/1.1\u001b[0m\" 200 -\n",
      "127.0.0.1 - - [18/May/2022 17:13:30] \"\u001b[37mPOST /_dash-update-component HTTP/1.1\u001b[0m\" 200 -\n"
     ]
    },
    {
     "name": "stdout",
     "output_type": "stream",
     "text": [
      "\n"
     ]
    },
    {
     "name": "stderr",
     "output_type": "stream",
     "text": [
      "127.0.0.1 - - [18/May/2022 17:13:32] \"\u001b[37mPOST /_dash-update-component HTTP/1.1\u001b[0m\" 200 -\n"
     ]
    },
    {
     "name": "stdout",
     "output_type": "stream",
     "text": [
      "i am bored out of my min\n",
      "Generating features\n",
      "                   document  n_tokens  n_i  sentiment\n",
      "0  i am bored out of my min         7    1       -0.5\n",
      "i am bored out of my mi\n",
      "i am bored out of my m\n",
      "Generating features\n",
      "i am bored out of my Generating features\n",
      "\n",
      "i am bored out of my"
     ]
    },
    {
     "name": "stderr",
     "output_type": "stream",
     "text": [
      "127.0.0.1 - - [18/May/2022 17:13:33] \"\u001b[37mPOST /_dash-update-component HTTP/1.1\u001b[0m\" 200 -\n"
     ]
    },
    {
     "name": "stdout",
     "output_type": "stream",
     "text": [
      "                 document  n_tokens  n_i  sentiment\n",
      "0  i am bored out of my m         7    1       -0.5\n",
      "\n",
      "Generating featuresi am bored out of m\n",
      "\n",
      "                  document  n_tokens  n_i  sentiment\n",
      "0  i am bored out of my mi         7    1       -0.5i am bored out of \n",
      "\n",
      "Generating features\n",
      "Generating featuresGenerating features                document  n_tokens  n_i  sentiment\n",
      "0  i am bored out of my          6    1       -0.5\n",
      "\n",
      "\n",
      "               document  n_tokens  n_i  sentiment\n",
      "0  i am bored out of my         6    1       -0.5\n",
      "             document  n_tokens  n_i  sentiment\n",
      "0  i am bored out of          5    1       -0.5\n"
     ]
    },
    {
     "name": "stderr",
     "output_type": "stream",
     "text": [
      "127.0.0.1 - - [18/May/2022 17:13:33] \"\u001b[37mPOST /_dash-update-component HTTP/1.1\u001b[0m\" 200 -\n",
      "127.0.0.1 - - [18/May/2022 17:13:33] \"\u001b[37mPOST /_dash-update-component HTTP/1.1\u001b[0m\" 200 -\n",
      "127.0.0.1 - - [18/May/2022 17:13:33] \"\u001b[37mPOST /_dash-update-component HTTP/1.1\u001b[0m\" 200 -\n"
     ]
    },
    {
     "name": "stdout",
     "output_type": "stream",
     "text": [
      "              document  n_tokens  n_i  sentiment\n",
      "0  i am bored out of m         6    1       -0.5\n",
      "i am bored out of\n",
      "i am bored out o\n",
      "Generating featuresi am bored out "
     ]
    },
    {
     "name": "stderr",
     "output_type": "stream",
     "text": [
      "127.0.0.1 - - [18/May/2022 17:13:33] \"\u001b[37mPOST /_dash-update-component HTTP/1.1\u001b[0m\" 200 -\n",
      "127.0.0.1 - - [18/May/2022 17:13:33] \"\u001b[37mPOST /_dash-update-component HTTP/1.1\u001b[0m\" 200 -\n"
     ]
    },
    {
     "name": "stdout",
     "output_type": "stream",
     "text": [
      "Generating features\n",
      "\n",
      "\n",
      "i am bored outGenerating features           document  n_tokens  n_i  sentiment\n",
      "0  i am bored out o         5    1       -0.5\n",
      "\n",
      "\n",
      "            document  n_tokens  n_i  sentiment\n",
      "0  i am bored out of         5    1       -0.5\n",
      "          document  n_tokens  n_i  sentiment\n",
      "0  i am bored out          4    1       -0.5\n",
      "Generating features\n",
      "i am bored ou         document  n_tokens  n_i  sentiment\n",
      "0  i am bored out         4    1       -0.5\n",
      "\n"
     ]
    },
    {
     "name": "stderr",
     "output_type": "stream",
     "text": [
      "127.0.0.1 - - [18/May/2022 17:13:34] \"\u001b[37mPOST /_dash-update-component HTTP/1.1\u001b[0m\" 200 -\n",
      "127.0.0.1 - - [18/May/2022 17:13:34] \"\u001b[37mPOST /_dash-update-component HTTP/1.1\u001b[0m\" 200 -\n",
      "127.0.0.1 - - [18/May/2022 17:13:34] \"\u001b[37mPOST /_dash-update-component HTTP/1.1\u001b[0m\" 200 -\n",
      "127.0.0.1 - - [18/May/2022 17:13:34] \"\u001b[37mPOST /_dash-update-component HTTP/1.1\u001b[0m\" 200 -\n",
      "127.0.0.1 - - [18/May/2022 17:13:34] \"\u001b[37mPOST /_dash-update-component HTTP/1.1\u001b[0m\" 200 -\n",
      "127.0.0.1 - - [18/May/2022 17:13:34] \"\u001b[37mPOST /_dash-update-component HTTP/1.1\u001b[0m\" 200 -\n"
     ]
    },
    {
     "name": "stdout",
     "output_type": "stream",
     "text": [
      "i am bored o\n",
      "Generating features\n",
      "Generating features\n",
      "        document  n_tokens  n_i  sentiment\n",
      "0  i am bored ou         4    1       -0.5\n",
      "       document  n_tokens  n_i  sentiment\n",
      "0  i am bored o         4    1       -0.5\n",
      "i am boredi am bored \n",
      "\n",
      "i am bore\n",
      "Generating featuresi am bor\n",
      "Generating features\n",
      "\n",
      "Generating featuresi am bo\n",
      "\n",
      "      document  n_tokens  n_i  sentiment\n",
      "0  i am bored          3    1       -0.5\n"
     ]
    },
    {
     "name": "stderr",
     "output_type": "stream",
     "text": [
      "127.0.0.1 - - [18/May/2022 17:13:34] \"\u001b[37mPOST /_dash-update-component HTTP/1.1\u001b[0m\" 200 -\n",
      "127.0.0.1 - - [18/May/2022 17:13:34] \"\u001b[37mPOST /_dash-update-component HTTP/1.1\u001b[0m\" 200 -\n"
     ]
    },
    {
     "name": "stdout",
     "output_type": "stream",
     "text": [
      "i am b     document  n_tokens  n_i  sentiment\n",
      "0  i am bored         3    1       -0.5\n",
      "    document  n_tokens  n_i  sentiment\n",
      "0  i am bore         3    1        0.0\n",
      "\n",
      "Generating features\n",
      "Generating features  document  n_tokens  n_i  sentiment\n",
      "0  i am bo         3    1        0.0\n",
      "Generating features\n",
      "\n",
      "   document  n_tokens  n_i  sentiment\n",
      "0  i am bor         3    1        0.0\n",
      "  document  n_tokens  n_i  sentiment\n",
      "0   i am b         3    1        0.0\n"
     ]
    },
    {
     "name": "stderr",
     "output_type": "stream",
     "text": [
      "127.0.0.1 - - [18/May/2022 17:13:34] \"\u001b[37mPOST /_dash-update-component HTTP/1.1\u001b[0m\" 200 -\n",
      "127.0.0.1 - - [18/May/2022 17:13:34] \"\u001b[37mPOST /_dash-update-component HTTP/1.1\u001b[0m\" 200 -\n",
      "127.0.0.1 - - [18/May/2022 17:13:34] \"\u001b[37mPOST /_dash-update-component HTTP/1.1\u001b[0m\" 200 -\n",
      "127.0.0.1 - - [18/May/2022 17:13:34] \"\u001b[37mPOST /_dash-update-component HTTP/1.1\u001b[0m\" 200 -\n",
      "127.0.0.1 - - [18/May/2022 17:13:35] \"\u001b[37mPOST /_dash-update-component HTTP/1.1\u001b[0m\" 200 -\n"
     ]
    },
    {
     "name": "stdout",
     "output_type": "stream",
     "text": [
      "i am \n",
      "Generating features\n",
      "  document  n_tokens  n_i  sentiment\n",
      "0    i am          2    1        0.0\n"
     ]
    },
    {
     "name": "stderr",
     "output_type": "stream",
     "text": [
      "127.0.0.1 - - [18/May/2022 17:13:35] \"\u001b[37mPOST /_dash-update-component HTTP/1.1\u001b[0m\" 200 -\n",
      "127.0.0.1 - - [18/May/2022 17:13:35] \"\u001b[37mPOST /_dash-update-component HTTP/1.1\u001b[0m\" 200 -\n"
     ]
    },
    {
     "name": "stdout",
     "output_type": "stream",
     "text": [
      "i am t\n",
      "Generating features\n",
      "i am th  document  n_tokens  n_i  sentiment\n",
      "0   i am t         3    1        0.0\n",
      "\n",
      "Generating features\n",
      "  document  n_tokens  n_i  sentiment\n",
      "0  i am th         3    1        0.0\n",
      "i am thr\n",
      "Generating features\n",
      "i am thri   document  n_tokens  n_i  sentiment\n",
      "0  i am thr         3    1        0.0\n",
      "\n",
      "i am thril\n"
     ]
    },
    {
     "name": "stderr",
     "output_type": "stream",
     "text": [
      "127.0.0.1 - - [18/May/2022 17:13:35] \"\u001b[37mPOST /_dash-update-component HTTP/1.1\u001b[0m\" 200 -\n"
     ]
    },
    {
     "name": "stdout",
     "output_type": "stream",
     "text": [
      "i am thrill\n",
      "Generating featuresGenerating features\n",
      "\n",
      "i am thrille    document  n_tokens  n_i  sentiment\n",
      "0  i am thri         3    1        0.0\n",
      "Generating features\n",
      "\n",
      "     document  n_tokens  n_i  sentiment\n",
      "0  i am thril         3    1        0.0i am thrilled\n",
      "\n"
     ]
    },
    {
     "name": "stderr",
     "output_type": "stream",
     "text": [
      "127.0.0.1 - - [18/May/2022 17:13:36] \"\u001b[37mPOST /_dash-update-component HTTP/1.1\u001b[0m\" 200 -\n",
      "127.0.0.1 - - [18/May/2022 17:13:36] \"\u001b[37mPOST /_dash-update-component HTTP/1.1\u001b[0m\" 200 -\n",
      "127.0.0.1 - - [18/May/2022 17:13:36] \"\u001b[37mPOST /_dash-update-component HTTP/1.1\u001b[0m\" 200 -\n",
      "127.0.0.1 - - [18/May/2022 17:13:36] \"\u001b[37mPOST /_dash-update-component HTTP/1.1\u001b[0m\" 200 -\n",
      "127.0.0.1 - - [18/May/2022 17:13:36] \"\u001b[37mPOST /_dash-update-component HTTP/1.1\u001b[0m\" 200 -\n"
     ]
    },
    {
     "name": "stdout",
     "output_type": "stream",
     "text": [
      "      document  n_tokens  n_i  sentiment\n",
      "0  i am thrill         3    1        0.0\n",
      "Generating featuresGenerating features\n",
      "\n",
      "        document  n_tokens  n_i  sentiment\n",
      "0  i am thrilled         3    1        0.6\n",
      "       document  n_tokens  n_i  sentiment\n",
      "0  i am thrille         3    1        0.0\n"
     ]
    },
    {
     "name": "stderr",
     "output_type": "stream",
     "text": [
      "127.0.0.1 - - [18/May/2022 17:13:36] \"\u001b[37mPOST /_dash-update-component HTTP/1.1\u001b[0m\" 200 -\n"
     ]
    },
    {
     "name": "stdout",
     "output_type": "stream",
     "text": [
      "i am thrilled!\n",
      "Generating features\n",
      "         document  n_tokens  n_i  sentiment\n",
      "0  i am thrilled!         3    1       0.75\n"
     ]
    },
    {
     "name": "stderr",
     "output_type": "stream",
     "text": [
      "127.0.0.1 - - [18/May/2022 17:13:37] \"\u001b[37mPOST /_dash-update-component HTTP/1.1\u001b[0m\" 200 -\n"
     ]
    },
    {
     "name": "stdout",
     "output_type": "stream",
     "text": [
      "i am thrilled\n",
      "Generating features\n",
      "        document  n_tokens  n_i  sentiment\n",
      "0  i am thrilled         3    1        0.6\n",
      "i am thrille\n",
      "i am thrill\n",
      "i am thrilGenerating featuresGenerating features\n",
      "\n",
      "\n",
      "       document  n_tokens  n_i  sentiment\n",
      "0  i am thrille         3    1        0.0i am thrii am thr\n",
      "\n",
      "\n",
      "      document  n_tokens  n_i  sentiment\n",
      "0  i am thrill         3    1        0.0\n",
      "Generating features\n",
      "i am thGenerating features\n",
      "\n"
     ]
    },
    {
     "name": "stderr",
     "output_type": "stream",
     "text": [
      "127.0.0.1 - - [18/May/2022 17:13:38] \"\u001b[37mPOST /_dash-update-component HTTP/1.1\u001b[0m\" 200 -\n",
      "127.0.0.1 - - [18/May/2022 17:13:38] \"\u001b[37mPOST /_dash-update-component HTTP/1.1\u001b[0m\" 200 -\n",
      "127.0.0.1 - - [18/May/2022 17:13:38] \"\u001b[37mPOST /_dash-update-component HTTP/1.1\u001b[0m\" 200 -\n",
      "127.0.0.1 - - [18/May/2022 17:13:38] \"\u001b[37mPOST /_dash-update-component HTTP/1.1\u001b[0m\" 200 -\n"
     ]
    },
    {
     "name": "stdout",
     "output_type": "stream",
     "text": [
      "   document  n_tokens  n_i  sentiment\n",
      "0  i am thr         3    1        0.0\n",
      "     document  n_tokens  n_i  sentiment\n",
      "0  i am thril         3    1        0.0\n",
      "Generating features\n",
      "Generating features\n",
      "  document  n_tokens  n_i  sentiment\n",
      "0  i am th         3    1        0.0\n",
      "    document  n_tokens  n_i  sentiment\n",
      "0  i am thri         3    1        0.0\n",
      "i am t\n"
     ]
    },
    {
     "name": "stderr",
     "output_type": "stream",
     "text": [
      "127.0.0.1 - - [18/May/2022 17:13:38] \"\u001b[37mPOST /_dash-update-component HTTP/1.1\u001b[0m\" 200 -\n",
      "127.0.0.1 - - [18/May/2022 17:13:38] \"\u001b[37mPOST /_dash-update-component HTTP/1.1\u001b[0m\" 200 -\n"
     ]
    },
    {
     "name": "stdout",
     "output_type": "stream",
     "text": [
      "i am \n",
      "i am\n",
      "Generating features\n",
      "i a\n",
      "  document  n_tokens  n_i  sentiment\n",
      "0   i am t         3    1        0.0\n",
      "Generating featuresGenerating features\n",
      "\n",
      "i Generating features\n",
      "  document  n_tokens  n_i  sentiment\n",
      "0     i am         2    1        0.0"
     ]
    },
    {
     "name": "stderr",
     "output_type": "stream",
     "text": [
      "127.0.0.1 - - [18/May/2022 17:13:38] \"\u001b[37mPOST /_dash-update-component HTTP/1.1\u001b[0m\" 200 -\n",
      "127.0.0.1 - - [18/May/2022 17:13:39] \"\u001b[37mPOST /_dash-update-component HTTP/1.1\u001b[0m\" 200 -\n",
      "127.0.0.1 - - [18/May/2022 17:13:39] \"\u001b[37mPOST /_dash-update-component HTTP/1.1\u001b[0m\" 200 -\n",
      "127.0.0.1 - - [18/May/2022 17:13:39] \"\u001b[37mPOST /_dash-update-component HTTP/1.1\u001b[0m\" 200 -\n",
      "127.0.0.1 - - [18/May/2022 17:13:39] \"\u001b[37mPOST /_dash-update-component HTTP/1.1\u001b[0m\" 200 -\n"
     ]
    },
    {
     "name": "stdout",
     "output_type": "stream",
     "text": [
      "\n",
      "\n",
      "  document  n_tokens  n_i  sentiment\n",
      "0    i am          2    1        0.0\n",
      "Generating features  document  n_tokens  n_i  sentiment\n",
      "0      i a         2    1        0.0\n",
      "\n",
      "  document  n_tokens  n_i  sentiment\n",
      "0       i          1    1        0.0\n"
     ]
    },
    {
     "name": "stderr",
     "output_type": "stream",
     "text": [
      "127.0.0.1 - - [18/May/2022 17:13:41] \"\u001b[37mPOST /_dash-update-component HTTP/1.1\u001b[0m\" 200 -\n",
      "127.0.0.1 - - [18/May/2022 17:13:41] \"\u001b[37mPOST /_dash-update-component HTTP/1.1\u001b[0m\" 200 -\n"
     ]
    },
    {
     "name": "stdout",
     "output_type": "stream",
     "text": [
      "i a\n",
      "Generating features\n",
      "  document  n_tokens  n_i  sentiment\n",
      "0      i a         2    1        0.0\n",
      "i am\n",
      "Generating features\n",
      "  document  n_tokens  n_i  sentiment\n",
      "0     i am         2    1        0.0\n",
      "i am "
     ]
    },
    {
     "name": "stderr",
     "output_type": "stream",
     "text": [
      "127.0.0.1 - - [18/May/2022 17:13:41] \"\u001b[37mPOST /_dash-update-component HTTP/1.1\u001b[0m\" 200 -\n"
     ]
    },
    {
     "name": "stdout",
     "output_type": "stream",
     "text": [
      "\n",
      "Generating features\n",
      "  document  n_tokens  n_i  sentiment\n",
      "0    i am          2    1        0.0\n"
     ]
    },
    {
     "name": "stderr",
     "output_type": "stream",
     "text": [
      "127.0.0.1 - - [18/May/2022 17:13:41] \"\u001b[37mPOST /_dash-update-component HTTP/1.1\u001b[0m\" 200 -\n"
     ]
    },
    {
     "name": "stdout",
     "output_type": "stream",
     "text": [
      "i am s\n",
      "Generating features\n",
      "  document  n_tokens  n_i  sentiment\n",
      "0   i am s         3    1        0.0\n",
      "i am sp\n",
      "Generating features\n"
     ]
    },
    {
     "name": "stderr",
     "output_type": "stream",
     "text": [
      "127.0.0.1 - - [18/May/2022 17:13:41] \"\u001b[37mPOST /_dash-update-component HTTP/1.1\u001b[0m\" 200 -\n"
     ]
    },
    {
     "name": "stdout",
     "output_type": "stream",
     "text": [
      "  document  n_tokens  n_i  sentiment\n",
      "0  i am sp         3    1        0.0\n"
     ]
    },
    {
     "name": "stderr",
     "output_type": "stream",
     "text": [
      "127.0.0.1 - - [18/May/2022 17:13:42] \"\u001b[37mPOST /_dash-update-component HTTP/1.1\u001b[0m\" 200 -\n"
     ]
    },
    {
     "name": "stdout",
     "output_type": "stream",
     "text": [
      "i am s\n",
      "Generating features\n",
      "  document  n_tokens  n_i  sentiment\n",
      "0   i am s         3    1        0.0\n"
     ]
    },
    {
     "name": "stderr",
     "output_type": "stream",
     "text": [
      "127.0.0.1 - - [18/May/2022 17:13:42] \"\u001b[37mPOST /_dash-update-component HTTP/1.1\u001b[0m\" 200 -\n"
     ]
    },
    {
     "name": "stdout",
     "output_type": "stream",
     "text": [
      "i am so\n",
      "Generating features\n",
      "  document  n_tokens  n_i  sentiment\n",
      "0  i am so         3    1        0.0\n",
      "i am so \n",
      "Generating features\n",
      "   document  n_tokens  n_i  sentiment\n",
      "0  i am so          3    1        0.0\n"
     ]
    },
    {
     "name": "stderr",
     "output_type": "stream",
     "text": [
      "127.0.0.1 - - [18/May/2022 17:13:42] \"\u001b[37mPOST /_dash-update-component HTTP/1.1\u001b[0m\" 200 -\n",
      "127.0.0.1 - - [18/May/2022 17:13:42] \"\u001b[37mPOST /_dash-update-component HTTP/1.1\u001b[0m\" 200 -\n"
     ]
    },
    {
     "name": "stdout",
     "output_type": "stream",
     "text": [
      "i am so u\n",
      "Generating features\n",
      "i am so up    document  n_tokens  n_i  sentiment\n",
      "0  i am so u         4    1        0.0\n",
      "\n",
      "i am so upsGenerating features\n",
      "\n",
      "     document  n_tokens  n_i  sentiment\n",
      "0  i am so up         4    1        0.0\n",
      "Generating features"
     ]
    },
    {
     "name": "stderr",
     "output_type": "stream",
     "text": [
      "127.0.0.1 - - [18/May/2022 17:13:42] \"\u001b[37mPOST /_dash-update-component HTTP/1.1\u001b[0m\" 200 -\n",
      "127.0.0.1 - - [18/May/2022 17:13:43] \"\u001b[37mPOST /_dash-update-component HTTP/1.1\u001b[0m\" 200 -\n",
      "127.0.0.1 - - [18/May/2022 17:13:43] \"\u001b[37mPOST /_dash-update-component HTTP/1.1\u001b[0m\" 200 -\n",
      "127.0.0.1 - - [18/May/2022 17:13:43] \"\u001b[37mPOST /_dash-update-component HTTP/1.1\u001b[0m\" 200 -\n"
     ]
    },
    {
     "name": "stdout",
     "output_type": "stream",
     "text": [
      "\n",
      "i am so upse      document  n_tokens  n_i  sentiment\n",
      "0  i am so ups         4    1        0.0\n",
      "\n",
      "i am so upset\n",
      "Generating features\n",
      "       document  n_tokens  n_i  sentiment\n",
      "0  i am so upse         4    1        0.0\n",
      "Generating features\n",
      "        document  n_tokens  n_i  sentiment\n",
      "0  i am so upset         4    1        0.0\n"
     ]
    },
    {
     "name": "stderr",
     "output_type": "stream",
     "text": [
      "127.0.0.1 - - [18/May/2022 17:13:46] \"\u001b[37mPOST /_dash-update-component HTTP/1.1\u001b[0m\" 200 -\n"
     ]
    },
    {
     "name": "stdout",
     "output_type": "stream",
     "text": [
      "i am so upset \n",
      "Generating features\n",
      "         document  n_tokens  n_i  sentiment\n",
      "0  i am so upset          4    1        0.0\n",
      "i am so upset r\n",
      "Generating features"
     ]
    },
    {
     "name": "stderr",
     "output_type": "stream",
     "text": [
      "127.0.0.1 - - [18/May/2022 17:13:46] \"\u001b[37mPOST /_dash-update-component HTTP/1.1\u001b[0m\" 200 -\n"
     ]
    },
    {
     "name": "stdout",
     "output_type": "stream",
     "text": [
      "\n",
      "          document  n_tokens  n_i  sentiment\n",
      "0  i am so upset r         5    1        0.0\n",
      "i am so upset re\n",
      "i am so upset rea\n",
      "Generating features\n",
      "i am so upset real\n"
     ]
    },
    {
     "name": "stderr",
     "output_type": "stream",
     "text": [
      "127.0.0.1 - - [18/May/2022 17:13:46] \"\u001b[37mPOST /_dash-update-component HTTP/1.1\u001b[0m\" 200 -\n",
      "127.0.0.1 - - [18/May/2022 17:13:46] \"\u001b[37mPOST /_dash-update-component HTTP/1.1\u001b[0m\" 200 -\n",
      "127.0.0.1 - - [18/May/2022 17:13:46] \"\u001b[37mPOST /_dash-update-component HTTP/1.1\u001b[0m\" 200 -\n"
     ]
    },
    {
     "name": "stdout",
     "output_type": "stream",
     "text": [
      "           document  n_tokens  n_i  sentiment\n",
      "0  i am so upset re         5    1        0.0Generating features\n",
      "\n",
      "i am so upset reall\n",
      "Generating features            document  n_tokens  n_i  sentiment\n",
      "0  i am so upset rea         5    1        0.0\n",
      "\n",
      "             document  n_tokens  n_i  sentiment\n",
      "0  i am so upset real         5    1        0.2\n",
      "Generating features\n",
      "              document  n_tokens  n_i  sentiment\n",
      "0  i am so upset reall         5    1        0.0\n",
      "i am so upset really\n"
     ]
    },
    {
     "name": "stderr",
     "output_type": "stream",
     "text": [
      "127.0.0.1 - - [18/May/2022 17:13:46] \"\u001b[37mPOST /_dash-update-component HTTP/1.1\u001b[0m\" 200 -\n",
      "127.0.0.1 - - [18/May/2022 17:13:46] \"\u001b[37mPOST /_dash-update-component HTTP/1.1\u001b[0m\" 200 -\n"
     ]
    },
    {
     "name": "stdout",
     "output_type": "stream",
     "text": [
      "Generating features\n",
      "               document  n_tokens  n_i  sentiment\n",
      "0  i am so upset really         5    1        0.2\n"
     ]
    },
    {
     "name": "stderr",
     "output_type": "stream",
     "text": [
      "127.0.0.1 - - [18/May/2022 17:13:48] \"\u001b[37mPOST /_dash-update-component HTTP/1.1\u001b[0m\" 200 -\n"
     ]
    },
    {
     "name": "stdout",
     "output_type": "stream",
     "text": [
      "i am so upset really \n",
      "Generating features\n",
      "                document  n_tokens  n_i  sentiment\n",
      "0  i am so upset really          5    1        0.2\n"
     ]
    },
    {
     "name": "stderr",
     "output_type": "stream",
     "text": [
      "127.0.0.1 - - [18/May/2022 17:13:48] \"\u001b[37mPOST /_dash-update-component HTTP/1.1\u001b[0m\" 200 -\n"
     ]
    },
    {
     "name": "stdout",
     "output_type": "stream",
     "text": [
      "i am so upset really v\n",
      "Generating features\n",
      "                 document  n_tokens  n_i  sentiment\n",
      "0  i am so upset really v         6    1        0.2\n",
      "i am so upset really ve\n",
      "Generating features"
     ]
    },
    {
     "name": "stderr",
     "output_type": "stream",
     "text": [
      "127.0.0.1 - - [18/May/2022 17:13:48] \"\u001b[37mPOST /_dash-update-component HTTP/1.1\u001b[0m\" 200 -\n",
      "127.0.0.1 - - [18/May/2022 17:13:48] \"\u001b[37mPOST /_dash-update-component HTTP/1.1\u001b[0m\" 200 -\n"
     ]
    },
    {
     "name": "stdout",
     "output_type": "stream",
     "text": [
      "\n",
      "                  document  n_tokens  n_i  sentiment\n",
      "0  i am so upset really ve         6    1        0.2\n",
      "i am so upset really ver\n",
      "Generating features\n",
      "                   document  n_tokens  n_i  sentiment\n",
      "0  i am so upset really ver         6    1        0.2\n",
      "i am so upset really very\n",
      "Generating features\n",
      "                    document  n_tokens  n_i  sentiment\n",
      "0  i am so upset really very         6    1        0.2"
     ]
    },
    {
     "name": "stderr",
     "output_type": "stream",
     "text": [
      "127.0.0.1 - - [18/May/2022 17:13:48] \"\u001b[37mPOST /_dash-update-component HTTP/1.1\u001b[0m\" 200 -\n"
     ]
    },
    {
     "name": "stdout",
     "output_type": "stream",
     "text": [
      "\n"
     ]
    },
    {
     "name": "stderr",
     "output_type": "stream",
     "text": [
      "127.0.0.1 - - [18/May/2022 17:13:50] \"\u001b[37mPOST /_dash-update-component HTTP/1.1\u001b[0m\" 200 -\n"
     ]
    },
    {
     "name": "stdout",
     "output_type": "stream",
     "text": [
      "i am so upset really very \n",
      "Generating features\n",
      "                     document  n_tokens  n_i  sentiment\n",
      "0  i am so upset really very          6    1        0.2\n"
     ]
    },
    {
     "name": "stderr",
     "output_type": "stream",
     "text": [
      "127.0.0.1 - - [18/May/2022 17:13:50] \"\u001b[37mPOST /_dash-update-component HTTP/1.1\u001b[0m\" 200 -\n",
      "127.0.0.1 - - [18/May/2022 17:13:50] \"\u001b[37mPOST /_dash-update-component HTTP/1.1\u001b[0m\" 200 -\n"
     ]
    },
    {
     "name": "stdout",
     "output_type": "stream",
     "text": [
      "i am so upset really very m\n",
      "Generating features\n",
      "                      document  n_tokens  n_i  sentiment\n",
      "0  i am so upset really very m         7    1        0.2\n",
      "i am so upset really very ma\n",
      "Generating features\n",
      "                       document  n_tokens  n_i  sentiment\n",
      "0  i am so upset really very ma         7    1        0.2\n"
     ]
    },
    {
     "name": "stderr",
     "output_type": "stream",
     "text": [
      "127.0.0.1 - - [18/May/2022 17:13:50] \"\u001b[37mPOST /_dash-update-component HTTP/1.1\u001b[0m\" 200 -\n"
     ]
    },
    {
     "name": "stdout",
     "output_type": "stream",
     "text": [
      "i am so upset really very mad\n",
      "Generating features\n",
      "                        document  n_tokens  n_i  sentiment\n",
      "0  i am so upset really very mad         7    1    -0.8125\n"
     ]
    },
    {
     "name": "stderr",
     "output_type": "stream",
     "text": [
      "127.0.0.1 - - [18/May/2022 17:13:52] \"\u001b[37mPOST /_dash-update-component HTTP/1.1\u001b[0m\" 200 -\n"
     ]
    },
    {
     "name": "stdout",
     "output_type": "stream",
     "text": [
      "i am so upset really very ma\n",
      "Generating features\n",
      "                       document  n_tokens  n_i  sentiment\n",
      "0  i am so upset really very ma         7    1        0.2\n",
      "i am so upset really very m\n",
      "i am so upset really very \n",
      "i am so upset really very\n",
      "Generating features\n",
      "i am so upset really ver\n",
      "Generating features\n"
     ]
    },
    {
     "name": "stderr",
     "output_type": "stream",
     "text": [
      "127.0.0.1 - - [18/May/2022 17:13:53] \"\u001b[37mPOST /_dash-update-component HTTP/1.1\u001b[0m\" 200 -\n",
      "127.0.0.1 - - [18/May/2022 17:13:53] \"\u001b[37mPOST /_dash-update-component HTTP/1.1\u001b[0m\" 200 -\n"
     ]
    },
    {
     "name": "stdout",
     "output_type": "stream",
     "text": [
      "i am so upset really ve                      document  n_tokens  n_i  sentiment\n",
      "0  i am so upset really very m         7    1        0.2Generating features\n",
      "\n",
      "\n",
      "Generating features\n",
      "                    document  n_tokens  n_i  sentiment\n",
      "0  i am so upset really very         6    1        0.2i am so upset really v\n",
      "\n",
      "                     document  n_tokens  n_i  sentiment\n",
      "0  i am so upset really very          6    1        0.2\n",
      "                   document  n_tokens  n_i  sentiment\n",
      "0  i am so upset really ver         6    1        0.2Generating features\n",
      "\n",
      "Generating features\n",
      "                 document  n_tokens  n_i  sentiment\n",
      "0  i am so upset really v         6    1        0.2\n",
      "                  document  n_tokens  n_i  sentiment\n",
      "0  i am so upset really ve         6    1        0.2\n"
     ]
    },
    {
     "name": "stderr",
     "output_type": "stream",
     "text": [
      "127.0.0.1 - - [18/May/2022 17:13:53] \"\u001b[37mPOST /_dash-update-component HTTP/1.1\u001b[0m\" 200 -\n",
      "127.0.0.1 - - [18/May/2022 17:13:53] \"\u001b[37mPOST /_dash-update-component HTTP/1.1\u001b[0m\" 200 -\n",
      "127.0.0.1 - - [18/May/2022 17:13:53] \"\u001b[37mPOST /_dash-update-component HTTP/1.1\u001b[0m\" 200 -\n",
      "127.0.0.1 - - [18/May/2022 17:13:53] \"\u001b[37mPOST /_dash-update-component HTTP/1.1\u001b[0m\" 200 -\n"
     ]
    },
    {
     "name": "stdout",
     "output_type": "stream",
     "text": [
      "i am so upset reai am so upset really i am so upset realli am so upset really\n",
      "\n",
      "\n",
      "i am so upset reali am so upset re\n",
      "\n",
      "\n",
      "Generating featuresGenerating features\n",
      "Generating features\n",
      "\n",
      "            document  n_tokens  n_i  sentiment\n",
      "0  i am so upset rea         5    1        0.0Generating features                document  n_tokens  n_i  sentiment\n",
      "0  i am so upset really          5    1        0.2\n",
      "\n",
      "Generating features"
     ]
    },
    {
     "name": "stderr",
     "output_type": "stream",
     "text": [
      "127.0.0.1 - - [18/May/2022 17:13:53] \"\u001b[37mPOST /_dash-update-component HTTP/1.1\u001b[0m\" 200 -\n",
      "127.0.0.1 - - [18/May/2022 17:13:53] \"\u001b[37mPOST /_dash-update-component HTTP/1.1\u001b[0m\" 200 -\n",
      "127.0.0.1 - - [18/May/2022 17:13:53] \"\u001b[37mPOST /_dash-update-component HTTP/1.1\u001b[0m\" 200 -\n",
      "127.0.0.1 - - [18/May/2022 17:13:53] \"\u001b[37mPOST /_dash-update-component HTTP/1.1\u001b[0m\" 200 -\n",
      "127.0.0.1 - - [18/May/2022 17:13:53] \"\u001b[37mPOST /_dash-update-component HTTP/1.1\u001b[0m\" 200 -\n",
      "127.0.0.1 - - [18/May/2022 17:13:53] \"\u001b[37mPOST /_dash-update-component HTTP/1.1\u001b[0m\" 200 -\n"
     ]
    },
    {
     "name": "stdout",
     "output_type": "stream",
     "text": [
      "Generating features\n",
      "               document  n_tokens  n_i  sentiment\n",
      "0  i am so upset really         5    1        0.2\n",
      "\n",
      "\n",
      "             document  n_tokens  n_i  sentiment\n",
      "0  i am so upset real         5    1        0.2\n",
      "           document  n_tokens  n_i  sentiment\n",
      "0  i am so upset re         5    1        0.0\n",
      "              document  n_tokens  n_i  sentiment\n",
      "0  i am so upset reall         5    1        0.0\n",
      "i am so upseti am so upset i am so upset r\n",
      "\n",
      "i am so upse\n",
      "\n",
      "i am so ups\n",
      "i am so upGenerating features\n",
      "\n",
      "Generating features\n",
      "       document  n_tokens  n_i  sentiment\n",
      "0  i am so upse         4    1        0.0Generating featuresGenerating features\n",
      "\n",
      "\n"
     ]
    },
    {
     "name": "stderr",
     "output_type": "stream",
     "text": [
      "127.0.0.1 - - [18/May/2022 17:13:54] \"\u001b[37mPOST /_dash-update-component HTTP/1.1\u001b[0m\" 200 -\n",
      "127.0.0.1 - - [18/May/2022 17:13:54] \"\u001b[37mPOST /_dash-update-component HTTP/1.1\u001b[0m\" 200 -\n",
      "127.0.0.1 - - [18/May/2022 17:13:54] \"\u001b[37mPOST /_dash-update-component HTTP/1.1\u001b[0m\" 200 -\n",
      "127.0.0.1 - - [18/May/2022 17:13:54] \"\u001b[37mPOST /_dash-update-component HTTP/1.1\u001b[0m\" 200 -\n",
      "127.0.0.1 - - [18/May/2022 17:13:54] \"\u001b[37mPOST /_dash-update-component HTTP/1.1\u001b[0m\" 200 -\n",
      "127.0.0.1 - - [18/May/2022 17:13:54] \"\u001b[37mPOST /_dash-update-component HTTP/1.1\u001b[0m\" 200 -\n"
     ]
    },
    {
     "name": "stdout",
     "output_type": "stream",
     "text": [
      "Generating features         document  n_tokens  n_i  sentiment\n",
      "0  i am so upset          4    1        0.0\n",
      "\n",
      "Generating features\n",
      "          document  n_tokens  n_i  sentiment\n",
      "0  i am so upset r         5    1        0.0\n",
      "        document  n_tokens  n_i  sentiment\n",
      "0  i am so upset         4    1        0.0      document  n_tokens  n_i  sentiment\n",
      "0  i am so ups         4    1        0.0\n",
      "\n",
      "     document  n_tokens  n_i  sentiment\n",
      "0  i am so up         4    1        0.0\n",
      "i am so ui am si am soi am i ami am so \n",
      "\n",
      "\n",
      "\n",
      "\n",
      "\n",
      "Generating features\n",
      "Generating featuresGenerating features\n",
      "\n",
      "    document  n_tokens  n_i  sentiment\n",
      "0  i am so u         4    1        0.0  document  n_tokens  n_i  sentiment\n",
      "0    i am          2    1        0.0\n",
      "Generating features\n",
      "\n",
      "  document  n_tokens  n_i  sentiment\n",
      "0   i am s         3    1        0.0Generating featuresGenerating features\n",
      "   document  n_tokens  n_i  sentiment\n",
      "0  i am so          3    1        0.0\n",
      "\n",
      "\n",
      "  document  n_tokens  n_i  sentiment\n",
      "0  i am so         3    1        0.0  document  n_tokens  n_i  sentiment\n",
      "0     i am         2    1        0.0"
     ]
    },
    {
     "name": "stderr",
     "output_type": "stream",
     "text": [
      "127.0.0.1 - - [18/May/2022 17:13:55] \"\u001b[37mPOST /_dash-update-component HTTP/1.1\u001b[0m\" 200 -\n",
      "127.0.0.1 - - [18/May/2022 17:13:55] \"\u001b[37mPOST /_dash-update-component HTTP/1.1\u001b[0m\" 200 -\n",
      "127.0.0.1 - - [18/May/2022 17:13:55] \"\u001b[37mPOST /_dash-update-component HTTP/1.1\u001b[0m\" 200 -\n",
      "127.0.0.1 - - [18/May/2022 17:13:55] \"\u001b[37mPOST /_dash-update-component HTTP/1.1\u001b[0m\" 200 -\n",
      "127.0.0.1 - - [18/May/2022 17:13:55] \"\u001b[37mPOST /_dash-update-component HTTP/1.1\u001b[0m\" 200 -\n",
      "127.0.0.1 - - [18/May/2022 17:13:55] \"\u001b[37mPOST /_dash-update-component HTTP/1.1\u001b[0m\" 200 -\n"
     ]
    },
    {
     "name": "stdout",
     "output_type": "stream",
     "text": [
      "\n",
      "\n"
     ]
    },
    {
     "name": "stderr",
     "output_type": "stream",
     "text": [
      "127.0.0.1 - - [18/May/2022 17:13:55] \"\u001b[37mPOST /_dash-update-component HTTP/1.1\u001b[0m\" 200 -\n",
      "127.0.0.1 - - [18/May/2022 17:13:55] \"\u001b[37mPOST /_dash-update-component HTTP/1.1\u001b[0m\" 200 -\n"
     ]
    },
    {
     "name": "stdout",
     "output_type": "stream",
     "text": [
      "i ai \n",
      "\n",
      "Generating features\n",
      "Generating features\n",
      "  document  n_tokens  n_i  sentiment\n",
      "0      i a         2    1        0.0\n",
      "  document  n_tokens  n_i  sentiment\n",
      "0       i          1    1        0.0\n",
      "iI \n",
      "I\n",
      "\n",
      "\n",
      "Generating features\n",
      "I aI am\n",
      "\n",
      "Generating features\n",
      "  document  n_tokens  n_i  sentiment\n",
      "0        i         1    0        0.0Generating features\n",
      "\n",
      "Generating features\n"
     ]
    },
    {
     "name": "stderr",
     "output_type": "stream",
     "text": [
      "127.0.0.1 - - [18/May/2022 17:13:55] \"\u001b[37mPOST /_dash-update-component HTTP/1.1\u001b[0m\" 200 -\n",
      "127.0.0.1 - - [18/May/2022 17:13:55] \"\u001b[37mPOST /_dash-update-component HTTP/1.1\u001b[0m\" 200 -\n",
      "127.0.0.1 - - [18/May/2022 17:13:55] \"\u001b[37mPOST /_dash-update-component HTTP/1.1\u001b[0m\" 200 -\n",
      "127.0.0.1 - - [18/May/2022 17:13:55] \"\u001b[37mPOST /_dash-update-component HTTP/1.1\u001b[0m\" 200 -\n",
      "127.0.0.1 - - [18/May/2022 17:13:55] \"\u001b[37mPOST /_dash-update-component HTTP/1.1\u001b[0m\" 200 -\n",
      "127.0.0.1 - - [18/May/2022 17:13:56] \"\u001b[37mPOST /_dash-update-component HTTP/1.1\u001b[0m\" 200 -\n"
     ]
    },
    {
     "name": "stdout",
     "output_type": "stream",
     "text": [
      "Generating features  document  n_tokens  n_i  sentiment\n",
      "0        I         1    0        0.0\n",
      "\n",
      "  document  n_tokens  n_i  sentiment\n",
      "0                  0    0        0.0Generating features\n",
      "\n",
      "  document  n_tokens  n_i  sentiment\n",
      "0       I          1    1        0.0\n",
      "  document  n_tokens  n_i  sentiment\n",
      "0     I am         2    1        0.0\n",
      "  document  n_tokens  n_i  sentiment\n",
      "0      I a         2    1        0.0\n",
      "I am doI am I am doin\n",
      "I am doiI am doingI am d\n",
      "\n",
      "\n",
      "\n",
      "\n",
      "Generating features\n",
      "Generating features\n",
      "  document  n_tokens  n_i  sentiment\n",
      "0    I am          2    1        0.0Generating featuresGenerating features\n",
      "\n"
     ]
    },
    {
     "name": "stderr",
     "output_type": "stream",
     "text": [
      "127.0.0.1 - - [18/May/2022 17:13:56] \"\u001b[37mPOST /_dash-update-component HTTP/1.1\u001b[0m\" 200 -\n",
      "127.0.0.1 - - [18/May/2022 17:13:56] \"\u001b[37mPOST /_dash-update-component HTTP/1.1\u001b[0m\" 200 -\n",
      "127.0.0.1 - - [18/May/2022 17:13:56] \"\u001b[37mPOST /_dash-update-component HTTP/1.1\u001b[0m\" 200 -\n",
      "127.0.0.1 - - [18/May/2022 17:13:56] \"\u001b[37mPOST /_dash-update-component HTTP/1.1\u001b[0m\" 200 -\n",
      "127.0.0.1 - - [18/May/2022 17:13:56] \"\u001b[37mPOST /_dash-update-component HTTP/1.1\u001b[0m\" 200 -\n",
      "127.0.0.1 - - [18/May/2022 17:13:56] \"\u001b[37mPOST /_dash-update-component HTTP/1.1\u001b[0m\" 200 -\n"
     ]
    },
    {
     "name": "stdout",
     "output_type": "stream",
     "text": [
      "\n",
      "Generating features\n",
      "Generating features    document  n_tokens  n_i  sentiment\n",
      "0  I am doin         3    1        0.0\n",
      "\n",
      "  document  n_tokens  n_i  sentiment\n",
      "0  I am do         3    1        0.0   document  n_tokens  n_i  sentiment\n",
      "0  I am doi         3    1        0.0\n",
      "\n",
      "  document  n_tokens  n_i  sentiment\n",
      "0   I am d         3    1        0.0\n",
      "     document  n_tokens  n_i  sentiment\n",
      "0  I am doing         3    1        0.0\n",
      "I am doing ok tI am doing okI am doing oI am doing ok I am doing \n",
      "I am doing ok to\n",
      "\n",
      "\n",
      "\n",
      "\n",
      "Generating features\n",
      "Generating featuresGenerating features\n",
      "Generating features\n",
      "\n",
      "Generating features\n",
      "         document  n_tokens  n_i  sentiment\n",
      "0  I am doing ok          4    1        0.5\n"
     ]
    },
    {
     "name": "stderr",
     "output_type": "stream",
     "text": [
      "127.0.0.1 - - [18/May/2022 17:13:57] \"\u001b[37mPOST /_dash-update-component HTTP/1.1\u001b[0m\" 200 -\n",
      "127.0.0.1 - - [18/May/2022 17:13:57] \"\u001b[37mPOST /_dash-update-component HTTP/1.1\u001b[0m\" 200 -\n",
      "127.0.0.1 - - [18/May/2022 17:13:57] \"\u001b[37mPOST /_dash-update-component HTTP/1.1\u001b[0m\" 200 -\n",
      "127.0.0.1 - - [18/May/2022 17:13:57] \"\u001b[37mPOST /_dash-update-component HTTP/1.1\u001b[0m\" 200 -\n",
      "127.0.0.1 - - [18/May/2022 17:13:57] \"\u001b[37mPOST /_dash-update-component HTTP/1.1\u001b[0m\" 200 -\n",
      "127.0.0.1 - - [18/May/2022 17:13:57] \"\u001b[37mPOST /_dash-update-component HTTP/1.1\u001b[0m\" 200 -\n"
     ]
    },
    {
     "name": "stdout",
     "output_type": "stream",
     "text": [
      "          document  n_tokens  n_i  sentiment\n",
      "0  I am doing ok t         5    1        0.5\n",
      "Generating features\n",
      "       document  n_tokens  n_i  sentiment\n",
      "0  I am doing o         4    1        0.0      document  n_tokens  n_i  sentiment\n",
      "0  I am doing          3    1        0.0\n",
      "           document  n_tokens  n_i  sentiment\n",
      "0  I am doing ok to         5    1        0.5\n",
      "\n",
      "        document  n_tokens  n_i  sentiment\n",
      "0  I am doing ok         4    1        0.5\n"
     ]
    },
    {
     "name": "stderr",
     "output_type": "stream",
     "text": [
      "127.0.0.1 - - [18/May/2022 17:13:58] \"\u001b[37mPOST /_dash-update-component HTTP/1.1\u001b[0m\" 200 -\n",
      "127.0.0.1 - - [18/May/2022 17:13:58] \"\u001b[37mPOST /_dash-update-component HTTP/1.1\u001b[0m\" 200 -\n",
      "127.0.0.1 - - [18/May/2022 17:13:58] \"\u001b[37mPOST /_dash-update-component HTTP/1.1\u001b[0m\" 200 -\n"
     ]
    },
    {
     "name": "stdout",
     "output_type": "stream",
     "text": [
      "I am doing ok todI am doing ok toda\n",
      "I am doing ok today\n",
      "\n",
      "Generating features\n",
      "Generating features\n",
      "Generating features\n",
      "             document  n_tokens  n_i  sentiment\n",
      "0  I am doing ok toda         5    1        0.5\n",
      "            document  n_tokens  n_i  sentiment\n",
      "0  I am doing ok tod         5    1        0.5              document  n_tokens  n_i  sentiment\n",
      "0  I am doing ok today         5    1        0.5\n",
      "\n"
     ]
    },
    {
     "name": "stderr",
     "output_type": "stream",
     "text": [
      "127.0.0.1 - - [18/May/2022 17:13:59] \"\u001b[37mPOST /_dash-update-component HTTP/1.1\u001b[0m\" 200 -\n"
     ]
    },
    {
     "name": "stdout",
     "output_type": "stream",
     "text": [
      "I am doing ok toda\n",
      "Generating features\n",
      "             document  n_tokens  n_i  sentiment\n",
      "0  I am doing ok toda         5    1        0.5\n",
      "I am doing ok todI am doing ok to\n",
      "\n",
      "I am doing ok t\n",
      "Generating features\n",
      "I am doing ok \n",
      "           document  n_tokens  n_i  sentiment\n",
      "0  I am doing ok to         5    1        0.5I am doing okGenerating features\n",
      "\n",
      "\n",
      "I am doing o"
     ]
    },
    {
     "name": "stderr",
     "output_type": "stream",
     "text": [
      "127.0.0.1 - - [18/May/2022 17:14:00] \"\u001b[37mPOST /_dash-update-component HTTP/1.1\u001b[0m\" 200 -\n",
      "127.0.0.1 - - [18/May/2022 17:14:00] \"\u001b[37mPOST /_dash-update-component HTTP/1.1\u001b[0m\" 200 -\n",
      "127.0.0.1 - - [18/May/2022 17:14:00] \"\u001b[37mPOST /_dash-update-component HTTP/1.1\u001b[0m\" 200 -\n",
      "127.0.0.1 - - [18/May/2022 17:14:00] \"\u001b[37mPOST /_dash-update-component HTTP/1.1\u001b[0m\" 200 -\n",
      "127.0.0.1 - - [18/May/2022 17:14:00] \"\u001b[37mPOST /_dash-update-component HTTP/1.1\u001b[0m\" 200 -\n",
      "127.0.0.1 - - [18/May/2022 17:14:00] \"\u001b[37mPOST /_dash-update-component HTTP/1.1\u001b[0m\" 200 -\n"
     ]
    },
    {
     "name": "stdout",
     "output_type": "stream",
     "text": [
      "\n",
      "            document  n_tokens  n_i  sentiment\n",
      "0  I am doing ok tod         5    1        0.5\n",
      "Generating features\n",
      "Generating features          document  n_tokens  n_i  sentiment\n",
      "0  I am doing ok t         5    1        0.5\n",
      "\n",
      "Generating features\n",
      "         document  n_tokens  n_i  sentiment\n",
      "0  I am doing ok          4    1        0.5\n",
      "Generating features        document  n_tokens  n_i  sentiment\n",
      "0  I am doing ok         4    1        0.5\n",
      "\n",
      "       document  n_tokens  n_i  sentiment\n",
      "0  I am doing o         4    1        0.0\n",
      "I am doing \n",
      "I am doing\n",
      "Generating features\n",
      "I am doin\n",
      "Generating featuresI am doi      document  n_tokens  n_i  sentiment\n",
      "0  I am doing          3    1        0.0\n",
      "\n",
      "\n",
      "I am do\n"
     ]
    },
    {
     "name": "stderr",
     "output_type": "stream",
     "text": [
      "127.0.0.1 - - [18/May/2022 17:14:00] \"\u001b[37mPOST /_dash-update-component HTTP/1.1\u001b[0m\" 200 -\n"
     ]
    },
    {
     "name": "stdout",
     "output_type": "stream",
     "text": [
      "     document  n_tokens  n_i  sentiment\n",
      "0  I am doing         3    1        0.0\n",
      "Generating features\n",
      "Generating featuresGenerating features\n",
      "\n",
      "I am d\n",
      "    document  n_tokens  n_i  sentiment\n",
      "0  I am doin         3    1        0.0\n",
      "  document  n_tokens  n_i  sentiment\n",
      "0  I am do         3    1        0.0\n",
      "Generating features\n",
      "   document  n_tokens  n_i  sentiment\n",
      "0  I am doi         3    1        0.0\n"
     ]
    },
    {
     "name": "stderr",
     "output_type": "stream",
     "text": [
      "127.0.0.1 - - [18/May/2022 17:14:00] \"\u001b[37mPOST /_dash-update-component HTTP/1.1\u001b[0m\" 200 -\n",
      "127.0.0.1 - - [18/May/2022 17:14:00] \"\u001b[37mPOST /_dash-update-component HTTP/1.1\u001b[0m\" 200 -\n",
      "127.0.0.1 - - [18/May/2022 17:14:00] \"\u001b[37mPOST /_dash-update-component HTTP/1.1\u001b[0m\" 200 -\n",
      "127.0.0.1 - - [18/May/2022 17:14:00] \"\u001b[37mPOST /_dash-update-component HTTP/1.1\u001b[0m\" 200 -\n"
     ]
    },
    {
     "name": "stdout",
     "output_type": "stream",
     "text": [
      "  document  n_tokens  n_i  sentiment\n",
      "0   I am d         3    1        0.0\n",
      "I am \n",
      "I am\n",
      "Generating features\n",
      "Generating features\n",
      "I a\n",
      "  document  n_tokens  n_i  sentiment\n",
      "0    I am          2    1        0.0\n",
      "  document  n_tokens  n_i  sentiment\n",
      "0     I am         2    1        0.0\n"
     ]
    },
    {
     "name": "stderr",
     "output_type": "stream",
     "text": [
      "127.0.0.1 - - [18/May/2022 17:14:00] \"\u001b[37mPOST /_dash-update-component HTTP/1.1\u001b[0m\" 200 -\n",
      "127.0.0.1 - - [18/May/2022 17:14:00] \"\u001b[37mPOST /_dash-update-component HTTP/1.1\u001b[0m\" 200 -\n",
      "127.0.0.1 - - [18/May/2022 17:14:00] \"\u001b[37mPOST /_dash-update-component HTTP/1.1\u001b[0m\" 200 -\n"
     ]
    },
    {
     "name": "stdout",
     "output_type": "stream",
     "text": [
      "I Generating features\n",
      "\n",
      "  document  n_tokens  n_i  sentiment\n",
      "0      I a         2    1        0.0\n",
      "I\n",
      "Generating features\n",
      "  document  n_tokens  n_i  sentiment\n",
      "0       I          1    1        0.0\n",
      "\n",
      "Generating featuresGenerating features\n",
      "\n"
     ]
    },
    {
     "name": "stderr",
     "output_type": "stream",
     "text": [
      "127.0.0.1 - - [18/May/2022 17:14:01] \"\u001b[37mPOST /_dash-update-component HTTP/1.1\u001b[0m\" 200 -\n",
      "127.0.0.1 - - [18/May/2022 17:14:01] \"\u001b[37mPOST /_dash-update-component HTTP/1.1\u001b[0m\" 200 -\n",
      "127.0.0.1 - - [18/May/2022 17:14:01] \"\u001b[37mPOST /_dash-update-component HTTP/1.1\u001b[0m\" 200 -\n",
      "127.0.0.1 - - [18/May/2022 17:14:01] \"\u001b[37mPOST /_dash-update-component HTTP/1.1\u001b[0m\" 200 -\n",
      "127.0.0.1 - - [18/May/2022 17:14:01] \"\u001b[37mPOST /_dash-update-component HTTP/1.1\u001b[0m\" 200 -\n",
      "127.0.0.1 - - [18/May/2022 17:14:01] \"\u001b[37mPOST /_dash-update-component HTTP/1.1\u001b[0m\" 200 -\n"
     ]
    },
    {
     "name": "stdout",
     "output_type": "stream",
     "text": [
      "I  document  n_tokens  n_i  sentiment\n",
      "0                  0    0        0.0\n",
      "  document  n_tokens  n_i  sentiment\n",
      "0        I         1    0        0.0\n",
      "\n",
      "Generating featuresI \n",
      "  document  n_tokens  n_i  sentiment\n",
      "0        I         1    0        0.0\n",
      "\n",
      "Generating features\n",
      "  document  n_tokens  n_i  sentiment\n",
      "0       I          1    1        0.0\n",
      "I h\n",
      "Generating features"
     ]
    },
    {
     "name": "stderr",
     "output_type": "stream",
     "text": [
      "127.0.0.1 - - [18/May/2022 17:14:01] \"\u001b[37mPOST /_dash-update-component HTTP/1.1\u001b[0m\" 200 -\n"
     ]
    },
    {
     "name": "stdout",
     "output_type": "stream",
     "text": [
      "\n",
      "  document  n_tokens  n_i  sentiment\n",
      "0      I h         2    1        0.0\n",
      "I hu\n",
      "Generating featuresI hur\n",
      "I hurt m\n",
      "\n",
      "I hurt \n",
      "I hurt\n",
      "I hurt myGenerating features\n",
      "Generating features\n",
      "\n",
      "  document  n_tokens  n_i  sentiment\n",
      "0     I hu         2    1        0.0\n",
      "Generating features\n",
      "   document  n_tokens  n_i  sentiment\n",
      "0  I hurt m         3    1        0.0  document  n_tokens  n_i  sentiment\n",
      "0    I hur         2    1        0.0Generating features\n",
      "\n",
      "\n",
      "    document  n_tokens  n_i  sentiment\n",
      "0  I hurt my         3    1        0.0Generating features\n",
      "  document  n_tokens  n_i  sentiment\n",
      "0  I hurt          2    1        0.0\n",
      "\n",
      "  document  n_tokens  n_i  sentiment\n",
      "0   I hurt         2    1        0.0\n"
     ]
    },
    {
     "name": "stderr",
     "output_type": "stream",
     "text": [
      "127.0.0.1 - - [18/May/2022 17:14:02] \"\u001b[37mPOST /_dash-update-component HTTP/1.1\u001b[0m\" 200 -\n",
      "127.0.0.1 - - [18/May/2022 17:14:02] \"\u001b[37mPOST /_dash-update-component HTTP/1.1\u001b[0m\" 200 -\n",
      "127.0.0.1 - - [18/May/2022 17:14:02] \"\u001b[37mPOST /_dash-update-component HTTP/1.1\u001b[0m\" 200 -\n",
      "127.0.0.1 - - [18/May/2022 17:14:02] \"\u001b[37mPOST /_dash-update-component HTTP/1.1\u001b[0m\" 200 -\n",
      "127.0.0.1 - - [18/May/2022 17:14:02] \"\u001b[37mPOST /_dash-update-component HTTP/1.1\u001b[0m\" 200 -\n",
      "127.0.0.1 - - [18/May/2022 17:14:02] \"\u001b[37mPOST /_dash-update-component HTTP/1.1\u001b[0m\" 200 -\n",
      "127.0.0.1 - - [18/May/2022 17:14:02] \"\u001b[37mPOST /_dash-update-component HTTP/1.1\u001b[0m\" 200 -\n"
     ]
    },
    {
     "name": "stdout",
     "output_type": "stream",
     "text": [
      "I hurt mys\n",
      "Generating features\n",
      "     document  n_tokens  n_i  sentiment\n",
      "0  I hurt mys         3    1        0.0\n"
     ]
    },
    {
     "name": "stderr",
     "output_type": "stream",
     "text": [
      "127.0.0.1 - - [18/May/2022 17:14:02] \"\u001b[37mPOST /_dash-update-component HTTP/1.1\u001b[0m\" 200 -\n",
      "127.0.0.1 - - [18/May/2022 17:14:02] \"\u001b[37mPOST /_dash-update-component HTTP/1.1\u001b[0m\" 200 -\n",
      "127.0.0.1 - - [18/May/2022 17:14:02] \"\u001b[37mPOST /_dash-update-component HTTP/1.1\u001b[0m\" 200 -\n"
     ]
    },
    {
     "name": "stdout",
     "output_type": "stream",
     "text": [
      "I hurt myseI hurt myselI hurt myself\n",
      "\n",
      "\n",
      "Generating features\n",
      "Generating featuresGenerating features\n",
      "       document  n_tokens  n_i  sentiment\n",
      "0  I hurt mysel         3    1        0.0      document  n_tokens  n_i  sentiment\n",
      "0  I hurt myse         3    1        0.0\n",
      "\n",
      "\n",
      "        document  n_tokens  n_i  sentiment\n",
      "0  I hurt myself         3    1        0.0\n"
     ]
    },
    {
     "name": "stderr",
     "output_type": "stream",
     "text": [
      "127.0.0.1 - - [18/May/2022 17:14:05] \"\u001b[37mPOST /_dash-update-component HTTP/1.1\u001b[0m\" 200 -\n"
     ]
    },
    {
     "name": "stdout",
     "output_type": "stream",
     "text": [
      "I hurt mysel\n",
      "Generating features\n",
      "       document  n_tokens  n_i  sentiment\n",
      "0  I hurt mysel         3    1        0.0\n",
      "I hurt myse\n",
      "I hurt mys\n",
      "Generating features\n",
      "I hurt my\n",
      "      document  n_tokens  n_i  sentiment\n",
      "0  I hurt myse         3    1        0.0I hurt m\n",
      "\n",
      "Generating featuresI hurt \n"
     ]
    },
    {
     "name": "stderr",
     "output_type": "stream",
     "text": [
      "127.0.0.1 - - [18/May/2022 17:14:05] \"\u001b[37mPOST /_dash-update-component HTTP/1.1\u001b[0m\" 200 -\n",
      "127.0.0.1 - - [18/May/2022 17:14:06] \"\u001b[37mPOST /_dash-update-component HTTP/1.1\u001b[0m\" 200 -\n",
      "127.0.0.1 - - [18/May/2022 17:14:06] \"\u001b[37mPOST /_dash-update-component HTTP/1.1\u001b[0m\" 200 -\n",
      "127.0.0.1 - - [18/May/2022 17:14:06] \"\u001b[37mPOST /_dash-update-component HTTP/1.1\u001b[0m\" 200 -\n",
      "127.0.0.1 - - [18/May/2022 17:14:06] \"\u001b[37mPOST /_dash-update-component HTTP/1.1\u001b[0m\" 200 -\n"
     ]
    },
    {
     "name": "stdout",
     "output_type": "stream",
     "text": [
      "\n",
      "     document  n_tokens  n_i  sentiment\n",
      "0  I hurt mys         3    1        0.0Generating featuresGenerating features\n",
      "\n",
      "\n",
      "   document  n_tokens  n_i  sentiment\n",
      "0  I hurt m         3    1        0.0\n",
      "    document  n_tokens  n_i  sentiment\n",
      "0  I hurt my         3    1        0.0Generating features\n",
      "\n",
      "  document  n_tokens  n_i  sentiment\n",
      "0  I hurt          2    1        0.0\n"
     ]
    },
    {
     "name": "stderr",
     "output_type": "stream",
     "text": [
      "127.0.0.1 - - [18/May/2022 17:14:06] \"\u001b[37mPOST /_dash-update-component HTTP/1.1\u001b[0m\" 200 -\n",
      "127.0.0.1 - - [18/May/2022 17:14:06] \"\u001b[37mPOST /_dash-update-component HTTP/1.1\u001b[0m\" 200 -\n"
     ]
    },
    {
     "name": "stdout",
     "output_type": "stream",
     "text": [
      "I hurt a\n",
      "Generating featuresI hurt al\n",
      "\n",
      "   document  n_tokens  n_i  sentiment\n",
      "0  I hurt a         3    1        0.0\n",
      "Generating features\n",
      "    document  n_tokens  n_i  sentiment\n",
      "0  I hurt al         3    1        0.0\n",
      "I hurt all\n"
     ]
    },
    {
     "name": "stderr",
     "output_type": "stream",
     "text": [
      "127.0.0.1 - - [18/May/2022 17:14:06] \"\u001b[37mPOST /_dash-update-component HTTP/1.1\u001b[0m\" 200 -\n",
      "127.0.0.1 - - [18/May/2022 17:14:06] \"\u001b[37mPOST /_dash-update-component HTTP/1.1\u001b[0m\" 200 -\n"
     ]
    },
    {
     "name": "stdout",
     "output_type": "stream",
     "text": [
      "Generating features\n",
      "     document  n_tokens  n_i  sentiment\n",
      "0  I hurt all         3    1        0.0\n",
      "I hurt all \n",
      "Generating features\n",
      "      document  n_tokens  n_i  sentiment\n",
      "0  I hurt all          3    1        0.0\n"
     ]
    },
    {
     "name": "stderr",
     "output_type": "stream",
     "text": [
      "127.0.0.1 - - [18/May/2022 17:14:07] \"\u001b[37mPOST /_dash-update-component HTTP/1.1\u001b[0m\" 200 -\n"
     ]
    },
    {
     "name": "stdout",
     "output_type": "stream",
     "text": [
      "I hurt all o\n",
      "Generating features\n",
      "       document  n_tokens  n_i  sentiment\n",
      "0  I hurt all o         4    1        0.0\n",
      "I hurt all ov\n",
      "Generating features\n",
      "        document  n_tokens  n_i  sentiment\n",
      "0  I hurt all ov         4    1        0.0\n"
     ]
    },
    {
     "name": "stderr",
     "output_type": "stream",
     "text": [
      "127.0.0.1 - - [18/May/2022 17:14:07] \"\u001b[37mPOST /_dash-update-component HTTP/1.1\u001b[0m\" 200 -\n",
      "127.0.0.1 - - [18/May/2022 17:14:07] \"\u001b[37mPOST /_dash-update-component HTTP/1.1\u001b[0m\" 200 -\n",
      "127.0.0.1 - - [18/May/2022 17:14:07] \"\u001b[37mPOST /_dash-update-component HTTP/1.1\u001b[0m\" 200 -\n"
     ]
    },
    {
     "name": "stdout",
     "output_type": "stream",
     "text": [
      "I hurt all ove\n",
      "Generating features\n",
      "I hurt all over\n",
      "         document  n_tokens  n_i  sentiment\n",
      "0  I hurt all ove         4    1        0.0\n",
      "Generating features\n",
      "          document  n_tokens  n_i  sentiment\n",
      "0  I hurt all over         4    1        0.0\n"
     ]
    },
    {
     "name": "stderr",
     "output_type": "stream",
     "text": [
      "127.0.0.1 - - [18/May/2022 17:14:08] \"\u001b[37mPOST /_dash-update-component HTTP/1.1\u001b[0m\" 200 -\n"
     ]
    },
    {
     "name": "stdout",
     "output_type": "stream",
     "text": [
      "I hurt all over \n",
      "Generating features\n",
      "           document  n_tokens  n_i  sentiment\n",
      "0  I hurt all over          4    1        0.0\n",
      "I hurt all over a\n",
      "Generating features\n",
      "            document  n_tokens  n_i  sentiment\n",
      "0  I hurt all over a         5    1        0.0\n"
     ]
    },
    {
     "name": "stderr",
     "output_type": "stream",
     "text": [
      "127.0.0.1 - - [18/May/2022 17:14:08] \"\u001b[37mPOST /_dash-update-component HTTP/1.1\u001b[0m\" 200 -\n",
      "127.0.0.1 - - [18/May/2022 17:14:09] \"\u001b[37mPOST /_dash-update-component HTTP/1.1\u001b[0m\" 200 -\n",
      "127.0.0.1 - - [18/May/2022 17:14:09] \"\u001b[37mPOST /_dash-update-component HTTP/1.1\u001b[0m\" 200 -\n"
     ]
    },
    {
     "name": "stdout",
     "output_type": "stream",
     "text": [
      "I hurt all over a \n",
      "Generating features\n",
      "             document  n_tokens  n_i  sentiment\n",
      "0  I hurt all over a          5    1        0.0\n",
      "I hurt all over a l\n",
      "Generating features\n",
      "              document  n_tokens  n_i  sentiment\n",
      "0  I hurt all over a l         6    1        0.0\n"
     ]
    },
    {
     "name": "stderr",
     "output_type": "stream",
     "text": [
      "127.0.0.1 - - [18/May/2022 17:14:09] \"\u001b[37mPOST /_dash-update-component HTTP/1.1\u001b[0m\" 200 -\n",
      "127.0.0.1 - - [18/May/2022 17:14:09] \"\u001b[37mPOST /_dash-update-component HTTP/1.1\u001b[0m\" 200 -\n"
     ]
    },
    {
     "name": "stdout",
     "output_type": "stream",
     "text": [
      "I hurt all over a lo\n",
      "Generating features\n",
      "               document  n_tokens  n_i  sentiment\n",
      "0  I hurt all over a lo         6    1        0.0\n",
      "I hurt all over a lot\n",
      "Generating features\n",
      "                document  n_tokens  n_i  sentiment\n",
      "0  I hurt all over a lot         6    1        0.0\n"
     ]
    },
    {
     "name": "stderr",
     "output_type": "stream",
     "text": [
      "127.0.0.1 - - [18/May/2022 17:14:10] \"\u001b[37mPOST /_dash-update-component HTTP/1.1\u001b[0m\" 200 -\n"
     ]
    },
    {
     "name": "stdout",
     "output_type": "stream",
     "text": [
      "I hurt all over a lo\n",
      "Generating features\n",
      "               document  n_tokens  n_i  sentiment\n",
      "0  I hurt all over a lo         6    1        0.0\n",
      "I hurt all over a lI hurt all over a \n",
      "\n",
      "I hurt all over a\n",
      "I hurt all over Generating featuresGenerating features\n",
      "\n",
      "\n",
      "I hurt all over\n",
      "Generating features\n",
      "              document  n_tokens  n_i  sentiment\n",
      "0  I hurt all over a l         6    1        0.0\n",
      "            document  n_tokens  n_i  sentiment\n",
      "0  I hurt all over a         5    1        0.0             document  n_tokens  n_i  sentiment\n",
      "0  I hurt all over a          5    1        0.0Generating features\n",
      "\n",
      "I hurt all ove\n",
      "\n",
      "Generating features\n",
      "           document  n_tokens  n_i  sentiment\n",
      "0  I hurt all over          4    1        0.0\n",
      "Generating features\n",
      "          document  n_tokens  n_i  sentiment\n",
      "0  I hurt all over         4    1        0.0\n",
      "         document  n_tokens  n_i  sentiment\n",
      "0  I hurt all ove         4    1        0.0\n"
     ]
    },
    {
     "name": "stderr",
     "output_type": "stream",
     "text": [
      "127.0.0.1 - - [18/May/2022 17:14:11] \"\u001b[37mPOST /_dash-update-component HTTP/1.1\u001b[0m\" 200 -\n",
      "127.0.0.1 - - [18/May/2022 17:14:11] \"\u001b[37mPOST /_dash-update-component HTTP/1.1\u001b[0m\" 200 -\n",
      "127.0.0.1 - - [18/May/2022 17:14:11] \"\u001b[37mPOST /_dash-update-component HTTP/1.1\u001b[0m\" 200 -\n",
      "127.0.0.1 - - [18/May/2022 17:14:11] \"\u001b[37mPOST /_dash-update-component HTTP/1.1\u001b[0m\" 200 -\n",
      "127.0.0.1 - - [18/May/2022 17:14:11] \"\u001b[37mPOST /_dash-update-component HTTP/1.1\u001b[0m\" 200 -\n",
      "127.0.0.1 - - [18/May/2022 17:14:11] \"\u001b[37mPOST /_dash-update-component HTTP/1.1\u001b[0m\" 200 -\n"
     ]
    },
    {
     "name": "stdout",
     "output_type": "stream",
     "text": [
      "I hurt all ov\n",
      "I hurt all o\n",
      "I hurt all \n",
      "Generating featuresI hurt all\n",
      "\n",
      "Generating features\n",
      "Generating featuresI hurt al\n"
     ]
    },
    {
     "name": "stderr",
     "output_type": "stream",
     "text": [
      "127.0.0.1 - - [18/May/2022 17:14:11] \"\u001b[37mPOST /_dash-update-component HTTP/1.1\u001b[0m\" 200 -\n",
      "127.0.0.1 - - [18/May/2022 17:14:11] \"\u001b[37mPOST /_dash-update-component HTTP/1.1\u001b[0m\" 200 -\n",
      "127.0.0.1 - - [18/May/2022 17:14:11] \"\u001b[37mPOST /_dash-update-component HTTP/1.1\u001b[0m\" 200 -\n",
      "127.0.0.1 - - [18/May/2022 17:14:11] \"\u001b[37mPOST /_dash-update-component HTTP/1.1\u001b[0m\" 200 -\n",
      "127.0.0.1 - - [18/May/2022 17:14:11] \"\u001b[37mPOST /_dash-update-component HTTP/1.1\u001b[0m\" 200 -\n",
      "127.0.0.1 - - [18/May/2022 17:14:11] \"\u001b[37mPOST /_dash-update-component HTTP/1.1\u001b[0m\" 200 -\n"
     ]
    },
    {
     "name": "stdout",
     "output_type": "stream",
     "text": [
      "        document  n_tokens  n_i  sentiment\n",
      "0  I hurt all ov         4    1        0.0\n",
      "       document  n_tokens  n_i  sentiment\n",
      "0  I hurt all o         4    1        0.0\n",
      "Generating features\n",
      "\n",
      "I hurt a\n",
      "      document  n_tokens  n_i  sentiment\n",
      "0  I hurt all          3    1        0.0\n",
      "     document  n_tokens  n_i  sentiment\n",
      "0  I hurt all         3    1        0.0\n",
      "Generating features\n",
      "Generating features\n",
      "   document  n_tokens  n_i  sentiment\n",
      "0  I hurt a         3    1        0.0\n",
      "    document  n_tokens  n_i  sentiment\n",
      "0  I hurt al         3    1        0.0\n",
      "I hurt \n",
      "I hurt\n",
      "Generating features\n",
      "I hur  document  n_tokens  n_i  sentiment\n",
      "0  I hurt          2    1        0.0\n",
      "\n",
      "Generating features\n",
      "Generating featuresI hu\n",
      "\n",
      "I h  document  n_tokens  n_i  sentiment\n",
      "0   I hurt         2    1        0.0\n",
      "\n",
      "  document  n_tokens  n_i  sentiment\n",
      "0    I hur         2    1        0.0\n",
      "I Generating features\n",
      "Generating features\n",
      "\n",
      "  document  n_tokens  n_i  sentiment\n",
      "0      I h         2    1        0.0\n",
      "Generating features\n"
     ]
    },
    {
     "name": "stderr",
     "output_type": "stream",
     "text": [
      "127.0.0.1 - - [18/May/2022 17:14:12] \"\u001b[37mPOST /_dash-update-component HTTP/1.1\u001b[0m\" 200 -\n",
      "127.0.0.1 - - [18/May/2022 17:14:12] \"\u001b[37mPOST /_dash-update-component HTTP/1.1\u001b[0m\" 200 -\n",
      "127.0.0.1 - - [18/May/2022 17:14:12] \"\u001b[37mPOST /_dash-update-component HTTP/1.1\u001b[0m\" 200 -\n",
      "127.0.0.1 - - [18/May/2022 17:14:12] \"\u001b[37mPOST /_dash-update-component HTTP/1.1\u001b[0m\" 200 -\n",
      "127.0.0.1 - - [18/May/2022 17:14:12] \"\u001b[37mPOST /_dash-update-component HTTP/1.1\u001b[0m\" 200 -\n",
      "127.0.0.1 - - [18/May/2022 17:14:12] \"\u001b[37mPOST /_dash-update-component HTTP/1.1\u001b[0m\" 200 -\n"
     ]
    },
    {
     "name": "stdout",
     "output_type": "stream",
     "text": [
      "  document  n_tokens  n_i  sentiment\n",
      "0     I hu         2    1        0.0\n",
      "  document  n_tokens  n_i  sentiment\n",
      "0       I          1    1        0.0\n",
      "I cI couI co\n",
      "\n",
      "I coulI couldnI could\n",
      "\n",
      "\n",
      "\n",
      "Generating features\n"
     ]
    },
    {
     "name": "stderr",
     "output_type": "stream",
     "text": [
      "127.0.0.1 - - [18/May/2022 17:14:12] \"\u001b[37mPOST /_dash-update-component HTTP/1.1\u001b[0m\" 200 -\n"
     ]
    },
    {
     "name": "stdout",
     "output_type": "stream",
     "text": [
      "  document  n_tokens  n_i  sentiment\n",
      "0    I cou         2    1        0.0\n",
      "Generating features\n",
      "Generating features\n",
      "Generating featuresGenerating features\n",
      "  document  n_tokens  n_i  sentiment\n",
      "0  I could         2    1        0.0\n",
      "\n",
      "   document  n_tokens  n_i  sentiment\n",
      "0  I couldn         2    1        0.0\n",
      "Generating features\n",
      "  document  n_tokens  n_i  sentiment\n",
      "0      I c         2    1        0.0  document  n_tokens  n_i  sentiment\n",
      "0   I coul         2    1        0.0\n",
      "  document  n_tokens  n_i  sentiment\n",
      "0     I co         2    1        0.0\n",
      "\n"
     ]
    },
    {
     "name": "stderr",
     "output_type": "stream",
     "text": [
      "127.0.0.1 - - [18/May/2022 17:14:13] \"\u001b[37mPOST /_dash-update-component HTTP/1.1\u001b[0m\" 200 -\n",
      "127.0.0.1 - - [18/May/2022 17:14:13] \"\u001b[37mPOST /_dash-update-component HTTP/1.1\u001b[0m\" 200 -\n",
      "127.0.0.1 - - [18/May/2022 17:14:13] \"\u001b[37mPOST /_dash-update-component HTTP/1.1\u001b[0m\" 200 -\n",
      "127.0.0.1 - - [18/May/2022 17:14:13] \"\u001b[37mPOST /_dash-update-component HTTP/1.1\u001b[0m\" 200 -\n",
      "127.0.0.1 - - [18/May/2022 17:14:13] \"\u001b[37mPOST /_dash-update-component HTTP/1.1\u001b[0m\" 200 -\n",
      "127.0.0.1 - - [18/May/2022 17:14:13] \"\u001b[37mPOST /_dash-update-component HTTP/1.1\u001b[0m\" 200 -\n"
     ]
    },
    {
     "name": "stdout",
     "output_type": "stream",
     "text": [
      "I couldn'\n",
      "Generating features\n",
      "    document  n_tokens  n_i  sentiment\n",
      "0  I couldn'         2    1        0.0\n",
      "I couldn'tI couldn't bI couldn't beI couldn't \n",
      "\n",
      "\n",
      "\n",
      "I couldn't belI couldn't beli\n",
      "\n",
      "Generating featuresGenerating features\n",
      "Generating features\n",
      "        document  n_tokens  n_i  sentiment\n",
      "0  I couldn't be         4    1        0.0Generating features\n",
      "\n",
      "Generating features\n"
     ]
    },
    {
     "name": "stderr",
     "output_type": "stream",
     "text": [
      "127.0.0.1 - - [18/May/2022 17:14:13] \"\u001b[37mPOST /_dash-update-component HTTP/1.1\u001b[0m\" 200 -\n",
      "127.0.0.1 - - [18/May/2022 17:14:13] \"\u001b[37mPOST /_dash-update-component HTTP/1.1\u001b[0m\" 200 -\n",
      "127.0.0.1 - - [18/May/2022 17:14:13] \"\u001b[37mPOST /_dash-update-component HTTP/1.1\u001b[0m\" 200 -\n",
      "127.0.0.1 - - [18/May/2022 17:14:13] \"\u001b[37mPOST /_dash-update-component HTTP/1.1\u001b[0m\" 200 -\n",
      "127.0.0.1 - - [18/May/2022 17:14:13] \"\u001b[37mPOST /_dash-update-component HTTP/1.1\u001b[0m\" 200 -\n",
      "127.0.0.1 - - [18/May/2022 17:14:13] \"\u001b[37mPOST /_dash-update-component HTTP/1.1\u001b[0m\" 200 -\n"
     ]
    },
    {
     "name": "stdout",
     "output_type": "stream",
     "text": [
      "\n",
      "       document  n_tokens  n_i  sentiment\n",
      "0  I couldn't b         4    1        0.0\n",
      "      document  n_tokens  n_i  sentiment\n",
      "0  I couldn't          3    1        0.0Generating features\n",
      "     document  n_tokens  n_i  sentiment\n",
      "0  I couldn't         3    1        0.0\n",
      "\n",
      "         document  n_tokens  n_i  sentiment\n",
      "0  I couldn't bel         4    1        0.0\n",
      "          document  n_tokens  n_i  sentiment\n",
      "0  I couldn't beli         4    1        0.0\n",
      "I couldn't belie\n",
      "Generating features\n",
      "I couldn't believI couldn't believeI couldn't believe tI couldn't believe \n",
      "\n",
      "I couldn't believe th\n",
      "\n",
      "\n",
      "Generating features           document  n_tokens  n_i  sentiment\n",
      "0  I couldn't belie         4    1        0.0\n",
      "\n",
      "Generating features              document  n_tokens  n_i  sentiment\n",
      "0  I couldn't believe          4    1        0.0\n",
      "Generating features\n",
      "\n",
      "Generating features\n",
      "Generating features\n",
      "             document  n_tokens  n_i  sentiment\n",
      "0  I couldn't believe         4    1        0.0               document  n_tokens  n_i  sentiment\n",
      "0  I couldn't believe t         5    1        0.0\n",
      "            document  n_tokens  n_i  sentiment\n",
      "0  I couldn't believ         4    1        0.0                document  n_tokens  n_i  sentiment\n",
      "0  I couldn't believe th         5    1        0.0\n",
      "\n",
      "\n"
     ]
    },
    {
     "name": "stderr",
     "output_type": "stream",
     "text": [
      "127.0.0.1 - - [18/May/2022 17:14:14] \"\u001b[37mPOST /_dash-update-component HTTP/1.1\u001b[0m\" 200 -\n",
      "127.0.0.1 - - [18/May/2022 17:14:14] \"\u001b[37mPOST /_dash-update-component HTTP/1.1\u001b[0m\" 200 -\n",
      "127.0.0.1 - - [18/May/2022 17:14:14] \"\u001b[37mPOST /_dash-update-component HTTP/1.1\u001b[0m\" 200 -\n",
      "127.0.0.1 - - [18/May/2022 17:14:14] \"\u001b[37mPOST /_dash-update-component HTTP/1.1\u001b[0m\" 200 -\n",
      "127.0.0.1 - - [18/May/2022 17:14:14] \"\u001b[37mPOST /_dash-update-component HTTP/1.1\u001b[0m\" 200 -\n",
      "127.0.0.1 - - [18/May/2022 17:14:14] \"\u001b[37mPOST /_dash-update-component HTTP/1.1\u001b[0m\" 200 -\n"
     ]
    },
    {
     "name": "stdout",
     "output_type": "stream",
     "text": [
      "I couldn't believe thatI couldn't believe thaI couldn't believe that I couldn't believe that haI couldn't believe that h\n",
      "\n",
      "\n",
      "\n",
      "I couldn't believe that hap\n",
      "\n",
      "Generating features\n",
      "Generating features\n",
      "Generating features\n",
      "Generating features\n",
      "Generating featuresGenerating features\n",
      "\n",
      "                 document  n_tokens  n_i  sentiment\n",
      "0  I couldn't believe tha         5    1        0.0                   document  n_tokens  n_i  sentiment\n",
      "0  I couldn't believe that          5    1        0.0                    document  n_tokens  n_i  sentiment\n",
      "0  I couldn't believe that h         6    1        0.0\n",
      "\n",
      "\n",
      "                     document  n_tokens  n_i  sentiment\n",
      "0  I couldn't believe that ha         6    1        0.0"
     ]
    },
    {
     "name": "stderr",
     "output_type": "stream",
     "text": [
      "127.0.0.1 - - [18/May/2022 17:14:15] \"\u001b[37mPOST /_dash-update-component HTTP/1.1\u001b[0m\" 200 -\n",
      "127.0.0.1 - - [18/May/2022 17:14:15] \"\u001b[37mPOST /_dash-update-component HTTP/1.1\u001b[0m\" 200 -\n",
      "127.0.0.1 - - [18/May/2022 17:14:15] \"\u001b[37mPOST /_dash-update-component HTTP/1.1\u001b[0m\" 200 -\n",
      "127.0.0.1 - - [18/May/2022 17:14:15] \"\u001b[37mPOST /_dash-update-component HTTP/1.1\u001b[0m\" 200 -\n",
      "127.0.0.1 - - [18/May/2022 17:14:15] \"\u001b[37mPOST /_dash-update-component HTTP/1.1\u001b[0m\" 200 -\n",
      "127.0.0.1 - - [18/May/2022 17:14:15] \"\u001b[37mPOST /_dash-update-component HTTP/1.1\u001b[0m\" 200 -\n"
     ]
    },
    {
     "name": "stdout",
     "output_type": "stream",
     "text": [
      "                      document  n_tokens  n_i  sentiment\n",
      "0  I couldn't believe that hap         6    1        0.0                  document  n_tokens  n_i  sentiment\n",
      "0  I couldn't believe that         5    1        0.0\n",
      "\n",
      "\n",
      "I couldn't believe that happe\n",
      "I couldn't believe that happI couldn't believe that happenI couldn't believe that happene\n",
      "\n",
      "I couldn't believe that happened\n",
      "\n"
     ]
    },
    {
     "name": "stderr",
     "output_type": "stream",
     "text": [
      "127.0.0.1 - - [18/May/2022 17:14:16] \"\u001b[37mPOST /_dash-update-component HTTP/1.1\u001b[0m\" 200 -\n",
      "127.0.0.1 - - [18/May/2022 17:14:16] \"\u001b[37mPOST /_dash-update-component HTTP/1.1\u001b[0m\" 200 -\n",
      "127.0.0.1 - - [18/May/2022 17:14:16] \"\u001b[37mPOST /_dash-update-component HTTP/1.1\u001b[0m\" 200 -\n",
      "127.0.0.1 - - [18/May/2022 17:14:16] \"\u001b[37mPOST /_dash-update-component HTTP/1.1\u001b[0m\" 200 -\n",
      "127.0.0.1 - - [18/May/2022 17:14:16] \"\u001b[37mPOST /_dash-update-component HTTP/1.1\u001b[0m\" 200 -\n"
     ]
    },
    {
     "name": "stdout",
     "output_type": "stream",
     "text": [
      "Generating featuresGenerating featuresGenerating features\n",
      "\n",
      "\n",
      "Generating featuresGenerating features\n",
      "\n",
      "                         document  n_tokens  n_i  sentiment\n",
      "0  I couldn't believe that happen         6    1        0.0\n",
      "                           document  n_tokens  n_i  sentiment\n",
      "0  I couldn't believe that happened         6    1        0.0\n",
      "                          document  n_tokens  n_i  sentiment\n",
      "0  I couldn't believe that happene         6    1        0.0\n",
      "                       document  n_tokens  n_i  sentiment\n",
      "0  I couldn't believe that happ         6    1        0.0                        document  n_tokens  n_i  sentiment\n",
      "0  I couldn't believe that happe         6    1        0.0\n",
      "\n"
     ]
    },
    {
     "name": "stderr",
     "output_type": "stream",
     "text": [
      "127.0.0.1 - - [18/May/2022 17:14:17] \"\u001b[37mPOST /_dash-update-component HTTP/1.1\u001b[0m\" 200 -\n"
     ]
    },
    {
     "name": "stdout",
     "output_type": "stream",
     "text": [
      "I couldn't believe that happened \n",
      "Generating features\n",
      "                            document  n_tokens  n_i  sentiment\n",
      "0  I couldn't believe that happened          6    1        0.0\n",
      "I couldn't believe that happened s\n",
      "Generating features"
     ]
    },
    {
     "name": "stderr",
     "output_type": "stream",
     "text": [
      "127.0.0.1 - - [18/May/2022 17:14:17] \"\u001b[37mPOST /_dash-update-component HTTP/1.1\u001b[0m\" 200 -\n",
      "127.0.0.1 - - [18/May/2022 17:14:17] \"\u001b[37mPOST /_dash-update-component HTTP/1.1\u001b[0m\" 200 -\n"
     ]
    },
    {
     "name": "stdout",
     "output_type": "stream",
     "text": [
      "\n",
      "                             document  n_tokens  n_i  sentiment\n",
      "0  I couldn't believe that happened s         7    1        0.0\n",
      "I couldn't believe that happened so\n",
      "Generating features\n",
      "                              document  n_tokens  n_i  sentiment\n",
      "0  I couldn't believe that happened so         7    1        0.0\n",
      "I couldn't believe that happened so \n",
      "Generating features\n",
      "                               document  n_tokens  n_i  sentiment\n",
      "0  I couldn't believe that happened so          7    1        0.0\n"
     ]
    },
    {
     "name": "stderr",
     "output_type": "stream",
     "text": [
      "127.0.0.1 - - [18/May/2022 17:14:17] \"\u001b[37mPOST /_dash-update-component HTTP/1.1\u001b[0m\" 200 -\n",
      "127.0.0.1 - - [18/May/2022 17:14:18] \"\u001b[37mPOST /_dash-update-component HTTP/1.1\u001b[0m\" 200 -\n"
     ]
    },
    {
     "name": "stdout",
     "output_type": "stream",
     "text": [
      "I couldn't believe that happened so m\n",
      "Generating features\n",
      "                                document  n_tokens  n_i  sentiment\n",
      "0  I couldn't believe that happened so m         8    1        0.0\n",
      "I couldn't believe that happened so ma\n",
      "Generating features\n",
      "                                 document  n_tokens  n_i  sentiment\n",
      "0  I couldn't believe that happened so ma         8    1        0.0\n",
      "I couldn't believe that happened so mad"
     ]
    },
    {
     "name": "stderr",
     "output_type": "stream",
     "text": [
      "127.0.0.1 - - [18/May/2022 17:14:18] \"\u001b[37mPOST /_dash-update-component HTTP/1.1\u001b[0m\" 200 -\n",
      "127.0.0.1 - - [18/May/2022 17:14:18] \"\u001b[37mPOST /_dash-update-component HTTP/1.1\u001b[0m\" 200 -\n"
     ]
    },
    {
     "name": "stdout",
     "output_type": "stream",
     "text": [
      "\n",
      "Generating features\n",
      "                                  document  n_tokens  n_i  sentiment\n",
      "0  I couldn't believe that happened so mad         8    1     -0.625\n"
     ]
    },
    {
     "name": "stderr",
     "output_type": "stream",
     "text": [
      "127.0.0.1 - - [18/May/2022 17:14:19] \"\u001b[37mPOST /_dash-update-component HTTP/1.1\u001b[0m\" 200 -\n"
     ]
    },
    {
     "name": "stdout",
     "output_type": "stream",
     "text": [
      "I couldn't believe that happened so ma\n",
      "Generating features\n",
      "                                 document  n_tokens  n_i  sentiment\n",
      "0  I couldn't believe that happened so ma         8    1        0.0\n",
      "I couldn't believe that happened so m\n",
      "I couldn't believe that happened so \n",
      "I couldn't believe that happened so\n",
      "Generating featuresI couldn't believe that happened s\n",
      "\n",
      "Generating features\n",
      "Generating features"
     ]
    },
    {
     "name": "stderr",
     "output_type": "stream",
     "text": [
      "127.0.0.1 - - [18/May/2022 17:14:19] \"\u001b[37mPOST /_dash-update-component HTTP/1.1\u001b[0m\" 200 -\n",
      "127.0.0.1 - - [18/May/2022 17:14:19] \"\u001b[37mPOST /_dash-update-component HTTP/1.1\u001b[0m\" 200 -\n",
      "127.0.0.1 - - [18/May/2022 17:14:19] \"\u001b[37mPOST /_dash-update-component HTTP/1.1\u001b[0m\" 200 -\n",
      "127.0.0.1 - - [18/May/2022 17:14:19] \"\u001b[37mPOST /_dash-update-component HTTP/1.1\u001b[0m\" 200 -\n"
     ]
    },
    {
     "name": "stdout",
     "output_type": "stream",
     "text": [
      "                                document  n_tokens  n_i  sentiment\n",
      "0  I couldn't believe that happened so m         8    1        0.0\n",
      "\n",
      "                               document  n_tokens  n_i  sentiment\n",
      "0  I couldn't believe that happened so          7    1        0.0Generating features\n",
      "\n",
      "                              document  n_tokens  n_i  sentiment\n",
      "0  I couldn't believe that happened so         7    1        0.0\n",
      "                             document  n_tokens  n_i  sentiment\n",
      "0  I couldn't believe that happened s         7    1        0.0\n"
     ]
    },
    {
     "name": "stderr",
     "output_type": "stream",
     "text": [
      "127.0.0.1 - - [18/May/2022 17:14:20] \"\u001b[37mPOST /_dash-update-component HTTP/1.1\u001b[0m\" 200 -\n"
     ]
    },
    {
     "name": "stdout",
     "output_type": "stream",
     "text": [
      "I couldn't believe that happened \n",
      "Generating features\n",
      "                            document  n_tokens  n_i  sentiment\n",
      "0  I couldn't believe that happened          6    1        0.0\n"
     ]
    },
    {
     "name": "stderr",
     "output_type": "stream",
     "text": [
      "127.0.0.1 - - [18/May/2022 17:14:21] \"\u001b[37mPOST /_dash-update-component HTTP/1.1\u001b[0m\" 200 -\n"
     ]
    },
    {
     "name": "stdout",
     "output_type": "stream",
     "text": [
      "I couldn't believe that happened u\n",
      "Generating features\n",
      "                             document  n_tokens  n_i  sentiment\n",
      "0  I couldn't believe that happened u         7    1        0.0\n",
      "I couldn't believe that happened ug\n",
      "Generating features\n",
      "                              document  n_tokens  n_i  sentiment\n",
      "0  I couldn't believe that happened ug         7    1        0.0\n",
      "I couldn't believe that happened ugh\n"
     ]
    },
    {
     "name": "stderr",
     "output_type": "stream",
     "text": [
      "127.0.0.1 - - [18/May/2022 17:14:21] \"\u001b[37mPOST /_dash-update-component HTTP/1.1\u001b[0m\" 200 -\n",
      "127.0.0.1 - - [18/May/2022 17:14:21] \"\u001b[37mPOST /_dash-update-component HTTP/1.1\u001b[0m\" 200 -\n"
     ]
    },
    {
     "name": "stdout",
     "output_type": "stream",
     "text": [
      "Generating features\n",
      "                               document  n_tokens  n_i  sentiment\n",
      "0  I couldn't believe that happened ugh         7    1        0.0\n"
     ]
    },
    {
     "name": "stderr",
     "output_type": "stream",
     "text": [
      "127.0.0.1 - - [18/May/2022 17:14:22] \"\u001b[37mPOST /_dash-update-component HTTP/1.1\u001b[0m\" 200 -\n"
     ]
    },
    {
     "name": "stdout",
     "output_type": "stream",
     "text": [
      "I couldn't believe that happened ugh \n",
      "Generating features\n",
      "                                document  n_tokens  n_i  sentiment\n",
      "0  I couldn't believe that happened ugh          7    1        0.0\n"
     ]
    },
    {
     "name": "stderr",
     "output_type": "stream",
     "text": [
      "127.0.0.1 - - [18/May/2022 17:14:23] \"\u001b[37mPOST /_dash-update-component HTTP/1.1\u001b[0m\" 200 -\n"
     ]
    },
    {
     "name": "stdout",
     "output_type": "stream",
     "text": [
      "I couldn't believe that happened ugh p\n",
      "Generating features\n",
      "                                 document  n_tokens  n_i  sentiment\n",
      "0  I couldn't believe that happened ugh p         8    1        0.0\n",
      "I couldn't believe that happened ugh pi\n",
      "Generating features\n",
      "                                  document  n_tokens  n_i  sentiment\n",
      "0  I couldn't believe that happened ugh pi         8    1        0.0"
     ]
    },
    {
     "name": "stderr",
     "output_type": "stream",
     "text": [
      "127.0.0.1 - - [18/May/2022 17:14:23] \"\u001b[37mPOST /_dash-update-component HTTP/1.1\u001b[0m\" 200 -\n",
      "127.0.0.1 - - [18/May/2022 17:14:23] \"\u001b[37mPOST /_dash-update-component HTTP/1.1\u001b[0m\" 200 -\n"
     ]
    },
    {
     "name": "stdout",
     "output_type": "stream",
     "text": [
      "\n",
      "I couldn't believe that happened ugh pis\n",
      "Generating features\n",
      "                                   document  n_tokens  n_i  sentiment\n",
      "0  I couldn't believe that happened ugh pis         8    1        0.0\n"
     ]
    },
    {
     "name": "stderr",
     "output_type": "stream",
     "text": [
      "127.0.0.1 - - [18/May/2022 17:14:23] \"\u001b[37mPOST /_dash-update-component HTTP/1.1\u001b[0m\" 200 -\n",
      "127.0.0.1 - - [18/May/2022 17:14:23] \"\u001b[37mPOST /_dash-update-component HTTP/1.1\u001b[0m\" 200 -\n"
     ]
    },
    {
     "name": "stdout",
     "output_type": "stream",
     "text": [
      "I couldn't believe that happened ugh piss\n",
      "Generating features\n",
      "                                    document  n_tokens  n_i  sentiment\n",
      "0  I couldn't believe that happened ugh piss         8    1        0.0\n",
      "I couldn't believe that happened ugh pisse\n",
      "Generating features\n",
      "                                     document  n_tokens  n_i  sentiment\n",
      "0  I couldn't believe that happened ugh pisse         8    1        0.0\n"
     ]
    },
    {
     "name": "stderr",
     "output_type": "stream",
     "text": [
      "127.0.0.1 - - [18/May/2022 17:14:24] \"\u001b[37mPOST /_dash-update-component HTTP/1.1\u001b[0m\" 200 -\n"
     ]
    },
    {
     "name": "stdout",
     "output_type": "stream",
     "text": [
      "I couldn't believe that happened ugh pissed\n",
      "Generating features\n",
      "                                      document  n_tokens  n_i  sentiment\n",
      "0  I couldn't believe that happened ugh pissed         8    1        0.0\n"
     ]
    },
    {
     "name": "stderr",
     "output_type": "stream",
     "text": [
      "127.0.0.1 - - [18/May/2022 17:14:27] \"\u001b[37mPOST /_dash-update-component HTTP/1.1\u001b[0m\" 200 -\n"
     ]
    },
    {
     "name": "stdout",
     "output_type": "stream",
     "text": [
      "\n",
      "Generating features\n",
      "  document  n_tokens  n_i  sentiment\n",
      "0                  0    0        0.0\n"
     ]
    },
    {
     "name": "stderr",
     "output_type": "stream",
     "text": [
      "127.0.0.1 - - [18/May/2022 17:20:54] \"\u001b[37mPOST /_dash-update-component HTTP/1.1\u001b[0m\" 200 -\n"
     ]
    },
    {
     "name": "stdout",
     "output_type": "stream",
     "text": [
      "I\n",
      "Generating features\n",
      "  document  n_tokens  n_i  sentiment\n",
      "0        I         1    0        0.0\n"
     ]
    },
    {
     "name": "stderr",
     "output_type": "stream",
     "text": [
      "127.0.0.1 - - [18/May/2022 17:20:55] \"\u001b[37mPOST /_dash-update-component HTTP/1.1\u001b[0m\" 200 -\n"
     ]
    },
    {
     "name": "stdout",
     "output_type": "stream",
     "text": [
      "I \n",
      "Generating features\n",
      "  document  n_tokens  n_i  sentiment\n",
      "0       I          1    1        0.0\n"
     ]
    },
    {
     "name": "stderr",
     "output_type": "stream",
     "text": [
      "127.0.0.1 - - [18/May/2022 17:20:57] \"\u001b[37mPOST /_dash-update-component HTTP/1.1\u001b[0m\" 200 -\n"
     ]
    },
    {
     "name": "stdout",
     "output_type": "stream",
     "text": [
      "I\n",
      "Generating features\n",
      "  document  n_tokens  n_i  sentiment\n",
      "0        I         1    0        0.0\n"
     ]
    },
    {
     "name": "stderr",
     "output_type": "stream",
     "text": [
      "127.0.0.1 - - [18/May/2022 17:20:58] \"\u001b[37mPOST /_dash-update-component HTTP/1.1\u001b[0m\" 200 -\n"
     ]
    },
    {
     "name": "stdout",
     "output_type": "stream",
     "text": [
      "I \n",
      "Generating features\n",
      "  document  n_tokens  n_i  sentiment\n",
      "0       I          1    1        0.0\n",
      "I f\n",
      "Generating features"
     ]
    },
    {
     "name": "stderr",
     "output_type": "stream",
     "text": [
      "127.0.0.1 - - [18/May/2022 17:20:58] \"\u001b[37mPOST /_dash-update-component HTTP/1.1\u001b[0m\" 200 -\n",
      "127.0.0.1 - - [18/May/2022 17:20:58] \"\u001b[37mPOST /_dash-update-component HTTP/1.1\u001b[0m\" 200 -\n"
     ]
    },
    {
     "name": "stdout",
     "output_type": "stream",
     "text": [
      "\n",
      "  document  n_tokens  n_i  sentiment\n",
      "0      I f         2    1        0.0\n",
      "I fe\n",
      "Generating features\n",
      "  document  n_tokens  n_i  sentiment\n",
      "0     I fe         2    1        0.0\n",
      "I fel\n"
     ]
    },
    {
     "name": "stderr",
     "output_type": "stream",
     "text": [
      "127.0.0.1 - - [18/May/2022 17:20:59] \"\u001b[37mPOST /_dash-update-component HTTP/1.1\u001b[0m\" 200 -\n",
      "127.0.0.1 - - [18/May/2022 17:20:59] \"\u001b[37mPOST /_dash-update-component HTTP/1.1\u001b[0m\" 200 -\n"
     ]
    },
    {
     "name": "stdout",
     "output_type": "stream",
     "text": [
      "Generating features\n",
      "  document  n_tokens  n_i  sentiment\n",
      "0    I fel         2    1        0.0\n",
      "I felt\n",
      "Generating features\n",
      "  document  n_tokens  n_i  sentiment\n",
      "0   I felt         2    1        0.0\n",
      "I felt \n",
      "Generating features"
     ]
    },
    {
     "name": "stderr",
     "output_type": "stream",
     "text": [
      "127.0.0.1 - - [18/May/2022 17:20:59] \"\u001b[37mPOST /_dash-update-component HTTP/1.1\u001b[0m\" 200 -\n",
      "127.0.0.1 - - [18/May/2022 17:20:59] \"\u001b[37mPOST /_dash-update-component HTTP/1.1\u001b[0m\" 200 -\n"
     ]
    },
    {
     "name": "stdout",
     "output_type": "stream",
     "text": [
      "\n",
      "  document  n_tokens  n_i  sentiment\n",
      "0  I felt          2    1        0.0\n",
      "I felt r\n",
      "Generating features\n",
      "   document  n_tokens  n_i  sentiment\n",
      "0  I felt r         3    1        0.0\n"
     ]
    },
    {
     "name": "stderr",
     "output_type": "stream",
     "text": [
      "127.0.0.1 - - [18/May/2022 17:20:59] \"\u001b[37mPOST /_dash-update-component HTTP/1.1\u001b[0m\" 200 -\n"
     ]
    },
    {
     "name": "stdout",
     "output_type": "stream",
     "text": [
      "I felt re\n",
      "Generating features\n",
      "    document  n_tokens  n_i  sentiment\n",
      "0  I felt re         3    1        0.0\n"
     ]
    },
    {
     "name": "stderr",
     "output_type": "stream",
     "text": [
      "127.0.0.1 - - [18/May/2022 17:20:59] \"\u001b[37mPOST /_dash-update-component HTTP/1.1\u001b[0m\" 200 -\n"
     ]
    },
    {
     "name": "stdout",
     "output_type": "stream",
     "text": [
      "I felt reo\n",
      "Generating features\n",
      "     document  n_tokens  n_i  sentiment\n",
      "0  I felt reo         3    1        0.0\n",
      "I felt re\n",
      "Generating features\n",
      "    document  n_tokens  n_i  sentiment\n",
      "0  I felt re         3    1        0.0\n"
     ]
    },
    {
     "name": "stderr",
     "output_type": "stream",
     "text": [
      "127.0.0.1 - - [18/May/2022 17:20:59] \"\u001b[37mPOST /_dash-update-component HTTP/1.1\u001b[0m\" 200 -\n",
      "127.0.0.1 - - [18/May/2022 17:21:00] \"\u001b[37mPOST /_dash-update-component HTTP/1.1\u001b[0m\" 200 -\n"
     ]
    },
    {
     "name": "stdout",
     "output_type": "stream",
     "text": [
      "I felt r\n",
      "Generating features\n",
      "   document  n_tokens  n_i  sentiment\n",
      "0  I felt r         3    1        0.0\n"
     ]
    },
    {
     "name": "stderr",
     "output_type": "stream",
     "text": [
      "127.0.0.1 - - [18/May/2022 17:21:00] \"\u001b[37mPOST /_dash-update-component HTTP/1.1\u001b[0m\" 200 -\n"
     ]
    },
    {
     "name": "stdout",
     "output_type": "stream",
     "text": [
      "I felt \n",
      "Generating features\n",
      "  document  n_tokens  n_i  sentiment\n",
      "0  I felt          2    1        0.0\n"
     ]
    },
    {
     "name": "stderr",
     "output_type": "stream",
     "text": [
      "127.0.0.1 - - [18/May/2022 17:21:00] \"\u001b[37mPOST /_dash-update-component HTTP/1.1\u001b[0m\" 200 -\n",
      "127.0.0.1 - - [18/May/2022 17:21:00] \"\u001b[37mPOST /_dash-update-component HTTP/1.1\u001b[0m\" 200 -\n"
     ]
    },
    {
     "name": "stdout",
     "output_type": "stream",
     "text": [
      "I felt i\n",
      "Generating features\n",
      "   document  n_tokens  n_i  sentiment\n",
      "0  I felt i         3    1        0.0\n",
      "I felt it\n",
      "Generating features\n",
      "    document  n_tokens  n_i  sentiment\n",
      "0  I felt it         3    1        0.0\n",
      "I felt it \n",
      "Generating features\n",
      "     document  n_tokens  n_i  sentiment\n",
      "0  I felt it          3    1        0.0\n"
     ]
    },
    {
     "name": "stderr",
     "output_type": "stream",
     "text": [
      "127.0.0.1 - - [18/May/2022 17:21:01] \"\u001b[37mPOST /_dash-update-component HTTP/1.1\u001b[0m\" 200 -\n",
      "127.0.0.1 - - [18/May/2022 17:21:01] \"\u001b[37mPOST /_dash-update-component HTTP/1.1\u001b[0m\" 200 -\n"
     ]
    },
    {
     "name": "stdout",
     "output_type": "stream",
     "text": [
      "I felt it w\n",
      "Generating features\n",
      "      document  n_tokens  n_i  sentiment\n",
      "0  I felt it w         4    1        0.0\n",
      "I felt it wa\n",
      "Generating features\n",
      "I felt it was"
     ]
    },
    {
     "name": "stderr",
     "output_type": "stream",
     "text": [
      "127.0.0.1 - - [18/May/2022 17:21:01] \"\u001b[37mPOST /_dash-update-component HTTP/1.1\u001b[0m\" 200 -\n",
      "127.0.0.1 - - [18/May/2022 17:21:01] \"\u001b[37mPOST /_dash-update-component HTTP/1.1\u001b[0m\" 200 -\n",
      "127.0.0.1 - - [18/May/2022 17:21:01] \"\u001b[37mPOST /_dash-update-component HTTP/1.1\u001b[0m\" 200 -\n"
     ]
    },
    {
     "name": "stdout",
     "output_type": "stream",
     "text": [
      "       document  n_tokens  n_i  sentiment\n",
      "0  I felt it wa         4    1        0.0\n",
      "\n",
      "Generating features\n",
      "        document  n_tokens  n_i  sentiment\n",
      "0  I felt it was         4    1        0.0\n",
      "I felt it was \n",
      "Generating features\n",
      "         document  n_tokens  n_i  sentiment\n",
      "0  I felt it was          4    1        0.0\n"
     ]
    },
    {
     "name": "stderr",
     "output_type": "stream",
     "text": [
      "127.0.0.1 - - [18/May/2022 17:21:01] \"\u001b[37mPOST /_dash-update-component HTTP/1.1\u001b[0m\" 200 -\n",
      "127.0.0.1 - - [18/May/2022 17:21:01] \"\u001b[37mPOST /_dash-update-component HTTP/1.1\u001b[0m\" 200 -\n"
     ]
    },
    {
     "name": "stdout",
     "output_type": "stream",
     "text": [
      "I felt it was r\n",
      "Generating features\n",
      "I felt it was ro          document  n_tokens  n_i  sentiment\n",
      "0  I felt it was r         5    1        0.0\n",
      "\n",
      "Generating features\n",
      "           document  n_tokens  n_i  sentiment\n",
      "0  I felt it was ro         5    1        0.0\n"
     ]
    },
    {
     "name": "stderr",
     "output_type": "stream",
     "text": [
      "127.0.0.1 - - [18/May/2022 17:21:01] \"\u001b[37mPOST /_dash-update-component HTTP/1.1\u001b[0m\" 200 -\n",
      "127.0.0.1 - - [18/May/2022 17:21:01] \"\u001b[37mPOST /_dash-update-component HTTP/1.1\u001b[0m\" 200 -\n"
     ]
    },
    {
     "name": "stdout",
     "output_type": "stream",
     "text": [
      "I felt it was rom\n",
      "Generating features\n",
      "            document  n_tokens  n_i  sentiment\n",
      "0  I felt it was rom         5    1        0.0\n",
      "I felt it was roma\n",
      "Generating features\n",
      "             document  n_tokens  n_i  sentiment\n",
      "0  I felt it was roma         5    1        0.0\n"
     ]
    },
    {
     "name": "stderr",
     "output_type": "stream",
     "text": [
      "127.0.0.1 - - [18/May/2022 17:21:02] \"\u001b[37mPOST /_dash-update-component HTTP/1.1\u001b[0m\" 200 -\n",
      "127.0.0.1 - - [18/May/2022 17:21:02] \"\u001b[37mPOST /_dash-update-component HTTP/1.1\u001b[0m\" 200 -\n"
     ]
    },
    {
     "name": "stdout",
     "output_type": "stream",
     "text": [
      "I felt it was roman\n",
      "Generating features\n",
      "              document  n_tokens  n_i  sentiment\n",
      "0  I felt it was roman         5    1        0.0\n",
      "I felt it was romant\n",
      "Generating features\n",
      "               document  n_tokens  n_i  sentiment\n",
      "0  I felt it was romant         5    1        0.0\n"
     ]
    },
    {
     "name": "stderr",
     "output_type": "stream",
     "text": [
      "127.0.0.1 - - [18/May/2022 17:21:02] \"\u001b[37mPOST /_dash-update-component HTTP/1.1\u001b[0m\" 200 -\n",
      "127.0.0.1 - - [18/May/2022 17:21:02] \"\u001b[37mPOST /_dash-update-component HTTP/1.1\u001b[0m\" 200 -\n"
     ]
    },
    {
     "name": "stdout",
     "output_type": "stream",
     "text": [
      "I felt it was romanti\n",
      "Generating features\n",
      "                document  n_tokens  n_i  sentiment\n",
      "0  I felt it was romanti         5    1        0.0\n",
      "I felt it was romantic\n",
      "Generating features\n",
      "                 document  n_tokens  n_i  sentiment\n",
      "0  I felt it was romantic         5    1        0.0\n"
     ]
    },
    {
     "name": "stderr",
     "output_type": "stream",
     "text": [
      "127.0.0.1 - - [18/May/2022 17:21:05] \"\u001b[37mPOST /_dash-update-component HTTP/1.1\u001b[0m\" 200 -\n"
     ]
    },
    {
     "name": "stdout",
     "output_type": "stream",
     "text": [
      "I felt it was romantic \n",
      "Generating features\n",
      "                  document  n_tokens  n_i  sentiment\n",
      "0  I felt it was romantic          5    1        0.0\n"
     ]
    },
    {
     "name": "stderr",
     "output_type": "stream",
     "text": [
      "127.0.0.1 - - [18/May/2022 17:21:06] \"\u001b[37mPOST /_dash-update-component HTTP/1.1\u001b[0m\" 200 -\n"
     ]
    },
    {
     "name": "stdout",
     "output_type": "stream",
     "text": [
      "\n",
      "Generating features\n",
      "  document  n_tokens  n_i  sentiment\n",
      "0                  0    0        0.0\n"
     ]
    }
   ],
   "source": [
    "if __name__=='__main__':\n",
    "    app.run_server()"
   ]
  }
 ],
 "metadata": {
  "interpreter": {
   "hash": "97ae724bfa85b9b34df7982b8bb8c7216f435b92902d749e4263f71162bea840"
  },
  "kernelspec": {
   "display_name": "Python 3",
   "language": "python",
   "name": "python3"
  },
  "language_info": {
   "codemirror_mode": {
    "name": "ipython",
    "version": 3
   },
   "file_extension": ".py",
   "mimetype": "text/x-python",
   "name": "python",
   "nbconvert_exporter": "python",
   "pygments_lexer": "ipython3",
   "version": "3.8.5"
  }
 },
 "nbformat": 4,
 "nbformat_minor": 4
}
