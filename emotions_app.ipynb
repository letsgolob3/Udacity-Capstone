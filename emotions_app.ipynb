{
 "cells": [
  {
   "cell_type": "markdown",
   "metadata": {},
   "source": [
    "# Packages "
   ]
  },
  {
   "cell_type": "code",
   "execution_count": 1,
   "metadata": {},
   "outputs": [
    {
     "name": "stderr",
     "output_type": "stream",
     "text": [
      "C:\\Anaconda3\\lib\\site-packages\\dash_bootstrap_components\\_table.py:5: UserWarning: \n",
      "The dash_html_components package is deprecated. Please replace\n",
      "`import dash_html_components as html` with `from dash import html`\n",
      "  import dash_html_components as html\n"
     ]
    }
   ],
   "source": [
    "import pandas as pd\n",
    "import numpy as np\n",
    "import plotly\n",
    "import plotly.graph_objects as go\n",
    "import os\n",
    "import base64\n",
    "import re\n",
    "import dash\n",
    "import dash_bootstrap_components as dbc\n",
    "\n",
    "from dash.exceptions import PreventUpdate\n",
    "from dash import dcc\n",
    "from dash import html\n",
    "from dash import callback_context\n",
    "from dash import dash_table\n",
    "from dash.dependencies import Output\n",
    "from dash.dependencies import Input\n",
    "from plotly.subplots import make_subplots\n",
    "from textblob import TextBlob\n"
   ]
  },
  {
   "cell_type": "markdown",
   "metadata": {},
   "source": [
    "# Images\n"
   ]
  },
  {
   "cell_type": "code",
   "execution_count": 2,
   "metadata": {},
   "outputs": [],
   "source": [
    "#Path for RSM logo\n",
    "cwd=os.getcwd()\n",
    "\n",
    "fpath='.\\images\\initial.jpg'\n",
    "\n",
    "test_base64 = base64.b64encode(open(fpath, 'rb').read()).decode('ascii')"
   ]
  },
  {
   "cell_type": "markdown",
   "metadata": {},
   "source": [
    "# App layout and controls"
   ]
  },
  {
   "cell_type": "code",
   "execution_count": 3,
   "metadata": {},
   "outputs": [],
   "source": [
    "app=dash.Dash(__name__,external_stylesheets=[dbc.themes.SPACELAB,\n",
    "                                             \"https://cdnjs.cloudflare.com/ajax/libs/font-awesome/4.7.0/css/font-awesome.min.css\"])\n",
    "\n",
    "# df=pd.read_csv('.\\data\\AutoBio_SelectedTeam.csv')\n",
    "\n",
    "# test=dbConnect('accredible_cred_descriptions')\n",
    "\n",
    "\n",
    "app.layout=html.Div([\n",
    "    \n",
    "#RSM colors and app title\n",
    "    dbc.Row([dbc.Col(\n",
    "                    html.H1('Anger',style={\"color\":\"black\",\"background-color\":\"#F13027\",\n",
    "                                          \"text-align\":\"center\"})\n",
    "                    ,width={'size':2,'offset':0,'order':1}\n",
    "                    ),\n",
    "            dbc.Col(\n",
    "                    html.H1(\"Love\",style={\"color\":\"black\",\"background-color\":\"#F127A1\",\n",
    "                                          \"text-align\":\"center\"})\n",
    "                    ,width={'size':2,'order':2}\n",
    "                    ),\n",
    "            dbc.Col(\n",
    "                    html.H1(\"Joy\",style={\"color\":\"black\",\"background-color\":\"#FFF633\",\n",
    "                                        \"text-align\":\"center\"})\n",
    "                    ,width={'size':2,'order':3}\n",
    "                    ), \n",
    "            dbc.Col(\n",
    "                    html.H1(\"Surprise\",style={\"color\":\"black\",\"background-color\":\"#27F143\",\n",
    "                                             \"text-align\":\"center\"})\n",
    "                    ,width={'size':2,'order':4}\n",
    "                    ), \n",
    "            dbc.Col(\n",
    "                    html.H1(\"Sadness\",style={\"color\":\"black\",\"background-color\":\"#279BF1\",\n",
    "                                            \"text-align\":\"center\"})\n",
    "                    ,width={'size':2,'order':5}\n",
    "                    ), \n",
    "            dbc.Col(\n",
    "                    html.H1(\"Fear\",style={\"color\":\"black\",\"background-color\":\"#9827F1\",\n",
    "                                         \"text-align\":\"center\"})\n",
    "                    ,width={'size':2,'order':6}\n",
    "                    ), \n",
    "            ]),\n",
    "\n",
    "#LOB, Region, and Level Dropdown Selectors\n",
    "    dbc.Row([dbc.Col([\n",
    "                html.Div([\"Emotion\"],style={'font-size':24}),\n",
    "                dcc.Dropdown(id=\"emotion\",options=[{'label':'Joy','value':'joy'},\n",
    "                                                   {'label':'Anger','value':'anger'},\n",
    "                                                   {'label':'Sadness','value':'sadness'},\n",
    "                                                   {'label':'Love','value':'love'},\n",
    "                                                   {'label':'Surprise','value':'surprise'},\n",
    "                                                   {'label':'Fear','value':'fear'},\n",
    "                                                  ],\n",
    "                             placeholder='-Select Emotion-',clearable=True,\n",
    "                             style={'font-size':24,\n",
    "                                   'vertical-align':'text-bottom',\n",
    "                                   'padding-bottom':'5px'}\n",
    "                            )\n",
    "                    ],width={'size':1,'offset':1}),#End dbc.Col\n",
    "             \n",
    "    ]),#End dbc.Row\n",
    "    \n",
    "#Free text input for user text.  The dcc store is used to store data in browser and\n",
    "    #can share data between callbacks \n",
    "    dbc.Row([dbc.Col([\n",
    "                    html.Div([\"How are you feeling\"],style={'font-size':24}),\n",
    "                    dcc.Input(id='text_input',placeholder='Enter text..',type='text',style={'font-size':24,\n",
    "                                                                                      'width':'80%'})],\n",
    "            width={'size':6,'offset':1}),\n",
    "            ]),\n",
    "    \n",
    "    dcc.Download(id='download_excel'),    \n",
    "    dcc.Store(id='saved_data',data={}),\n",
    "    dcc.Store(id='df_filtered',data={}),\n",
    "\n",
    "# Variable image\n",
    "    dbc.Row([\n",
    "#         dbc.Col([html.Br(),\n",
    "#                  html.Button(id='save_excel',n_clicks=0,\n",
    "#                              style={\"color\":\"white\",\"background-color\":\"#3F9C35\",'font-size':24,\n",
    "#                                   'border-radius':'8px'},\n",
    "#                              children=[html.I(className=\"fa fa-download mr-1\"),\"Generate team\"])],\n",
    "#                 width={'offset':1,'order':1}),\n",
    "\n",
    "        dbc.Col([\n",
    "                html.Br(),\n",
    "                html.Img(id='picture',src='data:image/png;base64,{}'.format(test_base64))],\n",
    "                width={'offset':5,'order':1},\n",
    "\n",
    "                ),#End dbc.Col\n",
    "        \n",
    "            ]), #End dbc.Row\n",
    "        \n",
    "\n",
    "    dbc.Row([html.Br(),\n",
    "        dbc.Col(dcc.Graph(id='sentiment'),width={'size':4,'offset':4})\n",
    "            \n",
    "            \n",
    "        ]) #End dbc.Row\n",
    "        \n",
    "        \n",
    "        \n",
    "             \n",
    "#              dbc.Col([\n",
    "#                  dash_table.DataTable(\n",
    "#                      id=\"table\",\n",
    "# #                      data={},\n",
    "# #                      columns=[]\n",
    "# #                      data=df.to_dict('records'),\n",
    "# #                      columns=[{\"name\": i, \"id\": i} for i in df.columns if i not in \\\n",
    "# #                              ['First Name','Last Name','Location City','Location State/Province']]\n",
    "#                  ) #end DataTable\n",
    "                 \n",
    "#              ],width={'size':7}) #End dbc.Col fordash data table \n",
    "        \n",
    "#             ]), #End dbc.Row\n",
    "\n",
    "                    \n",
    "]) #End html.Div\n",
    "\n",
    "        "
   ]
  },
  {
   "cell_type": "markdown",
   "metadata": {},
   "source": [
    "# Callbacks\n"
   ]
  },
  {
   "cell_type": "code",
   "execution_count": 4,
   "metadata": {},
   "outputs": [],
   "source": [
    "#Populate the image based on value of emotion checkbox\n",
    "\n",
    "@app.callback(\n",
    "    Output('picture', 'src'),\n",
    "    Input(component_id='emotion',component_property='value')\n",
    "            )\n",
    "    \n",
    "def set_image(chosen_emotion):\n",
    "    \n",
    "    if chosen_emotion is None:\n",
    "        raise PreventUpdate\n",
    "    \n",
    "    fpath=f\".\\images\\{chosen_emotion}.jpg\"\n",
    "    \n",
    "    test_base64 = base64.b64encode(open(fpath, 'rb').read()).decode('ascii')\n",
    "    src='data:image/png;base64,{}'.format(test_base64)\n",
    "    \n",
    "    \n",
    "    return src"
   ]
  },
  {
   "cell_type": "code",
   "execution_count": 5,
   "metadata": {},
   "outputs": [],
   "source": [
    "#Populate the graph with sentiment and subjectivity\n",
    "\n",
    "@app.callback(\n",
    "    Output(component_id='sentiment',component_property='figure'),\n",
    "    Input(component_id='text_input',component_property='value')\n",
    "\n",
    ")\n",
    "\n",
    "def set_graph(text):\n",
    "    \n",
    "    print(text)\n",
    "    '''\n",
    "    INPUT\n",
    "    text - a string of text based on the user input in the application\n",
    "\n",
    "    OUTPUT\n",
    "    fig - a figure to show the sentiment and subjectivity of the text using the TextBlob library\n",
    "    '''    \n",
    "    \n",
    "    \n",
    "    def SetColor(y):\n",
    "        '''\n",
    "        INPUT\n",
    "        y - the y-value for the graph\n",
    "\n",
    "        OUTPUT\n",
    "        col - color based on y-value\n",
    "        '''            \n",
    "        if y>=0:\n",
    "            col= \"#3F9C35\"\n",
    "        else:\n",
    "            col= \"red\"\n",
    "        return col\n",
    "\n",
    "    \n",
    "    \n",
    "    if text is None:\n",
    "        raise PreventUpdate\n",
    "    \n",
    "    \n",
    "    #Sentiment from Textblob\n",
    "    tb_phrase = TextBlob(text)\n",
    "\n",
    "    sentiment=tb_phrase.sentiment\n",
    "\n",
    "    polarity=sentiment.polarity\n",
    "\n",
    "    subjectivity=sentiment.subjectivity\n",
    "\n",
    "    #Variables for graph\n",
    "    x=['Sentiment', 'Subjectivity']\n",
    "\n",
    "    ydf=pd.DataFrame([polarity, subjectivity],columns=[\"y1\"])\n",
    "\n",
    "    if polarity<0:\n",
    "\n",
    "        y_text = ['Negative','Subj.']\n",
    "    else:\n",
    "        y_text = ['Positive','Subj.']\n",
    "\n",
    "\n",
    "    #Graph properties\n",
    "    fig = go.Figure(data=go.Bar(x=x, y=ydf['y1'],text=y_text,\n",
    "                                marker=dict(color = list(map(SetColor, ydf[\"y1\"])))))\n",
    "\n",
    "    fig.update_traces(marker_line_color='black',marker_line_width=1.5,opacity=0.6)\n",
    "\n",
    "\n",
    "    fig.update_layout(title_text=\"Text sentiment between (negative) -1 and 1 (positive)\",\n",
    "                      title_font_size=30)\n",
    "\n",
    "    fig.update_yaxes(range=[-1,1],tickvals=[-1, -0.5, 0, 0.5,1],\n",
    "                     zeroline=True,zerolinewidth=2,\n",
    "                     zerolinecolor='black',showgrid=True)  \n",
    "    \n",
    "    return fig"
   ]
  },
  {
   "cell_type": "code",
   "execution_count": 6,
   "metadata": {},
   "outputs": [],
   "source": [
    "# #Populate the data and the columns of the dash_table\n",
    "\n",
    "# @app.callback(\n",
    "#     Output('table','data'),\n",
    "#     Output('df_filtered','data'),\n",
    "#     Input(component_id='lob',component_property='value')\n",
    "#             )\n",
    "\n",
    "\n",
    "# def set_table_data_cols(chosen_lob):\n",
    "    \n",
    "#     if chosen_lob is None:\n",
    "#         raise PreventUpdate\n",
    "    \n",
    "#     if chosen_lob in ['Audit','Consulting','Tax','ICS']:\n",
    "        \n",
    "#         #The key to getting this to work was changing df to df_filtered (i.e another name)\n",
    "#         df_filtered=df.loc[df['LOB']==chosen_lob].copy()\n",
    "        \n",
    "#         data_table_data=df_filtered.to_dict('records')\n",
    "    \n",
    "\n",
    "#     else:\n",
    "#         data_table_data={}\n",
    "\n",
    "#     return data_table_data,data_table_data"
   ]
  },
  {
   "cell_type": "code",
   "execution_count": 7,
   "metadata": {},
   "outputs": [],
   "source": [
    "# #Download team list\n",
    "# @app.callback(\n",
    "#     Output(component_id='download_excel',component_property='data'),\n",
    "#     Input(component_id='save_excel',component_property='n_clicks'),\n",
    "#     State(component_id='saved_data',component_property='data'),\n",
    "#     State(component_id='df_filtered',component_property='data'),\n",
    "#     prevent_initial_call=True,\n",
    "#             )\n",
    "\n",
    "# def download_excel(save_excel_button_clicks,values,df_filtered):\n",
    "    \n",
    "#     print(f'Number of button clicks {save_excel_button_clicks}')\n",
    "    \n",
    "#     if save_excel_button_clicks==0:\n",
    "#         raise PreventUpdate\n",
    "    \n",
    "#     else:\n",
    "        \n",
    "# #         final_df=pd.DataFrame(values,columns=['Team Members'])\n",
    "\n",
    "#         #May want to change this setup so the df_filtered was already filtered (like values was in get_teams_list)\n",
    "#         final_df_test=pd.DataFrame(df_filtered)\n",
    "        \n",
    "#         final_df=final_df_test.loc[final_df_test['Full Name'].isin(values)]\n",
    "\n",
    "        \n",
    "#         curr_date=datetime.now().date()\n",
    "        \n",
    "        \n",
    "#     return dcc.send_data_frame(final_df.to_excel, f'{curr_date}_results.xlsx', sheet_name='Results',index=False)"
   ]
  },
  {
   "cell_type": "code",
   "execution_count": null,
   "metadata": {},
   "outputs": [
    {
     "name": "stdout",
     "output_type": "stream",
     "text": [
      "Dash is running on http://127.0.0.1:8050/\n",
      "\n",
      " * Serving Flask app \"__main__\" (lazy loading)\n",
      " * Environment: production\n",
      "   WARNING: This is a development server. Do not use it in a production deployment.\n",
      "   Use a production WSGI server instead.\n",
      " * Debug mode: off\n"
     ]
    },
    {
     "name": "stderr",
     "output_type": "stream",
     "text": [
      " * Running on http://127.0.0.1:8050/ (Press CTRL+C to quit)\n",
      "127.0.0.1 - - [27/Apr/2022 16:24:21] \"\u001b[37mGET / HTTP/1.1\u001b[0m\" 200 -\n",
      "127.0.0.1 - - [27/Apr/2022 16:24:22] \"\u001b[37mGET /_dash-dependencies HTTP/1.1\u001b[0m\" 200 -\n",
      "127.0.0.1 - - [27/Apr/2022 16:24:22] \"\u001b[37mGET /_dash-layout HTTP/1.1\u001b[0m\" 200 -\n",
      "127.0.0.1 - - [27/Apr/2022 16:24:22] \"\u001b[37mGET /_favicon.ico?v=2.0.0 HTTP/1.1\u001b[0m\" 200 -\n",
      "127.0.0.1 - - [27/Apr/2022 16:24:22] \"\u001b[37mGET /_dash-component-suites/dash/dcc/async-dropdown.js HTTP/1.1\u001b[0m\" 200 -\n",
      "127.0.0.1 - - [27/Apr/2022 16:24:22] \"\u001b[37mGET /_dash-component-suites/dash/dcc/async-graph.js HTTP/1.1\u001b[0m\" 200 -\n",
      "127.0.0.1 - - [27/Apr/2022 16:24:22] \"\u001b[37mGET /_dash-component-suites/dash/dcc/async-plotlyjs.js HTTP/1.1\u001b[0m\" 200 -\n",
      "127.0.0.1 - - [27/Apr/2022 16:24:22] \"\u001b[37mPOST /_dash-update-component HTTP/1.1\u001b[0m\" 204 -\n",
      "127.0.0.1 - - [27/Apr/2022 16:24:22] \"\u001b[37mPOST /_dash-update-component HTTP/1.1\u001b[0m\" 204 -\n"
     ]
    },
    {
     "name": "stdout",
     "output_type": "stream",
     "text": [
      "None\n"
     ]
    },
    {
     "name": "stderr",
     "output_type": "stream",
     "text": [
      "127.0.0.1 - - [27/Apr/2022 16:24:23] \"\u001b[37mGET /_favicon.ico?v=2.0.0 HTTP/1.1\u001b[0m\" 200 -\n",
      "127.0.0.1 - - [27/Apr/2022 16:24:29] \"\u001b[37mPOST /_dash-update-component HTTP/1.1\u001b[0m\" 200 -\n",
      "127.0.0.1 - - [27/Apr/2022 16:24:32] \"\u001b[37mPOST /_dash-update-component HTTP/1.1\u001b[0m\" 200 -\n"
     ]
    },
    {
     "name": "stdout",
     "output_type": "stream",
     "text": [
      "m\n",
      "my"
     ]
    },
    {
     "name": "stderr",
     "output_type": "stream",
     "text": [
      "127.0.0.1 - - [27/Apr/2022 16:24:32] \"\u001b[37mPOST /_dash-update-component HTTP/1.1\u001b[0m\" 200 -\n",
      "127.0.0.1 - - [27/Apr/2022 16:24:32] \"\u001b[37mPOST /_dash-update-component HTTP/1.1\u001b[0m\" 200 -\n"
     ]
    },
    {
     "name": "stdout",
     "output_type": "stream",
     "text": [
      "\n",
      "my \n"
     ]
    },
    {
     "name": "stderr",
     "output_type": "stream",
     "text": [
      "127.0.0.1 - - [27/Apr/2022 16:24:32] \"\u001b[37mPOST /_dash-update-component HTTP/1.1\u001b[0m\" 200 -\n",
      "127.0.0.1 - - [27/Apr/2022 16:24:32] \"\u001b[37mPOST /_dash-update-component HTTP/1.1\u001b[0m\" 200 -\n"
     ]
    },
    {
     "name": "stdout",
     "output_type": "stream",
     "text": [
      "my ba\n",
      "my bac\n"
     ]
    },
    {
     "name": "stderr",
     "output_type": "stream",
     "text": [
      "127.0.0.1 - - [27/Apr/2022 16:24:33] \"\u001b[37mPOST /_dash-update-component HTTP/1.1\u001b[0m\" 200 -\n",
      "127.0.0.1 - - [27/Apr/2022 16:24:33] \"\u001b[37mPOST /_dash-update-component HTTP/1.1\u001b[0m\" 200 -\n"
     ]
    },
    {
     "name": "stdout",
     "output_type": "stream",
     "text": [
      "my back\n",
      "my back \n"
     ]
    },
    {
     "name": "stderr",
     "output_type": "stream",
     "text": [
      "127.0.0.1 - - [27/Apr/2022 16:24:33] \"\u001b[37mPOST /_dash-update-component HTTP/1.1\u001b[0m\" 200 -\n",
      "127.0.0.1 - - [27/Apr/2022 16:24:33] \"\u001b[37mPOST /_dash-update-component HTTP/1.1\u001b[0m\" 200 -\n"
     ]
    },
    {
     "name": "stdout",
     "output_type": "stream",
     "text": [
      "my back f\n",
      "my back fe\n"
     ]
    },
    {
     "name": "stderr",
     "output_type": "stream",
     "text": [
      "127.0.0.1 - - [27/Apr/2022 16:24:33] \"\u001b[37mPOST /_dash-update-component HTTP/1.1\u001b[0m\" 200 -\n",
      "127.0.0.1 - - [27/Apr/2022 16:24:33] \"\u001b[37mPOST /_dash-update-component HTTP/1.1\u001b[0m\" 200 -\n"
     ]
    },
    {
     "name": "stdout",
     "output_type": "stream",
     "text": [
      "my back fee\n",
      "my back feel\n"
     ]
    },
    {
     "name": "stderr",
     "output_type": "stream",
     "text": [
      "127.0.0.1 - - [27/Apr/2022 16:24:34] \"\u001b[37mPOST /_dash-update-component HTTP/1.1\u001b[0m\" 200 -\n",
      "127.0.0.1 - - [27/Apr/2022 16:24:34] \"\u001b[37mPOST /_dash-update-component HTTP/1.1\u001b[0m\" 200 -\n"
     ]
    },
    {
     "name": "stdout",
     "output_type": "stream",
     "text": [
      "my back feels\n",
      "my back feels \n"
     ]
    },
    {
     "name": "stderr",
     "output_type": "stream",
     "text": [
      "127.0.0.1 - - [27/Apr/2022 16:24:34] \"\u001b[37mPOST /_dash-update-component HTTP/1.1\u001b[0m\" 200 -\n",
      "127.0.0.1 - - [27/Apr/2022 16:24:34] \"\u001b[37mPOST /_dash-update-component HTTP/1.1\u001b[0m\" 200 -\n"
     ]
    },
    {
     "name": "stdout",
     "output_type": "stream",
     "text": [
      "my back feels b\n",
      "my back feels be\n"
     ]
    },
    {
     "name": "stderr",
     "output_type": "stream",
     "text": [
      "127.0.0.1 - - [27/Apr/2022 16:24:34] \"\u001b[37mPOST /_dash-update-component HTTP/1.1\u001b[0m\" 200 -\n",
      "127.0.0.1 - - [27/Apr/2022 16:24:34] \"\u001b[37mPOST /_dash-update-component HTTP/1.1\u001b[0m\" 200 -\n"
     ]
    },
    {
     "name": "stdout",
     "output_type": "stream",
     "text": [
      "my back feels bet\n",
      "my back feels bett\n"
     ]
    },
    {
     "name": "stderr",
     "output_type": "stream",
     "text": [
      "127.0.0.1 - - [27/Apr/2022 16:24:35] \"\u001b[37mPOST /_dash-update-component HTTP/1.1\u001b[0m\" 200 -\n",
      "127.0.0.1 - - [27/Apr/2022 16:24:35] \"\u001b[37mPOST /_dash-update-component HTTP/1.1\u001b[0m\" 200 -\n"
     ]
    },
    {
     "name": "stdout",
     "output_type": "stream",
     "text": [
      "my back feels bette\n",
      "my back feels better\n"
     ]
    }
   ],
   "source": [
    "if __name__=='__main__':\n",
    "    app.run_server()"
   ]
  }
 ],
 "metadata": {
  "interpreter": {
   "hash": "97ae724bfa85b9b34df7982b8bb8c7216f435b92902d749e4263f71162bea840"
  },
  "kernelspec": {
   "display_name": "Python 3",
   "language": "python",
   "name": "python3"
  },
  "language_info": {
   "codemirror_mode": {
    "name": "ipython",
    "version": 3
   },
   "file_extension": ".py",
   "mimetype": "text/x-python",
   "name": "python",
   "nbconvert_exporter": "python",
   "pygments_lexer": "ipython3",
   "version": "3.8.5"
  }
 },
 "nbformat": 4,
 "nbformat_minor": 4
}
