{
 "cells": [
  {
   "cell_type": "markdown",
   "metadata": {},
   "source": [
    "# Packages "
   ]
  },
  {
   "cell_type": "code",
   "execution_count": 1,
   "metadata": {},
   "outputs": [
    {
     "name": "stderr",
     "output_type": "stream",
     "text": [
      "C:\\Anaconda3\\lib\\site-packages\\dash_bootstrap_components\\_table.py:5: UserWarning: \n",
      "The dash_html_components package is deprecated. Please replace\n",
      "`import dash_html_components as html` with `from dash import html`\n",
      "  import dash_html_components as html\n",
      "[nltk_data] Downloading package punkt to\n",
      "[nltk_data]     C:\\Users\\E082499\\AppData\\Roaming\\nltk_data...\n",
      "[nltk_data]   Package punkt is already up-to-date!\n",
      "[nltk_data] Downloading package stopwords to\n",
      "[nltk_data]     C:\\Users\\E082499\\AppData\\Roaming\\nltk_data...\n",
      "[nltk_data]   Package stopwords is already up-to-date!\n",
      "[nltk_data] Downloading package wordnet to\n",
      "[nltk_data]     C:\\Users\\E082499\\AppData\\Roaming\\nltk_data...\n",
      "[nltk_data]   Package wordnet is already up-to-date!\n"
     ]
    }
   ],
   "source": [
    "import pandas as pd\n",
    "import numpy as np\n",
    "import plotly\n",
    "import plotly.graph_objects as go\n",
    "import os\n",
    "import base64\n",
    "import re\n",
    "import pickle\n",
    "import dash\n",
    "import dash_bootstrap_components as dbc\n",
    "\n",
    "from dash.exceptions import PreventUpdate\n",
    "from dash import dcc\n",
    "from dash import html\n",
    "from dash import dash_table\n",
    "from dash.dependencies import Output\n",
    "from dash.dependencies import Input\n",
    "from plotly.subplots import make_subplots\n",
    "from textblob import TextBlob\n",
    "from nltk.stem.wordnet import WordNetLemmatizer\n",
    "\n",
    "import nltk\n",
    "nltk.download('punkt')\n",
    "nltk.download('stopwords')\n",
    "nltk.download('wordnet')\n",
    "\n",
    "from emotions_model import count_tokens\n",
    "from emotions_model import apply_features\n",
    "from emotions_model import count_n_char\n",
    "from emotions_model import load_model\n",
    "from emotions_model import tokenize_and_join\n",
    "from emotions_model import get_top_words_per_emotion_idx"
   ]
  },
  {
   "cell_type": "markdown",
   "metadata": {},
   "source": [
    "# Images and Model\n"
   ]
  },
  {
   "cell_type": "code",
   "execution_count": 2,
   "metadata": {},
   "outputs": [
    {
     "name": "stdout",
     "output_type": "stream",
     "text": [
      "dict_keys(['surprise', 'love', 'anger', 'sadness', 'fear', 'joy'])\n"
     ]
    }
   ],
   "source": [
    "# Relative paths\n",
    "cwd=os.getcwd()\n",
    "\n",
    "fpath='.\\images\\initial.jpg'\n",
    "\n",
    "test_base64 = base64.b64encode(open(fpath, 'rb').read()).decode('ascii')\n",
    "\n",
    "\n",
    "# Deserializing model object and keywords for indicators\n",
    "pipeML= load_model('model.pkl')\n",
    "\n",
    "handler = open('top_words_per_target.pkl', \"rb\")\n",
    "top_words_per_target= pickle.load(handler)\n",
    "\n",
    "print(top_words_per_target.keys())\n",
    "\n",
    "\n"
   ]
  },
  {
   "cell_type": "markdown",
   "metadata": {},
   "source": [
    "# App layout and controls"
   ]
  },
  {
   "cell_type": "code",
   "execution_count": 3,
   "metadata": {},
   "outputs": [],
   "source": [
    "app=dash.Dash(__name__,external_stylesheets=[dbc.themes.SPACELAB,\n",
    "                                             \"https://cdnjs.cloudflare.com/ajax/libs/font-awesome/4.7.0/css/font-awesome.min.css\"])\n",
    "\n",
    "\n",
    "\n",
    "app.layout=html.Div([\n",
    "    \n",
    "#Colors and app title\n",
    "    dbc.Row([dbc.Col(\n",
    "                    html.H1('Anger',style={\"color\":\"black\",\"background-color\":\"#F13027\",\n",
    "                                          \"text-align\":\"center\"})\n",
    "                    ,width={'size':2,'offset':0,'order':1}\n",
    "                    ),\n",
    "            dbc.Col(\n",
    "                    html.H1(\"Love\",style={\"color\":\"black\",\"background-color\":\"#F127A1\",\n",
    "                                          \"text-align\":\"center\"})\n",
    "                    ,width={'size':2,'order':2}\n",
    "                    ),\n",
    "            dbc.Col(\n",
    "                    html.H1(\"Joy\",style={\"color\":\"black\",\"background-color\":\"#FFF633\",\n",
    "                                        \"text-align\":\"center\"})\n",
    "                    ,width={'size':2,'order':3}\n",
    "                    ), \n",
    "            dbc.Col(\n",
    "                    html.H1(\"Surprise\",style={\"color\":\"black\",\"background-color\":\"#27F143\",\n",
    "                                             \"text-align\":\"center\"})\n",
    "                    ,width={'size':2,'order':4}\n",
    "                    ), \n",
    "            dbc.Col(\n",
    "                    html.H1(\"Sadness\",style={\"color\":\"black\",\"background-color\":\"#279BF1\",\n",
    "                                            \"text-align\":\"center\"})\n",
    "                    ,width={'size':2,'order':5}\n",
    "                    ), \n",
    "            dbc.Col(\n",
    "                    html.H1(\"Fear\",style={\"color\":\"black\",\"background-color\":\"#9827F1\",\n",
    "                                         \"text-align\":\"center\"})\n",
    "                    ,width={'size':2,'order':6}\n",
    "                    ), \n",
    "            ]),\n",
    "\n",
    "    \n",
    "#Free text input for user text.  The dcc store is used to store data in browser and\n",
    "    #can share data between callbacks \n",
    "    dbc.Row([dbc.Col([\n",
    "                    html.Div([\"How are you feeling\"],style={'font-size':24}),\n",
    "                    dcc.Input(id='text_input',placeholder='Enter text..',type='text',style={'font-size':24,\n",
    "                                                                                      'width':'80%'})],\n",
    "            width={'size':6,'offset':1}),\n",
    "            ]),\n",
    "    \n",
    "    dcc.Download(id='download_excel'),    \n",
    "    dcc.Store(id='saved_data',data={}),\n",
    "    dcc.Store(id='df_filtered',data={}),\n",
    "\n",
    "# Variable image\n",
    "    dbc.Row([\n",
    "\n",
    "        dbc.Col([\n",
    "                html.Br(),\n",
    "                html.Img(id='picture',src='data:image/png;base64,{}'.format(test_base64)),\n",
    "\n",
    "                ],\n",
    "                width={'offset':5,'order':1},\n",
    "\n",
    "                ),#End dbc.Col\n",
    "        \n",
    "            ]), #End dbc.Row\n",
    "        \n",
    "\n",
    "    dbc.Row([html.Br()]),\n",
    "    \n",
    "    dbc.Row([\n",
    "        dbc.Col([\n",
    "            dcc.Graph(id='sentiment')],width={'size':4,'offset':4}),\n",
    "        ]), #End dbc.Row\n",
    "    dbc.Row([\n",
    "        dbc.Col([\n",
    "            html.Table([\n",
    "                html.Tr([html.Td(['Sentiment Subjectivity:  '],\n",
    "                                 style={'font-size':24}), \n",
    "                         html.Td(id='subj',\n",
    "                                 style={'text-align':'right','font-size':24})],\n",
    "                         style={'text-align':'right','font-size':24}),\n",
    "                html.Tr([html.Td('The subjectivity is in the range [0.0, 1.0]',\n",
    "                                  style={'text-align':'right','font-size':16})],\n",
    "                        style={'text-align':'right','font-size':16}),\n",
    "                html.Tr([html.Td('where 0.0 is very objective and 1.0 is very subjective',\n",
    "                                  style={'text-align':'right','font-size':16})],\n",
    "                        style={'text-align':'right','font-size':16}),\n",
    "                        ]), # End Table \n",
    "                ],width={'offset':5}) # End Col\n",
    "\n",
    "    ]) #End Row\n",
    "\n",
    "\n",
    "        \n",
    "        \n",
    "\n",
    "                    \n",
    "]) #End html.Div\n",
    "\n",
    "        "
   ]
  },
  {
   "cell_type": "markdown",
   "metadata": {},
   "source": [
    "# Callbacks\n"
   ]
  },
  {
   "cell_type": "code",
   "execution_count": 4,
   "metadata": {},
   "outputs": [],
   "source": [
    "# 1) Populate the graph with sentiment and subjectivity\n",
    "# 2) Populate the image based on the value of model output \n",
    "\n",
    "@app.callback(\n",
    "    Output(component_id='sentiment',component_property='figure'),\n",
    "    Output('picture', 'src'),\n",
    "    Output('subj','children'),\n",
    "    Input(component_id='text_input',component_property='value')\n",
    "\n",
    ")\n",
    "\n",
    "def set_graph(text):\n",
    "    \n",
    "    print(text)\n",
    "    '''\n",
    "    INPUT\n",
    "    text - a string of text based on the user input in the application\n",
    "\n",
    "    OUTPUT\n",
    "    fig - a figure to show the sentiment and subjectivity of the text using the TextBlob library\n",
    "    '''    \n",
    "    \n",
    "    \n",
    "    def SetColor(y):\n",
    "        '''\n",
    "        INPUT\n",
    "        y - the y-value for the graph\n",
    "\n",
    "        OUTPUT\n",
    "        col - color based on y-value\n",
    "        '''            \n",
    "        if y>=0:\n",
    "            col= \"#3F9C35\"\n",
    "        else:\n",
    "            col= \"red\"\n",
    "        return col\n",
    "\n",
    "    \n",
    "    \n",
    "    if text is None:\n",
    "        raise PreventUpdate\n",
    "    \n",
    "    \n",
    "    #Sentiment from Textblob\n",
    "\n",
    "    tb_phrase = TextBlob(text)\n",
    "    \n",
    "    phrase_corrected=str(tb_phrase.correct())\n",
    "    \n",
    "    \n",
    "    if tb_phrase==phrase_corrected:\n",
    "#         print('No spelling errors')\n",
    "        pass\n",
    "    else:\n",
    "#         print('Spelling error! Fixed')\n",
    "#         print(phrase_corrected)\n",
    "        tb_phrase=TextBlob(phrase_corrected)\n",
    "    \n",
    "\n",
    "    sentiment=tb_phrase.sentiment\n",
    "\n",
    "    polarity=sentiment.polarity\n",
    "\n",
    "    subjectivity=sentiment.subjectivity\n",
    "\n",
    "    #Variables for graph\n",
    "    x=['Sentiment']\n",
    "\n",
    "    ydf=pd.DataFrame([polarity],columns=[\"y1\"])\n",
    "\n",
    "    if polarity<0:\n",
    "\n",
    "        y_text = ['Negative']\n",
    "    else:\n",
    "        y_text = ['Positive']\n",
    "\n",
    "\n",
    "    #Graph properties\n",
    "    fig = go.Figure(data=go.Bar(x=x, y=ydf['y1'],text=y_text,\n",
    "                                marker=dict(color = list(map(SetColor, ydf[\"y1\"])))))\n",
    "\n",
    "    fig.update_traces(marker_line_color='black',marker_line_width=1.5,opacity=0.6)\n",
    "\n",
    "\n",
    "    fig.update_layout(title_text=\"Sentiment score: -1 to 1\",\n",
    "                      title_font_size=30,\n",
    "                      font=dict(size=24),\n",
    "                      title_x=0.5)\n",
    "\n",
    "    fig.update_yaxes(range=[-1,1],tickvals=[-1, -0.5, 0, 0.5,1],\n",
    "                     zeroline=True,zerolinewidth=2,\n",
    "                     zerolinecolor='black',showgrid=True)  \n",
    "    \n",
    "    #Instantiate feature generation object and use methods for preprocessing\n",
    "\n",
    "    new_text_df=pd.DataFrame({'document':[text]},columns=['document'])\n",
    "    \n",
    "    new_text_df['document']=new_text_df['document'].apply(tokenize_and_join)\n",
    "       \n",
    "    new_text_df=apply_features(new_text_df)\n",
    "    \n",
    "    # Adding in the indicators as features\n",
    "    for emotion in top_words_per_target.keys():\n",
    "        new_text_df[f'has_top_{emotion}_word']=new_text_df['document'].str.contains('|'.join(top_words_per_target[emotion]))\n",
    "    \n",
    "    \n",
    "    [new_text_df[f'has_top_{emotion}_word'].replace({True:1,False:0},inplace=True) \\\n",
    "         for emotion in top_words_per_target.keys()]\n",
    "    \n",
    "    \n",
    "    print(new_text_df.head())\n",
    "    \n",
    "    # Use trained model on new text and output result via image\n",
    "\n",
    "    pred=pipeML.predict(new_text_df)\n",
    "    \n",
    "    pred_emotion=list(pred)[0]\n",
    "    \n",
    "    \n",
    "    fpath=f\".\\images\\{pred_emotion}.jpg\"\n",
    "    \n",
    "    test_base64 = base64.b64encode(open(fpath, 'rb').read()).decode('ascii')\n",
    "    src='data:image/png;base64,{}'.format(test_base64)\n",
    "    \n",
    "    return fig,src,round(subjectivity,1)"
   ]
  },
  {
   "cell_type": "code",
   "execution_count": null,
   "metadata": {},
   "outputs": [
    {
     "name": "stdout",
     "output_type": "stream",
     "text": [
      "Dash is running on http://127.0.0.1:8050/\n",
      "\n",
      " * Serving Flask app \"__main__\" (lazy loading)\n",
      " * Environment: production\n",
      "   WARNING: This is a development server. Do not use it in a production deployment.\n",
      "   Use a production WSGI server instead.\n",
      " * Debug mode: off\n"
     ]
    },
    {
     "name": "stderr",
     "output_type": "stream",
     "text": [
      " * Running on http://127.0.0.1:8050/ (Press CTRL+C to quit)\n",
      "127.0.0.1 - - [23/May/2022 21:19:01] \"\u001b[37mGET / HTTP/1.1\u001b[0m\" 200 -\n",
      "127.0.0.1 - - [23/May/2022 21:19:02] \"\u001b[37mGET /_dash-dependencies HTTP/1.1\u001b[0m\" 200 -\n",
      "127.0.0.1 - - [23/May/2022 21:19:02] \"\u001b[37mGET /_dash-layout HTTP/1.1\u001b[0m\" 200 -\n",
      "127.0.0.1 - - [23/May/2022 21:19:02] \"\u001b[37mGET /_favicon.ico?v=2.0.0 HTTP/1.1\u001b[0m\" 200 -\n",
      "127.0.0.1 - - [23/May/2022 21:19:02] \"\u001b[37mGET /_dash-component-suites/dash/dcc/async-graph.js HTTP/1.1\u001b[0m\" 200 -\n",
      "127.0.0.1 - - [23/May/2022 21:19:02] \"\u001b[37mGET /_dash-component-suites/dash/dcc/async-plotlyjs.js HTTP/1.1\u001b[0m\" 200 -\n",
      "127.0.0.1 - - [23/May/2022 21:19:02] \"\u001b[37mPOST /_dash-update-component HTTP/1.1\u001b[0m\" 204 -\n"
     ]
    },
    {
     "name": "stdout",
     "output_type": "stream",
     "text": [
      "None\n",
      "I\n",
      "I \n",
      "I a\n",
      "I am\n",
      "I am \n",
      "I am b\n"
     ]
    },
    {
     "name": "stderr",
     "output_type": "stream",
     "text": [
      "C:\\Anaconda3\\lib\\site-packages\\sklearn\\compose\\_column_transformer.py:437: FutureWarning:\n",
      "\n",
      "Given feature/column names or counts do not match the ones for the data given during fit. This will fail from v0.24.\n",
      "\n",
      "127.0.0.1 - - [23/May/2022 21:19:19] \"\u001b[37mPOST /_dash-update-component HTTP/1.1\u001b[0m\" 200 -\n"
     ]
    },
    {
     "name": "stdout",
     "output_type": "stream",
     "text": [
      "Generating features\n",
      "  document  n_tokens  n_i  sentiment has_top_surprise_word has_top_love_word  \\\n",
      "0        i         1    0        0.0                     0                 0   \n",
      "\n",
      "  has_top_anger_word has_top_sadness_word has_top_fear_word has_top_joy_word  \n",
      "0                  0                    0                 0                0  \n",
      "Exception on /_dash-update-component [POST]\n",
      "Traceback (most recent call last):\n",
      "  File \"C:\\Anaconda3\\lib\\site-packages\\flask\\app.py\", line 2447, in wsgi_app\n",
      "    response = self.full_dispatch_request()\n",
      "  File \"C:\\Anaconda3\\lib\\site-packages\\flask\\app.py\", line 1952, in full_dispatch_request\n",
      "    rv = self.handle_user_exception(e)\n",
      "  File \"C:\\Anaconda3\\lib\\site-packages\\flask\\app.py\", line 1821, in handle_user_exception\n",
      "    reraise(exc_type, exc_value, tb)\n",
      "  File \"C:\\Anaconda3\\lib\\site-packages\\flask\\_compat.py\", line 39, in reraise\n",
      "    raise value\n",
      "  File \"C:\\Anaconda3\\lib\\site-packages\\flask\\app.py\", line 1950, in full_dispatch_request\n",
      "    rv = self.dispatch_request()\n",
      "  File \"C:\\Anaconda3\\lib\\site-packages\\flask\\app.py\", line 1936, in dispatch_request\n",
      "    return self.view_functions[rule.endpoint](**req.view_args)\n",
      "  File \"C:\\Anaconda3\\lib\\site-packages\\dash\\dash.py\", line 1336, in dispatch\n",
      "    response.set_data(func(*args, outputs_list=outputs_list))\n",
      "  File \"C:\\Anaconda3\\lib\\site-packages\\dash\\_callback.py\", line 151, in add_context\n",
      "    output_value = func(*func_args, **func_kwargs)  # %% callback invoked %%\n",
      "  File \"<ipython-input-4-1493a31363c9>\", line 98, in set_graph\n",
      "    new_text_df['document']=new_text_df['document'].apply(tokenize_and_join)\n",
      "  File \"C:\\Anaconda3\\lib\\site-packages\\pandas\\core\\series.py\", line 4200, in apply\n",
      "    mapped = lib.map_infer(values, f, convert=convert_dtype)\n",
      "  File \"pandas\\_libs\\lib.pyx\", line 2402, in pandas._libs.lib.map_infer\n",
      "  File \"C:\\Users\\E082499\\OneDrive - RSM\\python_scripts\\Project 4 Capstone\\Project 4\\emotions_model.py\", line 322, in tokenize_and_join\n",
      "    tokens= tokenize(text)\n",
      "  File \"C:\\Users\\E082499\\OneDrive - RSM\\python_scripts\\Project 4 Capstone\\Project 4\\emotions_model.py\", line 296, in tokenize\n",
      "    tokens = [WordNetLemmatizer().lemmatize(w) for w in tokens]\n",
      "  File \"C:\\Users\\E082499\\OneDrive - RSM\\python_scripts\\Project 4 Capstone\\Project 4\\emotions_model.py\", line 296, in <listcomp>\n",
      "    tokens = [WordNetLemmatizer().lemmatize(w) for w in tokens]\n",
      "  File \"C:\\Anaconda3\\lib\\site-packages\\nltk\\stem\\wordnet.py\", line 38, in lemmatize\n",
      "    lemmas = wordnet._morphy(word, pos)\n",
      "  File \"C:\\Anaconda3\\lib\\site-packages\\nltk\\corpus\\util.py\", line 120, in __getattr__\n",
      "    self.__load()\n",
      "  File \"C:\\Anaconda3\\lib\\site-packages\\nltk\\corpus\\util.py\", line 94, in __load\n",
      "    args, kwargs = self.__args, self.__kwargs\n",
      "AttributeError: 'WordNetCorpusReader' object has no attribute '_LazyCorpusLoader__args'\n"
     ]
    },
    {
     "name": "stderr",
     "output_type": "stream",
     "text": [
      "127.0.0.1 - - [23/May/2022 21:19:19] \"\u001b[35m\u001b[1mPOST /_dash-update-component HTTP/1.1\u001b[0m\" 500 -\n"
     ]
    },
    {
     "name": "stdout",
     "output_type": "stream",
     "text": [
      "Exception on /_dash-update-component [POST]\n",
      "Traceback (most recent call last):\n",
      "  File \"C:\\Anaconda3\\lib\\site-packages\\flask\\app.py\", line 2447, in wsgi_app\n",
      "    response = self.full_dispatch_request()\n",
      "  File \"C:\\Anaconda3\\lib\\site-packages\\flask\\app.py\", line 1952, in full_dispatch_request\n",
      "    rv = self.handle_user_exception(e)\n",
      "  File \"C:\\Anaconda3\\lib\\site-packages\\flask\\app.py\", line 1821, in handle_user_exception\n",
      "    reraise(exc_type, exc_value, tb)\n",
      "  File \"C:\\Anaconda3\\lib\\site-packages\\flask\\_compat.py\", line 39, in reraise\n",
      "    raise value\n",
      "  File \"C:\\Anaconda3\\lib\\site-packages\\flask\\app.py\", line 1950, in full_dispatch_request\n",
      "    rv = self.dispatch_request()\n",
      "  File \"C:\\Anaconda3\\lib\\site-packages\\flask\\app.py\", line 1936, in dispatch_request\n",
      "    return self.view_functions[rule.endpoint](**req.view_args)\n",
      "  File \"C:\\Anaconda3\\lib\\site-packages\\dash\\dash.py\", line 1336, in dispatch\n",
      "    response.set_data(func(*args, outputs_list=outputs_list))\n",
      "  File \"C:\\Anaconda3\\lib\\site-packages\\dash\\_callback.py\", line 151, in add_context\n",
      "    output_value = func(*func_args, **func_kwargs)  # %% callback invoked %%\n",
      "  File \"<ipython-input-4-1493a31363c9>\", line 98, in set_graph\n",
      "    new_text_df['document']=new_text_df['document'].apply(tokenize_and_join)\n",
      "  File \"C:\\Anaconda3\\lib\\site-packages\\pandas\\core\\series.py\", line 4200, in apply\n",
      "    mapped = lib.map_infer(values, f, convert=convert_dtype)\n",
      "  File \"pandas\\_libs\\lib.pyx\", line 2402, in pandas._libs.lib.map_infer\n",
      "  File \"C:\\Users\\E082499\\OneDrive - RSM\\python_scripts\\Project 4 Capstone\\Project 4\\emotions_model.py\", line 322, in tokenize_and_join\n",
      "    tokens= tokenize(text)\n",
      "  File \"C:\\Users\\E082499\\OneDrive - RSM\\python_scripts\\Project 4 Capstone\\Project 4\\emotions_model.py\", line 296, in tokenize\n",
      "    tokens = [WordNetLemmatizer().lemmatize(w) for w in tokens]\n",
      "  File \"C:\\Users\\E082499\\OneDrive - RSM\\python_scripts\\Project 4 Capstone\\Project 4\\emotions_model.py\", line 296, in <listcomp>\n",
      "    tokens = [WordNetLemmatizer().lemmatize(w) for w in tokens]\n",
      "  File \"C:\\Anaconda3\\lib\\site-packages\\nltk\\stem\\wordnet.py\", line 38, in lemmatize\n",
      "    lemmas = wordnet._morphy(word, pos)\n",
      "  File \"C:\\Anaconda3\\lib\\site-packages\\nltk\\corpus\\util.py\", line 120, in __getattr__\n",
      "    self.__load()\n",
      "  File \"C:\\Anaconda3\\lib\\site-packages\\nltk\\corpus\\util.py\", line 94, in __load\n",
      "    args, kwargs = self.__args, self.__kwargs\n",
      "AttributeError: 'WordNetCorpusReader' object has no attribute '_LazyCorpusLoader__args'\n"
     ]
    },
    {
     "name": "stderr",
     "output_type": "stream",
     "text": [
      "127.0.0.1 - - [23/May/2022 21:19:19] \"\u001b[35m\u001b[1mPOST /_dash-update-component HTTP/1.1\u001b[0m\" 500 -\n"
     ]
    },
    {
     "name": "stdout",
     "output_type": "stream",
     "text": [
      "Exception on /_dash-update-component [POST]\n",
      "Traceback (most recent call last):\n",
      "  File \"C:\\Anaconda3\\lib\\site-packages\\flask\\app.py\", line 2447, in wsgi_app\n",
      "    response = self.full_dispatch_request()\n",
      "  File \"C:\\Anaconda3\\lib\\site-packages\\flask\\app.py\", line 1952, in full_dispatch_request\n",
      "    rv = self.handle_user_exception(e)\n",
      "  File \"C:\\Anaconda3\\lib\\site-packages\\flask\\app.py\", line 1821, in handle_user_exception\n",
      "    reraise(exc_type, exc_value, tb)\n",
      "  File \"C:\\Anaconda3\\lib\\site-packages\\flask\\_compat.py\", line 39, in reraise\n",
      "    raise value\n",
      "  File \"C:\\Anaconda3\\lib\\site-packages\\flask\\app.py\", line 1950, in full_dispatch_request\n",
      "    rv = self.dispatch_request()\n",
      "  File \"C:\\Anaconda3\\lib\\site-packages\\flask\\app.py\", line 1936, in dispatch_request\n",
      "    return self.view_functions[rule.endpoint](**req.view_args)\n",
      "  File \"C:\\Anaconda3\\lib\\site-packages\\dash\\dash.py\", line 1336, in dispatch\n",
      "    response.set_data(func(*args, outputs_list=outputs_list))\n",
      "  File \"C:\\Anaconda3\\lib\\site-packages\\dash\\_callback.py\", line 151, in add_context\n",
      "    output_value = func(*func_args, **func_kwargs)  # %% callback invoked %%\n",
      "  File \"<ipython-input-4-1493a31363c9>\", line 98, in set_graph\n",
      "    new_text_df['document']=new_text_df['document'].apply(tokenize_and_join)\n",
      "  File \"C:\\Anaconda3\\lib\\site-packages\\pandas\\core\\series.py\", line 4200, in apply\n",
      "    mapped = lib.map_infer(values, f, convert=convert_dtype)\n",
      "  File \"pandas\\_libs\\lib.pyx\", line 2402, in pandas._libs.lib.map_infer\n",
      "  File \"C:\\Users\\E082499\\OneDrive - RSM\\python_scripts\\Project 4 Capstone\\Project 4\\emotions_model.py\", line 322, in tokenize_and_join\n",
      "    tokens= tokenize(text)\n",
      "  File \"C:\\Users\\E082499\\OneDrive - RSM\\python_scripts\\Project 4 Capstone\\Project 4\\emotions_model.py\", line 296, in tokenize\n",
      "    tokens = [WordNetLemmatizer().lemmatize(w) for w in tokens]\n",
      "  File \"C:\\Users\\E082499\\OneDrive - RSM\\python_scripts\\Project 4 Capstone\\Project 4\\emotions_model.py\", line 296, in <listcomp>\n",
      "    tokens = [WordNetLemmatizer().lemmatize(w) for w in tokens]\n",
      "  File \"C:\\Anaconda3\\lib\\site-packages\\nltk\\stem\\wordnet.py\", line 38, in lemmatize\n",
      "    lemmas = wordnet._morphy(word, pos)\n",
      "  File \"C:\\Anaconda3\\lib\\site-packages\\nltk\\corpus\\util.py\", line 120, in __getattr__\n",
      "    self.__load()\n",
      "  File \"C:\\Anaconda3\\lib\\site-packages\\nltk\\corpus\\util.py\", line 94, in __load\n",
      "    args, kwargs = self.__args, self.__kwargs\n",
      "AttributeError: 'WordNetCorpusReader' object has no attribute '_LazyCorpusLoader__args'\n"
     ]
    },
    {
     "name": "stderr",
     "output_type": "stream",
     "text": [
      "127.0.0.1 - - [23/May/2022 21:19:19] \"\u001b[35m\u001b[1mPOST /_dash-update-component HTTP/1.1\u001b[0m\" 500 -\n"
     ]
    },
    {
     "name": "stdout",
     "output_type": "stream",
     "text": [
      "Exception on /_dash-update-component [POST]\n",
      "Traceback (most recent call last):\n",
      "  File \"C:\\Anaconda3\\lib\\site-packages\\flask\\app.py\", line 2447, in wsgi_app\n",
      "    response = self.full_dispatch_request()\n",
      "  File \"C:\\Anaconda3\\lib\\site-packages\\flask\\app.py\", line 1952, in full_dispatch_request\n",
      "    rv = self.handle_user_exception(e)\n",
      "  File \"C:\\Anaconda3\\lib\\site-packages\\flask\\app.py\", line 1821, in handle_user_exception\n",
      "    reraise(exc_type, exc_value, tb)\n",
      "  File \"C:\\Anaconda3\\lib\\site-packages\\flask\\_compat.py\", line 39, in reraise\n",
      "    raise value\n",
      "  File \"C:\\Anaconda3\\lib\\site-packages\\flask\\app.py\", line 1950, in full_dispatch_request\n",
      "    rv = self.dispatch_request()\n",
      "  File \"C:\\Anaconda3\\lib\\site-packages\\flask\\app.py\", line 1936, in dispatch_request\n",
      "    return self.view_functions[rule.endpoint](**req.view_args)\n",
      "  File \"C:\\Anaconda3\\lib\\site-packages\\dash\\dash.py\", line 1336, in dispatch\n",
      "    response.set_data(func(*args, outputs_list=outputs_list))\n",
      "  File \"C:\\Anaconda3\\lib\\site-packages\\dash\\_callback.py\", line 151, in add_context\n",
      "    output_value = func(*func_args, **func_kwargs)  # %% callback invoked %%\n",
      "  File \"<ipython-input-4-1493a31363c9>\", line 98, in set_graph\n",
      "    new_text_df['document']=new_text_df['document'].apply(tokenize_and_join)\n",
      "  File \"C:\\Anaconda3\\lib\\site-packages\\pandas\\core\\series.py\", line 4200, in apply\n",
      "    mapped = lib.map_infer(values, f, convert=convert_dtype)\n",
      "  File \"pandas\\_libs\\lib.pyx\", line 2402, in pandas._libs.lib.map_infer\n",
      "  File \"C:\\Users\\E082499\\OneDrive - RSM\\python_scripts\\Project 4 Capstone\\Project 4\\emotions_model.py\", line 322, in tokenize_and_join\n",
      "    tokens= tokenize(text)\n",
      "  File \"C:\\Users\\E082499\\OneDrive - RSM\\python_scripts\\Project 4 Capstone\\Project 4\\emotions_model.py\", line 296, in tokenize\n",
      "    tokens = [WordNetLemmatizer().lemmatize(w) for w in tokens]\n",
      "  File \"C:\\Users\\E082499\\OneDrive - RSM\\python_scripts\\Project 4 Capstone\\Project 4\\emotions_model.py\", line 296, in <listcomp>\n",
      "    tokens = [WordNetLemmatizer().lemmatize(w) for w in tokens]\n",
      "  File \"C:\\Anaconda3\\lib\\site-packages\\nltk\\stem\\wordnet.py\", line 38, in lemmatize\n",
      "    lemmas = wordnet._morphy(word, pos)\n",
      "  File \"C:\\Anaconda3\\lib\\site-packages\\nltk\\corpus\\util.py\", line 120, in __getattr__\n",
      "    self.__load()\n",
      "  File \"C:\\Anaconda3\\lib\\site-packages\\nltk\\corpus\\util.py\", line 94, in __load\n",
      "    args, kwargs = self.__args, self.__kwargs\n",
      "AttributeError: 'WordNetCorpusReader' object has no attribute '_LazyCorpusLoader__args'\n"
     ]
    },
    {
     "name": "stderr",
     "output_type": "stream",
     "text": [
      "127.0.0.1 - - [23/May/2022 21:19:19] \"\u001b[35m\u001b[1mPOST /_dash-update-component HTTP/1.1\u001b[0m\" 500 -\n"
     ]
    },
    {
     "name": "stdout",
     "output_type": "stream",
     "text": [
      "Exception on /_dash-update-component [POST]\n",
      "Traceback (most recent call last):\n",
      "  File \"C:\\Anaconda3\\lib\\site-packages\\flask\\app.py\", line 2447, in wsgi_app\n",
      "    response = self.full_dispatch_request()\n",
      "  File \"C:\\Anaconda3\\lib\\site-packages\\flask\\app.py\", line 1952, in full_dispatch_request\n",
      "    rv = self.handle_user_exception(e)\n",
      "  File \"C:\\Anaconda3\\lib\\site-packages\\flask\\app.py\", line 1821, in handle_user_exception\n",
      "    reraise(exc_type, exc_value, tb)\n",
      "  File \"C:\\Anaconda3\\lib\\site-packages\\flask\\_compat.py\", line 39, in reraise\n",
      "    raise value\n",
      "  File \"C:\\Anaconda3\\lib\\site-packages\\flask\\app.py\", line 1950, in full_dispatch_request\n",
      "    rv = self.dispatch_request()\n",
      "  File \"C:\\Anaconda3\\lib\\site-packages\\flask\\app.py\", line 1936, in dispatch_request\n",
      "    return self.view_functions[rule.endpoint](**req.view_args)\n",
      "  File \"C:\\Anaconda3\\lib\\site-packages\\dash\\dash.py\", line 1336, in dispatch\n",
      "    response.set_data(func(*args, outputs_list=outputs_list))\n",
      "  File \"C:\\Anaconda3\\lib\\site-packages\\dash\\_callback.py\", line 151, in add_context\n",
      "    output_value = func(*func_args, **func_kwargs)  # %% callback invoked %%\n",
      "  File \"<ipython-input-4-1493a31363c9>\", line 98, in set_graph\n",
      "    new_text_df['document']=new_text_df['document'].apply(tokenize_and_join)\n",
      "  File \"C:\\Anaconda3\\lib\\site-packages\\pandas\\core\\series.py\", line 4200, in apply\n",
      "    mapped = lib.map_infer(values, f, convert=convert_dtype)\n",
      "  File \"pandas\\_libs\\lib.pyx\", line 2402, in pandas._libs.lib.map_infer\n",
      "  File \"C:\\Users\\E082499\\OneDrive - RSM\\python_scripts\\Project 4 Capstone\\Project 4\\emotions_model.py\", line 322, in tokenize_and_join\n",
      "    tokens= tokenize(text)\n",
      "  File \"C:\\Users\\E082499\\OneDrive - RSM\\python_scripts\\Project 4 Capstone\\Project 4\\emotions_model.py\", line 296, in tokenize\n",
      "    tokens = [WordNetLemmatizer().lemmatize(w) for w in tokens]\n",
      "  File \"C:\\Users\\E082499\\OneDrive - RSM\\python_scripts\\Project 4 Capstone\\Project 4\\emotions_model.py\", line 296, in <listcomp>\n",
      "    tokens = [WordNetLemmatizer().lemmatize(w) for w in tokens]\n",
      "  File \"C:\\Anaconda3\\lib\\site-packages\\nltk\\stem\\wordnet.py\", line 38, in lemmatize\n",
      "    lemmas = wordnet._morphy(word, pos)\n",
      "  File \"C:\\Anaconda3\\lib\\site-packages\\nltk\\corpus\\util.py\", line 120, in __getattr__\n",
      "    self.__load()\n",
      "  File \"C:\\Anaconda3\\lib\\site-packages\\nltk\\corpus\\util.py\", line 94, in __load\n",
      "    args, kwargs = self.__args, self.__kwargs\n",
      "AttributeError: 'WordNetCorpusReader' object has no attribute '_LazyCorpusLoader__args'\n"
     ]
    },
    {
     "name": "stderr",
     "output_type": "stream",
     "text": [
      "127.0.0.1 - - [23/May/2022 21:19:19] \"\u001b[35m\u001b[1mPOST /_dash-update-component HTTP/1.1\u001b[0m\" 500 -\n"
     ]
    },
    {
     "name": "stdout",
     "output_type": "stream",
     "text": [
      "I am bo\n",
      "Generating features\n",
      "I am borI am bore\n",
      "I am boredI am bored oI am bored \n"
     ]
    },
    {
     "name": "stderr",
     "output_type": "stream",
     "text": [
      "C:\\Anaconda3\\lib\\site-packages\\sklearn\\compose\\_column_transformer.py:437: FutureWarning:\n",
      "\n",
      "Given feature/column names or counts do not match the ones for the data given during fit. This will fail from v0.24.\n",
      "\n",
      "127.0.0.1 - - [23/May/2022 21:19:20] \"\u001b[37mPOST /_dash-update-component HTTP/1.1\u001b[0m\" 200 -\n",
      "C:\\Anaconda3\\lib\\site-packages\\sklearn\\compose\\_column_transformer.py:437: FutureWarning:\n",
      "\n",
      "Given feature/column names or counts do not match the ones for the data given during fit. This will fail from v0.24.\n",
      "\n"
     ]
    },
    {
     "name": "stdout",
     "output_type": "stream",
     "text": [
      "\n",
      "\n",
      "\n",
      "  document  n_tokens  n_i  sentiment has_top_surprise_word has_top_love_word  \\\n",
      "0     i bo         2    1        0.0                     0                 0   \n",
      "\n",
      "  has_top_anger_word has_top_sadness_word has_top_fear_word has_top_joy_word  \n",
      "0                  0                    0                 0                0  \n",
      "Generating features\n",
      "Generating features\n",
      "Generating features\n",
      "Generating featuresGenerating features\n",
      "\n",
      "  document  n_tokens  n_i  sentiment has_top_surprise_word has_top_love_word  \\\n",
      "0    i bor         2    1        0.0                     0                 0   \n",
      "\n",
      "  has_top_anger_word has_top_sadness_word has_top_fear_word has_top_joy_word  \n",
      "0                  0                    0                 0                0    document  n_tokens  n_i  sentiment has_top_surprise_word has_top_love_word  \\\n",
      "0  i bored         2    1       -0.5                     0                 0   \n",
      "\n",
      "  has_top_anger_word has_top_sadness_word has_top_fear_word has_top_joy_word  \n",
      "0                  0                    0                 0                0  \n",
      "\n",
      "  document  n_tokens  n_i  sentiment has_top_surprise_word has_top_love_word  \\\n",
      "0  i bored         2    1       -0.5                     0                 0   \n",
      "\n",
      "  has_top_anger_word has_top_sadness_word has_top_fear_word has_top_joy_word  \n",
      "0                  0                    0                 0                0  \n",
      "  document  n_tokens  n_i  sentiment has_top_surprise_word has_top_love_word  \\\n",
      "0  i bored         2    1       -0.5                     0                 0   \n",
      "\n",
      "  has_top_anger_word has_top_sadness_word has_top_fear_word has_top_joy_word  \n",
      "0                  0                    0                 0                0  \n",
      "  document  n_tokens  n_i  sentiment has_top_surprise_word has_top_love_word  \\\n",
      "0   i bore         2    1        0.0                     0                 0   \n",
      "\n",
      "  has_top_anger_word has_top_sadness_word has_top_fear_word has_top_joy_word  \n",
      "0                  0                    0                 0                0  \n"
     ]
    },
    {
     "name": "stderr",
     "output_type": "stream",
     "text": [
      "C:\\Anaconda3\\lib\\site-packages\\sklearn\\compose\\_column_transformer.py:437: FutureWarning:\n",
      "\n",
      "Given feature/column names or counts do not match the ones for the data given during fit. This will fail from v0.24.\n",
      "\n",
      "C:\\Anaconda3\\lib\\site-packages\\sklearn\\compose\\_column_transformer.py:437: FutureWarning:\n",
      "\n",
      "Given feature/column names or counts do not match the ones for the data given during fit. This will fail from v0.24.\n",
      "\n",
      "C:\\Anaconda3\\lib\\site-packages\\sklearn\\compose\\_column_transformer.py:437: FutureWarning:\n",
      "\n",
      "Given feature/column names or counts do not match the ones for the data given during fit. This will fail from v0.24.\n",
      "\n",
      "C:\\Anaconda3\\lib\\site-packages\\sklearn\\compose\\_column_transformer.py:437: FutureWarning:\n",
      "\n",
      "Given feature/column names or counts do not match the ones for the data given during fit. This will fail from v0.24.\n",
      "\n",
      "127.0.0.1 - - [23/May/2022 21:19:20] \"\u001b[37mPOST /_dash-update-component HTTP/1.1\u001b[0m\" 200 -\n",
      "127.0.0.1 - - [23/May/2022 21:19:20] \"\u001b[37mPOST /_dash-update-component HTTP/1.1\u001b[0m\" 200 -\n",
      "127.0.0.1 - - [23/May/2022 21:19:20] \"\u001b[37mPOST /_dash-update-component HTTP/1.1\u001b[0m\" 200 -\n",
      "127.0.0.1 - - [23/May/2022 21:19:20] \"\u001b[37mPOST /_dash-update-component HTTP/1.1\u001b[0m\" 200 -\n",
      "127.0.0.1 - - [23/May/2022 21:19:20] \"\u001b[37mPOST /_dash-update-component HTTP/1.1\u001b[0m\" 200 -\n",
      "C:\\Anaconda3\\lib\\site-packages\\sklearn\\compose\\_column_transformer.py:437: FutureWarning:\n",
      "\n",
      "Given feature/column names or counts do not match the ones for the data given during fit. This will fail from v0.24.\n",
      "\n",
      "127.0.0.1 - - [23/May/2022 21:19:20] \"\u001b[37mPOST /_dash-update-component HTTP/1.1\u001b[0m\" 200 -\n"
     ]
    },
    {
     "name": "stdout",
     "output_type": "stream",
     "text": [
      "I am bored ou\n",
      "Generating features\n",
      "     document  n_tokens  n_i  sentiment has_top_surprise_word  \\\n",
      "0  i bored ou         3    1       -0.5                     0   \n",
      "\n",
      "  has_top_love_word has_top_anger_word has_top_sadness_word has_top_fear_word  \\\n",
      "0                 0                  0                    0                 0   \n",
      "\n",
      "  has_top_joy_word  \n",
      "0                0  \n",
      "I am bored out \n",
      "I am bored outI am bored out oI am bored out of\n",
      "\n",
      "I am bored out of \n",
      "\n",
      "I am bored out of m\n",
      "Generating features\n",
      "Generating features\n",
      "Generating features\n",
      "Generating features\n",
      "Generating features\n",
      "Generating features\n",
      "  document  n_tokens  n_i  sentiment has_top_surprise_word has_top_love_word  \\\n",
      "0  i bored         2    1       -0.5                     0                 0   \n",
      "\n",
      "  has_top_anger_word has_top_sadness_word has_top_fear_word has_top_joy_word  \n",
      "0                  0                    0                 0                0    document  n_tokens  n_i  sentiment has_top_surprise_word has_top_love_word  \\\n",
      "0  i bored         2    1       -0.5                     0                 0   \n",
      "\n",
      "  has_top_anger_word has_top_sadness_word has_top_fear_word has_top_joy_word  \n",
      "0                  0                    0                 0                0    document  n_tokens  n_i  sentiment has_top_surprise_word has_top_love_word  \\\n",
      "0  i bored         2    1       -0.5                     0                 0   \n",
      "\n",
      "  has_top_anger_word has_top_sadness_word has_top_fear_word has_top_joy_word  \n",
      "0                  0                    0                 0                0  "
     ]
    },
    {
     "name": "stderr",
     "output_type": "stream",
     "text": [
      "C:\\Anaconda3\\lib\\site-packages\\sklearn\\compose\\_column_transformer.py:437: FutureWarning:\n",
      "\n",
      "Given feature/column names or counts do not match the ones for the data given during fit. This will fail from v0.24.\n",
      "\n",
      "C:\\Anaconda3\\lib\\site-packages\\sklearn\\compose\\_column_transformer.py:437: FutureWarning:\n",
      "\n",
      "Given feature/column names or counts do not match the ones for the data given during fit. This will fail from v0.24.\n",
      "\n",
      "C:\\Anaconda3\\lib\\site-packages\\sklearn\\compose\\_column_transformer.py:437: FutureWarning:\n",
      "\n",
      "Given feature/column names or counts do not match the ones for the data given during fit. This will fail from v0.24.\n",
      "\n",
      "127.0.0.1 - - [23/May/2022 21:19:20] \"\u001b[37mPOST /_dash-update-component HTTP/1.1\u001b[0m\" 200 -\n",
      "127.0.0.1 - - [23/May/2022 21:19:20] \"\u001b[37mPOST /_dash-update-component HTTP/1.1\u001b[0m\" 200 -\n",
      "127.0.0.1 - - [23/May/2022 21:19:21] \"\u001b[37mPOST /_dash-update-component HTTP/1.1\u001b[0m\" 200 -\n",
      "127.0.0.1 - - [23/May/2022 21:19:21] \"\u001b[37mPOST /_dash-update-component HTTP/1.1\u001b[0m\" 200 -\n",
      "127.0.0.1 - - [23/May/2022 21:19:21] \"\u001b[37mPOST /_dash-update-component HTTP/1.1\u001b[0m\" 200 -\n",
      "127.0.0.1 - - [23/May/2022 21:19:21] \"\u001b[37mPOST /_dash-update-component HTTP/1.1\u001b[0m\" 200 -\n"
     ]
    },
    {
     "name": "stdout",
     "output_type": "stream",
     "text": [
      "  document  n_tokens  n_i  sentiment has_top_surprise_word has_top_love_word  \\\n",
      "0  i bored         2    1       -0.5                     0                 0   \n",
      "\n",
      "  has_top_anger_word has_top_sadness_word has_top_fear_word has_top_joy_word  \n",
      "0                  0                    0                 0                0  \n",
      "\n",
      "\n",
      "  document  n_tokens  n_i  sentiment has_top_surprise_word has_top_love_word  \\\n",
      "0  i bored         2    1       -0.5                     0                 0   \n",
      "\n",
      "  has_top_anger_word has_top_sadness_word has_top_fear_word has_top_joy_word  \n",
      "0                  0                    0                 0                0  \n",
      "\n",
      "  document  n_tokens  n_i  sentiment has_top_surprise_word has_top_love_word  \\\n",
      "0  i bored         2    1       -0.5                     0                 0   \n",
      "\n",
      "  has_top_anger_word has_top_sadness_word has_top_fear_word has_top_joy_word  \n",
      "0                  0                    0                 0                0  \n",
      "I am bored out of my\n",
      "Generating features\n",
      "     document  n_tokens  n_i  sentiment has_top_surprise_word  \\\n",
      "0  i bored my         3    1       -0.5                     0   \n",
      "\n",
      "  has_top_love_word has_top_anger_word has_top_sadness_word has_top_fear_word  \\\n",
      "0                 0                  0                    0                 0   \n",
      "\n",
      "  has_top_joy_word  \n",
      "0                0  \n",
      "I am bored out of my I am bored out of my mindI am bored out of my miI am bored out of my minI am bored out of my m\n"
     ]
    },
    {
     "name": "stderr",
     "output_type": "stream",
     "text": [
      "C:\\Anaconda3\\lib\\site-packages\\sklearn\\compose\\_column_transformer.py:437: FutureWarning:\n",
      "\n",
      "Given feature/column names or counts do not match the ones for the data given during fit. This will fail from v0.24.\n",
      "\n",
      "127.0.0.1 - - [23/May/2022 21:19:21] \"\u001b[37mPOST /_dash-update-component HTTP/1.1\u001b[0m\" 200 -\n"
     ]
    },
    {
     "name": "stdout",
     "output_type": "stream",
     "text": [
      "\n",
      "\n",
      "\n",
      "\n",
      "Generating featuresGenerating features\n",
      "\n",
      "Generating featuresGenerating features\n",
      "\n",
      "Generating features\n",
      "         document  n_tokens  n_i  sentiment has_top_surprise_word  \\\n",
      "0  i bored my min         4    1       -0.5                     0   \n",
      "\n",
      "  has_top_love_word has_top_anger_word has_top_sadness_word has_top_fear_word  \\\n",
      "0                 0                  0                    0                 0   \n",
      "\n",
      "  has_top_joy_word  \n",
      "0                0  \n",
      "        document  n_tokens  n_i  sentiment has_top_surprise_word  \\\n",
      "0  i bored my mi         4    1       -0.5                     0   \n",
      "\n",
      "  has_top_love_word has_top_anger_word has_top_sadness_word has_top_fear_word  \\\n",
      "0                 0                  0                    0                 0   \n",
      "\n",
      "  has_top_joy_word  \n",
      "0                0  \n",
      "     document  n_tokens  n_i  sentiment has_top_surprise_word  \\\n",
      "0  i bored my         3    1       -0.5                     0   \n",
      "\n",
      "  has_top_love_word has_top_anger_word has_top_sadness_word has_top_fear_word  \\\n",
      "0                 0                  0                    0                 0   \n",
      "\n",
      "  has_top_joy_word  \n",
      "0                0  \n",
      "     document  n_tokens  n_i  sentiment has_top_surprise_word  \\\n",
      "0  i bored my         3    1       -0.5                     0   \n",
      "\n",
      "  has_top_love_word has_top_anger_word has_top_sadness_word has_top_fear_word  \\\n",
      "0                 0                  0                    0                 0   \n",
      "\n",
      "  has_top_joy_word  \n",
      "0                0  \n"
     ]
    },
    {
     "name": "stderr",
     "output_type": "stream",
     "text": [
      "C:\\Anaconda3\\lib\\site-packages\\sklearn\\compose\\_column_transformer.py:437: FutureWarning:\n",
      "\n",
      "Given feature/column names or counts do not match the ones for the data given during fit. This will fail from v0.24.\n",
      "\n",
      "C:\\Anaconda3\\lib\\site-packages\\sklearn\\compose\\_column_transformer.py:437: FutureWarning:\n",
      "\n",
      "Given feature/column names or counts do not match the ones for the data given during fit. This will fail from v0.24.\n",
      "\n",
      "C:\\Anaconda3\\lib\\site-packages\\sklearn\\compose\\_column_transformer.py:437: FutureWarning:\n",
      "\n",
      "Given feature/column names or counts do not match the ones for the data given during fit. This will fail from v0.24.\n",
      "\n",
      "C:\\Anaconda3\\lib\\site-packages\\sklearn\\compose\\_column_transformer.py:437: FutureWarning:\n",
      "\n",
      "Given feature/column names or counts do not match the ones for the data given during fit. This will fail from v0.24.\n",
      "\n",
      "C:\\Anaconda3\\lib\\site-packages\\sklearn\\compose\\_column_transformer.py:437: FutureWarning:\n",
      "\n",
      "Given feature/column names or counts do not match the ones for the data given during fit. This will fail from v0.24.\n",
      "\n",
      "127.0.0.1 - - [23/May/2022 21:19:21] \"\u001b[37mPOST /_dash-update-component HTTP/1.1\u001b[0m\" 200 -\n",
      "127.0.0.1 - - [23/May/2022 21:19:21] \"\u001b[37mPOST /_dash-update-component HTTP/1.1\u001b[0m\" 200 -\n",
      "127.0.0.1 - - [23/May/2022 21:19:21] \"\u001b[37mPOST /_dash-update-component HTTP/1.1\u001b[0m\" 200 -\n",
      "127.0.0.1 - - [23/May/2022 21:19:21] \"\u001b[37mPOST /_dash-update-component HTTP/1.1\u001b[0m\" 200 -\n",
      "127.0.0.1 - - [23/May/2022 21:19:21] \"\u001b[37mPOST /_dash-update-component HTTP/1.1\u001b[0m\" 200 -\n"
     ]
    },
    {
     "name": "stdout",
     "output_type": "stream",
     "text": [
      "          document  n_tokens  n_i  sentiment has_top_surprise_word  \\\n",
      "0  i bored my mind         4    1       -0.5                     0   \n",
      "\n",
      "  has_top_love_word has_top_anger_word has_top_sadness_word has_top_fear_word  \\\n",
      "0                 0                  0                    0                 0   \n",
      "\n",
      "  has_top_joy_word  \n",
      "0                0  \n",
      "t\n",
      "Generating features\n",
      "th  document  n_tokens  n_i  sentiment has_top_surprise_word has_top_love_word  \\\n",
      "0                  0    0        0.0                     0                 0   \n",
      "\n",
      "  has_top_anger_word has_top_sadness_word has_top_fear_word has_top_joy_word  \n",
      "0                  0                    0                 0                0  \n",
      "\n",
      "thi\n",
      "Generating features\n"
     ]
    },
    {
     "name": "stderr",
     "output_type": "stream",
     "text": [
      "C:\\Anaconda3\\lib\\site-packages\\sklearn\\compose\\_column_transformer.py:437: FutureWarning:\n",
      "\n",
      "Given feature/column names or counts do not match the ones for the data given during fit. This will fail from v0.24.\n",
      "\n",
      "127.0.0.1 - - [23/May/2022 21:19:24] \"\u001b[37mPOST /_dash-update-component HTTP/1.1\u001b[0m\" 200 -\n"
     ]
    },
    {
     "name": "stdout",
     "output_type": "stream",
     "text": [
      "this\n",
      "this Generating features\n",
      "  document  n_tokens  n_i  sentiment has_top_surprise_word has_top_love_word  \\\n",
      "0       th         1    0        0.0                     0                 0   \n",
      "\n",
      "  has_top_anger_word has_top_sadness_word has_top_fear_word has_top_joy_word  \n",
      "0                  0                    0                 0                0  \n",
      "\n",
      "Generating features\n",
      "Generating features\n",
      "  document  n_tokens  n_i  sentiment has_top_surprise_word has_top_love_word  \\\n",
      "0                  0    0        0.0                     0                 0   \n",
      "\n",
      "  has_top_anger_word has_top_sadness_word has_top_fear_word has_top_joy_word  \n",
      "0                  0                    0                 0                0    document  n_tokens  n_i  sentiment has_top_surprise_word has_top_love_word  \\\n",
      "0                  0    0        0.0                     0                 0   \n",
      "\n",
      "  has_top_anger_word has_top_sadness_word has_top_fear_word has_top_joy_word  \n",
      "0                  0                    0                 0                0  \n",
      "\n",
      "  document  n_tokens  n_i  sentiment has_top_surprise_word has_top_love_word  \\\n",
      "0      thi         1    0        0.0                     0                 0   \n",
      "\n",
      "  has_top_anger_word has_top_sadness_word has_top_fear_word has_top_joy_word  \n",
      "0                  0                    0                 0                0  \n"
     ]
    },
    {
     "name": "stderr",
     "output_type": "stream",
     "text": [
      "C:\\Anaconda3\\lib\\site-packages\\sklearn\\compose\\_column_transformer.py:437: FutureWarning:\n",
      "\n",
      "Given feature/column names or counts do not match the ones for the data given during fit. This will fail from v0.24.\n",
      "\n",
      "C:\\Anaconda3\\lib\\site-packages\\sklearn\\compose\\_column_transformer.py:437: FutureWarning:\n",
      "\n",
      "Given feature/column names or counts do not match the ones for the data given during fit. This will fail from v0.24.\n",
      "\n",
      "C:\\Anaconda3\\lib\\site-packages\\sklearn\\compose\\_column_transformer.py:437: FutureWarning:\n",
      "\n",
      "Given feature/column names or counts do not match the ones for the data given during fit. This will fail from v0.24.\n",
      "\n",
      "C:\\Anaconda3\\lib\\site-packages\\sklearn\\compose\\_column_transformer.py:437: FutureWarning:\n",
      "\n",
      "Given feature/column names or counts do not match the ones for the data given during fit. This will fail from v0.24.\n",
      "\n",
      "127.0.0.1 - - [23/May/2022 21:19:24] \"\u001b[37mPOST /_dash-update-component HTTP/1.1\u001b[0m\" 200 -\n",
      "127.0.0.1 - - [23/May/2022 21:19:24] \"\u001b[37mPOST /_dash-update-component HTTP/1.1\u001b[0m\" 200 -\n",
      "127.0.0.1 - - [23/May/2022 21:19:24] \"\u001b[37mPOST /_dash-update-component HTTP/1.1\u001b[0m\" 200 -\n",
      "127.0.0.1 - - [23/May/2022 21:19:24] \"\u001b[37mPOST /_dash-update-component HTTP/1.1\u001b[0m\" 200 -\n",
      "C:\\Anaconda3\\lib\\site-packages\\sklearn\\compose\\_column_transformer.py:437: FutureWarning:\n",
      "\n",
      "Given feature/column names or counts do not match the ones for the data given during fit. This will fail from v0.24.\n",
      "\n",
      "127.0.0.1 - - [23/May/2022 21:19:24] \"\u001b[37mPOST /_dash-update-component HTTP/1.1\u001b[0m\" 200 -\n",
      "C:\\Anaconda3\\lib\\site-packages\\sklearn\\compose\\_column_transformer.py:437: FutureWarning:\n",
      "\n",
      "Given feature/column names or counts do not match the ones for the data given during fit. This will fail from v0.24.\n",
      "\n",
      "127.0.0.1 - - [23/May/2022 21:19:24] \"\u001b[37mPOST /_dash-update-component HTTP/1.1\u001b[0m\" 200 -\n"
     ]
    },
    {
     "name": "stdout",
     "output_type": "stream",
     "text": [
      "this i\n",
      "Generating features\n",
      "  document  n_tokens  n_i  sentiment has_top_surprise_word has_top_love_word  \\\n",
      "0        i         1    0        0.0                     0                 0   \n",
      "\n",
      "  has_top_anger_word has_top_sadness_word has_top_fear_word has_top_joy_word  \n",
      "0                  0                    0                 0                0  \n",
      "this is\n",
      "Generating features\n",
      "  document  n_tokens  n_i  sentiment has_top_surprise_word has_top_love_word  \\\n",
      "0                  0    0        0.0                     0                 0   \n",
      "\n",
      "  has_top_anger_word has_top_sadness_word has_top_fear_word has_top_joy_word  \n",
      "0                  0                    0                 0                0  \n"
     ]
    },
    {
     "name": "stderr",
     "output_type": "stream",
     "text": [
      "C:\\Anaconda3\\lib\\site-packages\\sklearn\\compose\\_column_transformer.py:437: FutureWarning:\n",
      "\n",
      "Given feature/column names or counts do not match the ones for the data given during fit. This will fail from v0.24.\n",
      "\n",
      "127.0.0.1 - - [23/May/2022 21:19:24] \"\u001b[37mPOST /_dash-update-component HTTP/1.1\u001b[0m\" 200 -\n"
     ]
    },
    {
     "name": "stdout",
     "output_type": "stream",
     "text": [
      "this is \n",
      "Generating features\n",
      "  document  n_tokens  n_i  sentiment has_top_surprise_word has_top_love_word  \\\n",
      "0                  0    0        0.0                     0                 0   \n",
      "\n",
      "  has_top_anger_word has_top_sadness_word has_top_fear_word has_top_joy_word  \n",
      "0                  0                    0                 0                0  \n",
      "this is n\n",
      "this is no\n",
      "Generating features\n",
      "  document  n_tokens  n_i  sentiment has_top_surprise_word has_top_love_word  \\\n",
      "0        n         1    0        0.0                     0                 0   \n",
      "\n",
      "  has_top_anger_word has_top_sadness_word has_top_fear_word has_top_joy_word  \n",
      "0                  0                    0                 0                0  Generating features\n",
      "\n",
      "this is not\n"
     ]
    },
    {
     "name": "stderr",
     "output_type": "stream",
     "text": [
      "C:\\Anaconda3\\lib\\site-packages\\sklearn\\compose\\_column_transformer.py:437: FutureWarning:\n",
      "\n",
      "Given feature/column names or counts do not match the ones for the data given during fit. This will fail from v0.24.\n",
      "\n",
      "C:\\Anaconda3\\lib\\site-packages\\sklearn\\compose\\_column_transformer.py:437: FutureWarning:\n",
      "\n",
      "Given feature/column names or counts do not match the ones for the data given during fit. This will fail from v0.24.\n",
      "\n",
      "127.0.0.1 - - [23/May/2022 21:19:25] \"\u001b[37mPOST /_dash-update-component HTTP/1.1\u001b[0m\" 200 -\n",
      "C:\\Anaconda3\\lib\\site-packages\\sklearn\\compose\\_column_transformer.py:437: FutureWarning:\n",
      "\n",
      "Given feature/column names or counts do not match the ones for the data given during fit. This will fail from v0.24.\n",
      "\n",
      "C:\\Anaconda3\\lib\\site-packages\\sklearn\\compose\\_column_transformer.py:437: FutureWarning:\n",
      "\n",
      "Given feature/column names or counts do not match the ones for the data given during fit. This will fail from v0.24.\n",
      "\n",
      "127.0.0.1 - - [23/May/2022 21:19:25] \"\u001b[37mPOST /_dash-update-component HTTP/1.1\u001b[0m\" 200 -\n",
      "127.0.0.1 - - [23/May/2022 21:19:26] \"\u001b[37mPOST /_dash-update-component HTTP/1.1\u001b[0m\" 200 -\n"
     ]
    },
    {
     "name": "stdout",
     "output_type": "stream",
     "text": [
      "this is not \n",
      "  document  n_tokens  n_i  sentiment has_top_surprise_word has_top_love_word  \\\n",
      "0                  0    0        0.0                     0                 0   \n",
      "\n",
      "  has_top_anger_word has_top_sadness_word has_top_fear_word has_top_joy_word  \n",
      "0                  0                    0                 0                0  \n",
      "Generating features\n",
      "Generating features\n",
      "  document  n_tokens  n_i  sentiment has_top_surprise_word has_top_love_word  \\\n",
      "0                  0    0        0.0                     0                 0   \n",
      "\n",
      "  has_top_anger_word has_top_sadness_word has_top_fear_word has_top_joy_word  \n",
      "0                  0                    0                 0                0  \n",
      "  document  n_tokens  n_i  sentiment has_top_surprise_word has_top_love_word  \\\n",
      "0                  0    0        0.0                     0                 0   \n",
      "\n",
      "  has_top_anger_word has_top_sadness_word has_top_fear_word has_top_joy_word  \n",
      "0                  0                    0                 0                0  \n",
      "this is not g\n",
      "Generating features\n"
     ]
    },
    {
     "name": "stderr",
     "output_type": "stream",
     "text": [
      "127.0.0.1 - - [23/May/2022 21:19:26] \"\u001b[37mPOST /_dash-update-component HTTP/1.1\u001b[0m\" 200 -\n",
      "C:\\Anaconda3\\lib\\site-packages\\sklearn\\compose\\_column_transformer.py:437: FutureWarning:\n",
      "\n",
      "Given feature/column names or counts do not match the ones for the data given during fit. This will fail from v0.24.\n",
      "\n",
      "127.0.0.1 - - [23/May/2022 21:19:26] \"\u001b[37mPOST /_dash-update-component HTTP/1.1\u001b[0m\" 200 -\n",
      "C:\\Anaconda3\\lib\\site-packages\\sklearn\\compose\\_column_transformer.py:437: FutureWarning:\n",
      "\n",
      "Given feature/column names or counts do not match the ones for the data given during fit. This will fail from v0.24.\n",
      "\n",
      "127.0.0.1 - - [23/May/2022 21:19:26] \"\u001b[37mPOST /_dash-update-component HTTP/1.1\u001b[0m\" 200 -\n"
     ]
    },
    {
     "name": "stdout",
     "output_type": "stream",
     "text": [
      "this is not go\n",
      "  document  n_tokens  n_i  sentiment has_top_surprise_word has_top_love_word  \\\n",
      "0        g         1    0        0.0                     0                 0   \n",
      "\n",
      "  has_top_anger_word has_top_sadness_word has_top_fear_word has_top_joy_word  \n",
      "0                  0                    0                 0                0  \n",
      "Generating features\n",
      "  document  n_tokens  n_i  sentiment has_top_surprise_word has_top_love_word  \\\n",
      "0       go         1    0        0.0                     0                 0   \n",
      "\n",
      "  has_top_anger_word has_top_sadness_word has_top_fear_word has_top_joy_word  \n",
      "0                  0                    0                 0                0  \n",
      "this is not goothis is not good"
     ]
    },
    {
     "name": "stderr",
     "output_type": "stream",
     "text": [
      "C:\\Anaconda3\\lib\\site-packages\\sklearn\\compose\\_column_transformer.py:437: FutureWarning:\n",
      "\n",
      "Given feature/column names or counts do not match the ones for the data given during fit. This will fail from v0.24.\n",
      "\n",
      "C:\\Anaconda3\\lib\\site-packages\\sklearn\\compose\\_column_transformer.py:437: FutureWarning:\n",
      "\n",
      "Given feature/column names or counts do not match the ones for the data given during fit. This will fail from v0.24.\n",
      "\n",
      "127.0.0.1 - - [23/May/2022 21:19:26] \"\u001b[37mPOST /_dash-update-component HTTP/1.1\u001b[0m\" 200 -\n",
      "127.0.0.1 - - [23/May/2022 21:19:26] \"\u001b[37mPOST /_dash-update-component HTTP/1.1\u001b[0m\" 200 -\n"
     ]
    },
    {
     "name": "stdout",
     "output_type": "stream",
     "text": [
      "\n",
      "\n",
      "Generating features\n",
      "Generating features\n",
      "  document  n_tokens  n_i  sentiment has_top_surprise_word has_top_love_word  \\\n",
      "0      goo         1    0        0.0                     0                 0   \n",
      "\n",
      "  has_top_anger_word has_top_sadness_word has_top_fear_word has_top_joy_word  \n",
      "0                  0                    0                 0                0  \n",
      "  document  n_tokens  n_i  sentiment has_top_surprise_word has_top_love_word  \\\n",
      "0     good         1    0        0.7                     0                 0   \n",
      "\n",
      "  has_top_anger_word has_top_sadness_word has_top_fear_word has_top_joy_word  \n",
      "0                  0                    0                 0                0  \n"
     ]
    },
    {
     "name": "stderr",
     "output_type": "stream",
     "text": [
      "C:\\Anaconda3\\lib\\site-packages\\sklearn\\compose\\_column_transformer.py:437: FutureWarning:\n",
      "\n",
      "Given feature/column names or counts do not match the ones for the data given during fit. This will fail from v0.24.\n",
      "\n",
      "127.0.0.1 - - [23/May/2022 21:19:27] \"\u001b[37mPOST /_dash-update-component HTTP/1.1\u001b[0m\" 200 -\n"
     ]
    },
    {
     "name": "stdout",
     "output_type": "stream",
     "text": [
      "this is not goo\n",
      "Generating features\n",
      "  document  n_tokens  n_i  sentiment has_top_surprise_word has_top_love_word  \\\n",
      "0      goo         1    0        0.0                     0                 0   \n",
      "\n",
      "  has_top_anger_word has_top_sadness_word has_top_fear_word has_top_joy_word  \n",
      "0                  0                    0                 0                0  \n",
      "this is not go\n",
      "this is not g\n",
      "this is not this is not\n",
      "Generating features\n",
      "\n",
      "this is no\n"
     ]
    },
    {
     "name": "stderr",
     "output_type": "stream",
     "text": [
      "C:\\Anaconda3\\lib\\site-packages\\sklearn\\compose\\_column_transformer.py:437: FutureWarning:\n",
      "\n",
      "Given feature/column names or counts do not match the ones for the data given during fit. This will fail from v0.24.\n",
      "\n",
      "C:\\Anaconda3\\lib\\site-packages\\sklearn\\compose\\_column_transformer.py:437: FutureWarning:\n",
      "\n",
      "Given feature/column names or counts do not match the ones for the data given during fit. This will fail from v0.24.\n",
      "\n",
      "C:\\Anaconda3\\lib\\site-packages\\sklearn\\compose\\_column_transformer.py:437: FutureWarning:\n",
      "\n",
      "Given feature/column names or counts do not match the ones for the data given during fit. This will fail from v0.24.\n",
      "\n",
      "C:\\Anaconda3\\lib\\site-packages\\sklearn\\compose\\_column_transformer.py:437: FutureWarning:\n",
      "\n",
      "Given feature/column names or counts do not match the ones for the data given during fit. This will fail from v0.24.\n",
      "\n",
      "127.0.0.1 - - [23/May/2022 21:19:28] \"\u001b[37mPOST /_dash-update-component HTTP/1.1\u001b[0m\" 200 -\n"
     ]
    },
    {
     "name": "stdout",
     "output_type": "stream",
     "text": [
      "this is n\n",
      "Generating features\n",
      "  document  n_tokens  n_i  sentiment has_top_surprise_word has_top_love_word  \\\n",
      "0       go         1    0        0.0                     0                 0   \n",
      "\n",
      "  has_top_anger_word has_top_sadness_word has_top_fear_word has_top_joy_word  \n",
      "0                  0                    0                 0                0  Generating features\n",
      "Generating features\n",
      "Generating features\n",
      "\n",
      "  document  n_tokens  n_i  sentiment has_top_surprise_word has_top_love_word  \\\n",
      "0                  0    0        0.0                     0                 0   \n",
      "\n",
      "  has_top_anger_word has_top_sadness_word has_top_fear_word has_top_joy_word  \n",
      "0                  0                    0                 0                0    document  n_tokens  n_i  sentiment has_top_surprise_word has_top_love_word  \\\n",
      "0        g         1    0        0.0                     0                 0   \n",
      "\n",
      "  has_top_anger_word has_top_sadness_word has_top_fear_word has_top_joy_word  \n",
      "0                  0                    0                 0                0  \n",
      "\n",
      "Generating features\n",
      "  document  n_tokens  n_i  sentiment has_top_surprise_word has_top_love_word  \\\n",
      "0                  0    0        0.0                     0                 0   \n",
      "\n",
      "  has_top_anger_word has_top_sadness_word has_top_fear_word has_top_joy_word  \n",
      "0                  0                    0                 0                0  \n",
      "  document  n_tokens  n_i  sentiment has_top_surprise_word has_top_love_word  \\\n",
      "0                  0    0        0.0                     0                 0   \n",
      "\n",
      "  has_top_anger_word has_top_sadness_word has_top_fear_word has_top_joy_word  \n",
      "0                  0                    0                 0                0  \n",
      "  document  n_tokens  n_i  sentiment has_top_surprise_word has_top_love_word  \\\n",
      "0        n         1    0        0.0                     0                 0   \n",
      "\n",
      "  has_top_anger_word has_top_sadness_word has_top_fear_word has_top_joy_word  \n",
      "0                  0                    0                 0                0  \n"
     ]
    },
    {
     "name": "stderr",
     "output_type": "stream",
     "text": [
      "C:\\Anaconda3\\lib\\site-packages\\sklearn\\compose\\_column_transformer.py:437: FutureWarning:\n",
      "\n",
      "Given feature/column names or counts do not match the ones for the data given during fit. This will fail from v0.24.\n",
      "\n",
      "127.0.0.1 - - [23/May/2022 21:19:28] \"\u001b[37mPOST /_dash-update-component HTTP/1.1\u001b[0m\" 200 -\n",
      "127.0.0.1 - - [23/May/2022 21:19:28] \"\u001b[37mPOST /_dash-update-component HTTP/1.1\u001b[0m\" 200 -\n",
      "127.0.0.1 - - [23/May/2022 21:19:28] \"\u001b[37mPOST /_dash-update-component HTTP/1.1\u001b[0m\" 200 -\n",
      "127.0.0.1 - - [23/May/2022 21:19:28] \"\u001b[37mPOST /_dash-update-component HTTP/1.1\u001b[0m\" 200 -\n",
      "127.0.0.1 - - [23/May/2022 21:19:28] \"\u001b[37mPOST /_dash-update-component HTTP/1.1\u001b[0m\" 200 -\n",
      "C:\\Anaconda3\\lib\\site-packages\\sklearn\\compose\\_column_transformer.py:437: FutureWarning:\n",
      "\n",
      "Given feature/column names or counts do not match the ones for the data given during fit. This will fail from v0.24.\n",
      "\n",
      "C:\\Anaconda3\\lib\\site-packages\\sklearn\\compose\\_column_transformer.py:437: FutureWarning:\n",
      "\n",
      "Given feature/column names or counts do not match the ones for the data given during fit. This will fail from v0.24.\n",
      "\n",
      "127.0.0.1 - - [23/May/2022 21:19:28] \"\u001b[37mPOST /_dash-update-component HTTP/1.1\u001b[0m\" 200 -\n",
      "127.0.0.1 - - [23/May/2022 21:19:28] \"\u001b[37mPOST /_dash-update-component HTTP/1.1\u001b[0m\" 200 -\n"
     ]
    },
    {
     "name": "stdout",
     "output_type": "stream",
     "text": [
      "this is this is\n",
      "\n",
      "Generating features\n",
      "Generating features\n",
      "  document  n_tokens  n_i  sentiment has_top_surprise_word has_top_love_word  \\\n",
      "0                  0    0        0.0                     0                 0   \n",
      "\n",
      "  has_top_anger_word has_top_sadness_word has_top_fear_word has_top_joy_word  \n",
      "0                  0                    0                 0                0  \n",
      "  document  n_tokens  n_i  sentiment has_top_surprise_word has_top_love_word  \\\n",
      "0                  0    0        0.0                     0                 0   \n",
      "\n",
      "  has_top_anger_word has_top_sadness_word has_top_fear_word has_top_joy_word  \n",
      "0                  0                    0                 0                0  \n"
     ]
    },
    {
     "name": "stderr",
     "output_type": "stream",
     "text": [
      "C:\\Anaconda3\\lib\\site-packages\\sklearn\\compose\\_column_transformer.py:437: FutureWarning:\n",
      "\n",
      "Given feature/column names or counts do not match the ones for the data given during fit. This will fail from v0.24.\n",
      "\n",
      "127.0.0.1 - - [23/May/2022 21:19:28] \"\u001b[37mPOST /_dash-update-component HTTP/1.1\u001b[0m\" 200 -\n"
     ]
    },
    {
     "name": "stdout",
     "output_type": "stream",
     "text": [
      "this is \n",
      "Generating features\n",
      "  document  n_tokens  n_i  sentiment has_top_surprise_word has_top_love_word  \\\n",
      "0                  0    0        0.0                     0                 0   \n",
      "\n",
      "  has_top_anger_word has_top_sadness_word has_top_fear_word has_top_joy_word  \n",
      "0                  0                    0                 0                0  \n",
      "this is b\n",
      "Generating features"
     ]
    },
    {
     "name": "stderr",
     "output_type": "stream",
     "text": [
      "C:\\Anaconda3\\lib\\site-packages\\sklearn\\compose\\_column_transformer.py:437: FutureWarning:\n",
      "\n",
      "Given feature/column names or counts do not match the ones for the data given during fit. This will fail from v0.24.\n",
      "\n",
      "127.0.0.1 - - [23/May/2022 21:19:29] \"\u001b[37mPOST /_dash-update-component HTTP/1.1\u001b[0m\" 200 -\n"
     ]
    },
    {
     "name": "stdout",
     "output_type": "stream",
     "text": [
      "\n",
      "  document  n_tokens  n_i  sentiment has_top_surprise_word has_top_love_word  \\\n",
      "0        b         1    0        0.0                     0                 0   \n",
      "\n",
      "  has_top_anger_word has_top_sadness_word has_top_fear_word has_top_joy_word  \n",
      "0                  0                    0                 0                0  \n",
      "this is ba\n",
      "Generating features\n",
      "this is bad\n",
      "  document  n_tokens  n_i  sentiment has_top_surprise_word has_top_love_word  \\\n",
      "0       ba         1    0        0.0                     0                 0   \n",
      "\n",
      "  has_top_anger_word has_top_sadness_word has_top_fear_word has_top_joy_word  \n",
      "0                  0                    0                 0                0  \n"
     ]
    },
    {
     "name": "stderr",
     "output_type": "stream",
     "text": [
      "C:\\Anaconda3\\lib\\site-packages\\sklearn\\compose\\_column_transformer.py:437: FutureWarning:\n",
      "\n",
      "Given feature/column names or counts do not match the ones for the data given during fit. This will fail from v0.24.\n",
      "\n",
      "127.0.0.1 - - [23/May/2022 21:19:29] \"\u001b[37mPOST /_dash-update-component HTTP/1.1\u001b[0m\" 200 -\n",
      "C:\\Anaconda3\\lib\\site-packages\\sklearn\\compose\\_column_transformer.py:437: FutureWarning:\n",
      "\n",
      "Given feature/column names or counts do not match the ones for the data given during fit. This will fail from v0.24.\n",
      "\n",
      "127.0.0.1 - - [23/May/2022 21:19:29] \"\u001b[37mPOST /_dash-update-component HTTP/1.1\u001b[0m\" 200 -\n"
     ]
    },
    {
     "name": "stdout",
     "output_type": "stream",
     "text": [
      "Generating features\n",
      "  document  n_tokens  n_i  sentiment has_top_surprise_word has_top_love_word  \\\n",
      "0      bad         1    0       -0.7                     0                 0   \n",
      "\n",
      "  has_top_anger_word has_top_sadness_word has_top_fear_word has_top_joy_word  \n",
      "0                  0                    0                 0                0  \n"
     ]
    },
    {
     "name": "stderr",
     "output_type": "stream",
     "text": [
      "C:\\Anaconda3\\lib\\site-packages\\sklearn\\compose\\_column_transformer.py:437: FutureWarning:\n",
      "\n",
      "Given feature/column names or counts do not match the ones for the data given during fit. This will fail from v0.24.\n",
      "\n",
      "127.0.0.1 - - [23/May/2022 21:19:30] \"\u001b[37mPOST /_dash-update-component HTTP/1.1\u001b[0m\" 200 -\n"
     ]
    },
    {
     "name": "stdout",
     "output_type": "stream",
     "text": [
      "this is ba\n",
      "Generating features\n",
      "  document  n_tokens  n_i  sentiment has_top_surprise_word has_top_love_word  \\\n",
      "0       ba         1    0        0.0                     0                 0   \n",
      "\n",
      "  has_top_anger_word has_top_sadness_word has_top_fear_word has_top_joy_word  \n",
      "0                  0                    0                 0                0  \n",
      "this is b\n",
      "this is \n",
      "this is\n",
      "Generating features\n",
      "Generating features\n",
      "Generating features\n",
      "  document  n_tokens  n_i  sentiment has_top_surprise_word has_top_love_word  \\\n",
      "0        b         1    0        0.0                     0                 0   \n",
      "\n",
      "  has_top_anger_word has_top_sadness_word has_top_fear_word has_top_joy_word  \n",
      "0                  0                    0                 0                0  \n",
      "  document  n_tokens  n_i  sentiment has_top_surprise_word has_top_love_word  \\\n",
      "0                  0    0        0.0                     0                 0   \n",
      "\n",
      "  has_top_anger_word has_top_sadness_word has_top_fear_word has_top_joy_word  \n",
      "0                  0                    0                 0                0  \n"
     ]
    },
    {
     "name": "stderr",
     "output_type": "stream",
     "text": [
      "C:\\Anaconda3\\lib\\site-packages\\sklearn\\compose\\_column_transformer.py:437: FutureWarning:\n",
      "\n",
      "Given feature/column names or counts do not match the ones for the data given during fit. This will fail from v0.24.\n",
      "\n",
      "C:\\Anaconda3\\lib\\site-packages\\sklearn\\compose\\_column_transformer.py:437: FutureWarning:\n",
      "\n",
      "Given feature/column names or counts do not match the ones for the data given during fit. This will fail from v0.24.\n",
      "\n",
      "C:\\Anaconda3\\lib\\site-packages\\sklearn\\compose\\_column_transformer.py:437: FutureWarning:\n",
      "\n",
      "Given feature/column names or counts do not match the ones for the data given during fit. This will fail from v0.24.\n",
      "\n",
      "127.0.0.1 - - [23/May/2022 21:19:30] \"\u001b[37mPOST /_dash-update-component HTTP/1.1\u001b[0m\" 200 -\n",
      "127.0.0.1 - - [23/May/2022 21:19:30] \"\u001b[37mPOST /_dash-update-component HTTP/1.1\u001b[0m\" 200 -\n",
      "127.0.0.1 - - [23/May/2022 21:19:30] \"\u001b[37mPOST /_dash-update-component HTTP/1.1\u001b[0m\" 200 -\n",
      "C:\\Anaconda3\\lib\\site-packages\\sklearn\\compose\\_column_transformer.py:437: FutureWarning:\n",
      "\n",
      "Given feature/column names or counts do not match the ones for the data given during fit. This will fail from v0.24.\n",
      "\n",
      "127.0.0.1 - - [23/May/2022 21:19:30] \"\u001b[37mPOST /_dash-update-component HTTP/1.1\u001b[0m\" 200 -\n",
      "C:\\Anaconda3\\lib\\site-packages\\sklearn\\compose\\_column_transformer.py:437: FutureWarning:\n",
      "\n",
      "Given feature/column names or counts do not match the ones for the data given during fit. This will fail from v0.24.\n",
      "\n",
      "127.0.0.1 - - [23/May/2022 21:19:31] \"\u001b[37mPOST /_dash-update-component HTTP/1.1\u001b[0m\" 200 -\n"
     ]
    },
    {
     "name": "stdout",
     "output_type": "stream",
     "text": [
      "this i\n",
      "  document  n_tokens  n_i  sentiment has_top_surprise_word has_top_love_word  \\\n",
      "0                  0    0        0.0                     0                 0   \n",
      "\n",
      "  has_top_anger_word has_top_sadness_word has_top_fear_word has_top_joy_word  \n",
      "0                  0                    0                 0                0  \n",
      "Generating features\n",
      "  document  n_tokens  n_i  sentiment has_top_surprise_word has_top_love_word  \\\n",
      "0        i         1    0        0.0                     0                 0   \n",
      "\n",
      "  has_top_anger_word has_top_sadness_word has_top_fear_word has_top_joy_word  \n",
      "0                  0                    0                 0                0  \n",
      "this \n",
      "Generating features\n",
      "  document  n_tokens  n_i  sentiment has_top_surprise_word has_top_love_word  \\\n",
      "0                  0    0        0.0                     0                 0   \n",
      "\n",
      "  has_top_anger_word has_top_sadness_word has_top_fear_word has_top_joy_word  \n",
      "0                  0                    0                 0                0  \n"
     ]
    },
    {
     "name": "stderr",
     "output_type": "stream",
     "text": [
      "C:\\Anaconda3\\lib\\site-packages\\sklearn\\compose\\_column_transformer.py:437: FutureWarning:\n",
      "\n",
      "Given feature/column names or counts do not match the ones for the data given during fit. This will fail from v0.24.\n",
      "\n",
      "127.0.0.1 - - [23/May/2022 21:19:31] \"\u001b[37mPOST /_dash-update-component HTTP/1.1\u001b[0m\" 200 -\n",
      "C:\\Anaconda3\\lib\\site-packages\\sklearn\\compose\\_column_transformer.py:437: FutureWarning:\n",
      "\n",
      "Given feature/column names or counts do not match the ones for the data given during fit. This will fail from v0.24.\n",
      "\n",
      "127.0.0.1 - - [23/May/2022 21:19:31] \"\u001b[37mPOST /_dash-update-component HTTP/1.1\u001b[0m\" 200 -\n"
     ]
    },
    {
     "name": "stdout",
     "output_type": "stream",
     "text": [
      "this\n",
      "Generating features\n",
      "  document  n_tokens  n_i  sentiment has_top_surprise_word has_top_love_word  \\\n",
      "0                  0    0        0.0                     0                 0   \n",
      "\n",
      "  has_top_anger_word has_top_sadness_word has_top_fear_word has_top_joy_word  \n",
      "0                  0                    0                 0                0  \n",
      "thi\n",
      "Generating features\n",
      "  document  n_tokens  n_i  sentiment has_top_surprise_word has_top_love_word  \\\n",
      "0      thi         1    0        0.0                     0                 0   \n",
      "\n",
      "  has_top_anger_word has_top_sadness_word has_top_fear_word has_top_joy_word  \n",
      "0                  0                    0                 0                0  \n"
     ]
    },
    {
     "name": "stderr",
     "output_type": "stream",
     "text": [
      "C:\\Anaconda3\\lib\\site-packages\\sklearn\\compose\\_column_transformer.py:437: FutureWarning:\n",
      "\n",
      "Given feature/column names or counts do not match the ones for the data given during fit. This will fail from v0.24.\n",
      "\n",
      "127.0.0.1 - - [23/May/2022 21:19:31] \"\u001b[37mPOST /_dash-update-component HTTP/1.1\u001b[0m\" 200 -\n",
      "C:\\Anaconda3\\lib\\site-packages\\sklearn\\compose\\_column_transformer.py:437: FutureWarning:\n",
      "\n",
      "Given feature/column names or counts do not match the ones for the data given during fit. This will fail from v0.24.\n",
      "\n",
      "127.0.0.1 - - [23/May/2022 21:19:31] \"\u001b[37mPOST /_dash-update-component HTTP/1.1\u001b[0m\" 200 -\n"
     ]
    },
    {
     "name": "stdout",
     "output_type": "stream",
     "text": [
      "th\n",
      "Generating features\n",
      "  document  n_tokens  n_i  sentiment has_top_surprise_word has_top_love_word  \\\n",
      "0       th         1    0        0.0                     0                 0   \n",
      "\n",
      "  has_top_anger_word has_top_sadness_word has_top_fear_word has_top_joy_word  \n",
      "0                  0                    0                 0                0  \n",
      "t\n",
      "Generating features\n",
      "  document  n_tokens  n_i  sentiment has_top_surprise_word has_top_love_word  \\\n",
      "0                  0    0        0.0                     0                 0   \n",
      "\n",
      "  has_top_anger_word has_top_sadness_word has_top_fear_word has_top_joy_word  \n",
      "0                  0                    0                 0                0  \n"
     ]
    },
    {
     "name": "stderr",
     "output_type": "stream",
     "text": [
      "C:\\Anaconda3\\lib\\site-packages\\sklearn\\compose\\_column_transformer.py:437: FutureWarning:\n",
      "\n",
      "Given feature/column names or counts do not match the ones for the data given during fit. This will fail from v0.24.\n",
      "\n",
      "127.0.0.1 - - [23/May/2022 21:19:31] \"\u001b[37mPOST /_dash-update-component HTTP/1.1\u001b[0m\" 200 -\n"
     ]
    },
    {
     "name": "stdout",
     "output_type": "stream",
     "text": [
      "\n",
      "Generating features\n",
      "  document  n_tokens  n_i  sentiment has_top_surprise_word has_top_love_word  \\\n",
      "0                  0    0        0.0                     0                 0   \n",
      "\n",
      "  has_top_anger_word has_top_sadness_word has_top_fear_word has_top_joy_word  \n",
      "0                  0                    0                 0                0  \n"
     ]
    },
    {
     "name": "stderr",
     "output_type": "stream",
     "text": [
      "C:\\Anaconda3\\lib\\site-packages\\sklearn\\compose\\_column_transformer.py:437: FutureWarning:\n",
      "\n",
      "Given feature/column names or counts do not match the ones for the data given during fit. This will fail from v0.24.\n",
      "\n",
      "127.0.0.1 - - [23/May/2022 21:19:32] \"\u001b[37mPOST /_dash-update-component HTTP/1.1\u001b[0m\" 200 -\n"
     ]
    },
    {
     "name": "stdout",
     "output_type": "stream",
     "text": [
      "I\n",
      "Generating features\n",
      "  document  n_tokens  n_i  sentiment has_top_surprise_word has_top_love_word  \\\n",
      "0        i         1    0        0.0                     0                 0   \n",
      "\n",
      "  has_top_anger_word has_top_sadness_word has_top_fear_word has_top_joy_word  \n",
      "0                  0                    0                 0                0  \n"
     ]
    },
    {
     "name": "stderr",
     "output_type": "stream",
     "text": [
      "C:\\Anaconda3\\lib\\site-packages\\sklearn\\compose\\_column_transformer.py:437: FutureWarning:\n",
      "\n",
      "Given feature/column names or counts do not match the ones for the data given during fit. This will fail from v0.24.\n",
      "\n",
      "127.0.0.1 - - [23/May/2022 21:19:32] \"\u001b[37mPOST /_dash-update-component HTTP/1.1\u001b[0m\" 200 -\n",
      "C:\\Anaconda3\\lib\\site-packages\\sklearn\\compose\\_column_transformer.py:437: FutureWarning:\n",
      "\n",
      "Given feature/column names or counts do not match the ones for the data given during fit. This will fail from v0.24.\n",
      "\n",
      "127.0.0.1 - - [23/May/2022 21:19:32] \"\u001b[37mPOST /_dash-update-component HTTP/1.1\u001b[0m\" 200 -\n"
     ]
    },
    {
     "name": "stdout",
     "output_type": "stream",
     "text": [
      "I'\n",
      "Generating features\n",
      "  document  n_tokens  n_i  sentiment has_top_surprise_word has_top_love_word  \\\n",
      "0        i         1    0        0.0                     0                 0   \n",
      "\n",
      "  has_top_anger_word has_top_sadness_word has_top_fear_word has_top_joy_word  \n",
      "0                  0                    0                 0                0  \n",
      "I'm\n",
      "Generating features\n",
      "  document  n_tokens  n_i  sentiment has_top_surprise_word has_top_love_word  \\\n",
      "0        i         1    0        0.0                     0                 0   \n",
      "\n",
      "  has_top_anger_word has_top_sadness_word has_top_fear_word has_top_joy_word  \n",
      "0                  0                    0                 0                0  \n"
     ]
    },
    {
     "name": "stderr",
     "output_type": "stream",
     "text": [
      "C:\\Anaconda3\\lib\\site-packages\\sklearn\\compose\\_column_transformer.py:437: FutureWarning:\n",
      "\n",
      "Given feature/column names or counts do not match the ones for the data given during fit. This will fail from v0.24.\n",
      "\n",
      "127.0.0.1 - - [23/May/2022 21:19:32] \"\u001b[37mPOST /_dash-update-component HTTP/1.1\u001b[0m\" 200 -\n",
      "C:\\Anaconda3\\lib\\site-packages\\sklearn\\compose\\_column_transformer.py:437: FutureWarning:\n",
      "\n",
      "Given feature/column names or counts do not match the ones for the data given during fit. This will fail from v0.24.\n",
      "\n",
      "127.0.0.1 - - [23/May/2022 21:19:32] \"\u001b[37mPOST /_dash-update-component HTTP/1.1\u001b[0m\" 200 -\n"
     ]
    },
    {
     "name": "stdout",
     "output_type": "stream",
     "text": [
      "I'm \n",
      "Generating features\n",
      "  document  n_tokens  n_i  sentiment has_top_surprise_word has_top_love_word  \\\n",
      "0        i         1    0        0.0                     0                 0   \n",
      "\n",
      "  has_top_anger_word has_top_sadness_word has_top_fear_word has_top_joy_word  \n",
      "0                  0                    0                 0                0  \n",
      "I'm n\n",
      "Generating features\n",
      "  document  n_tokens  n_i  sentiment has_top_surprise_word has_top_love_word  \\\n",
      "0      i n         2    1        0.0                     0                 0   \n",
      "\n",
      "  has_top_anger_word has_top_sadness_word has_top_fear_word has_top_joy_word  \n",
      "0                  0                    0                 0                0  \n"
     ]
    },
    {
     "name": "stderr",
     "output_type": "stream",
     "text": [
      "C:\\Anaconda3\\lib\\site-packages\\sklearn\\compose\\_column_transformer.py:437: FutureWarning:\n",
      "\n",
      "Given feature/column names or counts do not match the ones for the data given during fit. This will fail from v0.24.\n",
      "\n",
      "127.0.0.1 - - [23/May/2022 21:19:33] \"\u001b[37mPOST /_dash-update-component HTTP/1.1\u001b[0m\" 200 -\n"
     ]
    },
    {
     "name": "stdout",
     "output_type": "stream",
     "text": [
      "I'm nu\n",
      "Generating features\n",
      "  document  n_tokens  n_i  sentiment has_top_surprise_word has_top_love_word  \\\n",
      "0     i nu         2    1        0.0                     0                 0   \n",
      "\n",
      "  has_top_anger_word has_top_sadness_word has_top_fear_word has_top_joy_word  \n",
      "0                  0                    0                 0                0  \n",
      "I'm n\n"
     ]
    },
    {
     "name": "stderr",
     "output_type": "stream",
     "text": [
      "C:\\Anaconda3\\lib\\site-packages\\sklearn\\compose\\_column_transformer.py:437: FutureWarning:\n",
      "\n",
      "Given feature/column names or counts do not match the ones for the data given during fit. This will fail from v0.24.\n",
      "\n",
      "127.0.0.1 - - [23/May/2022 21:19:33] \"\u001b[37mPOST /_dash-update-component HTTP/1.1\u001b[0m\" 200 -\n",
      "C:\\Anaconda3\\lib\\site-packages\\sklearn\\compose\\_column_transformer.py:437: FutureWarning:\n",
      "\n",
      "Given feature/column names or counts do not match the ones for the data given during fit. This will fail from v0.24.\n",
      "\n",
      "127.0.0.1 - - [23/May/2022 21:19:33] \"\u001b[37mPOST /_dash-update-component HTTP/1.1\u001b[0m\" 200 -\n"
     ]
    },
    {
     "name": "stdout",
     "output_type": "stream",
     "text": [
      "Generating features\n",
      "  document  n_tokens  n_i  sentiment has_top_surprise_word has_top_love_word  \\\n",
      "0      i n         2    1        0.0                     0                 0   \n",
      "\n",
      "  has_top_anger_word has_top_sadness_word has_top_fear_word has_top_joy_word  \n",
      "0                  0                    0                 0                0  \n",
      "I'm \n",
      "Generating features\n",
      "  document  n_tokens  n_i  sentiment has_top_surprise_word has_top_love_word  \\\n",
      "0        i         1    0        0.0                     0                 0   \n",
      "\n",
      "  has_top_anger_word has_top_sadness_word has_top_fear_word has_top_joy_word  \n",
      "0                  0                    0                 0                0  \n"
     ]
    },
    {
     "name": "stderr",
     "output_type": "stream",
     "text": [
      "C:\\Anaconda3\\lib\\site-packages\\sklearn\\compose\\_column_transformer.py:437: FutureWarning:\n",
      "\n",
      "Given feature/column names or counts do not match the ones for the data given during fit. This will fail from v0.24.\n",
      "\n",
      "127.0.0.1 - - [23/May/2022 21:19:33] \"\u001b[37mPOST /_dash-update-component HTTP/1.1\u001b[0m\" 200 -\n"
     ]
    },
    {
     "name": "stdout",
     "output_type": "stream",
     "text": [
      "I'm u\n",
      "Generating features\n",
      "  document  n_tokens  n_i  sentiment has_top_surprise_word has_top_love_word  \\\n",
      "0      i u         2    1        0.0                     0                 0   \n",
      "\n",
      "  has_top_anger_word has_top_sadness_word has_top_fear_word has_top_joy_word  \n",
      "0                  0                    0                 0                0  \n",
      "I'm un\n"
     ]
    },
    {
     "name": "stderr",
     "output_type": "stream",
     "text": [
      "C:\\Anaconda3\\lib\\site-packages\\sklearn\\compose\\_column_transformer.py:437: FutureWarning:\n",
      "\n",
      "Given feature/column names or counts do not match the ones for the data given during fit. This will fail from v0.24.\n",
      "\n",
      "127.0.0.1 - - [23/May/2022 21:19:33] \"\u001b[37mPOST /_dash-update-component HTTP/1.1\u001b[0m\" 200 -\n"
     ]
    },
    {
     "name": "stdout",
     "output_type": "stream",
     "text": [
      "Generating features\n",
      "  document  n_tokens  n_i  sentiment has_top_surprise_word has_top_love_word  \\\n",
      "0     i un         2    1        0.0                     0                 0   \n",
      "\n",
      "  has_top_anger_word has_top_sadness_word has_top_fear_word has_top_joy_word  \n",
      "0                  0                    0                 0                0  \n",
      "I'm unh\n",
      "Generating features\n",
      "  document  n_tokens  n_i  sentiment has_top_surprise_word has_top_love_word  \\\n",
      "0    i unh         2    1        0.0                     0                 0   \n",
      "\n",
      "  has_top_anger_word has_top_sadness_word has_top_fear_word has_top_joy_word  \n",
      "0                  0                    0                 0                0  \n"
     ]
    },
    {
     "name": "stderr",
     "output_type": "stream",
     "text": [
      "C:\\Anaconda3\\lib\\site-packages\\sklearn\\compose\\_column_transformer.py:437: FutureWarning:\n",
      "\n",
      "Given feature/column names or counts do not match the ones for the data given during fit. This will fail from v0.24.\n",
      "\n",
      "127.0.0.1 - - [23/May/2022 21:19:34] \"\u001b[37mPOST /_dash-update-component HTTP/1.1\u001b[0m\" 200 -\n"
     ]
    },
    {
     "name": "stdout",
     "output_type": "stream",
     "text": [
      "I'm unha\n",
      "Generating features\n",
      "I'm unhap\n",
      "  document  n_tokens  n_i  sentiment has_top_surprise_word has_top_love_word  \\\n",
      "0   i unha         2    1        0.0                     0                 0   \n",
      "\n",
      "  has_top_anger_word has_top_sadness_word has_top_fear_word has_top_joy_word  \n",
      "0                  0                    0                 0                0  \n",
      "I'm unhapp"
     ]
    },
    {
     "name": "stderr",
     "output_type": "stream",
     "text": [
      "C:\\Anaconda3\\lib\\site-packages\\sklearn\\compose\\_column_transformer.py:437: FutureWarning:\n",
      "\n",
      "Given feature/column names or counts do not match the ones for the data given during fit. This will fail from v0.24.\n",
      "\n",
      "127.0.0.1 - - [23/May/2022 21:19:34] \"\u001b[37mPOST /_dash-update-component HTTP/1.1\u001b[0m\" 200 -\n"
     ]
    },
    {
     "name": "stdout",
     "output_type": "stream",
     "text": [
      "\n",
      "I'm unhappy\n",
      "Generating features\n",
      "Generating features\n",
      "    document  n_tokens  n_i  sentiment has_top_surprise_word  \\\n",
      "0  i unhappy         2    1       -0.6                     0   \n",
      "\n",
      "  has_top_love_word has_top_anger_word  has_top_sadness_word  \\\n",
      "0                 0                  0                     1   \n",
      "\n",
      "  has_top_fear_word has_top_joy_word  \n",
      "0                 0                0  \n",
      "Generating features\n"
     ]
    },
    {
     "name": "stderr",
     "output_type": "stream",
     "text": [
      "C:\\Anaconda3\\lib\\site-packages\\sklearn\\compose\\_column_transformer.py:437: FutureWarning:\n",
      "\n",
      "Given feature/column names or counts do not match the ones for the data given during fit. This will fail from v0.24.\n",
      "\n",
      "C:\\Anaconda3\\lib\\site-packages\\sklearn\\compose\\_column_transformer.py:437: FutureWarning:\n",
      "\n",
      "Given feature/column names or counts do not match the ones for the data given during fit. This will fail from v0.24.\n",
      "\n",
      "C:\\Anaconda3\\lib\\site-packages\\sklearn\\compose\\_column_transformer.py:437: FutureWarning:\n",
      "\n",
      "Given feature/column names or counts do not match the ones for the data given during fit. This will fail from v0.24.\n",
      "\n",
      "127.0.0.1 - - [23/May/2022 21:19:34] \"\u001b[37mPOST /_dash-update-component HTTP/1.1\u001b[0m\" 200 -\n",
      "127.0.0.1 - - [23/May/2022 21:19:34] \"\u001b[37mPOST /_dash-update-component HTTP/1.1\u001b[0m\" 200 -\n",
      "127.0.0.1 - - [23/May/2022 21:19:34] \"\u001b[37mPOST /_dash-update-component HTTP/1.1\u001b[0m\" 200 -\n"
     ]
    },
    {
     "name": "stdout",
     "output_type": "stream",
     "text": [
      "   document  n_tokens  n_i  sentiment has_top_surprise_word has_top_love_word  \\\n",
      "0  i unhapp         2    1        0.0                     0                 0   \n",
      "\n",
      "  has_top_anger_word has_top_sadness_word has_top_fear_word has_top_joy_word  \n",
      "0                  0                    0                 0                0  \n",
      "  document  n_tokens  n_i  sentiment has_top_surprise_word has_top_love_word  \\\n",
      "0  i unhap         2    1        0.0                     0                 0   \n",
      "\n",
      "  has_top_anger_word has_top_sadness_word has_top_fear_word has_top_joy_word  \n",
      "0                  0                    0                 0                0  \n"
     ]
    },
    {
     "name": "stderr",
     "output_type": "stream",
     "text": [
      "C:\\Anaconda3\\lib\\site-packages\\sklearn\\compose\\_column_transformer.py:437: FutureWarning:\n",
      "\n",
      "Given feature/column names or counts do not match the ones for the data given during fit. This will fail from v0.24.\n",
      "\n",
      "127.0.0.1 - - [23/May/2022 21:19:35] \"\u001b[37mPOST /_dash-update-component HTTP/1.1\u001b[0m\" 200 -\n"
     ]
    },
    {
     "name": "stdout",
     "output_type": "stream",
     "text": [
      "I'm unhapp\n",
      "Generating features\n",
      "   document  n_tokens  n_i  sentiment has_top_surprise_word has_top_love_word  \\\n",
      "0  i unhapp         2    1        0.0                     0                 0   \n",
      "\n",
      "  has_top_anger_word has_top_sadness_word has_top_fear_word has_top_joy_word  \n",
      "0                  0                    0                 0                0  \n",
      "I'm unhapI'm unha\n",
      "\n",
      "I'm unh\n",
      "I'm un\n",
      "I'm u\n",
      "I'm \n",
      "Generating features\n",
      "Generating features\n",
      "Generating features\n",
      "Generating features\n",
      "Generating features\n",
      "  document  n_tokens  n_i  sentiment has_top_surprise_word has_top_love_word  \\\n",
      "0    i unh         2    1        0.0                     0                 0   \n",
      "\n",
      "  has_top_anger_word has_top_sadness_word has_top_fear_word has_top_joy_word  \n",
      "0                  0                    0                 0                0  \n"
     ]
    },
    {
     "name": "stderr",
     "output_type": "stream",
     "text": [
      "C:\\Anaconda3\\lib\\site-packages\\sklearn\\compose\\_column_transformer.py:437: FutureWarning:\n",
      "\n",
      "Given feature/column names or counts do not match the ones for the data given during fit. This will fail from v0.24.\n",
      "\n",
      "C:\\Anaconda3\\lib\\site-packages\\sklearn\\compose\\_column_transformer.py:437: FutureWarning:\n",
      "\n",
      "Given feature/column names or counts do not match the ones for the data given during fit. This will fail from v0.24.\n",
      "\n",
      "C:\\Anaconda3\\lib\\site-packages\\sklearn\\compose\\_column_transformer.py:437: FutureWarning:\n",
      "\n",
      "Given feature/column names or counts do not match the ones for the data given during fit. This will fail from v0.24.\n",
      "\n",
      "C:\\Anaconda3\\lib\\site-packages\\sklearn\\compose\\_column_transformer.py:437: FutureWarning:\n",
      "\n",
      "Given feature/column names or counts do not match the ones for the data given during fit. This will fail from v0.24.\n",
      "\n",
      "C:\\Anaconda3\\lib\\site-packages\\sklearn\\compose\\_column_transformer.py:437: FutureWarning:\n",
      "\n",
      "Given feature/column names or counts do not match the ones for the data given during fit. This will fail from v0.24.\n",
      "\n",
      "127.0.0.1 - - [23/May/2022 21:19:36] \"\u001b[37mPOST /_dash-update-component HTTP/1.1\u001b[0m\" 200 -\n",
      "127.0.0.1 - - [23/May/2022 21:19:36] \"\u001b[37mPOST /_dash-update-component HTTP/1.1\u001b[0m\" 200 -\n",
      "127.0.0.1 - - [23/May/2022 21:19:36] \"\u001b[37mPOST /_dash-update-component HTTP/1.1\u001b[0m\" 200 -\n",
      "127.0.0.1 - - [23/May/2022 21:19:36] \"\u001b[37mPOST /_dash-update-component HTTP/1.1\u001b[0m\" 200 -\n",
      "127.0.0.1 - - [23/May/2022 21:19:36] \"\u001b[37mPOST /_dash-update-component HTTP/1.1\u001b[0m\" 200 -\n",
      "127.0.0.1 - - [23/May/2022 21:19:36] \"\u001b[37mPOST /_dash-update-component HTTP/1.1\u001b[0m\" 200 -\n"
     ]
    },
    {
     "name": "stdout",
     "output_type": "stream",
     "text": [
      "Generating features\n",
      "  document  n_tokens  n_i  sentiment has_top_surprise_word has_top_love_word  \\\n",
      "0     i un         2    1        0.0                     0                 0   \n",
      "\n",
      "  has_top_anger_word has_top_sadness_word has_top_fear_word has_top_joy_word  \n",
      "0                  0                    0                 0                0  \n",
      "  document  n_tokens  n_i  sentiment has_top_surprise_word has_top_love_word  \\\n",
      "0   i unha         2    1        0.0                     0                 0   \n",
      "\n",
      "  has_top_anger_word has_top_sadness_word has_top_fear_word has_top_joy_word  \n",
      "0                  0                    0                 0                0  \n",
      "  document  n_tokens  n_i  sentiment has_top_surprise_word has_top_love_word  \\\n",
      "0      i u         2    1        0.0                     0                 0   \n",
      "\n",
      "  has_top_anger_word has_top_sadness_word has_top_fear_word has_top_joy_word  \n",
      "0                  0                    0                 0                0    document  n_tokens  n_i  sentiment has_top_surprise_word has_top_love_word  \\\n",
      "0        i         1    0        0.0                     0                 0   \n",
      "\n",
      "  has_top_anger_word has_top_sadness_word has_top_fear_word has_top_joy_word  \n",
      "0                  0                    0                 0                0  \n",
      "\n",
      "  document  n_tokens  n_i  sentiment has_top_surprise_word has_top_love_word  \\\n",
      "0  i unhap         2    1        0.0                     0                 0   \n",
      "\n",
      "  has_top_anger_word has_top_sadness_word has_top_fear_word has_top_joy_word  \n",
      "0                  0                    0                 0                0  \n",
      "I'mI'\n",
      "\n",
      "I\n",
      "\n",
      "Generating features\n",
      "Generating features\n",
      "Generating features\n",
      "Generating features\n",
      "  document  n_tokens  n_i  sentiment has_top_surprise_word has_top_love_word  \\\n",
      "0        i         1    0        0.0                     0                 0   \n",
      "\n",
      "  has_top_anger_word has_top_sadness_word has_top_fear_word has_top_joy_word  \n",
      "0                  0                    0                 0                0  \n",
      "  document  n_tokens  n_i  sentiment has_top_surprise_word has_top_love_word  \\\n",
      "0                  0    0        0.0                     0                 0   \n",
      "\n",
      "  has_top_anger_word has_top_sadness_word has_top_fear_word has_top_joy_word  \n",
      "0                  0                    0                 0                0    document  n_tokens  n_i  sentiment has_top_surprise_word has_top_love_word  \\\n",
      "0        i         1    0        0.0                     0                 0   \n",
      "\n",
      "  has_top_anger_word has_top_sadness_word has_top_fear_word has_top_joy_word  \n",
      "0                  0                    0                 0                0  \n",
      "\n",
      "  document  n_tokens  n_i  sentiment has_top_surprise_word has_top_love_word  \\\n",
      "0        i         1    0        0.0                     0                 0   \n",
      "\n",
      "  has_top_anger_word has_top_sadness_word has_top_fear_word has_top_joy_word  \n",
      "0                  0                    0                 0                0  "
     ]
    },
    {
     "name": "stderr",
     "output_type": "stream",
     "text": [
      "C:\\Anaconda3\\lib\\site-packages\\sklearn\\compose\\_column_transformer.py:437: FutureWarning:\n",
      "\n",
      "Given feature/column names or counts do not match the ones for the data given during fit. This will fail from v0.24.\n",
      "\n",
      "C:\\Anaconda3\\lib\\site-packages\\sklearn\\compose\\_column_transformer.py:437: FutureWarning:\n",
      "\n",
      "Given feature/column names or counts do not match the ones for the data given during fit. This will fail from v0.24.\n",
      "\n",
      "C:\\Anaconda3\\lib\\site-packages\\sklearn\\compose\\_column_transformer.py:437: FutureWarning:\n",
      "\n",
      "Given feature/column names or counts do not match the ones for the data given during fit. This will fail from v0.24.\n",
      "\n",
      "C:\\Anaconda3\\lib\\site-packages\\sklearn\\compose\\_column_transformer.py:437: FutureWarning:\n",
      "\n",
      "Given feature/column names or counts do not match the ones for the data given during fit. This will fail from v0.24.\n",
      "\n",
      "127.0.0.1 - - [23/May/2022 21:19:36] \"\u001b[37mPOST /_dash-update-component HTTP/1.1\u001b[0m\" 200 -\n",
      "127.0.0.1 - - [23/May/2022 21:19:36] \"\u001b[37mPOST /_dash-update-component HTTP/1.1\u001b[0m\" 200 -\n",
      "127.0.0.1 - - [23/May/2022 21:19:36] \"\u001b[37mPOST /_dash-update-component HTTP/1.1\u001b[0m\" 200 -\n",
      "127.0.0.1 - - [23/May/2022 21:19:36] \"\u001b[37mPOST /_dash-update-component HTTP/1.1\u001b[0m\" 200 -\n"
     ]
    },
    {
     "name": "stdout",
     "output_type": "stream",
     "text": [
      "\n"
     ]
    },
    {
     "name": "stderr",
     "output_type": "stream",
     "text": [
      "C:\\Anaconda3\\lib\\site-packages\\sklearn\\compose\\_column_transformer.py:437: FutureWarning:\n",
      "\n",
      "Given feature/column names or counts do not match the ones for the data given during fit. This will fail from v0.24.\n",
      "\n",
      "127.0.0.1 - - [23/May/2022 21:19:37] \"\u001b[37mPOST /_dash-update-component HTTP/1.1\u001b[0m\" 200 -\n"
     ]
    },
    {
     "name": "stdout",
     "output_type": "stream",
     "text": [
      "t\n",
      "Generating features\n",
      "  document  n_tokens  n_i  sentiment has_top_surprise_word has_top_love_word  \\\n",
      "0                  0    0        0.0                     0                 0   \n",
      "\n",
      "  has_top_anger_word has_top_sadness_word has_top_fear_word has_top_joy_word  \n",
      "0                  0                    0                 0                0  \n",
      "th\n",
      "thi\n",
      "Generating features\n",
      "this\n"
     ]
    },
    {
     "name": "stderr",
     "output_type": "stream",
     "text": [
      "C:\\Anaconda3\\lib\\site-packages\\sklearn\\compose\\_column_transformer.py:437: FutureWarning:\n",
      "\n",
      "Given feature/column names or counts do not match the ones for the data given during fit. This will fail from v0.24.\n",
      "\n",
      "C:\\Anaconda3\\lib\\site-packages\\sklearn\\compose\\_column_transformer.py:437: FutureWarning:\n",
      "\n",
      "Given feature/column names or counts do not match the ones for the data given during fit. This will fail from v0.24.\n",
      "\n",
      "C:\\Anaconda3\\lib\\site-packages\\sklearn\\compose\\_column_transformer.py:437: FutureWarning:\n",
      "\n",
      "Given feature/column names or counts do not match the ones for the data given during fit. This will fail from v0.24.\n",
      "\n",
      "127.0.0.1 - - [23/May/2022 21:19:37] \"\u001b[37mPOST /_dash-update-component HTTP/1.1\u001b[0m\" 200 -\n",
      "C:\\Anaconda3\\lib\\site-packages\\sklearn\\compose\\_column_transformer.py:437: FutureWarning:\n",
      "\n",
      "Given feature/column names or counts do not match the ones for the data given during fit. This will fail from v0.24.\n",
      "\n",
      "127.0.0.1 - - [23/May/2022 21:19:37] \"\u001b[37mPOST /_dash-update-component HTTP/1.1\u001b[0m\" 200 -\n"
     ]
    },
    {
     "name": "stdout",
     "output_type": "stream",
     "text": [
      "Generating features\n",
      "this \n",
      "Generating features\n",
      "  document  n_tokens  n_i  sentiment has_top_surprise_word has_top_love_word  \\\n",
      "0       th         1    0        0.0                     0                 0   \n",
      "\n",
      "  has_top_anger_word has_top_sadness_word has_top_fear_word has_top_joy_word  \n",
      "0                  0                    0                 0                0  \n",
      "  document  n_tokens  n_i  sentiment has_top_surprise_word has_top_love_word  \\\n",
      "0      thi         1    0        0.0                     0                 0   \n",
      "\n",
      "  has_top_anger_word has_top_sadness_word has_top_fear_word has_top_joy_word  \n",
      "0                  0                    0                 0                0  \n",
      "  document  n_tokens  n_i  sentiment has_top_surprise_word has_top_love_word  \\\n",
      "0                  0    0        0.0                     0                 0   \n",
      "\n",
      "  has_top_anger_word has_top_sadness_word has_top_fear_word has_top_joy_word  \n",
      "0                  0                    0                 0                0  \n",
      "Generating features\n",
      "  document  n_tokens  n_i  sentiment has_top_surprise_word has_top_love_word  \\\n",
      "0                  0    0        0.0                     0                 0   \n",
      "\n",
      "  has_top_anger_word has_top_sadness_word has_top_fear_word has_top_joy_word  \n",
      "0                  0                    0                 0                0  \n",
      "this s\n"
     ]
    },
    {
     "name": "stderr",
     "output_type": "stream",
     "text": [
      "127.0.0.1 - - [23/May/2022 21:19:37] \"\u001b[37mPOST /_dash-update-component HTTP/1.1\u001b[0m\" 200 -\n",
      "127.0.0.1 - - [23/May/2022 21:19:37] \"\u001b[37mPOST /_dash-update-component HTTP/1.1\u001b[0m\" 200 -\n",
      "C:\\Anaconda3\\lib\\site-packages\\sklearn\\compose\\_column_transformer.py:437: FutureWarning:\n",
      "\n",
      "Given feature/column names or counts do not match the ones for the data given during fit. This will fail from v0.24.\n",
      "\n",
      "C:\\Anaconda3\\lib\\site-packages\\sklearn\\compose\\_column_transformer.py:437: FutureWarning:\n",
      "\n",
      "Given feature/column names or counts do not match the ones for the data given during fit. This will fail from v0.24.\n",
      "\n",
      "127.0.0.1 - - [23/May/2022 21:19:38] \"\u001b[37mPOST /_dash-update-component HTTP/1.1\u001b[0m\" 200 -\n",
      "127.0.0.1 - - [23/May/2022 21:19:38] \"\u001b[37mPOST /_dash-update-component HTTP/1.1\u001b[0m\" 200 -\n"
     ]
    },
    {
     "name": "stdout",
     "output_type": "stream",
     "text": [
      "Generating features\n",
      "this su\n",
      "  document  n_tokens  n_i  sentiment has_top_surprise_word has_top_love_word  \\\n",
      "0                  0    0        0.0                     0                 0   \n",
      "\n",
      "  has_top_anger_word has_top_sadness_word has_top_fear_word has_top_joy_word  \n",
      "0                  0                    0                 0                0  \n",
      "Generating features\n",
      "  document  n_tokens  n_i  sentiment has_top_surprise_word has_top_love_word  \\\n",
      "0       su         1    0        0.0                     0                 0   \n",
      "\n",
      "  has_top_anger_word has_top_sadness_word has_top_fear_word has_top_joy_word  \n",
      "0                  0                    0                 0                0  \n",
      "this suc"
     ]
    },
    {
     "name": "stderr",
     "output_type": "stream",
     "text": [
      "C:\\Anaconda3\\lib\\site-packages\\sklearn\\compose\\_column_transformer.py:437: FutureWarning:\n",
      "\n",
      "Given feature/column names or counts do not match the ones for the data given during fit. This will fail from v0.24.\n",
      "\n",
      "127.0.0.1 - - [23/May/2022 21:19:38] \"\u001b[37mPOST /_dash-update-component HTTP/1.1\u001b[0m\" 200 -\n"
     ]
    },
    {
     "name": "stdout",
     "output_type": "stream",
     "text": [
      "\n",
      "Generating features\n",
      "  document  n_tokens  n_i  sentiment has_top_surprise_word has_top_love_word  \\\n",
      "0      suc         1    0        0.0                     0                 0   \n",
      "\n",
      "  has_top_anger_word has_top_sadness_word has_top_fear_word has_top_joy_word  \n",
      "0                  0                    0                 0                0  \n",
      "this suck\n",
      "Generating features\n",
      "  document  n_tokens  n_i  sentiment has_top_surprise_word has_top_love_word  \\\n",
      "0     suck         1    0        0.0                     0                 0   \n",
      "\n",
      "  has_top_anger_word has_top_sadness_word has_top_fear_word has_top_joy_word  \n",
      "0                  0                    0                 0                0  this sucks\n",
      "\n"
     ]
    },
    {
     "name": "stderr",
     "output_type": "stream",
     "text": [
      "C:\\Anaconda3\\lib\\site-packages\\sklearn\\compose\\_column_transformer.py:437: FutureWarning:\n",
      "\n",
      "Given feature/column names or counts do not match the ones for the data given during fit. This will fail from v0.24.\n",
      "\n",
      "127.0.0.1 - - [23/May/2022 21:19:38] \"\u001b[37mPOST /_dash-update-component HTTP/1.1\u001b[0m\" 200 -\n",
      "C:\\Anaconda3\\lib\\site-packages\\sklearn\\compose\\_column_transformer.py:437: FutureWarning:\n",
      "\n",
      "Given feature/column names or counts do not match the ones for the data given during fit. This will fail from v0.24.\n",
      "\n",
      "127.0.0.1 - - [23/May/2022 21:19:38] \"\u001b[37mPOST /_dash-update-component HTTP/1.1\u001b[0m\" 200 -\n"
     ]
    },
    {
     "name": "stdout",
     "output_type": "stream",
     "text": [
      "Generating features\n",
      "  document  n_tokens  n_i  sentiment has_top_surprise_word has_top_love_word  \\\n",
      "0     suck         1    0        0.0                     0                 0   \n",
      "\n",
      "  has_top_anger_word has_top_sadness_word has_top_fear_word has_top_joy_word  \n",
      "0                  0                    0                 0                0  \n"
     ]
    },
    {
     "name": "stderr",
     "output_type": "stream",
     "text": [
      "C:\\Anaconda3\\lib\\site-packages\\sklearn\\compose\\_column_transformer.py:437: FutureWarning:\n",
      "\n",
      "Given feature/column names or counts do not match the ones for the data given during fit. This will fail from v0.24.\n",
      "\n",
      "127.0.0.1 - - [23/May/2022 21:19:40] \"\u001b[37mPOST /_dash-update-component HTTP/1.1\u001b[0m\" 200 -\n",
      "C:\\Anaconda3\\lib\\site-packages\\sklearn\\compose\\_column_transformer.py:437: FutureWarning:\n",
      "\n",
      "Given feature/column names or counts do not match the ones for the data given during fit. This will fail from v0.24.\n",
      "\n",
      "127.0.0.1 - - [23/May/2022 21:19:40] \"\u001b[37mPOST /_dash-update-component HTTP/1.1\u001b[0m\" 200 -\n"
     ]
    },
    {
     "name": "stdout",
     "output_type": "stream",
     "text": [
      "this sucks \n",
      "Generating features\n",
      "  document  n_tokens  n_i  sentiment has_top_surprise_word has_top_love_word  \\\n",
      "0     suck         1    0        0.0                     0                 0   \n",
      "\n",
      "  has_top_anger_word has_top_sadness_word has_top_fear_word has_top_joy_word  \n",
      "0                  0                    0                 0                0  \n",
      "this sucks a\n",
      "Generating features\n",
      "  document  n_tokens  n_i  sentiment has_top_surprise_word has_top_love_word  \\\n",
      "0     suck         1    0        0.0                     0                 0   \n",
      "\n",
      "  has_top_anger_word has_top_sadness_word has_top_fear_word has_top_joy_word  \n",
      "0                  0                    0                 0                0  \n",
      "this sucks a \n",
      "Generating features"
     ]
    },
    {
     "name": "stderr",
     "output_type": "stream",
     "text": [
      "C:\\Anaconda3\\lib\\site-packages\\sklearn\\compose\\_column_transformer.py:437: FutureWarning:\n",
      "\n",
      "Given feature/column names or counts do not match the ones for the data given during fit. This will fail from v0.24.\n",
      "\n",
      "127.0.0.1 - - [23/May/2022 21:19:40] \"\u001b[37mPOST /_dash-update-component HTTP/1.1\u001b[0m\" 200 -\n",
      "C:\\Anaconda3\\lib\\site-packages\\sklearn\\compose\\_column_transformer.py:437: FutureWarning:\n",
      "\n",
      "Given feature/column names or counts do not match the ones for the data given during fit. This will fail from v0.24.\n",
      "\n",
      "127.0.0.1 - - [23/May/2022 21:19:40] \"\u001b[37mPOST /_dash-update-component HTTP/1.1\u001b[0m\" 200 -\n"
     ]
    },
    {
     "name": "stdout",
     "output_type": "stream",
     "text": [
      "\n",
      "  document  n_tokens  n_i  sentiment has_top_surprise_word has_top_love_word  \\\n",
      "0     suck         1    0        0.0                     0                 0   \n",
      "\n",
      "  has_top_anger_word has_top_sadness_word has_top_fear_word has_top_joy_word  \n",
      "0                  0                    0                 0                0  \n",
      "this sucks a l\n",
      "Generating features\n",
      "  document  n_tokens  n_i  sentiment has_top_surprise_word has_top_love_word  \\\n",
      "0   suck l         2    0        0.0                     0                 0   \n",
      "\n",
      "  has_top_anger_word has_top_sadness_word has_top_fear_word has_top_joy_word  \n",
      "0                  0                    0                 0                0  \n"
     ]
    },
    {
     "name": "stderr",
     "output_type": "stream",
     "text": [
      "C:\\Anaconda3\\lib\\site-packages\\sklearn\\compose\\_column_transformer.py:437: FutureWarning:\n",
      "\n",
      "Given feature/column names or counts do not match the ones for the data given during fit. This will fail from v0.24.\n",
      "\n",
      "127.0.0.1 - - [23/May/2022 21:19:40] \"\u001b[37mPOST /_dash-update-component HTTP/1.1\u001b[0m\" 200 -\n",
      "C:\\Anaconda3\\lib\\site-packages\\sklearn\\compose\\_column_transformer.py:437: FutureWarning:\n",
      "\n",
      "Given feature/column names or counts do not match the ones for the data given during fit. This will fail from v0.24.\n",
      "\n",
      "127.0.0.1 - - [23/May/2022 21:19:40] \"\u001b[37mPOST /_dash-update-component HTTP/1.1\u001b[0m\" 200 -\n"
     ]
    },
    {
     "name": "stdout",
     "output_type": "stream",
     "text": [
      "this sucks a lo\n",
      "Generating features\n",
      "this sucks a lot\n",
      "  document  n_tokens  n_i  sentiment has_top_surprise_word has_top_love_word  \\\n",
      "0  suck lo         2    0        0.0                     0                 0   \n",
      "\n",
      "  has_top_anger_word has_top_sadness_word has_top_fear_word has_top_joy_word  \n",
      "0                  0                    0                 0                0  \n",
      "Generating features\n",
      "   document  n_tokens  n_i  sentiment has_top_surprise_word has_top_love_word  \\\n",
      "0  suck lot         2    0        0.0                     0                 0   \n",
      "\n",
      "  has_top_anger_word has_top_sadness_word has_top_fear_word has_top_joy_word  \n",
      "0                  0                    0                 0                0  \n"
     ]
    },
    {
     "name": "stderr",
     "output_type": "stream",
     "text": [
      "C:\\Anaconda3\\lib\\site-packages\\sklearn\\compose\\_column_transformer.py:437: FutureWarning:\n",
      "\n",
      "Given feature/column names or counts do not match the ones for the data given during fit. This will fail from v0.24.\n",
      "\n",
      "127.0.0.1 - - [23/May/2022 21:19:42] \"\u001b[37mPOST /_dash-update-component HTTP/1.1\u001b[0m\" 200 -\n"
     ]
    },
    {
     "name": "stdout",
     "output_type": "stream",
     "text": [
      "this sucks a lo\n",
      "Generating features\n",
      "  document  n_tokens  n_i  sentiment has_top_surprise_word has_top_love_word  \\\n",
      "0  suck lo         2    0        0.0                     0                 0   \n",
      "\n",
      "  has_top_anger_word has_top_sadness_word has_top_fear_word has_top_joy_word  \n",
      "0                  0                    0                 0                0  \n",
      "this sucks a l\n",
      "this sucks a \n",
      "this sucks a\n",
      "this sucks \n",
      "this sucks"
     ]
    },
    {
     "name": "stderr",
     "output_type": "stream",
     "text": [
      "C:\\Anaconda3\\lib\\site-packages\\sklearn\\compose\\_column_transformer.py:437: FutureWarning:\n",
      "\n",
      "Given feature/column names or counts do not match the ones for the data given during fit. This will fail from v0.24.\n",
      "\n",
      "C:\\Anaconda3\\lib\\site-packages\\sklearn\\compose\\_column_transformer.py:437: FutureWarning:\n",
      "\n",
      "Given feature/column names or counts do not match the ones for the data given during fit. This will fail from v0.24.\n",
      "\n",
      "C:\\Anaconda3\\lib\\site-packages\\sklearn\\compose\\_column_transformer.py:437: FutureWarning:\n",
      "\n",
      "Given feature/column names or counts do not match the ones for the data given during fit. This will fail from v0.24.\n",
      "\n",
      "C:\\Anaconda3\\lib\\site-packages\\sklearn\\compose\\_column_transformer.py:437: FutureWarning:\n",
      "\n",
      "Given feature/column names or counts do not match the ones for the data given during fit. This will fail from v0.24.\n",
      "\n",
      "C:\\Anaconda3\\lib\\site-packages\\sklearn\\compose\\_column_transformer.py:437: FutureWarning:\n",
      "\n",
      "Given feature/column names or counts do not match the ones for the data given during fit. This will fail from v0.24.\n",
      "\n",
      "127.0.0.1 - - [23/May/2022 21:19:43] \"\u001b[37mPOST /_dash-update-component HTTP/1.1\u001b[0m\" 200 -\n"
     ]
    },
    {
     "name": "stdout",
     "output_type": "stream",
     "text": [
      "\n",
      "Generating featuresthis suck\n",
      "Generating features\n",
      "\n",
      "Generating featuresGenerating features\n",
      "\n",
      "  document  n_tokens  n_i  sentiment has_top_surprise_word has_top_love_word  \\\n",
      "0   suck l         2    0        0.0                     0                 0   \n",
      "\n",
      "  has_top_anger_word has_top_sadness_word has_top_fear_word has_top_joy_word  \n",
      "0                  0                    0                 0                0  \n",
      "Generating features\n",
      "Generating features\n",
      "  document  n_tokens  n_i  sentiment has_top_surprise_word has_top_love_word  \\\n",
      "0     suck         1    0        0.0                     0                 0   \n",
      "\n",
      "  has_top_anger_word has_top_sadness_word has_top_fear_word has_top_joy_word  \n",
      "0                  0                    0                 0                0  \n",
      "  document  n_tokens  n_i  sentiment has_top_surprise_word has_top_love_word  \\\n",
      "0     suck         1    0        0.0                     0                 0   \n",
      "\n",
      "  has_top_anger_word has_top_sadness_word has_top_fear_word has_top_joy_word  \n",
      "0                  0                    0                 0                0  \n",
      "  document  n_tokens  n_i  sentiment has_top_surprise_word has_top_love_word  \\\n",
      "0     suck         1    0        0.0                     0                 0   \n",
      "\n",
      "  has_top_anger_word has_top_sadness_word has_top_fear_word has_top_joy_word  \n",
      "0                  0                    0                 0                0  \n",
      "  document  n_tokens  n_i  sentiment has_top_surprise_word has_top_love_word  \\\n",
      "0     suck         1    0        0.0                     0                 0   \n",
      "\n",
      "  has_top_anger_word has_top_sadness_word has_top_fear_word has_top_joy_word  \n",
      "0                  0                    0                 0                0  \n",
      "  document  n_tokens  n_i  sentiment has_top_surprise_word has_top_love_word  \\\n",
      "0     suck         1    0        0.0                     0                 0   \n",
      "\n",
      "  has_top_anger_word has_top_sadness_word has_top_fear_word has_top_joy_word  \n",
      "0                  0                    0                 0                0  \n"
     ]
    },
    {
     "name": "stderr",
     "output_type": "stream",
     "text": [
      "127.0.0.1 - - [23/May/2022 21:19:43] \"\u001b[37mPOST /_dash-update-component HTTP/1.1\u001b[0m\" 200 -\n",
      "127.0.0.1 - - [23/May/2022 21:19:43] \"\u001b[37mPOST /_dash-update-component HTTP/1.1\u001b[0m\" 200 -\n",
      "127.0.0.1 - - [23/May/2022 21:19:43] \"\u001b[37mPOST /_dash-update-component HTTP/1.1\u001b[0m\" 200 -\n",
      "127.0.0.1 - - [23/May/2022 21:19:43] \"\u001b[37mPOST /_dash-update-component HTTP/1.1\u001b[0m\" 200 -\n",
      "127.0.0.1 - - [23/May/2022 21:19:43] \"\u001b[37mPOST /_dash-update-component HTTP/1.1\u001b[0m\" 200 -\n"
     ]
    },
    {
     "name": "stdout",
     "output_type": "stream",
     "text": [
      "this this sucthisthis s\n",
      "\n",
      "this su\n",
      "\n",
      "\n",
      "thi\n",
      "Generating features\n",
      "Generating features\n",
      "Generating featuresGenerating features\n",
      "\n",
      "Generating features\n",
      "Generating features\n"
     ]
    },
    {
     "name": "stderr",
     "output_type": "stream",
     "text": [
      "C:\\Anaconda3\\lib\\site-packages\\sklearn\\compose\\_column_transformer.py:437: FutureWarning:\n",
      "\n",
      "Given feature/column names or counts do not match the ones for the data given during fit. This will fail from v0.24.\n",
      "\n",
      "C:\\Anaconda3\\lib\\site-packages\\sklearn\\compose\\_column_transformer.py:437: FutureWarning:\n",
      "\n",
      "Given feature/column names or counts do not match the ones for the data given during fit. This will fail from v0.24.\n",
      "\n",
      "C:\\Anaconda3\\lib\\site-packages\\sklearn\\compose\\_column_transformer.py:437: FutureWarning:\n",
      "\n",
      "Given feature/column names or counts do not match the ones for the data given during fit. This will fail from v0.24.\n",
      "\n",
      "C:\\Anaconda3\\lib\\site-packages\\sklearn\\compose\\_column_transformer.py:437: FutureWarning:\n",
      "\n",
      "Given feature/column names or counts do not match the ones for the data given during fit. This will fail from v0.24.\n",
      "\n",
      "C:\\Anaconda3\\lib\\site-packages\\sklearn\\compose\\_column_transformer.py:437: FutureWarning:\n",
      "\n",
      "Given feature/column names or counts do not match the ones for the data given during fit. This will fail from v0.24.\n",
      "\n",
      "127.0.0.1 - - [23/May/2022 21:19:43] \"\u001b[37mPOST /_dash-update-component HTTP/1.1\u001b[0m\" 200 -\n",
      "127.0.0.1 - - [23/May/2022 21:19:43] \"\u001b[37mPOST /_dash-update-component HTTP/1.1\u001b[0m\" 200 -\n",
      "127.0.0.1 - - [23/May/2022 21:19:43] \"\u001b[37mPOST /_dash-update-component HTTP/1.1\u001b[0m\" 200 -\n",
      "127.0.0.1 - - [23/May/2022 21:19:43] \"\u001b[37mPOST /_dash-update-component HTTP/1.1\u001b[0m\" 200 -\n",
      "127.0.0.1 - - [23/May/2022 21:19:43] \"\u001b[37mPOST /_dash-update-component HTTP/1.1\u001b[0m\" 200 -\n",
      "127.0.0.1 - - [23/May/2022 21:19:43] \"\u001b[37mPOST /_dash-update-component HTTP/1.1\u001b[0m\" 200 -\n"
     ]
    },
    {
     "name": "stdout",
     "output_type": "stream",
     "text": [
      "  document  n_tokens  n_i  sentiment has_top_surprise_word has_top_love_word  \\\n",
      "0      suc         1    0        0.0                     0                 0   \n",
      "\n",
      "  has_top_anger_word has_top_sadness_word has_top_fear_word has_top_joy_word  \n",
      "0                  0                    0                 0                0  \n",
      "  document  n_tokens  n_i  sentiment has_top_surprise_word has_top_love_word  \\\n",
      "0                  0    0        0.0                     0                 0   \n",
      "\n",
      "  has_top_anger_word has_top_sadness_word has_top_fear_word has_top_joy_word  \n",
      "0                  0                    0                 0                0  \n",
      "  document  n_tokens  n_i  sentiment has_top_surprise_word has_top_love_word  \\\n",
      "0                  0    0        0.0                     0                 0   \n",
      "\n",
      "  has_top_anger_word has_top_sadness_word has_top_fear_word has_top_joy_word  \n",
      "0                  0                    0                 0                0  \n",
      "  document  n_tokens  n_i  sentiment has_top_surprise_word has_top_love_word  \\\n",
      "0      thi         1    0        0.0                     0                 0   \n",
      "\n",
      "  has_top_anger_word has_top_sadness_word has_top_fear_word has_top_joy_word  \n",
      "0                  0                    0                 0                0  \n",
      "  document  n_tokens  n_i  sentiment has_top_surprise_word has_top_love_word  \\\n",
      "0                  0    0        0.0                     0                 0   \n",
      "\n",
      "  has_top_anger_word has_top_sadness_word has_top_fear_word has_top_joy_word  \n",
      "0                  0                    0                 0                0  \n",
      "  document  n_tokens  n_i  sentiment has_top_surprise_word has_top_love_word  \\\n",
      "0       su         1    0        0.0                     0                 0   \n",
      "\n",
      "  has_top_anger_word has_top_sadness_word has_top_fear_word has_top_joy_word  \n",
      "0                  0                    0                 0                0  \n",
      "th\n",
      "t\n"
     ]
    },
    {
     "name": "stderr",
     "output_type": "stream",
     "text": [
      "C:\\Anaconda3\\lib\\site-packages\\sklearn\\compose\\_column_transformer.py:437: FutureWarning:\n",
      "\n",
      "Given feature/column names or counts do not match the ones for the data given during fit. This will fail from v0.24.\n",
      "\n",
      "C:\\Anaconda3\\lib\\site-packages\\sklearn\\compose\\_column_transformer.py:437: FutureWarning:\n",
      "\n",
      "Given feature/column names or counts do not match the ones for the data given during fit. This will fail from v0.24.\n",
      "\n",
      "C:\\Anaconda3\\lib\\site-packages\\sklearn\\compose\\_column_transformer.py:437: FutureWarning:\n",
      "\n",
      "Given feature/column names or counts do not match the ones for the data given during fit. This will fail from v0.24.\n",
      "\n",
      "127.0.0.1 - - [23/May/2022 21:19:43] \"\u001b[37mPOST /_dash-update-component HTTP/1.1\u001b[0m\" 200 -\n",
      "127.0.0.1 - - [23/May/2022 21:19:43] \"\u001b[37mPOST /_dash-update-component HTTP/1.1\u001b[0m\" 200 -\n",
      "127.0.0.1 - - [23/May/2022 21:19:43] \"\u001b[37mPOST /_dash-update-component HTTP/1.1\u001b[0m\" 200 -\n"
     ]
    },
    {
     "name": "stdout",
     "output_type": "stream",
     "text": [
      "\n",
      "Generating features\n",
      "Generating features\n",
      "Generating features\n",
      "  document  n_tokens  n_i  sentiment has_top_surprise_word has_top_love_word  \\\n",
      "0                  0    0        0.0                     0                 0   \n",
      "\n",
      "  has_top_anger_word has_top_sadness_word has_top_fear_word has_top_joy_word  \n",
      "0                  0                    0                 0                0  \n",
      "  document  n_tokens  n_i  sentiment has_top_surprise_word has_top_love_word  \\\n",
      "0       th         1    0        0.0                     0                 0   \n",
      "\n",
      "  has_top_anger_word has_top_sadness_word has_top_fear_word has_top_joy_word  \n",
      "0                  0                    0                 0                0  \n",
      "  document  n_tokens  n_i  sentiment has_top_surprise_word has_top_love_word  \\\n",
      "0                  0    0        0.0                     0                 0   \n",
      "\n",
      "  has_top_anger_word has_top_sadness_word has_top_fear_word has_top_joy_word  \n",
      "0                  0                    0                 0                0  \n"
     ]
    },
    {
     "name": "stderr",
     "output_type": "stream",
     "text": [
      "C:\\Anaconda3\\lib\\site-packages\\sklearn\\compose\\_column_transformer.py:437: FutureWarning:\n",
      "\n",
      "Given feature/column names or counts do not match the ones for the data given during fit. This will fail from v0.24.\n",
      "\n",
      "127.0.0.1 - - [23/May/2022 21:21:52] \"\u001b[37mPOST /_dash-update-component HTTP/1.1\u001b[0m\" 200 -\n"
     ]
    },
    {
     "name": "stdout",
     "output_type": "stream",
     "text": [
      "I\n",
      "Generating features\n",
      "  document  n_tokens  n_i  sentiment has_top_surprise_word has_top_love_word  \\\n",
      "0        i         1    0        0.0                     0                 0   \n",
      "\n",
      "  has_top_anger_word has_top_sadness_word has_top_fear_word has_top_joy_word  \n",
      "0                  0                    0                 0                0  \n"
     ]
    },
    {
     "name": "stderr",
     "output_type": "stream",
     "text": [
      "C:\\Anaconda3\\lib\\site-packages\\sklearn\\compose\\_column_transformer.py:437: FutureWarning:\n",
      "\n",
      "Given feature/column names or counts do not match the ones for the data given during fit. This will fail from v0.24.\n",
      "\n",
      "127.0.0.1 - - [23/May/2022 21:21:52] \"\u001b[37mPOST /_dash-update-component HTTP/1.1\u001b[0m\" 200 -\n"
     ]
    },
    {
     "name": "stdout",
     "output_type": "stream",
     "text": [
      "I \n",
      "Generating features\n",
      "  document  n_tokens  n_i  sentiment has_top_surprise_word has_top_love_word  \\\n",
      "0        i         1    0        0.0                     0                 0   \n",
      "\n",
      "  has_top_anger_word has_top_sadness_word has_top_fear_word has_top_joy_word  \n",
      "0                  0                    0                 0                0  \n"
     ]
    },
    {
     "name": "stderr",
     "output_type": "stream",
     "text": [
      "C:\\Anaconda3\\lib\\site-packages\\sklearn\\compose\\_column_transformer.py:437: FutureWarning:\n",
      "\n",
      "Given feature/column names or counts do not match the ones for the data given during fit. This will fail from v0.24.\n",
      "\n",
      "127.0.0.1 - - [23/May/2022 21:21:53] \"\u001b[37mPOST /_dash-update-component HTTP/1.1\u001b[0m\" 200 -\n"
     ]
    },
    {
     "name": "stdout",
     "output_type": "stream",
     "text": [
      "I w\n",
      "Generating features\n",
      "  document  n_tokens  n_i  sentiment has_top_surprise_word has_top_love_word  \\\n",
      "0      i w         2    1        0.0                     0                 0   \n",
      "\n",
      "  has_top_anger_word has_top_sadness_word has_top_fear_word has_top_joy_word  \n",
      "0                  0                    0                 0                0  \n",
      "I wa\n",
      "Generating features"
     ]
    },
    {
     "name": "stderr",
     "output_type": "stream",
     "text": [
      "C:\\Anaconda3\\lib\\site-packages\\sklearn\\compose\\_column_transformer.py:437: FutureWarning:\n",
      "\n",
      "Given feature/column names or counts do not match the ones for the data given during fit. This will fail from v0.24.\n",
      "\n",
      "127.0.0.1 - - [23/May/2022 21:21:53] \"\u001b[37mPOST /_dash-update-component HTTP/1.1\u001b[0m\" 200 -\n",
      "C:\\Anaconda3\\lib\\site-packages\\sklearn\\compose\\_column_transformer.py:437: FutureWarning:\n",
      "\n",
      "Given feature/column names or counts do not match the ones for the data given during fit. This will fail from v0.24.\n",
      "\n",
      "127.0.0.1 - - [23/May/2022 21:21:53] \"\u001b[37mPOST /_dash-update-component HTTP/1.1\u001b[0m\" 200 -\n"
     ]
    },
    {
     "name": "stdout",
     "output_type": "stream",
     "text": [
      "\n",
      "I was  document  n_tokens  n_i  sentiment has_top_surprise_word has_top_love_word  \\\n",
      "0     i wa         2    1        0.0                     0                 0   \n",
      "\n",
      "  has_top_anger_word has_top_sadness_word has_top_fear_word has_top_joy_word  \n",
      "0                  0                    0                 0                0  \n",
      "\n",
      "Generating features\n",
      "  document  n_tokens  n_i  sentiment has_top_surprise_word has_top_love_word  \\\n",
      "0     i wa         2    1        0.0                     0                 0   \n",
      "\n",
      "  has_top_anger_word has_top_sadness_word has_top_fear_word has_top_joy_word  \n",
      "0                  0                    0                 0                0  \n",
      "I was \n",
      "Generating features\n",
      "  document  n_tokens  n_i  sentiment has_top_surprise_word has_top_love_word  \\\n",
      "0     i wa         2    1        0.0                     0                 0   \n",
      "\n",
      "  has_top_anger_word has_top_sadness_word has_top_fear_word has_top_joy_word  \n",
      "0                  0                    0                 0                0  \n"
     ]
    },
    {
     "name": "stderr",
     "output_type": "stream",
     "text": [
      "C:\\Anaconda3\\lib\\site-packages\\sklearn\\compose\\_column_transformer.py:437: FutureWarning:\n",
      "\n",
      "Given feature/column names or counts do not match the ones for the data given during fit. This will fail from v0.24.\n",
      "\n",
      "127.0.0.1 - - [23/May/2022 21:21:53] \"\u001b[37mPOST /_dash-update-component HTTP/1.1\u001b[0m\" 200 -\n",
      "C:\\Anaconda3\\lib\\site-packages\\sklearn\\compose\\_column_transformer.py:437: FutureWarning:\n",
      "\n",
      "Given feature/column names or counts do not match the ones for the data given during fit. This will fail from v0.24.\n",
      "\n",
      "127.0.0.1 - - [23/May/2022 21:21:53] \"\u001b[37mPOST /_dash-update-component HTTP/1.1\u001b[0m\" 200 -\n"
     ]
    },
    {
     "name": "stdout",
     "output_type": "stream",
     "text": [
      "I was a\n",
      "Generating features\n",
      "  document  n_tokens  n_i  sentiment has_top_surprise_word has_top_love_word  \\\n",
      "0     i wa         2    1        0.0                     0                 0   \n",
      "\n",
      "  has_top_anger_word has_top_sadness_word has_top_fear_word has_top_joy_word  \n",
      "0                  0                    0                 0                0  \n"
     ]
    },
    {
     "name": "stderr",
     "output_type": "stream",
     "text": [
      "C:\\Anaconda3\\lib\\site-packages\\sklearn\\compose\\_column_transformer.py:437: FutureWarning:\n",
      "\n",
      "Given feature/column names or counts do not match the ones for the data given during fit. This will fail from v0.24.\n",
      "\n",
      "127.0.0.1 - - [23/May/2022 21:21:54] \"\u001b[37mPOST /_dash-update-component HTTP/1.1\u001b[0m\" 200 -\n"
     ]
    },
    {
     "name": "stdout",
     "output_type": "stream",
     "text": [
      "I was ab\n",
      "Generating features\n",
      "  document  n_tokens  n_i  sentiment has_top_surprise_word has_top_love_word  \\\n",
      "0  i wa ab         3    1        0.0                     0                 0   \n",
      "\n",
      "  has_top_anger_word has_top_sadness_word has_top_fear_word has_top_joy_word  \n",
      "0                  0                    0                 0                0  \n",
      "I was abo\n",
      "Generating features\n",
      "   document  n_tokens  n_i  sentiment has_top_surprise_word has_top_love_word  \\\n",
      "0  i wa abo         3    1        0.0                     0                 0   \n",
      "\n",
      "  has_top_anger_word has_top_sadness_word has_top_fear_word has_top_joy_word  \n",
      "0                  0                    0                 0                0  "
     ]
    },
    {
     "name": "stderr",
     "output_type": "stream",
     "text": [
      "C:\\Anaconda3\\lib\\site-packages\\sklearn\\compose\\_column_transformer.py:437: FutureWarning:\n",
      "\n",
      "Given feature/column names or counts do not match the ones for the data given during fit. This will fail from v0.24.\n",
      "\n",
      "127.0.0.1 - - [23/May/2022 21:21:54] \"\u001b[37mPOST /_dash-update-component HTTP/1.1\u001b[0m\" 200 -\n"
     ]
    },
    {
     "name": "stdout",
     "output_type": "stream",
     "text": [
      "\n"
     ]
    },
    {
     "name": "stderr",
     "output_type": "stream",
     "text": [
      "C:\\Anaconda3\\lib\\site-packages\\sklearn\\compose\\_column_transformer.py:437: FutureWarning:\n",
      "\n",
      "Given feature/column names or counts do not match the ones for the data given during fit. This will fail from v0.24.\n",
      "\n",
      "127.0.0.1 - - [23/May/2022 21:21:54] \"\u001b[37mPOST /_dash-update-component HTTP/1.1\u001b[0m\" 200 -\n"
     ]
    },
    {
     "name": "stdout",
     "output_type": "stream",
     "text": [
      "I was ab\n",
      "Generating features\n",
      "  document  n_tokens  n_i  sentiment has_top_surprise_word has_top_love_word  \\\n",
      "0  i wa ab         3    1        0.0                     0                 0   \n",
      "\n",
      "  has_top_anger_word has_top_sadness_word has_top_fear_word has_top_joy_word  \n",
      "0                  0                    0                 0                0  \n",
      "I was abs\n",
      "Generating features\n",
      "  document  n_tokens  n_i  sentiment has_top_surprise_word has_top_love_word  \\\n",
      "0  i wa ab         3    1        0.0                     0                 0   \n",
      "\n",
      "  has_top_anger_word has_top_sadness_word has_top_fear_word has_top_joy_word  \n",
      "0                  0                    0                 0                0  \n"
     ]
    },
    {
     "name": "stderr",
     "output_type": "stream",
     "text": [
      "C:\\Anaconda3\\lib\\site-packages\\sklearn\\compose\\_column_transformer.py:437: FutureWarning:\n",
      "\n",
      "Given feature/column names or counts do not match the ones for the data given during fit. This will fail from v0.24.\n",
      "\n",
      "127.0.0.1 - - [23/May/2022 21:21:54] \"\u001b[37mPOST /_dash-update-component HTTP/1.1\u001b[0m\" 200 -\n",
      "C:\\Anaconda3\\lib\\site-packages\\sklearn\\compose\\_column_transformer.py:437: FutureWarning:\n",
      "\n",
      "Given feature/column names or counts do not match the ones for the data given during fit. This will fail from v0.24.\n",
      "\n",
      "127.0.0.1 - - [23/May/2022 21:21:55] \"\u001b[37mPOST /_dash-update-component HTTP/1.1\u001b[0m\" 200 -\n"
     ]
    },
    {
     "name": "stdout",
     "output_type": "stream",
     "text": [
      "I was abso\n",
      "Generating features\n",
      "    document  n_tokens  n_i  sentiment has_top_surprise_word  \\\n",
      "0  i wa abso         3    1        0.0                     0   \n",
      "\n",
      "  has_top_love_word has_top_anger_word has_top_sadness_word has_top_fear_word  \\\n",
      "0                 0                  0                    0                 0   \n",
      "\n",
      "  has_top_joy_word  \n",
      "0                0  \n",
      "I was absol\n",
      "I was absolu\n",
      "I was absolut\n",
      "Generating features\n",
      "I was absolute\n",
      "I was absolutel\n",
      "       document  n_tokens  n_i  sentiment has_top_surprise_word  \\\n",
      "0  i wa absolut         3    1        0.0                     0   \n",
      "\n",
      "  has_top_love_word has_top_anger_word has_top_sadness_word has_top_fear_word  \\\n",
      "0                 0                  0                    0                 0   \n",
      "\n",
      "  has_top_joy_word  \n",
      "0                0  \n",
      "I was absolutely\n",
      "Generating features\n",
      "Generating featuresGenerating features\n",
      "\n",
      "Generating features\n",
      "Generating features\n",
      "         document  n_tokens  n_i  sentiment has_top_surprise_word  \\\n",
      "0  i wa absolutel         3    1        0.0                     0   \n",
      "\n",
      "  has_top_love_word has_top_anger_word has_top_sadness_word has_top_fear_word  \\\n",
      "0                 0                  0                    0                 0   \n",
      "\n",
      "  has_top_joy_word  \n",
      "0                0  \n",
      "        document  n_tokens  n_i  sentiment has_top_surprise_word  \\\n",
      "0  i wa absolute         3    1        0.2                     0   \n",
      "\n",
      "  has_top_love_word has_top_anger_word has_top_sadness_word has_top_fear_word  \\\n",
      "0                 0                  0                    0                 0   \n",
      "\n",
      "  has_top_joy_word  \n",
      "0                0  \n",
      "     document  n_tokens  n_i  sentiment has_top_surprise_word  \\\n",
      "0  i wa absol         3    1        0.0                     0   \n",
      "\n",
      "  has_top_love_word has_top_anger_word has_top_sadness_word has_top_fear_word  \\\n",
      "0                 0                  0                    0                 0   \n",
      "\n",
      "  has_top_joy_word  \n",
      "0                0  "
     ]
    },
    {
     "name": "stderr",
     "output_type": "stream",
     "text": [
      "C:\\Anaconda3\\lib\\site-packages\\sklearn\\compose\\_column_transformer.py:437: FutureWarning:\n",
      "\n",
      "Given feature/column names or counts do not match the ones for the data given during fit. This will fail from v0.24.\n",
      "\n",
      "C:\\Anaconda3\\lib\\site-packages\\sklearn\\compose\\_column_transformer.py:437: FutureWarning:\n",
      "\n",
      "Given feature/column names or counts do not match the ones for the data given during fit. This will fail from v0.24.\n",
      "\n",
      "C:\\Anaconda3\\lib\\site-packages\\sklearn\\compose\\_column_transformer.py:437: FutureWarning:\n",
      "\n",
      "Given feature/column names or counts do not match the ones for the data given during fit. This will fail from v0.24.\n",
      "\n",
      "127.0.0.1 - - [23/May/2022 21:21:56] \"\u001b[37mPOST /_dash-update-component HTTP/1.1\u001b[0m\" 200 -\n",
      "C:\\Anaconda3\\lib\\site-packages\\sklearn\\compose\\_column_transformer.py:437: FutureWarning:\n",
      "\n",
      "Given feature/column names or counts do not match the ones for the data given during fit. This will fail from v0.24.\n",
      "\n",
      "127.0.0.1 - - [23/May/2022 21:21:56] \"\u001b[37mPOST /_dash-update-component HTTP/1.1\u001b[0m\" 200 -\n",
      "127.0.0.1 - - [23/May/2022 21:21:56] \"\u001b[37mPOST /_dash-update-component HTTP/1.1\u001b[0m\" 200 -\n",
      "127.0.0.1 - - [23/May/2022 21:21:56] \"\u001b[37mPOST /_dash-update-component HTTP/1.1\u001b[0m\" 200 -\n",
      "127.0.0.1 - - [23/May/2022 21:21:56] \"\u001b[37mPOST /_dash-update-component HTTP/1.1\u001b[0m\" 200 -\n",
      "127.0.0.1 - - [23/May/2022 21:21:56] \"\u001b[37mPOST /_dash-update-component HTTP/1.1\u001b[0m\" 200 -\n"
     ]
    },
    {
     "name": "stdout",
     "output_type": "stream",
     "text": [
      "\n",
      "      document  n_tokens  n_i  sentiment has_top_surprise_word  \\\n",
      "0  i wa absolu         3    1        0.0                     0   \n",
      "\n",
      "  has_top_love_word has_top_anger_word has_top_sadness_word has_top_fear_word  \\\n",
      "0                 0                  0                    0                 0   \n",
      "\n",
      "  has_top_joy_word  \n",
      "0                0  \n",
      "          document  n_tokens  n_i  sentiment has_top_surprise_word  \\\n",
      "0  i wa absolutely         3    1        0.2                     0   \n",
      "\n",
      "  has_top_love_word has_top_anger_word has_top_sadness_word has_top_fear_word  \\\n",
      "0                 0                  0                    0                 0   \n",
      "\n",
      "  has_top_joy_word  \n",
      "0                0  \n",
      "I was absolutely \n",
      "Generating features\n"
     ]
    },
    {
     "name": "stderr",
     "output_type": "stream",
     "text": [
      "C:\\Anaconda3\\lib\\site-packages\\sklearn\\compose\\_column_transformer.py:437: FutureWarning:\n",
      "\n",
      "Given feature/column names or counts do not match the ones for the data given during fit. This will fail from v0.24.\n",
      "\n",
      "127.0.0.1 - - [23/May/2022 21:21:56] \"\u001b[37mPOST /_dash-update-component HTTP/1.1\u001b[0m\" 200 -\n"
     ]
    },
    {
     "name": "stdout",
     "output_type": "stream",
     "text": [
      "          document  n_tokens  n_i  sentiment has_top_surprise_word  \\\n",
      "0  i wa absolutely         3    1        0.2                     0   \n",
      "\n",
      "  has_top_love_word has_top_anger_word has_top_sadness_word has_top_fear_word  \\\n",
      "0                 0                  0                    0                 0   \n",
      "\n",
      "  has_top_joy_word  \n",
      "0                0  \n",
      "I was absolutely shI was absolutely sI was absolutely shoc\n",
      "\n",
      "\n",
      "I was absolutely shoI was absolutely shock\n",
      "\n",
      "I was absolutely shocke\n",
      "Generating features\n",
      "Generating features\n",
      "Generating featuresGenerating featuresGenerating featuresGenerating features\n",
      "\n",
      "\n",
      "\n",
      "              document  n_tokens  n_i  sentiment has_top_surprise_word  \\\n",
      "0  i wa absolutely sho         4    1        0.2                     0   \n",
      "\n",
      "  has_top_love_word has_top_anger_word has_top_sadness_word has_top_fear_word  \\\n",
      "0                 0                  0                    0                 0   \n",
      "\n",
      "  has_top_joy_word  \n",
      "0                0               document  n_tokens  n_i  sentiment has_top_surprise_word  \\\n",
      "0  i wa absolutely sh         4    1        0.2                     0   \n",
      "\n",
      "  has_top_love_word has_top_anger_word has_top_sadness_word has_top_fear_word  \\\n",
      "0                 0                  0                    0                 0   \n",
      "\n",
      "  has_top_joy_word  \n",
      "0                0                 document  n_tokens  n_i  sentiment has_top_surprise_word  \\\n",
      "0  i wa absolutely shoc         4    1        0.2                     0   \n",
      "\n",
      "  has_top_love_word has_top_anger_word has_top_sadness_word has_top_fear_word  \\\n",
      "0                 0                  0                    0                 0   \n",
      "\n",
      "  has_top_joy_word  \n",
      "0                0  \n"
     ]
    },
    {
     "name": "stderr",
     "output_type": "stream",
     "text": [
      "C:\\Anaconda3\\lib\\site-packages\\sklearn\\compose\\_column_transformer.py:437: FutureWarning:\n",
      "\n",
      "Given feature/column names or counts do not match the ones for the data given during fit. This will fail from v0.24.\n",
      "\n",
      "C:\\Anaconda3\\lib\\site-packages\\sklearn\\compose\\_column_transformer.py:437: FutureWarning:\n",
      "\n",
      "Given feature/column names or counts do not match the ones for the data given during fit. This will fail from v0.24.\n",
      "\n",
      "C:\\Anaconda3\\lib\\site-packages\\sklearn\\compose\\_column_transformer.py:437: FutureWarning:\n",
      "\n",
      "Given feature/column names or counts do not match the ones for the data given during fit. This will fail from v0.24.\n",
      "\n",
      "127.0.0.1 - - [23/May/2022 21:21:57] \"\u001b[37mPOST /_dash-update-component HTTP/1.1\u001b[0m\" 200 -\n",
      "127.0.0.1 - - [23/May/2022 21:21:57] \"\u001b[37mPOST /_dash-update-component HTTP/1.1\u001b[0m\" 200 -\n",
      "127.0.0.1 - - [23/May/2022 21:21:57] \"\u001b[37mPOST /_dash-update-component HTTP/1.1\u001b[0m\" 200 -\n",
      "127.0.0.1 - - [23/May/2022 21:21:57] \"\u001b[37mPOST /_dash-update-component HTTP/1.1\u001b[0m\" 200 -\n",
      "127.0.0.1 - - [23/May/2022 21:21:57] \"\u001b[37mPOST /_dash-update-component HTTP/1.1\u001b[0m\" 200 -\n",
      "127.0.0.1 - - [23/May/2022 21:21:57] \"\u001b[37mPOST /_dash-update-component HTTP/1.1\u001b[0m\" 200 -\n"
     ]
    },
    {
     "name": "stdout",
     "output_type": "stream",
     "text": [
      "                document  n_tokens  n_i  sentiment has_top_surprise_word  \\\n",
      "0  i wa absolutely shock         4    1        0.2                     0   \n",
      "\n",
      "  has_top_love_word has_top_anger_word has_top_sadness_word has_top_fear_word  \\\n",
      "0                 0                  0                    0                 0   \n",
      "\n",
      "  has_top_joy_word  \n",
      "0                0  \n",
      "\n",
      "          document  n_tokens  n_i  sentiment has_top_surprise_word  \\\n",
      "0  i wa absolutely         3    1        0.2                     0   \n",
      "\n",
      "  has_top_love_word has_top_anger_word has_top_sadness_word has_top_fear_word  \\\n",
      "0                 0                  0                    0                 0   \n",
      "\n",
      "  has_top_joy_word  \n",
      "0                0  \n",
      "                 document  n_tokens  n_i  sentiment has_top_surprise_word  \\\n",
      "0  i wa absolutely shocke         4    1        0.2                     0   \n",
      "\n",
      "  has_top_love_word has_top_anger_word has_top_sadness_word has_top_fear_word  \\\n",
      "0                 0                  0                    0                 0   \n",
      "\n",
      "  has_top_joy_word  \n",
      "0                0  \n",
      "\n"
     ]
    },
    {
     "name": "stderr",
     "output_type": "stream",
     "text": [
      "C:\\Anaconda3\\lib\\site-packages\\sklearn\\compose\\_column_transformer.py:437: FutureWarning:\n",
      "\n",
      "Given feature/column names or counts do not match the ones for the data given during fit. This will fail from v0.24.\n",
      "\n",
      "127.0.0.1 - - [23/May/2022 21:21:57] \"\u001b[37mPOST /_dash-update-component HTTP/1.1\u001b[0m\" 200 -\n"
     ]
    },
    {
     "name": "stdout",
     "output_type": "stream",
     "text": [
      "I was absolutely shocked\n",
      "Generating features\n",
      "                  document  n_tokens  n_i  sentiment  has_top_surprise_word  \\\n",
      "0  i wa absolutely shocked         4    1       -0.7                      1   \n",
      "\n",
      "  has_top_love_word has_top_anger_word has_top_sadness_word has_top_fear_word  \\\n",
      "0                 0                  0                    0                 0   \n",
      "\n",
      "  has_top_joy_word  \n",
      "0                0  \n"
     ]
    },
    {
     "name": "stderr",
     "output_type": "stream",
     "text": [
      "C:\\Anaconda3\\lib\\site-packages\\sklearn\\compose\\_column_transformer.py:437: FutureWarning:\n",
      "\n",
      "Given feature/column names or counts do not match the ones for the data given during fit. This will fail from v0.24.\n",
      "\n",
      "127.0.0.1 - - [23/May/2022 21:22:40] \"\u001b[37mPOST /_dash-update-component HTTP/1.1\u001b[0m\" 200 -\n"
     ]
    },
    {
     "name": "stdout",
     "output_type": "stream",
     "text": [
      "I\n",
      "Generating features\n",
      "  document  n_tokens  n_i  sentiment has_top_surprise_word has_top_love_word  \\\n",
      "0        i         1    0        0.0                     0                 0   \n",
      "\n",
      "  has_top_anger_word has_top_sadness_word has_top_fear_word has_top_joy_word  \n",
      "0                  0                    0                 0                0  \n"
     ]
    },
    {
     "name": "stderr",
     "output_type": "stream",
     "text": [
      "C:\\Anaconda3\\lib\\site-packages\\sklearn\\compose\\_column_transformer.py:437: FutureWarning:\n",
      "\n",
      "Given feature/column names or counts do not match the ones for the data given during fit. This will fail from v0.24.\n",
      "\n",
      "127.0.0.1 - - [23/May/2022 21:22:41] \"\u001b[37mPOST /_dash-update-component HTTP/1.1\u001b[0m\" 200 -\n"
     ]
    },
    {
     "name": "stdout",
     "output_type": "stream",
     "text": [
      "I \n",
      "Generating features\n",
      "  document  n_tokens  n_i  sentiment has_top_surprise_word has_top_love_word  \\\n",
      "0        i         1    0        0.0                     0                 0   \n",
      "\n",
      "  has_top_anger_word has_top_sadness_word has_top_fear_word has_top_joy_word  \n",
      "0                  0                    0                 0                0  \n"
     ]
    },
    {
     "name": "stderr",
     "output_type": "stream",
     "text": [
      "C:\\Anaconda3\\lib\\site-packages\\sklearn\\compose\\_column_transformer.py:437: FutureWarning:\n",
      "\n",
      "Given feature/column names or counts do not match the ones for the data given during fit. This will fail from v0.24.\n",
      "\n",
      "127.0.0.1 - - [23/May/2022 21:22:46] \"\u001b[37mPOST /_dash-update-component HTTP/1.1\u001b[0m\" 200 -\n",
      "C:\\Anaconda3\\lib\\site-packages\\sklearn\\compose\\_column_transformer.py:437: FutureWarning:\n",
      "\n",
      "Given feature/column names or counts do not match the ones for the data given during fit. This will fail from v0.24.\n",
      "\n",
      "127.0.0.1 - - [23/May/2022 21:22:46] \"\u001b[37mPOST /_dash-update-component HTTP/1.1\u001b[0m\" 200 -\n"
     ]
    },
    {
     "name": "stdout",
     "output_type": "stream",
     "text": [
      "I h\n",
      "Generating features\n",
      "I ha\n",
      "  document  n_tokens  n_i  sentiment has_top_surprise_word has_top_love_word  \\\n",
      "0      i h         2    1        0.0                     0                 0   \n",
      "\n",
      "  has_top_anger_word has_top_sadness_word has_top_fear_word has_top_joy_word  \n",
      "0                  0                    0                 0                0  \n",
      "Generating features\n",
      "  document  n_tokens  n_i  sentiment has_top_surprise_word has_top_love_word  \\\n",
      "0     i ha         2    1        0.0                     0                 0   \n",
      "\n",
      "  has_top_anger_word has_top_sadness_word has_top_fear_word has_top_joy_word  \n",
      "0                  0                    0                 0                0  \n",
      "I had"
     ]
    },
    {
     "name": "stderr",
     "output_type": "stream",
     "text": [
      "C:\\Anaconda3\\lib\\site-packages\\sklearn\\compose\\_column_transformer.py:437: FutureWarning:\n",
      "\n",
      "Given feature/column names or counts do not match the ones for the data given during fit. This will fail from v0.24.\n",
      "\n",
      "127.0.0.1 - - [23/May/2022 21:22:46] \"\u001b[37mPOST /_dash-update-component HTTP/1.1\u001b[0m\" 200 -\n",
      "C:\\Anaconda3\\lib\\site-packages\\sklearn\\compose\\_column_transformer.py:437: FutureWarning:\n",
      "\n",
      "Given feature/column names or counts do not match the ones for the data given during fit. This will fail from v0.24.\n",
      "\n",
      "127.0.0.1 - - [23/May/2022 21:22:46] \"\u001b[37mPOST /_dash-update-component HTTP/1.1\u001b[0m\" 200 -\n"
     ]
    },
    {
     "name": "stdout",
     "output_type": "stream",
     "text": [
      "\n",
      "Generating features\n",
      "  document  n_tokens  n_i  sentiment has_top_surprise_word has_top_love_word  \\\n",
      "0        i         1    0        0.0                     0                 0   \n",
      "\n",
      "  has_top_anger_word has_top_sadness_word has_top_fear_word has_top_joy_word  \n",
      "0                  0                    0                 0                0  \n",
      "I had \n",
      "Generating features\n",
      "  document  n_tokens  n_i  sentiment has_top_surprise_word has_top_love_word  \\\n",
      "0        i         1    0        0.0                     0                 0   \n",
      "\n",
      "  has_top_anger_word has_top_sadness_word has_top_fear_word has_top_joy_word  \n",
      "0                  0                    0                 0                0  \n"
     ]
    },
    {
     "name": "stderr",
     "output_type": "stream",
     "text": [
      "C:\\Anaconda3\\lib\\site-packages\\sklearn\\compose\\_column_transformer.py:437: FutureWarning:\n",
      "\n",
      "Given feature/column names or counts do not match the ones for the data given during fit. This will fail from v0.24.\n",
      "\n",
      "127.0.0.1 - - [23/May/2022 21:22:46] \"\u001b[37mPOST /_dash-update-component HTTP/1.1\u001b[0m\" 200 -\n",
      "C:\\Anaconda3\\lib\\site-packages\\sklearn\\compose\\_column_transformer.py:437: FutureWarning:\n",
      "\n",
      "Given feature/column names or counts do not match the ones for the data given during fit. This will fail from v0.24.\n",
      "\n",
      "127.0.0.1 - - [23/May/2022 21:22:46] \"\u001b[37mPOST /_dash-update-component HTTP/1.1\u001b[0m\" 200 -\n"
     ]
    },
    {
     "name": "stdout",
     "output_type": "stream",
     "text": [
      "I had s\n",
      "Generating features\n",
      "  document  n_tokens  n_i  sentiment has_top_surprise_word has_top_love_word  \\\n",
      "0        i         1    0        0.0                     0                 0   \n",
      "\n",
      "  has_top_anger_word has_top_sadness_word has_top_fear_word has_top_joy_word  \n",
      "0                  0                    0                 0                0  I had su\n",
      "\n",
      "Generating features\n",
      "  document  n_tokens  n_i  sentiment has_top_surprise_word has_top_love_word  \\\n",
      "0     i su         2    1        0.0                     0                 0   \n",
      "\n",
      "  has_top_anger_word has_top_sadness_word has_top_fear_word has_top_joy_word  \n",
      "0                  0                    0                 0                0  \n",
      "I had suc\n",
      "Generating features\n",
      "I had such\n",
      "  document  n_tokens  n_i  sentiment has_top_surprise_word has_top_love_word  \\\n",
      "0    i suc         2    1        0.0                     0                 0   \n",
      "\n",
      "  has_top_anger_word has_top_sadness_word has_top_fear_word has_top_joy_word  \n",
      "0                  0                    0                 0                0  \n",
      "Generating features\n",
      "I had sucha \n"
     ]
    },
    {
     "name": "stderr",
     "output_type": "stream",
     "text": [
      "C:\\Anaconda3\\lib\\site-packages\\sklearn\\compose\\_column_transformer.py:437: FutureWarning:\n",
      "\n",
      "Given feature/column names or counts do not match the ones for the data given during fit. This will fail from v0.24.\n",
      "\n",
      "127.0.0.1 - - [23/May/2022 21:22:47] \"\u001b[37mPOST /_dash-update-component HTTP/1.1\u001b[0m\" 200 -\n",
      "C:\\Anaconda3\\lib\\site-packages\\sklearn\\compose\\_column_transformer.py:437: FutureWarning:\n",
      "\n",
      "Given feature/column names or counts do not match the ones for the data given during fit. This will fail from v0.24.\n",
      "\n",
      "127.0.0.1 - - [23/May/2022 21:22:47] \"\u001b[37mPOST /_dash-update-component HTTP/1.1\u001b[0m\" 200 -\n",
      "C:\\Anaconda3\\lib\\site-packages\\sklearn\\compose\\_column_transformer.py:437: FutureWarning:\n",
      "\n",
      "Given feature/column names or counts do not match the ones for the data given during fit. This will fail from v0.24.\n",
      "\n",
      "C:\\Anaconda3\\lib\\site-packages\\sklearn\\compose\\_column_transformer.py:437: FutureWarning:\n",
      "\n",
      "Given feature/column names or counts do not match the ones for the data given during fit. This will fail from v0.24.\n",
      "\n",
      "127.0.0.1 - - [23/May/2022 21:22:47] \"\u001b[37mPOST /_dash-update-component HTTP/1.1\u001b[0m\" 200 -\n",
      "127.0.0.1 - - [23/May/2022 21:22:47] \"\u001b[37mPOST /_dash-update-component HTTP/1.1\u001b[0m\" 200 -\n"
     ]
    },
    {
     "name": "stdout",
     "output_type": "stream",
     "text": [
      "  document  n_tokens  n_i  sentiment has_top_surprise_word has_top_love_word  \\\n",
      "0        i         1    0        0.0                     0                 0   \n",
      "\n",
      "  has_top_anger_word has_top_sadness_word has_top_fear_word has_top_joy_word  \n",
      "0                  0                    0                 0                0  I had sucha  \n",
      "\n",
      "Generating features\n",
      "Generating features\n",
      "  document  n_tokens  n_i  sentiment has_top_surprise_word has_top_love_word  \\\n",
      "0  i sucha         2    1        0.0                     0                 0   \n",
      "\n",
      "  has_top_anger_word has_top_sadness_word has_top_fear_word has_top_joy_word  \n",
      "0                  0                    0                 0                0  \n",
      "  document  n_tokens  n_i  sentiment has_top_surprise_word has_top_love_word  \\\n",
      "0  i sucha         2    1        0.0                     0                 0   \n",
      "\n",
      "  has_top_anger_word has_top_sadness_word has_top_fear_word has_top_joy_word  \n",
      "0                  0                    0                 0                0  \n"
     ]
    },
    {
     "name": "stderr",
     "output_type": "stream",
     "text": [
      "C:\\Anaconda3\\lib\\site-packages\\sklearn\\compose\\_column_transformer.py:437: FutureWarning:\n",
      "\n",
      "Given feature/column names or counts do not match the ones for the data given during fit. This will fail from v0.24.\n",
      "\n",
      "127.0.0.1 - - [23/May/2022 21:22:47] \"\u001b[37mPOST /_dash-update-component HTTP/1.1\u001b[0m\" 200 -\n"
     ]
    },
    {
     "name": "stdout",
     "output_type": "stream",
     "text": [
      "I had sucha  r\n",
      "Generating features\n",
      "    document  n_tokens  n_i  sentiment has_top_surprise_word  \\\n",
      "0  i sucha r         3    1        0.0                     0   \n",
      "\n",
      "  has_top_love_word has_top_anger_word has_top_sadness_word has_top_fear_word  \\\n",
      "0                 0                  0                    0                 0   \n",
      "\n",
      "  has_top_joy_word  \n",
      "0                0  \n"
     ]
    },
    {
     "name": "stderr",
     "output_type": "stream",
     "text": [
      "C:\\Anaconda3\\lib\\site-packages\\sklearn\\compose\\_column_transformer.py:437: FutureWarning:\n",
      "\n",
      "Given feature/column names or counts do not match the ones for the data given during fit. This will fail from v0.24.\n",
      "\n",
      "127.0.0.1 - - [23/May/2022 21:22:47] \"\u001b[37mPOST /_dash-update-component HTTP/1.1\u001b[0m\" 200 -\n",
      "C:\\Anaconda3\\lib\\site-packages\\sklearn\\compose\\_column_transformer.py:437: FutureWarning:\n",
      "\n",
      "Given feature/column names or counts do not match the ones for the data given during fit. This will fail from v0.24.\n",
      "\n",
      "127.0.0.1 - - [23/May/2022 21:22:47] \"\u001b[37mPOST /_dash-update-component HTTP/1.1\u001b[0m\" 200 -\n"
     ]
    },
    {
     "name": "stdout",
     "output_type": "stream",
     "text": [
      "I had sucha  \n",
      "Generating features\n",
      "  document  n_tokens  n_i  sentiment has_top_surprise_word has_top_love_word  \\\n",
      "0  i sucha         2    1        0.0                     0                 0   \n",
      "\n",
      "  has_top_anger_word has_top_sadness_word has_top_fear_word has_top_joy_word  \n",
      "0                  0                    0                 0                0  \n",
      "I had sucha \n",
      "Generating features\n",
      "  document  n_tokens  n_i  sentiment has_top_surprise_word has_top_love_word  \\\n",
      "0  i sucha         2    1        0.0                     0                 0   \n",
      "\n",
      "  has_top_anger_word has_top_sadness_word has_top_fear_word has_top_joy_word  \n",
      "0                  0                    0                 0                0  \n"
     ]
    },
    {
     "name": "stderr",
     "output_type": "stream",
     "text": [
      "C:\\Anaconda3\\lib\\site-packages\\sklearn\\compose\\_column_transformer.py:437: FutureWarning:\n",
      "\n",
      "Given feature/column names or counts do not match the ones for the data given during fit. This will fail from v0.24.\n",
      "\n",
      "127.0.0.1 - - [23/May/2022 21:22:47] \"\u001b[37mPOST /_dash-update-component HTTP/1.1\u001b[0m\" 200 -\n",
      "C:\\Anaconda3\\lib\\site-packages\\sklearn\\compose\\_column_transformer.py:437: FutureWarning:\n",
      "\n",
      "Given feature/column names or counts do not match the ones for the data given during fit. This will fail from v0.24.\n",
      "\n",
      "127.0.0.1 - - [23/May/2022 21:22:48] \"\u001b[37mPOST /_dash-update-component HTTP/1.1\u001b[0m\" 200 -\n"
     ]
    },
    {
     "name": "stdout",
     "output_type": "stream",
     "text": [
      "I had sucha\n",
      "Generating features\n",
      "  document  n_tokens  n_i  sentiment has_top_surprise_word has_top_love_word  \\\n",
      "0  i sucha         2    1        0.0                     0                 0   \n",
      "\n",
      "  has_top_anger_word has_top_sadness_word has_top_fear_word has_top_joy_word  \n",
      "0                  0                    0                 0                0  \n",
      "I had such\n",
      "Generating features\n",
      "  document  n_tokens  n_i  sentiment has_top_surprise_word has_top_love_word  \\\n",
      "0        i         1    0        0.0                     0                 0   \n",
      "\n",
      "  has_top_anger_word has_top_sadness_word has_top_fear_word has_top_joy_word  \n",
      "0                  0                    0                 0                0  \n"
     ]
    },
    {
     "name": "stderr",
     "output_type": "stream",
     "text": [
      "C:\\Anaconda3\\lib\\site-packages\\sklearn\\compose\\_column_transformer.py:437: FutureWarning:\n",
      "\n",
      "Given feature/column names or counts do not match the ones for the data given during fit. This will fail from v0.24.\n",
      "\n",
      "127.0.0.1 - - [23/May/2022 21:22:48] \"\u001b[37mPOST /_dash-update-component HTTP/1.1\u001b[0m\" 200 -\n"
     ]
    },
    {
     "name": "stdout",
     "output_type": "stream",
     "text": [
      "I had such \n",
      "Generating features\n",
      "  document  n_tokens  n_i  sentiment has_top_surprise_word has_top_love_word  \\\n",
      "0        i         1    0        0.0                     0                 0   \n",
      "\n",
      "  has_top_anger_word has_top_sadness_word has_top_fear_word has_top_joy_word  \n",
      "0                  0                    0                 0                0  \n"
     ]
    },
    {
     "name": "stderr",
     "output_type": "stream",
     "text": [
      "C:\\Anaconda3\\lib\\site-packages\\sklearn\\compose\\_column_transformer.py:437: FutureWarning:\n",
      "\n",
      "Given feature/column names or counts do not match the ones for the data given during fit. This will fail from v0.24.\n",
      "\n",
      "127.0.0.1 - - [23/May/2022 21:22:48] \"\u001b[37mPOST /_dash-update-component HTTP/1.1\u001b[0m\" 200 -\n",
      "C:\\Anaconda3\\lib\\site-packages\\sklearn\\compose\\_column_transformer.py:437: FutureWarning:\n",
      "\n",
      "Given feature/column names or counts do not match the ones for the data given during fit. This will fail from v0.24.\n",
      "\n",
      "127.0.0.1 - - [23/May/2022 21:22:48] \"\u001b[37mPOST /_dash-update-component HTTP/1.1\u001b[0m\" 200 -\n"
     ]
    },
    {
     "name": "stdout",
     "output_type": "stream",
     "text": [
      "I had such r\n",
      "Generating features\n",
      "  document  n_tokens  n_i  sentiment has_top_surprise_word has_top_love_word  \\\n",
      "0      i r         2    1        0.0                     0                 0   \n",
      "\n",
      "  has_top_anger_word has_top_sadness_word has_top_fear_word has_top_joy_word  \n",
      "0                  0                    0                 0                0  \n",
      "I had such ro\n",
      "Generating features\n",
      "  document  n_tokens  n_i  sentiment has_top_surprise_word has_top_love_word  \\\n",
      "0     i ro         2    1        0.0                     0                 0   \n",
      "\n",
      "  has_top_anger_word has_top_sadness_word has_top_fear_word has_top_joy_word  \n",
      "0                  0                    0                 0                0  \n"
     ]
    },
    {
     "name": "stderr",
     "output_type": "stream",
     "text": [
      "C:\\Anaconda3\\lib\\site-packages\\sklearn\\compose\\_column_transformer.py:437: FutureWarning:\n",
      "\n",
      "Given feature/column names or counts do not match the ones for the data given during fit. This will fail from v0.24.\n",
      "\n",
      "127.0.0.1 - - [23/May/2022 21:22:49] \"\u001b[37mPOST /_dash-update-component HTTP/1.1\u001b[0m\" 200 -\n"
     ]
    },
    {
     "name": "stdout",
     "output_type": "stream",
     "text": [
      "I had such rom\n",
      "Generating features\n",
      "  document  n_tokens  n_i  sentiment has_top_surprise_word has_top_love_word  \\\n",
      "0    i rom         2    1        0.0                     0                 0   \n",
      "\n",
      "  has_top_anger_word has_top_sadness_word has_top_fear_word has_top_joy_word  \n",
      "0                  0                    0                 0                0  \n"
     ]
    },
    {
     "name": "stderr",
     "output_type": "stream",
     "text": [
      "C:\\Anaconda3\\lib\\site-packages\\sklearn\\compose\\_column_transformer.py:437: FutureWarning:\n",
      "\n",
      "Given feature/column names or counts do not match the ones for the data given during fit. This will fail from v0.24.\n",
      "\n",
      "127.0.0.1 - - [23/May/2022 21:22:49] \"\u001b[37mPOST /_dash-update-component HTTP/1.1\u001b[0m\" 200 -\n"
     ]
    },
    {
     "name": "stdout",
     "output_type": "stream",
     "text": [
      "I had such roma\n",
      "Generating features\n",
      "  document  n_tokens  n_i  sentiment has_top_surprise_word has_top_love_word  \\\n",
      "0    i rom         2    1        0.0                     0                 0   \n",
      "\n",
      "  has_top_anger_word has_top_sadness_word has_top_fear_word has_top_joy_word  \n",
      "0                  0                    0                 0                0  \n",
      "I had such roman\n",
      "I had such romant\n",
      "Generating features\n",
      "  document  n_tokens  n_i  sentiment has_top_surprise_word has_top_love_word  \\\n",
      "0  i roman         2    1        0.0                     0                 0   \n",
      "\n",
      "  has_top_anger_word has_top_sadness_word has_top_fear_word has_top_joy_word  \n",
      "0                  0                    0                 0                0  \n",
      "Generating features\n",
      "I had such romanti\n"
     ]
    },
    {
     "name": "stderr",
     "output_type": "stream",
     "text": [
      "C:\\Anaconda3\\lib\\site-packages\\sklearn\\compose\\_column_transformer.py:437: FutureWarning:\n",
      "\n",
      "Given feature/column names or counts do not match the ones for the data given during fit. This will fail from v0.24.\n",
      "\n",
      "C:\\Anaconda3\\lib\\site-packages\\sklearn\\compose\\_column_transformer.py:437: FutureWarning:\n",
      "\n",
      "Given feature/column names or counts do not match the ones for the data given during fit. This will fail from v0.24.\n",
      "\n",
      "127.0.0.1 - - [23/May/2022 21:22:49] \"\u001b[37mPOST /_dash-update-component HTTP/1.1\u001b[0m\" 200 -\n",
      "127.0.0.1 - - [23/May/2022 21:22:49] \"\u001b[37mPOST /_dash-update-component HTTP/1.1\u001b[0m\" 200 -\n",
      "C:\\Anaconda3\\lib\\site-packages\\sklearn\\compose\\_column_transformer.py:437: FutureWarning:\n",
      "\n",
      "Given feature/column names or counts do not match the ones for the data given during fit. This will fail from v0.24.\n",
      "\n",
      "127.0.0.1 - - [23/May/2022 21:22:49] \"\u001b[37mPOST /_dash-update-component HTTP/1.1\u001b[0m\" 200 -\n"
     ]
    },
    {
     "name": "stdout",
     "output_type": "stream",
     "text": [
      "   document  n_tokens  n_i  sentiment has_top_surprise_word has_top_love_word  \\\n",
      "0  i romant         2    1        0.0                     0                 0   \n",
      "\n",
      "  has_top_anger_word has_top_sadness_word has_top_fear_word has_top_joy_word  \n",
      "0                  0                    0                 0                0  \n",
      "Generating features\n",
      "    document  n_tokens  n_i  sentiment has_top_surprise_word  \\\n",
      "0  i romanti         2    1        0.0                     0   \n",
      "\n",
      "  has_top_love_word has_top_anger_word has_top_sadness_word has_top_fear_word  \\\n",
      "0                 0                  0                    0                 0   \n",
      "\n",
      "  has_top_joy_word  \n",
      "0                0  \n",
      "I had such romantic\n",
      "Generating features"
     ]
    },
    {
     "name": "stderr",
     "output_type": "stream",
     "text": [
      "C:\\Anaconda3\\lib\\site-packages\\sklearn\\compose\\_column_transformer.py:437: FutureWarning:\n",
      "\n",
      "Given feature/column names or counts do not match the ones for the data given during fit. This will fail from v0.24.\n",
      "\n",
      "127.0.0.1 - - [23/May/2022 21:22:50] \"\u001b[37mPOST /_dash-update-component HTTP/1.1\u001b[0m\" 200 -\n",
      "C:\\Anaconda3\\lib\\site-packages\\sklearn\\compose\\_column_transformer.py:437: FutureWarning:\n",
      "\n",
      "Given feature/column names or counts do not match the ones for the data given during fit. This will fail from v0.24.\n",
      "\n",
      "127.0.0.1 - - [23/May/2022 21:22:50] \"\u001b[37mPOST /_dash-update-component HTTP/1.1\u001b[0m\" 200 -\n"
     ]
    },
    {
     "name": "stdout",
     "output_type": "stream",
     "text": [
      "\n",
      "     document  n_tokens  n_i  sentiment has_top_surprise_word  \\\n",
      "0  i romantic         2    1        0.0                     0   \n",
      "\n",
      "   has_top_love_word has_top_anger_word has_top_sadness_word  \\\n",
      "0                  1                  0                    0   \n",
      "\n",
      "  has_top_fear_word has_top_joy_word  \n",
      "0                 0                0  \n",
      "I had such romantic \n",
      "Generating features\n",
      "     document  n_tokens  n_i  sentiment has_top_surprise_word  \\\n",
      "0  i romantic         2    1        0.0                     0   \n",
      "\n",
      "   has_top_love_word has_top_anger_word has_top_sadness_word  \\\n",
      "0                  1                  0                    0   \n",
      "\n",
      "  has_top_fear_word has_top_joy_word  \n",
      "0                 0                0  \n",
      "I had such romantic d\n"
     ]
    },
    {
     "name": "stderr",
     "output_type": "stream",
     "text": [
      "C:\\Anaconda3\\lib\\site-packages\\sklearn\\compose\\_column_transformer.py:437: FutureWarning:\n",
      "\n",
      "Given feature/column names or counts do not match the ones for the data given during fit. This will fail from v0.24.\n",
      "\n",
      "127.0.0.1 - - [23/May/2022 21:22:50] \"\u001b[37mPOST /_dash-update-component HTTP/1.1\u001b[0m\" 200 -\n"
     ]
    },
    {
     "name": "stdout",
     "output_type": "stream",
     "text": [
      "Generating features\n",
      "     document  n_tokens  n_i  sentiment has_top_surprise_word  \\\n",
      "0  i romantic         2    1        0.0                     0   \n",
      "\n",
      "   has_top_love_word has_top_anger_word has_top_sadness_word  \\\n",
      "0                  1                  0                    0   \n",
      "\n",
      "  has_top_fear_word has_top_joy_word  \n",
      "0                 0                0  \n",
      "I had such romantic da\n",
      "Generating features\n",
      "        document  n_tokens  n_i  sentiment has_top_surprise_word  \\\n",
      "0  i romantic da         3    1        0.0                     0   \n",
      "\n",
      "   has_top_love_word has_top_anger_word has_top_sadness_word  \\\n",
      "0                  1                  0                    0   \n",
      "\n",
      "  has_top_fear_word has_top_joy_word  \n",
      "0                 0                0  I had such romantic dat"
     ]
    },
    {
     "name": "stderr",
     "output_type": "stream",
     "text": [
      "C:\\Anaconda3\\lib\\site-packages\\sklearn\\compose\\_column_transformer.py:437: FutureWarning:\n",
      "\n",
      "Given feature/column names or counts do not match the ones for the data given during fit. This will fail from v0.24.\n",
      "\n",
      "127.0.0.1 - - [23/May/2022 21:22:50] \"\u001b[37mPOST /_dash-update-component HTTP/1.1\u001b[0m\" 200 -\n"
     ]
    },
    {
     "name": "stdout",
     "output_type": "stream",
     "text": [
      "\n",
      "\n",
      "Generating features\n",
      "I had such romantic dats\n",
      "         document  n_tokens  n_i  sentiment has_top_surprise_word  \\\n",
      "0  i romantic dat         3    1        0.0                     0   \n",
      "\n",
      "   has_top_love_word has_top_anger_word has_top_sadness_word  \\\n",
      "0                  1                  0                    0   \n",
      "\n",
      "  has_top_fear_word has_top_joy_word  \n",
      "0                 0                0  \n",
      "Generating features\n",
      "I had such romantic datse\n"
     ]
    },
    {
     "name": "stderr",
     "output_type": "stream",
     "text": [
      "C:\\Anaconda3\\lib\\site-packages\\sklearn\\compose\\_column_transformer.py:437: FutureWarning:\n",
      "\n",
      "Given feature/column names or counts do not match the ones for the data given during fit. This will fail from v0.24.\n",
      "\n",
      "127.0.0.1 - - [23/May/2022 21:22:50] \"\u001b[37mPOST /_dash-update-component HTTP/1.1\u001b[0m\" 200 -\n",
      "C:\\Anaconda3\\lib\\site-packages\\sklearn\\compose\\_column_transformer.py:437: FutureWarning:\n",
      "\n",
      "Given feature/column names or counts do not match the ones for the data given during fit. This will fail from v0.24.\n",
      "\n",
      "C:\\Anaconda3\\lib\\site-packages\\sklearn\\compose\\_column_transformer.py:437: FutureWarning:\n",
      "\n",
      "Given feature/column names or counts do not match the ones for the data given during fit. This will fail from v0.24.\n",
      "\n",
      "127.0.0.1 - - [23/May/2022 21:22:50] \"\u001b[37mPOST /_dash-update-component HTTP/1.1\u001b[0m\" 200 -\n",
      "127.0.0.1 - - [23/May/2022 21:22:50] \"\u001b[37mPOST /_dash-update-component HTTP/1.1\u001b[0m\" 200 -\n"
     ]
    },
    {
     "name": "stdout",
     "output_type": "stream",
     "text": [
      "         document  n_tokens  n_i  sentiment has_top_surprise_word  \\\n",
      "0  i romantic dat         3    1        0.0                     0   \n",
      "\n",
      "   has_top_love_word has_top_anger_word has_top_sadness_word  \\\n",
      "0                  1                  0                    0   \n",
      "\n",
      "  has_top_fear_word has_top_joy_word  \n",
      "0                 0                0  \n",
      "Generating features\n",
      "           document  n_tokens  n_i  sentiment has_top_surprise_word  \\\n",
      "0  i romantic datse         3    1        0.0                     0   \n",
      "\n",
      "   has_top_love_word has_top_anger_word has_top_sadness_word  \\\n",
      "0                  1                  0                    0   \n",
      "\n",
      "  has_top_fear_word has_top_joy_word  \n",
      "0                 0                0  \n",
      "I had such romantic dats\n"
     ]
    },
    {
     "name": "stderr",
     "output_type": "stream",
     "text": [
      "C:\\Anaconda3\\lib\\site-packages\\sklearn\\compose\\_column_transformer.py:437: FutureWarning:\n",
      "\n",
      "Given feature/column names or counts do not match the ones for the data given during fit. This will fail from v0.24.\n",
      "\n",
      "127.0.0.1 - - [23/May/2022 21:22:50] \"\u001b[37mPOST /_dash-update-component HTTP/1.1\u001b[0m\" 200 -\n",
      "C:\\Anaconda3\\lib\\site-packages\\sklearn\\compose\\_column_transformer.py:437: FutureWarning:\n",
      "\n",
      "Given feature/column names or counts do not match the ones for the data given during fit. This will fail from v0.24.\n",
      "\n",
      "127.0.0.1 - - [23/May/2022 21:22:51] \"\u001b[37mPOST /_dash-update-component HTTP/1.1\u001b[0m\" 200 -\n"
     ]
    },
    {
     "name": "stdout",
     "output_type": "stream",
     "text": [
      "Generating features\n",
      "         document  n_tokens  n_i  sentiment has_top_surprise_word  \\\n",
      "0  i romantic dat         3    1        0.0                     0   \n",
      "\n",
      "   has_top_love_word has_top_anger_word has_top_sadness_word  \\\n",
      "0                  1                  0                    0   \n",
      "\n",
      "  has_top_fear_word has_top_joy_word  \n",
      "0                 0                0  \n",
      "I had such romantic dat\n",
      "Generating features\n",
      "         document  n_tokens  n_i  sentiment has_top_surprise_word  \\\n",
      "0  i romantic dat         3    1        0.0                     0   \n",
      "\n",
      "   has_top_love_word has_top_anger_word has_top_sadness_word  \\\n",
      "0                  1                  0                    0   \n",
      "\n",
      "  has_top_fear_word has_top_joy_word  \n",
      "0                 0                0  \n"
     ]
    },
    {
     "name": "stderr",
     "output_type": "stream",
     "text": [
      "C:\\Anaconda3\\lib\\site-packages\\sklearn\\compose\\_column_transformer.py:437: FutureWarning:\n",
      "\n",
      "Given feature/column names or counts do not match the ones for the data given during fit. This will fail from v0.24.\n",
      "\n",
      "127.0.0.1 - - [23/May/2022 21:22:51] \"\u001b[37mPOST /_dash-update-component HTTP/1.1\u001b[0m\" 200 -\n"
     ]
    },
    {
     "name": "stdout",
     "output_type": "stream",
     "text": [
      "I had such romantic date\n",
      "Generating features\n",
      "          document  n_tokens  n_i  sentiment has_top_surprise_word  \\\n",
      "0  i romantic date         3    1        0.0                     0   \n",
      "\n",
      "   has_top_love_word has_top_anger_word has_top_sadness_word  \\\n",
      "0                  1                  0                    0   \n",
      "\n",
      "  has_top_fear_word has_top_joy_word  \n",
      "0                 0                0  \n"
     ]
    },
    {
     "name": "stderr",
     "output_type": "stream",
     "text": [
      "C:\\Anaconda3\\lib\\site-packages\\sklearn\\compose\\_column_transformer.py:437: FutureWarning:\n",
      "\n",
      "Given feature/column names or counts do not match the ones for the data given during fit. This will fail from v0.24.\n",
      "\n",
      "127.0.0.1 - - [23/May/2022 21:23:00] \"\u001b[37mPOST /_dash-update-component HTTP/1.1\u001b[0m\" 200 -\n"
     ]
    },
    {
     "name": "stdout",
     "output_type": "stream",
     "text": [
      "I\n",
      "Generating features\n",
      "  document  n_tokens  n_i  sentiment has_top_surprise_word has_top_love_word  \\\n",
      "0        i         1    0        0.0                     0                 0   \n",
      "\n",
      "  has_top_anger_word has_top_sadness_word has_top_fear_word has_top_joy_word  \n",
      "0                  0                    0                 0                0  \n",
      "I \n",
      "Generating features\n"
     ]
    },
    {
     "name": "stderr",
     "output_type": "stream",
     "text": [
      "C:\\Anaconda3\\lib\\site-packages\\sklearn\\compose\\_column_transformer.py:437: FutureWarning:\n",
      "\n",
      "Given feature/column names or counts do not match the ones for the data given during fit. This will fail from v0.24.\n",
      "\n",
      "127.0.0.1 - - [23/May/2022 21:23:00] \"\u001b[37mPOST /_dash-update-component HTTP/1.1\u001b[0m\" 200 -\n"
     ]
    },
    {
     "name": "stdout",
     "output_type": "stream",
     "text": [
      "  document  n_tokens  n_i  sentiment has_top_surprise_word has_top_love_word  \\\n",
      "0        i         1    0        0.0                     0                 0   \n",
      "\n",
      "  has_top_anger_word has_top_sadness_word has_top_fear_word has_top_joy_word  \n",
      "0                  0                    0                 0                0  \n"
     ]
    },
    {
     "name": "stderr",
     "output_type": "stream",
     "text": [
      "C:\\Anaconda3\\lib\\site-packages\\sklearn\\compose\\_column_transformer.py:437: FutureWarning:\n",
      "\n",
      "Given feature/column names or counts do not match the ones for the data given during fit. This will fail from v0.24.\n",
      "\n",
      "127.0.0.1 - - [23/May/2022 21:23:00] \"\u001b[37mPOST /_dash-update-component HTTP/1.1\u001b[0m\" 200 -\n"
     ]
    },
    {
     "name": "stdout",
     "output_type": "stream",
     "text": [
      "I h\n",
      "Generating features\n",
      "  document  n_tokens  n_i  sentiment has_top_surprise_word has_top_love_word  \\\n",
      "0      i h         2    1        0.0                     0                 0   \n",
      "\n",
      "  has_top_anger_word has_top_sadness_word has_top_fear_word has_top_joy_word  \n",
      "0                  0                    0                 0                0  \n"
     ]
    },
    {
     "name": "stderr",
     "output_type": "stream",
     "text": [
      "C:\\Anaconda3\\lib\\site-packages\\sklearn\\compose\\_column_transformer.py:437: FutureWarning:\n",
      "\n",
      "Given feature/column names or counts do not match the ones for the data given during fit. This will fail from v0.24.\n",
      "\n",
      "127.0.0.1 - - [23/May/2022 21:23:00] \"\u001b[37mPOST /_dash-update-component HTTP/1.1\u001b[0m\" 200 -\n",
      "C:\\Anaconda3\\lib\\site-packages\\sklearn\\compose\\_column_transformer.py:437: FutureWarning:\n",
      "\n",
      "Given feature/column names or counts do not match the ones for the data given during fit. This will fail from v0.24.\n",
      "\n",
      "127.0.0.1 - - [23/May/2022 21:23:00] \"\u001b[37mPOST /_dash-update-component HTTP/1.1\u001b[0m\" 200 -\n"
     ]
    },
    {
     "name": "stdout",
     "output_type": "stream",
     "text": [
      "I hu\n",
      "Generating features\n",
      "I hur  document  n_tokens  n_i  sentiment has_top_surprise_word has_top_love_word  \\\n",
      "0     i hu         2    1        0.0                     0                 0   \n",
      "\n",
      "  has_top_anger_word has_top_sadness_word has_top_fear_word has_top_joy_word  \n",
      "0                  0                    0                 0                0  \n",
      "\n",
      "Generating features\n",
      "  document  n_tokens  n_i  sentiment has_top_surprise_word has_top_love_word  \\\n",
      "0    i hur         2    1        0.0                     0                 0   \n",
      "\n",
      "  has_top_anger_word has_top_sadness_word has_top_fear_word has_top_joy_word  \n",
      "0                  0                    0                 0                0  \n"
     ]
    },
    {
     "name": "stderr",
     "output_type": "stream",
     "text": [
      "C:\\Anaconda3\\lib\\site-packages\\sklearn\\compose\\_column_transformer.py:437: FutureWarning:\n",
      "\n",
      "Given feature/column names or counts do not match the ones for the data given during fit. This will fail from v0.24.\n",
      "\n",
      "127.0.0.1 - - [23/May/2022 21:23:00] \"\u001b[37mPOST /_dash-update-component HTTP/1.1\u001b[0m\" 200 -\n",
      "C:\\Anaconda3\\lib\\site-packages\\sklearn\\compose\\_column_transformer.py:437: FutureWarning:\n",
      "\n",
      "Given feature/column names or counts do not match the ones for the data given during fit. This will fail from v0.24.\n",
      "\n",
      "127.0.0.1 - - [23/May/2022 21:23:01] \"\u001b[37mPOST /_dash-update-component HTTP/1.1\u001b[0m\" 200 -\n"
     ]
    },
    {
     "name": "stdout",
     "output_type": "stream",
     "text": [
      "I hurt\n",
      "Generating features\n",
      "  document  n_tokens  n_i  sentiment has_top_surprise_word has_top_love_word  \\\n",
      "0   i hurt         2    1        0.0                     0                 0   \n",
      "\n",
      "  has_top_anger_word has_top_sadness_word has_top_fear_word has_top_joy_word  \n",
      "0                  0                    0                 0                0  \n",
      "I hurt \n",
      "Generating features\n",
      "  document  n_tokens  n_i  sentiment has_top_surprise_word has_top_love_word  \\\n",
      "0   i hurt         2    1        0.0                     0                 0   \n",
      "\n",
      "  has_top_anger_word has_top_sadness_word has_top_fear_word has_top_joy_word  \n",
      "0                  0                    0                 0                0  \n"
     ]
    },
    {
     "name": "stderr",
     "output_type": "stream",
     "text": [
      "C:\\Anaconda3\\lib\\site-packages\\sklearn\\compose\\_column_transformer.py:437: FutureWarning:\n",
      "\n",
      "Given feature/column names or counts do not match the ones for the data given during fit. This will fail from v0.24.\n",
      "\n",
      "127.0.0.1 - - [23/May/2022 21:23:01] \"\u001b[37mPOST /_dash-update-component HTTP/1.1\u001b[0m\" 200 -\n"
     ]
    },
    {
     "name": "stdout",
     "output_type": "stream",
     "text": [
      "I hurt m\n",
      "Generating features\n",
      "  document  n_tokens  n_i  sentiment has_top_surprise_word has_top_love_word  \\\n",
      "0   i hurt         2    1        0.0                     0                 0   \n",
      "\n",
      "  has_top_anger_word has_top_sadness_word has_top_fear_word has_top_joy_word  \n",
      "0                  0                    0                 0                0  \n"
     ]
    },
    {
     "name": "stderr",
     "output_type": "stream",
     "text": [
      "C:\\Anaconda3\\lib\\site-packages\\sklearn\\compose\\_column_transformer.py:437: FutureWarning:\n",
      "\n",
      "Given feature/column names or counts do not match the ones for the data given during fit. This will fail from v0.24.\n",
      "\n",
      "127.0.0.1 - - [23/May/2022 21:23:01] \"\u001b[37mPOST /_dash-update-component HTTP/1.1\u001b[0m\" 200 -\n"
     ]
    },
    {
     "name": "stdout",
     "output_type": "stream",
     "text": [
      "I hurt my\n",
      "Generating features\n",
      "    document  n_tokens  n_i  sentiment has_top_surprise_word  \\\n",
      "0  i hurt my         3    1        0.0                     0   \n",
      "\n",
      "  has_top_love_word has_top_anger_word has_top_sadness_word has_top_fear_word  \\\n",
      "0                 0                  0                    0                 0   \n",
      "\n",
      "  has_top_joy_word  \n",
      "0                0  \n",
      "I hurt my \n",
      "Generating features"
     ]
    },
    {
     "name": "stderr",
     "output_type": "stream",
     "text": [
      "C:\\Anaconda3\\lib\\site-packages\\sklearn\\compose\\_column_transformer.py:437: FutureWarning:\n",
      "\n",
      "Given feature/column names or counts do not match the ones for the data given during fit. This will fail from v0.24.\n",
      "\n",
      "127.0.0.1 - - [23/May/2022 21:23:01] \"\u001b[37mPOST /_dash-update-component HTTP/1.1\u001b[0m\" 200 -\n",
      "C:\\Anaconda3\\lib\\site-packages\\sklearn\\compose\\_column_transformer.py:437: FutureWarning:\n",
      "\n",
      "Given feature/column names or counts do not match the ones for the data given during fit. This will fail from v0.24.\n",
      "\n",
      "127.0.0.1 - - [23/May/2022 21:23:02] \"\u001b[37mPOST /_dash-update-component HTTP/1.1\u001b[0m\" 200 -\n"
     ]
    },
    {
     "name": "stdout",
     "output_type": "stream",
     "text": [
      "\n",
      "    document  n_tokens  n_i  sentiment has_top_surprise_word  \\\n",
      "0  i hurt my         3    1        0.0                     0   \n",
      "\n",
      "  has_top_love_word has_top_anger_word has_top_sadness_word has_top_fear_word  \\\n",
      "0                 0                  0                    0                 0   \n",
      "\n",
      "  has_top_joy_word  \n",
      "0                0  \n",
      "I hurt my b\n",
      "Generating features\n",
      "      document  n_tokens  n_i  sentiment has_top_surprise_word  \\\n",
      "0  i hurt my b         4    1        0.0                     0   \n",
      "\n",
      "  has_top_love_word has_top_anger_word has_top_sadness_word has_top_fear_word  \\\n",
      "0                 0                  0                    0                 0   \n",
      "\n",
      "  has_top_joy_word  \n",
      "0                0  \n"
     ]
    },
    {
     "name": "stderr",
     "output_type": "stream",
     "text": [
      "C:\\Anaconda3\\lib\\site-packages\\sklearn\\compose\\_column_transformer.py:437: FutureWarning:\n",
      "\n",
      "Given feature/column names or counts do not match the ones for the data given during fit. This will fail from v0.24.\n",
      "\n",
      "127.0.0.1 - - [23/May/2022 21:23:02] \"\u001b[37mPOST /_dash-update-component HTTP/1.1\u001b[0m\" 200 -\n"
     ]
    },
    {
     "name": "stdout",
     "output_type": "stream",
     "text": [
      "I hurt my ba\n",
      "Generating features\n",
      "       document  n_tokens  n_i  sentiment has_top_surprise_word  \\\n",
      "0  i hurt my ba         4    1        0.0                     0   \n",
      "\n",
      "  has_top_love_word has_top_anger_word has_top_sadness_word has_top_fear_word  \\\n",
      "0                 0                  0                    0                 0   \n",
      "\n",
      "  has_top_joy_word  \n",
      "0                0  \n",
      "I hurt my bac\n",
      "Generating features\n"
     ]
    },
    {
     "name": "stderr",
     "output_type": "stream",
     "text": [
      "C:\\Anaconda3\\lib\\site-packages\\sklearn\\compose\\_column_transformer.py:437: FutureWarning:\n",
      "\n",
      "Given feature/column names or counts do not match the ones for the data given during fit. This will fail from v0.24.\n",
      "\n",
      "127.0.0.1 - - [23/May/2022 21:23:02] \"\u001b[37mPOST /_dash-update-component HTTP/1.1\u001b[0m\" 200 -\n",
      "C:\\Anaconda3\\lib\\site-packages\\sklearn\\compose\\_column_transformer.py:437: FutureWarning:\n",
      "\n",
      "Given feature/column names or counts do not match the ones for the data given during fit. This will fail from v0.24.\n",
      "\n",
      "127.0.0.1 - - [23/May/2022 21:23:02] \"\u001b[37mPOST /_dash-update-component HTTP/1.1\u001b[0m\" 200 -\n"
     ]
    },
    {
     "name": "stdout",
     "output_type": "stream",
     "text": [
      "        document  n_tokens  n_i  sentiment has_top_surprise_word  \\\n",
      "0  i hurt my bac         4    1        0.0                     0   \n",
      "\n",
      "  has_top_love_word has_top_anger_word has_top_sadness_word has_top_fear_word  \\\n",
      "0                 0                  0                    0                 0   \n",
      "\n",
      "  has_top_joy_word  \n",
      "0                0  \n",
      "I hurt my back\n",
      "Generating features\n",
      "         document  n_tokens  n_i  sentiment has_top_surprise_word  \\\n",
      "0  i hurt my back         4    1        0.0                     0   \n",
      "\n",
      "  has_top_love_word has_top_anger_word has_top_sadness_word has_top_fear_word  \\\n",
      "0                 0                  0                    0                 0   \n",
      "\n",
      "  has_top_joy_word  \n",
      "0                0  \n",
      "I hurt my back \n",
      "Generating features"
     ]
    },
    {
     "name": "stderr",
     "output_type": "stream",
     "text": [
      "C:\\Anaconda3\\lib\\site-packages\\sklearn\\compose\\_column_transformer.py:437: FutureWarning:\n",
      "\n",
      "Given feature/column names or counts do not match the ones for the data given during fit. This will fail from v0.24.\n",
      "\n",
      "127.0.0.1 - - [23/May/2022 21:23:02] \"\u001b[37mPOST /_dash-update-component HTTP/1.1\u001b[0m\" 200 -\n"
     ]
    },
    {
     "name": "stdout",
     "output_type": "stream",
     "text": [
      "\n",
      "         document  n_tokens  n_i  sentiment has_top_surprise_word  \\\n",
      "0  i hurt my back         4    1        0.0                     0   \n",
      "\n",
      "  has_top_love_word has_top_anger_word has_top_sadness_word has_top_fear_word  \\\n",
      "0                 0                  0                    0                 0   \n",
      "\n",
      "  has_top_joy_word  \n",
      "0                0  \n",
      "I hurt my back y\n",
      "Generating features\n",
      "I hurt my back ye\n",
      "         document  n_tokens  n_i  sentiment has_top_surprise_word  \\\n",
      "0  i hurt my back         4    1        0.0                     0   \n",
      "\n",
      "  has_top_love_word has_top_anger_word has_top_sadness_word has_top_fear_word  \\\n",
      "0                 0                  0                    0                 0   \n",
      "\n",
      "  has_top_joy_word  \n",
      "0                0  \n",
      "I hurt my back yes"
     ]
    },
    {
     "name": "stderr",
     "output_type": "stream",
     "text": [
      "C:\\Anaconda3\\lib\\site-packages\\sklearn\\compose\\_column_transformer.py:437: FutureWarning:\n",
      "\n",
      "Given feature/column names or counts do not match the ones for the data given during fit. This will fail from v0.24.\n",
      "\n",
      "127.0.0.1 - - [23/May/2022 21:23:03] \"\u001b[37mPOST /_dash-update-component HTTP/1.1\u001b[0m\" 200 -\n",
      "C:\\Anaconda3\\lib\\site-packages\\sklearn\\compose\\_column_transformer.py:437: FutureWarning:\n",
      "\n",
      "Given feature/column names or counts do not match the ones for the data given during fit. This will fail from v0.24.\n",
      "\n"
     ]
    },
    {
     "name": "stdout",
     "output_type": "stream",
     "text": [
      "\n",
      "Generating features\n",
      "Generating featuresI hurt my back yest\n",
      "\n",
      "             document  n_tokens  n_i  sentiment has_top_surprise_word  \\\n",
      "0  i hurt my back yes         5    1        0.0                     0   \n",
      "\n",
      "  has_top_love_word has_top_anger_word has_top_sadness_word has_top_fear_word  \\\n",
      "0                 0                  0                    0                 0   \n",
      "\n",
      "  has_top_joy_word  \n",
      "0                0  I hurt my back yeste\n",
      "\n",
      "            document  n_tokens  n_i  sentiment has_top_surprise_word  \\\n",
      "0  i hurt my back ye         5    1        0.0                     0   \n",
      "\n",
      "  has_top_love_word has_top_anger_word has_top_sadness_word has_top_fear_word  \\\n",
      "0                 0                  0                    0                 0   \n",
      "\n",
      "  has_top_joy_word  \n",
      "0                0  Generating features\n"
     ]
    },
    {
     "name": "stderr",
     "output_type": "stream",
     "text": [
      "C:\\Anaconda3\\lib\\site-packages\\sklearn\\compose\\_column_transformer.py:437: FutureWarning:\n",
      "\n",
      "Given feature/column names or counts do not match the ones for the data given during fit. This will fail from v0.24.\n",
      "\n"
     ]
    },
    {
     "name": "stdout",
     "output_type": "stream",
     "text": [
      "I hurt my back yester\n",
      "\n",
      "I hurt my back yesterd\n",
      "Generating features\n"
     ]
    },
    {
     "name": "stderr",
     "output_type": "stream",
     "text": [
      "C:\\Anaconda3\\lib\\site-packages\\sklearn\\compose\\_column_transformer.py:437: FutureWarning:\n",
      "\n",
      "Given feature/column names or counts do not match the ones for the data given during fit. This will fail from v0.24.\n",
      "\n",
      "127.0.0.1 - - [23/May/2022 21:23:03] \"\u001b[37mPOST /_dash-update-component HTTP/1.1\u001b[0m\" 200 -\n",
      "127.0.0.1 - - [23/May/2022 21:23:03] \"\u001b[37mPOST /_dash-update-component HTTP/1.1\u001b[0m\" 200 -\n"
     ]
    },
    {
     "name": "stdout",
     "output_type": "stream",
     "text": [
      "              document  n_tokens  n_i  sentiment has_top_surprise_word  \\\n",
      "0  i hurt my back yest         5    1        0.0                     0   \n",
      "\n",
      "  has_top_love_word has_top_anger_word has_top_sadness_word has_top_fear_word  \\\n",
      "0                 0                  0                    0                 0   \n",
      "\n",
      "  has_top_joy_word  \n",
      "0                0  \n",
      "Generating features\n"
     ]
    },
    {
     "name": "stderr",
     "output_type": "stream",
     "text": [
      "127.0.0.1 - - [23/May/2022 21:23:03] \"\u001b[37mPOST /_dash-update-component HTTP/1.1\u001b[0m\" 200 -\n",
      "C:\\Anaconda3\\lib\\site-packages\\sklearn\\compose\\_column_transformer.py:437: FutureWarning:\n",
      "\n",
      "Given feature/column names or counts do not match the ones for the data given during fit. This will fail from v0.24.\n",
      "\n",
      "C:\\Anaconda3\\lib\\site-packages\\sklearn\\compose\\_column_transformer.py:437: FutureWarning:\n",
      "\n",
      "Given feature/column names or counts do not match the ones for the data given during fit. This will fail from v0.24.\n",
      "\n"
     ]
    },
    {
     "name": "stdout",
     "output_type": "stream",
     "text": [
      "                document  n_tokens  n_i  sentiment has_top_surprise_word  \\\n",
      "0  i hurt my back yester         5    1        0.0                     0   \n",
      "\n",
      "  has_top_love_word has_top_anger_word has_top_sadness_word has_top_fear_word  \\\n",
      "0                 0                  0                    0                 0   \n",
      "\n",
      "  has_top_joy_word  \n",
      "0                0  I hurt my back yesterda\n",
      "\n",
      "I hurt my back yesterday\n",
      "               document  n_tokens  n_i  sentiment has_top_surprise_word  \\\n",
      "0  i hurt my back yeste         5    1        0.0                     0   \n",
      "\n",
      "  has_top_love_word has_top_anger_word has_top_sadness_word has_top_fear_word  \\\n",
      "0                 0                  0                    0                 0   \n",
      "\n",
      "  has_top_joy_word  \n",
      "0                0  \n",
      "Generating features\n",
      "Generating features\n"
     ]
    },
    {
     "name": "stderr",
     "output_type": "stream",
     "text": [
      "127.0.0.1 - - [23/May/2022 21:23:04] \"\u001b[37mPOST /_dash-update-component HTTP/1.1\u001b[0m\" 200 -\n",
      "C:\\Anaconda3\\lib\\site-packages\\sklearn\\compose\\_column_transformer.py:437: FutureWarning:\n",
      "\n",
      "Given feature/column names or counts do not match the ones for the data given during fit. This will fail from v0.24.\n",
      "\n",
      "C:\\Anaconda3\\lib\\site-packages\\sklearn\\compose\\_column_transformer.py:437: FutureWarning:\n",
      "\n",
      "Given feature/column names or counts do not match the ones for the data given during fit. This will fail from v0.24.\n",
      "\n",
      "127.0.0.1 - - [23/May/2022 21:23:04] \"\u001b[37mPOST /_dash-update-component HTTP/1.1\u001b[0m\" 200 -\n",
      "127.0.0.1 - - [23/May/2022 21:23:04] \"\u001b[37mPOST /_dash-update-component HTTP/1.1\u001b[0m\" 200 -\n",
      "127.0.0.1 - - [23/May/2022 21:23:04] \"\u001b[37mPOST /_dash-update-component HTTP/1.1\u001b[0m\" 200 -\n",
      "127.0.0.1 - - [23/May/2022 21:23:04] \"\u001b[37mPOST /_dash-update-component HTTP/1.1\u001b[0m\" 200 -\n"
     ]
    },
    {
     "name": "stdout",
     "output_type": "stream",
     "text": [
      "Generating features                  document  n_tokens  n_i  sentiment has_top_surprise_word  \\\n",
      "0  i hurt my back yesterda         5    1        0.0                     0   \n",
      "\n",
      "  has_top_love_word has_top_anger_word has_top_sadness_word has_top_fear_word  \\\n",
      "0                 0                  0                    0                 0   \n",
      "\n",
      "  has_top_joy_word  \n",
      "0                0  \n",
      "                   document  n_tokens  n_i  sentiment has_top_surprise_word  \\\n",
      "0  i hurt my back yesterday         5    1        0.0                     0   \n",
      "\n",
      "  has_top_love_word has_top_anger_word has_top_sadness_word has_top_fear_word  \\\n",
      "0                 0                  0                    0                 0   \n",
      "\n",
      "  has_top_joy_word  \n",
      "0                0  \n",
      "\n",
      "                 document  n_tokens  n_i  sentiment has_top_surprise_word  \\\n",
      "0  i hurt my back yesterd         5    1        0.0                     0   \n",
      "\n",
      "  has_top_love_word has_top_anger_word has_top_sadness_word has_top_fear_word  \\\n",
      "0                 0                  0                    0                 0   \n",
      "\n",
      "  has_top_joy_word  \n",
      "0                0  \n"
     ]
    },
    {
     "name": "stderr",
     "output_type": "stream",
     "text": [
      "C:\\Anaconda3\\lib\\site-packages\\sklearn\\compose\\_column_transformer.py:437: FutureWarning:\n",
      "\n",
      "Given feature/column names or counts do not match the ones for the data given during fit. This will fail from v0.24.\n",
      "\n",
      "127.0.0.1 - - [23/May/2022 21:23:06] \"\u001b[37mPOST /_dash-update-component HTTP/1.1\u001b[0m\" 200 -\n"
     ]
    },
    {
     "name": "stdout",
     "output_type": "stream",
     "text": [
      "I hurt my back yesterday \n",
      "Generating features\n",
      "                   document  n_tokens  n_i  sentiment has_top_surprise_word  \\\n",
      "0  i hurt my back yesterday         5    1        0.0                     0   \n",
      "\n",
      "  has_top_love_word has_top_anger_word has_top_sadness_word has_top_fear_word  \\\n",
      "0                 0                  0                    0                 0   \n",
      "\n",
      "  has_top_joy_word  \n",
      "0                0  \n"
     ]
    },
    {
     "name": "stderr",
     "output_type": "stream",
     "text": [
      "C:\\Anaconda3\\lib\\site-packages\\sklearn\\compose\\_column_transformer.py:437: FutureWarning:\n",
      "\n",
      "Given feature/column names or counts do not match the ones for the data given during fit. This will fail from v0.24.\n",
      "\n",
      "127.0.0.1 - - [23/May/2022 21:23:07] \"\u001b[37mPOST /_dash-update-component HTTP/1.1\u001b[0m\" 200 -\n"
     ]
    },
    {
     "name": "stdout",
     "output_type": "stream",
     "text": [
      "I hurt my back yesterday a\n",
      "Generating features\n",
      "I hurt my back yesterday an\n",
      "                   document  n_tokens  n_i  sentiment has_top_surprise_word  \\\n",
      "0  i hurt my back yesterday         5    1        0.0                     0   \n",
      "\n",
      "  has_top_love_word has_top_anger_word has_top_sadness_word has_top_fear_word  \\\n",
      "0                 0                  0                    0                 0   \n",
      "\n",
      "  has_top_joy_word  \n",
      "0                0  \n",
      "Generating features\n",
      "                   document  n_tokens  n_i  sentiment has_top_surprise_word  \\\n",
      "0  i hurt my back yesterday         5    1        0.0                     0   \n",
      "\n",
      "  has_top_love_word has_top_anger_word has_top_sadness_word has_top_fear_word  \\\n",
      "0                 0                  0                    0                 0   \n",
      "\n",
      "  has_top_joy_word  \n",
      "0                0  I hurt my back yesterday and"
     ]
    },
    {
     "name": "stderr",
     "output_type": "stream",
     "text": [
      "C:\\Anaconda3\\lib\\site-packages\\sklearn\\compose\\_column_transformer.py:437: FutureWarning:\n",
      "\n",
      "Given feature/column names or counts do not match the ones for the data given during fit. This will fail from v0.24.\n",
      "\n",
      "127.0.0.1 - - [23/May/2022 21:23:07] \"\u001b[37mPOST /_dash-update-component HTTP/1.1\u001b[0m\" 200 -\n"
     ]
    },
    {
     "name": "stdout",
     "output_type": "stream",
     "text": [
      "\n",
      "\n",
      "Generating features\n",
      "I hurt my back yesterday and \n",
      "                   document  n_tokens  n_i  sentiment has_top_surprise_word  \\\n",
      "0  i hurt my back yesterday         5    1        0.0                     0   \n",
      "\n",
      "  has_top_love_word has_top_anger_word has_top_sadness_word has_top_fear_word  \\\n",
      "0                 0                  0                    0                 0   \n",
      "\n",
      "  has_top_joy_word  \n",
      "0                0  Generating features\n",
      "\n",
      "I hurt my back yesterday and i"
     ]
    },
    {
     "name": "stderr",
     "output_type": "stream",
     "text": [
      "C:\\Anaconda3\\lib\\site-packages\\sklearn\\compose\\_column_transformer.py:437: FutureWarning:\n",
      "\n",
      "Given feature/column names or counts do not match the ones for the data given during fit. This will fail from v0.24.\n",
      "\n",
      "C:\\Anaconda3\\lib\\site-packages\\sklearn\\compose\\_column_transformer.py:437: FutureWarning:\n",
      "\n",
      "Given feature/column names or counts do not match the ones for the data given during fit. This will fail from v0.24.\n",
      "\n",
      "127.0.0.1 - - [23/May/2022 21:23:08] \"\u001b[37mPOST /_dash-update-component HTTP/1.1\u001b[0m\" 200 -\n",
      "127.0.0.1 - - [23/May/2022 21:23:08] \"\u001b[37mPOST /_dash-update-component HTTP/1.1\u001b[0m\" 200 -\n",
      "C:\\Anaconda3\\lib\\site-packages\\sklearn\\compose\\_column_transformer.py:437: FutureWarning:\n",
      "\n",
      "Given feature/column names or counts do not match the ones for the data given during fit. This will fail from v0.24.\n",
      "\n",
      "127.0.0.1 - - [23/May/2022 21:23:08] \"\u001b[37mPOST /_dash-update-component HTTP/1.1\u001b[0m\" 200 -\n"
     ]
    },
    {
     "name": "stdout",
     "output_type": "stream",
     "text": [
      "\n",
      "                   document  n_tokens  n_i  sentiment has_top_surprise_word  \\\n",
      "0  i hurt my back yesterday         5    1        0.0                     0   \n",
      "\n",
      "  has_top_love_word has_top_anger_word has_top_sadness_word has_top_fear_word  \\\n",
      "0                 0                  0                    0                 0   \n",
      "\n",
      "  has_top_joy_word  \n",
      "0                0  \n",
      "Generating features\n",
      "                     document  n_tokens  n_i  sentiment has_top_surprise_word  \\\n",
      "0  i hurt my back yesterday i         6    1        0.0                     0   \n",
      "\n",
      "  has_top_love_word has_top_anger_word has_top_sadness_word has_top_fear_word  \\\n",
      "0                 0                  0                    0                 0   \n",
      "\n",
      "  has_top_joy_word  \n",
      "0                0  \n"
     ]
    },
    {
     "name": "stderr",
     "output_type": "stream",
     "text": [
      "C:\\Anaconda3\\lib\\site-packages\\sklearn\\compose\\_column_transformer.py:437: FutureWarning:\n",
      "\n",
      "Given feature/column names or counts do not match the ones for the data given during fit. This will fail from v0.24.\n",
      "\n",
      "C:\\Anaconda3\\lib\\site-packages\\sklearn\\compose\\_column_transformer.py:437: FutureWarning:\n",
      "\n",
      "Given feature/column names or counts do not match the ones for the data given during fit. This will fail from v0.24.\n",
      "\n",
      "127.0.0.1 - - [23/May/2022 21:23:08] \"\u001b[37mPOST /_dash-update-component HTTP/1.1\u001b[0m\" 200 -\n",
      "127.0.0.1 - - [23/May/2022 21:23:08] \"\u001b[37mPOST /_dash-update-component HTTP/1.1\u001b[0m\" 200 -\n"
     ]
    },
    {
     "name": "stdout",
     "output_type": "stream",
     "text": [
      "I hurt my back yesterday and it\n",
      "I hurt my back yesterday and it \n",
      "Generating features\n",
      "                   document  n_tokens  n_i  sentiment has_top_surprise_word  \\\n",
      "0  i hurt my back yesterday         5    1        0.0                     0   \n",
      "\n",
      "  has_top_love_word has_top_anger_word has_top_sadness_word has_top_fear_word  \\\n",
      "0                 0                  0                    0                 0   \n",
      "\n",
      "  has_top_joy_word  \n",
      "0                0  \n",
      "Generating features\n",
      "                   document  n_tokens  n_i  sentiment has_top_surprise_word  \\\n",
      "0  i hurt my back yesterday         5    1        0.0                     0   \n",
      "\n",
      "  has_top_love_word has_top_anger_word has_top_sadness_word has_top_fear_word  \\\n",
      "0                 0                  0                    0                 0   \n",
      "\n",
      "  has_top_joy_word  \n",
      "0                0  \n"
     ]
    },
    {
     "name": "stderr",
     "output_type": "stream",
     "text": [
      "C:\\Anaconda3\\lib\\site-packages\\sklearn\\compose\\_column_transformer.py:437: FutureWarning:\n",
      "\n",
      "Given feature/column names or counts do not match the ones for the data given during fit. This will fail from v0.24.\n",
      "\n",
      "127.0.0.1 - - [23/May/2022 21:23:08] \"\u001b[37mPOST /_dash-update-component HTTP/1.1\u001b[0m\" 200 -\n",
      "C:\\Anaconda3\\lib\\site-packages\\sklearn\\compose\\_column_transformer.py:437: FutureWarning:\n",
      "\n",
      "Given feature/column names or counts do not match the ones for the data given during fit. This will fail from v0.24.\n",
      "\n",
      "127.0.0.1 - - [23/May/2022 21:23:08] \"\u001b[37mPOST /_dash-update-component HTTP/1.1\u001b[0m\" 200 -\n"
     ]
    },
    {
     "name": "stdout",
     "output_type": "stream",
     "text": [
      "I hurt my back yesterday and it f\n",
      "Generating features\n",
      "                     document  n_tokens  n_i  sentiment has_top_surprise_word  \\\n",
      "0  i hurt my back yesterday f         6    1        0.0                     0   \n",
      "\n",
      "  has_top_love_word has_top_anger_word has_top_sadness_word has_top_fear_word  \\\n",
      "0                 0                  0                    0                 0   \n",
      "\n",
      "  has_top_joy_word  \n",
      "0                0  \n",
      "I hurt my back yesterday and it fe\n",
      "Generating features\n",
      "                      document  n_tokens  n_i  sentiment  \\\n",
      "0  i hurt my back yesterday fe         6    1        0.0   \n",
      "\n",
      "  has_top_surprise_word has_top_love_word has_top_anger_word  \\\n",
      "0                     0                 0                  0   \n",
      "\n",
      "  has_top_sadness_word has_top_fear_word has_top_joy_word  \n",
      "0                    0                 0                0  \n"
     ]
    },
    {
     "name": "stderr",
     "output_type": "stream",
     "text": [
      "C:\\Anaconda3\\lib\\site-packages\\sklearn\\compose\\_column_transformer.py:437: FutureWarning:\n",
      "\n",
      "Given feature/column names or counts do not match the ones for the data given during fit. This will fail from v0.24.\n",
      "\n",
      "127.0.0.1 - - [23/May/2022 21:23:09] \"\u001b[37mPOST /_dash-update-component HTTP/1.1\u001b[0m\" 200 -\n"
     ]
    },
    {
     "name": "stdout",
     "output_type": "stream",
     "text": [
      "I hurt my back yesterday and it fee\n",
      "Generating features\n",
      "                       document  n_tokens  n_i  sentiment  \\\n",
      "0  i hurt my back yesterday fee         6    1        0.0   \n",
      "\n",
      "  has_top_surprise_word has_top_love_word has_top_anger_word  \\\n",
      "0                     0                 0                  0   \n",
      "\n",
      "  has_top_sadness_word has_top_fear_word has_top_joy_word  \n",
      "0                    0                 0                0  \n",
      "I hurt my back yesterday and it feel\n",
      "Generating features\n",
      "I hurt my back yesterday and it feels                        document  n_tokens  n_i  sentiment  \\\n",
      "0  i hurt my back yesterday feel         6    1        0.0   \n",
      "\n",
      "  has_top_surprise_word has_top_love_word has_top_anger_word  \\\n",
      "0                     0                 0                  0   \n",
      "\n",
      "  has_top_sadness_word has_top_fear_word has_top_joy_word  \n",
      "0                    0                 0                0  "
     ]
    },
    {
     "name": "stderr",
     "output_type": "stream",
     "text": [
      "C:\\Anaconda3\\lib\\site-packages\\sklearn\\compose\\_column_transformer.py:437: FutureWarning:\n",
      "\n",
      "Given feature/column names or counts do not match the ones for the data given during fit. This will fail from v0.24.\n",
      "\n",
      "127.0.0.1 - - [23/May/2022 21:23:09] \"\u001b[37mPOST /_dash-update-component HTTP/1.1\u001b[0m\" 200 -\n",
      "C:\\Anaconda3\\lib\\site-packages\\sklearn\\compose\\_column_transformer.py:437: FutureWarning:\n",
      "\n",
      "Given feature/column names or counts do not match the ones for the data given during fit. This will fail from v0.24.\n",
      "\n",
      "127.0.0.1 - - [23/May/2022 21:23:09] \"\u001b[37mPOST /_dash-update-component HTTP/1.1\u001b[0m\" 200 -\n",
      "C:\\Anaconda3\\lib\\site-packages\\sklearn\\compose\\_column_transformer.py:437: FutureWarning:\n",
      "\n",
      "Given feature/column names or counts do not match the ones for the data given during fit. This will fail from v0.24.\n",
      "\n",
      "127.0.0.1 - - [23/May/2022 21:23:09] \"\u001b[37mPOST /_dash-update-component HTTP/1.1\u001b[0m\" 200 -\n"
     ]
    },
    {
     "name": "stdout",
     "output_type": "stream",
     "text": [
      "\n",
      "\n",
      "Generating features\n",
      "I hurt my back yesterday and it feels \n",
      "                        document  n_tokens  n_i  sentiment  \\\n",
      "0  i hurt my back yesterday feel         6    1        0.0   \n",
      "\n",
      "  has_top_surprise_word has_top_love_word has_top_anger_word  \\\n",
      "0                     0                 0                  0   \n",
      "\n",
      "  has_top_sadness_word has_top_fear_word has_top_joy_word  \n",
      "0                    0                 0                0  \n",
      "Generating features\n",
      "                        document  n_tokens  n_i  sentiment  \\\n",
      "0  i hurt my back yesterday feel         6    1        0.0   \n",
      "\n",
      "  has_top_surprise_word has_top_love_word has_top_anger_word  \\\n",
      "0                     0                 0                  0   \n",
      "\n",
      "  has_top_sadness_word has_top_fear_word has_top_joy_word  \n",
      "0                    0                 0                0  \n",
      "I hurt my back yesterday and it feels h\n",
      "I hurt my back yesterday and it feels ho\n",
      "Generating features\n",
      "                          document  n_tokens  n_i  sentiment  \\\n",
      "0  i hurt my back yesterday feel h         7    1        0.0   \n",
      "\n",
      "  has_top_surprise_word has_top_love_word has_top_anger_word  \\\n",
      "0                     0                 0                  0   \n",
      "\n",
      "  has_top_sadness_word has_top_fear_word has_top_joy_word  \n",
      "0                    0                 0                0  I hurt my back yesterday and it feels hor\n",
      "\n",
      "Generating features\n"
     ]
    },
    {
     "name": "stderr",
     "output_type": "stream",
     "text": [
      "C:\\Anaconda3\\lib\\site-packages\\sklearn\\compose\\_column_transformer.py:437: FutureWarning:\n",
      "\n",
      "Given feature/column names or counts do not match the ones for the data given during fit. This will fail from v0.24.\n",
      "\n",
      "127.0.0.1 - - [23/May/2022 21:23:09] \"\u001b[37mPOST /_dash-update-component HTTP/1.1\u001b[0m\" 200 -\n",
      "C:\\Anaconda3\\lib\\site-packages\\sklearn\\compose\\_column_transformer.py:437: FutureWarning:\n",
      "\n",
      "Given feature/column names or counts do not match the ones for the data given during fit. This will fail from v0.24.\n",
      "\n",
      "C:\\Anaconda3\\lib\\site-packages\\sklearn\\compose\\_column_transformer.py:437: FutureWarning:\n",
      "\n",
      "Given feature/column names or counts do not match the ones for the data given during fit. This will fail from v0.24.\n",
      "\n",
      "127.0.0.1 - - [23/May/2022 21:23:09] \"\u001b[37mPOST /_dash-update-component HTTP/1.1\u001b[0m\" 200 -\n"
     ]
    },
    {
     "name": "stdout",
     "output_type": "stream",
     "text": [
      "Generating features\n",
      "                           document  n_tokens  n_i  sentiment  \\\n",
      "0  i hurt my back yesterday feel ho         7    1        0.0   \n",
      "\n",
      "  has_top_surprise_word has_top_love_word has_top_anger_word  \\\n",
      "0                     0                 0                  0   \n",
      "\n",
      "  has_top_sadness_word has_top_fear_word has_top_joy_word  \n",
      "0                    0                 0                0  \n",
      "                            document  n_tokens  n_i  sentiment  \\\n",
      "0  i hurt my back yesterday feel hor         7    1        0.0   \n",
      "\n",
      "  has_top_surprise_word has_top_love_word has_top_anger_word  \\\n",
      "0                     0                 0                  0   \n",
      "\n",
      "  has_top_sadness_word has_top_fear_word has_top_joy_word  \n",
      "0                    0                 0                0  \n",
      "I hurt my back yesterday and it feels horr\n",
      "I hurt my back yesterday and it feels horri\n"
     ]
    },
    {
     "name": "stderr",
     "output_type": "stream",
     "text": [
      "127.0.0.1 - - [23/May/2022 21:23:09] \"\u001b[37mPOST /_dash-update-component HTTP/1.1\u001b[0m\" 200 -\n",
      "C:\\Anaconda3\\lib\\site-packages\\sklearn\\compose\\_column_transformer.py:437: FutureWarning:\n",
      "\n",
      "Given feature/column names or counts do not match the ones for the data given during fit. This will fail from v0.24.\n",
      "\n"
     ]
    },
    {
     "name": "stdout",
     "output_type": "stream",
     "text": [
      "Generating features\n",
      "Generating features\n",
      "                             document  n_tokens  n_i  sentiment  \\\n",
      "0  i hurt my back yesterday feel horr         7    1        0.0   \n",
      "\n",
      "  has_top_surprise_word has_top_love_word has_top_anger_word  \\\n",
      "0                     0                 0                  0   \n",
      "\n",
      "  has_top_sadness_word has_top_fear_word has_top_joy_word  \n",
      "0                    0                 0                0  \n",
      "                              document  n_tokens  n_i  sentiment  \\\n",
      "0  i hurt my back yesterday feel horri         7    1        0.0   \n",
      "\n",
      "  has_top_surprise_word has_top_love_word has_top_anger_word  \\\n",
      "0                     0                 0                  0   \n",
      "\n",
      "  has_top_sadness_word has_top_fear_word has_top_joy_word  \n",
      "0                    0                 0                0  \n",
      "I hurt my back yesterday and it feels horrib\n",
      "I hurt my back yesterday and it feels horribl\n"
     ]
    },
    {
     "name": "stderr",
     "output_type": "stream",
     "text": [
      "127.0.0.1 - - [23/May/2022 21:23:10] \"\u001b[37mPOST /_dash-update-component HTTP/1.1\u001b[0m\" 200 -\n",
      "127.0.0.1 - - [23/May/2022 21:23:10] \"\u001b[37mPOST /_dash-update-component HTTP/1.1\u001b[0m\" 200 -\n",
      "C:\\Anaconda3\\lib\\site-packages\\sklearn\\compose\\_column_transformer.py:437: FutureWarning:\n",
      "\n",
      "Given feature/column names or counts do not match the ones for the data given during fit. This will fail from v0.24.\n",
      "\n",
      "C:\\Anaconda3\\lib\\site-packages\\sklearn\\compose\\_column_transformer.py:437: FutureWarning:\n",
      "\n",
      "Given feature/column names or counts do not match the ones for the data given during fit. This will fail from v0.24.\n",
      "\n",
      "127.0.0.1 - - [23/May/2022 21:23:10] \"\u001b[37mPOST /_dash-update-component HTTP/1.1\u001b[0m\" 200 -\n",
      "C:\\Anaconda3\\lib\\site-packages\\sklearn\\compose\\_column_transformer.py:437: FutureWarning:\n",
      "\n",
      "Given feature/column names or counts do not match the ones for the data given during fit. This will fail from v0.24.\n",
      "\n",
      "127.0.0.1 - - [23/May/2022 21:23:10] \"\u001b[37mPOST /_dash-update-component HTTP/1.1\u001b[0m\" 200 -\n"
     ]
    },
    {
     "name": "stdout",
     "output_type": "stream",
     "text": [
      "Generating features\n",
      "Generating featuresI hurt my back yesterday and it feels horrible\n",
      "\n",
      "                               document  n_tokens  n_i  sentiment  \\\n",
      "0  i hurt my back yesterday feel horrib         7    1        0.0   \n",
      "\n",
      "  has_top_surprise_word has_top_love_word has_top_anger_word  \\\n",
      "0                     0                 0                  0   \n",
      "\n",
      "  has_top_sadness_word has_top_fear_word has_top_joy_word  \n",
      "0                    0                 0                0  \n",
      "Generating features\n",
      "                                document  n_tokens  n_i  sentiment  \\\n",
      "0  i hurt my back yesterday feel horribl         7    1        0.0   \n",
      "\n",
      "  has_top_surprise_word has_top_love_word has_top_anger_word  \\\n",
      "0                     0                 0                  0   \n",
      "\n",
      "  has_top_sadness_word has_top_fear_word has_top_joy_word  \n",
      "0                    0                 0                0  \n",
      "                                 document  n_tokens  n_i  sentiment  \\\n",
      "0  i hurt my back yesterday feel horrible         7    1       -0.5   \n",
      "\n",
      "  has_top_surprise_word has_top_love_word has_top_anger_word  \\\n",
      "0                     0                 0                  0   \n",
      "\n",
      "   has_top_sadness_word has_top_fear_word has_top_joy_word  \n",
      "0                     1                 0                0  \n"
     ]
    },
    {
     "name": "stderr",
     "output_type": "stream",
     "text": [
      "127.0.0.1 - - [23/May/2022 21:23:10] \"\u001b[37mPOST /_dash-update-component HTTP/1.1\u001b[0m\" 200 -\n",
      "C:\\Anaconda3\\lib\\site-packages\\sklearn\\compose\\_column_transformer.py:437: FutureWarning:\n",
      "\n",
      "Given feature/column names or counts do not match the ones for the data given during fit. This will fail from v0.24.\n",
      "\n",
      "127.0.0.1 - - [23/May/2022 21:23:38] \"\u001b[37mPOST /_dash-update-component HTTP/1.1\u001b[0m\" 200 -\n"
     ]
    },
    {
     "name": "stdout",
     "output_type": "stream",
     "text": [
      "I\n",
      "Generating features\n",
      "  document  n_tokens  n_i  sentiment has_top_surprise_word has_top_love_word  \\\n",
      "0        i         1    0        0.0                     0                 0   \n",
      "\n",
      "  has_top_anger_word has_top_sadness_word has_top_fear_word has_top_joy_word  \n",
      "0                  0                    0                 0                0  \n"
     ]
    },
    {
     "name": "stderr",
     "output_type": "stream",
     "text": [
      "C:\\Anaconda3\\lib\\site-packages\\sklearn\\compose\\_column_transformer.py:437: FutureWarning:\n",
      "\n",
      "Given feature/column names or counts do not match the ones for the data given during fit. This will fail from v0.24.\n",
      "\n",
      "127.0.0.1 - - [23/May/2022 21:23:39] \"\u001b[37mPOST /_dash-update-component HTTP/1.1\u001b[0m\" 200 -\n"
     ]
    },
    {
     "name": "stdout",
     "output_type": "stream",
     "text": [
      "\n",
      "Generating features\n",
      "  document  n_tokens  n_i  sentiment has_top_surprise_word has_top_love_word  \\\n",
      "0                  0    0        0.0                     0                 0   \n",
      "\n",
      "  has_top_anger_word has_top_sadness_word has_top_fear_word has_top_joy_word  \n",
      "0                  0                    0                 0                0  \n"
     ]
    },
    {
     "name": "stderr",
     "output_type": "stream",
     "text": [
      "C:\\Anaconda3\\lib\\site-packages\\sklearn\\compose\\_column_transformer.py:437: FutureWarning:\n",
      "\n",
      "Given feature/column names or counts do not match the ones for the data given during fit. This will fail from v0.24.\n",
      "\n",
      "127.0.0.1 - - [23/May/2022 21:23:42] \"\u001b[37mPOST /_dash-update-component HTTP/1.1\u001b[0m\" 200 -\n"
     ]
    },
    {
     "name": "stdout",
     "output_type": "stream",
     "text": [
      "M\n",
      "Generating features\n",
      "  document  n_tokens  n_i  sentiment has_top_surprise_word has_top_love_word  \\\n",
      "0                  0    0        0.0                     0                 0   \n",
      "\n",
      "  has_top_anger_word has_top_sadness_word has_top_fear_word has_top_joy_word  \n",
      "0                  0                    0                 0                0  \n"
     ]
    },
    {
     "name": "stderr",
     "output_type": "stream",
     "text": [
      "C:\\Anaconda3\\lib\\site-packages\\sklearn\\compose\\_column_transformer.py:437: FutureWarning:\n",
      "\n",
      "Given feature/column names or counts do not match the ones for the data given during fit. This will fail from v0.24.\n",
      "\n",
      "127.0.0.1 - - [23/May/2022 21:23:42] \"\u001b[37mPOST /_dash-update-component HTTP/1.1\u001b[0m\" 200 -\n"
     ]
    },
    {
     "name": "stdout",
     "output_type": "stream",
     "text": [
      "My\n",
      "Generating features\n",
      "  document  n_tokens  n_i  sentiment has_top_surprise_word has_top_love_word  \\\n",
      "0       my         1    0        0.0                     0                 0   \n",
      "\n",
      "  has_top_anger_word has_top_sadness_word has_top_fear_word has_top_joy_word  \n",
      "0                  0                    0                 0                0  \n",
      "My \n",
      "Generating features"
     ]
    },
    {
     "name": "stderr",
     "output_type": "stream",
     "text": [
      "C:\\Anaconda3\\lib\\site-packages\\sklearn\\compose\\_column_transformer.py:437: FutureWarning:\n",
      "\n",
      "Given feature/column names or counts do not match the ones for the data given during fit. This will fail from v0.24.\n",
      "\n",
      "127.0.0.1 - - [23/May/2022 21:23:42] \"\u001b[37mPOST /_dash-update-component HTTP/1.1\u001b[0m\" 200 -\n"
     ]
    },
    {
     "name": "stdout",
     "output_type": "stream",
     "text": [
      "\n",
      "  document  n_tokens  n_i  sentiment has_top_surprise_word has_top_love_word  \\\n",
      "0       my         1    0        0.0                     0                 0   \n",
      "\n",
      "  has_top_anger_word has_top_sadness_word has_top_fear_word has_top_joy_word  \n",
      "0                  0                    0                 0                0  \n",
      "My f\n",
      "Generating features\n",
      "  document  n_tokens  n_i  sentiment has_top_surprise_word has_top_love_word  \\\n",
      "0     my f         2    0        0.0                     0                 0   \n",
      "\n",
      "  has_top_anger_word has_top_sadness_word has_top_fear_word has_top_joy_word  \n",
      "0                  0                    0                 0                0  \n"
     ]
    },
    {
     "name": "stderr",
     "output_type": "stream",
     "text": [
      "C:\\Anaconda3\\lib\\site-packages\\sklearn\\compose\\_column_transformer.py:437: FutureWarning:\n",
      "\n",
      "Given feature/column names or counts do not match the ones for the data given during fit. This will fail from v0.24.\n",
      "\n",
      "127.0.0.1 - - [23/May/2022 21:23:43] \"\u001b[37mPOST /_dash-update-component HTTP/1.1\u001b[0m\" 200 -\n",
      "C:\\Anaconda3\\lib\\site-packages\\sklearn\\compose\\_column_transformer.py:437: FutureWarning:\n",
      "\n",
      "Given feature/column names or counts do not match the ones for the data given during fit. This will fail from v0.24.\n",
      "\n",
      "127.0.0.1 - - [23/May/2022 21:23:43] \"\u001b[37mPOST /_dash-update-component HTTP/1.1\u001b[0m\" 200 -\n"
     ]
    },
    {
     "name": "stdout",
     "output_type": "stream",
     "text": [
      "My fr\n",
      "Generating features\n",
      "  document  n_tokens  n_i  sentiment has_top_surprise_word has_top_love_word  \\\n",
      "0    my fr         2    0        0.0                     0                 0   \n",
      "\n",
      "  has_top_anger_word has_top_sadness_word has_top_fear_word has_top_joy_word  \n",
      "0                  0                    0                 0                0  \n",
      "My fri\n",
      "Generating features\n",
      "  document  n_tokens  n_i  sentiment has_top_surprise_word has_top_love_word  \\\n",
      "0   my fri         2    0        0.0                     0                 0   \n",
      "\n",
      "  has_top_anger_word has_top_sadness_word has_top_fear_word has_top_joy_word  \n",
      "0                  0                    0                 0                0  \n",
      "My frie"
     ]
    },
    {
     "name": "stderr",
     "output_type": "stream",
     "text": [
      "C:\\Anaconda3\\lib\\site-packages\\sklearn\\compose\\_column_transformer.py:437: FutureWarning:\n",
      "\n",
      "Given feature/column names or counts do not match the ones for the data given during fit. This will fail from v0.24.\n",
      "\n",
      "127.0.0.1 - - [23/May/2022 21:23:43] \"\u001b[37mPOST /_dash-update-component HTTP/1.1\u001b[0m\" 200 -\n",
      "C:\\Anaconda3\\lib\\site-packages\\sklearn\\compose\\_column_transformer.py:437: FutureWarning:\n",
      "\n",
      "Given feature/column names or counts do not match the ones for the data given during fit. This will fail from v0.24.\n",
      "\n",
      "C:\\Anaconda3\\lib\\site-packages\\sklearn\\compose\\_column_transformer.py:437: FutureWarning:\n",
      "\n",
      "Given feature/column names or counts do not match the ones for the data given during fit. This will fail from v0.24.\n",
      "\n",
      "127.0.0.1 - - [23/May/2022 21:23:43] \"\u001b[37mPOST /_dash-update-component HTTP/1.1\u001b[0m\" 200 -\n",
      "127.0.0.1 - - [23/May/2022 21:23:43] \"\u001b[37mPOST /_dash-update-component HTTP/1.1\u001b[0m\" 200 -\n"
     ]
    },
    {
     "name": "stdout",
     "output_type": "stream",
     "text": [
      "\n",
      "Generating features\n",
      "  document  n_tokens  n_i  sentiment has_top_surprise_word has_top_love_word  \\\n",
      "0  my frie         2    0        0.0                     0                 0   \n",
      "\n",
      "  has_top_anger_word has_top_sadness_word has_top_fear_word has_top_joy_word  \n",
      "0                  0                    0                 0                0  My frien\n",
      "\n",
      "Generating features\n",
      "   document  n_tokens  n_i  sentiment has_top_surprise_word has_top_love_word  \\\n",
      "0  my frien         2    0        0.0                     0                 0   \n",
      "\n",
      "  has_top_anger_word has_top_sadness_word has_top_fear_word has_top_joy_word  \n",
      "0                  0                    0                 0                0  \n"
     ]
    },
    {
     "name": "stderr",
     "output_type": "stream",
     "text": [
      "C:\\Anaconda3\\lib\\site-packages\\sklearn\\compose\\_column_transformer.py:437: FutureWarning:\n",
      "\n",
      "Given feature/column names or counts do not match the ones for the data given during fit. This will fail from v0.24.\n",
      "\n",
      "127.0.0.1 - - [23/May/2022 21:23:43] \"\u001b[37mPOST /_dash-update-component HTTP/1.1\u001b[0m\" 200 -\n"
     ]
    },
    {
     "name": "stdout",
     "output_type": "stream",
     "text": [
      "My friend\n",
      "Generating features\n",
      "    document  n_tokens  n_i  sentiment has_top_surprise_word  \\\n",
      "0  my friend         2    0        0.0                     0   \n",
      "\n",
      "  has_top_love_word has_top_anger_word has_top_sadness_word has_top_fear_word  \\\n",
      "0                 0                  0                    0                 0   \n",
      "\n",
      "  has_top_joy_word  \n",
      "0                0  \n",
      "My friend \n",
      "Generating features\n",
      "    document  n_tokens  n_i  sentiment has_top_surprise_word  \\\n",
      "0  my friend         2    0        0.0                     0   \n",
      "\n",
      "  has_top_love_word has_top_anger_word has_top_sadness_word has_top_fear_word  \\\n",
      "0                 0                  0                    0                 0   \n",
      "\n",
      "  has_top_joy_word  \n",
      "0                0  \n",
      "My friend w"
     ]
    },
    {
     "name": "stderr",
     "output_type": "stream",
     "text": [
      "C:\\Anaconda3\\lib\\site-packages\\sklearn\\compose\\_column_transformer.py:437: FutureWarning:\n",
      "\n",
      "Given feature/column names or counts do not match the ones for the data given during fit. This will fail from v0.24.\n",
      "\n",
      "127.0.0.1 - - [23/May/2022 21:23:44] \"\u001b[37mPOST /_dash-update-component HTTP/1.1\u001b[0m\" 200 -\n",
      "C:\\Anaconda3\\lib\\site-packages\\sklearn\\compose\\_column_transformer.py:437: FutureWarning:\n",
      "\n",
      "Given feature/column names or counts do not match the ones for the data given during fit. This will fail from v0.24.\n",
      "\n"
     ]
    },
    {
     "name": "stdout",
     "output_type": "stream",
     "text": [
      "\n",
      "Generating features\n",
      "      document  n_tokens  n_i  sentiment has_top_surprise_word  \\\n",
      "0  my friend w         3    0        0.0                     0   \n",
      "\n",
      "  has_top_love_word has_top_anger_word has_top_sadness_word has_top_fear_word  \\\n",
      "0                 0                  0                    0                 0   \n",
      "\n",
      "  has_top_joy_word  \n",
      "0                0  \n",
      "My friend wa\n",
      "My friend was\n",
      "My friend was "
     ]
    },
    {
     "name": "stderr",
     "output_type": "stream",
     "text": [
      "127.0.0.1 - - [23/May/2022 21:23:44] \"\u001b[37mPOST /_dash-update-component HTTP/1.1\u001b[0m\" 200 -\n",
      "C:\\Anaconda3\\lib\\site-packages\\sklearn\\compose\\_column_transformer.py:437: FutureWarning:\n",
      "\n",
      "Given feature/column names or counts do not match the ones for the data given during fit. This will fail from v0.24.\n",
      "\n",
      "C:\\Anaconda3\\lib\\site-packages\\sklearn\\compose\\_column_transformer.py:437: FutureWarning:\n",
      "\n",
      "Given feature/column names or counts do not match the ones for the data given during fit. This will fail from v0.24.\n",
      "\n"
     ]
    },
    {
     "name": "stdout",
     "output_type": "stream",
     "text": [
      "\n",
      "Generating features\n",
      "Generating features\n",
      "Generating features\n",
      "My friend was s\n",
      "       document  n_tokens  n_i  sentiment has_top_surprise_word  \\\n",
      "0  my friend wa         3    0        0.0                     0   \n",
      "\n",
      "  has_top_love_word has_top_anger_word has_top_sadness_word has_top_fear_word  \\\n",
      "0                 0                  0                    0                 0   \n",
      "\n",
      "  has_top_joy_word  \n",
      "0                0  \n",
      "       document  n_tokens  n_i  sentiment has_top_surprise_word  \\\n",
      "0  my friend wa         3    0        0.0                     0   \n",
      "\n",
      "  has_top_love_word has_top_anger_word has_top_sadness_word has_top_fear_word  \\\n",
      "0                 0                  0                    0                 0   \n",
      "\n",
      "  has_top_joy_word  \n",
      "0                0  \n",
      "       document  n_tokens  n_i  sentiment has_top_surprise_word  \\\n",
      "0  my friend wa         3    0        0.0                     0   \n",
      "\n",
      "  has_top_love_word has_top_anger_word has_top_sadness_word has_top_fear_word  \\\n",
      "0                 0                  0                    0                 0   \n",
      "\n",
      "  has_top_joy_word  \n",
      "0                0  \n"
     ]
    },
    {
     "name": "stderr",
     "output_type": "stream",
     "text": [
      "127.0.0.1 - - [23/May/2022 21:23:44] \"\u001b[37mPOST /_dash-update-component HTTP/1.1\u001b[0m\" 200 -\n",
      "127.0.0.1 - - [23/May/2022 21:23:44] \"\u001b[37mPOST /_dash-update-component HTTP/1.1\u001b[0m\" 200 -\n",
      "C:\\Anaconda3\\lib\\site-packages\\sklearn\\compose\\_column_transformer.py:437: FutureWarning:\n",
      "\n",
      "Given feature/column names or counts do not match the ones for the data given during fit. This will fail from v0.24.\n",
      "\n",
      "127.0.0.1 - - [23/May/2022 21:23:44] \"\u001b[37mPOST /_dash-update-component HTTP/1.1\u001b[0m\" 200 -\n",
      "127.0.0.1 - - [23/May/2022 21:23:44] \"\u001b[37mPOST /_dash-update-component HTTP/1.1\u001b[0m\" 200 -\n"
     ]
    },
    {
     "name": "stdout",
     "output_type": "stream",
     "text": [
      "Generating features\n",
      "       document  n_tokens  n_i  sentiment has_top_surprise_word  \\\n",
      "0  my friend wa         3    0        0.0                     0   \n",
      "\n",
      "  has_top_love_word has_top_anger_word has_top_sadness_word has_top_fear_word  \\\n",
      "0                 0                  0                    0                 0   \n",
      "\n",
      "  has_top_joy_word  \n",
      "0                0  \n",
      "My friend was su\n",
      "Generating features\n",
      "My friend was sup\n",
      "          document  n_tokens  n_i  sentiment has_top_surprise_word  \\\n",
      "0  my friend wa su         4    0        0.0                     0   \n",
      "\n",
      "  has_top_love_word has_top_anger_word has_top_sadness_word has_top_fear_word  \\\n",
      "0                 0                  0                    0                 0   \n",
      "\n",
      "  has_top_joy_word  \n",
      "0                0  \n",
      "My friend was supe\n",
      "Generating features\n"
     ]
    },
    {
     "name": "stderr",
     "output_type": "stream",
     "text": [
      "C:\\Anaconda3\\lib\\site-packages\\sklearn\\compose\\_column_transformer.py:437: FutureWarning:\n",
      "\n",
      "Given feature/column names or counts do not match the ones for the data given during fit. This will fail from v0.24.\n",
      "\n",
      "C:\\Anaconda3\\lib\\site-packages\\sklearn\\compose\\_column_transformer.py:437: FutureWarning:\n",
      "\n",
      "Given feature/column names or counts do not match the ones for the data given during fit. This will fail from v0.24.\n",
      "\n",
      "127.0.0.1 - - [23/May/2022 21:23:45] \"\u001b[37mPOST /_dash-update-component HTTP/1.1\u001b[0m\" 200 -\n"
     ]
    },
    {
     "name": "stdout",
     "output_type": "stream",
     "text": [
      "My friend was super\n",
      "My friend was super            document  n_tokens  n_i  sentiment has_top_surprise_word  \\\n",
      "0  my friend wa sup         4    0        0.0                     0   \n",
      "\n",
      "  has_top_love_word has_top_anger_word has_top_sadness_word has_top_fear_word  \\\n",
      "0                 0                  0                    0                 0   \n",
      "\n",
      "  has_top_joy_word  \n",
      "0                0  \n",
      "\n",
      "Generating features\n",
      "Generating features\n",
      "Generating features\n",
      "My friend was super h"
     ]
    },
    {
     "name": "stderr",
     "output_type": "stream",
     "text": [
      "127.0.0.1 - - [23/May/2022 21:23:45] \"\u001b[37mPOST /_dash-update-component HTTP/1.1\u001b[0m\" 200 -\n",
      "C:\\Anaconda3\\lib\\site-packages\\sklearn\\compose\\_column_transformer.py:437: FutureWarning:\n",
      "\n",
      "Given feature/column names or counts do not match the ones for the data given during fit. This will fail from v0.24.\n",
      "\n",
      "C:\\Anaconda3\\lib\\site-packages\\sklearn\\compose\\_column_transformer.py:437: FutureWarning:\n",
      "\n",
      "Given feature/column names or counts do not match the ones for the data given during fit. This will fail from v0.24.\n",
      "\n"
     ]
    },
    {
     "name": "stdout",
     "output_type": "stream",
     "text": [
      "\n",
      "My friend was super he\n",
      "             document  n_tokens  n_i  sentiment has_top_surprise_word  \\\n",
      "0  my friend wa super         4    0   0.333333                     0   \n",
      "\n",
      "  has_top_love_word has_top_anger_word has_top_sadness_word has_top_fear_word  \\\n",
      "0                 0                  0                    0                 0   \n",
      "\n",
      "   has_top_joy_word  \n",
      "0                 1  \n",
      "            document  n_tokens  n_i  sentiment has_top_surprise_word  \\\n",
      "0  my friend wa supe         4    0        0.0                     0   \n",
      "\n",
      "  has_top_love_word has_top_anger_word has_top_sadness_word has_top_fear_word  \\\n",
      "0                 0                  0                    0                 0   \n",
      "\n",
      "  has_top_joy_word  \n",
      "0                0  \n",
      "             document  n_tokens  n_i  sentiment has_top_surprise_word  \\\n",
      "0  my friend wa super         4    0   0.333333                     0   \n",
      "\n",
      "  has_top_love_word has_top_anger_word has_top_sadness_word has_top_fear_word  \\\n",
      "0                 0                  0                    0                 0   \n",
      "\n",
      "   has_top_joy_word  \n",
      "0                 1  \n",
      "Generating features\n",
      "Generating features\n",
      "My friend was super hel\n"
     ]
    },
    {
     "name": "stderr",
     "output_type": "stream",
     "text": [
      "127.0.0.1 - - [23/May/2022 21:23:45] \"\u001b[37mPOST /_dash-update-component HTTP/1.1\u001b[0m\" 200 -\n",
      "C:\\Anaconda3\\lib\\site-packages\\sklearn\\compose\\_column_transformer.py:437: FutureWarning:\n",
      "\n",
      "Given feature/column names or counts do not match the ones for the data given during fit. This will fail from v0.24.\n",
      "\n",
      "C:\\Anaconda3\\lib\\site-packages\\sklearn\\compose\\_column_transformer.py:437: FutureWarning:\n",
      "\n",
      "Given feature/column names or counts do not match the ones for the data given during fit. This will fail from v0.24.\n",
      "\n",
      "127.0.0.1 - - [23/May/2022 21:23:45] \"\u001b[37mPOST /_dash-update-component HTTP/1.1\u001b[0m\" 200 -\n",
      "127.0.0.1 - - [23/May/2022 21:23:45] \"\u001b[37mPOST /_dash-update-component HTTP/1.1\u001b[0m\" 200 -\n",
      "C:\\Anaconda3\\lib\\site-packages\\sklearn\\compose\\_column_transformer.py:437: FutureWarning:\n",
      "\n",
      "Given feature/column names or counts do not match the ones for the data given during fit. This will fail from v0.24.\n",
      "\n",
      "127.0.0.1 - - [23/May/2022 21:23:45] \"\u001b[37mPOST /_dash-update-component HTTP/1.1\u001b[0m\" 200 -\n",
      "127.0.0.1 - - [23/May/2022 21:23:45] \"\u001b[37mPOST /_dash-update-component HTTP/1.1\u001b[0m\" 200 -\n",
      "127.0.0.1 - - [23/May/2022 21:23:45] \"\u001b[37mPOST /_dash-update-component HTTP/1.1\u001b[0m\" 200 -\n"
     ]
    },
    {
     "name": "stdout",
     "output_type": "stream",
     "text": [
      "               document  n_tokens  n_i  sentiment has_top_surprise_word  \\\n",
      "0  my friend wa super h         5    0   0.333333                     0   \n",
      "\n",
      "  has_top_love_word has_top_anger_word has_top_sadness_word has_top_fear_word  \\\n",
      "0                 0                  0                    0                 0   \n",
      "\n",
      "   has_top_joy_word  \n",
      "0                 1  \n",
      "             document  n_tokens  n_i  sentiment has_top_surprise_word  \\\n",
      "0  my friend wa super         4    0   0.333333                     0   \n",
      "\n",
      "  has_top_love_word has_top_anger_word has_top_sadness_word has_top_fear_word  \\\n",
      "0                 0                  0                    0                 0   \n",
      "\n",
      "   has_top_joy_word  \n",
      "0                 1  \n",
      "Generating features\n",
      "                 document  n_tokens  n_i  sentiment has_top_surprise_word  \\\n",
      "0  my friend wa super hel         5    0   0.333333                     0   \n",
      "\n",
      "  has_top_love_word has_top_anger_word has_top_sadness_word has_top_fear_word  \\\n",
      "0                 0                  0                    0                 0   \n",
      "\n",
      "   has_top_joy_word  \n",
      "0                 1  \n",
      "My friend was super help\n"
     ]
    },
    {
     "name": "stderr",
     "output_type": "stream",
     "text": [
      "C:\\Anaconda3\\lib\\site-packages\\sklearn\\compose\\_column_transformer.py:437: FutureWarning:\n",
      "\n",
      "Given feature/column names or counts do not match the ones for the data given during fit. This will fail from v0.24.\n",
      "\n",
      "C:\\Anaconda3\\lib\\site-packages\\sklearn\\compose\\_column_transformer.py:437: FutureWarning:\n",
      "\n",
      "Given feature/column names or counts do not match the ones for the data given during fit. This will fail from v0.24.\n",
      "\n",
      "127.0.0.1 - - [23/May/2022 21:23:45] \"\u001b[37mPOST /_dash-update-component HTTP/1.1\u001b[0m\" 200 -\n",
      "127.0.0.1 - - [23/May/2022 21:23:45] \"\u001b[37mPOST /_dash-update-component HTTP/1.1\u001b[0m\" 200 -\n"
     ]
    },
    {
     "name": "stdout",
     "output_type": "stream",
     "text": [
      "My friend was super helpu\n",
      "Generating features\n",
      "                  document  n_tokens  n_i  sentiment has_top_surprise_word  \\\n",
      "0  my friend wa super help         5    0   0.333333                     0   \n",
      "\n",
      "  has_top_love_word has_top_anger_word has_top_sadness_word has_top_fear_word  \\\n",
      "0                 0                  0                    0                 0   \n",
      "\n",
      "   has_top_joy_word  \n",
      "0                 1  \n",
      "Generating features\n",
      "                   document  n_tokens  n_i  sentiment has_top_surprise_word  \\\n",
      "0  my friend wa super helpu         5    0   0.333333                     0   \n",
      "\n",
      "  has_top_love_word has_top_anger_word has_top_sadness_word has_top_fear_word  \\\n",
      "0                 0                  0                    0                 0   \n",
      "\n",
      "   has_top_joy_word  \n",
      "0                 1  \n"
     ]
    },
    {
     "name": "stderr",
     "output_type": "stream",
     "text": [
      "C:\\Anaconda3\\lib\\site-packages\\sklearn\\compose\\_column_transformer.py:437: FutureWarning:\n",
      "\n",
      "Given feature/column names or counts do not match the ones for the data given during fit. This will fail from v0.24.\n",
      "\n",
      "127.0.0.1 - - [23/May/2022 21:23:46] \"\u001b[37mPOST /_dash-update-component HTTP/1.1\u001b[0m\" 200 -\n"
     ]
    },
    {
     "name": "stdout",
     "output_type": "stream",
     "text": [
      "My friend was super help\n",
      "Generating features\n",
      "                  document  n_tokens  n_i  sentiment has_top_surprise_word  \\\n",
      "0  my friend wa super help         5    0   0.333333                     0   \n",
      "\n",
      "  has_top_love_word has_top_anger_word has_top_sadness_word has_top_fear_word  \\\n",
      "0                 0                  0                    0                 0   \n",
      "\n",
      "   has_top_joy_word  \n",
      "0                 1  \n",
      "My friend was super helpf\n",
      "My friend was super helpfu\n",
      "My friend was super helpfulGenerating features\n",
      "\n",
      "Generating features                   document  n_tokens  n_i  sentiment has_top_surprise_word  \\\n",
      "0  my friend wa super helpf         5    0   0.333333                     0   \n",
      "\n",
      "  has_top_love_word has_top_anger_word has_top_sadness_word has_top_fear_word  \\\n",
      "0                 0                  0                    0                 0   \n",
      "\n",
      "   has_top_joy_word  \n",
      "0                 1  \n",
      "\n",
      "Generating features\n"
     ]
    },
    {
     "name": "stderr",
     "output_type": "stream",
     "text": [
      "C:\\Anaconda3\\lib\\site-packages\\sklearn\\compose\\_column_transformer.py:437: FutureWarning:\n",
      "\n",
      "Given feature/column names or counts do not match the ones for the data given during fit. This will fail from v0.24.\n",
      "\n",
      "C:\\Anaconda3\\lib\\site-packages\\sklearn\\compose\\_column_transformer.py:437: FutureWarning:\n",
      "\n",
      "Given feature/column names or counts do not match the ones for the data given during fit. This will fail from v0.24.\n",
      "\n",
      "C:\\Anaconda3\\lib\\site-packages\\sklearn\\compose\\_column_transformer.py:437: FutureWarning:\n",
      "\n",
      "Given feature/column names or counts do not match the ones for the data given during fit. This will fail from v0.24.\n",
      "\n",
      "127.0.0.1 - - [23/May/2022 21:23:47] \"\u001b[37mPOST /_dash-update-component HTTP/1.1\u001b[0m\" 200 -\n",
      "127.0.0.1 - - [23/May/2022 21:23:47] \"\u001b[37mPOST /_dash-update-component HTTP/1.1\u001b[0m\" 200 -\n",
      "127.0.0.1 - - [23/May/2022 21:23:47] \"\u001b[37mPOST /_dash-update-component HTTP/1.1\u001b[0m\" 200 -\n"
     ]
    },
    {
     "name": "stdout",
     "output_type": "stream",
     "text": [
      "                     document  n_tokens  n_i  sentiment has_top_surprise_word  \\\n",
      "0  my friend wa super helpful         5    0   0.333333                     0   \n",
      "\n",
      "  has_top_love_word has_top_anger_word has_top_sadness_word has_top_fear_word  \\\n",
      "0                 0                  0                    0                 0   \n",
      "\n",
      "   has_top_joy_word  \n",
      "0                 1  \n",
      "                    document  n_tokens  n_i  sentiment has_top_surprise_word  \\\n",
      "0  my friend wa super helpfu         5    0   0.333333                     0   \n",
      "\n",
      "  has_top_love_word has_top_anger_word has_top_sadness_word has_top_fear_word  \\\n",
      "0                 0                  0                    0                 0   \n",
      "\n",
      "   has_top_joy_word  \n",
      "0                 1  \n"
     ]
    },
    {
     "name": "stderr",
     "output_type": "stream",
     "text": [
      "C:\\Anaconda3\\lib\\site-packages\\sklearn\\compose\\_column_transformer.py:437: FutureWarning:\n",
      "\n",
      "Given feature/column names or counts do not match the ones for the data given during fit. This will fail from v0.24.\n",
      "\n",
      "127.0.0.1 - - [23/May/2022 21:24:09] \"\u001b[37mPOST /_dash-update-component HTTP/1.1\u001b[0m\" 200 -\n"
     ]
    },
    {
     "name": "stdout",
     "output_type": "stream",
     "text": [
      "I\n",
      "Generating features\n",
      "  document  n_tokens  n_i  sentiment has_top_surprise_word has_top_love_word  \\\n",
      "0        i         1    0        0.0                     0                 0   \n",
      "\n",
      "  has_top_anger_word has_top_sadness_word has_top_fear_word has_top_joy_word  \n",
      "0                  0                    0                 0                0  \n"
     ]
    },
    {
     "name": "stderr",
     "output_type": "stream",
     "text": [
      "C:\\Anaconda3\\lib\\site-packages\\sklearn\\compose\\_column_transformer.py:437: FutureWarning:\n",
      "\n",
      "Given feature/column names or counts do not match the ones for the data given during fit. This will fail from v0.24.\n",
      "\n",
      "127.0.0.1 - - [23/May/2022 21:24:11] \"\u001b[37mPOST /_dash-update-component HTTP/1.1\u001b[0m\" 200 -\n"
     ]
    },
    {
     "name": "stdout",
     "output_type": "stream",
     "text": [
      "\n",
      "Generating features\n",
      "  document  n_tokens  n_i  sentiment has_top_surprise_word has_top_love_word  \\\n",
      "0                  0    0        0.0                     0                 0   \n",
      "\n",
      "  has_top_anger_word has_top_sadness_word has_top_fear_word has_top_joy_word  \n",
      "0                  0                    0                 0                0  \n"
     ]
    }
   ],
   "source": [
    "if __name__=='__main__':\n",
    "    app.run_server()"
   ]
  },
  {
   "cell_type": "code",
   "execution_count": null,
   "metadata": {},
   "outputs": [],
   "source": []
  }
 ],
 "metadata": {
  "interpreter": {
   "hash": "97ae724bfa85b9b34df7982b8bb8c7216f435b92902d749e4263f71162bea840"
  },
  "kernelspec": {
   "display_name": "Python 3",
   "language": "python",
   "name": "python3"
  },
  "language_info": {
   "codemirror_mode": {
    "name": "ipython",
    "version": 3
   },
   "file_extension": ".py",
   "mimetype": "text/x-python",
   "name": "python",
   "nbconvert_exporter": "python",
   "pygments_lexer": "ipython3",
   "version": "3.8.5"
  }
 },
 "nbformat": 4,
 "nbformat_minor": 4
}
