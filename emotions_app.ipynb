{
 "cells": [
  {
   "cell_type": "markdown",
   "metadata": {},
   "source": [
    "# Packages "
   ]
  },
  {
   "cell_type": "code",
   "execution_count": 1,
   "metadata": {},
   "outputs": [
    {
     "name": "stderr",
     "output_type": "stream",
     "text": [
      "C:\\Anaconda3\\lib\\site-packages\\dash_bootstrap_components\\_table.py:5: UserWarning: \n",
      "The dash_html_components package is deprecated. Please replace\n",
      "`import dash_html_components as html` with `from dash import html`\n",
      "  import dash_html_components as html\n"
     ]
    }
   ],
   "source": [
    "import pandas as pd\n",
    "import numpy as np\n",
    "import plotly\n",
    "import plotly.graph_objects as go\n",
    "import os\n",
    "import base64\n",
    "import re\n",
    "import pickle\n",
    "import dash\n",
    "import dash_bootstrap_components as dbc\n",
    "\n",
    "from dash.exceptions import PreventUpdate\n",
    "from dash import dcc\n",
    "from dash import html\n",
    "from dash import dash_table\n",
    "from dash.dependencies import Output\n",
    "from dash.dependencies import Input\n",
    "from plotly.subplots import make_subplots\n",
    "from textblob import TextBlob"
   ]
  },
  {
   "cell_type": "code",
   "execution_count": 2,
   "metadata": {},
   "outputs": [],
   "source": [
    "from emotions_model import count_tokens\n",
    "from emotions_model import apply_features\n",
    "from emotions_model import count_n_char"
   ]
  },
  {
   "cell_type": "markdown",
   "metadata": {},
   "source": [
    "# Images and Model\n"
   ]
  },
  {
   "cell_type": "code",
   "execution_count": 3,
   "metadata": {},
   "outputs": [],
   "source": [
    "# Relative paths\n",
    "cwd=os.getcwd()\n",
    "\n",
    "fpath='.\\images\\initial.jpg'\n",
    "\n",
    "test_base64 = base64.b64encode(open(fpath, 'rb').read()).decode('ascii')\n",
    "\n",
    "\n",
    "# Deserializing model object\n",
    "handler = open('{model}.pkl', \"rb\")\n",
    "\n",
    "pipeML= pickle.load(handler)\n",
    "\n",
    "\n"
   ]
  },
  {
   "cell_type": "markdown",
   "metadata": {},
   "source": [
    "# App layout and controls"
   ]
  },
  {
   "cell_type": "code",
   "execution_count": 4,
   "metadata": {},
   "outputs": [],
   "source": [
    "app=dash.Dash(__name__,external_stylesheets=[dbc.themes.SPACELAB,\n",
    "                                             \"https://cdnjs.cloudflare.com/ajax/libs/font-awesome/4.7.0/css/font-awesome.min.css\"])\n",
    "\n",
    "\n",
    "app.layout=html.Div([\n",
    "    \n",
    "#RSM colors and app title\n",
    "    dbc.Row([dbc.Col(\n",
    "                    html.H1('Anger',style={\"color\":\"black\",\"background-color\":\"#F13027\",\n",
    "                                          \"text-align\":\"center\"})\n",
    "                    ,width={'size':2,'offset':0,'order':1}\n",
    "                    ),\n",
    "            dbc.Col(\n",
    "                    html.H1(\"Love\",style={\"color\":\"black\",\"background-color\":\"#F127A1\",\n",
    "                                          \"text-align\":\"center\"})\n",
    "                    ,width={'size':2,'order':2}\n",
    "                    ),\n",
    "            dbc.Col(\n",
    "                    html.H1(\"Joy\",style={\"color\":\"black\",\"background-color\":\"#FFF633\",\n",
    "                                        \"text-align\":\"center\"})\n",
    "                    ,width={'size':2,'order':3}\n",
    "                    ), \n",
    "            dbc.Col(\n",
    "                    html.H1(\"Surprise\",style={\"color\":\"black\",\"background-color\":\"#27F143\",\n",
    "                                             \"text-align\":\"center\"})\n",
    "                    ,width={'size':2,'order':4}\n",
    "                    ), \n",
    "            dbc.Col(\n",
    "                    html.H1(\"Sadness\",style={\"color\":\"black\",\"background-color\":\"#279BF1\",\n",
    "                                            \"text-align\":\"center\"})\n",
    "                    ,width={'size':2,'order':5}\n",
    "                    ), \n",
    "            dbc.Col(\n",
    "                    html.H1(\"Fear\",style={\"color\":\"black\",\"background-color\":\"#9827F1\",\n",
    "                                         \"text-align\":\"center\"})\n",
    "                    ,width={'size':2,'order':6}\n",
    "                    ), \n",
    "            ]),\n",
    "\n",
    "#LOB, Region, and Level Dropdown Selectors\n",
    "    dbc.Row([dbc.Col([\n",
    "                html.Div([\"Emotion\"],style={'font-size':24}),\n",
    "                dcc.Dropdown(id=\"emotion\",options=[{'label':'Joy','value':'joy'},\n",
    "                                                   {'label':'Anger','value':'anger'},\n",
    "                                                   {'label':'Sadness','value':'sadness'},\n",
    "                                                   {'label':'Love','value':'love'},\n",
    "                                                   {'label':'Surprise','value':'surprise'},\n",
    "                                                   {'label':'Fear','value':'fear'},\n",
    "                                                  ],\n",
    "                             placeholder='-Select Emotion-',clearable=True,\n",
    "                             style={'font-size':24,\n",
    "                                   'vertical-align':'text-bottom',\n",
    "                                   'padding-bottom':'5px'}\n",
    "                            )\n",
    "                    ],width={'size':1,'offset':1}),#End dbc.Col\n",
    "             \n",
    "    ]),#End dbc.Row\n",
    "    \n",
    "#Free text input for user text.  The dcc store is used to store data in browser and\n",
    "    #can share data between callbacks \n",
    "    dbc.Row([dbc.Col([\n",
    "                    html.Div([\"How are you feeling\"],style={'font-size':24}),\n",
    "                    dcc.Input(id='text_input',placeholder='Enter text..',type='text',style={'font-size':24,\n",
    "                                                                                      'width':'80%'})],\n",
    "            width={'size':6,'offset':1}),\n",
    "            ]),\n",
    "    \n",
    "    dcc.Download(id='download_excel'),    \n",
    "    dcc.Store(id='saved_data',data={}),\n",
    "    dcc.Store(id='df_filtered',data={}),\n",
    "\n",
    "# Variable image\n",
    "    dbc.Row([\n",
    "#         dbc.Col([html.Br(),\n",
    "#                  html.Button(id='save_excel',n_clicks=0,\n",
    "#                              style={\"color\":\"white\",\"background-color\":\"#3F9C35\",'font-size':24,\n",
    "#                                   'border-radius':'8px'},\n",
    "#                              children=[html.I(className=\"fa fa-download mr-1\"),\"Generate team\"])],\n",
    "#                 width={'offset':1,'order':1}),\n",
    "\n",
    "        dbc.Col([\n",
    "                html.Br(),\n",
    "                html.Img(id='picture',src='data:image/png;base64,{}'.format(test_base64)),\n",
    "\n",
    "                ],\n",
    "                width={'offset':5,'order':1},\n",
    "\n",
    "                ),#End dbc.Col\n",
    "        \n",
    "            ]), #End dbc.Row\n",
    "        \n",
    "\n",
    "    dbc.Row([html.Br()]),\n",
    "    \n",
    "    dbc.Row([\n",
    "        dbc.Col([\n",
    "            dcc.Graph(id='sentiment')],width={'size':4,'offset':4}),\n",
    "        ]), #End dbc.Row\n",
    "    dbc.Row([\n",
    "        dbc.Col([\n",
    "            html.Table([\n",
    "                html.Tr([html.Td(['Sentiment Subjectivity:  '],\n",
    "                                 style={'font-size':24}), \n",
    "                         html.Td(id='subj',\n",
    "                                 style={'text-align':'right','font-size':24})],\n",
    "                         style={'text-align':'right','font-size':24}),\n",
    "                html.Tr([html.Td('The subjectivity is in the range [0.0, 1.0]',\n",
    "                                  style={'text-align':'right','font-size':16})],\n",
    "                        style={'text-align':'right','font-size':16}),\n",
    "                html.Tr([html.Td('where 0.0 is very objective and 1.0 is very subjective',\n",
    "                                  style={'text-align':'right','font-size':16})],\n",
    "                        style={'text-align':'right','font-size':16}),\n",
    "                        ]), # End Table \n",
    "                ],width={'offset':5}) # End Col\n",
    "\n",
    "    ]) #End Row\n",
    "\n",
    "\n",
    "        \n",
    "        \n",
    "        \n",
    "             \n",
    "#              dbc.Col([\n",
    "#                  dash_table.DataTable(\n",
    "#                      id=\"table\",\n",
    "# #                      data={},\n",
    "# #                      columns=[]\n",
    "# #                      data=df.to_dict('records'),\n",
    "# #                      columns=[{\"name\": i, \"id\": i} for i in df.columns if i not in \\\n",
    "# #                              ['First Name','Last Name','Location City','Location State/Province']]\n",
    "#                  ) #end DataTable\n",
    "                 \n",
    "#              ],width={'size':7}) #End dbc.Col fordash data table \n",
    "        \n",
    "#             ]), #End dbc.Row\n",
    "\n",
    "                    \n",
    "]) #End html.Div\n",
    "\n",
    "        "
   ]
  },
  {
   "cell_type": "markdown",
   "metadata": {},
   "source": [
    "# Callbacks\n"
   ]
  },
  {
   "cell_type": "code",
   "execution_count": 5,
   "metadata": {},
   "outputs": [],
   "source": [
    "# 1) Populate the graph with sentiment and subjectivity\n",
    "# 2) Populate the image based on the value of model output \n",
    "\n",
    "@app.callback(\n",
    "    Output(component_id='sentiment',component_property='figure'),\n",
    "    Output('picture', 'src'),\n",
    "    Output('subj','children'),\n",
    "    Input(component_id='text_input',component_property='value')\n",
    "\n",
    ")\n",
    "\n",
    "def set_graph(text):\n",
    "    \n",
    "    print(text)\n",
    "    '''\n",
    "    INPUT\n",
    "    text - a string of text based on the user input in the application\n",
    "\n",
    "    OUTPUT\n",
    "    fig - a figure to show the sentiment and subjectivity of the text using the TextBlob library\n",
    "    '''    \n",
    "    \n",
    "    \n",
    "    def SetColor(y):\n",
    "        '''\n",
    "        INPUT\n",
    "        y - the y-value for the graph\n",
    "\n",
    "        OUTPUT\n",
    "        col - color based on y-value\n",
    "        '''            \n",
    "        if y>=0:\n",
    "            col= \"#3F9C35\"\n",
    "        else:\n",
    "            col= \"red\"\n",
    "        return col\n",
    "\n",
    "    \n",
    "    \n",
    "    if text is None:\n",
    "        raise PreventUpdate\n",
    "    \n",
    "    \n",
    "    #Sentiment from Textblob\n",
    "\n",
    "    tb_phrase = TextBlob(text)\n",
    "    \n",
    "    phrase_corrected=str(tb_phrase.correct())\n",
    "    \n",
    "    \n",
    "    if tb_phrase==phrase_corrected:\n",
    "#         print('No spelling errors')\n",
    "        pass\n",
    "    else:\n",
    "#         print('Spelling error! Fixed')\n",
    "#         print(phrase_corrected)\n",
    "        tb_phrase=TextBlob(phrase_corrected)\n",
    "    \n",
    "\n",
    "    sentiment=tb_phrase.sentiment\n",
    "\n",
    "    polarity=sentiment.polarity\n",
    "\n",
    "    subjectivity=sentiment.subjectivity\n",
    "\n",
    "    #Variables for graph\n",
    "    x=['Sentiment']\n",
    "\n",
    "    ydf=pd.DataFrame([polarity],columns=[\"y1\"])\n",
    "\n",
    "    if polarity<0:\n",
    "\n",
    "        y_text = ['Negative']\n",
    "    else:\n",
    "        y_text = ['Positive']\n",
    "\n",
    "\n",
    "    #Graph properties\n",
    "    fig = go.Figure(data=go.Bar(x=x, y=ydf['y1'],text=y_text,\n",
    "                                marker=dict(color = list(map(SetColor, ydf[\"y1\"])))))\n",
    "\n",
    "    fig.update_traces(marker_line_color='black',marker_line_width=1.5,opacity=0.6)\n",
    "\n",
    "\n",
    "    fig.update_layout(title_text=\"Sentiment score: -1 to 1\",\n",
    "                      title_font_size=30,\n",
    "                      font=dict(size=24),\n",
    "                      title_x=0.5)\n",
    "\n",
    "    fig.update_yaxes(range=[-1,1],tickvals=[-1, -0.5, 0, 0.5,1],\n",
    "                     zeroline=True,zerolinewidth=2,\n",
    "                     zerolinecolor='black',showgrid=True)  \n",
    "    \n",
    "    #Instantiate feature generation object and use methods for preprocessing\n",
    "\n",
    "    numeric_cols=['n_tokens','n_i']\n",
    "\n",
    "    str_cols='document'\n",
    "\n",
    "    features_created=['n_characters']\n",
    "    \n",
    "    \n",
    "    \n",
    "    \n",
    "    new_text_df=pd.DataFrame({'document':[text]},columns=['document'])\n",
    "\n",
    "    new_text_df=apply_features(new_text_df)\n",
    "#     new_text_df['n_tokens']=new_text_df['document'].apply(count_tokens)\n",
    "#     new_text_df['n_i']=new_text_df['document'].str.count('(\\si\\s)|(^i\\s)|(\\sI\\s)|(^I\\s)')\n",
    "    \n",
    "    print(new_text_df.head())\n",
    "    \n",
    "    # Use trained model on new text and output result via image\n",
    "\n",
    "    pred=pipeML.predict(new_text_df)\n",
    "    \n",
    "    pred_emotion=list(pred)[0]\n",
    "    \n",
    "    \n",
    "    fpath=f\".\\images\\{pred_emotion}.jpg\"\n",
    "    \n",
    "    test_base64 = base64.b64encode(open(fpath, 'rb').read()).decode('ascii')\n",
    "    src='data:image/png;base64,{}'.format(test_base64)\n",
    "    \n",
    "    return fig,src,round(subjectivity,1)"
   ]
  },
  {
   "cell_type": "code",
   "execution_count": 6,
   "metadata": {},
   "outputs": [],
   "source": [
    "#Populate the image based on value of emotion checkbox\n",
    "\n",
    "# @app.callback(\n",
    "#     Output('picture', 'src'),\n",
    "#     Input(component_id='emotion',component_property='value')\n",
    "#             )\n",
    "    \n",
    "# def set_image(chosen_emotion):\n",
    "    \n",
    "#     if chosen_emotion is None:\n",
    "#         raise PreventUpdate\n",
    "    \n",
    "#     fpath=f\".\\images\\{chosen_emotion}.jpg\"\n",
    "    \n",
    "#     test_base64 = base64.b64encode(open(fpath, 'rb').read()).decode('ascii')\n",
    "#     src='data:image/png;base64,{}'.format(test_base64)\n",
    "    \n",
    "    \n",
    "#     return src"
   ]
  },
  {
   "cell_type": "code",
   "execution_count": 7,
   "metadata": {},
   "outputs": [],
   "source": [
    "# #Populate the data and the columns of the dash_table\n",
    "\n",
    "# @app.callback(\n",
    "#     Output('table','data'),\n",
    "#     Output('df_filtered','data'),\n",
    "#     Input(component_id='lob',component_property='value')\n",
    "#             )\n",
    "\n",
    "\n",
    "# def set_table_data_cols(chosen_lob):\n",
    "    \n",
    "#     if chosen_lob is None:\n",
    "#         raise PreventUpdate\n",
    "    \n",
    "#     if chosen_lob in ['Audit','Consulting','Tax','ICS']:\n",
    "        \n",
    "#         #The key to getting this to work was changing df to df_filtered (i.e another name)\n",
    "#         df_filtered=df.loc[df['LOB']==chosen_lob].copy()\n",
    "        \n",
    "#         data_table_data=df_filtered.to_dict('records')\n",
    "    \n",
    "\n",
    "#     else:\n",
    "#         data_table_data={}\n",
    "\n",
    "#     return data_table_data,data_table_data"
   ]
  },
  {
   "cell_type": "code",
   "execution_count": 8,
   "metadata": {},
   "outputs": [],
   "source": [
    "# #Download team list\n",
    "# @app.callback(\n",
    "#     Output(component_id='download_excel',component_property='data'),\n",
    "#     Input(component_id='save_excel',component_property='n_clicks'),\n",
    "#     State(component_id='saved_data',component_property='data'),\n",
    "#     State(component_id='df_filtered',component_property='data'),\n",
    "#     prevent_initial_call=True,\n",
    "#             )\n",
    "\n",
    "# def download_excel(save_excel_button_clicks,values,df_filtered):\n",
    "    \n",
    "#     print(f'Number of button clicks {save_excel_button_clicks}')\n",
    "    \n",
    "#     if save_excel_button_clicks==0:\n",
    "#         raise PreventUpdate\n",
    "    \n",
    "#     else:\n",
    "        \n",
    "# #         final_df=pd.DataFrame(values,columns=['Team Members'])\n",
    "\n",
    "#         #May want to change this setup so the df_filtered was already filtered (like values was in get_teams_list)\n",
    "#         final_df_test=pd.DataFrame(df_filtered)\n",
    "        \n",
    "#         final_df=final_df_test.loc[final_df_test['Full Name'].isin(values)]\n",
    "\n",
    "        \n",
    "#         curr_date=datetime.now().date()\n",
    "        \n",
    "        \n",
    "#     return dcc.send_data_frame(final_df.to_excel, f'{curr_date}_results.xlsx', sheet_name='Results',index=False)"
   ]
  },
  {
   "cell_type": "code",
   "execution_count": null,
   "metadata": {},
   "outputs": [
    {
     "name": "stdout",
     "output_type": "stream",
     "text": [
      "Dash is running on http://127.0.0.1:8050/\n",
      "\n",
      " * Serving Flask app \"__main__\" (lazy loading)\n",
      " * Environment: production\n",
      "   WARNING: This is a development server. Do not use it in a production deployment.\n",
      "   Use a production WSGI server instead.\n",
      " * Debug mode: off\n"
     ]
    },
    {
     "name": "stderr",
     "output_type": "stream",
     "text": [
      " * Running on http://127.0.0.1:8050/ (Press CTRL+C to quit)\n",
      "127.0.0.1 - - [11/May/2022 10:13:50] \"\u001b[37mGET / HTTP/1.1\u001b[0m\" 200 -\n",
      "127.0.0.1 - - [11/May/2022 10:13:51] \"\u001b[37mGET /_dash-dependencies HTTP/1.1\u001b[0m\" 200 -\n",
      "127.0.0.1 - - [11/May/2022 10:13:51] \"\u001b[37mGET /_dash-layout HTTP/1.1\u001b[0m\" 200 -\n",
      "127.0.0.1 - - [11/May/2022 10:13:51] \"\u001b[37mGET /_favicon.ico?v=2.0.0 HTTP/1.1\u001b[0m\" 200 -\n",
      "127.0.0.1 - - [11/May/2022 10:13:51] \"\u001b[37mGET /_dash-component-suites/dash/dcc/async-graph.js HTTP/1.1\u001b[0m\" 200 -\n",
      "127.0.0.1 - - [11/May/2022 10:13:51] \"\u001b[37mGET /_dash-component-suites/dash/dcc/async-dropdown.js HTTP/1.1\u001b[0m\" 200 -\n",
      "127.0.0.1 - - [11/May/2022 10:13:51] \"\u001b[37mGET /_dash-component-suites/dash/dcc/async-plotlyjs.js HTTP/1.1\u001b[0m\" 200 -\n",
      "127.0.0.1 - - [11/May/2022 10:13:51] \"\u001b[37mPOST /_dash-update-component HTTP/1.1\u001b[0m\" 204 -\n"
     ]
    },
    {
     "name": "stdout",
     "output_type": "stream",
     "text": [
      "None\n"
     ]
    },
    {
     "name": "stderr",
     "output_type": "stream",
     "text": [
      "127.0.0.1 - - [11/May/2022 10:13:52] \"\u001b[37mGET /_favicon.ico?v=2.0.0 HTTP/1.1\u001b[0m\" 200 -\n"
     ]
    },
    {
     "name": "stdout",
     "output_type": "stream",
     "text": [
      "I\n",
      "I "
     ]
    },
    {
     "name": "stderr",
     "output_type": "stream",
     "text": [
      "127.0.0.1 - - [11/May/2022 10:13:58] \"\u001b[37mPOST /_dash-update-component HTTP/1.1\u001b[0m\" 200 -\n",
      "127.0.0.1 - - [11/May/2022 10:13:58] \"\u001b[37mPOST /_dash-update-component HTTP/1.1\u001b[0m\" 200 -\n",
      "127.0.0.1 - - [11/May/2022 10:13:58] \"\u001b[37mPOST /_dash-update-component HTTP/1.1\u001b[0m\" 200 -\n"
     ]
    },
    {
     "name": "stdout",
     "output_type": "stream",
     "text": [
      "\n",
      "  document  n_tokens  n_i\n",
      "0       I          1    1  document  n_tokens  n_i\n",
      "0        I         1    0\n",
      "\n",
      "I a\n",
      "  document  n_tokens  n_i\n",
      "0      I a         2    1\n"
     ]
    },
    {
     "name": "stderr",
     "output_type": "stream",
     "text": [
      "127.0.0.1 - - [11/May/2022 10:13:58] \"\u001b[37mPOST /_dash-update-component HTTP/1.1\u001b[0m\" 200 -\n",
      "127.0.0.1 - - [11/May/2022 10:13:58] \"\u001b[37mPOST /_dash-update-component HTTP/1.1\u001b[0m\" 200 -\n"
     ]
    },
    {
     "name": "stdout",
     "output_type": "stream",
     "text": [
      "I am\n",
      "  document  n_tokens  n_i\n",
      "0     I am         2    1\n",
      "I am \n",
      "  document  n_tokens  n_i\n",
      "0    I am          2    1\n"
     ]
    },
    {
     "name": "stderr",
     "output_type": "stream",
     "text": [
      "127.0.0.1 - - [11/May/2022 10:13:58] \"\u001b[37mPOST /_dash-update-component HTTP/1.1\u001b[0m\" 200 -\n"
     ]
    },
    {
     "name": "stdout",
     "output_type": "stream",
     "text": [
      "I am s\n",
      "  document  n_tokens  n_i\n",
      "0   I am s         3    1\n"
     ]
    },
    {
     "name": "stderr",
     "output_type": "stream",
     "text": [
      "127.0.0.1 - - [11/May/2022 10:13:59] \"\u001b[37mPOST /_dash-update-component HTTP/1.1\u001b[0m\" 200 -\n"
     ]
    },
    {
     "name": "stdout",
     "output_type": "stream",
     "text": [
      "I am so\n",
      "  document  n_tokens  n_i\n",
      "0  I am so         3    1\n",
      "I am so \n",
      "   document  n_tokens  n_i\n",
      "0  I am so          3    1"
     ]
    },
    {
     "name": "stderr",
     "output_type": "stream",
     "text": [
      "127.0.0.1 - - [11/May/2022 10:13:59] \"\u001b[37mPOST /_dash-update-component HTTP/1.1\u001b[0m\" 200 -\n"
     ]
    },
    {
     "name": "stdout",
     "output_type": "stream",
     "text": [
      "\n"
     ]
    },
    {
     "name": "stderr",
     "output_type": "stream",
     "text": [
      "127.0.0.1 - - [11/May/2022 10:13:59] \"\u001b[37mPOST /_dash-update-component HTTP/1.1\u001b[0m\" 200 -\n",
      "127.0.0.1 - - [11/May/2022 10:13:59] \"\u001b[37mPOST /_dash-update-component HTTP/1.1\u001b[0m\" 200 -\n"
     ]
    },
    {
     "name": "stdout",
     "output_type": "stream",
     "text": [
      "I am so m\n",
      "    document  n_tokens  n_i\n",
      "0  I am so m         4    1\n",
      "I am so ma\n",
      "     document  n_tokens  n_i\n",
      "0  I am so ma         4    1\n"
     ]
    },
    {
     "name": "stderr",
     "output_type": "stream",
     "text": [
      "127.0.0.1 - - [11/May/2022 10:13:59] \"\u001b[37mPOST /_dash-update-component HTTP/1.1\u001b[0m\" 200 -\n",
      "127.0.0.1 - - [11/May/2022 10:14:00] \"\u001b[37mPOST /_dash-update-component HTTP/1.1\u001b[0m\" 200 -\n"
     ]
    },
    {
     "name": "stdout",
     "output_type": "stream",
     "text": [
      "I am so mad\n",
      "      document  n_tokens  n_i\n",
      "0  I am so mad         4    1\n",
      "I am so mad \n",
      "       document  n_tokens  n_i\n",
      "0  I am so mad          4    1\n",
      "I am so mad a"
     ]
    },
    {
     "name": "stderr",
     "output_type": "stream",
     "text": [
      "127.0.0.1 - - [11/May/2022 10:14:00] \"\u001b[37mPOST /_dash-update-component HTTP/1.1\u001b[0m\" 200 -\n"
     ]
    },
    {
     "name": "stdout",
     "output_type": "stream",
     "text": [
      "\n",
      "        document  n_tokens  n_i\n",
      "0  I am so mad a         5    1\n"
     ]
    },
    {
     "name": "stderr",
     "output_type": "stream",
     "text": [
      "127.0.0.1 - - [11/May/2022 10:14:00] \"\u001b[37mPOST /_dash-update-component HTTP/1.1\u001b[0m\" 200 -\n",
      "127.0.0.1 - - [11/May/2022 10:14:00] \"\u001b[37mPOST /_dash-update-component HTTP/1.1\u001b[0m\" 200 -\n"
     ]
    },
    {
     "name": "stdout",
     "output_type": "stream",
     "text": [
      "I am so mad at\n",
      "         document  n_tokens  n_i\n",
      "0  I am so mad at         5    1\n",
      "I am so mad at \n",
      "          document  n_tokens  n_i\n",
      "0  I am so mad at          5    1\n"
     ]
    },
    {
     "name": "stderr",
     "output_type": "stream",
     "text": [
      "127.0.0.1 - - [11/May/2022 10:14:00] \"\u001b[37mPOST /_dash-update-component HTTP/1.1\u001b[0m\" 200 -\n"
     ]
    },
    {
     "name": "stdout",
     "output_type": "stream",
     "text": [
      "I am so mad at Z\n",
      "           document  n_tokens  n_i\n",
      "0  I am so mad at Z         6    1\n",
      "I am so mad at Za"
     ]
    },
    {
     "name": "stderr",
     "output_type": "stream",
     "text": [
      "127.0.0.1 - - [11/May/2022 10:14:01] \"\u001b[37mPOST /_dash-update-component HTTP/1.1\u001b[0m\" 200 -\n"
     ]
    },
    {
     "name": "stdout",
     "output_type": "stream",
     "text": [
      "\n",
      "            document  n_tokens  n_i\n",
      "0  I am so mad at Za         6    1\n",
      "I am so mad at Zac"
     ]
    },
    {
     "name": "stderr",
     "output_type": "stream",
     "text": [
      "127.0.0.1 - - [11/May/2022 10:14:01] \"\u001b[37mPOST /_dash-update-component HTTP/1.1\u001b[0m\" 200 -\n",
      "127.0.0.1 - - [11/May/2022 10:14:01] \"\u001b[37mPOST /_dash-update-component HTTP/1.1\u001b[0m\" 200 -\n"
     ]
    },
    {
     "name": "stdout",
     "output_type": "stream",
     "text": [
      "\n",
      "             document  n_tokens  n_i\n",
      "0  I am so mad at Zac         6    1\n",
      "I am so mad at Zack\n",
      "              document  n_tokens  n_i\n",
      "0  I am so mad at Zack         6    1\n"
     ]
    },
    {
     "name": "stderr",
     "output_type": "stream",
     "text": [
      "127.0.0.1 - - [11/May/2022 10:14:02] \"\u001b[37mPOST /_dash-update-component HTTP/1.1\u001b[0m\" 200 -\n"
     ]
    },
    {
     "name": "stdout",
     "output_type": "stream",
     "text": [
      "I am so mad at Zac\n",
      "             document  n_tokens  n_i\n",
      "0  I am so mad at Zac         6    1\n",
      "I am so mad at Za\n",
      "            document  n_tokens  n_i\n",
      "0  I am so mad at Za         6    1"
     ]
    },
    {
     "name": "stderr",
     "output_type": "stream",
     "text": [
      "127.0.0.1 - - [11/May/2022 10:14:02] \"\u001b[37mPOST /_dash-update-component HTTP/1.1\u001b[0m\" 200 -\n",
      "127.0.0.1 - - [11/May/2022 10:14:02] \"\u001b[37mPOST /_dash-update-component HTTP/1.1\u001b[0m\" 200 -\n"
     ]
    },
    {
     "name": "stdout",
     "output_type": "stream",
     "text": [
      "\n",
      "I am so mad at Z\n",
      "           document  n_tokens  n_i\n",
      "0  I am so mad at Z         6    1\n",
      "I am so mad at \n",
      "I am so mad at\n",
      "          document  n_tokens  n_i\n",
      "0  I am so mad at          5    1I am so mad a\n",
      "\n",
      "I am so mad \n",
      "         document  n_tokens  n_i\n",
      "0  I am so mad at         5    1\n",
      "I am so mad        document  n_tokens  n_i\n",
      "0  I am so mad a         5    1\n",
      "\n",
      "I am so ma"
     ]
    },
    {
     "name": "stderr",
     "output_type": "stream",
     "text": [
      "127.0.0.1 - - [11/May/2022 10:14:03] \"\u001b[37mPOST /_dash-update-component HTTP/1.1\u001b[0m\" 200 -\n",
      "127.0.0.1 - - [11/May/2022 10:14:03] \"\u001b[37mPOST /_dash-update-component HTTP/1.1\u001b[0m\" 200 -\n",
      "127.0.0.1 - - [11/May/2022 10:14:03] \"\u001b[37mPOST /_dash-update-component HTTP/1.1\u001b[0m\" 200 -\n",
      "127.0.0.1 - - [11/May/2022 10:14:03] \"\u001b[37mPOST /_dash-update-component HTTP/1.1\u001b[0m\" 200 -\n",
      "127.0.0.1 - - [11/May/2022 10:14:03] \"\u001b[37mPOST /_dash-update-component HTTP/1.1\u001b[0m\" 200 -\n",
      "127.0.0.1 - - [11/May/2022 10:14:03] \"\u001b[37mPOST /_dash-update-component HTTP/1.1\u001b[0m\" 200 -\n"
     ]
    },
    {
     "name": "stdout",
     "output_type": "stream",
     "text": [
      "       document  n_tokens  n_i\n",
      "0  I am so mad          4    1\n",
      "\n",
      "      document  n_tokens  n_i\n",
      "0  I am so mad         4    1\n",
      "     document  n_tokens  n_i\n",
      "0  I am so ma         4    1\n",
      "I am so m\n",
      "I am so \n",
      "    document  n_tokens  n_i\n",
      "0  I am so m         4    1I am so\n"
     ]
    },
    {
     "name": "stderr",
     "output_type": "stream",
     "text": [
      "127.0.0.1 - - [11/May/2022 10:14:03] \"\u001b[37mPOST /_dash-update-component HTTP/1.1\u001b[0m\" 200 -\n",
      "127.0.0.1 - - [11/May/2022 10:14:03] \"\u001b[37mPOST /_dash-update-component HTTP/1.1\u001b[0m\" 200 -\n"
     ]
    },
    {
     "name": "stdout",
     "output_type": "stream",
     "text": [
      "\n",
      "I am s\n",
      "   document  n_tokens  n_i\n",
      "0  I am so          3    1I am   document  n_tokens  n_i\n",
      "0  I am so         3    1\n",
      "\n",
      "\n",
      "I am\n",
      "  document  n_tokens  n_i\n",
      "0   I am s         3    1\n",
      "  document  n_tokens  n_i\n",
      "0    I am          2    1  document  n_tokens  n_i\n",
      "0     I am         2    1\n",
      "\n"
     ]
    },
    {
     "name": "stderr",
     "output_type": "stream",
     "text": [
      "127.0.0.1 - - [11/May/2022 10:14:03] \"\u001b[37mPOST /_dash-update-component HTTP/1.1\u001b[0m\" 200 -\n",
      "127.0.0.1 - - [11/May/2022 10:14:03] \"\u001b[37mPOST /_dash-update-component HTTP/1.1\u001b[0m\" 200 -\n",
      "127.0.0.1 - - [11/May/2022 10:14:03] \"\u001b[37mPOST /_dash-update-component HTTP/1.1\u001b[0m\" 200 -\n",
      "127.0.0.1 - - [11/May/2022 10:14:03] \"\u001b[37mPOST /_dash-update-component HTTP/1.1\u001b[0m\" 200 -\n",
      "127.0.0.1 - - [11/May/2022 10:14:04] \"\u001b[37mPOST /_dash-update-component HTTP/1.1\u001b[0m\" 200 -\n",
      "127.0.0.1 - - [11/May/2022 10:14:04] \"\u001b[37mPOST /_dash-update-component HTTP/1.1\u001b[0m\" 200 -\n"
     ]
    },
    {
     "name": "stdout",
     "output_type": "stream",
     "text": [
      "I aI \n",
      "\n",
      "  document  n_tokens  n_i\n",
      "0       I          1    1\n",
      "  document  n_tokens  n_i\n",
      "0      I a         2    1\n"
     ]
    },
    {
     "name": "stderr",
     "output_type": "stream",
     "text": [
      "127.0.0.1 - - [11/May/2022 10:14:04] \"\u001b[37mPOST /_dash-update-component HTTP/1.1\u001b[0m\" 200 -\n"
     ]
    },
    {
     "name": "stdout",
     "output_type": "stream",
     "text": [
      "I\n",
      "  document  n_tokens  n_i\n",
      "0        I         1    0\n"
     ]
    },
    {
     "name": "stderr",
     "output_type": "stream",
     "text": [
      "127.0.0.1 - - [11/May/2022 10:16:37] \"\u001b[37mPOST /_dash-update-component HTTP/1.1\u001b[0m\" 200 -\n"
     ]
    },
    {
     "name": "stdout",
     "output_type": "stream",
     "text": [
      "\n",
      "  document  n_tokens  n_i\n",
      "0                  0    0\n"
     ]
    },
    {
     "name": "stderr",
     "output_type": "stream",
     "text": [
      "127.0.0.1 - - [11/May/2022 10:16:46] \"\u001b[37mPOST /_dash-update-component HTTP/1.1\u001b[0m\" 200 -\n"
     ]
    },
    {
     "name": "stdout",
     "output_type": "stream",
     "text": [
      "i\n",
      "  document  n_tokens  n_i\n",
      "0        i         1    0\n"
     ]
    },
    {
     "name": "stderr",
     "output_type": "stream",
     "text": [
      "127.0.0.1 - - [11/May/2022 10:16:46] \"\u001b[37mPOST /_dash-update-component HTTP/1.1\u001b[0m\" 200 -\n"
     ]
    },
    {
     "name": "stdout",
     "output_type": "stream",
     "text": [
      "i \n",
      "  document  n_tokens  n_i\n",
      "0       i          1    1\n"
     ]
    },
    {
     "name": "stderr",
     "output_type": "stream",
     "text": [
      "127.0.0.1 - - [11/May/2022 10:16:47] \"\u001b[37mPOST /_dash-update-component HTTP/1.1\u001b[0m\" 200 -\n"
     ]
    },
    {
     "name": "stdout",
     "output_type": "stream",
     "text": [
      "i a\n",
      "  document  n_tokens  n_i\n",
      "0      i a         2    1\n",
      "i am\n",
      "  document  n_tokens  n_i\n",
      "0     i am         2    1\n"
     ]
    },
    {
     "name": "stderr",
     "output_type": "stream",
     "text": [
      "127.0.0.1 - - [11/May/2022 10:16:47] \"\u001b[37mPOST /_dash-update-component HTTP/1.1\u001b[0m\" 200 -\n",
      "127.0.0.1 - - [11/May/2022 10:16:47] \"\u001b[37mPOST /_dash-update-component HTTP/1.1\u001b[0m\" 200 -\n"
     ]
    },
    {
     "name": "stdout",
     "output_type": "stream",
     "text": [
      "i am \n",
      "  document  n_tokens  n_i\n",
      "0    i am          2    1\n"
     ]
    },
    {
     "name": "stderr",
     "output_type": "stream",
     "text": [
      "127.0.0.1 - - [11/May/2022 10:16:47] \"\u001b[37mPOST /_dash-update-component HTTP/1.1\u001b[0m\" 200 -\n",
      "127.0.0.1 - - [11/May/2022 10:16:48] \"\u001b[37mPOST /_dash-update-component HTTP/1.1\u001b[0m\" 200 -\n"
     ]
    },
    {
     "name": "stdout",
     "output_type": "stream",
     "text": [
      "i am s\n",
      "  document  n_tokens  n_i\n",
      "0   i am s         3    1\n",
      "i am so\n",
      "  document  n_tokens  n_i\n",
      "0  i am so         3    1\n"
     ]
    },
    {
     "name": "stderr",
     "output_type": "stream",
     "text": [
      "127.0.0.1 - - [11/May/2022 10:16:48] \"\u001b[37mPOST /_dash-update-component HTTP/1.1\u001b[0m\" 200 -\n"
     ]
    },
    {
     "name": "stdout",
     "output_type": "stream",
     "text": [
      "i am so \n",
      "   document  n_tokens  n_i\n",
      "0  i am so          3    1\n"
     ]
    },
    {
     "name": "stderr",
     "output_type": "stream",
     "text": [
      "127.0.0.1 - - [11/May/2022 10:16:48] \"\u001b[37mPOST /_dash-update-component HTTP/1.1\u001b[0m\" 200 -\n",
      "127.0.0.1 - - [11/May/2022 10:16:48] \"\u001b[37mPOST /_dash-update-component HTTP/1.1\u001b[0m\" 200 -\n"
     ]
    },
    {
     "name": "stdout",
     "output_type": "stream",
     "text": [
      "i am so m\n",
      "    document  n_tokens  n_i\n",
      "0  i am so m         4    1\n",
      "i am so ma\n",
      "     document  n_tokens  n_i\n",
      "0  i am so ma         4    1\n",
      "i am so mad\n"
     ]
    },
    {
     "name": "stderr",
     "output_type": "stream",
     "text": [
      "127.0.0.1 - - [11/May/2022 10:16:48] \"\u001b[37mPOST /_dash-update-component HTTP/1.1\u001b[0m\" 200 -\n",
      "127.0.0.1 - - [11/May/2022 10:16:48] \"\u001b[37mPOST /_dash-update-component HTTP/1.1\u001b[0m\" 200 -\n"
     ]
    },
    {
     "name": "stdout",
     "output_type": "stream",
     "text": [
      "      document  n_tokens  n_i\n",
      "0  i am so mad         4    1\n",
      "i am so mad \n",
      "       document  n_tokens  n_i\n",
      "0  i am so mad          4    1\n"
     ]
    },
    {
     "name": "stderr",
     "output_type": "stream",
     "text": [
      "127.0.0.1 - - [11/May/2022 10:16:49] \"\u001b[37mPOST /_dash-update-component HTTP/1.1\u001b[0m\" 200 -\n"
     ]
    },
    {
     "name": "stdout",
     "output_type": "stream",
     "text": [
      "i am so mad a\n",
      "        document  n_tokens  n_i\n",
      "0  i am so mad a         5    1\n",
      "i am so mad at\n",
      "         document  n_tokens  n_i\n",
      "0  i am so mad at         5    1"
     ]
    },
    {
     "name": "stderr",
     "output_type": "stream",
     "text": [
      "127.0.0.1 - - [11/May/2022 10:16:49] \"\u001b[37mPOST /_dash-update-component HTTP/1.1\u001b[0m\" 200 -\n",
      "127.0.0.1 - - [11/May/2022 10:16:49] \"\u001b[37mPOST /_dash-update-component HTTP/1.1\u001b[0m\" 200 -\n"
     ]
    },
    {
     "name": "stdout",
     "output_type": "stream",
     "text": [
      "\n",
      "i am so mad at \n",
      "          document  n_tokens  n_i\n",
      "0  i am so mad at          5    1\n"
     ]
    },
    {
     "name": "stderr",
     "output_type": "stream",
     "text": [
      "127.0.0.1 - - [11/May/2022 10:16:50] \"\u001b[37mPOST /_dash-update-component HTTP/1.1\u001b[0m\" 200 -\n"
     ]
    },
    {
     "name": "stdout",
     "output_type": "stream",
     "text": [
      "i am so mad at A\n",
      "           document  n_tokens  n_i\n",
      "0  i am so mad at A         6    1\n",
      "i am so mad at An\n",
      "            document  n_tokens  n_i\n",
      "0  i am so mad at An         6    1\n"
     ]
    },
    {
     "name": "stderr",
     "output_type": "stream",
     "text": [
      "127.0.0.1 - - [11/May/2022 10:16:50] \"\u001b[37mPOST /_dash-update-component HTTP/1.1\u001b[0m\" 200 -\n",
      "127.0.0.1 - - [11/May/2022 10:16:50] \"\u001b[37mPOST /_dash-update-component HTTP/1.1\u001b[0m\" 200 -\n"
     ]
    },
    {
     "name": "stdout",
     "output_type": "stream",
     "text": [
      "i am so mad at And\n",
      "             document  n_tokens  n_i\n",
      "0  i am so mad at And         6    1\n",
      "i am so mad at Andr\n",
      "i am so mad at Andre\n",
      "i am so mad at Andrew\n",
      "              document  n_tokens  n_i\n",
      "0  i am so mad at Andr         6    1               document  n_tokens  n_i\n",
      "0  i am so mad at Andre         6    1\n",
      "\n",
      "                document  n_tokens  n_i\n",
      "0  i am so mad at Andrew         6    1\n",
      "i am so mad at Andre\n"
     ]
    },
    {
     "name": "stderr",
     "output_type": "stream",
     "text": [
      "127.0.0.1 - - [11/May/2022 10:16:51] \"\u001b[37mPOST /_dash-update-component HTTP/1.1\u001b[0m\" 200 -\n",
      "127.0.0.1 - - [11/May/2022 10:16:51] \"\u001b[37mPOST /_dash-update-component HTTP/1.1\u001b[0m\" 200 -\n",
      "127.0.0.1 - - [11/May/2022 10:16:51] \"\u001b[37mPOST /_dash-update-component HTTP/1.1\u001b[0m\" 200 -\n",
      "127.0.0.1 - - [11/May/2022 10:16:51] \"\u001b[37mPOST /_dash-update-component HTTP/1.1\u001b[0m\" 200 -\n"
     ]
    },
    {
     "name": "stdout",
     "output_type": "stream",
     "text": [
      "               document  n_tokens  n_i\n",
      "0  i am so mad at Andre         6    1\n",
      "i am so mad at Andr\n",
      "i am so mad at And\n",
      "i am so mad at An\n",
      "i am so mad at A\n",
      "             document  n_tokens  n_i\n",
      "0  i am so mad at And         6    1\n",
      "i am so mad at \n",
      "            document  n_tokens  n_i\n",
      "0  i am so mad at An         6    1           document  n_tokens  n_i\n",
      "0  i am so mad at A         6    1i am so mad at\n",
      "\n",
      "\n",
      "              document  n_tokens  n_i\n",
      "0  i am so mad at Andr         6    1\n",
      "          document  n_tokens  n_i\n",
      "0  i am so mad at          5    1\n",
      "         document  n_tokens  n_i\n",
      "0  i am so mad at         5    1\n"
     ]
    },
    {
     "name": "stderr",
     "output_type": "stream",
     "text": [
      "127.0.0.1 - - [11/May/2022 10:16:52] \"\u001b[37mPOST /_dash-update-component HTTP/1.1\u001b[0m\" 200 -\n",
      "127.0.0.1 - - [11/May/2022 10:16:52] \"\u001b[37mPOST /_dash-update-component HTTP/1.1\u001b[0m\" 200 -\n",
      "127.0.0.1 - - [11/May/2022 10:16:52] \"\u001b[37mPOST /_dash-update-component HTTP/1.1\u001b[0m\" 200 -\n",
      "127.0.0.1 - - [11/May/2022 10:16:52] \"\u001b[37mPOST /_dash-update-component HTTP/1.1\u001b[0m\" 200 -\n",
      "127.0.0.1 - - [11/May/2022 10:16:52] \"\u001b[37mPOST /_dash-update-component HTTP/1.1\u001b[0m\" 200 -\n",
      "127.0.0.1 - - [11/May/2022 10:16:52] \"\u001b[37mPOST /_dash-update-component HTTP/1.1\u001b[0m\" 200 -\n"
     ]
    },
    {
     "name": "stdout",
     "output_type": "stream",
     "text": [
      "i am so mai am so mad i am so mad a\n",
      "\n",
      "\n",
      "i am so mi am so mad\n",
      "\n",
      "     document  n_tokens  n_i\n",
      "0  i am so ma         4    1\n",
      "      document  n_tokens  n_i\n",
      "0  i am so mad         4    1\n",
      "        document  n_tokens  n_i\n",
      "0  i am so mad a         5    1\n",
      "i am so "
     ]
    },
    {
     "name": "stderr",
     "output_type": "stream",
     "text": [
      "127.0.0.1 - - [11/May/2022 10:16:52] \"\u001b[37mPOST /_dash-update-component HTTP/1.1\u001b[0m\" 200 -\n",
      "127.0.0.1 - - [11/May/2022 10:16:52] \"\u001b[37mPOST /_dash-update-component HTTP/1.1\u001b[0m\" 200 -\n",
      "127.0.0.1 - - [11/May/2022 10:16:52] \"\u001b[37mPOST /_dash-update-component HTTP/1.1\u001b[0m\" 200 -\n",
      "127.0.0.1 - - [11/May/2022 10:16:52] \"\u001b[37mPOST /_dash-update-component HTTP/1.1\u001b[0m\" 200 -\n",
      "127.0.0.1 - - [11/May/2022 10:16:52] \"\u001b[37mPOST /_dash-update-component HTTP/1.1\u001b[0m\" 200 -\n",
      "127.0.0.1 - - [11/May/2022 10:16:52] \"\u001b[37mPOST /_dash-update-component HTTP/1.1\u001b[0m\" 200 -\n"
     ]
    },
    {
     "name": "stdout",
     "output_type": "stream",
     "text": [
      "\n",
      "       document  n_tokens  n_i\n",
      "0  i am so mad          4    1\n",
      "    document  n_tokens  n_i\n",
      "0  i am so m         4    1\n",
      "   document  n_tokens  n_i\n",
      "0  i am so          3    1\n",
      "i am soi am s\n",
      "\n",
      "i am \n",
      "i am\n",
      "i a  document  n_tokens  n_i\n",
      "0  i am so         3    1\n",
      "\n",
      "i   document  n_tokens  n_i\n",
      "0    i am          2    1\n",
      "  document  n_tokens  n_i\n",
      "0   i am s         3    1\n",
      "  document  n_tokens  n_i\n",
      "0     i am         2    1\n",
      "\n",
      "  document  n_tokens  n_i\n",
      "0       i          1    1\n"
     ]
    },
    {
     "name": "stderr",
     "output_type": "stream",
     "text": [
      "127.0.0.1 - - [11/May/2022 10:16:53] \"\u001b[37mPOST /_dash-update-component HTTP/1.1\u001b[0m\" 200 -\n",
      "127.0.0.1 - - [11/May/2022 10:16:53] \"\u001b[37mPOST /_dash-update-component HTTP/1.1\u001b[0m\" 200 -\n",
      "127.0.0.1 - - [11/May/2022 10:16:53] \"\u001b[37mPOST /_dash-update-component HTTP/1.1\u001b[0m\" 200 -\n",
      "127.0.0.1 - - [11/May/2022 10:16:53] \"\u001b[37mPOST /_dash-update-component HTTP/1.1\u001b[0m\" 200 -\n",
      "127.0.0.1 - - [11/May/2022 10:16:53] \"\u001b[37mPOST /_dash-update-component HTTP/1.1\u001b[0m\" 200 -\n",
      "127.0.0.1 - - [11/May/2022 10:16:53] \"\u001b[37mPOST /_dash-update-component HTTP/1.1\u001b[0m\" 200 -\n"
     ]
    },
    {
     "name": "stdout",
     "output_type": "stream",
     "text": [
      "  document  n_tokens  n_i\n",
      "0      i a         2    1\n",
      "i\n"
     ]
    },
    {
     "name": "stderr",
     "output_type": "stream",
     "text": [
      "127.0.0.1 - - [11/May/2022 10:16:53] \"\u001b[37mPOST /_dash-update-component HTTP/1.1\u001b[0m\" 200 -\n",
      "127.0.0.1 - - [11/May/2022 10:16:53] \"\u001b[37mPOST /_dash-update-component HTTP/1.1\u001b[0m\" 200 -\n"
     ]
    },
    {
     "name": "stdout",
     "output_type": "stream",
     "text": [
      "\n",
      "  document  n_tokens  n_i\n",
      "0                  0    0\n",
      "  document  n_tokens  n_i\n",
      "0        i         1    0\n"
     ]
    },
    {
     "name": "stderr",
     "output_type": "stream",
     "text": [
      "127.0.0.1 - - [11/May/2022 10:16:54] \"\u001b[37mPOST /_dash-update-component HTTP/1.1\u001b[0m\" 200 -\n"
     ]
    },
    {
     "name": "stdout",
     "output_type": "stream",
     "text": [
      "I\n",
      "  document  n_tokens  n_i\n",
      "0        I         1    0\n",
      "I \n",
      "  document  n_tokens  n_i\n",
      "0       I          1    1\n"
     ]
    },
    {
     "name": "stderr",
     "output_type": "stream",
     "text": [
      "127.0.0.1 - - [11/May/2022 10:16:55] \"\u001b[37mPOST /_dash-update-component HTTP/1.1\u001b[0m\" 200 -\n",
      "127.0.0.1 - - [11/May/2022 10:16:55] \"\u001b[37mPOST /_dash-update-component HTTP/1.1\u001b[0m\" 200 -\n",
      "127.0.0.1 - - [11/May/2022 10:16:55] \"\u001b[37mPOST /_dash-update-component HTTP/1.1\u001b[0m\" 200 -\n"
     ]
    },
    {
     "name": "stdout",
     "output_type": "stream",
     "text": [
      "I a\n",
      "  document  n_tokens  n_i\n",
      "0      I a         2    1\n",
      "I am\n",
      "  document  n_tokens  n_i\n",
      "0     I am         2    1\n"
     ]
    },
    {
     "name": "stderr",
     "output_type": "stream",
     "text": [
      "127.0.0.1 - - [11/May/2022 10:16:55] \"\u001b[37mPOST /_dash-update-component HTTP/1.1\u001b[0m\" 200 -\n",
      "127.0.0.1 - - [11/May/2022 10:16:55] \"\u001b[37mPOST /_dash-update-component HTTP/1.1\u001b[0m\" 200 -\n"
     ]
    },
    {
     "name": "stdout",
     "output_type": "stream",
     "text": [
      "I am \n",
      "  document  n_tokens  n_i\n",
      "0    I am          2    1\n",
      "I am s\n",
      "  document  n_tokens  n_i\n",
      "0   I am s         3    1\n"
     ]
    },
    {
     "name": "stderr",
     "output_type": "stream",
     "text": [
      "127.0.0.1 - - [11/May/2022 10:16:55] \"\u001b[37mPOST /_dash-update-component HTTP/1.1\u001b[0m\" 200 -\n",
      "127.0.0.1 - - [11/May/2022 10:16:55] \"\u001b[37mPOST /_dash-update-component HTTP/1.1\u001b[0m\" 200 -\n"
     ]
    },
    {
     "name": "stdout",
     "output_type": "stream",
     "text": [
      "I am so\n",
      "  document  n_tokens  n_i\n",
      "0  I am so         3    1\n",
      "I am so \n",
      "   document  n_tokens  n_i\n",
      "0  I am so          3    1\n",
      "I am so m\n"
     ]
    },
    {
     "name": "stderr",
     "output_type": "stream",
     "text": [
      "127.0.0.1 - - [11/May/2022 10:16:55] \"\u001b[37mPOST /_dash-update-component HTTP/1.1\u001b[0m\" 200 -\n",
      "127.0.0.1 - - [11/May/2022 10:16:55] \"\u001b[37mPOST /_dash-update-component HTTP/1.1\u001b[0m\" 200 -\n"
     ]
    },
    {
     "name": "stdout",
     "output_type": "stream",
     "text": [
      "    document  n_tokens  n_i\n",
      "0  I am so m         4    1\n",
      "I am so ma\n",
      "     document  n_tokens  n_i\n",
      "0  I am so ma         4    1\n",
      "I am so mad\n",
      "      document  n_tokens  n_i\n",
      "0  I am so mad         4    1"
     ]
    },
    {
     "name": "stderr",
     "output_type": "stream",
     "text": [
      "127.0.0.1 - - [11/May/2022 10:16:56] \"\u001b[37mPOST /_dash-update-component HTTP/1.1\u001b[0m\" 200 -\n",
      "127.0.0.1 - - [11/May/2022 10:16:56] \"\u001b[37mPOST /_dash-update-component HTTP/1.1\u001b[0m\" 200 -\n",
      "127.0.0.1 - - [11/May/2022 10:16:56] \"\u001b[37mPOST /_dash-update-component HTTP/1.1\u001b[0m\" 200 -\n"
     ]
    },
    {
     "name": "stdout",
     "output_type": "stream",
     "text": [
      "\n",
      "I am so mad \n",
      "       document  n_tokens  n_i\n",
      "0  I am so mad          4    1\n",
      "I am so mad a\n",
      "        document  n_tokens  n_i\n",
      "0  I am so mad a         5    1\n"
     ]
    },
    {
     "name": "stderr",
     "output_type": "stream",
     "text": [
      "127.0.0.1 - - [11/May/2022 10:16:56] \"\u001b[37mPOST /_dash-update-component HTTP/1.1\u001b[0m\" 200 -\n"
     ]
    },
    {
     "name": "stdout",
     "output_type": "stream",
     "text": [
      "I am so mad at\n",
      "         document  n_tokens  n_i\n",
      "0  I am so mad at         5    1\n",
      "I am so mad at \n",
      "          document  n_tokens  n_i\n",
      "0  I am so mad at          5    1\n"
     ]
    },
    {
     "name": "stderr",
     "output_type": "stream",
     "text": [
      "127.0.0.1 - - [11/May/2022 10:16:56] \"\u001b[37mPOST /_dash-update-component HTTP/1.1\u001b[0m\" 200 -\n",
      "127.0.0.1 - - [11/May/2022 10:16:56] \"\u001b[37mPOST /_dash-update-component HTTP/1.1\u001b[0m\" 200 -\n"
     ]
    },
    {
     "name": "stdout",
     "output_type": "stream",
     "text": [
      "I am so mad at a\n",
      "           document  n_tokens  n_i\n",
      "0  I am so mad at a         6    1\n",
      "I am so mad at an\n",
      "            document  n_tokens  n_i\n",
      "0  I am so mad at an         6    1\n"
     ]
    },
    {
     "name": "stderr",
     "output_type": "stream",
     "text": [
      "127.0.0.1 - - [11/May/2022 10:16:56] \"\u001b[37mPOST /_dash-update-component HTTP/1.1\u001b[0m\" 200 -\n",
      "127.0.0.1 - - [11/May/2022 10:16:57] \"\u001b[37mPOST /_dash-update-component HTTP/1.1\u001b[0m\" 200 -\n"
     ]
    },
    {
     "name": "stdout",
     "output_type": "stream",
     "text": [
      "I am so mad at and\n",
      "             document  n_tokens  n_i\n",
      "0  I am so mad at and         6    1\n"
     ]
    },
    {
     "name": "stderr",
     "output_type": "stream",
     "text": [
      "127.0.0.1 - - [11/May/2022 10:16:57] \"\u001b[37mPOST /_dash-update-component HTTP/1.1\u001b[0m\" 200 -\n",
      "127.0.0.1 - - [11/May/2022 10:16:57] \"\u001b[37mPOST /_dash-update-component HTTP/1.1\u001b[0m\" 200 -\n"
     ]
    },
    {
     "name": "stdout",
     "output_type": "stream",
     "text": [
      "I am so mad at andr\n",
      "              document  n_tokens  n_i\n",
      "0  I am so mad at andr         6    1\n",
      "I am so mad at andre\n",
      "I am so mad at andrew               document  n_tokens  n_i\n",
      "0  I am so mad at andre         6    1\n",
      "\n",
      "                document  n_tokens  n_i\n",
      "0  I am so mad at andrew         6    1\n"
     ]
    },
    {
     "name": "stderr",
     "output_type": "stream",
     "text": [
      "127.0.0.1 - - [11/May/2022 10:16:57] \"\u001b[37mPOST /_dash-update-component HTTP/1.1\u001b[0m\" 200 -\n",
      "127.0.0.1 - - [11/May/2022 10:16:59] \"\u001b[37mPOST /_dash-update-component HTTP/1.1\u001b[0m\" 200 -\n"
     ]
    },
    {
     "name": "stdout",
     "output_type": "stream",
     "text": [
      "I am so mad at andre\n",
      "               document  n_tokens  n_i\n",
      "0  I am so mad at andre         6    1\n",
      "I am so mad at andr\n",
      "I am so mad at and\n",
      "I am so mad at an\n",
      "I am so mad at a\n",
      "             document  n_tokens  n_i\n",
      "0  I am so mad at and         6    1I am so mad at "
     ]
    },
    {
     "name": "stderr",
     "output_type": "stream",
     "text": [
      "127.0.0.1 - - [11/May/2022 10:16:59] \"\u001b[37mPOST /_dash-update-component HTTP/1.1\u001b[0m\" 200 -\n",
      "127.0.0.1 - - [11/May/2022 10:16:59] \"\u001b[37mPOST /_dash-update-component HTTP/1.1\u001b[0m\" 200 -\n",
      "127.0.0.1 - - [11/May/2022 10:16:59] \"\u001b[37mPOST /_dash-update-component HTTP/1.1\u001b[0m\" 200 -\n",
      "127.0.0.1 - - [11/May/2022 10:16:59] \"\u001b[37mPOST /_dash-update-component HTTP/1.1\u001b[0m\" 200 -\n",
      "127.0.0.1 - - [11/May/2022 10:16:59] \"\u001b[37mPOST /_dash-update-component HTTP/1.1\u001b[0m\" 200 -\n",
      "127.0.0.1 - - [11/May/2022 10:16:59] \"\u001b[37mPOST /_dash-update-component HTTP/1.1\u001b[0m\" 200 -\n"
     ]
    },
    {
     "name": "stdout",
     "output_type": "stream",
     "text": [
      "\n",
      "\n",
      "              document  n_tokens  n_i\n",
      "0  I am so mad at andr         6    1\n",
      "I am so mad at\n",
      "           document  n_tokens  n_i\n",
      "0  I am so mad at a         6    1\n",
      "            document  n_tokens  n_i\n",
      "0  I am so mad at an         6    1\n",
      "          document  n_tokens  n_i\n",
      "0  I am so mad at          5    1\n",
      "         document  n_tokens  n_i\n",
      "0  I am so mad at         5    1\n",
      "I am so mad a\n",
      "I am so mad \n",
      "I am so mad\n",
      "I am so ma        document  n_tokens  n_i\n",
      "0  I am so mad a         5    1\n",
      "       document  n_tokens  n_i\n",
      "0  I am so mad          4    1\n",
      "\n",
      "I am so m"
     ]
    },
    {
     "name": "stderr",
     "output_type": "stream",
     "text": [
      "127.0.0.1 - - [11/May/2022 10:17:00] \"\u001b[37mPOST /_dash-update-component HTTP/1.1\u001b[0m\" 200 -\n",
      "127.0.0.1 - - [11/May/2022 10:17:00] \"\u001b[37mPOST /_dash-update-component HTTP/1.1\u001b[0m\" 200 -\n",
      "127.0.0.1 - - [11/May/2022 10:17:00] \"\u001b[37mPOST /_dash-update-component HTTP/1.1\u001b[0m\" 200 -\n",
      "127.0.0.1 - - [11/May/2022 10:17:00] \"\u001b[37mPOST /_dash-update-component HTTP/1.1\u001b[0m\" 200 -\n",
      "127.0.0.1 - - [11/May/2022 10:17:00] \"\u001b[37mPOST /_dash-update-component HTTP/1.1\u001b[0m\" 200 -\n",
      "127.0.0.1 - - [11/May/2022 10:17:00] \"\u001b[37mPOST /_dash-update-component HTTP/1.1\u001b[0m\" 200 -\n"
     ]
    },
    {
     "name": "stdout",
     "output_type": "stream",
     "text": [
      "      document  n_tokens  n_i\n",
      "0  I am so mad         4    1\n",
      "\n",
      "     document  n_tokens  n_i\n",
      "0  I am so ma         4    1I am so \n",
      "\n",
      "    document  n_tokens  n_i\n",
      "0  I am so m         4    1   document  n_tokens  n_i\n",
      "0  I am so          3    1\n",
      "\n"
     ]
    },
    {
     "name": "stderr",
     "output_type": "stream",
     "text": [
      "127.0.0.1 - - [11/May/2022 10:17:00] \"\u001b[37mPOST /_dash-update-component HTTP/1.1\u001b[0m\" 200 -\n",
      "127.0.0.1 - - [11/May/2022 10:17:00] \"\u001b[37mPOST /_dash-update-component HTTP/1.1\u001b[0m\" 200 -\n"
     ]
    },
    {
     "name": "stdout",
     "output_type": "stream",
     "text": [
      "I am so\n",
      "  document  n_tokens  n_i\n",
      "0  I am so         3    1\n",
      "I am s\n",
      "  document  n_tokens  n_i\n",
      "0   I am s         3    1\n"
     ]
    },
    {
     "name": "stderr",
     "output_type": "stream",
     "text": [
      "127.0.0.1 - - [11/May/2022 10:17:00] \"\u001b[37mPOST /_dash-update-component HTTP/1.1\u001b[0m\" 200 -\n",
      "127.0.0.1 - - [11/May/2022 10:17:00] \"\u001b[37mPOST /_dash-update-component HTTP/1.1\u001b[0m\" 200 -\n"
     ]
    },
    {
     "name": "stdout",
     "output_type": "stream",
     "text": [
      "I am \n",
      "  document  n_tokens  n_i\n",
      "0    I am          2    1\n",
      "I am\n",
      "  document  n_tokens  n_i\n",
      "0     I am         2    1\n"
     ]
    },
    {
     "name": "stderr",
     "output_type": "stream",
     "text": [
      "127.0.0.1 - - [11/May/2022 10:17:01] \"\u001b[37mPOST /_dash-update-component HTTP/1.1\u001b[0m\" 200 -\n",
      "127.0.0.1 - - [11/May/2022 10:17:01] \"\u001b[37mPOST /_dash-update-component HTTP/1.1\u001b[0m\" 200 -\n"
     ]
    },
    {
     "name": "stdout",
     "output_type": "stream",
     "text": [
      "I a\n",
      "  document  n_tokens  n_i\n",
      "0      I a         2    1\n",
      "I \n",
      "  document  n_tokens  n_i\n",
      "0       I          1    1\n"
     ]
    },
    {
     "name": "stderr",
     "output_type": "stream",
     "text": [
      "127.0.0.1 - - [11/May/2022 10:17:01] \"\u001b[37mPOST /_dash-update-component HTTP/1.1\u001b[0m\" 200 -\n"
     ]
    },
    {
     "name": "stdout",
     "output_type": "stream",
     "text": [
      "I\n",
      "  document  n_tokens  n_i\n",
      "0        I         1    0\n",
      "\n",
      "  document  n_tokens  n_i\n",
      "0                  0    0\n"
     ]
    },
    {
     "name": "stderr",
     "output_type": "stream",
     "text": [
      "127.0.0.1 - - [11/May/2022 10:17:01] \"\u001b[37mPOST /_dash-update-component HTTP/1.1\u001b[0m\" 200 -\n",
      "127.0.0.1 - - [11/May/2022 10:17:03] \"\u001b[37mPOST /_dash-update-component HTTP/1.1\u001b[0m\" 200 -\n"
     ]
    },
    {
     "name": "stdout",
     "output_type": "stream",
     "text": [
      "A\n",
      "  document  n_tokens  n_i\n",
      "0        A         1    0\n",
      "An\n",
      "  document  n_tokens  n_i\n",
      "0       An         1    0\n"
     ]
    },
    {
     "name": "stderr",
     "output_type": "stream",
     "text": [
      "127.0.0.1 - - [11/May/2022 10:17:03] \"\u001b[37mPOST /_dash-update-component HTTP/1.1\u001b[0m\" 200 -\n",
      "127.0.0.1 - - [11/May/2022 10:17:03] \"\u001b[37mPOST /_dash-update-component HTTP/1.1\u001b[0m\" 200 -\n"
     ]
    },
    {
     "name": "stdout",
     "output_type": "stream",
     "text": [
      "And\n",
      "  document  n_tokens  n_i\n",
      "0      And         1    0\n",
      "Andr\n",
      "Andre\n",
      "  document  n_tokens  n_i\n",
      "0    Andre         1    0\n",
      "  document  n_tokens  n_i\n",
      "0     Andr         1    0\n"
     ]
    },
    {
     "name": "stderr",
     "output_type": "stream",
     "text": [
      "127.0.0.1 - - [11/May/2022 10:17:04] \"\u001b[37mPOST /_dash-update-component HTTP/1.1\u001b[0m\" 200 -\n",
      "127.0.0.1 - - [11/May/2022 10:17:04] \"\u001b[37mPOST /_dash-update-component HTTP/1.1\u001b[0m\" 200 -\n",
      "127.0.0.1 - - [11/May/2022 10:17:04] \"\u001b[37mPOST /_dash-update-component HTTP/1.1\u001b[0m\" 200 -\n"
     ]
    },
    {
     "name": "stdout",
     "output_type": "stream",
     "text": [
      "Andrew\n",
      "  document  n_tokens  n_i\n",
      "0   Andrew         1    0\n"
     ]
    },
    {
     "name": "stderr",
     "output_type": "stream",
     "text": [
      "127.0.0.1 - - [11/May/2022 10:17:04] \"\u001b[37mPOST /_dash-update-component HTTP/1.1\u001b[0m\" 200 -\n"
     ]
    },
    {
     "name": "stdout",
     "output_type": "stream",
     "text": [
      "Andrew \n",
      "  document  n_tokens  n_i\n",
      "0  Andrew          1    0\n"
     ]
    },
    {
     "name": "stderr",
     "output_type": "stream",
     "text": [
      "127.0.0.1 - - [11/May/2022 10:17:05] \"\u001b[37mPOST /_dash-update-component HTTP/1.1\u001b[0m\" 200 -\n",
      "127.0.0.1 - - [11/May/2022 10:17:05] \"\u001b[37mPOST /_dash-update-component HTTP/1.1\u001b[0m\" 200 -\n"
     ]
    },
    {
     "name": "stdout",
     "output_type": "stream",
     "text": [
      "Andrew m\n",
      "   document  n_tokens  n_i\n",
      "0  Andrew m         2    0\n",
      "Andrew ma\n",
      "    document  n_tokens  n_i\n",
      "0  Andrew ma         2    0\n"
     ]
    },
    {
     "name": "stderr",
     "output_type": "stream",
     "text": [
      "127.0.0.1 - - [11/May/2022 10:17:05] \"\u001b[37mPOST /_dash-update-component HTTP/1.1\u001b[0m\" 200 -\n",
      "127.0.0.1 - - [11/May/2022 10:17:05] \"\u001b[37mPOST /_dash-update-component HTTP/1.1\u001b[0m\" 200 -\n"
     ]
    },
    {
     "name": "stdout",
     "output_type": "stream",
     "text": [
      "Andrew mad\n",
      "     document  n_tokens  n_i\n",
      "0  Andrew mad         2    0\n",
      "Andrew made\n",
      "      document  n_tokens  n_i\n",
      "0  Andrew made         2    0\n"
     ]
    },
    {
     "name": "stderr",
     "output_type": "stream",
     "text": [
      "127.0.0.1 - - [11/May/2022 10:17:05] \"\u001b[37mPOST /_dash-update-component HTTP/1.1\u001b[0m\" 200 -\n"
     ]
    },
    {
     "name": "stdout",
     "output_type": "stream",
     "text": [
      "Andrew made \n",
      "       document  n_tokens  n_i\n",
      "0  Andrew made          2    0\n",
      "Andrew made m\n",
      "        document  n_tokens  n_i\n",
      "0  Andrew made m         3    0"
     ]
    },
    {
     "name": "stderr",
     "output_type": "stream",
     "text": [
      "127.0.0.1 - - [11/May/2022 10:17:05] \"\u001b[37mPOST /_dash-update-component HTTP/1.1\u001b[0m\" 200 -\n",
      "127.0.0.1 - - [11/May/2022 10:17:05] \"\u001b[37mPOST /_dash-update-component HTTP/1.1\u001b[0m\" 200 -\n"
     ]
    },
    {
     "name": "stdout",
     "output_type": "stream",
     "text": [
      "\n",
      "Andrew made me\n",
      "         document  n_tokens  n_i\n",
      "0  Andrew made me         3    0\n",
      "Andrew made me \n",
      "          document  n_tokens  n_i\n",
      "0  Andrew made me          3    0"
     ]
    },
    {
     "name": "stderr",
     "output_type": "stream",
     "text": [
      "127.0.0.1 - - [11/May/2022 10:17:06] \"\u001b[37mPOST /_dash-update-component HTTP/1.1\u001b[0m\" 200 -\n"
     ]
    },
    {
     "name": "stdout",
     "output_type": "stream",
     "text": [
      "\n"
     ]
    },
    {
     "name": "stderr",
     "output_type": "stream",
     "text": [
      "127.0.0.1 - - [11/May/2022 10:17:06] \"\u001b[37mPOST /_dash-update-component HTTP/1.1\u001b[0m\" 200 -\n"
     ]
    },
    {
     "name": "stdout",
     "output_type": "stream",
     "text": [
      "Andrew made me s\n",
      "           document  n_tokens  n_i\n",
      "0  Andrew made me s         4    0\n"
     ]
    },
    {
     "name": "stderr",
     "output_type": "stream",
     "text": [
      "127.0.0.1 - - [11/May/2022 10:17:06] \"\u001b[37mPOST /_dash-update-component HTTP/1.1\u001b[0m\" 200 -\n"
     ]
    },
    {
     "name": "stdout",
     "output_type": "stream",
     "text": [
      "Andrew made me so\n",
      "            document  n_tokens  n_i\n",
      "0  Andrew made me so         4    0\n",
      "Andrew made me so \n",
      "             document  n_tokens  n_i\n",
      "0  Andrew made me so          4    0"
     ]
    },
    {
     "name": "stderr",
     "output_type": "stream",
     "text": [
      "127.0.0.1 - - [11/May/2022 10:17:06] \"\u001b[37mPOST /_dash-update-component HTTP/1.1\u001b[0m\" 200 -\n",
      "127.0.0.1 - - [11/May/2022 10:17:06] \"\u001b[37mPOST /_dash-update-component HTTP/1.1\u001b[0m\" 200 -\n"
     ]
    },
    {
     "name": "stdout",
     "output_type": "stream",
     "text": [
      "\n",
      "Andrew made me so e\n",
      "              document  n_tokens  n_i\n",
      "0  Andrew made me so e         5    0\n"
     ]
    },
    {
     "name": "stderr",
     "output_type": "stream",
     "text": [
      "127.0.0.1 - - [11/May/2022 10:17:07] \"\u001b[37mPOST /_dash-update-component HTTP/1.1\u001b[0m\" 200 -\n"
     ]
    },
    {
     "name": "stdout",
     "output_type": "stream",
     "text": [
      "Andrew made me so ex\n",
      "               document  n_tokens  n_i\n",
      "0  Andrew made me so ex         5    0\n",
      "Andrew made me so exc\n"
     ]
    },
    {
     "name": "stderr",
     "output_type": "stream",
     "text": [
      "127.0.0.1 - - [11/May/2022 10:17:07] \"\u001b[37mPOST /_dash-update-component HTTP/1.1\u001b[0m\" 200 -\n"
     ]
    },
    {
     "name": "stdout",
     "output_type": "stream",
     "text": [
      "                document  n_tokens  n_i\n",
      "0  Andrew made me so exc         5    0\n",
      "Andrew made me so exci\n"
     ]
    },
    {
     "name": "stderr",
     "output_type": "stream",
     "text": [
      "127.0.0.1 - - [11/May/2022 10:17:07] \"\u001b[37mPOST /_dash-update-component HTTP/1.1\u001b[0m\" 200 -\n",
      "127.0.0.1 - - [11/May/2022 10:17:07] \"\u001b[37mPOST /_dash-update-component HTTP/1.1\u001b[0m\" 200 -\n",
      "127.0.0.1 - - [11/May/2022 10:17:07] \"\u001b[37mPOST /_dash-update-component HTTP/1.1\u001b[0m\" 200 -\n"
     ]
    },
    {
     "name": "stdout",
     "output_type": "stream",
     "text": [
      "Andrew made me so excitAndrew made me so excite\n",
      "\n",
      "                 document  n_tokens  n_i\n",
      "0  Andrew made me so exci         5    0\n",
      "                   document  n_tokens  n_i\n",
      "0  Andrew made me so excite         5    0                  document  n_tokens  n_i\n",
      "0  Andrew made me so excit         5    0\n",
      "\n",
      "Andrew made me so excited"
     ]
    },
    {
     "name": "stderr",
     "output_type": "stream",
     "text": [
      "127.0.0.1 - - [11/May/2022 10:17:08] \"\u001b[37mPOST /_dash-update-component HTTP/1.1\u001b[0m\" 200 -\n"
     ]
    },
    {
     "name": "stdout",
     "output_type": "stream",
     "text": [
      "\n",
      "                    document  n_tokens  n_i\n",
      "0  Andrew made me so excited         5    0\n",
      "Andrew made me so excited \n",
      "                     document  n_tokens  n_i\n",
      "0  Andrew made me so excited          5    0\n",
      "Andrew made me so excited e"
     ]
    },
    {
     "name": "stderr",
     "output_type": "stream",
     "text": [
      "127.0.0.1 - - [11/May/2022 10:17:08] \"\u001b[37mPOST /_dash-update-component HTTP/1.1\u001b[0m\" 200 -\n",
      "127.0.0.1 - - [11/May/2022 10:17:08] \"\u001b[37mPOST /_dash-update-component HTTP/1.1\u001b[0m\" 200 -\n"
     ]
    },
    {
     "name": "stdout",
     "output_type": "stream",
     "text": [
      "\n",
      "Andrew made me so excited ea                      document  n_tokens  n_i\n",
      "0  Andrew made me so excited e         6    0\n",
      "\n",
      "Andrew made me so excited ear\n",
      "                       document  n_tokens  n_i\n",
      "0  Andrew made me so excited ea         6    0\n",
      "                        document  n_tokens  n_i\n",
      "0  Andrew made me so excited ear         6    0\n",
      "Andrew made me so excited earl"
     ]
    },
    {
     "name": "stderr",
     "output_type": "stream",
     "text": [
      "127.0.0.1 - - [11/May/2022 10:17:08] \"\u001b[37mPOST /_dash-update-component HTTP/1.1\u001b[0m\" 200 -\n"
     ]
    },
    {
     "name": "stdout",
     "output_type": "stream",
     "text": [
      "\n",
      "                         document  n_tokens  n_i\n",
      "0  Andrew made me so excited earl         6    0Andrew made me so excited earli\n",
      "Andrew made me so excited earlie\n",
      "\n",
      "Andrew made me so excited earlier\n",
      "                           document  n_tokens  n_i\n",
      "0  Andrew made me so excited earlie         6    0\n",
      "                          document  n_tokens  n_i\n",
      "0  Andrew made me so excited earli         6    0\n",
      "                            document  n_tokens  n_i\n",
      "0  Andrew made me so excited earlier         6    0\n"
     ]
    },
    {
     "name": "stderr",
     "output_type": "stream",
     "text": [
      "127.0.0.1 - - [11/May/2022 10:17:08] \"\u001b[37mPOST /_dash-update-component HTTP/1.1\u001b[0m\" 200 -\n",
      "127.0.0.1 - - [11/May/2022 10:17:08] \"\u001b[37mPOST /_dash-update-component HTTP/1.1\u001b[0m\" 200 -\n",
      "127.0.0.1 - - [11/May/2022 10:17:08] \"\u001b[37mPOST /_dash-update-component HTTP/1.1\u001b[0m\" 200 -\n",
      "127.0.0.1 - - [11/May/2022 10:17:08] \"\u001b[37mPOST /_dash-update-component HTTP/1.1\u001b[0m\" 200 -\n",
      "127.0.0.1 - - [11/May/2022 10:17:08] \"\u001b[37mPOST /_dash-update-component HTTP/1.1\u001b[0m\" 200 -\n",
      "127.0.0.1 - - [11/May/2022 10:17:22] \"\u001b[37mPOST /_dash-update-component HTTP/1.1\u001b[0m\" 200 -\n"
     ]
    },
    {
     "name": "stdout",
     "output_type": "stream",
     "text": [
      "S\n",
      "  document  n_tokens  n_i\n",
      "0        S         1    0\n",
      "Sa\n",
      "  document  n_tokens  n_i\n",
      "0       Sa         1    0\n"
     ]
    },
    {
     "name": "stderr",
     "output_type": "stream",
     "text": [
      "127.0.0.1 - - [11/May/2022 10:17:22] \"\u001b[37mPOST /_dash-update-component HTTP/1.1\u001b[0m\" 200 -\n",
      "127.0.0.1 - - [11/May/2022 10:17:23] \"\u001b[37mPOST /_dash-update-component HTTP/1.1\u001b[0m\" 200 -\n",
      "127.0.0.1 - - [11/May/2022 10:17:23] \"\u001b[37mPOST /_dash-update-component HTTP/1.1\u001b[0m\" 200 -\n"
     ]
    },
    {
     "name": "stdout",
     "output_type": "stream",
     "text": [
      "Sar\n",
      "  document  n_tokens  n_i\n",
      "0      Sar         1    0\n",
      "Sara\n",
      "  document  n_tokens  n_i\n",
      "0     Sara         1    0\n",
      "Sarah\n",
      "  document  n_tokens  n_i\n",
      "0    Sarah         1    0"
     ]
    },
    {
     "name": "stderr",
     "output_type": "stream",
     "text": [
      "127.0.0.1 - - [11/May/2022 10:17:23] \"\u001b[37mPOST /_dash-update-component HTTP/1.1\u001b[0m\" 200 -\n",
      "127.0.0.1 - - [11/May/2022 10:17:23] \"\u001b[37mPOST /_dash-update-component HTTP/1.1\u001b[0m\" 200 -\n"
     ]
    },
    {
     "name": "stdout",
     "output_type": "stream",
     "text": [
      "\n",
      "Sarah \n",
      "  document  n_tokens  n_i\n",
      "0   Sarah          1    0\n"
     ]
    },
    {
     "name": "stderr",
     "output_type": "stream",
     "text": [
      "127.0.0.1 - - [11/May/2022 10:17:23] \"\u001b[37mPOST /_dash-update-component HTTP/1.1\u001b[0m\" 200 -\n"
     ]
    },
    {
     "name": "stdout",
     "output_type": "stream",
     "text": [
      "Sarah s\n",
      "  document  n_tokens  n_i\n",
      "0  Sarah s         2    0\n"
     ]
    },
    {
     "name": "stderr",
     "output_type": "stream",
     "text": [
      "127.0.0.1 - - [11/May/2022 10:17:24] \"\u001b[37mPOST /_dash-update-component HTTP/1.1\u001b[0m\" 200 -\n"
     ]
    },
    {
     "name": "stdout",
     "output_type": "stream",
     "text": [
      "Sarah \n",
      "  document  n_tokens  n_i\n",
      "0   Sarah          1    0\n"
     ]
    },
    {
     "name": "stderr",
     "output_type": "stream",
     "text": [
      "127.0.0.1 - - [11/May/2022 10:17:24] \"\u001b[37mPOST /_dash-update-component HTTP/1.1\u001b[0m\" 200 -\n"
     ]
    },
    {
     "name": "stdout",
     "output_type": "stream",
     "text": [
      "Sarah w\n",
      "  document  n_tokens  n_i\n",
      "0  Sarah w         2    0\n",
      "Sarah wla\n",
      "    document  n_tokens  n_i\n",
      "0  Sarah wla         2    0\n"
     ]
    },
    {
     "name": "stderr",
     "output_type": "stream",
     "text": [
      "127.0.0.1 - - [11/May/2022 10:17:24] \"\u001b[37mPOST /_dash-update-component HTTP/1.1\u001b[0m\" 200 -\n",
      "127.0.0.1 - - [11/May/2022 10:17:24] \"\u001b[37mPOST /_dash-update-component HTTP/1.1\u001b[0m\" 200 -\n",
      "127.0.0.1 - - [11/May/2022 10:17:24] \"\u001b[37mPOST /_dash-update-component HTTP/1.1\u001b[0m\" 200 -\n"
     ]
    },
    {
     "name": "stdout",
     "output_type": "stream",
     "text": [
      "Sarah wlak\n",
      "     document  n_tokens  n_i\n",
      "0  Sarah wlak         2    0\n",
      "Sarah wlake\n",
      "      document  n_tokens  n_i\n",
      "0  Sarah wlake         2    0\n"
     ]
    },
    {
     "name": "stderr",
     "output_type": "stream",
     "text": [
      "127.0.0.1 - - [11/May/2022 10:17:24] \"\u001b[37mPOST /_dash-update-component HTTP/1.1\u001b[0m\" 200 -\n"
     ]
    },
    {
     "name": "stdout",
     "output_type": "stream",
     "text": [
      "Sarah wlaked\n",
      "       document  n_tokens  n_i\n",
      "0  Sarah wlaked         2    0\n",
      "Sarah wlake\n",
      "      document  n_tokens  n_i\n",
      "0  Sarah wlake         2    0\n"
     ]
    },
    {
     "name": "stderr",
     "output_type": "stream",
     "text": [
      "127.0.0.1 - - [11/May/2022 10:17:25] \"\u001b[37mPOST /_dash-update-component HTTP/1.1\u001b[0m\" 200 -\n",
      "127.0.0.1 - - [11/May/2022 10:17:25] \"\u001b[37mPOST /_dash-update-component HTTP/1.1\u001b[0m\" 200 -\n",
      "127.0.0.1 - - [11/May/2022 10:17:25] \"\u001b[37mPOST /_dash-update-component HTTP/1.1\u001b[0m\" 200 -\n"
     ]
    },
    {
     "name": "stdout",
     "output_type": "stream",
     "text": [
      "Sarah wlak\n",
      "     document  n_tokens  n_i\n",
      "0  Sarah wlak         2    0\n",
      "Sarah wla\n",
      "    document  n_tokens  n_i\n",
      "0  Sarah wla         2    0\n"
     ]
    },
    {
     "name": "stderr",
     "output_type": "stream",
     "text": [
      "127.0.0.1 - - [11/May/2022 10:17:25] \"\u001b[37mPOST /_dash-update-component HTTP/1.1\u001b[0m\" 200 -\n",
      "127.0.0.1 - - [11/May/2022 10:17:25] \"\u001b[37mPOST /_dash-update-component HTTP/1.1\u001b[0m\" 200 -\n"
     ]
    },
    {
     "name": "stdout",
     "output_type": "stream",
     "text": [
      "Sarah wl\n",
      "   document  n_tokens  n_i\n",
      "0  Sarah wl         2    0\n",
      "Sarah w\n",
      "  document  n_tokens  n_i\n",
      "0  Sarah w         2    0\n"
     ]
    },
    {
     "name": "stderr",
     "output_type": "stream",
     "text": [
      "127.0.0.1 - - [11/May/2022 10:17:25] \"\u001b[37mPOST /_dash-update-component HTTP/1.1\u001b[0m\" 200 -\n",
      "127.0.0.1 - - [11/May/2022 10:17:26] \"\u001b[37mPOST /_dash-update-component HTTP/1.1\u001b[0m\" 200 -\n"
     ]
    },
    {
     "name": "stdout",
     "output_type": "stream",
     "text": [
      "Sarah wa\n",
      "   document  n_tokens  n_i\n",
      "0  Sarah wa         2    0\n",
      "Sarah wal\n",
      "    document  n_tokens  n_i\n",
      "0  Sarah wal         2    0\n",
      "Sarah walk"
     ]
    },
    {
     "name": "stderr",
     "output_type": "stream",
     "text": [
      "127.0.0.1 - - [11/May/2022 10:17:26] \"\u001b[37mPOST /_dash-update-component HTTP/1.1\u001b[0m\" 200 -\n",
      "127.0.0.1 - - [11/May/2022 10:17:26] \"\u001b[37mPOST /_dash-update-component HTTP/1.1\u001b[0m\" 200 -\n"
     ]
    },
    {
     "name": "stdout",
     "output_type": "stream",
     "text": [
      "\n",
      "     document  n_tokens  n_i\n",
      "0  Sarah walk         2    0\n",
      "Sarah walke\n",
      "      document  n_tokens  n_i\n",
      "0  Sarah walke         2    0\n"
     ]
    },
    {
     "name": "stderr",
     "output_type": "stream",
     "text": [
      "127.0.0.1 - - [11/May/2022 10:17:26] \"\u001b[37mPOST /_dash-update-component HTTP/1.1\u001b[0m\" 200 -\n",
      "127.0.0.1 - - [11/May/2022 10:17:26] \"\u001b[37mPOST /_dash-update-component HTTP/1.1\u001b[0m\" 200 -\n"
     ]
    },
    {
     "name": "stdout",
     "output_type": "stream",
     "text": [
      "Sarah walked\n",
      "       document  n_tokens  n_i\n",
      "0  Sarah walked         2    0\n",
      "Sarah walked \n",
      "        document  n_tokens  n_i\n",
      "0  Sarah walked          2    0\n",
      "Sarah walked i\n",
      "         document  n_tokens  n_i\n",
      "0  Sarah walked i         3    0"
     ]
    },
    {
     "name": "stderr",
     "output_type": "stream",
     "text": [
      "127.0.0.1 - - [11/May/2022 10:17:26] \"\u001b[37mPOST /_dash-update-component HTTP/1.1\u001b[0m\" 200 -\n",
      "127.0.0.1 - - [11/May/2022 10:17:26] \"\u001b[37mPOST /_dash-update-component HTTP/1.1\u001b[0m\" 200 -\n"
     ]
    },
    {
     "name": "stdout",
     "output_type": "stream",
     "text": [
      "\n",
      "Sarah walked in\n",
      "Sarah walked in           document  n_tokens  n_i\n",
      "0  Sarah walked in         3    0\n",
      "\n",
      "           document  n_tokens  n_i\n",
      "0  Sarah walked in          3    0\n"
     ]
    },
    {
     "name": "stderr",
     "output_type": "stream",
     "text": [
      "127.0.0.1 - - [11/May/2022 10:17:26] \"\u001b[37mPOST /_dash-update-component HTTP/1.1\u001b[0m\" 200 -\n",
      "127.0.0.1 - - [11/May/2022 10:17:26] \"\u001b[37mPOST /_dash-update-component HTTP/1.1\u001b[0m\" 200 -\n"
     ]
    },
    {
     "name": "stdout",
     "output_type": "stream",
     "text": [
      "Sarah walked in a\n",
      "            document  n_tokens  n_i\n",
      "0  Sarah walked in a         4    0\n",
      "Sarah walked in an\n",
      "             document  n_tokens  n_i\n",
      "0  Sarah walked in an         4    0Sarah walked in and\n"
     ]
    },
    {
     "name": "stderr",
     "output_type": "stream",
     "text": [
      "127.0.0.1 - - [11/May/2022 10:17:27] \"\u001b[37mPOST /_dash-update-component HTTP/1.1\u001b[0m\" 200 -\n",
      "127.0.0.1 - - [11/May/2022 10:17:27] \"\u001b[37mPOST /_dash-update-component HTTP/1.1\u001b[0m\" 200 -\n",
      "127.0.0.1 - - [11/May/2022 10:17:27] \"\u001b[37mPOST /_dash-update-component HTTP/1.1\u001b[0m\" 200 -\n"
     ]
    },
    {
     "name": "stdout",
     "output_type": "stream",
     "text": [
      "\n",
      "              document  n_tokens  n_i\n",
      "0  Sarah walked in and         4    0\n",
      "Sarah walked in and \n",
      "               document  n_tokens  n_i\n",
      "0  Sarah walked in and          4    0\n"
     ]
    },
    {
     "name": "stderr",
     "output_type": "stream",
     "text": [
      "127.0.0.1 - - [11/May/2022 10:17:27] \"\u001b[37mPOST /_dash-update-component HTTP/1.1\u001b[0m\" 200 -\n",
      "127.0.0.1 - - [11/May/2022 10:17:27] \"\u001b[37mPOST /_dash-update-component HTTP/1.1\u001b[0m\" 200 -\n"
     ]
    },
    {
     "name": "stdout",
     "output_type": "stream",
     "text": [
      "Sarah walked in and I\n",
      "                document  n_tokens  n_i\n",
      "0  Sarah walked in and I         5    0\n",
      "Sarah walked in and I \n",
      "                 document  n_tokens  n_i\n",
      "0  Sarah walked in and I          5    1\n",
      "Sarah walked in and I d"
     ]
    },
    {
     "name": "stderr",
     "output_type": "stream",
     "text": [
      "127.0.0.1 - - [11/May/2022 10:17:27] \"\u001b[37mPOST /_dash-update-component HTTP/1.1\u001b[0m\" 200 -\n"
     ]
    },
    {
     "name": "stdout",
     "output_type": "stream",
     "text": [
      "\n",
      "                  document  n_tokens  n_i\n",
      "0  Sarah walked in and I d         6    1\n",
      "Sarah walked in and I di\n"
     ]
    },
    {
     "name": "stderr",
     "output_type": "stream",
     "text": [
      "127.0.0.1 - - [11/May/2022 10:17:27] \"\u001b[37mPOST /_dash-update-component HTTP/1.1\u001b[0m\" 200 -\n",
      "127.0.0.1 - - [11/May/2022 10:17:27] \"\u001b[37mPOST /_dash-update-component HTTP/1.1\u001b[0m\" 200 -\n",
      "127.0.0.1 - - [11/May/2022 10:17:28] \"\u001b[37mPOST /_dash-update-component HTTP/1.1\u001b[0m\" 200 -\n"
     ]
    },
    {
     "name": "stdout",
     "output_type": "stream",
     "text": [
      "Sarah walked in and I did\n",
      "                   document  n_tokens  n_i\n",
      "0  Sarah walked in and I di         6    1\n",
      "                    document  n_tokens  n_i\n",
      "0  Sarah walked in and I did         6    1\n",
      "Sarah walked in and I did \n",
      "                     document  n_tokens  n_i\n",
      "0  Sarah walked in and I did          6    1\n",
      "Sarah walked in and I did n\n",
      "                      document  n_tokens  n_i\n",
      "0  Sarah walked in and I did n         7    1Sarah walked in and I did no\n",
      "\n",
      "Sarah walked in and I did not\n",
      "Sarah walked in and I did not \n"
     ]
    },
    {
     "name": "stderr",
     "output_type": "stream",
     "text": [
      "127.0.0.1 - - [11/May/2022 10:17:28] \"\u001b[37mPOST /_dash-update-component HTTP/1.1\u001b[0m\" 200 -\n",
      "127.0.0.1 - - [11/May/2022 10:17:28] \"\u001b[37mPOST /_dash-update-component HTTP/1.1\u001b[0m\" 200 -\n",
      "127.0.0.1 - - [11/May/2022 10:17:28] \"\u001b[37mPOST /_dash-update-component HTTP/1.1\u001b[0m\" 200 -\n",
      "127.0.0.1 - - [11/May/2022 10:17:28] \"\u001b[37mPOST /_dash-update-component HTTP/1.1\u001b[0m\" 200 -\n",
      "127.0.0.1 - - [11/May/2022 10:17:28] \"\u001b[37mPOST /_dash-update-component HTTP/1.1\u001b[0m\" 200 -\n"
     ]
    },
    {
     "name": "stdout",
     "output_type": "stream",
     "text": [
      "                       document  n_tokens  n_i\n",
      "0  Sarah walked in and I did no         7    1\n",
      "                        document  n_tokens  n_i\n",
      "0  Sarah walked in and I did not         7    1\n",
      "Sarah walked in and I did not e\n",
      "                         document  n_tokens  n_i\n",
      "0  Sarah walked in and I did not          7    1\n",
      "                          document  n_tokens  n_i\n",
      "0  Sarah walked in and I did not e         8    1\n",
      "Sarah walked in and I did not ex\n",
      "                           document  n_tokens  n_i\n",
      "0  Sarah walked in and I did not ex         8    1\n",
      "Sarah walked in and I did not exp\n",
      "                            document  n_tokens  n_i\n",
      "0  Sarah walked in and I did not exp         8    1"
     ]
    },
    {
     "name": "stderr",
     "output_type": "stream",
     "text": [
      "127.0.0.1 - - [11/May/2022 10:17:28] \"\u001b[37mPOST /_dash-update-component HTTP/1.1\u001b[0m\" 200 -\n",
      "127.0.0.1 - - [11/May/2022 10:17:28] \"\u001b[37mPOST /_dash-update-component HTTP/1.1\u001b[0m\" 200 -\n",
      "127.0.0.1 - - [11/May/2022 10:17:28] \"\u001b[37mPOST /_dash-update-component HTTP/1.1\u001b[0m\" 200 -\n"
     ]
    },
    {
     "name": "stdout",
     "output_type": "stream",
     "text": [
      "\n",
      "Sarah walked in and I did not expe\n",
      "                             document  n_tokens  n_i\n",
      "0  Sarah walked in and I did not expe         8    1\n"
     ]
    },
    {
     "name": "stderr",
     "output_type": "stream",
     "text": [
      "127.0.0.1 - - [11/May/2022 10:17:29] \"\u001b[37mPOST /_dash-update-component HTTP/1.1\u001b[0m\" 200 -\n"
     ]
    },
    {
     "name": "stdout",
     "output_type": "stream",
     "text": [
      "Sarah walked in and I did not expec\n",
      "                              document  n_tokens  n_i\n",
      "0  Sarah walked in and I did not expec         8    1\n"
     ]
    },
    {
     "name": "stderr",
     "output_type": "stream",
     "text": [
      "127.0.0.1 - - [11/May/2022 10:17:29] \"\u001b[37mPOST /_dash-update-component HTTP/1.1\u001b[0m\" 200 -\n",
      "127.0.0.1 - - [11/May/2022 10:17:29] \"\u001b[37mPOST /_dash-update-component HTTP/1.1\u001b[0m\" 200 -\n"
     ]
    },
    {
     "name": "stdout",
     "output_type": "stream",
     "text": [
      "Sarah walked in and I did not expect\n",
      "                               document  n_tokens  n_i\n",
      "0  Sarah walked in and I did not expect         8    1\n",
      "Sarah walked in and I did not expect \n",
      "                                document  n_tokens  n_i\n",
      "0  Sarah walked in and I did not expect          8    1\n"
     ]
    },
    {
     "name": "stderr",
     "output_type": "stream",
     "text": [
      "127.0.0.1 - - [11/May/2022 10:17:29] \"\u001b[37mPOST /_dash-update-component HTTP/1.1\u001b[0m\" 200 -\n"
     ]
    },
    {
     "name": "stdout",
     "output_type": "stream",
     "text": [
      "Sarah walked in and I did not expect t\n",
      "                                 document  n_tokens  n_i\n",
      "0  Sarah walked in and I did not expect t         9    1\n"
     ]
    },
    {
     "name": "stderr",
     "output_type": "stream",
     "text": [
      "127.0.0.1 - - [11/May/2022 10:17:29] \"\u001b[37mPOST /_dash-update-component HTTP/1.1\u001b[0m\" 200 -\n",
      "127.0.0.1 - - [11/May/2022 10:17:29] \"\u001b[37mPOST /_dash-update-component HTTP/1.1\u001b[0m\" 200 -\n"
     ]
    },
    {
     "name": "stdout",
     "output_type": "stream",
     "text": [
      "Sarah walked in and I did not expect ti\n",
      "                                  document  n_tokens  n_i\n",
      "0  Sarah walked in and I did not expect ti         9    1\n",
      "Sarah walked in and I did not expect t\n",
      "                                 document  n_tokens  n_i\n",
      "0  Sarah walked in and I did not expect t         9    1\n"
     ]
    },
    {
     "name": "stderr",
     "output_type": "stream",
     "text": [
      "127.0.0.1 - - [11/May/2022 10:17:30] \"\u001b[37mPOST /_dash-update-component HTTP/1.1\u001b[0m\" 200 -\n"
     ]
    },
    {
     "name": "stdout",
     "output_type": "stream",
     "text": [
      "Sarah walked in and I did not expect ti\n",
      "                                  document  n_tokens  n_i\n",
      "0  Sarah walked in and I did not expect ti         9    1\n"
     ]
    },
    {
     "name": "stderr",
     "output_type": "stream",
     "text": [
      "127.0.0.1 - - [11/May/2022 10:17:30] \"\u001b[37mPOST /_dash-update-component HTTP/1.1\u001b[0m\" 200 -\n",
      "127.0.0.1 - - [11/May/2022 10:17:30] \"\u001b[37mPOST /_dash-update-component HTTP/1.1\u001b[0m\" 200 -\n"
     ]
    },
    {
     "name": "stdout",
     "output_type": "stream",
     "text": [
      "Sarah walked in and I did not expect t\n",
      "                                 document  n_tokens  n_i\n",
      "0  Sarah walked in and I did not expect t         9    1\n",
      "Sarah walked in and I did not expect \n",
      "                                document  n_tokens  n_i\n",
      "0  Sarah walked in and I did not expect          8    1\n"
     ]
    },
    {
     "name": "stderr",
     "output_type": "stream",
     "text": [
      "127.0.0.1 - - [11/May/2022 10:17:30] \"\u001b[37mPOST /_dash-update-component HTTP/1.1\u001b[0m\" 200 -\n",
      "127.0.0.1 - - [11/May/2022 10:17:30] \"\u001b[37mPOST /_dash-update-component HTTP/1.1\u001b[0m\" 200 -\n"
     ]
    },
    {
     "name": "stdout",
     "output_type": "stream",
     "text": [
      "Sarah walked in and I did not expect i\n",
      "                                 document  n_tokens  n_i\n",
      "0  Sarah walked in and I did not expect i         9    1\n",
      "Sarah walked in and I did not expect it\n",
      "                                  document  n_tokens  n_i\n",
      "0  Sarah walked in and I did not expect it         9    1\n"
     ]
    },
    {
     "name": "stderr",
     "output_type": "stream",
     "text": [
      "127.0.0.1 - - [11/May/2022 10:17:34] \"\u001b[37mPOST /_dash-update-component HTTP/1.1\u001b[0m\" 200 -\n"
     ]
    },
    {
     "name": "stdout",
     "output_type": "stream",
     "text": [
      "Sarah walked in and I did not expect i\n",
      "                                 document  n_tokens  n_i\n",
      "0  Sarah walked in and I did not expect i         9    1\n",
      "Sarah walked in and I did not expect \n",
      "Sarah walked in and I did not expect\n",
      "Sarah walked in and I did not expec\n",
      "                                document  n_tokens  n_i\n",
      "0  Sarah walked in and I did not expect          8    1\n",
      "Sarah walked in and I did not expe                               document  n_tokens  n_i\n",
      "0  Sarah walked in and I did not expect         8    1\n",
      "\n",
      "Sarah walked in and I did not exp                              document  n_tokens  n_i\n",
      "0  Sarah walked in and I did not expec         8    1\n",
      "\n",
      "                             document  n_tokens  n_i\n",
      "0  Sarah walked in and I did not expe         8    1Sarah walked in and I did not ex\n",
      "\n"
     ]
    },
    {
     "name": "stderr",
     "output_type": "stream",
     "text": [
      "127.0.0.1 - - [11/May/2022 10:17:34] \"\u001b[37mPOST /_dash-update-component HTTP/1.1\u001b[0m\" 200 -\n",
      "127.0.0.1 - - [11/May/2022 10:17:34] \"\u001b[37mPOST /_dash-update-component HTTP/1.1\u001b[0m\" 200 -\n",
      "127.0.0.1 - - [11/May/2022 10:17:35] \"\u001b[37mPOST /_dash-update-component HTTP/1.1\u001b[0m\" 200 -\n",
      "127.0.0.1 - - [11/May/2022 10:17:35] \"\u001b[37mPOST /_dash-update-component HTTP/1.1\u001b[0m\" 200 -\n",
      "127.0.0.1 - - [11/May/2022 10:17:35] \"\u001b[37mPOST /_dash-update-component HTTP/1.1\u001b[0m\" 200 -\n",
      "127.0.0.1 - - [11/May/2022 10:17:35] \"\u001b[37mPOST /_dash-update-component HTTP/1.1\u001b[0m\" 200 -\n"
     ]
    },
    {
     "name": "stdout",
     "output_type": "stream",
     "text": [
      "                            document  n_tokens  n_i\n",
      "0  Sarah walked in and I did not exp         8    1                           document  n_tokens  n_i\n",
      "0  Sarah walked in and I did not ex         8    1\n",
      "\n",
      "Sarah walked in and I did not e\n",
      "Sarah walked in and I did not \n",
      "Sarah walked in and I did not\n",
      "Sarah walked in and I did no                          document  n_tokens  n_i\n",
      "0  Sarah walked in and I did not e         8    1                         document  n_tokens  n_i\n",
      "0  Sarah walked in and I did not          7    1\n",
      "\n",
      "Sarah walked in and I did n\n",
      "\n",
      "                        document  n_tokens  n_i\n",
      "0  Sarah walked in and I did not         7    1Sarah walked in and I did "
     ]
    },
    {
     "name": "stderr",
     "output_type": "stream",
     "text": [
      "127.0.0.1 - - [11/May/2022 10:17:35] \"\u001b[37mPOST /_dash-update-component HTTP/1.1\u001b[0m\" 200 -\n",
      "127.0.0.1 - - [11/May/2022 10:17:35] \"\u001b[37mPOST /_dash-update-component HTTP/1.1\u001b[0m\" 200 -\n",
      "127.0.0.1 - - [11/May/2022 10:17:35] \"\u001b[37mPOST /_dash-update-component HTTP/1.1\u001b[0m\" 200 -\n"
     ]
    },
    {
     "name": "stdout",
     "output_type": "stream",
     "text": [
      "\n",
      "\n",
      "                       document  n_tokens  n_i\n",
      "0  Sarah walked in and I did no         7    1\n",
      "                      document  n_tokens  n_i\n",
      "0  Sarah walked in and I did n         7    1                     document  n_tokens  n_i\n",
      "0  Sarah walked in and I did          6    1\n",
      "\n",
      "Sarah walked in and I did\n"
     ]
    },
    {
     "name": "stderr",
     "output_type": "stream",
     "text": [
      "127.0.0.1 - - [11/May/2022 10:17:35] \"\u001b[37mPOST /_dash-update-component HTTP/1.1\u001b[0m\" 200 -\n",
      "127.0.0.1 - - [11/May/2022 10:17:35] \"\u001b[37mPOST /_dash-update-component HTTP/1.1\u001b[0m\" 200 -\n",
      "127.0.0.1 - - [11/May/2022 10:17:35] \"\u001b[37mPOST /_dash-update-component HTTP/1.1\u001b[0m\" 200 -\n",
      "127.0.0.1 - - [11/May/2022 10:17:36] \"\u001b[37mPOST /_dash-update-component HTTP/1.1\u001b[0m\" 200 -\n"
     ]
    },
    {
     "name": "stdout",
     "output_type": "stream",
     "text": [
      "                    document  n_tokens  n_i\n",
      "0  Sarah walked in and I did         6    1Sarah walked in and I di\n",
      "\n",
      "Sarah walked in and I d\n",
      "Sarah walked in and I \n",
      "                   document  n_tokens  n_i\n",
      "0  Sarah walked in and I di         6    1\n",
      "                  document  n_tokens  n_i\n",
      "0  Sarah walked in and I d         6    1\n",
      "                 document  n_tokens  n_i\n",
      "0  Sarah walked in and I          5    1\n",
      "Sarah walked in and I\n",
      "Sarah walked in and \n"
     ]
    },
    {
     "name": "stderr",
     "output_type": "stream",
     "text": [
      "127.0.0.1 - - [11/May/2022 10:17:36] \"\u001b[37mPOST /_dash-update-component HTTP/1.1\u001b[0m\" 200 -\n",
      "127.0.0.1 - - [11/May/2022 10:17:36] \"\u001b[37mPOST /_dash-update-component HTTP/1.1\u001b[0m\" 200 -\n",
      "127.0.0.1 - - [11/May/2022 10:17:36] \"\u001b[37mPOST /_dash-update-component HTTP/1.1\u001b[0m\" 200 -\n",
      "127.0.0.1 - - [11/May/2022 10:17:36] \"\u001b[37mPOST /_dash-update-component HTTP/1.1\u001b[0m\" 200 -\n"
     ]
    },
    {
     "name": "stdout",
     "output_type": "stream",
     "text": [
      "                document  n_tokens  n_i\n",
      "0  Sarah walked in and I         5    0\n",
      "               document  n_tokens  n_i\n",
      "0  Sarah walked in and          4    0Sarah walked in and\n",
      "\n",
      "              document  n_tokens  n_i\n",
      "0  Sarah walked in and         4    0\n",
      "Sarah walked in an\n",
      "             document  n_tokens  n_i\n",
      "0  Sarah walked in an         4    0\n"
     ]
    },
    {
     "name": "stderr",
     "output_type": "stream",
     "text": [
      "127.0.0.1 - - [11/May/2022 10:17:36] \"\u001b[37mPOST /_dash-update-component HTTP/1.1\u001b[0m\" 200 -\n",
      "127.0.0.1 - - [11/May/2022 10:17:36] \"\u001b[37mPOST /_dash-update-component HTTP/1.1\u001b[0m\" 200 -\n",
      "127.0.0.1 - - [11/May/2022 10:17:36] \"\u001b[37mPOST /_dash-update-component HTTP/1.1\u001b[0m\" 200 -\n",
      "127.0.0.1 - - [11/May/2022 10:17:36] \"\u001b[37mPOST /_dash-update-component HTTP/1.1\u001b[0m\" 200 -\n",
      "127.0.0.1 - - [11/May/2022 10:17:36] \"\u001b[37mPOST /_dash-update-component HTTP/1.1\u001b[0m\" 200 -\n"
     ]
    },
    {
     "name": "stdout",
     "output_type": "stream",
     "text": [
      "Sarah walked in a\n",
      "Sarah walked in \n",
      "Sarah walked in\n",
      "            document  n_tokens  n_i\n",
      "0  Sarah walked in a         4    0\n",
      "          document  n_tokens  n_i\n",
      "0  Sarah walked in         3    0           document  n_tokens  n_i\n",
      "0  Sarah walked in          3    0\n",
      "\n",
      "Sarah walked i\n",
      "Sarah walked \n",
      "         document  n_tokens  n_i\n",
      "0  Sarah walked i         3    0Sarah walked"
     ]
    },
    {
     "name": "stderr",
     "output_type": "stream",
     "text": [
      "127.0.0.1 - - [11/May/2022 10:17:36] \"\u001b[37mPOST /_dash-update-component HTTP/1.1\u001b[0m\" 200 -\n",
      "127.0.0.1 - - [11/May/2022 10:17:37] \"\u001b[37mPOST /_dash-update-component HTTP/1.1\u001b[0m\" 200 -\n",
      "127.0.0.1 - - [11/May/2022 10:17:37] \"\u001b[37mPOST /_dash-update-component HTTP/1.1\u001b[0m\" 200 -\n",
      "127.0.0.1 - - [11/May/2022 10:17:37] \"\u001b[37mPOST /_dash-update-component HTTP/1.1\u001b[0m\" 200 -\n"
     ]
    },
    {
     "name": "stdout",
     "output_type": "stream",
     "text": [
      "\n",
      "\n",
      "Sarah walke        document  n_tokens  n_i\n",
      "0  Sarah walked          2    0\n",
      "\n",
      "       document  n_tokens  n_i\n",
      "0  Sarah walked         2    0Sarah walk\n",
      "\n",
      "      document  n_tokens  n_i\n",
      "0  Sarah walke         2    0\n",
      "     document  n_tokens  n_i\n",
      "0  Sarah walk         2    0Sarah wal\n",
      "\n",
      "    document  n_tokens  n_i\n",
      "0  Sarah wal         2    0Sarah wa\n",
      "\n"
     ]
    },
    {
     "name": "stderr",
     "output_type": "stream",
     "text": [
      "127.0.0.1 - - [11/May/2022 10:17:37] \"\u001b[37mPOST /_dash-update-component HTTP/1.1\u001b[0m\" 200 -\n",
      "127.0.0.1 - - [11/May/2022 10:17:37] \"\u001b[37mPOST /_dash-update-component HTTP/1.1\u001b[0m\" 200 -\n",
      "127.0.0.1 - - [11/May/2022 10:17:37] \"\u001b[37mPOST /_dash-update-component HTTP/1.1\u001b[0m\" 200 -\n"
     ]
    },
    {
     "name": "stdout",
     "output_type": "stream",
     "text": [
      "   document  n_tokens  n_i\n",
      "0  Sarah wa         2    0\n",
      "Sarah w\n",
      "Sarah \n",
      "  document  n_tokens  n_i\n",
      "0   Sarah          1    0\n",
      "Sarah  document  n_tokens  n_i\n",
      "0  Sarah w         2    0\n",
      "\n",
      "Sara"
     ]
    },
    {
     "name": "stderr",
     "output_type": "stream",
     "text": [
      "127.0.0.1 - - [11/May/2022 10:17:37] \"\u001b[37mPOST /_dash-update-component HTTP/1.1\u001b[0m\" 200 -\n",
      "127.0.0.1 - - [11/May/2022 10:17:37] \"\u001b[37mPOST /_dash-update-component HTTP/1.1\u001b[0m\" 200 -\n",
      "127.0.0.1 - - [11/May/2022 10:17:37] \"\u001b[37mPOST /_dash-update-component HTTP/1.1\u001b[0m\" 200 -\n"
     ]
    },
    {
     "name": "stdout",
     "output_type": "stream",
     "text": [
      "\n",
      "Sar\n",
      "  document  n_tokens  n_i\n",
      "0    Sarah         1    0  document  n_tokens  n_i\n",
      "0     Sara         1    0\n",
      "\n",
      "  document  n_tokens  n_i\n",
      "0      Sar         1    0\n",
      "Sa\n",
      "S"
     ]
    },
    {
     "name": "stderr",
     "output_type": "stream",
     "text": [
      "127.0.0.1 - - [11/May/2022 10:17:37] \"\u001b[37mPOST /_dash-update-component HTTP/1.1\u001b[0m\" 200 -\n",
      "127.0.0.1 - - [11/May/2022 10:17:37] \"\u001b[37mPOST /_dash-update-component HTTP/1.1\u001b[0m\" 200 -\n",
      "127.0.0.1 - - [11/May/2022 10:17:38] \"\u001b[37mPOST /_dash-update-component HTTP/1.1\u001b[0m\" 200 -\n",
      "127.0.0.1 - - [11/May/2022 10:17:38] \"\u001b[37mPOST /_dash-update-component HTTP/1.1\u001b[0m\" 200 -\n",
      "127.0.0.1 - - [11/May/2022 10:17:38] \"\u001b[37mPOST /_dash-update-component HTTP/1.1\u001b[0m\" 200 -\n"
     ]
    },
    {
     "name": "stdout",
     "output_type": "stream",
     "text": [
      "\n",
      "  document  n_tokens  n_i\n",
      "0       Sa         1    0\n",
      "\n",
      "  document  n_tokens  n_i\n",
      "0                  0    0  document  n_tokens  n_i\n",
      "0        S         1    0\n",
      "\n",
      "S\n",
      "Sa\n"
     ]
    },
    {
     "name": "stderr",
     "output_type": "stream",
     "text": [
      "127.0.0.1 - - [11/May/2022 10:17:38] \"\u001b[37mPOST /_dash-update-component HTTP/1.1\u001b[0m\" 200 -\n"
     ]
    },
    {
     "name": "stdout",
     "output_type": "stream",
     "text": [
      "Sar\n",
      "Sara  document  n_tokens  n_i\n",
      "0        S         1    0\n",
      "\n",
      "  document  n_tokens  n_i\n",
      "0       Sa         1    0\n",
      "  document  n_tokens  n_i\n",
      "0      Sar         1    0\n",
      "Sarah\n",
      "  document  n_tokens  n_i\n",
      "0     Sara         1    0\n",
      "Sarah \n",
      "  document  n_tokens  n_i\n",
      "0    Sarah         1    0\n"
     ]
    },
    {
     "name": "stderr",
     "output_type": "stream",
     "text": [
      "127.0.0.1 - - [11/May/2022 10:17:38] \"\u001b[37mPOST /_dash-update-component HTTP/1.1\u001b[0m\" 200 -\n",
      "127.0.0.1 - - [11/May/2022 10:17:38] \"\u001b[37mPOST /_dash-update-component HTTP/1.1\u001b[0m\" 200 -\n",
      "127.0.0.1 - - [11/May/2022 10:17:38] \"\u001b[37mPOST /_dash-update-component HTTP/1.1\u001b[0m\" 200 -\n",
      "127.0.0.1 - - [11/May/2022 10:17:38] \"\u001b[37mPOST /_dash-update-component HTTP/1.1\u001b[0m\" 200 -\n",
      "127.0.0.1 - - [11/May/2022 10:17:38] \"\u001b[37mPOST /_dash-update-component HTTP/1.1\u001b[0m\" 200 -\n",
      "127.0.0.1 - - [11/May/2022 10:17:38] \"\u001b[37mPOST /_dash-update-component HTTP/1.1\u001b[0m\" 200 -\n"
     ]
    },
    {
     "name": "stdout",
     "output_type": "stream",
     "text": [
      "  document  n_tokens  n_i\n",
      "0   Sarah          1    0\n",
      "Sarah hSarah ha\n",
      "\n",
      "  document  n_tokens  n_i\n",
      "0  Sarah h         2    0Sarah had\n",
      "   document  n_tokens  n_i\n",
      "0  Sarah ha         2    0Sarah had a\n",
      "Sarah had a \n",
      "\n",
      "\n",
      "Sarah had "
     ]
    },
    {
     "name": "stderr",
     "output_type": "stream",
     "text": [
      "127.0.0.1 - - [11/May/2022 10:17:39] \"\u001b[37mPOST /_dash-update-component HTTP/1.1\u001b[0m\" 200 -\n",
      "127.0.0.1 - - [11/May/2022 10:17:39] \"\u001b[37mPOST /_dash-update-component HTTP/1.1\u001b[0m\" 200 -\n"
     ]
    },
    {
     "name": "stdout",
     "output_type": "stream",
     "text": [
      "\n",
      "    document  n_tokens  n_i\n",
      "0  Sarah had         2    0\n",
      "      document  n_tokens  n_i\n",
      "0  Sarah had a         3    0       document  n_tokens  n_i\n",
      "0  Sarah had a          3    0\n",
      "     document  n_tokens  n_i\n",
      "0  Sarah had          2    0\n",
      "\n"
     ]
    },
    {
     "name": "stderr",
     "output_type": "stream",
     "text": [
      "127.0.0.1 - - [11/May/2022 10:17:39] \"\u001b[37mPOST /_dash-update-component HTTP/1.1\u001b[0m\" 200 -\n",
      "127.0.0.1 - - [11/May/2022 10:17:39] \"\u001b[37mPOST /_dash-update-component HTTP/1.1\u001b[0m\" 200 -\n",
      "127.0.0.1 - - [11/May/2022 10:17:39] \"\u001b[37mPOST /_dash-update-component HTTP/1.1\u001b[0m\" 200 -\n",
      "127.0.0.1 - - [11/May/2022 10:17:39] \"\u001b[37mPOST /_dash-update-component HTTP/1.1\u001b[0m\" 200 -\n",
      "127.0.0.1 - - [11/May/2022 10:17:39] \"\u001b[37mPOST /_dash-update-component HTTP/1.1\u001b[0m\" 200 -\n"
     ]
    },
    {
     "name": "stdout",
     "output_type": "stream",
     "text": [
      "Sarah had a b\n",
      "        document  n_tokens  n_i\n",
      "0  Sarah had a b         4    0\n",
      "Sarah had a bad at\n",
      "Sarah had a badSarah had a bad a\n",
      "\n",
      "Sarah had a baSarah had a bad Sarah had a bad att\n",
      "\n",
      "             document  n_tokens  n_i\n",
      "0  Sarah had a bad at         5    0\n",
      "\n",
      "         document  n_tokens  n_i\n",
      "0  Sarah had a ba         4    0\n",
      "           document  n_tokens  n_i\n",
      "0  Sarah had a bad          4    0            document  n_tokens  n_i\n",
      "0  Sarah had a bad a         5    0"
     ]
    },
    {
     "name": "stderr",
     "output_type": "stream",
     "text": [
      "127.0.0.1 - - [11/May/2022 10:17:39] \"\u001b[37mPOST /_dash-update-component HTTP/1.1\u001b[0m\" 200 -\n",
      "127.0.0.1 - - [11/May/2022 10:17:39] \"\u001b[37mPOST /_dash-update-component HTTP/1.1\u001b[0m\" 200 -\n",
      "127.0.0.1 - - [11/May/2022 10:17:39] \"\u001b[37mPOST /_dash-update-component HTTP/1.1\u001b[0m\" 200 -\n",
      "127.0.0.1 - - [11/May/2022 10:17:39] \"\u001b[37mPOST /_dash-update-component HTTP/1.1\u001b[0m\" 200 -\n",
      "127.0.0.1 - - [11/May/2022 10:17:39] \"\u001b[37mPOST /_dash-update-component HTTP/1.1\u001b[0m\" 200 -\n",
      "127.0.0.1 - - [11/May/2022 10:17:39] \"\u001b[37mPOST /_dash-update-component HTTP/1.1\u001b[0m\" 200 -\n"
     ]
    },
    {
     "name": "stdout",
     "output_type": "stream",
     "text": [
      "\n",
      "\n",
      "              document  n_tokens  n_i\n",
      "0  Sarah had a bad att         5    0\n",
      "          document  n_tokens  n_i\n",
      "0  Sarah had a bad         4    0\n",
      "Sarah had a bad atti\n",
      "               document  n_tokens  n_i\n",
      "0  Sarah had a bad atti         5    0Sarah had a bad attit\n",
      "Sarah had a bad attituSarah had a bad attitud\n",
      "\n",
      "\n",
      "Sarah had a bad attitude"
     ]
    },
    {
     "name": "stderr",
     "output_type": "stream",
     "text": [
      "127.0.0.1 - - [11/May/2022 10:17:40] \"\u001b[37mPOST /_dash-update-component HTTP/1.1\u001b[0m\" 200 -\n",
      "127.0.0.1 - - [11/May/2022 10:17:40] \"\u001b[37mPOST /_dash-update-component HTTP/1.1\u001b[0m\" 200 -\n",
      "127.0.0.1 - - [11/May/2022 10:17:40] \"\u001b[37mPOST /_dash-update-component HTTP/1.1\u001b[0m\" 200 -\n",
      "127.0.0.1 - - [11/May/2022 10:17:40] \"\u001b[37mPOST /_dash-update-component HTTP/1.1\u001b[0m\" 200 -\n",
      "127.0.0.1 - - [11/May/2022 10:17:40] \"\u001b[37mPOST /_dash-update-component HTTP/1.1\u001b[0m\" 200 -\n"
     ]
    },
    {
     "name": "stdout",
     "output_type": "stream",
     "text": [
      "\n",
      "                document  n_tokens  n_i\n",
      "0  Sarah had a bad attit         5    0\n",
      "                   document  n_tokens  n_i\n",
      "0  Sarah had a bad attitude         5    0                  document  n_tokens  n_i\n",
      "0  Sarah had a bad attitud         5    0\n",
      "\n",
      "                 document  n_tokens  n_i\n",
      "0  Sarah had a bad attitu         5    0\n"
     ]
    },
    {
     "name": "stderr",
     "output_type": "stream",
     "text": [
      "127.0.0.1 - - [11/May/2022 10:17:44] \"\u001b[37mPOST /_dash-update-component HTTP/1.1\u001b[0m\" 200 -\n"
     ]
    },
    {
     "name": "stdout",
     "output_type": "stream",
     "text": [
      "Sarah had a bad attitud\n",
      "                  document  n_tokens  n_i\n",
      "0  Sarah had a bad attitud         5    0\n",
      "Sarah had a bad attituSarah had a bad attit\n",
      "\n",
      "Sarah had a bad atti\n"
     ]
    },
    {
     "name": "stderr",
     "output_type": "stream",
     "text": [
      "127.0.0.1 - - [11/May/2022 10:17:45] \"\u001b[37mPOST /_dash-update-component HTTP/1.1\u001b[0m\" 200 -\n",
      "127.0.0.1 - - [11/May/2022 10:17:45] \"\u001b[37mPOST /_dash-update-component HTTP/1.1\u001b[0m\" 200 -\n"
     ]
    },
    {
     "name": "stdout",
     "output_type": "stream",
     "text": [
      "Sarah had a bad att                document  n_tokens  n_i\n",
      "0  Sarah had a bad attit         5    0\n",
      "\n",
      "               document  n_tokens  n_i\n",
      "0  Sarah had a bad atti         5    0\n",
      "Sarah had a bad at\n",
      "              document  n_tokens  n_i\n",
      "0  Sarah had a bad att         5    0\n",
      "Sarah had a bad a\n",
      "                 document  n_tokens  n_i\n",
      "0  Sarah had a bad attitu         5    0\n",
      "             document  n_tokens  n_i\n",
      "0  Sarah had a bad at         5    0\n"
     ]
    },
    {
     "name": "stderr",
     "output_type": "stream",
     "text": [
      "127.0.0.1 - - [11/May/2022 10:17:46] \"\u001b[37mPOST /_dash-update-component HTTP/1.1\u001b[0m\" 200 -\n",
      "127.0.0.1 - - [11/May/2022 10:17:46] \"\u001b[37mPOST /_dash-update-component HTTP/1.1\u001b[0m\" 200 -\n",
      "127.0.0.1 - - [11/May/2022 10:17:46] \"\u001b[37mPOST /_dash-update-component HTTP/1.1\u001b[0m\" 200 -\n",
      "127.0.0.1 - - [11/May/2022 10:17:46] \"\u001b[37mPOST /_dash-update-component HTTP/1.1\u001b[0m\" 200 -\n"
     ]
    },
    {
     "name": "stdout",
     "output_type": "stream",
     "text": [
      "            document  n_tokens  n_i\n",
      "0  Sarah had a bad a         5    0\n",
      "Sarah had a bad \n",
      "Sarah had a bad\n",
      "           document  n_tokens  n_i\n",
      "0  Sarah had a bad          4    0\n",
      "          document  n_tokens  n_i\n",
      "0  Sarah had a bad         4    0\n",
      "Sarah had a ba\n"
     ]
    },
    {
     "name": "stderr",
     "output_type": "stream",
     "text": [
      "127.0.0.1 - - [11/May/2022 10:17:46] \"\u001b[37mPOST /_dash-update-component HTTP/1.1\u001b[0m\" 200 -\n",
      "127.0.0.1 - - [11/May/2022 10:17:46] \"\u001b[37mPOST /_dash-update-component HTTP/1.1\u001b[0m\" 200 -\n",
      "127.0.0.1 - - [11/May/2022 10:17:46] \"\u001b[37mPOST /_dash-update-component HTTP/1.1\u001b[0m\" 200 -\n",
      "127.0.0.1 - - [11/May/2022 10:17:46] \"\u001b[37mPOST /_dash-update-component HTTP/1.1\u001b[0m\" 200 -\n",
      "127.0.0.1 - - [11/May/2022 10:17:46] \"\u001b[37mPOST /_dash-update-component HTTP/1.1\u001b[0m\" 200 -\n",
      "127.0.0.1 - - [11/May/2022 10:17:46] \"\u001b[37mPOST /_dash-update-component HTTP/1.1\u001b[0m\" 200 -\n"
     ]
    },
    {
     "name": "stdout",
     "output_type": "stream",
     "text": [
      "Sarah had a b\n",
      "Sarah had a \n",
      "         document  n_tokens  n_i\n",
      "0  Sarah had a ba         4    0\n",
      "        document  n_tokens  n_i\n",
      "0  Sarah had a b         4    0Sarah had a r\n",
      "\n",
      "       document  n_tokens  n_i\n",
      "0  Sarah had a          3    0\n",
      "        document  n_tokens  n_i\n",
      "0  Sarah had a r         4    0\n"
     ]
    },
    {
     "name": "stderr",
     "output_type": "stream",
     "text": [
      "127.0.0.1 - - [11/May/2022 10:17:46] \"\u001b[37mPOST /_dash-update-component HTTP/1.1\u001b[0m\" 200 -\n"
     ]
    },
    {
     "name": "stdout",
     "output_type": "stream",
     "text": [
      "Sarah had a re\n",
      "Sarah had a rea\n",
      "Sarah had a real         document  n_tokens  n_i\n",
      "0  Sarah had a re         4    0\n",
      "\n",
      "          document  n_tokens  n_i\n",
      "0  Sarah had a rea         4    0\n",
      "           document  n_tokens  n_i\n",
      "0  Sarah had a real         4    0\n",
      "Sarah had a reall\n"
     ]
    },
    {
     "name": "stderr",
     "output_type": "stream",
     "text": [
      "127.0.0.1 - - [11/May/2022 10:17:46] \"\u001b[37mPOST /_dash-update-component HTTP/1.1\u001b[0m\" 200 -\n",
      "127.0.0.1 - - [11/May/2022 10:17:46] \"\u001b[37mPOST /_dash-update-component HTTP/1.1\u001b[0m\" 200 -\n",
      "127.0.0.1 - - [11/May/2022 10:17:46] \"\u001b[37mPOST /_dash-update-component HTTP/1.1\u001b[0m\" 200 -\n"
     ]
    },
    {
     "name": "stdout",
     "output_type": "stream",
     "text": [
      "            document  n_tokens  n_i\n",
      "0  Sarah had a reall         4    0\n",
      "Sarah had a really\n"
     ]
    },
    {
     "name": "stderr",
     "output_type": "stream",
     "text": [
      "127.0.0.1 - - [11/May/2022 10:17:47] \"\u001b[37mPOST /_dash-update-component HTTP/1.1\u001b[0m\" 200 -\n",
      "127.0.0.1 - - [11/May/2022 10:17:47] \"\u001b[37mPOST /_dash-update-component HTTP/1.1\u001b[0m\" 200 -\n"
     ]
    },
    {
     "name": "stdout",
     "output_type": "stream",
     "text": [
      "Sarah had a really              document  n_tokens  n_i\n",
      "0  Sarah had a really         4    0\n",
      "\n",
      "              document  n_tokens  n_i\n",
      "0  Sarah had a really          4    0\n",
      "Sarah had a really b\n",
      "               document  n_tokens  n_i\n",
      "0  Sarah had a really b         5    0\n"
     ]
    },
    {
     "name": "stderr",
     "output_type": "stream",
     "text": [
      "127.0.0.1 - - [11/May/2022 10:17:47] \"\u001b[37mPOST /_dash-update-component HTTP/1.1\u001b[0m\" 200 -\n",
      "127.0.0.1 - - [11/May/2022 10:17:47] \"\u001b[37mPOST /_dash-update-component HTTP/1.1\u001b[0m\" 200 -\n",
      "127.0.0.1 - - [11/May/2022 10:17:47] \"\u001b[37mPOST /_dash-update-component HTTP/1.1\u001b[0m\" 200 -\n"
     ]
    },
    {
     "name": "stdout",
     "output_type": "stream",
     "text": [
      "Sarah had a really ba\n",
      "                document  n_tokens  n_i\n",
      "0  Sarah had a really ba         5    0\n",
      "Sarah had a really bad\n",
      "                 document  n_tokens  n_i\n",
      "0  Sarah had a really bad         5    0\n",
      "Sarah had a really bad "
     ]
    },
    {
     "name": "stderr",
     "output_type": "stream",
     "text": [
      "127.0.0.1 - - [11/May/2022 10:17:47] \"\u001b[37mPOST /_dash-update-component HTTP/1.1\u001b[0m\" 200 -\n",
      "127.0.0.1 - - [11/May/2022 10:17:47] \"\u001b[37mPOST /_dash-update-component HTTP/1.1\u001b[0m\" 200 -\n"
     ]
    },
    {
     "name": "stdout",
     "output_type": "stream",
     "text": [
      "\n",
      "                  document  n_tokens  n_i\n",
      "0  Sarah had a really bad          5    0\n",
      "Sarah had a really bad a\n",
      "                   document  n_tokens  n_i\n",
      "0  Sarah had a really bad a         6    0\n"
     ]
    },
    {
     "name": "stderr",
     "output_type": "stream",
     "text": [
      "127.0.0.1 - - [11/May/2022 10:17:47] \"\u001b[37mPOST /_dash-update-component HTTP/1.1\u001b[0m\" 200 -\n"
     ]
    },
    {
     "name": "stdout",
     "output_type": "stream",
     "text": [
      "Sarah had a really bad at\n",
      "                    document  n_tokens  n_i\n",
      "0  Sarah had a really bad at         6    0\n",
      "Sarah had a really bad att\n",
      "                     document  n_tokens  n_i\n",
      "0  Sarah had a really bad att         6    0\n"
     ]
    },
    {
     "name": "stderr",
     "output_type": "stream",
     "text": [
      "127.0.0.1 - - [11/May/2022 10:17:48] \"\u001b[37mPOST /_dash-update-component HTTP/1.1\u001b[0m\" 200 -\n",
      "127.0.0.1 - - [11/May/2022 10:17:48] \"\u001b[37mPOST /_dash-update-component HTTP/1.1\u001b[0m\" 200 -\n",
      "127.0.0.1 - - [11/May/2022 10:17:48] \"\u001b[37mPOST /_dash-update-component HTTP/1.1\u001b[0m\" 200 -\n"
     ]
    },
    {
     "name": "stdout",
     "output_type": "stream",
     "text": [
      "Sarah had a really bad atti\n",
      "                      document  n_tokens  n_i\n",
      "0  Sarah had a really bad atti         6    0\n",
      "Sarah had a really bad attit\n",
      "                       document  n_tokens  n_i\n",
      "0  Sarah had a really bad attit         6    0\n",
      "Sarah had a really bad attitu\n",
      "Sarah had a really bad attitud\n",
      "Sarah had a really bad attitude\n"
     ]
    },
    {
     "name": "stderr",
     "output_type": "stream",
     "text": [
      "127.0.0.1 - - [11/May/2022 10:17:48] \"\u001b[37mPOST /_dash-update-component HTTP/1.1\u001b[0m\" 200 -\n",
      "127.0.0.1 - - [11/May/2022 10:17:48] \"\u001b[37mPOST /_dash-update-component HTTP/1.1\u001b[0m\" 200 -\n",
      "127.0.0.1 - - [11/May/2022 10:17:48] \"\u001b[37mPOST /_dash-update-component HTTP/1.1\u001b[0m\" 200 -\n"
     ]
    },
    {
     "name": "stdout",
     "output_type": "stream",
     "text": [
      "                         document  n_tokens  n_i\n",
      "0  Sarah had a really bad attitud         6    0\n",
      "                          document  n_tokens  n_i\n",
      "0  Sarah had a really bad attitude         6    0\n",
      "                        document  n_tokens  n_i\n",
      "0  Sarah had a really bad attitu         6    0\n"
     ]
    },
    {
     "name": "stderr",
     "output_type": "stream",
     "text": [
      "127.0.0.1 - - [11/May/2022 10:17:51] \"\u001b[37mPOST /_dash-update-component HTTP/1.1\u001b[0m\" 200 -\n"
     ]
    },
    {
     "name": "stdout",
     "output_type": "stream",
     "text": [
      "Sarah had a really bad attitud\n",
      "                         document  n_tokens  n_i\n",
      "0  Sarah had a really bad attitud         6    0\n",
      "Sarah had a really bad attitu\n",
      "Sarah had a really bad attit\n",
      "Sarah had a really bad atti                       document  n_tokens  n_i\n",
      "0  Sarah had a really bad attit         6    0\n",
      "\n",
      "Sarah had a really bad att\n",
      "Sarah had a really bad at\n",
      "Sarah had a really bad a                      document  n_tokens  n_i\n",
      "0  Sarah had a really bad atti         6    0\n",
      "                     document  n_tokens  n_i\n",
      "0  Sarah had a really bad att         6    0\n",
      "\n",
      "                    document  n_tokens  n_i\n",
      "0  Sarah had a really bad at         6    0\n",
      "                        document  n_tokens  n_i\n",
      "0  Sarah had a really bad attitu         6    0\n",
      "                   document  n_tokens  n_i\n",
      "0  Sarah had a really bad a         6    0\n"
     ]
    },
    {
     "name": "stderr",
     "output_type": "stream",
     "text": [
      "127.0.0.1 - - [11/May/2022 10:17:52] \"\u001b[37mPOST /_dash-update-component HTTP/1.1\u001b[0m\" 200 -\n",
      "127.0.0.1 - - [11/May/2022 10:17:52] \"\u001b[37mPOST /_dash-update-component HTTP/1.1\u001b[0m\" 200 -\n",
      "127.0.0.1 - - [11/May/2022 10:17:52] \"\u001b[37mPOST /_dash-update-component HTTP/1.1\u001b[0m\" 200 -\n",
      "127.0.0.1 - - [11/May/2022 10:17:52] \"\u001b[37mPOST /_dash-update-component HTTP/1.1\u001b[0m\" 200 -\n",
      "127.0.0.1 - - [11/May/2022 10:17:52] \"\u001b[37mPOST /_dash-update-component HTTP/1.1\u001b[0m\" 200 -\n",
      "127.0.0.1 - - [11/May/2022 10:17:52] \"\u001b[37mPOST /_dash-update-component HTTP/1.1\u001b[0m\" 200 -\n"
     ]
    },
    {
     "name": "stdout",
     "output_type": "stream",
     "text": [
      "Sarah had a really bad \n",
      "Sarah had a really bad\n",
      "                  document  n_tokens  n_i\n",
      "0  Sarah had a really bad          5    0Sarah had a really ba\n",
      "\n",
      "Sarah had a really b\n"
     ]
    },
    {
     "name": "stderr",
     "output_type": "stream",
     "text": [
      "127.0.0.1 - - [11/May/2022 10:17:52] \"\u001b[37mPOST /_dash-update-component HTTP/1.1\u001b[0m\" 200 -\n",
      "127.0.0.1 - - [11/May/2022 10:17:52] \"\u001b[37mPOST /_dash-update-component HTTP/1.1\u001b[0m\" 200 -\n",
      "127.0.0.1 - - [11/May/2022 10:17:52] \"\u001b[37mPOST /_dash-update-component HTTP/1.1\u001b[0m\" 200 -\n",
      "127.0.0.1 - - [11/May/2022 10:17:52] \"\u001b[37mPOST /_dash-update-component HTTP/1.1\u001b[0m\" 200 -\n",
      "127.0.0.1 - - [11/May/2022 10:17:52] \"\u001b[37mPOST /_dash-update-component HTTP/1.1\u001b[0m\" 200 -\n",
      "127.0.0.1 - - [11/May/2022 10:17:52] \"\u001b[37mPOST /_dash-update-component HTTP/1.1\u001b[0m\" 200 -\n"
     ]
    },
    {
     "name": "stdout",
     "output_type": "stream",
     "text": [
      "                 document  n_tokens  n_i\n",
      "0  Sarah had a really bad         5    0               document  n_tokens  n_i\n",
      "0  Sarah had a really b         5    0Sarah had a really \n",
      "\n",
      "\n",
      "                document  n_tokens  n_i\n",
      "0  Sarah had a really ba         5    0\n",
      "Sarah had a really\n",
      "              document  n_tokens  n_i\n",
      "0  Sarah had a really          4    0             document  n_tokens  n_i\n",
      "0  Sarah had a really         4    0\n",
      "\n",
      "Sarah had a reall\n",
      "Sarah had a real\n",
      "Sarah had a rea            document  n_tokens  n_i\n",
      "0  Sarah had a reall         4    0\n",
      "\n",
      "           document  n_tokens  n_i\n",
      "0  Sarah had a real         4    0\n",
      "Sarah had a re\n",
      "Sarah had a r"
     ]
    },
    {
     "name": "stderr",
     "output_type": "stream",
     "text": [
      "127.0.0.1 - - [11/May/2022 10:17:53] \"\u001b[37mPOST /_dash-update-component HTTP/1.1\u001b[0m\" 200 -\n",
      "127.0.0.1 - - [11/May/2022 10:17:53] \"\u001b[37mPOST /_dash-update-component HTTP/1.1\u001b[0m\" 200 -\n",
      "127.0.0.1 - - [11/May/2022 10:17:53] \"\u001b[37mPOST /_dash-update-component HTTP/1.1\u001b[0m\" 200 -\n",
      "127.0.0.1 - - [11/May/2022 10:17:53] \"\u001b[37mPOST /_dash-update-component HTTP/1.1\u001b[0m\" 200 -\n",
      "127.0.0.1 - - [11/May/2022 10:17:53] \"\u001b[37mPOST /_dash-update-component HTTP/1.1\u001b[0m\" 200 -\n",
      "127.0.0.1 - - [11/May/2022 10:17:53] \"\u001b[37mPOST /_dash-update-component HTTP/1.1\u001b[0m\" 200 -\n"
     ]
    },
    {
     "name": "stdout",
     "output_type": "stream",
     "text": [
      "\n",
      "          document  n_tokens  n_i\n",
      "0  Sarah had a rea         4    0\n",
      "Sarah had a \n",
      "         document  n_tokens  n_i\n",
      "0  Sarah had a re         4    0\n",
      "        document  n_tokens  n_i\n",
      "0  Sarah had a r         4    0\n",
      "       document  n_tokens  n_i\n",
      "0  Sarah had a          3    0\n",
      "Sarah had a\n",
      "Sarah had \n",
      "Sarah had      document  n_tokens  n_i\n",
      "0  Sarah had a         3    0\n",
      "\n",
      "Sarah ha\n",
      "    document  n_tokens  n_i\n",
      "0  Sarah had         2    0     document  n_tokens  n_i\n",
      "0  Sarah had          2    0\n",
      "\n",
      "Sarah h\n",
      "Sarah "
     ]
    },
    {
     "name": "stderr",
     "output_type": "stream",
     "text": [
      "127.0.0.1 - - [11/May/2022 10:17:53] \"\u001b[37mPOST /_dash-update-component HTTP/1.1\u001b[0m\" 200 -\n",
      "127.0.0.1 - - [11/May/2022 10:17:53] \"\u001b[37mPOST /_dash-update-component HTTP/1.1\u001b[0m\" 200 -\n",
      "127.0.0.1 - - [11/May/2022 10:17:53] \"\u001b[37mPOST /_dash-update-component HTTP/1.1\u001b[0m\" 200 -\n",
      "127.0.0.1 - - [11/May/2022 10:17:53] \"\u001b[37mPOST /_dash-update-component HTTP/1.1\u001b[0m\" 200 -\n",
      "127.0.0.1 - - [11/May/2022 10:17:53] \"\u001b[37mPOST /_dash-update-component HTTP/1.1\u001b[0m\" 200 -\n",
      "127.0.0.1 - - [11/May/2022 10:17:53] \"\u001b[37mPOST /_dash-update-component HTTP/1.1\u001b[0m\" 200 -\n"
     ]
    },
    {
     "name": "stdout",
     "output_type": "stream",
     "text": [
      "\n",
      "   document  n_tokens  n_i\n",
      "0  Sarah ha         2    0\n",
      "  document  n_tokens  n_i\n",
      "0  Sarah h         2    0\n",
      "  document  n_tokens  n_i\n",
      "0   Sarah          1    0\n"
     ]
    },
    {
     "name": "stderr",
     "output_type": "stream",
     "text": [
      "127.0.0.1 - - [11/May/2022 10:17:55] \"\u001b[37mPOST /_dash-update-component HTTP/1.1\u001b[0m\" 200 -\n",
      "127.0.0.1 - - [11/May/2022 10:17:55] \"\u001b[37mPOST /_dash-update-component HTTP/1.1\u001b[0m\" 200 -\n"
     ]
    },
    {
     "name": "stdout",
     "output_type": "stream",
     "text": [
      "Sarah w\n",
      "  document  n_tokens  n_i\n",
      "0  Sarah w         2    0\n",
      "Sarah wa\n",
      "   document  n_tokens  n_i\n",
      "0  Sarah wa         2    0\n"
     ]
    },
    {
     "name": "stderr",
     "output_type": "stream",
     "text": [
      "127.0.0.1 - - [11/May/2022 10:17:55] \"\u001b[37mPOST /_dash-update-component HTTP/1.1\u001b[0m\" 200 -\n",
      "127.0.0.1 - - [11/May/2022 10:17:55] \"\u001b[37mPOST /_dash-update-component HTTP/1.1\u001b[0m\" 200 -\n"
     ]
    },
    {
     "name": "stdout",
     "output_type": "stream",
     "text": [
      "Sarah was\n",
      "    document  n_tokens  n_i\n",
      "0  Sarah was         2    0\n",
      "Sarah was \n",
      "     document  n_tokens  n_i\n",
      "0  Sarah was          2    0\n"
     ]
    },
    {
     "name": "stderr",
     "output_type": "stream",
     "text": [
      "127.0.0.1 - - [11/May/2022 10:17:55] \"\u001b[37mPOST /_dash-update-component HTTP/1.1\u001b[0m\" 200 -\n"
     ]
    },
    {
     "name": "stdout",
     "output_type": "stream",
     "text": [
      "Sarah was s\n",
      "      document  n_tokens  n_i\n",
      "0  Sarah was s         3    0\n",
      "Sarah was so\n",
      "       document  n_tokens  n_i\n",
      "0  Sarah was so         3    0Sarah was so \n"
     ]
    },
    {
     "name": "stderr",
     "output_type": "stream",
     "text": [
      "127.0.0.1 - - [11/May/2022 10:17:55] \"\u001b[37mPOST /_dash-update-component HTTP/1.1\u001b[0m\" 200 -\n",
      "127.0.0.1 - - [11/May/2022 10:17:55] \"\u001b[37mPOST /_dash-update-component HTTP/1.1\u001b[0m\" 200 -\n",
      "127.0.0.1 - - [11/May/2022 10:17:55] \"\u001b[37mPOST /_dash-update-component HTTP/1.1\u001b[0m\" 200 -\n"
     ]
    },
    {
     "name": "stdout",
     "output_type": "stream",
     "text": [
      "\n",
      "        document  n_tokens  n_i\n",
      "0  Sarah was so          3    0\n",
      "Sarah was so m\n",
      "         document  n_tokens  n_i\n",
      "0  Sarah was so m         4    0\n",
      "Sarah was so ma\n",
      "          document  n_tokens  n_i\n",
      "0  Sarah was so ma         4    0"
     ]
    },
    {
     "name": "stderr",
     "output_type": "stream",
     "text": [
      "127.0.0.1 - - [11/May/2022 10:17:56] \"\u001b[37mPOST /_dash-update-component HTTP/1.1\u001b[0m\" 200 -\n",
      "127.0.0.1 - - [11/May/2022 10:17:56] \"\u001b[37mPOST /_dash-update-component HTTP/1.1\u001b[0m\" 200 -\n"
     ]
    },
    {
     "name": "stdout",
     "output_type": "stream",
     "text": [
      "\n",
      "Sarah was so mad\n",
      "           document  n_tokens  n_i\n",
      "0  Sarah was so mad         4    0\n"
     ]
    },
    {
     "name": "stderr",
     "output_type": "stream",
     "text": [
      "127.0.0.1 - - [11/May/2022 10:17:56] \"\u001b[37mPOST /_dash-update-component HTTP/1.1\u001b[0m\" 200 -\n"
     ]
    },
    {
     "name": "stdout",
     "output_type": "stream",
     "text": [
      "Sarah was so mad \n",
      "            document  n_tokens  n_i\n",
      "0  Sarah was so mad          4    0\n"
     ]
    },
    {
     "name": "stderr",
     "output_type": "stream",
     "text": [
      "127.0.0.1 - - [11/May/2022 10:17:56] \"\u001b[37mPOST /_dash-update-component HTTP/1.1\u001b[0m\" 200 -\n",
      "127.0.0.1 - - [11/May/2022 10:17:56] \"\u001b[37mPOST /_dash-update-component HTTP/1.1\u001b[0m\" 200 -\n"
     ]
    },
    {
     "name": "stdout",
     "output_type": "stream",
     "text": [
      "Sarah was so mad a\n",
      "             document  n_tokens  n_i\n",
      "0  Sarah was so mad a         5    0\n",
      "Sarah was so mad at\n",
      "              document  n_tokens  n_i\n",
      "0  Sarah was so mad at         5    0\n"
     ]
    },
    {
     "name": "stderr",
     "output_type": "stream",
     "text": [
      "127.0.0.1 - - [11/May/2022 10:17:56] \"\u001b[37mPOST /_dash-update-component HTTP/1.1\u001b[0m\" 200 -\n"
     ]
    },
    {
     "name": "stdout",
     "output_type": "stream",
     "text": [
      "Sarah was so mad at \n",
      "               document  n_tokens  n_i\n",
      "0  Sarah was so mad at          5    0\n",
      "Sarah was so mad at m\n"
     ]
    },
    {
     "name": "stderr",
     "output_type": "stream",
     "text": [
      "127.0.0.1 - - [11/May/2022 10:17:57] \"\u001b[37mPOST /_dash-update-component HTTP/1.1\u001b[0m\" 200 -\n",
      "127.0.0.1 - - [11/May/2022 10:17:57] \"\u001b[37mPOST /_dash-update-component HTTP/1.1\u001b[0m\" 200 -\n"
     ]
    },
    {
     "name": "stdout",
     "output_type": "stream",
     "text": [
      "Sarah was so mad at me                document  n_tokens  n_i\n",
      "0  Sarah was so mad at m         6    0\n",
      "\n",
      "                 document  n_tokens  n_i\n",
      "0  Sarah was so mad at me         6    0\n"
     ]
    },
    {
     "name": "stderr",
     "output_type": "stream",
     "text": [
      "127.0.0.1 - - [11/May/2022 10:18:09] \"\u001b[37mPOST /_dash-update-component HTTP/1.1\u001b[0m\" 200 -\n"
     ]
    },
    {
     "name": "stdout",
     "output_type": "stream",
     "text": [
      "Sarah was so mad at m\n",
      "                document  n_tokens  n_i\n",
      "0  Sarah was so mad at m         6    0\n",
      "Sarah was so mad at \n",
      "Sarah was so mad at               document  n_tokens  n_i\n",
      "0  Sarah was so mad at          5    0\n",
      "\n",
      "Sarah was so mad a\n",
      "              document  n_tokens  n_i\n",
      "0  Sarah was so mad at         5    0Sarah was so mad \n"
     ]
    },
    {
     "name": "stderr",
     "output_type": "stream",
     "text": [
      "127.0.0.1 - - [11/May/2022 10:18:09] \"\u001b[37mPOST /_dash-update-component HTTP/1.1\u001b[0m\" 200 -\n",
      "127.0.0.1 - - [11/May/2022 10:18:10] \"\u001b[37mPOST /_dash-update-component HTTP/1.1\u001b[0m\" 200 -\n"
     ]
    },
    {
     "name": "stdout",
     "output_type": "stream",
     "text": [
      "\n",
      "Sarah was so mad\n",
      "             document  n_tokens  n_i\n",
      "0  Sarah was so mad a         5    0\n",
      "Sarah was so ma\n",
      "            document  n_tokens  n_i\n",
      "0  Sarah was so mad          4    0\n",
      "Sarah was so m           document  n_tokens  n_i\n",
      "0  Sarah was so mad         4    0\n",
      "\n",
      "          document  n_tokens  n_i\n",
      "0  Sarah was so ma         4    0\n"
     ]
    },
    {
     "name": "stderr",
     "output_type": "stream",
     "text": [
      "127.0.0.1 - - [11/May/2022 10:18:10] \"\u001b[37mPOST /_dash-update-component HTTP/1.1\u001b[0m\" 200 -\n",
      "127.0.0.1 - - [11/May/2022 10:18:10] \"\u001b[37mPOST /_dash-update-component HTTP/1.1\u001b[0m\" 200 -\n",
      "127.0.0.1 - - [11/May/2022 10:18:10] \"\u001b[37mPOST /_dash-update-component HTTP/1.1\u001b[0m\" 200 -\n",
      "127.0.0.1 - - [11/May/2022 10:18:10] \"\u001b[37mPOST /_dash-update-component HTTP/1.1\u001b[0m\" 200 -\n"
     ]
    },
    {
     "name": "stdout",
     "output_type": "stream",
     "text": [
      "         document  n_tokens  n_i\n",
      "0  Sarah was so m         4    0\n",
      "Sarah was so \n",
      "Sarah was so\n",
      "Sarah was s"
     ]
    },
    {
     "name": "stderr",
     "output_type": "stream",
     "text": [
      "127.0.0.1 - - [11/May/2022 10:18:10] \"\u001b[37mPOST /_dash-update-component HTTP/1.1\u001b[0m\" 200 -\n",
      "127.0.0.1 - - [11/May/2022 10:18:10] \"\u001b[37mPOST /_dash-update-component HTTP/1.1\u001b[0m\" 200 -\n",
      "127.0.0.1 - - [11/May/2022 10:18:10] \"\u001b[37mPOST /_dash-update-component HTTP/1.1\u001b[0m\" 200 -\n",
      "127.0.0.1 - - [11/May/2022 10:18:10] \"\u001b[37mPOST /_dash-update-component HTTP/1.1\u001b[0m\" 200 -\n"
     ]
    },
    {
     "name": "stdout",
     "output_type": "stream",
     "text": [
      "        document  n_tokens  n_i\n",
      "0  Sarah was so          3    0\n",
      "\n",
      "       document  n_tokens  n_i\n",
      "0  Sarah was so         3    0Sarah was \n",
      "Sarah was\n",
      "\n",
      "      document  n_tokens  n_i\n",
      "0  Sarah was s         3    0\n",
      "    document  n_tokens  n_i\n",
      "0  Sarah was         2    0     document  n_tokens  n_i\n",
      "0  Sarah was          2    0\n",
      "\n",
      "Sarah wa\n",
      "   document  n_tokens  n_i\n",
      "0  Sarah wa         2    0\n"
     ]
    },
    {
     "name": "stderr",
     "output_type": "stream",
     "text": [
      "127.0.0.1 - - [11/May/2022 10:18:10] \"\u001b[37mPOST /_dash-update-component HTTP/1.1\u001b[0m\" 200 -\n",
      "127.0.0.1 - - [11/May/2022 10:18:10] \"\u001b[37mPOST /_dash-update-component HTTP/1.1\u001b[0m\" 200 -\n",
      "127.0.0.1 - - [11/May/2022 10:18:10] \"\u001b[37mPOST /_dash-update-component HTTP/1.1\u001b[0m\" 200 -\n"
     ]
    },
    {
     "name": "stdout",
     "output_type": "stream",
     "text": [
      "Sarah w\n",
      "Sarah \n",
      "  document  n_tokens  n_i\n",
      "0  Sarah w         2    0Sarah w\n",
      "\n",
      "  document  n_tokens  n_i\n",
      "0   Sarah          1    0\n",
      "Sarah wa\n",
      "  document  n_tokens  n_i\n",
      "0  Sarah w         2    0\n"
     ]
    },
    {
     "name": "stderr",
     "output_type": "stream",
     "text": [
      "127.0.0.1 - - [11/May/2022 10:18:10] \"\u001b[37mPOST /_dash-update-component HTTP/1.1\u001b[0m\" 200 -\n",
      "127.0.0.1 - - [11/May/2022 10:18:11] \"\u001b[37mPOST /_dash-update-component HTTP/1.1\u001b[0m\" 200 -\n"
     ]
    },
    {
     "name": "stdout",
     "output_type": "stream",
     "text": [
      "   document  n_tokens  n_i\n",
      "0  Sarah wa         2    0\n",
      "Sarah wal\n",
      "Sarah walk\n",
      "    document  n_tokens  n_i\n",
      "0  Sarah wal         2    0\n"
     ]
    },
    {
     "name": "stderr",
     "output_type": "stream",
     "text": [
      "127.0.0.1 - - [11/May/2022 10:18:11] \"\u001b[37mPOST /_dash-update-component HTTP/1.1\u001b[0m\" 200 -\n",
      "127.0.0.1 - - [11/May/2022 10:18:11] \"\u001b[37mPOST /_dash-update-component HTTP/1.1\u001b[0m\" 200 -\n",
      "127.0.0.1 - - [11/May/2022 10:18:11] \"\u001b[37mPOST /_dash-update-component HTTP/1.1\u001b[0m\" 200 -\n",
      "127.0.0.1 - - [11/May/2022 10:18:11] \"\u001b[37mPOST /_dash-update-component HTTP/1.1\u001b[0m\" 200 -\n",
      "127.0.0.1 - - [11/May/2022 10:18:11] \"\u001b[37mPOST /_dash-update-component HTTP/1.1\u001b[0m\" 200 -\n",
      "127.0.0.1 - - [11/May/2022 10:18:11] \"\u001b[37mPOST /_dash-update-component HTTP/1.1\u001b[0m\" 200 -\n"
     ]
    },
    {
     "name": "stdout",
     "output_type": "stream",
     "text": [
      "Sarah walke\n",
      "     document  n_tokens  n_i\n",
      "0  Sarah walk         2    0      document  n_tokens  n_i\n",
      "0  Sarah walke         2    0\n",
      "\n",
      "Sarah walked\n",
      "       document  n_tokens  n_i\n",
      "0  Sarah walked         2    0\n"
     ]
    },
    {
     "name": "stderr",
     "output_type": "stream",
     "text": [
      "127.0.0.1 - - [11/May/2022 10:18:11] \"\u001b[37mPOST /_dash-update-component HTTP/1.1\u001b[0m\" 200 -\n"
     ]
    },
    {
     "name": "stdout",
     "output_type": "stream",
     "text": [
      "Sarah walked \n",
      "Sarah walked i        document  n_tokens  n_i\n",
      "0  Sarah walked          2    0\n",
      "\n",
      "         document  n_tokens  n_i\n",
      "0  Sarah walked i         3    0\n",
      "Sarah walked in\n",
      "          document  n_tokens  n_i\n",
      "0  Sarah walked in         3    0\n"
     ]
    },
    {
     "name": "stderr",
     "output_type": "stream",
     "text": [
      "127.0.0.1 - - [11/May/2022 10:18:11] \"\u001b[37mPOST /_dash-update-component HTTP/1.1\u001b[0m\" 200 -\n",
      "127.0.0.1 - - [11/May/2022 10:18:11] \"\u001b[37mPOST /_dash-update-component HTTP/1.1\u001b[0m\" 200 -\n",
      "127.0.0.1 - - [11/May/2022 10:18:11] \"\u001b[37mPOST /_dash-update-component HTTP/1.1\u001b[0m\" 200 -\n",
      "127.0.0.1 - - [11/May/2022 10:18:11] \"\u001b[37mPOST /_dash-update-component HTTP/1.1\u001b[0m\" 200 -\n"
     ]
    },
    {
     "name": "stdout",
     "output_type": "stream",
     "text": [
      "Sarah walked in \n",
      "           document  n_tokens  n_i\n",
      "0  Sarah walked in          3    0\n",
      "Sarah walked in a\n",
      "            document  n_tokens  n_i\n",
      "0  Sarah walked in a         4    0\n"
     ]
    },
    {
     "name": "stderr",
     "output_type": "stream",
     "text": [
      "127.0.0.1 - - [11/May/2022 10:18:12] \"\u001b[37mPOST /_dash-update-component HTTP/1.1\u001b[0m\" 200 -\n"
     ]
    },
    {
     "name": "stdout",
     "output_type": "stream",
     "text": [
      "Sarah walked in an\n",
      "             document  n_tokens  n_i\n",
      "0  Sarah walked in an         4    0\n",
      "Sarah walked in and"
     ]
    },
    {
     "name": "stderr",
     "output_type": "stream",
     "text": [
      "127.0.0.1 - - [11/May/2022 10:18:12] \"\u001b[37mPOST /_dash-update-component HTTP/1.1\u001b[0m\" 200 -\n",
      "127.0.0.1 - - [11/May/2022 10:18:12] \"\u001b[37mPOST /_dash-update-component HTTP/1.1\u001b[0m\" 200 -\n"
     ]
    },
    {
     "name": "stdout",
     "output_type": "stream",
     "text": [
      "\n",
      "              document  n_tokens  n_i\n",
      "0  Sarah walked in and         4    0\n",
      "Sarah walked in and \n",
      "               document  n_tokens  n_i\n",
      "0  Sarah walked in and          4    0\n"
     ]
    },
    {
     "name": "stderr",
     "output_type": "stream",
     "text": [
      "127.0.0.1 - - [11/May/2022 10:18:12] \"\u001b[37mPOST /_dash-update-component HTTP/1.1\u001b[0m\" 200 -\n"
     ]
    },
    {
     "name": "stdout",
     "output_type": "stream",
     "text": [
      "Sarah walked in and s\n",
      "                document  n_tokens  n_i\n",
      "0  Sarah walked in and s         5    0\n"
     ]
    },
    {
     "name": "stderr",
     "output_type": "stream",
     "text": [
      "127.0.0.1 - - [11/May/2022 10:18:12] \"\u001b[37mPOST /_dash-update-component HTTP/1.1\u001b[0m\" 200 -\n"
     ]
    },
    {
     "name": "stdout",
     "output_type": "stream",
     "text": [
      "Sarah walked in and sc\n",
      "                 document  n_tokens  n_i\n",
      "0  Sarah walked in and sc         5    0\n",
      "Sarah walked in and sca\n",
      "                  document  n_tokens  n_i\n",
      "0  Sarah walked in and sca         5    0"
     ]
    },
    {
     "name": "stderr",
     "output_type": "stream",
     "text": [
      "127.0.0.1 - - [11/May/2022 10:18:12] \"\u001b[37mPOST /_dash-update-component HTTP/1.1\u001b[0m\" 200 -\n",
      "127.0.0.1 - - [11/May/2022 10:18:13] \"\u001b[37mPOST /_dash-update-component HTTP/1.1\u001b[0m\" 200 -\n"
     ]
    },
    {
     "name": "stdout",
     "output_type": "stream",
     "text": [
      "\n",
      "Sarah walked in and scar\n",
      "                   document  n_tokens  n_i\n",
      "0  Sarah walked in and scar         5    0\n",
      "Sarah walked in and scare\n",
      "                    document  n_tokens  n_i\n",
      "0  Sarah walked in and scare         5    0\n"
     ]
    },
    {
     "name": "stderr",
     "output_type": "stream",
     "text": [
      "127.0.0.1 - - [11/May/2022 10:18:13] \"\u001b[37mPOST /_dash-update-component HTTP/1.1\u001b[0m\" 200 -\n",
      "127.0.0.1 - - [11/May/2022 10:18:13] \"\u001b[37mPOST /_dash-update-component HTTP/1.1\u001b[0m\" 200 -\n",
      "127.0.0.1 - - [11/May/2022 10:18:13] \"\u001b[37mPOST /_dash-update-component HTTP/1.1\u001b[0m\" 200 -\n"
     ]
    },
    {
     "name": "stdout",
     "output_type": "stream",
     "text": [
      "Sarah walked in and scared\n",
      "                     document  n_tokens  n_i\n",
      "0  Sarah walked in and scared         5    0\n",
      "Sarah walked in and scared \n",
      "                      document  n_tokens  n_i\n",
      "0  Sarah walked in and scared          5    0\n",
      "Sarah walked in and scared t\n",
      "                       document  n_tokens  n_i\n",
      "0  Sarah walked in and scared t         6    0\n"
     ]
    },
    {
     "name": "stderr",
     "output_type": "stream",
     "text": [
      "127.0.0.1 - - [11/May/2022 10:18:13] \"\u001b[37mPOST /_dash-update-component HTTP/1.1\u001b[0m\" 200 -\n",
      "127.0.0.1 - - [11/May/2022 10:18:13] \"\u001b[37mPOST /_dash-update-component HTTP/1.1\u001b[0m\" 200 -\n",
      "127.0.0.1 - - [11/May/2022 10:18:13] \"\u001b[37mPOST /_dash-update-component HTTP/1.1\u001b[0m\" 200 -\n"
     ]
    },
    {
     "name": "stdout",
     "output_type": "stream",
     "text": [
      "Sarah walked in and scared the\n",
      "                         document  n_tokens  n_i\n",
      "0  Sarah walked in and scared the         6    0\n",
      "Sarah walked in and scared the \n",
      "                          document  n_tokens  n_i\n",
      "0  Sarah walked in and scared the          6    0\n"
     ]
    },
    {
     "name": "stderr",
     "output_type": "stream",
     "text": [
      "127.0.0.1 - - [11/May/2022 10:18:13] \"\u001b[37mPOST /_dash-update-component HTTP/1.1\u001b[0m\" 200 -\n"
     ]
    },
    {
     "name": "stdout",
     "output_type": "stream",
     "text": [
      "Sarah walked in and scared the c\n",
      "                           document  n_tokens  n_i\n",
      "0  Sarah walked in and scared the c         7    0\n"
     ]
    },
    {
     "name": "stderr",
     "output_type": "stream",
     "text": [
      "127.0.0.1 - - [11/May/2022 10:18:14] \"\u001b[37mPOST /_dash-update-component HTTP/1.1\u001b[0m\" 200 -\n",
      "127.0.0.1 - - [11/May/2022 10:18:14] \"\u001b[37mPOST /_dash-update-component HTTP/1.1\u001b[0m\" 200 -\n"
     ]
    },
    {
     "name": "stdout",
     "output_type": "stream",
     "text": [
      "Sarah walked in and scared the cr\n",
      "                            document  n_tokens  n_i\n",
      "0  Sarah walked in and scared the cr         7    0\n",
      "Sarah walked in and scared the cra\n",
      "                             document  n_tokens  n_i\n",
      "0  Sarah walked in and scared the cra         7    0\n",
      "Sarah walked in and scared the crap\n"
     ]
    },
    {
     "name": "stderr",
     "output_type": "stream",
     "text": [
      "127.0.0.1 - - [11/May/2022 10:18:14] \"\u001b[37mPOST /_dash-update-component HTTP/1.1\u001b[0m\" 200 -\n",
      "127.0.0.1 - - [11/May/2022 10:18:14] \"\u001b[37mPOST /_dash-update-component HTTP/1.1\u001b[0m\" 200 -\n"
     ]
    },
    {
     "name": "stdout",
     "output_type": "stream",
     "text": [
      "Sarah walked in and scared the crap                               document  n_tokens  n_i\n",
      "0  Sarah walked in and scared the crap         7    0\n",
      "\n",
      "                               document  n_tokens  n_i\n",
      "0  Sarah walked in and scared the crap          7    0\n",
      "Sarah walked in and scared the crap o\n",
      "                                document  n_tokens  n_i\n",
      "0  Sarah walked in and scared the crap o         8    0\n"
     ]
    },
    {
     "name": "stderr",
     "output_type": "stream",
     "text": [
      "127.0.0.1 - - [11/May/2022 10:18:14] \"\u001b[37mPOST /_dash-update-component HTTP/1.1\u001b[0m\" 200 -\n"
     ]
    },
    {
     "name": "stdout",
     "output_type": "stream",
     "text": [
      "Sarah walked in and scared the crap ou\n",
      "Sarah walked in and scared the crap out                                 document  n_tokens  n_i\n",
      "0  Sarah walked in and scared the crap ou         8    0\n",
      "\n",
      "Sarah walked in and scared the crap out \n"
     ]
    },
    {
     "name": "stderr",
     "output_type": "stream",
     "text": [
      "127.0.0.1 - - [11/May/2022 10:18:14] \"\u001b[37mPOST /_dash-update-component HTTP/1.1\u001b[0m\" 200 -\n"
     ]
    },
    {
     "name": "stdout",
     "output_type": "stream",
     "text": [
      "Sarah walked in and scared the crap out o                                   document  n_tokens  n_i\n",
      "0  Sarah walked in and scared the crap out          8    0\n",
      "\n",
      "                                  document  n_tokens  n_i\n",
      "0  Sarah walked in and scared the crap out         8    0\n",
      "Sarah walked in and scared the crap out of\n",
      "Sarah walked in and scared the crap out of                                     document  n_tokens  n_i\n",
      "0  Sarah walked in and scared the crap out o         9    0\n",
      "\n",
      "                                     document  n_tokens  n_i\n",
      "0  Sarah walked in and scared the crap out of         9    0"
     ]
    },
    {
     "name": "stderr",
     "output_type": "stream",
     "text": [
      "127.0.0.1 - - [11/May/2022 10:18:14] \"\u001b[37mPOST /_dash-update-component HTTP/1.1\u001b[0m\" 200 -\n",
      "127.0.0.1 - - [11/May/2022 10:18:14] \"\u001b[37mPOST /_dash-update-component HTTP/1.1\u001b[0m\" 200 -\n",
      "127.0.0.1 - - [11/May/2022 10:18:15] \"\u001b[37mPOST /_dash-update-component HTTP/1.1\u001b[0m\" 200 -\n",
      "127.0.0.1 - - [11/May/2022 10:18:15] \"\u001b[37mPOST /_dash-update-component HTTP/1.1\u001b[0m\" 200 -\n",
      "127.0.0.1 - - [11/May/2022 10:18:15] \"\u001b[37mPOST /_dash-update-component HTTP/1.1\u001b[0m\" 200 -\n"
     ]
    },
    {
     "name": "stdout",
     "output_type": "stream",
     "text": [
      "\n",
      "                                      document  n_tokens  n_i\n",
      "0  Sarah walked in and scared the crap out of          9    0\n",
      "Sarah walked in and scared the crap out of m\n",
      "                                       document  n_tokens  n_i\n",
      "0  Sarah walked in and scared the crap out of m        10    0\n",
      "Sarah walked in and scared the crap out of me\n",
      "                                        document  n_tokens  n_i\n",
      "0  Sarah walked in and scared the crap out of me        10    0\n"
     ]
    },
    {
     "name": "stderr",
     "output_type": "stream",
     "text": [
      "127.0.0.1 - - [11/May/2022 10:18:15] \"\u001b[37mPOST /_dash-update-component HTTP/1.1\u001b[0m\" 200 -\n",
      "127.0.0.1 - - [11/May/2022 10:18:15] \"\u001b[37mPOST /_dash-update-component HTTP/1.1\u001b[0m\" 200 -\n",
      "127.0.0.1 - - [11/May/2022 10:18:32] \"\u001b[37mPOST /_dash-update-component HTTP/1.1\u001b[0m\" 200 -\n",
      "127.0.0.1 - - [11/May/2022 10:18:32] \"\u001b[37mPOST /_dash-update-component HTTP/1.1\u001b[0m\" 200 -\n"
     ]
    },
    {
     "name": "stdout",
     "output_type": "stream",
     "text": [
      "I\n",
      "  document  n_tokens  n_i\n",
      "0        I         1    0\n",
      "I \n",
      "  document  n_tokens  n_i\n",
      "0       I          1    1\n"
     ]
    },
    {
     "name": "stderr",
     "output_type": "stream",
     "text": [
      "127.0.0.1 - - [11/May/2022 10:18:32] \"\u001b[37mPOST /_dash-update-component HTTP/1.1\u001b[0m\" 200 -\n",
      "127.0.0.1 - - [11/May/2022 10:18:32] \"\u001b[37mPOST /_dash-update-component HTTP/1.1\u001b[0m\" 200 -\n"
     ]
    },
    {
     "name": "stdout",
     "output_type": "stream",
     "text": [
      "I l\n",
      "  document  n_tokens  n_i\n",
      "0      I l         2    1\n",
      "I li\n",
      "  document  n_tokens  n_i\n",
      "0     I li         2    1\n",
      "I lik\n",
      "I like\n",
      "  document  n_tokens  n_i\n",
      "0    I lik         2    1I like \n",
      "\n",
      "  document  n_tokens  n_i\n",
      "0   I like         2    1\n",
      "  document  n_tokens  n_i\n",
      "0  I like          2    1\n",
      "I like t\n"
     ]
    },
    {
     "name": "stderr",
     "output_type": "stream",
     "text": [
      "127.0.0.1 - - [11/May/2022 10:18:33] \"\u001b[37mPOST /_dash-update-component HTTP/1.1\u001b[0m\" 200 -\n",
      "127.0.0.1 - - [11/May/2022 10:18:33] \"\u001b[37mPOST /_dash-update-component HTTP/1.1\u001b[0m\" 200 -\n",
      "127.0.0.1 - - [11/May/2022 10:18:33] \"\u001b[37mPOST /_dash-update-component HTTP/1.1\u001b[0m\" 200 -\n",
      "127.0.0.1 - - [11/May/2022 10:18:33] \"\u001b[37mPOST /_dash-update-component HTTP/1.1\u001b[0m\" 200 -\n",
      "127.0.0.1 - - [11/May/2022 10:18:33] \"\u001b[37mPOST /_dash-update-component HTTP/1.1\u001b[0m\" 200 -\n",
      "127.0.0.1 - - [11/May/2022 10:18:33] \"\u001b[37mPOST /_dash-update-component HTTP/1.1\u001b[0m\" 200 -\n"
     ]
    },
    {
     "name": "stdout",
     "output_type": "stream",
     "text": [
      "I like th\n",
      "I like the\n",
      "   document  n_tokens  n_i\n",
      "0  I like t         3    1\n",
      "    document  n_tokens  n_i\n",
      "0  I like th         3    1\n",
      "     document  n_tokens  n_i\n",
      "0  I like the         3    1\n",
      "I like the I like the e\n",
      "\n",
      "I like the ev\n",
      "      document  n_tokens  n_i\n",
      "0  I like the          3    1\n",
      "I like the eve\n",
      "I like the even\n",
      "       document  n_tokens  n_i\n",
      "0  I like the e         4    1\n",
      "        document  n_tokens  n_i\n",
      "0  I like the ev         4    1\n"
     ]
    },
    {
     "name": "stderr",
     "output_type": "stream",
     "text": [
      "127.0.0.1 - - [11/May/2022 10:18:33] \"\u001b[37mPOST /_dash-update-component HTTP/1.1\u001b[0m\" 200 -\n",
      "127.0.0.1 - - [11/May/2022 10:18:33] \"\u001b[37mPOST /_dash-update-component HTTP/1.1\u001b[0m\" 200 -\n",
      "127.0.0.1 - - [11/May/2022 10:18:33] \"\u001b[37mPOST /_dash-update-component HTTP/1.1\u001b[0m\" 200 -\n",
      "127.0.0.1 - - [11/May/2022 10:18:33] \"\u001b[37mPOST /_dash-update-component HTTP/1.1\u001b[0m\" 200 -\n",
      "127.0.0.1 - - [11/May/2022 10:18:33] \"\u001b[37mPOST /_dash-update-component HTTP/1.1\u001b[0m\" 200 -\n"
     ]
    },
    {
     "name": "stdout",
     "output_type": "stream",
     "text": [
      "         document  n_tokens  n_i\n",
      "0  I like the eve         4    1\n",
      "          document  n_tokens  n_i\n",
      "0  I like the even         4    1\n",
      "I like the event\n",
      "           document  n_tokens  n_i\n",
      "0  I like the event         4    1\n"
     ]
    },
    {
     "name": "stderr",
     "output_type": "stream",
     "text": [
      "127.0.0.1 - - [11/May/2022 10:18:33] \"\u001b[37mPOST /_dash-update-component HTTP/1.1\u001b[0m\" 200 -\n",
      "127.0.0.1 - - [11/May/2022 10:18:44] \"\u001b[37mPOST /_dash-update-component HTTP/1.1\u001b[0m\" 200 -\n"
     ]
    },
    {
     "name": "stdout",
     "output_type": "stream",
     "text": [
      "I like the even\n",
      "          document  n_tokens  n_i\n",
      "0  I like the even         4    1\n",
      "I like the eve\n",
      "I like the ev\n",
      "         document  n_tokens  n_i\n",
      "0  I like the eve         4    1\n",
      "I like the e\n",
      "I like the \n",
      "        document  n_tokens  n_i\n",
      "0  I like the ev         4    1I like the"
     ]
    },
    {
     "name": "stderr",
     "output_type": "stream",
     "text": [
      "127.0.0.1 - - [11/May/2022 10:18:45] \"\u001b[37mPOST /_dash-update-component HTTP/1.1\u001b[0m\" 200 -\n"
     ]
    },
    {
     "name": "stdout",
     "output_type": "stream",
     "text": [
      "       document  n_tokens  n_i\n",
      "0  I like the e         4    1\n",
      "\n",
      "\n",
      "I like th\n",
      "     document  n_tokens  n_i\n",
      "0  I like the         3    1\n",
      "      document  n_tokens  n_i\n",
      "0  I like the          3    1    document  n_tokens  n_i\n",
      "0  I like th         3    1\n",
      "\n"
     ]
    },
    {
     "name": "stderr",
     "output_type": "stream",
     "text": [
      "127.0.0.1 - - [11/May/2022 10:18:45] \"\u001b[37mPOST /_dash-update-component HTTP/1.1\u001b[0m\" 200 -\n",
      "127.0.0.1 - - [11/May/2022 10:18:45] \"\u001b[37mPOST /_dash-update-component HTTP/1.1\u001b[0m\" 200 -\n",
      "127.0.0.1 - - [11/May/2022 10:18:45] \"\u001b[37mPOST /_dash-update-component HTTP/1.1\u001b[0m\" 200 -\n",
      "127.0.0.1 - - [11/May/2022 10:18:45] \"\u001b[37mPOST /_dash-update-component HTTP/1.1\u001b[0m\" 200 -\n",
      "127.0.0.1 - - [11/May/2022 10:18:45] \"\u001b[37mPOST /_dash-update-component HTTP/1.1\u001b[0m\" 200 -\n"
     ]
    },
    {
     "name": "stdout",
     "output_type": "stream",
     "text": [
      "I like tI like \n",
      "\n",
      "I like\n",
      "I lik\n",
      "   document  n_tokens  n_i\n",
      "0  I like t         3    1\n",
      "I li"
     ]
    },
    {
     "name": "stderr",
     "output_type": "stream",
     "text": [
      "127.0.0.1 - - [11/May/2022 10:18:45] \"\u001b[37mPOST /_dash-update-component HTTP/1.1\u001b[0m\" 200 -\n",
      "127.0.0.1 - - [11/May/2022 10:18:45] \"\u001b[37mPOST /_dash-update-component HTTP/1.1\u001b[0m\" 200 -\n",
      "127.0.0.1 - - [11/May/2022 10:18:45] \"\u001b[37mPOST /_dash-update-component HTTP/1.1\u001b[0m\" 200 -\n",
      "127.0.0.1 - - [11/May/2022 10:18:45] \"\u001b[37mPOST /_dash-update-component HTTP/1.1\u001b[0m\" 200 -\n",
      "127.0.0.1 - - [11/May/2022 10:18:45] \"\u001b[37mPOST /_dash-update-component HTTP/1.1\u001b[0m\" 200 -\n",
      "127.0.0.1 - - [11/May/2022 10:18:45] \"\u001b[37mPOST /_dash-update-component HTTP/1.1\u001b[0m\" 200 -\n"
     ]
    },
    {
     "name": "stdout",
     "output_type": "stream",
     "text": [
      "\n",
      "  document  n_tokens  n_i\n",
      "0  I like          2    1I l  document  n_tokens  n_i\n",
      "0   I like         2    1\n",
      "\n",
      "\n",
      "  document  n_tokens  n_i\n",
      "0     I li         2    1  document  n_tokens  n_i\n",
      "0    I lik         2    1\n",
      "\n",
      "  document  n_tokens  n_i\n",
      "0      I l         2    1\n"
     ]
    },
    {
     "name": "stderr",
     "output_type": "stream",
     "text": [
      "127.0.0.1 - - [11/May/2022 10:18:46] \"\u001b[37mPOST /_dash-update-component HTTP/1.1\u001b[0m\" 200 -\n",
      "127.0.0.1 - - [11/May/2022 10:18:46] \"\u001b[37mPOST /_dash-update-component HTTP/1.1\u001b[0m\" 200 -\n",
      "127.0.0.1 - - [11/May/2022 10:18:46] \"\u001b[37mPOST /_dash-update-component HTTP/1.1\u001b[0m\" 200 -\n"
     ]
    },
    {
     "name": "stdout",
     "output_type": "stream",
     "text": [
      "I I\n",
      "\n",
      "\n",
      "  document  n_tokens  n_i\n",
      "0       I          1    1\n",
      "  document  n_tokens  n_i\n",
      "0        I         1    0\n",
      "  document  n_tokens  n_i\n",
      "0                  0    0\n"
     ]
    },
    {
     "name": "stderr",
     "output_type": "stream",
     "text": [
      "127.0.0.1 - - [11/May/2022 10:18:46] \"\u001b[37mPOST /_dash-update-component HTTP/1.1\u001b[0m\" 200 -\n",
      "127.0.0.1 - - [11/May/2022 10:18:47] \"\u001b[37mPOST /_dash-update-component HTTP/1.1\u001b[0m\" 200 -\n"
     ]
    },
    {
     "name": "stdout",
     "output_type": "stream",
     "text": [
      "I\n",
      "  document  n_tokens  n_i\n",
      "0        I         1    0\n",
      "I \n",
      "  document  n_tokens  n_i\n",
      "0       I          1    1\n"
     ]
    },
    {
     "name": "stderr",
     "output_type": "stream",
     "text": [
      "127.0.0.1 - - [11/May/2022 10:18:47] \"\u001b[37mPOST /_dash-update-component HTTP/1.1\u001b[0m\" 200 -\n",
      "127.0.0.1 - - [11/May/2022 10:18:47] \"\u001b[37mPOST /_dash-update-component HTTP/1.1\u001b[0m\" 200 -\n"
     ]
    },
    {
     "name": "stdout",
     "output_type": "stream",
     "text": [
      "I a\n",
      "  document  n_tokens  n_i\n",
      "0      I a         2    1\n",
      "I am\n",
      "  document  n_tokens  n_i\n",
      "0     I am         2    1\n"
     ]
    },
    {
     "name": "stderr",
     "output_type": "stream",
     "text": [
      "127.0.0.1 - - [11/May/2022 10:18:47] \"\u001b[37mPOST /_dash-update-component HTTP/1.1\u001b[0m\" 200 -\n"
     ]
    },
    {
     "name": "stdout",
     "output_type": "stream",
     "text": [
      "I am \n",
      "  document  n_tokens  n_i\n",
      "0    I am          2    1\n"
     ]
    },
    {
     "name": "stderr",
     "output_type": "stream",
     "text": [
      "127.0.0.1 - - [11/May/2022 10:18:47] \"\u001b[37mPOST /_dash-update-component HTTP/1.1\u001b[0m\" 200 -\n",
      "127.0.0.1 - - [11/May/2022 10:18:48] \"\u001b[37mPOST /_dash-update-component HTTP/1.1\u001b[0m\" 200 -\n"
     ]
    },
    {
     "name": "stdout",
     "output_type": "stream",
     "text": [
      "I am h\n",
      "  document  n_tokens  n_i\n",
      "0   I am h         3    1\n",
      "I am ha\n",
      "  document  n_tokens  n_i\n",
      "0  I am ha         3    1\n",
      "I am hap\n"
     ]
    },
    {
     "name": "stderr",
     "output_type": "stream",
     "text": [
      "127.0.0.1 - - [11/May/2022 10:18:48] \"\u001b[37mPOST /_dash-update-component HTTP/1.1\u001b[0m\" 200 -\n",
      "127.0.0.1 - - [11/May/2022 10:18:48] \"\u001b[37mPOST /_dash-update-component HTTP/1.1\u001b[0m\" 200 -\n"
     ]
    },
    {
     "name": "stdout",
     "output_type": "stream",
     "text": [
      "   document  n_tokens  n_i\n",
      "0  I am hap         3    1\n",
      "I am happ\n",
      "    document  n_tokens  n_i\n",
      "0  I am happ         3    1\n"
     ]
    },
    {
     "name": "stderr",
     "output_type": "stream",
     "text": [
      "127.0.0.1 - - [11/May/2022 10:18:48] \"\u001b[37mPOST /_dash-update-component HTTP/1.1\u001b[0m\" 200 -\n",
      "127.0.0.1 - - [11/May/2022 10:18:48] \"\u001b[37mPOST /_dash-update-component HTTP/1.1\u001b[0m\" 200 -\n"
     ]
    },
    {
     "name": "stdout",
     "output_type": "stream",
     "text": [
      "I am happy\n",
      "     document  n_tokens  n_i\n",
      "0  I am happy         3    1\n",
      "I am happy \n",
      "      document  n_tokens  n_i\n",
      "0  I am happy          3    1\n"
     ]
    },
    {
     "name": "stderr",
     "output_type": "stream",
     "text": [
      "127.0.0.1 - - [11/May/2022 10:18:49] \"\u001b[37mPOST /_dash-update-component HTTP/1.1\u001b[0m\" 200 -\n",
      "127.0.0.1 - - [11/May/2022 10:18:49] \"\u001b[37mPOST /_dash-update-component HTTP/1.1\u001b[0m\" 200 -\n"
     ]
    },
    {
     "name": "stdout",
     "output_type": "stream",
     "text": [
      "I am happy w\n",
      "       document  n_tokens  n_i\n",
      "0  I am happy w         4    1\n",
      "I am happy wi\n",
      "        document  n_tokens  n_i\n",
      "0  I am happy wi         4    1\n"
     ]
    },
    {
     "name": "stderr",
     "output_type": "stream",
     "text": [
      "127.0.0.1 - - [11/May/2022 10:18:49] \"\u001b[37mPOST /_dash-update-component HTTP/1.1\u001b[0m\" 200 -\n",
      "127.0.0.1 - - [11/May/2022 10:18:49] \"\u001b[37mPOST /_dash-update-component HTTP/1.1\u001b[0m\" 200 -\n"
     ]
    },
    {
     "name": "stdout",
     "output_type": "stream",
     "text": [
      "I am happy wit\n",
      "         document  n_tokens  n_i\n",
      "0  I am happy wit         4    1\n",
      "I am happy with\n",
      "          document  n_tokens  n_i\n",
      "0  I am happy with         4    1\n",
      "I am happy with \n",
      "           document  n_tokens  n_i\n",
      "0  I am happy with          4    1\n"
     ]
    },
    {
     "name": "stderr",
     "output_type": "stream",
     "text": [
      "127.0.0.1 - - [11/May/2022 10:18:49] \"\u001b[37mPOST /_dash-update-component HTTP/1.1\u001b[0m\" 200 -\n",
      "127.0.0.1 - - [11/May/2022 10:18:49] \"\u001b[37mPOST /_dash-update-component HTTP/1.1\u001b[0m\" 200 -\n"
     ]
    },
    {
     "name": "stdout",
     "output_type": "stream",
     "text": [
      "I am happy with t\n",
      "            document  n_tokens  n_i\n",
      "0  I am happy with t         5    1\n",
      "I am happy with th\n",
      "I am happy with the\n",
      "             document  n_tokens  n_i\n",
      "0  I am happy with th         5    1\n",
      "I am happy with the \n",
      "              document  n_tokens  n_i\n",
      "0  I am happy with the         5    1\n"
     ]
    },
    {
     "name": "stderr",
     "output_type": "stream",
     "text": [
      "127.0.0.1 - - [11/May/2022 10:18:49] \"\u001b[37mPOST /_dash-update-component HTTP/1.1\u001b[0m\" 200 -\n",
      "127.0.0.1 - - [11/May/2022 10:18:49] \"\u001b[37mPOST /_dash-update-component HTTP/1.1\u001b[0m\" 200 -\n",
      "127.0.0.1 - - [11/May/2022 10:18:49] \"\u001b[37mPOST /_dash-update-component HTTP/1.1\u001b[0m\" 200 -\n",
      "127.0.0.1 - - [11/May/2022 10:18:49] \"\u001b[37mPOST /_dash-update-component HTTP/1.1\u001b[0m\" 200 -\n"
     ]
    },
    {
     "name": "stdout",
     "output_type": "stream",
     "text": [
      "I am happy with the e               document  n_tokens  n_i\n",
      "0  I am happy with the          5    1\n",
      "\n",
      "                document  n_tokens  n_i\n",
      "0  I am happy with the e         6    1\n",
      "I am happy with the ev"
     ]
    },
    {
     "name": "stderr",
     "output_type": "stream",
     "text": [
      "127.0.0.1 - - [11/May/2022 10:18:50] \"\u001b[37mPOST /_dash-update-component HTTP/1.1\u001b[0m\" 200 -\n",
      "127.0.0.1 - - [11/May/2022 10:18:50] \"\u001b[37mPOST /_dash-update-component HTTP/1.1\u001b[0m\" 200 -\n"
     ]
    },
    {
     "name": "stdout",
     "output_type": "stream",
     "text": [
      "\n",
      "                 document  n_tokens  n_i\n",
      "0  I am happy with the ev         6    1I am happy with the eve\n",
      "\n",
      "                  document  n_tokens  n_i\n",
      "0  I am happy with the eve         6    1\n",
      "I am happy with the even\n",
      "                   document  n_tokens  n_i\n",
      "0  I am happy with the even         6    1"
     ]
    },
    {
     "name": "stderr",
     "output_type": "stream",
     "text": [
      "127.0.0.1 - - [11/May/2022 10:18:50] \"\u001b[37mPOST /_dash-update-component HTTP/1.1\u001b[0m\" 200 -\n",
      "127.0.0.1 - - [11/May/2022 10:18:50] \"\u001b[37mPOST /_dash-update-component HTTP/1.1\u001b[0m\" 200 -\n"
     ]
    },
    {
     "name": "stdout",
     "output_type": "stream",
     "text": [
      "\n",
      "I am happy with the event\n",
      "                    document  n_tokens  n_i\n",
      "0  I am happy with the event         6    1\n"
     ]
    },
    {
     "name": "stderr",
     "output_type": "stream",
     "text": [
      "127.0.0.1 - - [11/May/2022 10:18:51] \"\u001b[37mPOST /_dash-update-component HTTP/1.1\u001b[0m\" 200 -\n"
     ]
    },
    {
     "name": "stdout",
     "output_type": "stream",
     "text": [
      "I am happy with the even\n",
      "                   document  n_tokens  n_i\n",
      "0  I am happy with the even         6    1\n",
      "I am happy with the eveI am happy with the ev\n",
      "\n",
      "I am happy with the e\n",
      "I am happy with the \n",
      "                 document  n_tokens  n_i\n",
      "0  I am happy with the ev         6    1\n",
      "I am happy with the\n"
     ]
    },
    {
     "name": "stderr",
     "output_type": "stream",
     "text": [
      "127.0.0.1 - - [11/May/2022 10:18:52] \"\u001b[37mPOST /_dash-update-component HTTP/1.1\u001b[0m\" 200 -\n",
      "127.0.0.1 - - [11/May/2022 10:18:52] \"\u001b[37mPOST /_dash-update-component HTTP/1.1\u001b[0m\" 200 -\n",
      "127.0.0.1 - - [11/May/2022 10:18:52] \"\u001b[37mPOST /_dash-update-component HTTP/1.1\u001b[0m\" 200 -\n",
      "127.0.0.1 - - [11/May/2022 10:18:52] \"\u001b[37mPOST /_dash-update-component HTTP/1.1\u001b[0m\" 200 -\n",
      "127.0.0.1 - - [11/May/2022 10:18:52] \"\u001b[37mPOST /_dash-update-component HTTP/1.1\u001b[0m\" 200 -\n",
      "127.0.0.1 - - [11/May/2022 10:18:52] \"\u001b[37mPOST /_dash-update-component HTTP/1.1\u001b[0m\" 200 -\n"
     ]
    },
    {
     "name": "stdout",
     "output_type": "stream",
     "text": [
      "                document  n_tokens  n_i\n",
      "0  I am happy with the e         6    1                  document  n_tokens  n_i\n",
      "0  I am happy with the eve         6    1I am happy with th\n",
      "\n",
      "\n",
      "               document  n_tokens  n_i\n",
      "0  I am happy with the          5    1\n",
      "              document  n_tokens  n_i\n",
      "0  I am happy with the         5    1\n",
      "             document  n_tokens  n_i\n",
      "0  I am happy with th         5    1\n",
      "I am happy with t\n",
      "I am happy with \n",
      "I am happy with\n",
      "            document  n_tokens  n_i\n",
      "0  I am happy with t         5    1\n",
      "           document  n_tokens  n_i\n",
      "0  I am happy with          4    1I am happy wit\n",
      "I am happy wi\n",
      "\n",
      "          document  n_tokens  n_i\n",
      "0  I am happy with         4    1\n",
      "I am happy w\n"
     ]
    },
    {
     "name": "stderr",
     "output_type": "stream",
     "text": [
      "127.0.0.1 - - [11/May/2022 10:18:52] \"\u001b[37mPOST /_dash-update-component HTTP/1.1\u001b[0m\" 200 -\n",
      "127.0.0.1 - - [11/May/2022 10:18:52] \"\u001b[37mPOST /_dash-update-component HTTP/1.1\u001b[0m\" 200 -\n",
      "127.0.0.1 - - [11/May/2022 10:18:52] \"\u001b[37mPOST /_dash-update-component HTTP/1.1\u001b[0m\" 200 -\n",
      "127.0.0.1 - - [11/May/2022 10:18:52] \"\u001b[37mPOST /_dash-update-component HTTP/1.1\u001b[0m\" 200 -\n",
      "127.0.0.1 - - [11/May/2022 10:18:52] \"\u001b[37mPOST /_dash-update-component HTTP/1.1\u001b[0m\" 200 -\n",
      "127.0.0.1 - - [11/May/2022 10:18:52] \"\u001b[37mPOST /_dash-update-component HTTP/1.1\u001b[0m\" 200 -\n"
     ]
    },
    {
     "name": "stdout",
     "output_type": "stream",
     "text": [
      "         document  n_tokens  n_i\n",
      "0  I am happy wit         4    1        document  n_tokens  n_i\n",
      "0  I am happy wi         4    1\n",
      "\n",
      "       document  n_tokens  n_i\n",
      "0  I am happy w         4    1\n",
      "I am happy \n",
      "I am happy\n"
     ]
    },
    {
     "name": "stderr",
     "output_type": "stream",
     "text": [
      "127.0.0.1 - - [11/May/2022 10:18:53] \"\u001b[37mPOST /_dash-update-component HTTP/1.1\u001b[0m\" 200 -\n",
      "127.0.0.1 - - [11/May/2022 10:18:53] \"\u001b[37mPOST /_dash-update-component HTTP/1.1\u001b[0m\" 200 -\n"
     ]
    },
    {
     "name": "stdout",
     "output_type": "stream",
     "text": [
      "I am happ\n",
      "      document  n_tokens  n_i\n",
      "0  I am happy          3    1\n",
      "     document  n_tokens  n_i\n",
      "0  I am happy         3    1\n",
      "I am hap\n",
      "    document  n_tokens  n_i\n",
      "0  I am happ         3    1\n",
      "I am ha\n",
      "I am h\n",
      "   document  n_tokens  n_i\n",
      "0  I am hap         3    1\n",
      "  document  n_tokens  n_i\n",
      "0  I am ha         3    1  document  n_tokens  n_i\n",
      "0   I am h         3    1\n",
      "\n"
     ]
    },
    {
     "name": "stderr",
     "output_type": "stream",
     "text": [
      "127.0.0.1 - - [11/May/2022 10:18:53] \"\u001b[37mPOST /_dash-update-component HTTP/1.1\u001b[0m\" 200 -\n",
      "127.0.0.1 - - [11/May/2022 10:18:53] \"\u001b[37mPOST /_dash-update-component HTTP/1.1\u001b[0m\" 200 -\n",
      "127.0.0.1 - - [11/May/2022 10:18:53] \"\u001b[37mPOST /_dash-update-component HTTP/1.1\u001b[0m\" 200 -\n",
      "127.0.0.1 - - [11/May/2022 10:18:53] \"\u001b[37mPOST /_dash-update-component HTTP/1.1\u001b[0m\" 200 -\n",
      "127.0.0.1 - - [11/May/2022 10:18:53] \"\u001b[37mPOST /_dash-update-component HTTP/1.1\u001b[0m\" 200 -\n",
      "127.0.0.1 - - [11/May/2022 10:18:53] \"\u001b[37mPOST /_dash-update-component HTTP/1.1\u001b[0m\" 200 -\n"
     ]
    },
    {
     "name": "stdout",
     "output_type": "stream",
     "text": [
      "I am \n",
      "  document  n_tokens  n_i\n",
      "0    I am          2    1\n",
      "I am h\n",
      "  document  n_tokens  n_i\n",
      "0   I am h         3    1\n",
      "I am ha"
     ]
    },
    {
     "name": "stderr",
     "output_type": "stream",
     "text": [
      "127.0.0.1 - - [11/May/2022 10:18:53] \"\u001b[37mPOST /_dash-update-component HTTP/1.1\u001b[0m\" 200 -\n"
     ]
    },
    {
     "name": "stdout",
     "output_type": "stream",
     "text": [
      "\n",
      "  document  n_tokens  n_i\n",
      "0  I am ha         3    1\n",
      "I am hav\n"
     ]
    },
    {
     "name": "stderr",
     "output_type": "stream",
     "text": [
      "127.0.0.1 - - [11/May/2022 10:18:53] \"\u001b[37mPOST /_dash-update-component HTTP/1.1\u001b[0m\" 200 -\n"
     ]
    },
    {
     "name": "stdout",
     "output_type": "stream",
     "text": [
      "   document  n_tokens  n_i\n",
      "0  I am hav         3    1\n",
      "I am havi\n",
      "    document  n_tokens  n_i\n",
      "0  I am havi         3    1I am havin\n",
      "\n",
      "     document  n_tokens  n_i\n",
      "0  I am havin         3    1\n"
     ]
    },
    {
     "name": "stderr",
     "output_type": "stream",
     "text": [
      "127.0.0.1 - - [11/May/2022 10:18:53] \"\u001b[37mPOST /_dash-update-component HTTP/1.1\u001b[0m\" 200 -\n",
      "127.0.0.1 - - [11/May/2022 10:18:54] \"\u001b[37mPOST /_dash-update-component HTTP/1.1\u001b[0m\" 200 -\n"
     ]
    },
    {
     "name": "stdout",
     "output_type": "stream",
     "text": [
      "I am havingI am having \n",
      "\n",
      "       document  n_tokens  n_i\n",
      "0  I am having          3    1\n",
      "I am having a\n",
      "      document  n_tokens  n_i\n",
      "0  I am having         3    1\n",
      "        document  n_tokens  n_i\n",
      "0  I am having a         4    1I am having a \n"
     ]
    },
    {
     "name": "stderr",
     "output_type": "stream",
     "text": [
      "127.0.0.1 - - [11/May/2022 10:18:54] \"\u001b[37mPOST /_dash-update-component HTTP/1.1\u001b[0m\" 200 -\n",
      "127.0.0.1 - - [11/May/2022 10:18:54] \"\u001b[37mPOST /_dash-update-component HTTP/1.1\u001b[0m\" 200 -\n",
      "127.0.0.1 - - [11/May/2022 10:18:54] \"\u001b[37mPOST /_dash-update-component HTTP/1.1\u001b[0m\" 200 -\n"
     ]
    },
    {
     "name": "stdout",
     "output_type": "stream",
     "text": [
      "\n",
      "I am having a g\n",
      "I am having a go         document  n_tokens  n_i\n",
      "0  I am having a          4    1\n",
      "\n",
      "          document  n_tokens  n_i\n",
      "0  I am having a g         5    1\n",
      "           document  n_tokens  n_i\n",
      "0  I am having a go         5    1\n",
      "I am having a goo\n"
     ]
    },
    {
     "name": "stderr",
     "output_type": "stream",
     "text": [
      "127.0.0.1 - - [11/May/2022 10:18:54] \"\u001b[37mPOST /_dash-update-component HTTP/1.1\u001b[0m\" 200 -\n",
      "127.0.0.1 - - [11/May/2022 10:18:54] \"\u001b[37mPOST /_dash-update-component HTTP/1.1\u001b[0m\" 200 -\n",
      "127.0.0.1 - - [11/May/2022 10:18:54] \"\u001b[37mPOST /_dash-update-component HTTP/1.1\u001b[0m\" 200 -\n",
      "127.0.0.1 - - [11/May/2022 10:18:54] \"\u001b[37mPOST /_dash-update-component HTTP/1.1\u001b[0m\" 200 -\n"
     ]
    },
    {
     "name": "stdout",
     "output_type": "stream",
     "text": [
      "I am having a good            document  n_tokens  n_i\n",
      "0  I am having a goo         5    1\n",
      "\n",
      "I am having a good \n",
      "              document  n_tokens  n_i\n",
      "0  I am having a good          5    1\n",
      "             document  n_tokens  n_i\n",
      "0  I am having a good         5    1\n",
      "I am having a good it\n"
     ]
    },
    {
     "name": "stderr",
     "output_type": "stream",
     "text": [
      "127.0.0.1 - - [11/May/2022 10:18:54] \"\u001b[37mPOST /_dash-update-component HTTP/1.1\u001b[0m\" 200 -\n",
      "127.0.0.1 - - [11/May/2022 10:18:54] \"\u001b[37mPOST /_dash-update-component HTTP/1.1\u001b[0m\" 200 -\n",
      "127.0.0.1 - - [11/May/2022 10:18:54] \"\u001b[37mPOST /_dash-update-component HTTP/1.1\u001b[0m\" 200 -\n",
      "127.0.0.1 - - [11/May/2022 10:18:54] \"\u001b[37mPOST /_dash-update-component HTTP/1.1\u001b[0m\" 200 -\n",
      "127.0.0.1 - - [11/May/2022 10:18:54] \"\u001b[37mPOST /_dash-update-component HTTP/1.1\u001b[0m\" 200 -\n"
     ]
    },
    {
     "name": "stdout",
     "output_type": "stream",
     "text": [
      "                document  n_tokens  n_i\n",
      "0  I am having a good it         6    1\n",
      "I am having a good itm\n",
      "I am having a good itme                 document  n_tokens  n_i\n",
      "0  I am having a good itm         6    1\n",
      "\n",
      "                  document  n_tokens  n_i\n",
      "0  I am having a good itme         6    1\n"
     ]
    },
    {
     "name": "stderr",
     "output_type": "stream",
     "text": [
      "127.0.0.1 - - [11/May/2022 10:18:55] \"\u001b[37mPOST /_dash-update-component HTTP/1.1\u001b[0m\" 200 -\n"
     ]
    },
    {
     "name": "stdout",
     "output_type": "stream",
     "text": [
      "I am having a good itm\n",
      "                 document  n_tokens  n_i\n",
      "0  I am having a good itm         6    1\n",
      "I am having a good it\n",
      "                document  n_tokens  n_i\n",
      "0  I am having a good it         6    1"
     ]
    },
    {
     "name": "stderr",
     "output_type": "stream",
     "text": [
      "127.0.0.1 - - [11/May/2022 10:18:55] \"\u001b[37mPOST /_dash-update-component HTTP/1.1\u001b[0m\" 200 -\n"
     ]
    },
    {
     "name": "stdout",
     "output_type": "stream",
     "text": [
      "\n",
      "I am having a good i\n",
      "               document  n_tokens  n_i\n",
      "0  I am having a good i         6    1\n"
     ]
    },
    {
     "name": "stderr",
     "output_type": "stream",
     "text": [
      "127.0.0.1 - - [11/May/2022 10:18:55] \"\u001b[37mPOST /_dash-update-component HTTP/1.1\u001b[0m\" 200 -\n",
      "127.0.0.1 - - [11/May/2022 10:18:55] \"\u001b[37mPOST /_dash-update-component HTTP/1.1\u001b[0m\" 200 -\n"
     ]
    },
    {
     "name": "stdout",
     "output_type": "stream",
     "text": [
      "I am having a good \n",
      "              document  n_tokens  n_i\n",
      "0  I am having a good          5    1\n"
     ]
    },
    {
     "name": "stderr",
     "output_type": "stream",
     "text": [
      "127.0.0.1 - - [11/May/2022 10:18:56] \"\u001b[37mPOST /_dash-update-component HTTP/1.1\u001b[0m\" 200 -\n"
     ]
    },
    {
     "name": "stdout",
     "output_type": "stream",
     "text": [
      "I am having a good t\n",
      "               document  n_tokens  n_i\n",
      "0  I am having a good t         6    1\n",
      "I am having a good ti\n",
      "                document  n_tokens  n_i\n",
      "0  I am having a good ti         6    1\n",
      "I am having a good tim\n"
     ]
    },
    {
     "name": "stderr",
     "output_type": "stream",
     "text": [
      "127.0.0.1 - - [11/May/2022 10:18:56] \"\u001b[37mPOST /_dash-update-component HTTP/1.1\u001b[0m\" 200 -\n",
      "127.0.0.1 - - [11/May/2022 10:18:56] \"\u001b[37mPOST /_dash-update-component HTTP/1.1\u001b[0m\" 200 -\n",
      "127.0.0.1 - - [11/May/2022 10:18:56] \"\u001b[37mPOST /_dash-update-component HTTP/1.1\u001b[0m\" 200 -\n"
     ]
    },
    {
     "name": "stdout",
     "output_type": "stream",
     "text": [
      "I am having a good time                 document  n_tokens  n_i\n",
      "0  I am having a good tim         6    1\n",
      "\n",
      "                  document  n_tokens  n_i\n",
      "0  I am having a good time         6    1\n"
     ]
    },
    {
     "name": "stderr",
     "output_type": "stream",
     "text": [
      "127.0.0.1 - - [11/May/2022 10:19:01] \"\u001b[37mPOST /_dash-update-component HTTP/1.1\u001b[0m\" 200 -\n"
     ]
    },
    {
     "name": "stdout",
     "output_type": "stream",
     "text": [
      "I am having a good tim\n",
      "                 document  n_tokens  n_i\n",
      "0  I am having a good tim         6    1\n"
     ]
    },
    {
     "name": "stderr",
     "output_type": "stream",
     "text": [
      "127.0.0.1 - - [11/May/2022 10:19:09] \"\u001b[37mPOST /_dash-update-component HTTP/1.1\u001b[0m\" 200 -\n"
     ]
    },
    {
     "name": "stdout",
     "output_type": "stream",
     "text": [
      "I am having a good tim \n",
      "                  document  n_tokens  n_i\n",
      "0  I am having a good tim          6    1\n",
      "I am having a good tim w\n",
      "                   document  n_tokens  n_i\n",
      "0  I am having a good tim w         7    1\n"
     ]
    },
    {
     "name": "stderr",
     "output_type": "stream",
     "text": [
      "127.0.0.1 - - [11/May/2022 10:19:09] \"\u001b[37mPOST /_dash-update-component HTTP/1.1\u001b[0m\" 200 -\n",
      "127.0.0.1 - - [11/May/2022 10:19:09] \"\u001b[37mPOST /_dash-update-component HTTP/1.1\u001b[0m\" 200 -\n",
      "127.0.0.1 - - [11/May/2022 10:19:09] \"\u001b[37mPOST /_dash-update-component HTTP/1.1\u001b[0m\" 200 -\n"
     ]
    },
    {
     "name": "stdout",
     "output_type": "stream",
     "text": [
      "I am having a good tim wi\n",
      "                    document  n_tokens  n_i\n",
      "0  I am having a good tim wi         7    1\n",
      "I am having a good tim wit\n",
      "                     document  n_tokens  n_i\n",
      "0  I am having a good tim wit         7    1\n",
      "I am having a good tim with\n",
      "                      document  n_tokens  n_i\n",
      "0  I am having a good tim with         7    1"
     ]
    },
    {
     "name": "stderr",
     "output_type": "stream",
     "text": [
      "127.0.0.1 - - [11/May/2022 10:19:09] \"\u001b[37mPOST /_dash-update-component HTTP/1.1\u001b[0m\" 200 -\n",
      "127.0.0.1 - - [11/May/2022 10:19:09] \"\u001b[37mPOST /_dash-update-component HTTP/1.1\u001b[0m\" 200 -\n"
     ]
    },
    {
     "name": "stdout",
     "output_type": "stream",
     "text": [
      "\n",
      "I am having a good tim with \n",
      "                       document  n_tokens  n_i\n",
      "0  I am having a good tim with          7    1\n"
     ]
    },
    {
     "name": "stderr",
     "output_type": "stream",
     "text": [
      "127.0.0.1 - - [11/May/2022 10:19:10] \"\u001b[37mPOST /_dash-update-component HTTP/1.1\u001b[0m\" 200 -\n"
     ]
    },
    {
     "name": "stdout",
     "output_type": "stream",
     "text": [
      "I am having a good tim with T\n",
      "                        document  n_tokens  n_i\n",
      "0  I am having a good tim with T         8    1\n",
      "I am having a good tim with Ti\n",
      "                         document  n_tokens  n_i\n",
      "0  I am having a good tim with Ti         8    1"
     ]
    },
    {
     "name": "stderr",
     "output_type": "stream",
     "text": [
      "127.0.0.1 - - [11/May/2022 10:19:10] \"\u001b[37mPOST /_dash-update-component HTTP/1.1\u001b[0m\" 200 -\n",
      "127.0.0.1 - - [11/May/2022 10:19:10] \"\u001b[37mPOST /_dash-update-component HTTP/1.1\u001b[0m\" 200 -\n"
     ]
    },
    {
     "name": "stdout",
     "output_type": "stream",
     "text": [
      "\n",
      "I am having a good tim with Tim\n",
      "                          document  n_tokens  n_i\n",
      "0  I am having a good tim with Tim         8    1\n"
     ]
    },
    {
     "name": "stderr",
     "output_type": "stream",
     "text": [
      "127.0.0.1 - - [11/May/2022 10:19:12] \"\u001b[37mPOST /_dash-update-component HTTP/1.1\u001b[0m\" 200 -\n"
     ]
    },
    {
     "name": "stdout",
     "output_type": "stream",
     "text": [
      "I am having a good tim with Ti\n",
      "                         document  n_tokens  n_i\n",
      "0  I am having a good tim with Ti         8    1\n"
     ]
    },
    {
     "name": "stderr",
     "output_type": "stream",
     "text": [
      "127.0.0.1 - - [11/May/2022 10:19:13] \"\u001b[37mPOST /_dash-update-component HTTP/1.1\u001b[0m\" 200 -\n"
     ]
    },
    {
     "name": "stdout",
     "output_type": "stream",
     "text": [
      "I am having a good tim with T\n",
      "                        document  n_tokens  n_i\n",
      "0  I am having a good tim with T         8    1\n",
      "I am having a good tim with I am having a good tim with\n",
      "\n",
      "I am having a good tim wit\n",
      "                       document  n_tokens  n_i\n",
      "0  I am having a good tim with          7    1\n",
      "I am having a good tim wi\n",
      "                     document  n_tokens  n_i\n",
      "0  I am having a good tim wit         7    1\n",
      "                      document  n_tokens  n_i\n",
      "0  I am having a good tim with         7    1\n",
      "                    document  n_tokens  n_i\n",
      "0  I am having a good tim wi         7    1"
     ]
    },
    {
     "name": "stderr",
     "output_type": "stream",
     "text": [
      "127.0.0.1 - - [11/May/2022 10:19:13] \"\u001b[37mPOST /_dash-update-component HTTP/1.1\u001b[0m\" 200 -\n",
      "127.0.0.1 - - [11/May/2022 10:19:13] \"\u001b[37mPOST /_dash-update-component HTTP/1.1\u001b[0m\" 200 -\n",
      "127.0.0.1 - - [11/May/2022 10:19:13] \"\u001b[37mPOST /_dash-update-component HTTP/1.1\u001b[0m\" 200 -\n",
      "127.0.0.1 - - [11/May/2022 10:19:13] \"\u001b[37mPOST /_dash-update-component HTTP/1.1\u001b[0m\" 200 -\n"
     ]
    },
    {
     "name": "stdout",
     "output_type": "stream",
     "text": [
      "\n"
     ]
    },
    {
     "name": "stderr",
     "output_type": "stream",
     "text": [
      "127.0.0.1 - - [11/May/2022 10:19:14] \"\u001b[37mPOST /_dash-update-component HTTP/1.1\u001b[0m\" 200 -\n"
     ]
    },
    {
     "name": "stdout",
     "output_type": "stream",
     "text": [
      "I am having a good tim w\n",
      "                   document  n_tokens  n_i\n",
      "0  I am having a good tim w         7    1\n",
      "I am having a good tim \n",
      "I am having a good tim                  document  n_tokens  n_i\n",
      "0  I am having a good tim          6    1\n",
      "I am having a good ti\n",
      "\n",
      "I am having a good t\n",
      "                 document  n_tokens  n_i\n",
      "0  I am having a good tim         6    1"
     ]
    },
    {
     "name": "stderr",
     "output_type": "stream",
     "text": [
      "127.0.0.1 - - [11/May/2022 10:19:15] \"\u001b[37mPOST /_dash-update-component HTTP/1.1\u001b[0m\" 200 -\n"
     ]
    },
    {
     "name": "stdout",
     "output_type": "stream",
     "text": [
      "\n",
      "I am having a good \n",
      "                document  n_tokens  n_i\n",
      "0  I am having a good ti         6    1\n",
      "I am having a good\n",
      "               document  n_tokens  n_i\n",
      "0  I am having a good t         6    1\n",
      "             document  n_tokens  n_i\n",
      "0  I am having a good         5    1\n",
      "              document  n_tokens  n_i\n",
      "0  I am having a good          5    1\n"
     ]
    },
    {
     "name": "stderr",
     "output_type": "stream",
     "text": [
      "127.0.0.1 - - [11/May/2022 10:19:15] \"\u001b[37mPOST /_dash-update-component HTTP/1.1\u001b[0m\" 200 -\n",
      "127.0.0.1 - - [11/May/2022 10:19:15] \"\u001b[37mPOST /_dash-update-component HTTP/1.1\u001b[0m\" 200 -\n",
      "127.0.0.1 - - [11/May/2022 10:19:15] \"\u001b[37mPOST /_dash-update-component HTTP/1.1\u001b[0m\" 200 -\n",
      "127.0.0.1 - - [11/May/2022 10:19:15] \"\u001b[37mPOST /_dash-update-component HTTP/1.1\u001b[0m\" 200 -\n",
      "127.0.0.1 - - [11/May/2022 10:19:15] \"\u001b[37mPOST /_dash-update-component HTTP/1.1\u001b[0m\" 200 -\n"
     ]
    },
    {
     "name": "stdout",
     "output_type": "stream",
     "text": [
      "I am having a gooI am having a go\n",
      "I am having a g\n",
      "\n",
      "I am having a            document  n_tokens  n_i\n",
      "0  I am having a go         5    1\n",
      "I am having a\n",
      "\n",
      "            document  n_tokens  n_i\n",
      "0  I am having a goo         5    1\n",
      "I am having "
     ]
    },
    {
     "name": "stderr",
     "output_type": "stream",
     "text": [
      "127.0.0.1 - - [11/May/2022 10:19:16] \"\u001b[37mPOST /_dash-update-component HTTP/1.1\u001b[0m\" 200 -\n",
      "127.0.0.1 - - [11/May/2022 10:19:16] \"\u001b[37mPOST /_dash-update-component HTTP/1.1\u001b[0m\" 200 -\n",
      "127.0.0.1 - - [11/May/2022 10:19:16] \"\u001b[37mPOST /_dash-update-component HTTP/1.1\u001b[0m\" 200 -\n",
      "127.0.0.1 - - [11/May/2022 10:19:16] \"\u001b[37mPOST /_dash-update-component HTTP/1.1\u001b[0m\" 200 -\n",
      "127.0.0.1 - - [11/May/2022 10:19:16] \"\u001b[37mPOST /_dash-update-component HTTP/1.1\u001b[0m\" 200 -\n",
      "127.0.0.1 - - [11/May/2022 10:19:16] \"\u001b[37mPOST /_dash-update-component HTTP/1.1\u001b[0m\" 200 -\n"
     ]
    },
    {
     "name": "stdout",
     "output_type": "stream",
     "text": [
      "          document  n_tokens  n_i\n",
      "0  I am having a g         5    1\n",
      "\n",
      "        document  n_tokens  n_i\n",
      "0  I am having a         4    1\n",
      "         document  n_tokens  n_i\n",
      "0  I am having a          4    1\n",
      "       document  n_tokens  n_i\n",
      "0  I am having          3    1\n",
      "I am having\n",
      "I am havin\n",
      "I am havi\n",
      "      document  n_tokens  n_i\n",
      "0  I am having         3    1\n",
      "I am hav\n",
      "     document  n_tokens  n_i\n",
      "0  I am havin         3    1\n",
      "I am ha\n"
     ]
    },
    {
     "name": "stderr",
     "output_type": "stream",
     "text": [
      "127.0.0.1 - - [11/May/2022 10:19:16] \"\u001b[37mPOST /_dash-update-component HTTP/1.1\u001b[0m\" 200 -\n",
      "127.0.0.1 - - [11/May/2022 10:19:16] \"\u001b[37mPOST /_dash-update-component HTTP/1.1\u001b[0m\" 200 -\n",
      "127.0.0.1 - - [11/May/2022 10:19:16] \"\u001b[37mPOST /_dash-update-component HTTP/1.1\u001b[0m\" 200 -\n",
      "127.0.0.1 - - [11/May/2022 10:19:16] \"\u001b[37mPOST /_dash-update-component HTTP/1.1\u001b[0m\" 200 -\n",
      "127.0.0.1 - - [11/May/2022 10:19:16] \"\u001b[37mPOST /_dash-update-component HTTP/1.1\u001b[0m\" 200 -\n",
      "127.0.0.1 - - [11/May/2022 10:19:16] \"\u001b[37mPOST /_dash-update-component HTTP/1.1\u001b[0m\" 200 -\n"
     ]
    },
    {
     "name": "stdout",
     "output_type": "stream",
     "text": [
      "    document  n_tokens  n_i\n",
      "0  I am havi         3    1   document  n_tokens  n_i\n",
      "0  I am hav         3    1I am h\n",
      "\n",
      "\n",
      "  document  n_tokens  n_i\n",
      "0  I am ha         3    1\n",
      "  document  n_tokens  n_i\n",
      "0   I am h         3    1\n"
     ]
    },
    {
     "name": "stderr",
     "output_type": "stream",
     "text": [
      "127.0.0.1 - - [11/May/2022 10:19:17] \"\u001b[37mPOST /_dash-update-component HTTP/1.1\u001b[0m\" 200 -\n"
     ]
    },
    {
     "name": "stdout",
     "output_type": "stream",
     "text": [
      "I am \n",
      "  document  n_tokens  n_i\n",
      "0    I am          2    1\n",
      "I amI aI \n"
     ]
    },
    {
     "name": "stderr",
     "output_type": "stream",
     "text": [
      "127.0.0.1 - - [11/May/2022 10:19:17] \"\u001b[37mPOST /_dash-update-component HTTP/1.1\u001b[0m\" 200 -\n",
      "127.0.0.1 - - [11/May/2022 10:19:17] \"\u001b[37mPOST /_dash-update-component HTTP/1.1\u001b[0m\" 200 -\n",
      "127.0.0.1 - - [11/May/2022 10:19:17] \"\u001b[37mPOST /_dash-update-component HTTP/1.1\u001b[0m\" 200 -\n",
      "127.0.0.1 - - [11/May/2022 10:19:17] \"\u001b[37mPOST /_dash-update-component HTTP/1.1\u001b[0m\" 200 -\n",
      "127.0.0.1 - - [11/May/2022 10:19:17] \"\u001b[37mPOST /_dash-update-component HTTP/1.1\u001b[0m\" 200 -\n"
     ]
    },
    {
     "name": "stdout",
     "output_type": "stream",
     "text": [
      "\n",
      "\n",
      "I\n",
      "\n",
      "  document  n_tokens  n_i\n",
      "0     I am         2    1  document  n_tokens  n_i\n",
      "0       I          1    1\n",
      "  document  n_tokens  n_i\n",
      "0                  0    0  document  n_tokens  n_i\n",
      "0      I a         2    1\n",
      "\n",
      "\n",
      "  document  n_tokens  n_i\n",
      "0        I         1    0\n"
     ]
    },
    {
     "name": "stderr",
     "output_type": "stream",
     "text": [
      "127.0.0.1 - - [11/May/2022 10:19:22] \"\u001b[37mPOST /_dash-update-component HTTP/1.1\u001b[0m\" 200 -\n"
     ]
    },
    {
     "name": "stdout",
     "output_type": "stream",
     "text": [
      "I\n",
      "  document  n_tokens  n_i\n",
      "0        I         1    0\n"
     ]
    },
    {
     "name": "stderr",
     "output_type": "stream",
     "text": [
      "127.0.0.1 - - [11/May/2022 10:19:23] \"\u001b[37mPOST /_dash-update-component HTTP/1.1\u001b[0m\" 200 -\n"
     ]
    },
    {
     "name": "stdout",
     "output_type": "stream",
     "text": [
      "I \n",
      "  document  n_tokens  n_i\n",
      "0       I          1    1\n",
      "I a\n"
     ]
    },
    {
     "name": "stderr",
     "output_type": "stream",
     "text": [
      "127.0.0.1 - - [11/May/2022 10:19:23] \"\u001b[37mPOST /_dash-update-component HTTP/1.1\u001b[0m\" 200 -\n",
      "127.0.0.1 - - [11/May/2022 10:19:23] \"\u001b[37mPOST /_dash-update-component HTTP/1.1\u001b[0m\" 200 -\n"
     ]
    },
    {
     "name": "stdout",
     "output_type": "stream",
     "text": [
      "  document  n_tokens  n_i\n",
      "0      I a         2    1\n",
      "I am\n",
      "  document  n_tokens  n_i\n",
      "0     I am         2    1\n"
     ]
    },
    {
     "name": "stderr",
     "output_type": "stream",
     "text": [
      "127.0.0.1 - - [11/May/2022 10:19:23] \"\u001b[37mPOST /_dash-update-component HTTP/1.1\u001b[0m\" 200 -\n"
     ]
    },
    {
     "name": "stdout",
     "output_type": "stream",
     "text": [
      "I am \n",
      "  document  n_tokens  n_i\n",
      "0    I am          2    1\n"
     ]
    },
    {
     "name": "stderr",
     "output_type": "stream",
     "text": [
      "127.0.0.1 - - [11/May/2022 10:19:24] \"\u001b[37mPOST /_dash-update-component HTTP/1.1\u001b[0m\" 200 -\n",
      "127.0.0.1 - - [11/May/2022 10:19:24] \"\u001b[37mPOST /_dash-update-component HTTP/1.1\u001b[0m\" 200 -\n"
     ]
    },
    {
     "name": "stdout",
     "output_type": "stream",
     "text": [
      "I am f\n",
      "  document  n_tokens  n_i\n",
      "0   I am f         3    1\n",
      "I am fe\n",
      "  document  n_tokens  n_i\n",
      "0  I am fe         3    1\n"
     ]
    },
    {
     "name": "stderr",
     "output_type": "stream",
     "text": [
      "127.0.0.1 - - [11/May/2022 10:19:24] \"\u001b[37mPOST /_dash-update-component HTTP/1.1\u001b[0m\" 200 -\n",
      "127.0.0.1 - - [11/May/2022 10:19:24] \"\u001b[37mPOST /_dash-update-component HTTP/1.1\u001b[0m\" 200 -\n"
     ]
    },
    {
     "name": "stdout",
     "output_type": "stream",
     "text": [
      "I am fee\n",
      "   document  n_tokens  n_i\n",
      "0  I am fee         3    1\n",
      "I am feel\n",
      "    document  n_tokens  n_i\n",
      "0  I am feel         3    1\n"
     ]
    },
    {
     "name": "stderr",
     "output_type": "stream",
     "text": [
      "127.0.0.1 - - [11/May/2022 10:19:24] \"\u001b[37mPOST /_dash-update-component HTTP/1.1\u001b[0m\" 200 -\n"
     ]
    },
    {
     "name": "stdout",
     "output_type": "stream",
     "text": [
      "I am feeli\n",
      "     document  n_tokens  n_i\n",
      "0  I am feeli         3    1I am feelin\n",
      "\n",
      "I am feeling      document  n_tokens  n_i\n",
      "0  I am feelin         3    1\n",
      "\n"
     ]
    },
    {
     "name": "stderr",
     "output_type": "stream",
     "text": [
      "127.0.0.1 - - [11/May/2022 10:19:25] \"\u001b[37mPOST /_dash-update-component HTTP/1.1\u001b[0m\" 200 -\n",
      "127.0.0.1 - - [11/May/2022 10:19:25] \"\u001b[37mPOST /_dash-update-component HTTP/1.1\u001b[0m\" 200 -\n"
     ]
    },
    {
     "name": "stdout",
     "output_type": "stream",
     "text": [
      "       document  n_tokens  n_i\n",
      "0  I am feeling         3    1\n"
     ]
    },
    {
     "name": "stderr",
     "output_type": "stream",
     "text": [
      "127.0.0.1 - - [11/May/2022 10:19:25] \"\u001b[37mPOST /_dash-update-component HTTP/1.1\u001b[0m\" 200 -\n"
     ]
    },
    {
     "name": "stdout",
     "output_type": "stream",
     "text": [
      "I am feeling \n",
      "        document  n_tokens  n_i\n",
      "0  I am feeling          3    1\n"
     ]
    },
    {
     "name": "stderr",
     "output_type": "stream",
     "text": [
      "127.0.0.1 - - [11/May/2022 10:19:25] \"\u001b[37mPOST /_dash-update-component HTTP/1.1\u001b[0m\" 200 -\n"
     ]
    },
    {
     "name": "stdout",
     "output_type": "stream",
     "text": [
      "I am feeling h\n",
      "         document  n_tokens  n_i\n",
      "0  I am feeling h         4    1\n",
      "I am feeling ha\n",
      "          document  n_tokens  n_i\n",
      "0  I am feeling ha         4    1\n",
      "I am feeling hap\n"
     ]
    },
    {
     "name": "stderr",
     "output_type": "stream",
     "text": [
      "127.0.0.1 - - [11/May/2022 10:19:26] \"\u001b[37mPOST /_dash-update-component HTTP/1.1\u001b[0m\" 200 -\n",
      "127.0.0.1 - - [11/May/2022 10:19:26] \"\u001b[37mPOST /_dash-update-component HTTP/1.1\u001b[0m\" 200 -\n",
      "127.0.0.1 - - [11/May/2022 10:19:26] \"\u001b[37mPOST /_dash-update-component HTTP/1.1\u001b[0m\" 200 -\n"
     ]
    },
    {
     "name": "stdout",
     "output_type": "stream",
     "text": [
      "           document  n_tokens  n_i\n",
      "0  I am feeling hap         4    1\n",
      "I am feeling happ\n",
      "            document  n_tokens  n_i\n",
      "0  I am feeling happ         4    1\n"
     ]
    },
    {
     "name": "stderr",
     "output_type": "stream",
     "text": [
      "127.0.0.1 - - [11/May/2022 10:19:26] \"\u001b[37mPOST /_dash-update-component HTTP/1.1\u001b[0m\" 200 -\n"
     ]
    },
    {
     "name": "stdout",
     "output_type": "stream",
     "text": [
      "I am feeling happy\n",
      "             document  n_tokens  n_i\n",
      "0  I am feeling happy         4    1\n"
     ]
    },
    {
     "name": "stderr",
     "output_type": "stream",
     "text": [
      "127.0.0.1 - - [11/May/2022 10:19:26] \"\u001b[37mPOST /_dash-update-component HTTP/1.1\u001b[0m\" 200 -\n"
     ]
    },
    {
     "name": "stdout",
     "output_type": "stream",
     "text": [
      "I am feeling happy \n",
      "              document  n_tokens  n_i\n",
      "0  I am feeling happy          4    1\n",
      "I am feeling happy w\n",
      "               document  n_tokens  n_i\n",
      "0  I am feeling happy w         5    1\n",
      "I am feeling happy wi"
     ]
    },
    {
     "name": "stderr",
     "output_type": "stream",
     "text": [
      "127.0.0.1 - - [11/May/2022 10:19:26] \"\u001b[37mPOST /_dash-update-component HTTP/1.1\u001b[0m\" 200 -\n",
      "127.0.0.1 - - [11/May/2022 10:19:26] \"\u001b[37mPOST /_dash-update-component HTTP/1.1\u001b[0m\" 200 -\n"
     ]
    },
    {
     "name": "stdout",
     "output_type": "stream",
     "text": [
      "\n",
      "                document  n_tokens  n_i\n",
      "0  I am feeling happy wi         5    1\n",
      "I am feeling happy wit\n",
      "                 document  n_tokens  n_i\n",
      "0  I am feeling happy wit         5    1\n"
     ]
    },
    {
     "name": "stderr",
     "output_type": "stream",
     "text": [
      "127.0.0.1 - - [11/May/2022 10:19:27] \"\u001b[37mPOST /_dash-update-component HTTP/1.1\u001b[0m\" 200 -\n",
      "127.0.0.1 - - [11/May/2022 10:19:27] \"\u001b[37mPOST /_dash-update-component HTTP/1.1\u001b[0m\" 200 -\n",
      "127.0.0.1 - - [11/May/2022 10:19:27] \"\u001b[37mPOST /_dash-update-component HTTP/1.1\u001b[0m\" 200 -\n"
     ]
    },
    {
     "name": "stdout",
     "output_type": "stream",
     "text": [
      "I am feeling happy with\n",
      "                  document  n_tokens  n_i\n",
      "0  I am feeling happy with         5    1\n",
      "I am feeling happy with \n",
      "                   document  n_tokens  n_i\n",
      "0  I am feeling happy with          5    1\n"
     ]
    },
    {
     "name": "stderr",
     "output_type": "stream",
     "text": [
      "127.0.0.1 - - [11/May/2022 10:19:27] \"\u001b[37mPOST /_dash-update-component HTTP/1.1\u001b[0m\" 200 -\n"
     ]
    },
    {
     "name": "stdout",
     "output_type": "stream",
     "text": [
      "I am feeling happy with t\n",
      "                    document  n_tokens  n_i\n",
      "0  I am feeling happy with t         6    1\n",
      "I am feeling happy with th\n",
      "                     document  n_tokens  n_i\n",
      "0  I am feeling happy with th         6    1\n",
      "I am feeling happy with the"
     ]
    },
    {
     "name": "stderr",
     "output_type": "stream",
     "text": [
      "127.0.0.1 - - [11/May/2022 10:19:27] \"\u001b[37mPOST /_dash-update-component HTTP/1.1\u001b[0m\" 200 -\n",
      "127.0.0.1 - - [11/May/2022 10:19:27] \"\u001b[37mPOST /_dash-update-component HTTP/1.1\u001b[0m\" 200 -\n"
     ]
    },
    {
     "name": "stdout",
     "output_type": "stream",
     "text": [
      "\n",
      "                      document  n_tokens  n_i\n",
      "0  I am feeling happy with the         6    1\n",
      "I am feeling happy with the \n",
      "                       document  n_tokens  n_i\n",
      "0  I am feeling happy with the          6    1\n",
      "I am feeling happy with the e"
     ]
    },
    {
     "name": "stderr",
     "output_type": "stream",
     "text": [
      "127.0.0.1 - - [11/May/2022 10:19:28] \"\u001b[37mPOST /_dash-update-component HTTP/1.1\u001b[0m\" 200 -\n",
      "127.0.0.1 - - [11/May/2022 10:19:28] \"\u001b[37mPOST /_dash-update-component HTTP/1.1\u001b[0m\" 200 -\n"
     ]
    },
    {
     "name": "stdout",
     "output_type": "stream",
     "text": [
      "\n",
      "                        document  n_tokens  n_i\n",
      "0  I am feeling happy with the e         7    1\n",
      "I am feeling happy with the ev"
     ]
    },
    {
     "name": "stderr",
     "output_type": "stream",
     "text": [
      "127.0.0.1 - - [11/May/2022 10:19:28] \"\u001b[37mPOST /_dash-update-component HTTP/1.1\u001b[0m\" 200 -\n"
     ]
    },
    {
     "name": "stdout",
     "output_type": "stream",
     "text": [
      "\n",
      "                         document  n_tokens  n_i\n",
      "0  I am feeling happy with the ev         7    1I am feeling happy with the eve\n",
      "\n",
      "I am feeling happy with the even                          document  n_tokens  n_i\n",
      "0  I am feeling happy with the eve         7    1\n",
      "\n",
      "                           document  n_tokens  n_i\n",
      "0  I am feeling happy with the even         7    1\n"
     ]
    },
    {
     "name": "stderr",
     "output_type": "stream",
     "text": [
      "127.0.0.1 - - [11/May/2022 10:19:28] \"\u001b[37mPOST /_dash-update-component HTTP/1.1\u001b[0m\" 200 -\n",
      "127.0.0.1 - - [11/May/2022 10:19:28] \"\u001b[37mPOST /_dash-update-component HTTP/1.1\u001b[0m\" 200 -\n",
      "127.0.0.1 - - [11/May/2022 10:19:28] \"\u001b[37mPOST /_dash-update-component HTTP/1.1\u001b[0m\" 200 -\n"
     ]
    },
    {
     "name": "stdout",
     "output_type": "stream",
     "text": [
      "I am feeling happy with the event\n",
      "                            document  n_tokens  n_i\n",
      "0  I am feeling happy with the event         7    1\n"
     ]
    },
    {
     "name": "stderr",
     "output_type": "stream",
     "text": [
      "127.0.0.1 - - [11/May/2022 10:19:31] \"\u001b[37mPOST /_dash-update-component HTTP/1.1\u001b[0m\" 200 -\n"
     ]
    },
    {
     "name": "stdout",
     "output_type": "stream",
     "text": [
      "I am feeling happy with the even\n",
      "                           document  n_tokens  n_i\n",
      "0  I am feeling happy with the even         7    1\n",
      "I am feeling happy with the eve\n",
      "I am feeling happy with the ev\n",
      "I am feeling happy with the e\n",
      "I am feeling happy with the \n",
      "                          document  n_tokens  n_i\n",
      "0  I am feeling happy with the eve         7    1\n"
     ]
    },
    {
     "name": "stderr",
     "output_type": "stream",
     "text": [
      "127.0.0.1 - - [11/May/2022 10:19:32] \"\u001b[37mPOST /_dash-update-component HTTP/1.1\u001b[0m\" 200 -\n",
      "127.0.0.1 - - [11/May/2022 10:19:32] \"\u001b[37mPOST /_dash-update-component HTTP/1.1\u001b[0m\" 200 -\n",
      "127.0.0.1 - - [11/May/2022 10:19:32] \"\u001b[37mPOST /_dash-update-component HTTP/1.1\u001b[0m\" 200 -\n",
      "127.0.0.1 - - [11/May/2022 10:19:32] \"\u001b[37mPOST /_dash-update-component HTTP/1.1\u001b[0m\" 200 -\n",
      "127.0.0.1 - - [11/May/2022 10:19:32] \"\u001b[37mPOST /_dash-update-component HTTP/1.1\u001b[0m\" 200 -\n",
      "127.0.0.1 - - [11/May/2022 10:19:32] \"\u001b[37mPOST /_dash-update-component HTTP/1.1\u001b[0m\" 200 -\n"
     ]
    },
    {
     "name": "stdout",
     "output_type": "stream",
     "text": [
      "I am feeling happy with the                         document  n_tokens  n_i\n",
      "0  I am feeling happy with the ev         7    1                        document  n_tokens  n_i\n",
      "0  I am feeling happy with the e         7    1\n",
      "                       document  n_tokens  n_i\n",
      "0  I am feeling happy with the          6    1\n",
      "\n",
      "\n",
      "I am feeling happy with th\n",
      "                      document  n_tokens  n_i\n",
      "0  I am feeling happy with the         6    1\n",
      "                     document  n_tokens  n_i\n",
      "0  I am feeling happy with th         6    1\n",
      "I am feeling happy with t\n",
      "I am feeling happy with \n",
      "                    document  n_tokens  n_i\n",
      "0  I am feeling happy with t         6    1I am feeling happy with\n",
      "\n",
      "                   document  n_tokens  n_i\n",
      "0  I am feeling happy with          5    1\n",
      "I am feeling happy wit\n",
      "                  document  n_tokens  n_i\n",
      "0  I am feeling happy with         5    1\n",
      "I am feeling happy wi"
     ]
    },
    {
     "name": "stderr",
     "output_type": "stream",
     "text": [
      "127.0.0.1 - - [11/May/2022 10:19:32] \"\u001b[37mPOST /_dash-update-component HTTP/1.1\u001b[0m\" 200 -\n",
      "127.0.0.1 - - [11/May/2022 10:19:32] \"\u001b[37mPOST /_dash-update-component HTTP/1.1\u001b[0m\" 200 -\n",
      "127.0.0.1 - - [11/May/2022 10:19:32] \"\u001b[37mPOST /_dash-update-component HTTP/1.1\u001b[0m\" 200 -\n"
     ]
    },
    {
     "name": "stdout",
     "output_type": "stream",
     "text": [
      "I am feeling happy w\n",
      "\n",
      "                 document  n_tokens  n_i\n",
      "0  I am feeling happy wit         5    1\n",
      "                document  n_tokens  n_i\n",
      "0  I am feeling happy wi         5    1\n",
      "               document  n_tokens  n_i\n",
      "0  I am feeling happy w         5    1\n",
      "I am feeling happy \n",
      "I am feeling happy\n"
     ]
    },
    {
     "name": "stderr",
     "output_type": "stream",
     "text": [
      "127.0.0.1 - - [11/May/2022 10:19:32] \"\u001b[37mPOST /_dash-update-component HTTP/1.1\u001b[0m\" 200 -\n",
      "127.0.0.1 - - [11/May/2022 10:19:32] \"\u001b[37mPOST /_dash-update-component HTTP/1.1\u001b[0m\" 200 -\n",
      "127.0.0.1 - - [11/May/2022 10:19:33] \"\u001b[37mPOST /_dash-update-component HTTP/1.1\u001b[0m\" 200 -\n"
     ]
    },
    {
     "name": "stdout",
     "output_type": "stream",
     "text": [
      "             document  n_tokens  n_i\n",
      "0  I am feeling happy         4    1\n",
      "              document  n_tokens  n_i\n",
      "0  I am feeling happy          4    1I am feeling happ\n",
      "\n",
      "I am feeling hap            document  n_tokens  n_i\n",
      "0  I am feeling happ         4    1\n",
      "\n",
      "I am feeling ha\n",
      "           document  n_tokens  n_i\n",
      "0  I am feeling hap         4    1\n",
      "          document  n_tokens  n_i\n",
      "0  I am feeling ha         4    1\n"
     ]
    },
    {
     "name": "stderr",
     "output_type": "stream",
     "text": [
      "127.0.0.1 - - [11/May/2022 10:19:33] \"\u001b[37mPOST /_dash-update-component HTTP/1.1\u001b[0m\" 200 -\n",
      "127.0.0.1 - - [11/May/2022 10:19:33] \"\u001b[37mPOST /_dash-update-component HTTP/1.1\u001b[0m\" 200 -\n",
      "127.0.0.1 - - [11/May/2022 10:19:33] \"\u001b[37mPOST /_dash-update-component HTTP/1.1\u001b[0m\" 200 -\n",
      "127.0.0.1 - - [11/May/2022 10:19:33] \"\u001b[37mPOST /_dash-update-component HTTP/1.1\u001b[0m\" 200 -\n"
     ]
    },
    {
     "name": "stdout",
     "output_type": "stream",
     "text": [
      "I am feeling h\n",
      "I am feeling \n",
      "         document  n_tokens  n_i\n",
      "0  I am feeling h         4    1\n",
      "I am feeling b\n",
      "        document  n_tokens  n_i\n",
      "0  I am feeling          3    1\n"
     ]
    },
    {
     "name": "stderr",
     "output_type": "stream",
     "text": [
      "127.0.0.1 - - [11/May/2022 10:19:33] \"\u001b[37mPOST /_dash-update-component HTTP/1.1\u001b[0m\" 200 -\n",
      "127.0.0.1 - - [11/May/2022 10:19:33] \"\u001b[37mPOST /_dash-update-component HTTP/1.1\u001b[0m\" 200 -\n",
      "127.0.0.1 - - [11/May/2022 10:19:33] \"\u001b[37mPOST /_dash-update-component HTTP/1.1\u001b[0m\" 200 -\n",
      "127.0.0.1 - - [11/May/2022 10:19:33] \"\u001b[37mPOST /_dash-update-component HTTP/1.1\u001b[0m\" 200 -\n"
     ]
    },
    {
     "name": "stdout",
     "output_type": "stream",
     "text": [
      "         document  n_tokens  n_i\n",
      "0  I am feeling b         4    1\n",
      "I am feeling bo\n",
      "          document  n_tokens  n_i\n",
      "0  I am feeling bo         4    1I am feeling bor\n",
      "\n",
      "           document  n_tokens  n_i\n",
      "0  I am feeling bor         4    1\n"
     ]
    },
    {
     "name": "stderr",
     "output_type": "stream",
     "text": [
      "127.0.0.1 - - [11/May/2022 10:19:33] \"\u001b[37mPOST /_dash-update-component HTTP/1.1\u001b[0m\" 200 -\n",
      "127.0.0.1 - - [11/May/2022 10:19:33] \"\u001b[37mPOST /_dash-update-component HTTP/1.1\u001b[0m\" 200 -\n",
      "127.0.0.1 - - [11/May/2022 10:19:33] \"\u001b[37mPOST /_dash-update-component HTTP/1.1\u001b[0m\" 200 -\n",
      "127.0.0.1 - - [11/May/2022 10:19:33] \"\u001b[37mPOST /_dash-update-component HTTP/1.1\u001b[0m\" 200 -\n"
     ]
    },
    {
     "name": "stdout",
     "output_type": "stream",
     "text": [
      "I am feeling boreI am feeling bored\n",
      "\n",
      "            document  n_tokens  n_i\n",
      "0  I am feeling bore         4    1\n",
      "             document  n_tokens  n_i\n",
      "0  I am feeling bored         4    1\n"
     ]
    },
    {
     "name": "stderr",
     "output_type": "stream",
     "text": [
      "127.0.0.1 - - [11/May/2022 10:20:27] \"\u001b[37mPOST /_dash-update-component HTTP/1.1\u001b[0m\" 200 -\n"
     ]
    },
    {
     "name": "stdout",
     "output_type": "stream",
     "text": [
      "I\n",
      "  document  n_tokens  n_i\n",
      "0        I         1    0\n"
     ]
    },
    {
     "name": "stderr",
     "output_type": "stream",
     "text": [
      "127.0.0.1 - - [11/May/2022 10:20:27] \"\u001b[37mPOST /_dash-update-component HTTP/1.1\u001b[0m\" 200 -\n",
      "127.0.0.1 - - [11/May/2022 10:20:27] \"\u001b[37mPOST /_dash-update-component HTTP/1.1\u001b[0m\" 200 -\n",
      "127.0.0.1 - - [11/May/2022 10:20:27] \"\u001b[37mPOST /_dash-update-component HTTP/1.1\u001b[0m\" 200 -\n"
     ]
    },
    {
     "name": "stdout",
     "output_type": "stream",
     "text": [
      "It\n",
      "  document  n_tokens  n_i\n",
      "0       It         1    0It \n",
      "\n",
      "  document  n_tokens  n_i\n",
      "0      It          1    0\n",
      "It m\n",
      "  document  n_tokens  n_i\n",
      "0     It m         2    0\n",
      "It ma\n"
     ]
    },
    {
     "name": "stderr",
     "output_type": "stream",
     "text": [
      "127.0.0.1 - - [11/May/2022 10:20:27] \"\u001b[37mPOST /_dash-update-component HTTP/1.1\u001b[0m\" 200 -\n"
     ]
    },
    {
     "name": "stdout",
     "output_type": "stream",
     "text": [
      "  document  n_tokens  n_i\n",
      "0    It ma         2    0\n",
      "It mak\n",
      "  document  n_tokens  n_i\n",
      "0   It mak         2    0\n",
      "It make\n",
      "It makes\n",
      "It makes "
     ]
    },
    {
     "name": "stderr",
     "output_type": "stream",
     "text": [
      "127.0.0.1 - - [11/May/2022 10:20:28] \"\u001b[37mPOST /_dash-update-component HTTP/1.1\u001b[0m\" 200 -\n"
     ]
    },
    {
     "name": "stdout",
     "output_type": "stream",
     "text": [
      "\n",
      "  document  n_tokens  n_i\n",
      "0  It make         2    0   document  n_tokens  n_i\n",
      "0  It makes         2    0\n",
      "\n",
      "    document  n_tokens  n_i\n",
      "0  It makes          2    0\n",
      "It makes m\n",
      "It makes me\n"
     ]
    },
    {
     "name": "stderr",
     "output_type": "stream",
     "text": [
      "127.0.0.1 - - [11/May/2022 10:20:28] \"\u001b[37mPOST /_dash-update-component HTTP/1.1\u001b[0m\" 200 -\n",
      "127.0.0.1 - - [11/May/2022 10:20:28] \"\u001b[37mPOST /_dash-update-component HTTP/1.1\u001b[0m\" 200 -\n",
      "127.0.0.1 - - [11/May/2022 10:20:28] \"\u001b[37mPOST /_dash-update-component HTTP/1.1\u001b[0m\" 200 -\n",
      "127.0.0.1 - - [11/May/2022 10:20:28] \"\u001b[37mPOST /_dash-update-component HTTP/1.1\u001b[0m\" 200 -\n",
      "127.0.0.1 - - [11/May/2022 10:20:28] \"\u001b[37mPOST /_dash-update-component HTTP/1.1\u001b[0m\" 200 -\n",
      "127.0.0.1 - - [11/May/2022 10:20:28] \"\u001b[37mPOST /_dash-update-component HTTP/1.1\u001b[0m\" 200 -\n"
     ]
    },
    {
     "name": "stdout",
     "output_type": "stream",
     "text": [
      "It makes me \n",
      "     document  n_tokens  n_i\n",
      "0  It makes m         3    0\n",
      "      document  n_tokens  n_i\n",
      "0  It makes me         3    0\n",
      "       document  n_tokens  n_i\n",
      "0  It makes me          3    0\n"
     ]
    },
    {
     "name": "stderr",
     "output_type": "stream",
     "text": [
      "127.0.0.1 - - [11/May/2022 10:20:28] \"\u001b[37mPOST /_dash-update-component HTTP/1.1\u001b[0m\" 200 -\n",
      "127.0.0.1 - - [11/May/2022 10:20:28] \"\u001b[37mPOST /_dash-update-component HTTP/1.1\u001b[0m\" 200 -\n",
      "127.0.0.1 - - [11/May/2022 10:20:28] \"\u001b[37mPOST /_dash-update-component HTTP/1.1\u001b[0m\" 200 -\n"
     ]
    },
    {
     "name": "stdout",
     "output_type": "stream",
     "text": [
      "It makes me s\n",
      "It makes me sa        document  n_tokens  n_i\n",
      "0  It makes me s         4    0\n",
      "\n",
      "         document  n_tokens  n_i\n",
      "0  It makes me sa         4    0\n",
      "It makes me sad\n",
      "          document  n_tokens  n_i\n",
      "0  It makes me sad         4    0\n"
     ]
    },
    {
     "name": "stderr",
     "output_type": "stream",
     "text": [
      "127.0.0.1 - - [11/May/2022 10:32:02] \"\u001b[37mPOST /_dash-update-component HTTP/1.1\u001b[0m\" 200 -\n"
     ]
    },
    {
     "name": "stdout",
     "output_type": "stream",
     "text": [
      "It makes me p\n",
      "        document  n_tokens  n_i\n",
      "0  It makes me p         4    0\n"
     ]
    },
    {
     "name": "stderr",
     "output_type": "stream",
     "text": [
      "127.0.0.1 - - [11/May/2022 10:32:02] \"\u001b[37mPOST /_dash-update-component HTTP/1.1\u001b[0m\" 200 -\n",
      "127.0.0.1 - - [11/May/2022 10:32:02] \"\u001b[37mPOST /_dash-update-component HTTP/1.1\u001b[0m\" 200 -\n"
     ]
    },
    {
     "name": "stdout",
     "output_type": "stream",
     "text": [
      "It makes me pi\n",
      "         document  n_tokens  n_i\n",
      "0  It makes me pi         4    0\n",
      "It makes me pis\n",
      "          document  n_tokens  n_i\n",
      "0  It makes me pis         4    0\n"
     ]
    },
    {
     "name": "stderr",
     "output_type": "stream",
     "text": [
      "127.0.0.1 - - [11/May/2022 10:32:02] \"\u001b[37mPOST /_dash-update-component HTTP/1.1\u001b[0m\" 200 -\n"
     ]
    },
    {
     "name": "stdout",
     "output_type": "stream",
     "text": [
      "It makes me pise\n",
      "           document  n_tokens  n_i\n",
      "0  It makes me pise         4    0\n"
     ]
    },
    {
     "name": "stderr",
     "output_type": "stream",
     "text": [
      "127.0.0.1 - - [11/May/2022 10:32:03] \"\u001b[37mPOST /_dash-update-component HTTP/1.1\u001b[0m\" 200 -\n"
     ]
    },
    {
     "name": "stdout",
     "output_type": "stream",
     "text": [
      "It makes me pis\n",
      "          document  n_tokens  n_i\n",
      "0  It makes me pis         4    0\n",
      "It makes me piss\n"
     ]
    },
    {
     "name": "stderr",
     "output_type": "stream",
     "text": [
      "127.0.0.1 - - [11/May/2022 10:32:03] \"\u001b[37mPOST /_dash-update-component HTTP/1.1\u001b[0m\" 200 -\n",
      "127.0.0.1 - - [11/May/2022 10:32:03] \"\u001b[37mPOST /_dash-update-component HTTP/1.1\u001b[0m\" 200 -\n"
     ]
    },
    {
     "name": "stdout",
     "output_type": "stream",
     "text": [
      "           document  n_tokens  n_i\n",
      "0  It makes me piss         4    0\n",
      "It makes me pisse\n",
      "            document  n_tokens  n_i\n",
      "0  It makes me pisse         4    0\n"
     ]
    },
    {
     "name": "stderr",
     "output_type": "stream",
     "text": [
      "127.0.0.1 - - [11/May/2022 10:32:03] \"\u001b[37mPOST /_dash-update-component HTTP/1.1\u001b[0m\" 200 -\n"
     ]
    },
    {
     "name": "stdout",
     "output_type": "stream",
     "text": [
      "It makes me pissed\n",
      "             document  n_tokens  n_i\n",
      "0  It makes me pissed         4    0\n"
     ]
    },
    {
     "name": "stderr",
     "output_type": "stream",
     "text": [
      "127.0.0.1 - - [11/May/2022 11:51:23] \"\u001b[37mPOST /_dash-update-component HTTP/1.1\u001b[0m\" 200 -\n"
     ]
    },
    {
     "name": "stdout",
     "output_type": "stream",
     "text": [
      "\n",
      "  document  n_tokens  n_i\n",
      "0                  0    0\n"
     ]
    },
    {
     "name": "stderr",
     "output_type": "stream",
     "text": [
      "127.0.0.1 - - [11/May/2022 11:51:26] \"\u001b[37mPOST /_dash-update-component HTTP/1.1\u001b[0m\" 200 -\n"
     ]
    },
    {
     "name": "stdout",
     "output_type": "stream",
     "text": [
      "I\n",
      "  document  n_tokens  n_i\n",
      "0        I         1    0\n",
      "I \n"
     ]
    },
    {
     "name": "stderr",
     "output_type": "stream",
     "text": [
      "127.0.0.1 - - [11/May/2022 11:51:26] \"\u001b[37mPOST /_dash-update-component HTTP/1.1\u001b[0m\" 200 -\n",
      "127.0.0.1 - - [11/May/2022 11:51:26] \"\u001b[37mPOST /_dash-update-component HTTP/1.1\u001b[0m\" 200 -\n"
     ]
    },
    {
     "name": "stdout",
     "output_type": "stream",
     "text": [
      "  document  n_tokens  n_i\n",
      "0       I          1    1\n",
      "I a\n",
      "  document  n_tokens  n_i\n",
      "0      I a         2    1\n",
      "I am\n",
      "  document  n_tokens  n_i\n",
      "0     I am         2    1"
     ]
    },
    {
     "name": "stderr",
     "output_type": "stream",
     "text": [
      "127.0.0.1 - - [11/May/2022 11:51:27] \"\u001b[37mPOST /_dash-update-component HTTP/1.1\u001b[0m\" 200 -\n"
     ]
    },
    {
     "name": "stdout",
     "output_type": "stream",
     "text": [
      "\n",
      "I am \n",
      "I am f\n",
      "  document  n_tokens  n_i\n",
      "0    I am          2    1"
     ]
    },
    {
     "name": "stderr",
     "output_type": "stream",
     "text": [
      "127.0.0.1 - - [11/May/2022 11:51:27] \"\u001b[37mPOST /_dash-update-component HTTP/1.1\u001b[0m\" 200 -\n",
      "127.0.0.1 - - [11/May/2022 11:51:27] \"\u001b[37mPOST /_dash-update-component HTTP/1.1\u001b[0m\" 200 -\n",
      "127.0.0.1 - - [11/May/2022 11:51:27] \"\u001b[37mPOST /_dash-update-component HTTP/1.1\u001b[0m\" 200 -\n"
     ]
    },
    {
     "name": "stdout",
     "output_type": "stream",
     "text": [
      "\n",
      "  document  n_tokens  n_i\n",
      "0   I am f         3    1\n",
      "I am fe\n",
      "  document  n_tokens  n_i\n",
      "0  I am fe         3    1\n"
     ]
    },
    {
     "name": "stderr",
     "output_type": "stream",
     "text": [
      "127.0.0.1 - - [11/May/2022 11:51:27] \"\u001b[37mPOST /_dash-update-component HTTP/1.1\u001b[0m\" 200 -\n"
     ]
    },
    {
     "name": "stdout",
     "output_type": "stream",
     "text": [
      "I am fee\n",
      "I am feel\n",
      "   document  n_tokens  n_i\n",
      "0  I am fee         3    1\n",
      "    document  n_tokens  n_i\n",
      "0  I am feel         3    1\n"
     ]
    },
    {
     "name": "stderr",
     "output_type": "stream",
     "text": [
      "127.0.0.1 - - [11/May/2022 11:51:27] \"\u001b[37mPOST /_dash-update-component HTTP/1.1\u001b[0m\" 200 -\n"
     ]
    },
    {
     "name": "stdout",
     "output_type": "stream",
     "text": [
      "I am feeli\n",
      "I am feelin\n",
      "I am feeling     document  n_tokens  n_i\n",
      "0  I am feeli         3    1\n",
      "\n"
     ]
    },
    {
     "name": "stderr",
     "output_type": "stream",
     "text": [
      "127.0.0.1 - - [11/May/2022 11:51:28] \"\u001b[37mPOST /_dash-update-component HTTP/1.1\u001b[0m\" 200 -\n",
      "127.0.0.1 - - [11/May/2022 11:51:28] \"\u001b[37mPOST /_dash-update-component HTTP/1.1\u001b[0m\" 200 -\n",
      "127.0.0.1 - - [11/May/2022 11:51:28] \"\u001b[37mPOST /_dash-update-component HTTP/1.1\u001b[0m\" 200 -\n",
      "127.0.0.1 - - [11/May/2022 11:51:28] \"\u001b[37mPOST /_dash-update-component HTTP/1.1\u001b[0m\" 200 -\n"
     ]
    },
    {
     "name": "stdout",
     "output_type": "stream",
     "text": [
      "I am feeling \n",
      "       document  n_tokens  n_i\n",
      "0  I am feeling         3    1      document  n_tokens  n_i\n",
      "0  I am feelin         3    1\n",
      "\n",
      "        document  n_tokens  n_i\n",
      "0  I am feeling          3    1\n"
     ]
    },
    {
     "name": "stderr",
     "output_type": "stream",
     "text": [
      "127.0.0.1 - - [11/May/2022 11:51:28] \"\u001b[37mPOST /_dash-update-component HTTP/1.1\u001b[0m\" 200 -\n"
     ]
    },
    {
     "name": "stdout",
     "output_type": "stream",
     "text": [
      "I am feeling l\n",
      "         document  n_tokens  n_i\n",
      "0  I am feeling l         4    1I am feeling li\n",
      "\n",
      "          document  n_tokens  n_i\n",
      "0  I am feeling li         4    1\n"
     ]
    },
    {
     "name": "stderr",
     "output_type": "stream",
     "text": [
      "127.0.0.1 - - [11/May/2022 11:51:28] \"\u001b[37mPOST /_dash-update-component HTTP/1.1\u001b[0m\" 200 -\n"
     ]
    },
    {
     "name": "stdout",
     "output_type": "stream",
     "text": [
      "I am feeling lik\n",
      "I am feeling likeI am feeling like \n",
      "           document  n_tokens  n_i\n",
      "0  I am feeling lik         4    1\n",
      "\n",
      "I am feeling like a\n",
      "I am feeling like an            document  n_tokens  n_i\n",
      "0  I am feeling like         4    1\n",
      "I am feeling like an \n",
      "\n"
     ]
    },
    {
     "name": "stderr",
     "output_type": "stream",
     "text": [
      "127.0.0.1 - - [11/May/2022 11:51:29] \"\u001b[37mPOST /_dash-update-component HTTP/1.1\u001b[0m\" 200 -\n",
      "127.0.0.1 - - [11/May/2022 11:51:29] \"\u001b[37mPOST /_dash-update-component HTTP/1.1\u001b[0m\" 200 -\n"
     ]
    },
    {
     "name": "stdout",
     "output_type": "stream",
     "text": [
      "             document  n_tokens  n_i\n",
      "0  I am feeling like          4    1\n",
      "                document  n_tokens  n_i\n",
      "0  I am feeling like an          5    1\n",
      "              document  n_tokens  n_i\n",
      "0  I am feeling like a         5    1\n",
      "               document  n_tokens  n_i\n",
      "0  I am feeling like an         5    1\n"
     ]
    },
    {
     "name": "stderr",
     "output_type": "stream",
     "text": [
      "127.0.0.1 - - [11/May/2022 11:51:29] \"\u001b[37mPOST /_dash-update-component HTTP/1.1\u001b[0m\" 200 -\n",
      "127.0.0.1 - - [11/May/2022 11:51:29] \"\u001b[37mPOST /_dash-update-component HTTP/1.1\u001b[0m\" 200 -\n",
      "127.0.0.1 - - [11/May/2022 11:51:29] \"\u001b[37mPOST /_dash-update-component HTTP/1.1\u001b[0m\" 200 -\n",
      "127.0.0.1 - - [11/May/2022 11:51:29] \"\u001b[37mPOST /_dash-update-component HTTP/1.1\u001b[0m\" 200 -\n"
     ]
    },
    {
     "name": "stdout",
     "output_type": "stream",
     "text": [
      "I am feeling like an i\n",
      "                 document  n_tokens  n_i\n",
      "0  I am feeling like an i         6    1I am feeling like an imI am feeling like an imp\n",
      "\n",
      "I am feeling like an impo\n",
      "\n",
      "I am feeling like an impos\n",
      "                    document  n_tokens  n_i\n",
      "0  I am feeling like an impo         6    1\n",
      "I am feeling like an imposs                  document  n_tokens  n_i\n",
      "0  I am feeling like an im         6    1\n",
      "\n",
      "                   document  n_tokens  n_i\n",
      "0  I am feeling like an imp         6    1\n",
      "                     document  n_tokens  n_i\n",
      "0  I am feeling like an impos         6    1"
     ]
    },
    {
     "name": "stderr",
     "output_type": "stream",
     "text": [
      "127.0.0.1 - - [11/May/2022 11:51:30] \"\u001b[37mPOST /_dash-update-component HTTP/1.1\u001b[0m\" 200 -\n",
      "127.0.0.1 - - [11/May/2022 11:51:30] \"\u001b[37mPOST /_dash-update-component HTTP/1.1\u001b[0m\" 200 -\n"
     ]
    },
    {
     "name": "stdout",
     "output_type": "stream",
     "text": [
      "\n",
      "                      document  n_tokens  n_i\n",
      "0  I am feeling like an imposs         6    1\n",
      "I am feeling like an imposst\n"
     ]
    },
    {
     "name": "stderr",
     "output_type": "stream",
     "text": [
      "127.0.0.1 - - [11/May/2022 11:51:30] \"\u001b[37mPOST /_dash-update-component HTTP/1.1\u001b[0m\" 200 -\n",
      "127.0.0.1 - - [11/May/2022 11:51:30] \"\u001b[37mPOST /_dash-update-component HTTP/1.1\u001b[0m\" 200 -\n",
      "127.0.0.1 - - [11/May/2022 11:51:30] \"\u001b[37mPOST /_dash-update-component HTTP/1.1\u001b[0m\" 200 -\n",
      "127.0.0.1 - - [11/May/2022 11:51:30] \"\u001b[37mPOST /_dash-update-component HTTP/1.1\u001b[0m\" 200 -\n",
      "127.0.0.1 - - [11/May/2022 11:51:30] \"\u001b[37mPOST /_dash-update-component HTTP/1.1\u001b[0m\" 200 -\n"
     ]
    },
    {
     "name": "stdout",
     "output_type": "stream",
     "text": [
      "                       document  n_tokens  n_i\n",
      "0  I am feeling like an imposst         6    1\n",
      "I am feeling like an impossteI am feeling like an imposster\n",
      "\n",
      "I am feeling like an imposste\n",
      "I am feeling like an imposst\n",
      "I am feeling like an imposs\n",
      "I am feeling like an imposst\n",
      "                      document  n_tokens  n_i\n",
      "0  I am feeling like an imposs         6    1\n",
      "                       document  n_tokens  n_i\n",
      "0  I am feeling like an imposst         6    1\n"
     ]
    },
    {
     "name": "stderr",
     "output_type": "stream",
     "text": [
      "127.0.0.1 - - [11/May/2022 11:51:33] \"\u001b[37mPOST /_dash-update-component HTTP/1.1\u001b[0m\" 200 -\n"
     ]
    },
    {
     "name": "stdout",
     "output_type": "stream",
     "text": [
      "                       document  n_tokens  n_i\n",
      "0  I am feeling like an imposst         6    1\n",
      "                        document  n_tokens  n_i\n",
      "0  I am feeling like an imposste         6    1\n",
      "                         document  n_tokens  n_i\n",
      "0  I am feeling like an imposster         6    1"
     ]
    },
    {
     "name": "stderr",
     "output_type": "stream",
     "text": [
      "127.0.0.1 - - [11/May/2022 11:51:33] \"\u001b[37mPOST /_dash-update-component HTTP/1.1\u001b[0m\" 200 -\n",
      "127.0.0.1 - - [11/May/2022 11:51:33] \"\u001b[37mPOST /_dash-update-component HTTP/1.1\u001b[0m\" 200 -\n",
      "127.0.0.1 - - [11/May/2022 11:51:33] \"\u001b[37mPOST /_dash-update-component HTTP/1.1\u001b[0m\" 200 -\n",
      "127.0.0.1 - - [11/May/2022 11:51:33] \"\u001b[37mPOST /_dash-update-component HTTP/1.1\u001b[0m\" 200 -\n"
     ]
    },
    {
     "name": "stdout",
     "output_type": "stream",
     "text": [
      "\n",
      "                        document  n_tokens  n_i\n",
      "0  I am feeling like an imposste         6    1\n",
      "I am feeling like an imposste\n",
      "I am feeling like an imposst\n",
      "                       document  n_tokens  n_i\n",
      "0  I am feeling like an imposst         6    1\n",
      "I am feeling like an imposs"
     ]
    },
    {
     "name": "stderr",
     "output_type": "stream",
     "text": [
      "127.0.0.1 - - [11/May/2022 11:51:34] \"\u001b[37mPOST /_dash-update-component HTTP/1.1\u001b[0m\" 200 -\n"
     ]
    },
    {
     "name": "stdout",
     "output_type": "stream",
     "text": [
      "\n",
      "I am feeling like an impos\n",
      "I am feeling like an impost\n"
     ]
    },
    {
     "name": "stderr",
     "output_type": "stream",
     "text": [
      "127.0.0.1 - - [11/May/2022 11:51:34] \"\u001b[37mPOST /_dash-update-component HTTP/1.1\u001b[0m\" 200 -\n"
     ]
    },
    {
     "name": "stdout",
     "output_type": "stream",
     "text": [
      "                      document  n_tokens  n_i\n",
      "0  I am feeling like an imposs         6    1                     document  n_tokens  n_i\n",
      "0  I am feeling like an impos         6    1\n",
      "\n",
      "I am feeling like an imposte\n",
      "                      document  n_tokens  n_i\n",
      "0  I am feeling like an impost         6    1\n"
     ]
    },
    {
     "name": "stderr",
     "output_type": "stream",
     "text": [
      "127.0.0.1 - - [11/May/2022 11:51:35] \"\u001b[37mPOST /_dash-update-component HTTP/1.1\u001b[0m\" 200 -\n",
      "127.0.0.1 - - [11/May/2022 11:51:35] \"\u001b[37mPOST /_dash-update-component HTTP/1.1\u001b[0m\" 200 -\n",
      "127.0.0.1 - - [11/May/2022 11:51:35] \"\u001b[37mPOST /_dash-update-component HTTP/1.1\u001b[0m\" 200 -\n"
     ]
    },
    {
     "name": "stdout",
     "output_type": "stream",
     "text": [
      "                       document  n_tokens  n_i\n",
      "0  I am feeling like an imposte         6    1\n",
      "                        document  n_tokens  n_i\n",
      "0  I am feeling like an imposste         6    1\n",
      "I am feeling like an imposter\n"
     ]
    },
    {
     "name": "stderr",
     "output_type": "stream",
     "text": [
      "127.0.0.1 - - [11/May/2022 11:51:35] \"\u001b[37mPOST /_dash-update-component HTTP/1.1\u001b[0m\" 200 -\n",
      "127.0.0.1 - - [11/May/2022 11:51:35] \"\u001b[37mPOST /_dash-update-component HTTP/1.1\u001b[0m\" 200 -\n",
      "127.0.0.1 - - [11/May/2022 11:51:35] \"\u001b[37mPOST /_dash-update-component HTTP/1.1\u001b[0m\" 200 -\n"
     ]
    },
    {
     "name": "stdout",
     "output_type": "stream",
     "text": [
      "                        document  n_tokens  n_i\n",
      "0  I am feeling like an imposter         6    1\n"
     ]
    },
    {
     "name": "stderr",
     "output_type": "stream",
     "text": [
      "127.0.0.1 - - [11/May/2022 11:51:37] \"\u001b[37mPOST /_dash-update-component HTTP/1.1\u001b[0m\" 200 -\n"
     ]
    },
    {
     "name": "stdout",
     "output_type": "stream",
     "text": [
      "I am feeling like an imposte\n",
      "                       document  n_tokens  n_i\n",
      "0  I am feeling like an imposte         6    1\n",
      "I am feeling like an impostI am feeling like an impos\n",
      "\n",
      "I am feeling like an impo\n",
      "I am feeling like an imp\n",
      "                     document  n_tokens  n_i\n",
      "0  I am feeling like an impos         6    1\n",
      "I am feeling like an im                      document  n_tokens  n_i\n",
      "0  I am feeling like an impost         6    1\n",
      "\n",
      "                   document  n_tokens  n_i\n",
      "0  I am feeling like an imp         6    1\n",
      "                    document  n_tokens  n_i\n",
      "0  I am feeling like an impo         6    1I am feeling like an i\n",
      "\n",
      "                  document  n_tokens  n_i\n",
      "0  I am feeling like an im         6    1"
     ]
    },
    {
     "name": "stderr",
     "output_type": "stream",
     "text": [
      "127.0.0.1 - - [11/May/2022 11:51:38] \"\u001b[37mPOST /_dash-update-component HTTP/1.1\u001b[0m\" 200 -\n",
      "127.0.0.1 - - [11/May/2022 11:51:38] \"\u001b[37mPOST /_dash-update-component HTTP/1.1\u001b[0m\" 200 -\n",
      "127.0.0.1 - - [11/May/2022 11:51:38] \"\u001b[37mPOST /_dash-update-component HTTP/1.1\u001b[0m\" 200 -\n",
      "127.0.0.1 - - [11/May/2022 11:51:38] \"\u001b[37mPOST /_dash-update-component HTTP/1.1\u001b[0m\" 200 -\n",
      "127.0.0.1 - - [11/May/2022 11:51:38] \"\u001b[37mPOST /_dash-update-component HTTP/1.1\u001b[0m\" 200 -\n",
      "127.0.0.1 - - [11/May/2022 11:51:38] \"\u001b[37mPOST /_dash-update-component HTTP/1.1\u001b[0m\" 200 -\n"
     ]
    },
    {
     "name": "stdout",
     "output_type": "stream",
     "text": [
      "\n",
      "                 document  n_tokens  n_i\n",
      "0  I am feeling like an i         6    1\n",
      "I am feeling like an I am feeling like an\n",
      "\n",
      "I am feeling like a\n",
      "I am feeling like \n",
      "              document  n_tokens  n_i\n",
      "0  I am feeling like a         5    1\n",
      "                document  n_tokens  n_i\n",
      "0  I am feeling like an          5    1               document  n_tokens  n_i\n",
      "0  I am feeling like an         5    1\n",
      "I am feeling like\n",
      "\n"
     ]
    },
    {
     "name": "stderr",
     "output_type": "stream",
     "text": [
      "127.0.0.1 - - [11/May/2022 11:51:39] \"\u001b[37mPOST /_dash-update-component HTTP/1.1\u001b[0m\" 200 -\n",
      "127.0.0.1 - - [11/May/2022 11:51:39] \"\u001b[37mPOST /_dash-update-component HTTP/1.1\u001b[0m\" 200 -\n",
      "127.0.0.1 - - [11/May/2022 11:51:39] \"\u001b[37mPOST /_dash-update-component HTTP/1.1\u001b[0m\" 200 -\n",
      "127.0.0.1 - - [11/May/2022 11:51:39] \"\u001b[37mPOST /_dash-update-component HTTP/1.1\u001b[0m\" 200 -\n"
     ]
    },
    {
     "name": "stdout",
     "output_type": "stream",
     "text": [
      "I am feeling lik\n",
      "             document  n_tokens  n_i\n",
      "0  I am feeling like          4    1\n",
      "            document  n_tokens  n_i\n",
      "0  I am feeling like         4    1           document  n_tokens  n_i\n",
      "0  I am feeling lik         4    1\n",
      "\n",
      "I am feeling li"
     ]
    },
    {
     "name": "stderr",
     "output_type": "stream",
     "text": [
      "127.0.0.1 - - [11/May/2022 11:51:39] \"\u001b[37mPOST /_dash-update-component HTTP/1.1\u001b[0m\" 200 -\n",
      "127.0.0.1 - - [11/May/2022 11:51:39] \"\u001b[37mPOST /_dash-update-component HTTP/1.1\u001b[0m\" 200 -\n"
     ]
    },
    {
     "name": "stdout",
     "output_type": "stream",
     "text": [
      "\n",
      "I am feeling l\n",
      "          document  n_tokens  n_i\n",
      "0  I am feeling li         4    1\n",
      "I am feeling \n",
      "I am feeling\n",
      "I am feelin\n",
      "        document  n_tokens  n_i\n",
      "0  I am feeling          3    1         document  n_tokens  n_i\n",
      "0  I am feeling l         4    1\n"
     ]
    },
    {
     "name": "stderr",
     "output_type": "stream",
     "text": [
      "127.0.0.1 - - [11/May/2022 11:51:39] \"\u001b[37mPOST /_dash-update-component HTTP/1.1\u001b[0m\" 200 -\n"
     ]
    },
    {
     "name": "stdout",
     "output_type": "stream",
     "text": [
      "\n",
      "       document  n_tokens  n_i\n",
      "0  I am feeling         3    1\n",
      "      document  n_tokens  n_i\n",
      "0  I am feelin         3    1\n",
      "I am feeli\n",
      "I am feel"
     ]
    },
    {
     "name": "stderr",
     "output_type": "stream",
     "text": [
      "127.0.0.1 - - [11/May/2022 11:51:39] \"\u001b[37mPOST /_dash-update-component HTTP/1.1\u001b[0m\" 200 -\n",
      "127.0.0.1 - - [11/May/2022 11:51:39] \"\u001b[37mPOST /_dash-update-component HTTP/1.1\u001b[0m\" 200 -\n",
      "127.0.0.1 - - [11/May/2022 11:51:39] \"\u001b[37mPOST /_dash-update-component HTTP/1.1\u001b[0m\" 200 -\n",
      "127.0.0.1 - - [11/May/2022 11:51:40] \"\u001b[37mPOST /_dash-update-component HTTP/1.1\u001b[0m\" 200 -\n"
     ]
    },
    {
     "name": "stdout",
     "output_type": "stream",
     "text": [
      "\n",
      "     document  n_tokens  n_i\n",
      "0  I am feeli         3    1\n",
      "    document  n_tokens  n_i\n",
      "0  I am feel         3    1\n",
      "I am fee\n",
      "I am fe\n"
     ]
    },
    {
     "name": "stderr",
     "output_type": "stream",
     "text": [
      "127.0.0.1 - - [11/May/2022 11:51:40] \"\u001b[37mPOST /_dash-update-component HTTP/1.1\u001b[0m\" 200 -\n",
      "127.0.0.1 - - [11/May/2022 11:51:40] \"\u001b[37mPOST /_dash-update-component HTTP/1.1\u001b[0m\" 200 -\n"
     ]
    },
    {
     "name": "stdout",
     "output_type": "stream",
     "text": [
      "I am f\n",
      "   document  n_tokens  n_i\n",
      "0  I am fee         3    1\n",
      "  document  n_tokens  n_i\n",
      "0  I am fe         3    1\n",
      "  document  n_tokens  n_i\n",
      "0   I am f         3    1\n",
      "I am \n",
      "I am"
     ]
    },
    {
     "name": "stderr",
     "output_type": "stream",
     "text": [
      "127.0.0.1 - - [11/May/2022 11:51:40] \"\u001b[37mPOST /_dash-update-component HTTP/1.1\u001b[0m\" 200 -\n",
      "127.0.0.1 - - [11/May/2022 11:51:40] \"\u001b[37mPOST /_dash-update-component HTTP/1.1\u001b[0m\" 200 -\n",
      "127.0.0.1 - - [11/May/2022 11:51:40] \"\u001b[37mPOST /_dash-update-component HTTP/1.1\u001b[0m\" 200 -\n"
     ]
    },
    {
     "name": "stdout",
     "output_type": "stream",
     "text": [
      "\n",
      "  document  n_tokens  n_i\n",
      "0     I am         2    1\n",
      "  document  n_tokens  n_i\n",
      "0    I am          2    1\n",
      "I a\n",
      "  document  n_tokens  n_i\n",
      "0      I a         2    1\n",
      "I \n"
     ]
    },
    {
     "name": "stderr",
     "output_type": "stream",
     "text": [
      "127.0.0.1 - - [11/May/2022 11:51:40] \"\u001b[37mPOST /_dash-update-component HTTP/1.1\u001b[0m\" 200 -\n",
      "127.0.0.1 - - [11/May/2022 11:51:40] \"\u001b[37mPOST /_dash-update-component HTTP/1.1\u001b[0m\" 200 -\n",
      "127.0.0.1 - - [11/May/2022 11:51:40] \"\u001b[37mPOST /_dash-update-component HTTP/1.1\u001b[0m\" 200 -\n"
     ]
    },
    {
     "name": "stdout",
     "output_type": "stream",
     "text": [
      "I\n",
      "  document  n_tokens  n_i\n",
      "0       I          1    1\n",
      "  document  n_tokens  n_i\n",
      "0        I         1    0\n",
      "\n",
      "I\n",
      "I \n",
      "I a  document  n_tokens  n_i\n",
      "0        I         1    0  document  n_tokens  n_i\n",
      "0                  0    0\n",
      "\n"
     ]
    },
    {
     "name": "stderr",
     "output_type": "stream",
     "text": [
      "127.0.0.1 - - [11/May/2022 11:51:41] \"\u001b[37mPOST /_dash-update-component HTTP/1.1\u001b[0m\" 200 -\n",
      "127.0.0.1 - - [11/May/2022 11:51:41] \"\u001b[37mPOST /_dash-update-component HTTP/1.1\u001b[0m\" 200 -\n"
     ]
    },
    {
     "name": "stdout",
     "output_type": "stream",
     "text": [
      "\n",
      "  document  n_tokens  n_i\n",
      "0       I          1    1\n",
      "  document  n_tokens  n_i\n",
      "0      I a         2    1\n",
      "I am"
     ]
    },
    {
     "name": "stderr",
     "output_type": "stream",
     "text": [
      "127.0.0.1 - - [11/May/2022 11:51:41] \"\u001b[37mPOST /_dash-update-component HTTP/1.1\u001b[0m\" 200 -\n",
      "127.0.0.1 - - [11/May/2022 11:51:41] \"\u001b[37mPOST /_dash-update-component HTTP/1.1\u001b[0m\" 200 -\n",
      "127.0.0.1 - - [11/May/2022 11:51:41] \"\u001b[37mPOST /_dash-update-component HTTP/1.1\u001b[0m\" 200 -\n",
      "127.0.0.1 - - [11/May/2022 11:51:41] \"\u001b[37mPOST /_dash-update-component HTTP/1.1\u001b[0m\" 200 -\n"
     ]
    },
    {
     "name": "stdout",
     "output_type": "stream",
     "text": [
      "\n",
      "I am   document  n_tokens  n_i\n",
      "0     I am         2    1\n",
      "\n",
      "  document  n_tokens  n_i\n",
      "0    I am          2    1\n",
      "I am s\n"
     ]
    },
    {
     "name": "stderr",
     "output_type": "stream",
     "text": [
      "127.0.0.1 - - [11/May/2022 11:51:41] \"\u001b[37mPOST /_dash-update-component HTTP/1.1\u001b[0m\" 200 -\n",
      "127.0.0.1 - - [11/May/2022 11:51:41] \"\u001b[37mPOST /_dash-update-component HTTP/1.1\u001b[0m\" 200 -\n",
      "127.0.0.1 - - [11/May/2022 11:51:42] \"\u001b[37mPOST /_dash-update-component HTTP/1.1\u001b[0m\" 200 -\n",
      "127.0.0.1 - - [11/May/2022 11:51:42] \"\u001b[37mPOST /_dash-update-component HTTP/1.1\u001b[0m\" 200 -\n",
      "127.0.0.1 - - [11/May/2022 11:51:42] \"\u001b[37mPOST /_dash-update-component HTTP/1.1\u001b[0m\" 200 -\n"
     ]
    },
    {
     "name": "stdout",
     "output_type": "stream",
     "text": [
      "I am so\n",
      "  document  n_tokens  n_i\n",
      "0   I am s         3    1\n",
      "I am so \n",
      "  document  n_tokens  n_i\n",
      "0  I am so         3    1\n",
      "   document  n_tokens  n_i\n",
      "0  I am so          3    1\n",
      "I am so u\n",
      "I am so up    document  n_tokens  n_i\n",
      "0  I am so u         4    1\n",
      "\n",
      "I am so ups\n",
      "     document  n_tokens  n_i\n",
      "0  I am so up         4    1\n"
     ]
    },
    {
     "name": "stderr",
     "output_type": "stream",
     "text": [
      "127.0.0.1 - - [11/May/2022 11:51:42] \"\u001b[37mPOST /_dash-update-component HTTP/1.1\u001b[0m\" 200 -\n",
      "127.0.0.1 - - [11/May/2022 11:51:42] \"\u001b[37mPOST /_dash-update-component HTTP/1.1\u001b[0m\" 200 -\n"
     ]
    },
    {
     "name": "stdout",
     "output_type": "stream",
     "text": [
      "I am so upse\n",
      "      document  n_tokens  n_i\n",
      "0  I am so ups         4    1I am so upset\n",
      "\n",
      "       document  n_tokens  n_i\n",
      "0  I am so upse         4    1\n"
     ]
    },
    {
     "name": "stderr",
     "output_type": "stream",
     "text": [
      "127.0.0.1 - - [11/May/2022 11:51:42] \"\u001b[37mPOST /_dash-update-component HTTP/1.1\u001b[0m\" 200 -\n",
      "127.0.0.1 - - [11/May/2022 11:51:42] \"\u001b[37mPOST /_dash-update-component HTTP/1.1\u001b[0m\" 200 -\n",
      "127.0.0.1 - - [11/May/2022 11:51:42] \"\u001b[37mPOST /_dash-update-component HTTP/1.1\u001b[0m\" 200 -\n",
      "127.0.0.1 - - [11/May/2022 11:51:45] \"\u001b[37mPOST /_dash-update-component HTTP/1.1\u001b[0m\" 200 -\n"
     ]
    },
    {
     "name": "stdout",
     "output_type": "stream",
     "text": [
      "        document  n_tokens  n_i\n",
      "0  I am so upset         4    1\n",
      "I am so upse\n",
      "       document  n_tokens  n_i\n",
      "0  I am so upse         4    1\n",
      "I am so ups\n",
      "      document  n_tokens  n_i\n",
      "0  I am so ups         4    1"
     ]
    },
    {
     "name": "stderr",
     "output_type": "stream",
     "text": [
      "127.0.0.1 - - [11/May/2022 11:51:45] \"\u001b[37mPOST /_dash-update-component HTTP/1.1\u001b[0m\" 200 -\n",
      "127.0.0.1 - - [11/May/2022 11:51:45] \"\u001b[37mPOST /_dash-update-component HTTP/1.1\u001b[0m\" 200 -\n"
     ]
    },
    {
     "name": "stdout",
     "output_type": "stream",
     "text": [
      "\n",
      "I am so up\n",
      "     document  n_tokens  n_i\n",
      "0  I am so up         4    1\n"
     ]
    },
    {
     "name": "stderr",
     "output_type": "stream",
     "text": [
      "127.0.0.1 - - [11/May/2022 11:51:45] \"\u001b[37mPOST /_dash-update-component HTTP/1.1\u001b[0m\" 200 -\n"
     ]
    },
    {
     "name": "stdout",
     "output_type": "stream",
     "text": [
      "I am so u\n",
      "    document  n_tokens  n_i\n",
      "0  I am so u         4    1\n",
      "I am so \n",
      "   document  n_tokens  n_i\n",
      "0  I am so          3    1\n"
     ]
    },
    {
     "name": "stderr",
     "output_type": "stream",
     "text": [
      "127.0.0.1 - - [11/May/2022 11:51:45] \"\u001b[37mPOST /_dash-update-component HTTP/1.1\u001b[0m\" 200 -\n",
      "127.0.0.1 - - [11/May/2022 11:51:47] \"\u001b[37mPOST /_dash-update-component HTTP/1.1\u001b[0m\" 200 -\n"
     ]
    },
    {
     "name": "stdout",
     "output_type": "stream",
     "text": [
      "I am so\n",
      "  document  n_tokens  n_i\n",
      "0  I am so         3    1\n",
      "I am s\n",
      "  document  n_tokens  n_i\n",
      "0   I am s         3    1\n"
     ]
    },
    {
     "name": "stderr",
     "output_type": "stream",
     "text": [
      "127.0.0.1 - - [11/May/2022 11:51:47] \"\u001b[37mPOST /_dash-update-component HTTP/1.1\u001b[0m\" 200 -\n",
      "127.0.0.1 - - [11/May/2022 11:51:48] \"\u001b[37mPOST /_dash-update-component HTTP/1.1\u001b[0m\" 200 -\n"
     ]
    },
    {
     "name": "stdout",
     "output_type": "stream",
     "text": [
      "I am \n",
      "  document  n_tokens  n_i\n",
      "0    I am          2    1\n"
     ]
    },
    {
     "name": "stderr",
     "output_type": "stream",
     "text": [
      "127.0.0.1 - - [11/May/2022 11:51:48] \"\u001b[37mPOST /_dash-update-component HTTP/1.1\u001b[0m\" 200 -\n"
     ]
    },
    {
     "name": "stdout",
     "output_type": "stream",
     "text": [
      "I am g\n",
      "  document  n_tokens  n_i\n",
      "0   I am g         3    1\n",
      "I am gr\n",
      "I am gra\n",
      "  document  n_tokens  n_i\n",
      "0  I am gr         3    1\n"
     ]
    },
    {
     "name": "stderr",
     "output_type": "stream",
     "text": [
      "127.0.0.1 - - [11/May/2022 11:51:49] \"\u001b[37mPOST /_dash-update-component HTTP/1.1\u001b[0m\" 200 -\n",
      "127.0.0.1 - - [11/May/2022 11:51:49] \"\u001b[37mPOST /_dash-update-component HTTP/1.1\u001b[0m\" 200 -\n",
      "127.0.0.1 - - [11/May/2022 11:51:49] \"\u001b[37mPOST /_dash-update-component HTTP/1.1\u001b[0m\" 200 -\n"
     ]
    },
    {
     "name": "stdout",
     "output_type": "stream",
     "text": [
      "I am grat   document  n_tokens  n_i\n",
      "0  I am gra         3    1\n",
      "\n",
      "I am grate    document  n_tokens  n_i\n",
      "0  I am grat         3    1\n",
      "\n",
      "     document  n_tokens  n_i\n",
      "0  I am grate         3    1\n"
     ]
    },
    {
     "name": "stderr",
     "output_type": "stream",
     "text": [
      "127.0.0.1 - - [11/May/2022 11:51:49] \"\u001b[37mPOST /_dash-update-component HTTP/1.1\u001b[0m\" 200 -\n",
      "127.0.0.1 - - [11/May/2022 11:51:49] \"\u001b[37mPOST /_dash-update-component HTTP/1.1\u001b[0m\" 200 -\n"
     ]
    },
    {
     "name": "stdout",
     "output_type": "stream",
     "text": [
      "I am gratef\n",
      "      document  n_tokens  n_i\n",
      "0  I am gratef         3    1\n",
      "I am gratefu\n",
      "       document  n_tokens  n_i\n",
      "0  I am gratefu         3    1I am grateful"
     ]
    },
    {
     "name": "stderr",
     "output_type": "stream",
     "text": [
      "127.0.0.1 - - [11/May/2022 11:51:50] \"\u001b[37mPOST /_dash-update-component HTTP/1.1\u001b[0m\" 200 -\n",
      "127.0.0.1 - - [11/May/2022 11:51:50] \"\u001b[37mPOST /_dash-update-component HTTP/1.1\u001b[0m\" 200 -\n"
     ]
    },
    {
     "name": "stdout",
     "output_type": "stream",
     "text": [
      "\n",
      "\n",
      "        document  n_tokens  n_i\n",
      "0  I am grateful         3    1\n",
      "I am gratefu\n",
      "       document  n_tokens  n_i\n",
      "0  I am gratefu         3    1\n",
      "I am gratef\n",
      "      document  n_tokens  n_i\n",
      "0  I am gratef         3    1\n"
     ]
    },
    {
     "name": "stderr",
     "output_type": "stream",
     "text": [
      "127.0.0.1 - - [11/May/2022 11:51:51] \"\u001b[37mPOST /_dash-update-component HTTP/1.1\u001b[0m\" 200 -\n",
      "127.0.0.1 - - [11/May/2022 11:51:51] \"\u001b[37mPOST /_dash-update-component HTTP/1.1\u001b[0m\" 200 -\n"
     ]
    },
    {
     "name": "stdout",
     "output_type": "stream",
     "text": [
      "I am grate\n",
      "     document  n_tokens  n_i\n",
      "0  I am grate         3    1\n",
      "I am grat\n",
      "    document  n_tokens  n_i\n",
      "0  I am grat         3    1"
     ]
    },
    {
     "name": "stderr",
     "output_type": "stream",
     "text": [
      "127.0.0.1 - - [11/May/2022 11:51:51] \"\u001b[37mPOST /_dash-update-component HTTP/1.1\u001b[0m\" 200 -\n",
      "127.0.0.1 - - [11/May/2022 11:51:51] \"\u001b[37mPOST /_dash-update-component HTTP/1.1\u001b[0m\" 200 -\n"
     ]
    },
    {
     "name": "stdout",
     "output_type": "stream",
     "text": [
      "\n",
      "I am gra\n",
      "   document  n_tokens  n_i\n",
      "0  I am gra         3    1\n",
      "I am gr"
     ]
    },
    {
     "name": "stderr",
     "output_type": "stream",
     "text": [
      "127.0.0.1 - - [11/May/2022 11:51:51] \"\u001b[37mPOST /_dash-update-component HTTP/1.1\u001b[0m\" 200 -\n",
      "127.0.0.1 - - [11/May/2022 11:51:52] \"\u001b[37mPOST /_dash-update-component HTTP/1.1\u001b[0m\" 200 -\n"
     ]
    },
    {
     "name": "stdout",
     "output_type": "stream",
     "text": [
      "\n",
      "  document  n_tokens  n_i\n",
      "0  I am gr         3    1\n",
      "I am g\n",
      "  document  n_tokens  n_i\n",
      "0   I am g         3    1\n"
     ]
    },
    {
     "name": "stderr",
     "output_type": "stream",
     "text": [
      "127.0.0.1 - - [11/May/2022 11:51:52] \"\u001b[37mPOST /_dash-update-component HTTP/1.1\u001b[0m\" 200 -\n",
      "127.0.0.1 - - [11/May/2022 11:51:52] \"\u001b[37mPOST /_dash-update-component HTTP/1.1\u001b[0m\" 200 -\n"
     ]
    },
    {
     "name": "stdout",
     "output_type": "stream",
     "text": [
      "I am \n",
      "  document  n_tokens  n_i\n",
      "0    I am          2    1\n"
     ]
    },
    {
     "name": "stderr",
     "output_type": "stream",
     "text": [
      "127.0.0.1 - - [11/May/2022 11:51:52] \"\u001b[37mPOST /_dash-update-component HTTP/1.1\u001b[0m\" 200 -\n",
      "127.0.0.1 - - [11/May/2022 11:51:52] \"\u001b[37mPOST /_dash-update-component HTTP/1.1\u001b[0m\" 200 -\n"
     ]
    },
    {
     "name": "stdout",
     "output_type": "stream",
     "text": [
      "I am f\n",
      "  document  n_tokens  n_i\n",
      "0   I am f         3    1\n",
      "I am fe\n",
      "  document  n_tokens  n_i\n",
      "0  I am fe         3    1\n"
     ]
    },
    {
     "name": "stderr",
     "output_type": "stream",
     "text": [
      "127.0.0.1 - - [11/May/2022 11:51:52] \"\u001b[37mPOST /_dash-update-component HTTP/1.1\u001b[0m\" 200 -\n"
     ]
    },
    {
     "name": "stdout",
     "output_type": "stream",
     "text": [
      "I am fee\n",
      "   document  n_tokens  n_i\n",
      "0  I am fee         3    1\n",
      "I am feel\n",
      "    document  n_tokens  n_i\n",
      "0  I am feel         3    1\n"
     ]
    },
    {
     "name": "stderr",
     "output_type": "stream",
     "text": [
      "127.0.0.1 - - [11/May/2022 11:51:52] \"\u001b[37mPOST /_dash-update-component HTTP/1.1\u001b[0m\" 200 -\n"
     ]
    },
    {
     "name": "stdout",
     "output_type": "stream",
     "text": [
      "I am feeli\n",
      "     document  n_tokens  n_i\n",
      "0  I am feeli         3    1I am feeling\n",
      "\n",
      "I am feeling        document  n_tokens  n_i\n",
      "0  I am feeling         3    1\n",
      "\n",
      "        document  n_tokens  n_i\n",
      "0  I am feeling          3    1I am feeling d\n",
      "\n",
      "I am feeling di"
     ]
    },
    {
     "name": "stderr",
     "output_type": "stream",
     "text": [
      "127.0.0.1 - - [11/May/2022 11:51:53] \"\u001b[37mPOST /_dash-update-component HTTP/1.1\u001b[0m\" 200 -\n",
      "127.0.0.1 - - [11/May/2022 11:51:53] \"\u001b[37mPOST /_dash-update-component HTTP/1.1\u001b[0m\" 200 -\n"
     ]
    },
    {
     "name": "stdout",
     "output_type": "stream",
     "text": [
      "\n",
      "         document  n_tokens  n_i\n",
      "0  I am feeling d         4    1\n",
      "          document  n_tokens  n_i\n",
      "0  I am feeling di         4    1\n",
      "I am feeling dis\n"
     ]
    },
    {
     "name": "stderr",
     "output_type": "stream",
     "text": [
      "127.0.0.1 - - [11/May/2022 11:51:53] \"\u001b[37mPOST /_dash-update-component HTTP/1.1\u001b[0m\" 200 -\n",
      "127.0.0.1 - - [11/May/2022 11:51:53] \"\u001b[37mPOST /_dash-update-component HTTP/1.1\u001b[0m\" 200 -\n",
      "127.0.0.1 - - [11/May/2022 11:51:53] \"\u001b[37mPOST /_dash-update-component HTTP/1.1\u001b[0m\" 200 -\n",
      "127.0.0.1 - - [11/May/2022 11:51:53] \"\u001b[37mPOST /_dash-update-component HTTP/1.1\u001b[0m\" 200 -\n",
      "127.0.0.1 - - [11/May/2022 11:51:53] \"\u001b[37mPOST /_dash-update-component HTTP/1.1\u001b[0m\" 200 -\n"
     ]
    },
    {
     "name": "stdout",
     "output_type": "stream",
     "text": [
      "           document  n_tokens  n_i\n",
      "0  I am feeling dis         4    1I am feeling diso\n",
      "\n",
      "            document  n_tokens  n_i\n",
      "0  I am feeling diso         4    1\n",
      "I am feeling disor\n",
      "I am feeling disoriI am feeling disorie\n",
      "\n",
      "I am feeling disorien\n",
      "I am feeling disorient\n",
      "I am feeling disoriente\n",
      "               document  n_tokens  n_i\n",
      "0  I am feeling disorie         4    1\n"
     ]
    },
    {
     "name": "stderr",
     "output_type": "stream",
     "text": [
      "127.0.0.1 - - [11/May/2022 11:51:57] \"\u001b[37mPOST /_dash-update-component HTTP/1.1\u001b[0m\" 200 -\n"
     ]
    },
    {
     "name": "stdout",
     "output_type": "stream",
     "text": [
      "             document  n_tokens  n_i\n",
      "0  I am feeling disor         4    1\n",
      "                document  n_tokens  n_i\n",
      "0  I am feeling disorien         4    1\n",
      "              document  n_tokens  n_i\n",
      "0  I am feeling disori         4    1\n",
      "I am feeling disoriented\n"
     ]
    },
    {
     "name": "stderr",
     "output_type": "stream",
     "text": [
      "127.0.0.1 - - [11/May/2022 11:51:58] \"\u001b[37mPOST /_dash-update-component HTTP/1.1\u001b[0m\" 200 -\n",
      "127.0.0.1 - - [11/May/2022 11:51:59] \"\u001b[37mPOST /_dash-update-component HTTP/1.1\u001b[0m\" 200 -\n",
      "127.0.0.1 - - [11/May/2022 11:51:59] \"\u001b[37mPOST /_dash-update-component HTTP/1.1\u001b[0m\" 200 -\n"
     ]
    },
    {
     "name": "stdout",
     "output_type": "stream",
     "text": [
      "                 document  n_tokens  n_i\n",
      "0  I am feeling disorient         4    1                  document  n_tokens  n_i\n",
      "0  I am feeling disoriente         4    1\n",
      "\n"
     ]
    },
    {
     "name": "stderr",
     "output_type": "stream",
     "text": [
      "127.0.0.1 - - [11/May/2022 11:52:00] \"\u001b[37mPOST /_dash-update-component HTTP/1.1\u001b[0m\" 200 -\n",
      "127.0.0.1 - - [11/May/2022 11:52:00] \"\u001b[37mPOST /_dash-update-component HTTP/1.1\u001b[0m\" 200 -\n",
      "127.0.0.1 - - [11/May/2022 11:52:00] \"\u001b[37mPOST /_dash-update-component HTTP/1.1\u001b[0m\" 200 -\n"
     ]
    },
    {
     "name": "stdout",
     "output_type": "stream",
     "text": [
      "                   document  n_tokens  n_i\n",
      "0  I am feeling disoriented         4    1\n",
      "I am feeling disoriente\n",
      "I am feeling disorienI am feeling disorient\n",
      "\n",
      "I am feeling disorie\n",
      "I am feeling disori\n",
      "I am feeling disor\n",
      "                  document  n_tokens  n_i\n",
      "0  I am feeling disoriente         4    1\n"
     ]
    },
    {
     "name": "stderr",
     "output_type": "stream",
     "text": [
      "127.0.0.1 - - [11/May/2022 11:52:07] \"\u001b[37mPOST /_dash-update-component HTTP/1.1\u001b[0m\" 200 -\n"
     ]
    },
    {
     "name": "stdout",
     "output_type": "stream",
     "text": [
      "              document  n_tokens  n_i\n",
      "0  I am feeling disori         4    1\n",
      "               document  n_tokens  n_i\n",
      "0  I am feeling disorie         4    1\n",
      "             document  n_tokens  n_i\n",
      "0  I am feeling disor         4    1\n"
     ]
    },
    {
     "name": "stderr",
     "output_type": "stream",
     "text": [
      "127.0.0.1 - - [11/May/2022 11:52:07] \"\u001b[37mPOST /_dash-update-component HTTP/1.1\u001b[0m\" 200 -\n",
      "127.0.0.1 - - [11/May/2022 11:52:08] \"\u001b[37mPOST /_dash-update-component HTTP/1.1\u001b[0m\" 200 -\n",
      "127.0.0.1 - - [11/May/2022 11:52:08] \"\u001b[37mPOST /_dash-update-component HTTP/1.1\u001b[0m\" 200 -\n",
      "127.0.0.1 - - [11/May/2022 11:52:08] \"\u001b[37mPOST /_dash-update-component HTTP/1.1\u001b[0m\" 200 -\n"
     ]
    },
    {
     "name": "stdout",
     "output_type": "stream",
     "text": [
      "                document  n_tokens  n_i\n",
      "0  I am feeling disorien         4    1I am feeling diso\n",
      "\n",
      "I am feeling dis            document  n_tokens  n_i\n",
      "0  I am feeling diso         4    1                 document  n_tokens  n_i\n",
      "0  I am feeling disorient         4    1\n",
      "\n",
      "\n",
      "I am feeling di"
     ]
    },
    {
     "name": "stderr",
     "output_type": "stream",
     "text": [
      "127.0.0.1 - - [11/May/2022 11:52:08] \"\u001b[37mPOST /_dash-update-component HTTP/1.1\u001b[0m\" 200 -\n",
      "127.0.0.1 - - [11/May/2022 11:52:08] \"\u001b[37mPOST /_dash-update-component HTTP/1.1\u001b[0m\" 200 -\n"
     ]
    },
    {
     "name": "stdout",
     "output_type": "stream",
     "text": [
      "\n",
      "I am feeling d           document  n_tokens  n_i\n",
      "0  I am feeling dis         4    1\n",
      "\n",
      "          document  n_tokens  n_i\n",
      "0  I am feeling di         4    1\n",
      "         document  n_tokens  n_i\n",
      "0  I am feeling d         4    1\n",
      "I am feeling \n"
     ]
    },
    {
     "name": "stderr",
     "output_type": "stream",
     "text": [
      "127.0.0.1 - - [11/May/2022 11:52:08] \"\u001b[37mPOST /_dash-update-component HTTP/1.1\u001b[0m\" 200 -\n",
      "127.0.0.1 - - [11/May/2022 11:52:08] \"\u001b[37mPOST /_dash-update-component HTTP/1.1\u001b[0m\" 200 -\n",
      "127.0.0.1 - - [11/May/2022 11:52:08] \"\u001b[37mPOST /_dash-update-component HTTP/1.1\u001b[0m\" 200 -\n",
      "127.0.0.1 - - [11/May/2022 11:52:09] \"\u001b[37mPOST /_dash-update-component HTTP/1.1\u001b[0m\" 200 -\n"
     ]
    },
    {
     "name": "stdout",
     "output_type": "stream",
     "text": [
      "I am feeling        document  n_tokens  n_i\n",
      "0  I am feeling          3    1\n",
      "\n",
      "I am feelin\n",
      "       document  n_tokens  n_i\n",
      "0  I am feeling         3    1\n",
      "      document  n_tokens  n_i\n",
      "0  I am feelin         3    1\n",
      "I am feeli\n"
     ]
    },
    {
     "name": "stderr",
     "output_type": "stream",
     "text": [
      "127.0.0.1 - - [11/May/2022 11:52:09] \"\u001b[37mPOST /_dash-update-component HTTP/1.1\u001b[0m\" 200 -\n",
      "127.0.0.1 - - [11/May/2022 11:52:09] \"\u001b[37mPOST /_dash-update-component HTTP/1.1\u001b[0m\" 200 -\n"
     ]
    },
    {
     "name": "stdout",
     "output_type": "stream",
     "text": [
      "     document  n_tokens  n_i\n",
      "0  I am feeli         3    1\n",
      "I am feelI am feeI am fe"
     ]
    },
    {
     "name": "stderr",
     "output_type": "stream",
     "text": [
      "127.0.0.1 - - [11/May/2022 11:52:09] \"\u001b[37mPOST /_dash-update-component HTTP/1.1\u001b[0m\" 200 -\n"
     ]
    },
    {
     "name": "stdout",
     "output_type": "stream",
     "text": [
      "\n",
      "\n",
      "\n",
      "I am f\n",
      "I am    document  n_tokens  n_i\n",
      "0  I am fee         3    1\n",
      "\n",
      "    document  n_tokens  n_i\n",
      "0  I am feel         3    1  document  n_tokens  n_i\n",
      "0  I am fe         3    1\n",
      "\n",
      "  document  n_tokens  n_i\n",
      "0   I am f         3    1\n"
     ]
    },
    {
     "name": "stderr",
     "output_type": "stream",
     "text": [
      "127.0.0.1 - - [11/May/2022 11:52:09] \"\u001b[37mPOST /_dash-update-component HTTP/1.1\u001b[0m\" 200 -\n",
      "127.0.0.1 - - [11/May/2022 11:52:09] \"\u001b[37mPOST /_dash-update-component HTTP/1.1\u001b[0m\" 200 -\n",
      "127.0.0.1 - - [11/May/2022 11:52:09] \"\u001b[37mPOST /_dash-update-component HTTP/1.1\u001b[0m\" 200 -\n",
      "127.0.0.1 - - [11/May/2022 11:52:10] \"\u001b[37mPOST /_dash-update-component HTTP/1.1\u001b[0m\" 200 -\n"
     ]
    },
    {
     "name": "stdout",
     "output_type": "stream",
     "text": [
      "  document  n_tokens  n_i\n",
      "0    I am          2    1\n",
      "I am\n",
      "I a  document  n_tokens  n_i\n",
      "0     I am         2    1\n",
      "\n",
      "I \n"
     ]
    },
    {
     "name": "stderr",
     "output_type": "stream",
     "text": [
      "127.0.0.1 - - [11/May/2022 11:52:10] \"\u001b[37mPOST /_dash-update-component HTTP/1.1\u001b[0m\" 200 -\n"
     ]
    },
    {
     "name": "stdout",
     "output_type": "stream",
     "text": [
      "  document  n_tokens  n_i\n",
      "0      I a         2    1\n",
      "I  document  n_tokens  n_i\n",
      "0       I          1    1\n",
      "\n",
      "\n"
     ]
    },
    {
     "name": "stderr",
     "output_type": "stream",
     "text": [
      "127.0.0.1 - - [11/May/2022 11:52:10] \"\u001b[37mPOST /_dash-update-component HTTP/1.1\u001b[0m\" 200 -\n",
      "127.0.0.1 - - [11/May/2022 11:52:10] \"\u001b[37mPOST /_dash-update-component HTTP/1.1\u001b[0m\" 200 -\n",
      "127.0.0.1 - - [11/May/2022 11:52:10] \"\u001b[37mPOST /_dash-update-component HTTP/1.1\u001b[0m\" 200 -\n"
     ]
    },
    {
     "name": "stdout",
     "output_type": "stream",
     "text": [
      "  document  n_tokens  n_i\n",
      "0                  0    0  document  n_tokens  n_i\n",
      "0        I         1    0\n",
      "\n",
      "I\n",
      "I "
     ]
    },
    {
     "name": "stderr",
     "output_type": "stream",
     "text": [
      "127.0.0.1 - - [11/May/2022 11:52:10] \"\u001b[37mPOST /_dash-update-component HTTP/1.1\u001b[0m\" 200 -\n",
      "127.0.0.1 - - [11/May/2022 11:52:10] \"\u001b[37mPOST /_dash-update-component HTTP/1.1\u001b[0m\" 200 -\n"
     ]
    },
    {
     "name": "stdout",
     "output_type": "stream",
     "text": [
      "\n",
      "I f\n",
      "  document  n_tokens  n_i\n",
      "0        I         1    0\n",
      "  document  n_tokens  n_i\n",
      "0       I          1    1\n",
      "I fe\n",
      "I fee"
     ]
    },
    {
     "name": "stderr",
     "output_type": "stream",
     "text": [
      "127.0.0.1 - - [11/May/2022 11:52:11] \"\u001b[37mPOST /_dash-update-component HTTP/1.1\u001b[0m\" 200 -\n",
      "127.0.0.1 - - [11/May/2022 11:52:11] \"\u001b[37mPOST /_dash-update-component HTTP/1.1\u001b[0m\" 200 -\n"
     ]
    },
    {
     "name": "stdout",
     "output_type": "stream",
     "text": [
      "  document  n_tokens  n_i\n",
      "0      I f         2    1\n",
      "\n",
      "  document  n_tokens  n_i\n",
      "0     I fe         2    1\n",
      "I feel\n",
      "  document  n_tokens  n_i\n",
      "0    I fee         2    1\n",
      "  document  n_tokens  n_i\n",
      "0   I feel         2    1\n"
     ]
    },
    {
     "name": "stderr",
     "output_type": "stream",
     "text": [
      "127.0.0.1 - - [11/May/2022 11:52:11] \"\u001b[37mPOST /_dash-update-component HTTP/1.1\u001b[0m\" 200 -\n",
      "127.0.0.1 - - [11/May/2022 11:52:11] \"\u001b[37mPOST /_dash-update-component HTTP/1.1\u001b[0m\" 200 -\n",
      "127.0.0.1 - - [11/May/2022 11:52:11] \"\u001b[37mPOST /_dash-update-component HTTP/1.1\u001b[0m\" 200 -\n"
     ]
    },
    {
     "name": "stdout",
     "output_type": "stream",
     "text": [
      "I feel I feel r\n",
      "\n",
      "   document  n_tokens  n_i\n",
      "0  I feel r         3    1\n",
      "  document  n_tokens  n_i\n",
      "0  I feel          2    1I feel \n",
      "\n"
     ]
    },
    {
     "name": "stderr",
     "output_type": "stream",
     "text": [
      "127.0.0.1 - - [11/May/2022 11:52:11] \"\u001b[37mPOST /_dash-update-component HTTP/1.1\u001b[0m\" 200 -\n",
      "127.0.0.1 - - [11/May/2022 11:52:11] \"\u001b[37mPOST /_dash-update-component HTTP/1.1\u001b[0m\" 200 -\n",
      "127.0.0.1 - - [11/May/2022 11:52:11] \"\u001b[37mPOST /_dash-update-component HTTP/1.1\u001b[0m\" 200 -\n",
      "127.0.0.1 - - [11/May/2022 11:52:11] \"\u001b[37mPOST /_dash-update-component HTTP/1.1\u001b[0m\" 200 -\n"
     ]
    },
    {
     "name": "stdout",
     "output_type": "stream",
     "text": [
      "I feel u\n",
      "I feel un\n",
      "  document  n_tokens  n_i\n",
      "0  I feel          2    1\n",
      "    document  n_tokens  n_i\n",
      "0  I feel un         3    1   document  n_tokens  n_i\n",
      "0  I feel u         3    1\n",
      "\n"
     ]
    },
    {
     "name": "stderr",
     "output_type": "stream",
     "text": [
      "127.0.0.1 - - [11/May/2022 11:52:11] \"\u001b[37mPOST /_dash-update-component HTTP/1.1\u001b[0m\" 200 -\n",
      "127.0.0.1 - - [11/May/2022 11:52:11] \"\u001b[37mPOST /_dash-update-component HTTP/1.1\u001b[0m\" 200 -\n",
      "127.0.0.1 - - [11/May/2022 11:52:12] \"\u001b[37mPOST /_dash-update-component HTTP/1.1\u001b[0m\" 200 -\n"
     ]
    },
    {
     "name": "stdout",
     "output_type": "stream",
     "text": [
      "I feel unh\n",
      "     document  n_tokens  n_i\n",
      "0  I feel unh         3    1\n",
      "I feel unhaI feel unhap\n",
      "\n",
      "I feel unhappI feel unhappy I feel unhappy\n",
      "I feel unhappy t\n",
      "\n",
      "      document  n_tokens  n_i\n",
      "0  I feel unha         3    1\n",
      "\n",
      "          document  n_tokens  n_i\n",
      "0  I feel unhappy          3    1         document  n_tokens  n_i\n",
      "0  I feel unhappy         3    1"
     ]
    },
    {
     "name": "stderr",
     "output_type": "stream",
     "text": [
      "127.0.0.1 - - [11/May/2022 11:52:13] \"\u001b[37mPOST /_dash-update-component HTTP/1.1\u001b[0m\" 200 -\n",
      "127.0.0.1 - - [11/May/2022 11:52:13] \"\u001b[37mPOST /_dash-update-component HTTP/1.1\u001b[0m\" 200 -\n"
     ]
    },
    {
     "name": "stdout",
     "output_type": "stream",
     "text": [
      "\n",
      "\n",
      "        document  n_tokens  n_i\n",
      "0  I feel unhapp         3    1\n",
      "           document  n_tokens  n_i\n",
      "0  I feel unhappy t         4    1\n",
      "       document  n_tokens  n_i\n",
      "0  I feel unhap         3    1\n"
     ]
    },
    {
     "name": "stderr",
     "output_type": "stream",
     "text": [
      "127.0.0.1 - - [11/May/2022 11:52:13] \"\u001b[37mPOST /_dash-update-component HTTP/1.1\u001b[0m\" 200 -\n",
      "127.0.0.1 - - [11/May/2022 11:52:13] \"\u001b[37mPOST /_dash-update-component HTTP/1.1\u001b[0m\" 200 -\n",
      "127.0.0.1 - - [11/May/2022 11:52:13] \"\u001b[37mPOST /_dash-update-component HTTP/1.1\u001b[0m\" 200 -\n",
      "127.0.0.1 - - [11/May/2022 11:52:13] \"\u001b[37mPOST /_dash-update-component HTTP/1.1\u001b[0m\" 200 -\n"
     ]
    },
    {
     "name": "stdout",
     "output_type": "stream",
     "text": [
      "I feel unhappy toI feel unhappy tod\n",
      "\n",
      "I feel unhappy todaI feel unhappy today\n",
      "             document  n_tokens  n_i\n",
      "0  I feel unhappy tod         4    1\n",
      "\n",
      "            document  n_tokens  n_i\n",
      "0  I feel unhappy to         4    1\n",
      "              document  n_tokens  n_i\n",
      "0  I feel unhappy toda         4    1\n",
      "               document  n_tokens  n_i\n",
      "0  I feel unhappy today         4    1\n"
     ]
    },
    {
     "name": "stderr",
     "output_type": "stream",
     "text": [
      "127.0.0.1 - - [11/May/2022 11:52:13] \"\u001b[37mPOST /_dash-update-component HTTP/1.1\u001b[0m\" 200 -\n",
      "127.0.0.1 - - [11/May/2022 11:52:13] \"\u001b[37mPOST /_dash-update-component HTTP/1.1\u001b[0m\" 200 -\n",
      "127.0.0.1 - - [11/May/2022 11:52:13] \"\u001b[37mPOST /_dash-update-component HTTP/1.1\u001b[0m\" 200 -\n",
      "127.0.0.1 - - [11/May/2022 11:52:13] \"\u001b[37mPOST /_dash-update-component HTTP/1.1\u001b[0m\" 200 -\n",
      "127.0.0.1 - - [11/May/2022 11:52:17] \"\u001b[37mPOST /_dash-update-component HTTP/1.1\u001b[0m\" 200 -\n"
     ]
    },
    {
     "name": "stdout",
     "output_type": "stream",
     "text": [
      "I feel unhappy toda\n",
      "              document  n_tokens  n_i\n",
      "0  I feel unhappy toda         4    1\n",
      "I feel unhappy tod\n",
      "I feel unhappy to             document  n_tokens  n_i\n",
      "0  I feel unhappy tod         4    1\n",
      "\n",
      "I feel unhappy t\n",
      "I feel unhappy "
     ]
    },
    {
     "name": "stderr",
     "output_type": "stream",
     "text": [
      "127.0.0.1 - - [11/May/2022 11:52:18] \"\u001b[37mPOST /_dash-update-component HTTP/1.1\u001b[0m\" 200 -\n",
      "127.0.0.1 - - [11/May/2022 11:52:18] \"\u001b[37mPOST /_dash-update-component HTTP/1.1\u001b[0m\" 200 -\n",
      "127.0.0.1 - - [11/May/2022 11:52:18] \"\u001b[37mPOST /_dash-update-component HTTP/1.1\u001b[0m\" 200 -\n"
     ]
    },
    {
     "name": "stdout",
     "output_type": "stream",
     "text": [
      "I feel unhappy\n",
      "\n",
      "I feel unhapp            document  n_tokens  n_i\n",
      "0  I feel unhappy to         4    1\n",
      "\n",
      "           document  n_tokens  n_i\n",
      "0  I feel unhappy t         4    1\n",
      "          document  n_tokens  n_i\n",
      "0  I feel unhappy          3    1        document  n_tokens  n_i\n",
      "0  I feel unhapp         3    1\n",
      "         document  n_tokens  n_i\n",
      "0  I feel unhappy         3    1\n",
      "\n"
     ]
    },
    {
     "name": "stderr",
     "output_type": "stream",
     "text": [
      "127.0.0.1 - - [11/May/2022 11:52:18] \"\u001b[37mPOST /_dash-update-component HTTP/1.1\u001b[0m\" 200 -\n",
      "127.0.0.1 - - [11/May/2022 11:52:18] \"\u001b[37mPOST /_dash-update-component HTTP/1.1\u001b[0m\" 200 -\n"
     ]
    },
    {
     "name": "stdout",
     "output_type": "stream",
     "text": [
      "I feel unhap\n",
      "I feel unha\n",
      "I feel unh"
     ]
    },
    {
     "name": "stderr",
     "output_type": "stream",
     "text": [
      "127.0.0.1 - - [11/May/2022 11:52:18] \"\u001b[37mPOST /_dash-update-component HTTP/1.1\u001b[0m\" 200 -\n"
     ]
    },
    {
     "name": "stdout",
     "output_type": "stream",
     "text": [
      "\n",
      "I feel un\n",
      "     document  n_tokens  n_i\n",
      "0  I feel unh         3    1      document  n_tokens  n_i\n",
      "0  I feel unha         3    1\n",
      "\n",
      "I feel u\n"
     ]
    },
    {
     "name": "stderr",
     "output_type": "stream",
     "text": [
      "127.0.0.1 - - [11/May/2022 11:52:19] \"\u001b[37mPOST /_dash-update-component HTTP/1.1\u001b[0m\" 200 -\n"
     ]
    },
    {
     "name": "stdout",
     "output_type": "stream",
     "text": [
      "    document  n_tokens  n_i\n",
      "0  I feel un         3    1I feel \n",
      "\n",
      "   document  n_tokens  n_i\n",
      "0  I feel u         3    1\n",
      "  document  n_tokens  n_i\n",
      "0  I feel          2    1\n",
      "       document  n_tokens  n_i\n",
      "0  I feel unhap         3    1\n"
     ]
    },
    {
     "name": "stderr",
     "output_type": "stream",
     "text": [
      "127.0.0.1 - - [11/May/2022 11:52:19] \"\u001b[37mPOST /_dash-update-component HTTP/1.1\u001b[0m\" 200 -\n",
      "127.0.0.1 - - [11/May/2022 11:52:19] \"\u001b[37mPOST /_dash-update-component HTTP/1.1\u001b[0m\" 200 -\n",
      "127.0.0.1 - - [11/May/2022 11:52:19] \"\u001b[37mPOST /_dash-update-component HTTP/1.1\u001b[0m\" 200 -\n",
      "127.0.0.1 - - [11/May/2022 11:52:19] \"\u001b[37mPOST /_dash-update-component HTTP/1.1\u001b[0m\" 200 -\n",
      "127.0.0.1 - - [11/May/2022 11:52:19] \"\u001b[37mPOST /_dash-update-component HTTP/1.1\u001b[0m\" 200 -\n",
      "127.0.0.1 - - [11/May/2022 11:52:19] \"\u001b[37mPOST /_dash-update-component HTTP/1.1\u001b[0m\" 200 -\n"
     ]
    },
    {
     "name": "stdout",
     "output_type": "stream",
     "text": [
      "I feel c\n",
      "   document  n_tokens  n_i\n",
      "0  I feel c         3    1\n",
      "I feel conI feel confuse\n",
      "\n",
      "I feel confusI feel co\n",
      "I feel conf\n",
      "I feel confused\n",
      "\n",
      "     document  n_tokens  n_i\n",
      "0  I feel con         3    1\n",
      "        document  n_tokens  n_i\n",
      "0  I feel confus         3    1\n"
     ]
    },
    {
     "name": "stderr",
     "output_type": "stream",
     "text": [
      "127.0.0.1 - - [11/May/2022 11:52:20] \"\u001b[37mPOST /_dash-update-component HTTP/1.1\u001b[0m\" 200 -\n",
      "127.0.0.1 - - [11/May/2022 11:52:20] \"\u001b[37mPOST /_dash-update-component HTTP/1.1\u001b[0m\" 200 -\n",
      "127.0.0.1 - - [11/May/2022 11:52:20] \"\u001b[37mPOST /_dash-update-component HTTP/1.1\u001b[0m\" 200 -\n",
      "127.0.0.1 - - [11/May/2022 11:52:20] \"\u001b[37mPOST /_dash-update-component HTTP/1.1\u001b[0m\" 200 -\n",
      "127.0.0.1 - - [11/May/2022 11:52:20] \"\u001b[37mPOST /_dash-update-component HTTP/1.1\u001b[0m\" 200 -\n",
      "127.0.0.1 - - [11/May/2022 11:52:20] \"\u001b[37mPOST /_dash-update-component HTTP/1.1\u001b[0m\" 200 -\n"
     ]
    },
    {
     "name": "stdout",
     "output_type": "stream",
     "text": [
      "         document  n_tokens  n_i\n",
      "0  I feel confuse         3    1          document  n_tokens  n_i\n",
      "0  I feel confused         3    1    document  n_tokens  n_i\n",
      "0  I feel co         3    1\n",
      "\n",
      "\n",
      "      document  n_tokens  n_i\n",
      "0  I feel conf         3    1\n"
     ]
    },
    {
     "name": "stderr",
     "output_type": "stream",
     "text": [
      "127.0.0.1 - - [11/May/2022 11:53:09] \"\u001b[37mPOST /_dash-update-component HTTP/1.1\u001b[0m\" 200 -\n"
     ]
    },
    {
     "name": "stdout",
     "output_type": "stream",
     "text": [
      "I feel confuse\n",
      "         document  n_tokens  n_i\n",
      "0  I feel confuse         3    1\n",
      "I feel confus"
     ]
    },
    {
     "name": "stderr",
     "output_type": "stream",
     "text": [
      "127.0.0.1 - - [11/May/2022 11:53:09] \"\u001b[37mPOST /_dash-update-component HTTP/1.1\u001b[0m\" 200 -\n"
     ]
    },
    {
     "name": "stdout",
     "output_type": "stream",
     "text": [
      "\n",
      "        document  n_tokens  n_i\n",
      "0  I feel confus         3    1\n",
      "I feel confu\n",
      "I feel conf\n",
      "I feel con\n",
      "I feel co\n",
      "I feel c\n",
      "      document  n_tokens  n_i\n",
      "0  I feel conf         3    1\n",
      "     document  n_tokens  n_i\n",
      "0  I feel con         3    1\n",
      "    document  n_tokens  n_i\n",
      "0  I feel co         3    1\n",
      "   document  n_tokens  n_i\n",
      "0  I feel c         3    1I feel "
     ]
    },
    {
     "name": "stderr",
     "output_type": "stream",
     "text": [
      "127.0.0.1 - - [11/May/2022 11:53:10] \"\u001b[37mPOST /_dash-update-component HTTP/1.1\u001b[0m\" 200 -\n"
     ]
    },
    {
     "name": "stdout",
     "output_type": "stream",
     "text": [
      "\n",
      "\n",
      "       document  n_tokens  n_i\n",
      "0  I feel confu         3    1\n",
      "  document  n_tokens  n_i\n",
      "0  I feel          2    1\n"
     ]
    },
    {
     "name": "stderr",
     "output_type": "stream",
     "text": [
      "127.0.0.1 - - [11/May/2022 11:53:10] \"\u001b[37mPOST /_dash-update-component HTTP/1.1\u001b[0m\" 200 -\n",
      "127.0.0.1 - - [11/May/2022 11:53:10] \"\u001b[37mPOST /_dash-update-component HTTP/1.1\u001b[0m\" 200 -\n",
      "127.0.0.1 - - [11/May/2022 11:53:10] \"\u001b[37mPOST /_dash-update-component HTTP/1.1\u001b[0m\" 200 -\n",
      "127.0.0.1 - - [11/May/2022 11:53:10] \"\u001b[37mPOST /_dash-update-component HTTP/1.1\u001b[0m\" 200 -\n",
      "127.0.0.1 - - [11/May/2022 11:53:10] \"\u001b[37mPOST /_dash-update-component HTTP/1.1\u001b[0m\" 200 -\n",
      "127.0.0.1 - - [11/May/2022 11:53:11] \"\u001b[37mPOST /_dash-update-component HTTP/1.1\u001b[0m\" 200 -\n"
     ]
    },
    {
     "name": "stdout",
     "output_type": "stream",
     "text": [
      "I feel p\n",
      "   document  n_tokens  n_i\n",
      "0  I feel p         3    1\n",
      "I feel pa\n"
     ]
    },
    {
     "name": "stderr",
     "output_type": "stream",
     "text": [
      "127.0.0.1 - - [11/May/2022 11:53:11] \"\u001b[37mPOST /_dash-update-component HTTP/1.1\u001b[0m\" 200 -\n",
      "127.0.0.1 - - [11/May/2022 11:53:11] \"\u001b[37mPOST /_dash-update-component HTTP/1.1\u001b[0m\" 200 -\n"
     ]
    },
    {
     "name": "stdout",
     "output_type": "stream",
     "text": [
      "    document  n_tokens  n_i\n",
      "0  I feel pa         3    1\n",
      "I feel pat\n",
      "     document  n_tokens  n_i\n",
      "0  I feel pat         3    1\n",
      "I feel path\n",
      "I feel pathe\n",
      "      document  n_tokens  n_i\n",
      "0  I feel path         3    1\n",
      "I feel pathet\n",
      "       document  n_tokens  n_i\n",
      "0  I feel pathe         3    1\n",
      "I feel patheti\n",
      "I feel pathetic\n",
      "         document  n_tokens  n_i\n",
      "0  I feel patheti         3    1"
     ]
    },
    {
     "name": "stderr",
     "output_type": "stream",
     "text": [
      "127.0.0.1 - - [11/May/2022 11:53:12] \"\u001b[37mPOST /_dash-update-component HTTP/1.1\u001b[0m\" 200 -\n",
      "127.0.0.1 - - [11/May/2022 11:53:12] \"\u001b[37mPOST /_dash-update-component HTTP/1.1\u001b[0m\" 200 -\n",
      "127.0.0.1 - - [11/May/2022 11:53:12] \"\u001b[37mPOST /_dash-update-component HTTP/1.1\u001b[0m\" 200 -\n",
      "127.0.0.1 - - [11/May/2022 11:53:12] \"\u001b[37mPOST /_dash-update-component HTTP/1.1\u001b[0m\" 200 -\n",
      "127.0.0.1 - - [11/May/2022 11:53:12] \"\u001b[37mPOST /_dash-update-component HTTP/1.1\u001b[0m\" 200 -\n"
     ]
    },
    {
     "name": "stdout",
     "output_type": "stream",
     "text": [
      "          document  n_tokens  n_i\n",
      "0  I feel pathetic         3    1\n",
      "\n",
      "        document  n_tokens  n_i\n",
      "0  I feel pathet         3    1\n",
      "I feel patheti\n",
      "         document  n_tokens  n_i\n",
      "0  I feel patheti         3    1\n",
      "I feel pathet\n"
     ]
    },
    {
     "name": "stderr",
     "output_type": "stream",
     "text": [
      "127.0.0.1 - - [11/May/2022 11:53:24] \"\u001b[37mPOST /_dash-update-component HTTP/1.1\u001b[0m\" 200 -\n"
     ]
    },
    {
     "name": "stdout",
     "output_type": "stream",
     "text": [
      "I feel pathe\n",
      "       document  n_tokens  n_i\n",
      "0  I feel pathe         3    1I feel path\n",
      "\n"
     ]
    },
    {
     "name": "stderr",
     "output_type": "stream",
     "text": [
      "127.0.0.1 - - [11/May/2022 11:53:25] \"\u001b[37mPOST /_dash-update-component HTTP/1.1\u001b[0m\" 200 -\n"
     ]
    },
    {
     "name": "stdout",
     "output_type": "stream",
     "text": [
      "I feel pat\n",
      "I feel pa\n",
      "      document  n_tokens  n_i\n",
      "0  I feel path         3    1\n",
      "     document  n_tokens  n_i\n",
      "0  I feel pat         3    1\n",
      "        document  n_tokens  n_i\n",
      "0  I feel pathet         3    1\n",
      "I feel p    document  n_tokens  n_i\n",
      "0  I feel pa         3    1\n",
      "\n",
      "   document  n_tokens  n_i\n",
      "0  I feel p         3    1\n"
     ]
    },
    {
     "name": "stderr",
     "output_type": "stream",
     "text": [
      "127.0.0.1 - - [11/May/2022 11:53:25] \"\u001b[37mPOST /_dash-update-component HTTP/1.1\u001b[0m\" 200 -\n",
      "127.0.0.1 - - [11/May/2022 11:53:25] \"\u001b[37mPOST /_dash-update-component HTTP/1.1\u001b[0m\" 200 -\n",
      "127.0.0.1 - - [11/May/2022 11:53:25] \"\u001b[37mPOST /_dash-update-component HTTP/1.1\u001b[0m\" 200 -\n",
      "127.0.0.1 - - [11/May/2022 11:53:25] \"\u001b[37mPOST /_dash-update-component HTTP/1.1\u001b[0m\" 200 -\n",
      "127.0.0.1 - - [11/May/2022 11:53:25] \"\u001b[37mPOST /_dash-update-component HTTP/1.1\u001b[0m\" 200 -\n",
      "127.0.0.1 - - [11/May/2022 11:53:25] \"\u001b[37mPOST /_dash-update-component HTTP/1.1\u001b[0m\" 200 -\n"
     ]
    },
    {
     "name": "stdout",
     "output_type": "stream",
     "text": [
      "I feel \n",
      "  document  n_tokens  n_i\n",
      "0  I feel          2    1\n"
     ]
    },
    {
     "name": "stderr",
     "output_type": "stream",
     "text": [
      "127.0.0.1 - - [11/May/2022 11:53:26] \"\u001b[37mPOST /_dash-update-component HTTP/1.1\u001b[0m\" 200 -\n",
      "127.0.0.1 - - [11/May/2022 11:53:26] \"\u001b[37mPOST /_dash-update-component HTTP/1.1\u001b[0m\" 200 -\n"
     ]
    },
    {
     "name": "stdout",
     "output_type": "stream",
     "text": [
      "I feel d\n",
      "   document  n_tokens  n_i\n",
      "0  I feel d         3    1\n",
      "I feel de\n",
      "    document  n_tokens  n_i\n",
      "0  I feel de         3    1\n"
     ]
    },
    {
     "name": "stderr",
     "output_type": "stream",
     "text": [
      "127.0.0.1 - - [11/May/2022 11:53:26] \"\u001b[37mPOST /_dash-update-component HTTP/1.1\u001b[0m\" 200 -\n"
     ]
    },
    {
     "name": "stdout",
     "output_type": "stream",
     "text": [
      "I feel del\n",
      "     document  n_tokens  n_i\n",
      "0  I feel del         3    1\n"
     ]
    },
    {
     "name": "stderr",
     "output_type": "stream",
     "text": [
      "127.0.0.1 - - [11/May/2022 11:53:26] \"\u001b[37mPOST /_dash-update-component HTTP/1.1\u001b[0m\" 200 -\n"
     ]
    },
    {
     "name": "stdout",
     "output_type": "stream",
     "text": [
      "I feel deli\n",
      "      document  n_tokens  n_i\n",
      "0  I feel deli         3    1\n",
      "I feel delig\n",
      "I feel deligh\n",
      "I feel delight"
     ]
    },
    {
     "name": "stderr",
     "output_type": "stream",
     "text": [
      "127.0.0.1 - - [11/May/2022 11:53:27] \"\u001b[37mPOST /_dash-update-component HTTP/1.1\u001b[0m\" 200 -\n",
      "127.0.0.1 - - [11/May/2022 11:53:27] \"\u001b[37mPOST /_dash-update-component HTTP/1.1\u001b[0m\" 200 -\n",
      "127.0.0.1 - - [11/May/2022 11:53:27] \"\u001b[37mPOST /_dash-update-component HTTP/1.1\u001b[0m\" 200 -\n"
     ]
    },
    {
     "name": "stdout",
     "output_type": "stream",
     "text": [
      "\n",
      "        document  n_tokens  n_i\n",
      "0  I feel deligh         3    1\n",
      "         document  n_tokens  n_i\n",
      "0  I feel delight         3    1\n",
      "       document  n_tokens  n_i\n",
      "0  I feel delig         3    1\n"
     ]
    },
    {
     "name": "stderr",
     "output_type": "stream",
     "text": [
      "127.0.0.1 - - [11/May/2022 11:53:27] \"\u001b[37mPOST /_dash-update-component HTTP/1.1\u001b[0m\" 200 -\n",
      "127.0.0.1 - - [11/May/2022 11:53:27] \"\u001b[37mPOST /_dash-update-component HTTP/1.1\u001b[0m\" 200 -\n",
      "127.0.0.1 - - [11/May/2022 11:53:27] \"\u001b[37mPOST /_dash-update-component HTTP/1.1\u001b[0m\" 200 -\n"
     ]
    },
    {
     "name": "stdout",
     "output_type": "stream",
     "text": [
      "I feel delightfI feel delightfu\n",
      "\n",
      "I feel delightful\n",
      "           document  n_tokens  n_i\n",
      "0  I feel delightfu         3    1            document  n_tokens  n_i\n",
      "0  I feel delightful         3    1\n",
      "          document  n_tokens  n_i\n",
      "0  I feel delightf         3    1\n",
      "\n"
     ]
    },
    {
     "name": "stderr",
     "output_type": "stream",
     "text": [
      "127.0.0.1 - - [11/May/2022 11:53:31] \"\u001b[37mPOST /_dash-update-component HTTP/1.1\u001b[0m\" 200 -\n"
     ]
    },
    {
     "name": "stdout",
     "output_type": "stream",
     "text": [
      "I feel delightfull\n",
      "             document  n_tokens  n_i\n",
      "0  I feel delightfull         3    1\n",
      "I feel delightfully\n",
      "I feel delightfully \n",
      "I feel delightfully a\n",
      "I feel delightfully an\n",
      "I feel delightfully ang\n",
      "I feel delightfully angr\n",
      "                document  n_tokens  n_i\n",
      "0  I feel delightfully a         4    1\n",
      "                 document  n_tokens  n_i\n",
      "0  I feel delightfully an         4    1\n"
     ]
    },
    {
     "name": "stderr",
     "output_type": "stream",
     "text": [
      "127.0.0.1 - - [11/May/2022 11:53:37] \"\u001b[37mPOST /_dash-update-component HTTP/1.1\u001b[0m\" 200 -\n",
      "127.0.0.1 - - [11/May/2022 11:53:38] \"\u001b[37mPOST /_dash-update-component HTTP/1.1\u001b[0m\" 200 -\n"
     ]
    },
    {
     "name": "stdout",
     "output_type": "stream",
     "text": [
      "I feel delightfully angry\n",
      "I feel delightfully angr\n",
      "              document  n_tokens  n_i\n",
      "0  I feel delightfully         3    1               document  n_tokens  n_i\n",
      "0  I feel delightfully          3    1\n",
      "\n",
      "                    document  n_tokens  n_i\n",
      "0  I feel delightfully angry         4    1\n",
      "                  document  n_tokens  n_i\n",
      "0  I feel delightfully ang         4    1\n"
     ]
    },
    {
     "name": "stderr",
     "output_type": "stream",
     "text": [
      "127.0.0.1 - - [11/May/2022 11:53:44] \"\u001b[37mPOST /_dash-update-component HTTP/1.1\u001b[0m\" 200 -\n",
      "127.0.0.1 - - [11/May/2022 11:53:44] \"\u001b[37mPOST /_dash-update-component HTTP/1.1\u001b[0m\" 200 -\n",
      "127.0.0.1 - - [11/May/2022 11:53:44] \"\u001b[37mPOST /_dash-update-component HTTP/1.1\u001b[0m\" 200 -\n"
     ]
    },
    {
     "name": "stdout",
     "output_type": "stream",
     "text": [
      "                   document  n_tokens  n_i\n",
      "0  I feel delightfully angr         4    1\n",
      "                   document  n_tokens  n_i\n",
      "0  I feel delightfully angr         4    1I feel delightfully ang\n",
      "\n",
      "I feel delightfully an\n"
     ]
    },
    {
     "name": "stderr",
     "output_type": "stream",
     "text": [
      "127.0.0.1 - - [11/May/2022 11:53:44] \"\u001b[37mPOST /_dash-update-component HTTP/1.1\u001b[0m\" 200 -\n"
     ]
    },
    {
     "name": "stdout",
     "output_type": "stream",
     "text": [
      "I feel delightfully a\n"
     ]
    },
    {
     "name": "stderr",
     "output_type": "stream",
     "text": [
      "127.0.0.1 - - [11/May/2022 11:53:44] \"\u001b[37mPOST /_dash-update-component HTTP/1.1\u001b[0m\" 200 -\n",
      "127.0.0.1 - - [11/May/2022 11:53:46] \"\u001b[37mPOST /_dash-update-component HTTP/1.1\u001b[0m\" 200 -\n"
     ]
    },
    {
     "name": "stdout",
     "output_type": "stream",
     "text": [
      "I feel delightfully \n",
      "I feel delightfully\n",
      "I feel delightfull\n",
      "             document  n_tokens  n_i\n",
      "0  I feel delightfull         3    1\n",
      "                document  n_tokens  n_i\n",
      "0  I feel delightfully a         4    1\n",
      "               document  n_tokens  n_i\n",
      "0  I feel delightfully          3    1\n"
     ]
    },
    {
     "name": "stderr",
     "output_type": "stream",
     "text": [
      "127.0.0.1 - - [11/May/2022 11:53:51] \"\u001b[37mPOST /_dash-update-component HTTP/1.1\u001b[0m\" 200 -\n",
      "127.0.0.1 - - [11/May/2022 11:53:51] \"\u001b[37mPOST /_dash-update-component HTTP/1.1\u001b[0m\" 200 -\n",
      "127.0.0.1 - - [11/May/2022 11:53:51] \"\u001b[37mPOST /_dash-update-component HTTP/1.1\u001b[0m\" 200 -\n"
     ]
    },
    {
     "name": "stdout",
     "output_type": "stream",
     "text": [
      "I feel delightful                  document  n_tokens  n_i\n",
      "0  I feel delightfully ang         4    1\n",
      "\n",
      "I feel delightfu\n",
      "            document  n_tokens  n_i\n",
      "0  I feel delightful         3    1\n",
      "I feel delightf\n",
      "           document  n_tokens  n_i\n",
      "0  I feel delightfu         3    1\n"
     ]
    },
    {
     "name": "stderr",
     "output_type": "stream",
     "text": [
      "127.0.0.1 - - [11/May/2022 11:53:52] \"\u001b[37mPOST /_dash-update-component HTTP/1.1\u001b[0m\" 200 -\n",
      "127.0.0.1 - - [11/May/2022 11:53:52] \"\u001b[37mPOST /_dash-update-component HTTP/1.1\u001b[0m\" 200 -\n",
      "127.0.0.1 - - [11/May/2022 11:53:52] \"\u001b[37mPOST /_dash-update-component HTTP/1.1\u001b[0m\" 200 -\n",
      "127.0.0.1 - - [11/May/2022 11:53:52] \"\u001b[37mPOST /_dash-update-component HTTP/1.1\u001b[0m\" 200 -\n"
     ]
    },
    {
     "name": "stdout",
     "output_type": "stream",
     "text": [
      "                 document  n_tokens  n_i\n",
      "0  I feel delightfully an         4    1\n",
      "          document  n_tokens  n_i\n",
      "0  I feel delightf         3    1\n"
     ]
    },
    {
     "name": "stderr",
     "output_type": "stream",
     "text": [
      "127.0.0.1 - - [11/May/2022 11:53:52] \"\u001b[37mPOST /_dash-update-component HTTP/1.1\u001b[0m\" 200 -\n"
     ]
    },
    {
     "name": "stdout",
     "output_type": "stream",
     "text": [
      "              document  n_tokens  n_i\n",
      "0  I feel delightfully         3    1I feel delight\n",
      "\n",
      "I feel deligh\n",
      "I feel deligI feel deli\n",
      "\n",
      "         document  n_tokens  n_i\n",
      "0  I feel delight         3    1\n",
      "        document  n_tokens  n_i\n",
      "0  I feel deligh         3    1\n",
      "I feel del      document  n_tokens  n_i\n",
      "0  I feel deli         3    1\n"
     ]
    },
    {
     "name": "stderr",
     "output_type": "stream",
     "text": [
      "127.0.0.1 - - [11/May/2022 11:53:53] \"\u001b[37mPOST /_dash-update-component HTTP/1.1\u001b[0m\" 200 -\n",
      "127.0.0.1 - - [11/May/2022 11:53:53] \"\u001b[37mPOST /_dash-update-component HTTP/1.1\u001b[0m\" 200 -\n"
     ]
    },
    {
     "name": "stdout",
     "output_type": "stream",
     "text": [
      "\n",
      "       document  n_tokens  n_i\n",
      "0  I feel delig         3    1\n",
      "     document  n_tokens  n_i\n",
      "0  I feel del         3    1\n",
      "I feel de\n"
     ]
    },
    {
     "name": "stderr",
     "output_type": "stream",
     "text": [
      "127.0.0.1 - - [11/May/2022 11:53:53] \"\u001b[37mPOST /_dash-update-component HTTP/1.1\u001b[0m\" 200 -\n",
      "127.0.0.1 - - [11/May/2022 11:53:53] \"\u001b[37mPOST /_dash-update-component HTTP/1.1\u001b[0m\" 200 -\n",
      "127.0.0.1 - - [11/May/2022 11:53:53] \"\u001b[37mPOST /_dash-update-component HTTP/1.1\u001b[0m\" 200 -\n",
      "127.0.0.1 - - [11/May/2022 11:53:53] \"\u001b[37mPOST /_dash-update-component HTTP/1.1\u001b[0m\" 200 -\n"
     ]
    },
    {
     "name": "stdout",
     "output_type": "stream",
     "text": [
      "    document  n_tokens  n_i\n",
      "0  I feel de         3    1\n",
      "I feel d\n",
      "I feel \n"
     ]
    },
    {
     "name": "stderr",
     "output_type": "stream",
     "text": [
      "127.0.0.1 - - [11/May/2022 11:53:53] \"\u001b[37mPOST /_dash-update-component HTTP/1.1\u001b[0m\" 200 -\n"
     ]
    },
    {
     "name": "stdout",
     "output_type": "stream",
     "text": [
      "   document  n_tokens  n_i\n",
      "0  I feel d         3    1\n",
      "  document  n_tokens  n_i\n",
      "0  I feel          2    1\n",
      "I feel a\n",
      "I feel an\n"
     ]
    },
    {
     "name": "stderr",
     "output_type": "stream",
     "text": [
      "127.0.0.1 - - [11/May/2022 11:53:54] \"\u001b[37mPOST /_dash-update-component HTTP/1.1\u001b[0m\" 200 -\n",
      "127.0.0.1 - - [11/May/2022 11:53:54] \"\u001b[37mPOST /_dash-update-component HTTP/1.1\u001b[0m\" 200 -\n"
     ]
    },
    {
     "name": "stdout",
     "output_type": "stream",
     "text": [
      "I feel ang\n",
      "   document  n_tokens  n_i\n",
      "0  I feel a         3    1I feel angr\n",
      "\n",
      "      document  n_tokens  n_i\n",
      "0  I feel angr         3    1\n",
      "     document  n_tokens  n_i\n",
      "0  I feel ang         3    1\n",
      "I feel angri\n"
     ]
    },
    {
     "name": "stderr",
     "output_type": "stream",
     "text": [
      "127.0.0.1 - - [11/May/2022 11:53:54] \"\u001b[37mPOST /_dash-update-component HTTP/1.1\u001b[0m\" 200 -\n",
      "127.0.0.1 - - [11/May/2022 11:53:54] \"\u001b[37mPOST /_dash-update-component HTTP/1.1\u001b[0m\" 200 -\n",
      "127.0.0.1 - - [11/May/2022 11:53:54] \"\u001b[37mPOST /_dash-update-component HTTP/1.1\u001b[0m\" 200 -\n",
      "127.0.0.1 - - [11/May/2022 11:53:54] \"\u001b[37mPOST /_dash-update-component HTTP/1.1\u001b[0m\" 200 -\n",
      "127.0.0.1 - - [11/May/2022 11:53:54] \"\u001b[37mPOST /_dash-update-component HTTP/1.1\u001b[0m\" 200 -\n",
      "127.0.0.1 - - [11/May/2022 11:53:54] \"\u001b[37mPOST /_dash-update-component HTTP/1.1\u001b[0m\" 200 -\n"
     ]
    },
    {
     "name": "stdout",
     "output_type": "stream",
     "text": [
      "    document  n_tokens  n_i\n",
      "0  I feel an         3    1\n",
      "I feel angril\n",
      "       document  n_tokens  n_i\n",
      "0  I feel angri         3    1\n",
      "        document  n_tokens  n_i\n",
      "0  I feel angril         3    1\n",
      "I feel angrilI feel angrily\n",
      "\n",
      "I feel angri\n",
      "I feel angr\n",
      "        document  n_tokens  n_i\n",
      "0  I feel angril         3    1I feel ang         document  n_tokens  n_i\n",
      "0  I feel angrily         3    1\n",
      "\n",
      "\n"
     ]
    },
    {
     "name": "stderr",
     "output_type": "stream",
     "text": [
      "127.0.0.1 - - [11/May/2022 11:53:55] \"\u001b[37mPOST /_dash-update-component HTTP/1.1\u001b[0m\" 200 -\n",
      "127.0.0.1 - - [11/May/2022 11:53:55] \"\u001b[37mPOST /_dash-update-component HTTP/1.1\u001b[0m\" 200 -\n",
      "127.0.0.1 - - [11/May/2022 11:53:55] \"\u001b[37mPOST /_dash-update-component HTTP/1.1\u001b[0m\" 200 -\n",
      "127.0.0.1 - - [11/May/2022 11:53:55] \"\u001b[37mPOST /_dash-update-component HTTP/1.1\u001b[0m\" 200 -\n",
      "127.0.0.1 - - [11/May/2022 11:53:55] \"\u001b[37mPOST /_dash-update-component HTTP/1.1\u001b[0m\" 200 -\n",
      "127.0.0.1 - - [11/May/2022 11:53:55] \"\u001b[37mPOST /_dash-update-component HTTP/1.1\u001b[0m\" 200 -\n",
      "127.0.0.1 - - [11/May/2022 11:53:55] \"\u001b[37mPOST /_dash-update-component HTTP/1.1\u001b[0m\" 200 -\n"
     ]
    },
    {
     "name": "stdout",
     "output_type": "stream",
     "text": [
      "I feel an\n",
      "      document  n_tokens  n_i\n",
      "0  I feel angr         3    1\n",
      "       document  n_tokens  n_i\n",
      "0  I feel angri         3    1     document  n_tokens  n_i\n",
      "0  I feel ang         3    1\n",
      "\n",
      "    document  n_tokens  n_i\n",
      "0  I feel an         3    1\n",
      "I feel a\n",
      "   document  n_tokens  n_i\n",
      "0  I feel a         3    1\n",
      "I feel I feel fI feel fr\n",
      "\n",
      "I feel fru\n",
      "\n",
      "I feel frus\n",
      "    document  n_tokens  n_i\n",
      "0  I feel fr         3    1\n",
      "  document  n_tokens  n_i\n",
      "0  I feel          2    1\n",
      "I feel frust"
     ]
    },
    {
     "name": "stderr",
     "output_type": "stream",
     "text": [
      "127.0.0.1 - - [11/May/2022 11:53:55] \"\u001b[37mPOST /_dash-update-component HTTP/1.1\u001b[0m\" 200 -\n",
      "127.0.0.1 - - [11/May/2022 11:53:55] \"\u001b[37mPOST /_dash-update-component HTTP/1.1\u001b[0m\" 200 -\n",
      "127.0.0.1 - - [11/May/2022 11:53:55] \"\u001b[37mPOST /_dash-update-component HTTP/1.1\u001b[0m\" 200 -\n",
      "127.0.0.1 - - [11/May/2022 11:53:55] \"\u001b[37mPOST /_dash-update-component HTTP/1.1\u001b[0m\" 200 -\n",
      "127.0.0.1 - - [11/May/2022 11:53:55] \"\u001b[37mPOST /_dash-update-component HTTP/1.1\u001b[0m\" 200 -\n"
     ]
    },
    {
     "name": "stdout",
     "output_type": "stream",
     "text": [
      "     document  n_tokens  n_i\n",
      "0  I feel fru         3    1\n",
      "      document  n_tokens  n_i\n",
      "0  I feel frus         3    1\n",
      "\n",
      "   document  n_tokens  n_i\n",
      "0  I feel f         3    1\n",
      "       document  n_tokens  n_i\n",
      "0  I feel frust         3    1\n"
     ]
    },
    {
     "name": "stderr",
     "output_type": "stream",
     "text": [
      "127.0.0.1 - - [11/May/2022 11:53:55] \"\u001b[37mPOST /_dash-update-component HTTP/1.1\u001b[0m\" 200 -\n"
     ]
    },
    {
     "name": "stdout",
     "output_type": "stream",
     "text": [
      "I feel frustr\n",
      "I feel frustraI feel frustratI feel frustrati\n",
      "I feel frustrating\n",
      "\n",
      "I feel frustratin\n",
      "\n",
      "          document  n_tokens  n_i\n",
      "0  I feel frustrat         3    1\n",
      "           document  n_tokens  n_i\n",
      "0  I feel frustrati         3    1\n",
      "            document  n_tokens  n_i\n",
      "0  I feel frustratin         3    1"
     ]
    },
    {
     "name": "stderr",
     "output_type": "stream",
     "text": [
      "127.0.0.1 - - [11/May/2022 11:53:57] \"\u001b[37mPOST /_dash-update-component HTTP/1.1\u001b[0m\" 200 -\n",
      "127.0.0.1 - - [11/May/2022 11:53:57] \"\u001b[37mPOST /_dash-update-component HTTP/1.1\u001b[0m\" 200 -\n"
     ]
    },
    {
     "name": "stdout",
     "output_type": "stream",
     "text": [
      "\n",
      "I feel frustratingl\n",
      "I feel frustratinglh        document  n_tokens  n_i\n",
      "0  I feel frustr         3    1\n",
      "\n"
     ]
    },
    {
     "name": "stderr",
     "output_type": "stream",
     "text": [
      "127.0.0.1 - - [11/May/2022 11:53:59] \"\u001b[37mPOST /_dash-update-component HTTP/1.1\u001b[0m\" 200 -\n"
     ]
    },
    {
     "name": "stdout",
     "output_type": "stream",
     "text": [
      "         document  n_tokens  n_i\n",
      "0  I feel frustra         3    1\n"
     ]
    },
    {
     "name": "stderr",
     "output_type": "stream",
     "text": [
      "127.0.0.1 - - [11/May/2022 11:53:59] \"\u001b[37mPOST /_dash-update-component HTTP/1.1\u001b[0m\" 200 -\n"
     ]
    },
    {
     "name": "stdout",
     "output_type": "stream",
     "text": [
      "I feel frustratingl\n"
     ]
    },
    {
     "name": "stderr",
     "output_type": "stream",
     "text": [
      "127.0.0.1 - - [11/May/2022 11:54:00] \"\u001b[37mPOST /_dash-update-component HTTP/1.1\u001b[0m\" 200 -\n"
     ]
    },
    {
     "name": "stdout",
     "output_type": "stream",
     "text": [
      "I feel frustratingly\n",
      "I feel frustratingl\n",
      "             document  n_tokens  n_i\n",
      "0  I feel frustrating         3    1\n"
     ]
    },
    {
     "name": "stderr",
     "output_type": "stream",
     "text": [
      "127.0.0.1 - - [11/May/2022 11:54:03] \"\u001b[37mPOST /_dash-update-component HTTP/1.1\u001b[0m\" 200 -\n"
     ]
    },
    {
     "name": "stdout",
     "output_type": "stream",
     "text": [
      "              document  n_tokens  n_i\n",
      "0  I feel frustratingl         3    1\n",
      "               document  n_tokens  n_i\n",
      "0  I feel frustratinglh         3    1\n"
     ]
    },
    {
     "name": "stderr",
     "output_type": "stream",
     "text": [
      "127.0.0.1 - - [11/May/2022 11:54:04] \"\u001b[37mPOST /_dash-update-component HTTP/1.1\u001b[0m\" 200 -\n"
     ]
    },
    {
     "name": "stdout",
     "output_type": "stream",
     "text": [
      "I feel frustrating\n"
     ]
    },
    {
     "name": "stderr",
     "output_type": "stream",
     "text": [
      "127.0.0.1 - - [11/May/2022 11:54:04] \"\u001b[37mPOST /_dash-update-component HTTP/1.1\u001b[0m\" 200 -\n"
     ]
    },
    {
     "name": "stdout",
     "output_type": "stream",
     "text": [
      "I feel frustratin\n",
      "I feel frustrati\n",
      "           document  n_tokens  n_i\n",
      "0  I feel frustrati         3    1\n",
      "            document  n_tokens  n_i\n",
      "0  I feel frustratin         3    1\n",
      "              document  n_tokens  n_i\n",
      "0  I feel frustratingl         3    1\n"
     ]
    },
    {
     "name": "stderr",
     "output_type": "stream",
     "text": [
      "127.0.0.1 - - [11/May/2022 11:54:08] \"\u001b[37mPOST /_dash-update-component HTTP/1.1\u001b[0m\" 200 -\n",
      "127.0.0.1 - - [11/May/2022 11:54:08] \"\u001b[37mPOST /_dash-update-component HTTP/1.1\u001b[0m\" 200 -\n"
     ]
    },
    {
     "name": "stdout",
     "output_type": "stream",
     "text": [
      "              document  n_tokens  n_i\n",
      "0  I feel frustratingl         3    1\n",
      "             document  n_tokens  n_i\n",
      "0  I feel frustrating         3    1\n",
      "I feel frustrat"
     ]
    },
    {
     "name": "stderr",
     "output_type": "stream",
     "text": [
      "127.0.0.1 - - [11/May/2022 11:54:08] \"\u001b[37mPOST /_dash-update-component HTTP/1.1\u001b[0m\" 200 -\n",
      "127.0.0.1 - - [11/May/2022 11:54:08] \"\u001b[37mPOST /_dash-update-component HTTP/1.1\u001b[0m\" 200 -\n"
     ]
    },
    {
     "name": "stdout",
     "output_type": "stream",
     "text": [
      "\n",
      "I feel frustrate\n",
      "          document  n_tokens  n_i\n",
      "0  I feel frustrat         3    1\n",
      "I feel frustratei           document  n_tokens  n_i\n",
      "0  I feel frustrate         3    1\n",
      "\n"
     ]
    },
    {
     "name": "stderr",
     "output_type": "stream",
     "text": [
      "127.0.0.1 - - [11/May/2022 11:54:08] \"\u001b[37mPOST /_dash-update-component HTTP/1.1\u001b[0m\" 200 -\n",
      "127.0.0.1 - - [11/May/2022 11:54:09] \"\u001b[37mPOST /_dash-update-component HTTP/1.1\u001b[0m\" 200 -\n",
      "127.0.0.1 - - [11/May/2022 11:54:09] \"\u001b[37mPOST /_dash-update-component HTTP/1.1\u001b[0m\" 200 -\n"
     ]
    },
    {
     "name": "stdout",
     "output_type": "stream",
     "text": [
      "               document  n_tokens  n_i\n",
      "0  I feel frustratingly         3    1\n",
      "            document  n_tokens  n_i\n",
      "0  I feel frustratei         3    1\n",
      "I feel frustratein\n",
      "I feel frustrateing\n",
      "I feel frustrateingl\n"
     ]
    },
    {
     "name": "stderr",
     "output_type": "stream",
     "text": [
      "127.0.0.1 - - [11/May/2022 11:54:09] \"\u001b[37mPOST /_dash-update-component HTTP/1.1\u001b[0m\" 200 -\n",
      "127.0.0.1 - - [11/May/2022 11:54:09] \"\u001b[37mPOST /_dash-update-component HTTP/1.1\u001b[0m\" 200 -\n"
     ]
    },
    {
     "name": "stdout",
     "output_type": "stream",
     "text": [
      "I feel frustrateingly\n",
      "I feel frustrateingly \n",
      "I feel frustratingly \n",
      "              document  n_tokens  n_i\n",
      "0  I feel frustrateing         3    1             document  n_tokens  n_i\n",
      "0  I feel frustratein         3    1\n",
      "\n",
      "               document  n_tokens  n_i\n",
      "0  I feel frustrateingl         3    1\n"
     ]
    },
    {
     "name": "stderr",
     "output_type": "stream",
     "text": [
      "127.0.0.1 - - [11/May/2022 11:54:16] \"\u001b[37mPOST /_dash-update-component HTTP/1.1\u001b[0m\" 200 -\n",
      "127.0.0.1 - - [11/May/2022 11:54:16] \"\u001b[37mPOST /_dash-update-component HTTP/1.1\u001b[0m\" 200 -\n"
     ]
    },
    {
     "name": "stdout",
     "output_type": "stream",
     "text": [
      "I feel frustratingly  \n"
     ]
    },
    {
     "name": "stderr",
     "output_type": "stream",
     "text": [
      "127.0.0.1 - - [11/May/2022 11:54:17] \"\u001b[37mPOST /_dash-update-component HTTP/1.1\u001b[0m\" 200 -\n"
     ]
    },
    {
     "name": "stdout",
     "output_type": "stream",
     "text": [
      "I feel frustratingly d \n",
      "I feel frustratingly de \n",
      "                document  n_tokens  n_i\n",
      "0  I feel frustratingly          3    1\n"
     ]
    },
    {
     "name": "stderr",
     "output_type": "stream",
     "text": [
      "127.0.0.1 - - [11/May/2022 11:54:19] \"\u001b[37mPOST /_dash-update-component HTTP/1.1\u001b[0m\" 200 -\n"
     ]
    },
    {
     "name": "stdout",
     "output_type": "stream",
     "text": [
      "I feel frustratingly del \n",
      "                 document  n_tokens  n_i\n",
      "0  I feel frustratingly           3    1\n"
     ]
    },
    {
     "name": "stderr",
     "output_type": "stream",
     "text": [
      "127.0.0.1 - - [11/May/2022 11:54:22] \"\u001b[37mPOST /_dash-update-component HTTP/1.1\u001b[0m\" 200 -\n"
     ]
    },
    {
     "name": "stdout",
     "output_type": "stream",
     "text": [
      "                 document  n_tokens  n_i\n",
      "0  I feel frustrateingly          3    1\n",
      "                document  n_tokens  n_i\n",
      "0  I feel frustrateingly         3    1\n",
      "I feel frustratingly deli \n"
     ]
    },
    {
     "name": "stderr",
     "output_type": "stream",
     "text": [
      "127.0.0.1 - - [11/May/2022 11:54:23] \"\u001b[37mPOST /_dash-update-component HTTP/1.1\u001b[0m\" 200 -\n",
      "127.0.0.1 - - [11/May/2022 11:54:23] \"\u001b[37mPOST /_dash-update-component HTTP/1.1\u001b[0m\" 200 -\n"
     ]
    },
    {
     "name": "stdout",
     "output_type": "stream",
     "text": [
      "I feel frustratingly delig \n",
      "I feel frustratingly deligh \n",
      "                    document  n_tokens  n_i\n",
      "0  I feel frustratingly del          4    1\n"
     ]
    },
    {
     "name": "stderr",
     "output_type": "stream",
     "text": [
      "127.0.0.1 - - [11/May/2022 11:54:26] \"\u001b[37mPOST /_dash-update-component HTTP/1.1\u001b[0m\" 200 -\n"
     ]
    },
    {
     "name": "stdout",
     "output_type": "stream",
     "text": [
      "I feel frustratingly delight \n",
      "                  document  n_tokens  n_i\n",
      "0  I feel frustratingly d          4    1\n",
      "                   document  n_tokens  n_i\n",
      "0  I feel frustratingly de          4    1\n",
      "                     document  n_tokens  n_i\n",
      "0  I feel frustratingly deli          4    1\n"
     ]
    },
    {
     "name": "stderr",
     "output_type": "stream",
     "text": [
      "127.0.0.1 - - [11/May/2022 11:54:28] \"\u001b[37mPOST /_dash-update-component HTTP/1.1\u001b[0m\" 200 -\n",
      "127.0.0.1 - - [11/May/2022 11:54:28] \"\u001b[37mPOST /_dash-update-component HTTP/1.1\u001b[0m\" 200 -\n"
     ]
    },
    {
     "name": "stdout",
     "output_type": "stream",
     "text": [
      "I feel frustratingly delightf \n",
      "I feel frustratingly delightfu \n"
     ]
    },
    {
     "name": "stderr",
     "output_type": "stream",
     "text": [
      "127.0.0.1 - - [11/May/2022 11:54:30] \"\u001b[37mPOST /_dash-update-component HTTP/1.1\u001b[0m\" 200 -\n"
     ]
    },
    {
     "name": "stdout",
     "output_type": "stream",
     "text": [
      "                       document  n_tokens  n_i\n",
      "0  I feel frustratingly deligh          4    1\n",
      "I feel frustratingly delightful                         document  n_tokens  n_i\n",
      "0  I feel frustratingly delight          4    1\n",
      "\n"
     ]
    },
    {
     "name": "stderr",
     "output_type": "stream",
     "text": [
      "127.0.0.1 - - [11/May/2022 11:54:31] \"\u001b[37mPOST /_dash-update-component HTTP/1.1\u001b[0m\" 200 -\n",
      "127.0.0.1 - - [11/May/2022 11:54:32] \"\u001b[37mPOST /_dash-update-component HTTP/1.1\u001b[0m\" 200 -\n"
     ]
    },
    {
     "name": "stdout",
     "output_type": "stream",
     "text": [
      "I\n",
      "I \n",
      "  document  n_tokens  n_i\n",
      "0        I         1    0\n",
      "  document  n_tokens  n_i\n",
      "0       I          1    1\n"
     ]
    },
    {
     "name": "stderr",
     "output_type": "stream",
     "text": [
      "127.0.0.1 - - [11/May/2022 11:54:34] \"\u001b[37mPOST /_dash-update-component HTTP/1.1\u001b[0m\" 200 -\n",
      "127.0.0.1 - - [11/May/2022 11:54:34] \"\u001b[37mPOST /_dash-update-component HTTP/1.1\u001b[0m\" 200 -\n"
     ]
    },
    {
     "name": "stdout",
     "output_type": "stream",
     "text": [
      "                         document  n_tokens  n_i\n",
      "0  I feel frustratingly delightf          4    1\n"
     ]
    },
    {
     "name": "stderr",
     "output_type": "stream",
     "text": [
      "127.0.0.1 - - [11/May/2022 11:54:34] \"\u001b[37mPOST /_dash-update-component HTTP/1.1\u001b[0m\" 200 -\n"
     ]
    },
    {
     "name": "stdout",
     "output_type": "stream",
     "text": [
      "                      document  n_tokens  n_i\n",
      "0  I feel frustratingly delig          4    1I f\n",
      "\n",
      "I feI fee  document  n_tokens  n_i\n",
      "0      I f         2    1\n",
      "\n",
      "\n",
      "  document  n_tokens  n_i\n",
      "0    I fee         2    1\n",
      "  document  n_tokens  n_i\n",
      "0     I fe         2    1\n"
     ]
    },
    {
     "name": "stderr",
     "output_type": "stream",
     "text": [
      "127.0.0.1 - - [11/May/2022 11:54:35] \"\u001b[37mPOST /_dash-update-component HTTP/1.1\u001b[0m\" 200 -\n",
      "127.0.0.1 - - [11/May/2022 11:54:35] \"\u001b[37mPOST /_dash-update-component HTTP/1.1\u001b[0m\" 200 -\n",
      "127.0.0.1 - - [11/May/2022 11:54:35] \"\u001b[37mPOST /_dash-update-component HTTP/1.1\u001b[0m\" 200 -\n",
      "127.0.0.1 - - [11/May/2022 11:54:35] \"\u001b[37mPOST /_dash-update-component HTTP/1.1\u001b[0m\" 200 -\n",
      "127.0.0.1 - - [11/May/2022 11:54:36] \"\u001b[37mGET / HTTP/1.1\u001b[0m\" 200 -\n"
     ]
    },
    {
     "name": "stdout",
     "output_type": "stream",
     "text": [
      "I feel\n",
      "  document  n_tokens  n_i\n",
      "0   I feel         2    1\n",
      "I feel \n",
      "I feel o\n",
      "  document  n_tokens  n_i\n",
      "0  I feel          2    1\n",
      "I feel ol\n",
      "   document  n_tokens  n_i\n",
      "0  I feel o         3    1I feel ol\n"
     ]
    },
    {
     "name": "stderr",
     "output_type": "stream",
     "text": [
      "127.0.0.1 - - [11/May/2022 11:54:36] \"\u001b[37mPOST /_dash-update-component HTTP/1.1\u001b[0m\" 200 -\n"
     ]
    },
    {
     "name": "stdout",
     "output_type": "stream",
     "text": [
      "\n",
      "    document  n_tokens  n_i\n",
      "0  I feel ol         3    1\n",
      "I feel o\n",
      "I feel v\n"
     ]
    },
    {
     "name": "stderr",
     "output_type": "stream",
     "text": [
      "127.0.0.1 - - [11/May/2022 11:54:36] \"\u001b[37mPOST /_dash-update-component HTTP/1.1\u001b[0m\" 200 -\n"
     ]
    },
    {
     "name": "stdout",
     "output_type": "stream",
     "text": [
      "I feel ve\n",
      "    document  n_tokens  n_i\n",
      "0  I feel ol         3    1\n",
      "                          document  n_tokens  n_i\n",
      "0  I feel frustratingly delightfu          4    1\n",
      "   document  n_tokens  n_i\n",
      "0  I feel o         3    1\n",
      "    document  n_tokens  n_i\n",
      "0  I feel ve         3    1   document  n_tokens  n_i\n",
      "0  I feel v         3    1\n"
     ]
    },
    {
     "name": "stderr",
     "output_type": "stream",
     "text": [
      "127.0.0.1 - - [11/May/2022 11:54:36] \"\u001b[37mGET /_dash-layout HTTP/1.1\u001b[0m\" 200 -\n",
      "127.0.0.1 - - [11/May/2022 11:54:36] \"\u001b[37mPOST /_dash-update-component HTTP/1.1\u001b[0m\" 200 -\n",
      "127.0.0.1 - - [11/May/2022 11:54:36] \"\u001b[37mPOST /_dash-update-component HTTP/1.1\u001b[0m\" 200 -\n",
      "127.0.0.1 - - [11/May/2022 11:54:37] \"\u001b[37mGET /_dash-dependencies HTTP/1.1\u001b[0m\" 200 -\n"
     ]
    },
    {
     "name": "stdout",
     "output_type": "stream",
     "text": [
      "\n",
      "                           document  n_tokens  n_i\n",
      "0  I feel frustratingly delightful          4    1\n"
     ]
    },
    {
     "name": "stderr",
     "output_type": "stream",
     "text": [
      "127.0.0.1 - - [11/May/2022 11:54:37] \"\u001b[37mPOST /_dash-update-component HTTP/1.1\u001b[0m\" 200 -\n",
      "127.0.0.1 - - [11/May/2022 11:54:37] \"\u001b[37mGET /_favicon.ico?v=2.0.0 HTTP/1.1\u001b[0m\" 200 -\n",
      "127.0.0.1 - - [11/May/2022 11:54:37] \"\u001b[37mPOST /_dash-update-component HTTP/1.1\u001b[0m\" 200 -\n",
      "127.0.0.1 - - [11/May/2022 11:54:37] \"\u001b[37mPOST /_dash-update-component HTTP/1.1\u001b[0m\" 200 -\n",
      "127.0.0.1 - - [11/May/2022 11:54:37] \"\u001b[37mPOST /_dash-update-component HTTP/1.1\u001b[0m\" 200 -\n",
      "127.0.0.1 - - [11/May/2022 11:54:37] \"\u001b[37mPOST /_dash-update-component HTTP/1.1\u001b[0m\" 200 -\n",
      "127.0.0.1 - - [11/May/2022 11:54:37] \"\u001b[37mPOST /_dash-update-component HTTP/1.1\u001b[0m\" 200 -\n",
      "127.0.0.1 - - [11/May/2022 11:54:37] \"\u001b[37mGET /_dash-component-suites/dash/dcc/async-dropdown.js HTTP/1.1\u001b[0m\" 200 -\n",
      "127.0.0.1 - - [11/May/2022 11:54:37] \"\u001b[37mGET /_dash-component-suites/dash/dcc/async-graph.js HTTP/1.1\u001b[0m\" 200 -\n",
      "127.0.0.1 - - [11/May/2022 11:54:37] \"\u001b[37mGET /_dash-component-suites/dash/dcc/async-plotlyjs.js HTTP/1.1\u001b[0m\" 200 -\n",
      "127.0.0.1 - - [11/May/2022 11:54:37] \"\u001b[37mPOST /_dash-update-component HTTP/1.1\u001b[0m\" 204 -\n"
     ]
    },
    {
     "name": "stdout",
     "output_type": "stream",
     "text": [
      "None\n"
     ]
    },
    {
     "name": "stderr",
     "output_type": "stream",
     "text": [
      "127.0.0.1 - - [11/May/2022 11:54:38] \"\u001b[37mGET /_favicon.ico?v=2.0.0 HTTP/1.1\u001b[0m\" 200 -\n",
      "127.0.0.1 - - [11/May/2022 11:54:39] \"\u001b[37mPOST /_dash-update-component HTTP/1.1\u001b[0m\" 200 -\n"
     ]
    },
    {
     "name": "stdout",
     "output_type": "stream",
     "text": [
      "I\n",
      "  document  n_tokens  n_i\n",
      "0        I         1    0\n",
      "I \n",
      "  document  n_tokens  n_i\n",
      "0       I          1    1"
     ]
    },
    {
     "name": "stderr",
     "output_type": "stream",
     "text": [
      "127.0.0.1 - - [11/May/2022 11:54:40] \"\u001b[37mPOST /_dash-update-component HTTP/1.1\u001b[0m\" 200 -\n",
      "127.0.0.1 - - [11/May/2022 11:54:40] \"\u001b[37mPOST /_dash-update-component HTTP/1.1\u001b[0m\" 200 -\n"
     ]
    },
    {
     "name": "stdout",
     "output_type": "stream",
     "text": [
      "\n",
      "I f\n",
      "  document  n_tokens  n_i\n",
      "0      I f         2    1\n",
      "I fe\n",
      "  document  n_tokens  n_i\n",
      "0     I fe         2    1\n"
     ]
    },
    {
     "name": "stderr",
     "output_type": "stream",
     "text": [
      "127.0.0.1 - - [11/May/2022 11:54:40] \"\u001b[37mPOST /_dash-update-component HTTP/1.1\u001b[0m\" 200 -\n",
      "127.0.0.1 - - [11/May/2022 11:54:40] \"\u001b[37mPOST /_dash-update-component HTTP/1.1\u001b[0m\" 200 -\n"
     ]
    },
    {
     "name": "stdout",
     "output_type": "stream",
     "text": [
      "I fee\n",
      "  document  n_tokens  n_i\n",
      "0    I fee         2    1\n",
      "I feel\n",
      "  document  n_tokens  n_i\n",
      "0   I feel         2    1"
     ]
    },
    {
     "name": "stderr",
     "output_type": "stream",
     "text": [
      "127.0.0.1 - - [11/May/2022 11:54:40] \"\u001b[37mPOST /_dash-update-component HTTP/1.1\u001b[0m\" 200 -\n"
     ]
    },
    {
     "name": "stdout",
     "output_type": "stream",
     "text": [
      "\n"
     ]
    },
    {
     "name": "stderr",
     "output_type": "stream",
     "text": [
      "127.0.0.1 - - [11/May/2022 11:54:40] \"\u001b[37mPOST /_dash-update-component HTTP/1.1\u001b[0m\" 200 -\n"
     ]
    },
    {
     "name": "stdout",
     "output_type": "stream",
     "text": [
      "I feel \n",
      "  document  n_tokens  n_i\n",
      "0  I feel          2    1\n",
      "I feel t\n"
     ]
    },
    {
     "name": "stderr",
     "output_type": "stream",
     "text": [
      "127.0.0.1 - - [11/May/2022 11:54:41] \"\u001b[37mPOST /_dash-update-component HTTP/1.1\u001b[0m\" 200 -\n"
     ]
    },
    {
     "name": "stdout",
     "output_type": "stream",
     "text": [
      "   document  n_tokens  n_i\n",
      "0  I feel t         3    1\n",
      "I feel tiI feel tir\n",
      "\n",
      "I feel tire\n",
      "    document  n_tokens  n_i\n",
      "0  I feel ti         3    1I feel tired"
     ]
    },
    {
     "name": "stderr",
     "output_type": "stream",
     "text": [
      "127.0.0.1 - - [11/May/2022 11:54:41] \"\u001b[37mPOST /_dash-update-component HTTP/1.1\u001b[0m\" 200 -\n",
      "127.0.0.1 - - [11/May/2022 11:54:41] \"\u001b[37mPOST /_dash-update-component HTTP/1.1\u001b[0m\" 200 -\n",
      "127.0.0.1 - - [11/May/2022 11:54:41] \"\u001b[37mPOST /_dash-update-component HTTP/1.1\u001b[0m\" 200 -\n",
      "127.0.0.1 - - [11/May/2022 11:54:41] \"\u001b[37mPOST /_dash-update-component HTTP/1.1\u001b[0m\" 200 -\n"
     ]
    },
    {
     "name": "stdout",
     "output_type": "stream",
     "text": [
      "      document  n_tokens  n_i\n",
      "0  I feel tire         3    1\n",
      "\n",
      "     document  n_tokens  n_i\n",
      "0  I feel tir         3    1\n",
      "\n",
      "       document  n_tokens  n_i\n",
      "0  I feel tired         3    1\n"
     ]
    },
    {
     "name": "stderr",
     "output_type": "stream",
     "text": [
      "127.0.0.1 - - [11/May/2022 11:54:45] \"\u001b[37mPOST /_dash-update-component HTTP/1.1\u001b[0m\" 200 -\n"
     ]
    },
    {
     "name": "stdout",
     "output_type": "stream",
     "text": [
      "I feel tire\n",
      "      document  n_tokens  n_i\n",
      "0  I feel tire         3    1\n",
      "I feel tir\n",
      "I feel ti\n",
      "     document  n_tokens  n_i\n",
      "0  I feel tir         3    1\n",
      "    document  n_tokens  n_i\n",
      "0  I feel ti         3    1\n",
      "I feel t\n"
     ]
    },
    {
     "name": "stderr",
     "output_type": "stream",
     "text": [
      "127.0.0.1 - - [11/May/2022 11:54:46] \"\u001b[37mPOST /_dash-update-component HTTP/1.1\u001b[0m\" 200 -\n",
      "127.0.0.1 - - [11/May/2022 11:54:46] \"\u001b[37mPOST /_dash-update-component HTTP/1.1\u001b[0m\" 200 -\n",
      "127.0.0.1 - - [11/May/2022 11:54:46] \"\u001b[37mPOST /_dash-update-component HTTP/1.1\u001b[0m\" 200 -\n"
     ]
    },
    {
     "name": "stdout",
     "output_type": "stream",
     "text": [
      "   document  n_tokens  n_i\n",
      "0  I feel t         3    1\n",
      "I feel \n"
     ]
    },
    {
     "name": "stderr",
     "output_type": "stream",
     "text": [
      "127.0.0.1 - - [11/May/2022 11:54:46] \"\u001b[37mPOST /_dash-update-component HTTP/1.1\u001b[0m\" 200 -\n"
     ]
    },
    {
     "name": "stdout",
     "output_type": "stream",
     "text": [
      "  document  n_tokens  n_i\n",
      "0  I feel          2    1\n"
     ]
    },
    {
     "name": "stderr",
     "output_type": "stream",
     "text": [
      "127.0.0.1 - - [11/May/2022 11:54:46] \"\u001b[37mPOST /_dash-update-component HTTP/1.1\u001b[0m\" 200 -\n"
     ]
    },
    {
     "name": "stdout",
     "output_type": "stream",
     "text": [
      "I feel f\n",
      "   document  n_tokens  n_i\n",
      "0  I feel f         3    1\n"
     ]
    },
    {
     "name": "stderr",
     "output_type": "stream",
     "text": [
      "127.0.0.1 - - [11/May/2022 11:54:47] \"\u001b[37mPOST /_dash-update-component HTTP/1.1\u001b[0m\" 200 -\n"
     ]
    },
    {
     "name": "stdout",
     "output_type": "stream",
     "text": [
      "I feel fr\n",
      "    document  n_tokens  n_i\n",
      "0  I feel fr         3    1\n"
     ]
    },
    {
     "name": "stderr",
     "output_type": "stream",
     "text": [
      "127.0.0.1 - - [11/May/2022 11:54:47] \"\u001b[37mPOST /_dash-update-component HTTP/1.1\u001b[0m\" 200 -\n"
     ]
    },
    {
     "name": "stdout",
     "output_type": "stream",
     "text": [
      "I feel fru\n",
      "     document  n_tokens  n_i\n",
      "0  I feel fru         3    1\n",
      "I feel frus\n",
      "I feel frust\n",
      "      document  n_tokens  n_i\n",
      "0  I feel frus         3    1\n",
      "       document  n_tokens  n_i\n",
      "0  I feel frust         3    1\n",
      "I feel frustr\n"
     ]
    },
    {
     "name": "stderr",
     "output_type": "stream",
     "text": [
      "127.0.0.1 - - [11/May/2022 11:54:47] \"\u001b[37mPOST /_dash-update-component HTTP/1.1\u001b[0m\" 200 -\n"
     ]
    },
    {
     "name": "stdout",
     "output_type": "stream",
     "text": [
      "I feel frustra\n",
      "I feel frustrat\n",
      "I feel frustrate\n",
      "I feel frustrated\n",
      "          document  n_tokens  n_i\n",
      "0  I feel frustrat         3    1\n"
     ]
    },
    {
     "name": "stderr",
     "output_type": "stream",
     "text": [
      "127.0.0.1 - - [11/May/2022 11:54:48] \"\u001b[37mPOST /_dash-update-component HTTP/1.1\u001b[0m\" 200 -\n",
      "127.0.0.1 - - [11/May/2022 11:54:49] \"\u001b[37mPOST /_dash-update-component HTTP/1.1\u001b[0m\" 200 -\n",
      "127.0.0.1 - - [11/May/2022 11:54:49] \"\u001b[37mPOST /_dash-update-component HTTP/1.1\u001b[0m\" 200 -\n",
      "127.0.0.1 - - [11/May/2022 11:54:49] \"\u001b[37mPOST /_dash-update-component HTTP/1.1\u001b[0m\" 200 -\n",
      "127.0.0.1 - - [11/May/2022 11:54:49] \"\u001b[37mPOST /_dash-update-component HTTP/1.1\u001b[0m\" 200 -\n",
      "127.0.0.1 - - [11/May/2022 11:54:49] \"\u001b[37mPOST /_dash-update-component HTTP/1.1\u001b[0m\" 200 -\n"
     ]
    },
    {
     "name": "stdout",
     "output_type": "stream",
     "text": [
      "           document  n_tokens  n_i\n",
      "0  I feel frustrate         3    1            document  n_tokens  n_i\n",
      "0  I feel frustrated         3    1\n",
      "\n",
      "        document  n_tokens  n_i\n",
      "0  I feel frustr         3    1\n",
      "         document  n_tokens  n_i\n",
      "0  I feel frustra         3    1\n"
     ]
    },
    {
     "name": "stderr",
     "output_type": "stream",
     "text": [
      "127.0.0.1 - - [11/May/2022 11:55:43] \"\u001b[37mPOST /_dash-update-component HTTP/1.1\u001b[0m\" 200 -\n"
     ]
    },
    {
     "name": "stdout",
     "output_type": "stream",
     "text": [
      "I feel frustrated \n",
      "             document  n_tokens  n_i\n",
      "0  I feel frustrated          3    1\n"
     ]
    },
    {
     "name": "stderr",
     "output_type": "stream",
     "text": [
      "127.0.0.1 - - [11/May/2022 11:55:44] \"\u001b[37mPOST /_dash-update-component HTTP/1.1\u001b[0m\" 200 -\n"
     ]
    },
    {
     "name": "stdout",
     "output_type": "stream",
     "text": [
      "I feel frustrated a\n",
      "              document  n_tokens  n_i\n",
      "0  I feel frustrated a         4    1\n"
     ]
    },
    {
     "name": "stderr",
     "output_type": "stream",
     "text": [
      "127.0.0.1 - - [11/May/2022 11:55:44] \"\u001b[37mPOST /_dash-update-component HTTP/1.1\u001b[0m\" 200 -\n"
     ]
    },
    {
     "name": "stdout",
     "output_type": "stream",
     "text": [
      "I feel frustrated an\n",
      "               document  n_tokens  n_i\n",
      "0  I feel frustrated an         4    1\n"
     ]
    },
    {
     "name": "stderr",
     "output_type": "stream",
     "text": [
      "127.0.0.1 - - [11/May/2022 11:55:44] \"\u001b[37mPOST /_dash-update-component HTTP/1.1\u001b[0m\" 200 -\n",
      "127.0.0.1 - - [11/May/2022 11:55:44] \"\u001b[37mPOST /_dash-update-component HTTP/1.1\u001b[0m\" 200 -\n"
     ]
    },
    {
     "name": "stdout",
     "output_type": "stream",
     "text": [
      "I feel frustrated and\n",
      "                document  n_tokens  n_i\n",
      "0  I feel frustrated and         4    1\n",
      "I feel frustrated and \n",
      "                 document  n_tokens  n_i\n",
      "0  I feel frustrated and          4    1\n",
      "I feel frustrated and d\n"
     ]
    },
    {
     "name": "stderr",
     "output_type": "stream",
     "text": [
      "127.0.0.1 - - [11/May/2022 11:55:44] \"\u001b[37mPOST /_dash-update-component HTTP/1.1\u001b[0m\" 200 -\n"
     ]
    },
    {
     "name": "stdout",
     "output_type": "stream",
     "text": [
      "                  document  n_tokens  n_i\n",
      "0  I feel frustrated and d         5    1\n",
      "I feel frustrated and de\n"
     ]
    },
    {
     "name": "stderr",
     "output_type": "stream",
     "text": [
      "127.0.0.1 - - [11/May/2022 11:55:45] \"\u001b[37mPOST /_dash-update-component HTTP/1.1\u001b[0m\" 200 -\n",
      "127.0.0.1 - - [11/May/2022 11:55:45] \"\u001b[37mPOST /_dash-update-component HTTP/1.1\u001b[0m\" 200 -\n"
     ]
    },
    {
     "name": "stdout",
     "output_type": "stream",
     "text": [
      "                   document  n_tokens  n_i\n",
      "0  I feel frustrated and de         5    1\n",
      "I feel frustrated and del\n",
      "                    document  n_tokens  n_i\n",
      "0  I feel frustrated and del         5    1\n",
      "I feel frustrated and deli\n"
     ]
    },
    {
     "name": "stderr",
     "output_type": "stream",
     "text": [
      "127.0.0.1 - - [11/May/2022 11:55:45] \"\u001b[37mPOST /_dash-update-component HTTP/1.1\u001b[0m\" 200 -\n"
     ]
    },
    {
     "name": "stdout",
     "output_type": "stream",
     "text": [
      "                     document  n_tokens  n_i\n",
      "0  I feel frustrated and deli         5    1\n",
      "I feel frustrated and delig\n",
      "I feel frustrated and deligh\n",
      "                       document  n_tokens  n_i\n",
      "0  I feel frustrated and deligh         5    1\n",
      "                      document  n_tokens  n_i\n",
      "0  I feel frustrated and delig         5    1I feel frustrated and delight\n",
      "\n"
     ]
    },
    {
     "name": "stderr",
     "output_type": "stream",
     "text": [
      "127.0.0.1 - - [11/May/2022 11:55:45] \"\u001b[37mPOST /_dash-update-component HTTP/1.1\u001b[0m\" 200 -\n",
      "127.0.0.1 - - [11/May/2022 11:55:45] \"\u001b[37mPOST /_dash-update-component HTTP/1.1\u001b[0m\" 200 -\n",
      "127.0.0.1 - - [11/May/2022 11:55:45] \"\u001b[37mPOST /_dash-update-component HTTP/1.1\u001b[0m\" 200 -\n"
     ]
    },
    {
     "name": "stdout",
     "output_type": "stream",
     "text": [
      "                        document  n_tokens  n_i\n",
      "0  I feel frustrated and delight         5    1\n",
      "I feel frustrated and delightf\n",
      "I feel frustrated and delightfu                         document  n_tokens  n_i\n",
      "0  I feel frustrated and delightf         5    1\n",
      "\n",
      "                          document  n_tokens  n_i\n",
      "0  I feel frustrated and delightfu         5    1\n"
     ]
    },
    {
     "name": "stderr",
     "output_type": "stream",
     "text": [
      "127.0.0.1 - - [11/May/2022 11:55:46] \"\u001b[37mPOST /_dash-update-component HTTP/1.1\u001b[0m\" 200 -\n",
      "127.0.0.1 - - [11/May/2022 11:55:46] \"\u001b[37mPOST /_dash-update-component HTTP/1.1\u001b[0m\" 200 -\n",
      "127.0.0.1 - - [11/May/2022 11:55:46] \"\u001b[37mPOST /_dash-update-component HTTP/1.1\u001b[0m\" 200 -\n"
     ]
    },
    {
     "name": "stdout",
     "output_type": "stream",
     "text": [
      "I feel frustrated and delightful\n",
      "                           document  n_tokens  n_i\n",
      "0  I feel frustrated and delightful         5    1\n"
     ]
    },
    {
     "name": "stderr",
     "output_type": "stream",
     "text": [
      "127.0.0.1 - - [11/May/2022 11:55:52] \"\u001b[37mPOST /_dash-update-component HTTP/1.1\u001b[0m\" 200 -\n"
     ]
    },
    {
     "name": "stdout",
     "output_type": "stream",
     "text": [
      "I feel frustrated and delightfu\n",
      "                          document  n_tokens  n_i\n",
      "0  I feel frustrated and delightfu         5    1\n",
      "I feel frustrated and delightf\n",
      "                         document  n_tokens  n_i\n",
      "0  I feel frustrated and delightf         5    1I feel frustrated and delight\n",
      "\n",
      "I feel frustrated and deligh\n",
      "I feel frustrated and delig                        document  n_tokens  n_i\n",
      "0  I feel frustrated and delight         5    1\n",
      "I feel frustrated and del\n",
      "I feel frustrated and deli\n",
      "\n",
      "                       document  n_tokens  n_i\n",
      "0  I feel frustrated and deligh         5    1\n",
      "                     document  n_tokens  n_i\n",
      "0  I feel frustrated and deli         5    1\n"
     ]
    },
    {
     "name": "stderr",
     "output_type": "stream",
     "text": [
      "127.0.0.1 - - [11/May/2022 11:55:53] \"\u001b[37mPOST /_dash-update-component HTTP/1.1\u001b[0m\" 200 -\n",
      "127.0.0.1 - - [11/May/2022 11:55:53] \"\u001b[37mPOST /_dash-update-component HTTP/1.1\u001b[0m\" 200 -\n"
     ]
    },
    {
     "name": "stdout",
     "output_type": "stream",
     "text": [
      "I feel frustrated and de\n",
      "                    document  n_tokens  n_i\n",
      "0  I feel frustrated and del         5    1\n",
      "                      document  n_tokens  n_i\n",
      "0  I feel frustrated and delig         5    1"
     ]
    },
    {
     "name": "stderr",
     "output_type": "stream",
     "text": [
      "127.0.0.1 - - [11/May/2022 11:55:53] \"\u001b[37mPOST /_dash-update-component HTTP/1.1\u001b[0m\" 200 -\n",
      "127.0.0.1 - - [11/May/2022 11:55:53] \"\u001b[37mPOST /_dash-update-component HTTP/1.1\u001b[0m\" 200 -\n",
      "127.0.0.1 - - [11/May/2022 11:55:53] \"\u001b[37mPOST /_dash-update-component HTTP/1.1\u001b[0m\" 200 -\n"
     ]
    },
    {
     "name": "stdout",
     "output_type": "stream",
     "text": [
      "\n",
      "                   document  n_tokens  n_i\n",
      "0  I feel frustrated and de         5    1\n",
      "I feel frustrated and d\n",
      "I feel frustrated and \n"
     ]
    },
    {
     "name": "stderr",
     "output_type": "stream",
     "text": [
      "127.0.0.1 - - [11/May/2022 11:55:53] \"\u001b[37mPOST /_dash-update-component HTTP/1.1\u001b[0m\" 200 -\n",
      "127.0.0.1 - - [11/May/2022 11:55:54] \"\u001b[37mPOST /_dash-update-component HTTP/1.1\u001b[0m\" 200 -\n",
      "127.0.0.1 - - [11/May/2022 11:55:54] \"\u001b[37mPOST /_dash-update-component HTTP/1.1\u001b[0m\" 200 -\n"
     ]
    },
    {
     "name": "stdout",
     "output_type": "stream",
     "text": [
      "                  document  n_tokens  n_i\n",
      "0  I feel frustrated and d         5    1\n",
      "                 document  n_tokens  n_i\n",
      "0  I feel frustrated and          4    1\n",
      "I feel frustrated and\n",
      "I feel frustrated an\n",
      "I feel frustrated a                document  n_tokens  n_i\n",
      "0  I feel frustrated and         4    1\n",
      "\n"
     ]
    },
    {
     "name": "stderr",
     "output_type": "stream",
     "text": [
      "127.0.0.1 - - [11/May/2022 11:55:54] \"\u001b[37mPOST /_dash-update-component HTTP/1.1\u001b[0m\" 200 -\n",
      "127.0.0.1 - - [11/May/2022 11:55:54] \"\u001b[37mPOST /_dash-update-component HTTP/1.1\u001b[0m\" 200 -\n"
     ]
    },
    {
     "name": "stdout",
     "output_type": "stream",
     "text": [
      "I feel frustrated                document  n_tokens  n_i\n",
      "0  I feel frustrated an         4    1\n",
      "\n",
      "             document  n_tokens  n_i\n",
      "0  I feel frustrated          3    1\n",
      "              document  n_tokens  n_i\n",
      "0  I feel frustrated a         4    1\n",
      "I feel frustrated\n"
     ]
    },
    {
     "name": "stderr",
     "output_type": "stream",
     "text": [
      "127.0.0.1 - - [11/May/2022 11:55:54] \"\u001b[37mPOST /_dash-update-component HTTP/1.1\u001b[0m\" 200 -\n",
      "127.0.0.1 - - [11/May/2022 11:55:54] \"\u001b[37mPOST /_dash-update-component HTTP/1.1\u001b[0m\" 200 -\n",
      "127.0.0.1 - - [11/May/2022 11:55:54] \"\u001b[37mPOST /_dash-update-component HTTP/1.1\u001b[0m\" 200 -\n",
      "127.0.0.1 - - [11/May/2022 11:55:54] \"\u001b[37mPOST /_dash-update-component HTTP/1.1\u001b[0m\" 200 -\n"
     ]
    },
    {
     "name": "stdout",
     "output_type": "stream",
     "text": [
      "            document  n_tokens  n_i\n",
      "0  I feel frustrated         3    1\n"
     ]
    },
    {
     "name": "stderr",
     "output_type": "stream",
     "text": [
      "127.0.0.1 - - [11/May/2022 11:55:57] \"\u001b[37mPOST /_dash-update-component HTTP/1.1\u001b[0m\" 200 -\n"
     ]
    },
    {
     "name": "stdout",
     "output_type": "stream",
     "text": [
      "I feel frustrated \n",
      "             document  n_tokens  n_i\n",
      "0  I feel frustrated          3    1\n"
     ]
    },
    {
     "name": "stderr",
     "output_type": "stream",
     "text": [
      "127.0.0.1 - - [11/May/2022 11:55:58] \"\u001b[37mPOST /_dash-update-component HTTP/1.1\u001b[0m\" 200 -\n",
      "127.0.0.1 - - [11/May/2022 11:55:58] \"\u001b[37mPOST /_dash-update-component HTTP/1.1\u001b[0m\" 200 -\n"
     ]
    },
    {
     "name": "stdout",
     "output_type": "stream",
     "text": [
      "I feel frustrated a\n",
      "              document  n_tokens  n_i\n",
      "0  I feel frustrated a         4    1\n",
      "I feel frustrated an\n",
      "               document  n_tokens  n_i\n",
      "0  I feel frustrated an         4    1\n",
      "I feel frustrated and\n",
      "                document  n_tokens  n_i\n",
      "0  I feel frustrated and         4    1"
     ]
    },
    {
     "name": "stderr",
     "output_type": "stream",
     "text": [
      "127.0.0.1 - - [11/May/2022 11:55:58] \"\u001b[37mPOST /_dash-update-component HTTP/1.1\u001b[0m\" 200 -\n"
     ]
    },
    {
     "name": "stdout",
     "output_type": "stream",
     "text": [
      "\n",
      "I feel frustrated and \n",
      "                 document  n_tokens  n_i\n",
      "0  I feel frustrated and          4    1\n"
     ]
    },
    {
     "name": "stderr",
     "output_type": "stream",
     "text": [
      "127.0.0.1 - - [11/May/2022 11:55:58] \"\u001b[37mPOST /_dash-update-component HTTP/1.1\u001b[0m\" 200 -\n",
      "127.0.0.1 - - [11/May/2022 11:55:58] \"\u001b[37mPOST /_dash-update-component HTTP/1.1\u001b[0m\" 200 -\n"
     ]
    },
    {
     "name": "stdout",
     "output_type": "stream",
     "text": [
      "I feel frustrated and d\n",
      "                  document  n_tokens  n_i\n",
      "0  I feel frustrated and d         5    1\n"
     ]
    },
    {
     "name": "stderr",
     "output_type": "stream",
     "text": [
      "127.0.0.1 - - [11/May/2022 11:55:59] \"\u001b[37mPOST /_dash-update-component HTTP/1.1\u001b[0m\" 200 -\n",
      "127.0.0.1 - - [11/May/2022 11:55:59] \"\u001b[37mPOST /_dash-update-component HTTP/1.1\u001b[0m\" 200 -\n"
     ]
    },
    {
     "name": "stdout",
     "output_type": "stream",
     "text": [
      "I feel frustrated and de\n",
      "                   document  n_tokens  n_i\n",
      "0  I feel frustrated and de         5    1\n",
      "I feel frustrated and del\n",
      "                    document  n_tokens  n_i\n",
      "0  I feel frustrated and del         5    1\n"
     ]
    },
    {
     "name": "stderr",
     "output_type": "stream",
     "text": [
      "127.0.0.1 - - [11/May/2022 11:55:59] \"\u001b[37mPOST /_dash-update-component HTTP/1.1\u001b[0m\" 200 -\n"
     ]
    },
    {
     "name": "stdout",
     "output_type": "stream",
     "text": [
      "I feel frustrated and deli\n",
      "                     document  n_tokens  n_i\n",
      "0  I feel frustrated and deli         5    1\n",
      "I feel frustrated and delig\n"
     ]
    },
    {
     "name": "stderr",
     "output_type": "stream",
     "text": [
      "127.0.0.1 - - [11/May/2022 11:55:59] \"\u001b[37mPOST /_dash-update-component HTTP/1.1\u001b[0m\" 200 -\n",
      "127.0.0.1 - - [11/May/2022 11:55:59] \"\u001b[37mPOST /_dash-update-component HTTP/1.1\u001b[0m\" 200 -\n",
      "127.0.0.1 - - [11/May/2022 11:55:59] \"\u001b[37mPOST /_dash-update-component HTTP/1.1\u001b[0m\" 200 -\n"
     ]
    },
    {
     "name": "stdout",
     "output_type": "stream",
     "text": [
      "I feel frustrated and deligh\n",
      "I feel frustrated and delight\n",
      "                       document  n_tokens  n_i\n",
      "0  I feel frustrated and deligh         5    1\n",
      "                        document  n_tokens  n_i\n",
      "0  I feel frustrated and delight         5    1                      document  n_tokens  n_i\n",
      "0  I feel frustrated and delig         5    1\n",
      "\n",
      "I feel frustrated and delightf\n"
     ]
    },
    {
     "name": "stderr",
     "output_type": "stream",
     "text": [
      "127.0.0.1 - - [11/May/2022 11:56:00] \"\u001b[37mPOST /_dash-update-component HTTP/1.1\u001b[0m\" 200 -\n"
     ]
    },
    {
     "name": "stdout",
     "output_type": "stream",
     "text": [
      "                         document  n_tokens  n_i\n",
      "0  I feel frustrated and delightf         5    1\n",
      "I feel frustrated and delightfu\n",
      "I feel frustrated and delightful\n",
      "                          document  n_tokens  n_i\n",
      "0  I feel frustrated and delightfu         5    1\n",
      "                           document  n_tokens  n_i\n",
      "0  I feel frustrated and delightful         5    1\n"
     ]
    },
    {
     "name": "stderr",
     "output_type": "stream",
     "text": [
      "127.0.0.1 - - [11/May/2022 11:56:00] \"\u001b[37mPOST /_dash-update-component HTTP/1.1\u001b[0m\" 200 -\n",
      "127.0.0.1 - - [11/May/2022 11:56:00] \"\u001b[37mPOST /_dash-update-component HTTP/1.1\u001b[0m\" 200 -\n",
      "127.0.0.1 - - [11/May/2022 11:56:06] \"\u001b[37mPOST /_dash-update-component HTTP/1.1\u001b[0m\" 200 -\n",
      "127.0.0.1 - - [11/May/2022 11:56:06] \"\u001b[37mPOST /_dash-update-component HTTP/1.1\u001b[0m\" 200 -\n"
     ]
    },
    {
     "name": "stdout",
     "output_type": "stream",
     "text": [
      "I feel frustrated and delightful \n",
      "                            document  n_tokens  n_i\n",
      "0  I feel frustrated and delightful          5    1\n",
      "I feel frustrated and delightful a\n",
      "                             document  n_tokens  n_i\n",
      "0  I feel frustrated and delightful a         6    1\n",
      "I feel frustrated and delightful an\n",
      "I feel frustrated and delightful and\n",
      "I feel frustrated and delightful and \n",
      "                              document  n_tokens  n_i\n",
      "0  I feel frustrated and delightful an         6    1\n",
      "                               document  n_tokens  n_i\n",
      "0  I feel frustrated and delightful and         6    1"
     ]
    },
    {
     "name": "stderr",
     "output_type": "stream",
     "text": [
      "127.0.0.1 - - [11/May/2022 11:56:06] \"\u001b[37mPOST /_dash-update-component HTTP/1.1\u001b[0m\" 200 -\n",
      "127.0.0.1 - - [11/May/2022 11:56:06] \"\u001b[37mPOST /_dash-update-component HTTP/1.1\u001b[0m\" 200 -\n",
      "127.0.0.1 - - [11/May/2022 11:56:06] \"\u001b[37mPOST /_dash-update-component HTTP/1.1\u001b[0m\" 200 -\n"
     ]
    },
    {
     "name": "stdout",
     "output_type": "stream",
     "text": [
      "                                document  n_tokens  n_i\n",
      "0  I feel frustrated and delightful and          6    1\n",
      "\n"
     ]
    },
    {
     "name": "stderr",
     "output_type": "stream",
     "text": [
      "127.0.0.1 - - [11/May/2022 11:56:07] \"\u001b[37mPOST /_dash-update-component HTTP/1.1\u001b[0m\" 200 -\n"
     ]
    },
    {
     "name": "stdout",
     "output_type": "stream",
     "text": [
      "I feel frustrated and delightful and u\n",
      "                                 document  n_tokens  n_i\n",
      "0  I feel frustrated and delightful and u         7    1\n",
      "I feel frustrated and delightful and up\n",
      "I feel frustrated and delightful and ups\n",
      "I feel frustrated and delightful and upse                                  document  n_tokens  n_i\n",
      "0  I feel frustrated and delightful and up         7    1\n",
      "\n"
     ]
    },
    {
     "name": "stderr",
     "output_type": "stream",
     "text": [
      "127.0.0.1 - - [11/May/2022 11:56:07] \"\u001b[37mPOST /_dash-update-component HTTP/1.1\u001b[0m\" 200 -\n",
      "127.0.0.1 - - [11/May/2022 11:56:07] \"\u001b[37mPOST /_dash-update-component HTTP/1.1\u001b[0m\" 200 -\n",
      "127.0.0.1 - - [11/May/2022 11:56:07] \"\u001b[37mPOST /_dash-update-component HTTP/1.1\u001b[0m\" 200 -\n",
      "127.0.0.1 - - [11/May/2022 11:56:07] \"\u001b[37mPOST /_dash-update-component HTTP/1.1\u001b[0m\" 200 -\n"
     ]
    },
    {
     "name": "stdout",
     "output_type": "stream",
     "text": [
      "I feel frustrated and delightful and upset                                   document  n_tokens  n_i\n",
      "0  I feel frustrated and delightful and ups         7    1\n",
      "\n",
      "                                    document  n_tokens  n_i\n",
      "0  I feel frustrated and delightful and upse         7    1\n",
      "                                     document  n_tokens  n_i\n",
      "0  I feel frustrated and delightful and upset         7    1\n"
     ]
    },
    {
     "name": "stderr",
     "output_type": "stream",
     "text": [
      "127.0.0.1 - - [11/May/2022 11:56:10] \"\u001b[37mPOST /_dash-update-component HTTP/1.1\u001b[0m\" 200 -\n"
     ]
    },
    {
     "name": "stdout",
     "output_type": "stream",
     "text": [
      "I feel frustrated and delightful and upse\n",
      "                                    document  n_tokens  n_i\n",
      "0  I feel frustrated and delightful and upse         7    1\n",
      "I feel frustrated and delightful and ups\n",
      "I feel frustrated and delightful and up                                   document  n_tokens  n_i\n",
      "0  I feel frustrated and delightful and ups         7    1\n",
      "\n",
      "I feel frustrated and delightful and u\n",
      "I feel frustrated and delightful and \n",
      "                                 document  n_tokens  n_i\n",
      "0  I feel frustrated and delightful and u         7    1\n",
      "                                  document  n_tokens  n_i\n",
      "0  I feel frustrated and delightful and up         7    1I feel frustrated and delightful and"
     ]
    },
    {
     "name": "stderr",
     "output_type": "stream",
     "text": [
      "127.0.0.1 - - [11/May/2022 11:56:11] \"\u001b[37mPOST /_dash-update-component HTTP/1.1\u001b[0m\" 200 -\n",
      "127.0.0.1 - - [11/May/2022 11:56:11] \"\u001b[37mPOST /_dash-update-component HTTP/1.1\u001b[0m\" 200 -\n",
      "127.0.0.1 - - [11/May/2022 11:56:11] \"\u001b[37mPOST /_dash-update-component HTTP/1.1\u001b[0m\" 200 -\n",
      "127.0.0.1 - - [11/May/2022 11:56:11] \"\u001b[37mPOST /_dash-update-component HTTP/1.1\u001b[0m\" 200 -\n"
     ]
    },
    {
     "name": "stdout",
     "output_type": "stream",
     "text": [
      "\n",
      "\n",
      "I feel frustrated and delightful an\n",
      "                                document  n_tokens  n_i\n",
      "0  I feel frustrated and delightful and          6    1\n",
      "                               document  n_tokens  n_i\n",
      "0  I feel frustrated and delightful and         6    1\n",
      "                              document  n_tokens  n_i\n",
      "0  I feel frustrated and delightful an         6    1\n",
      "I feel frustrated and delightful a\n",
      "                             document  n_tokens  n_i\n",
      "0  I feel frustrated and delightful a         6    1\n",
      "I feel frustrated and delightful "
     ]
    },
    {
     "name": "stderr",
     "output_type": "stream",
     "text": [
      "127.0.0.1 - - [11/May/2022 11:56:11] \"\u001b[37mPOST /_dash-update-component HTTP/1.1\u001b[0m\" 200 -\n",
      "127.0.0.1 - - [11/May/2022 11:56:11] \"\u001b[37mPOST /_dash-update-component HTTP/1.1\u001b[0m\" 200 -\n",
      "127.0.0.1 - - [11/May/2022 11:56:11] \"\u001b[37mPOST /_dash-update-component HTTP/1.1\u001b[0m\" 200 -\n",
      "127.0.0.1 - - [11/May/2022 11:56:11] \"\u001b[37mPOST /_dash-update-component HTTP/1.1\u001b[0m\" 200 -\n",
      "127.0.0.1 - - [11/May/2022 11:56:11] \"\u001b[37mPOST /_dash-update-component HTTP/1.1\u001b[0m\" 200 -\n"
     ]
    },
    {
     "name": "stdout",
     "output_type": "stream",
     "text": [
      "\n",
      "I feel frustrated and delightful\n",
      "                            document  n_tokens  n_i\n",
      "0  I feel frustrated and delightful          5    1\n",
      "                           document  n_tokens  n_i\n",
      "0  I feel frustrated and delightful         5    1\n"
     ]
    },
    {
     "name": "stderr",
     "output_type": "stream",
     "text": [
      "127.0.0.1 - - [11/May/2022 11:56:36] \"\u001b[37mPOST /_dash-update-component HTTP/1.1\u001b[0m\" 200 -\n"
     ]
    },
    {
     "name": "stdout",
     "output_type": "stream",
     "text": [
      "I feel frustrated and delightfu\n",
      "                          document  n_tokens  n_i\n",
      "0  I feel frustrated and delightfu         5    1\n",
      "I feel frustrated and delightf\n",
      "I feel frustrated and delight\n",
      "                         document  n_tokens  n_i\n",
      "0  I feel frustrated and delightf         5    1\n",
      "I feel frustrated and deligh\n",
      "                       document  n_tokens  n_i\n",
      "0  I feel frustrated and deligh         5    1\n",
      "                        document  n_tokens  n_i\n",
      "0  I feel frustrated and delight         5    1\n",
      "I feel frustrated and delig\n"
     ]
    },
    {
     "name": "stderr",
     "output_type": "stream",
     "text": [
      "127.0.0.1 - - [11/May/2022 11:56:37] \"\u001b[37mPOST /_dash-update-component HTTP/1.1\u001b[0m\" 200 -\n",
      "127.0.0.1 - - [11/May/2022 11:56:37] \"\u001b[37mPOST /_dash-update-component HTTP/1.1\u001b[0m\" 200 -\n",
      "127.0.0.1 - - [11/May/2022 11:56:37] \"\u001b[37mPOST /_dash-update-component HTTP/1.1\u001b[0m\" 200 -\n"
     ]
    },
    {
     "name": "stdout",
     "output_type": "stream",
     "text": [
      "I feel frustrated and deliI feel frustrated and del\n",
      "\n",
      "                     document  n_tokens  n_i\n",
      "0  I feel frustrated and deli         5    1\n",
      "                    document  n_tokens  n_i\n",
      "0  I feel frustrated and del         5    1\n",
      "I feel frustrated and de\n",
      "                      document  n_tokens  n_i\n",
      "0  I feel frustrated and delig         5    1\n",
      "                   document  n_tokens  n_i\n",
      "0  I feel frustrated and de         5    1\n"
     ]
    },
    {
     "name": "stderr",
     "output_type": "stream",
     "text": [
      "127.0.0.1 - - [11/May/2022 11:56:37] \"\u001b[37mPOST /_dash-update-component HTTP/1.1\u001b[0m\" 200 -\n",
      "127.0.0.1 - - [11/May/2022 11:56:37] \"\u001b[37mPOST /_dash-update-component HTTP/1.1\u001b[0m\" 200 -\n",
      "127.0.0.1 - - [11/May/2022 11:56:37] \"\u001b[37mPOST /_dash-update-component HTTP/1.1\u001b[0m\" 200 -\n",
      "127.0.0.1 - - [11/May/2022 11:56:37] \"\u001b[37mPOST /_dash-update-component HTTP/1.1\u001b[0m\" 200 -\n"
     ]
    },
    {
     "name": "stdout",
     "output_type": "stream",
     "text": [
      "I feel frustrated and d\n",
      "I feel frustrated and \n",
      "                  document  n_tokens  n_i\n",
      "0  I feel frustrated and d         5    1\n",
      "I feel frustrated and                 document  n_tokens  n_i\n",
      "0  I feel frustrated and          4    1\n",
      "\n",
      "I feel frustrated an"
     ]
    },
    {
     "name": "stderr",
     "output_type": "stream",
     "text": [
      "127.0.0.1 - - [11/May/2022 11:56:38] \"\u001b[37mPOST /_dash-update-component HTTP/1.1\u001b[0m\" 200 -\n",
      "127.0.0.1 - - [11/May/2022 11:56:38] \"\u001b[37mPOST /_dash-update-component HTTP/1.1\u001b[0m\" 200 -\n",
      "127.0.0.1 - - [11/May/2022 11:56:38] \"\u001b[37mPOST /_dash-update-component HTTP/1.1\u001b[0m\" 200 -\n"
     ]
    },
    {
     "name": "stdout",
     "output_type": "stream",
     "text": [
      "\n",
      "I feel frustrated a\n",
      "                document  n_tokens  n_i\n",
      "0  I feel frustrated and         4    1\n",
      "               document  n_tokens  n_i\n",
      "0  I feel frustrated an         4    1\n",
      "              document  n_tokens  n_i\n",
      "0  I feel frustrated a         4    1\n",
      "I feel frustrated I feel frustrated\n",
      "\n",
      "I feel frustrate"
     ]
    },
    {
     "name": "stderr",
     "output_type": "stream",
     "text": [
      "127.0.0.1 - - [11/May/2022 11:56:38] \"\u001b[37mPOST /_dash-update-component HTTP/1.1\u001b[0m\" 200 -\n",
      "127.0.0.1 - - [11/May/2022 11:56:38] \"\u001b[37mPOST /_dash-update-component HTTP/1.1\u001b[0m\" 200 -\n",
      "127.0.0.1 - - [11/May/2022 11:56:38] \"\u001b[37mPOST /_dash-update-component HTTP/1.1\u001b[0m\" 200 -\n",
      "127.0.0.1 - - [11/May/2022 11:56:38] \"\u001b[37mPOST /_dash-update-component HTTP/1.1\u001b[0m\" 200 -\n",
      "127.0.0.1 - - [11/May/2022 11:56:38] \"\u001b[37mPOST /_dash-update-component HTTP/1.1\u001b[0m\" 200 -\n"
     ]
    },
    {
     "name": "stdout",
     "output_type": "stream",
     "text": [
      "\n",
      "             document  n_tokens  n_i\n",
      "0  I feel frustrated          3    1\n",
      "            document  n_tokens  n_i\n",
      "0  I feel frustrated         3    1\n",
      "           document  n_tokens  n_i\n",
      "0  I feel frustrate         3    1\n",
      "I feel frustrat\n",
      "          document  n_tokens  n_i\n",
      "0  I feel frustrat         3    1\n"
     ]
    },
    {
     "name": "stderr",
     "output_type": "stream",
     "text": [
      "127.0.0.1 - - [11/May/2022 11:56:38] \"\u001b[37mPOST /_dash-update-component HTTP/1.1\u001b[0m\" 200 -\n"
     ]
    },
    {
     "name": "stdout",
     "output_type": "stream",
     "text": [
      "I feel frustrI feel frustra\n",
      "I feel frusI feel frust\n",
      "\n",
      "\n",
      "I feel fru       document  n_tokens  n_i\n",
      "0  I feel frust         3    1\n",
      "\n",
      "I feel fr\n",
      "      document  n_tokens  n_i\n",
      "0  I feel frus         3    1     document  n_tokens  n_i\n",
      "0  I feel fru         3    1\n",
      "\n",
      "    document  n_tokens  n_i\n",
      "0  I feel fr         3    1\n"
     ]
    },
    {
     "name": "stderr",
     "output_type": "stream",
     "text": [
      "127.0.0.1 - - [11/May/2022 11:56:39] \"\u001b[37mPOST /_dash-update-component HTTP/1.1\u001b[0m\" 200 -\n",
      "127.0.0.1 - - [11/May/2022 11:56:39] \"\u001b[37mPOST /_dash-update-component HTTP/1.1\u001b[0m\" 200 -\n",
      "127.0.0.1 - - [11/May/2022 11:56:40] \"\u001b[37mPOST /_dash-update-component HTTP/1.1\u001b[0m\" 200 -\n",
      "127.0.0.1 - - [11/May/2022 11:56:40] \"\u001b[37mPOST /_dash-update-component HTTP/1.1\u001b[0m\" 200 -\n",
      "127.0.0.1 - - [11/May/2022 11:56:40] \"\u001b[37mPOST /_dash-update-component HTTP/1.1\u001b[0m\" 200 -\n"
     ]
    },
    {
     "name": "stdout",
     "output_type": "stream",
     "text": [
      "        document  n_tokens  n_i\n",
      "0  I feel frustr         3    1I feel f\n",
      "\n",
      "         document  n_tokens  n_i\n",
      "0  I feel frustra         3    1\n",
      "   document  n_tokens  n_i\n",
      "0  I feel f         3    1\n",
      "I feel \n",
      "I feelI fee  document  n_tokens  n_i\n",
      "0  I feel          2    1\n",
      "\n",
      "\n"
     ]
    },
    {
     "name": "stderr",
     "output_type": "stream",
     "text": [
      "127.0.0.1 - - [11/May/2022 11:56:40] \"\u001b[37mPOST /_dash-update-component HTTP/1.1\u001b[0m\" 200 -\n",
      "127.0.0.1 - - [11/May/2022 11:56:40] \"\u001b[37mPOST /_dash-update-component HTTP/1.1\u001b[0m\" 200 -\n",
      "127.0.0.1 - - [11/May/2022 11:56:40] \"\u001b[37mPOST /_dash-update-component HTTP/1.1\u001b[0m\" 200 -\n",
      "127.0.0.1 - - [11/May/2022 11:56:40] \"\u001b[37mPOST /_dash-update-component HTTP/1.1\u001b[0m\" 200 -\n"
     ]
    },
    {
     "name": "stdout",
     "output_type": "stream",
     "text": [
      "I fe  document  n_tokens  n_i\n",
      "0    I fee         2    1  document  n_tokens  n_i\n",
      "0   I feel         2    1\n",
      "\n",
      "\n",
      "  document  n_tokens  n_i\n",
      "0     I fe         2    1\n",
      "I f\n",
      "I "
     ]
    },
    {
     "name": "stderr",
     "output_type": "stream",
     "text": [
      "127.0.0.1 - - [11/May/2022 11:56:40] \"\u001b[37mGET / HTTP/1.1\u001b[0m\" 200 -\n",
      "127.0.0.1 - - [11/May/2022 11:56:40] \"\u001b[37mPOST /_dash-update-component HTTP/1.1\u001b[0m\" 200 -\n",
      "127.0.0.1 - - [11/May/2022 11:56:40] \"\u001b[37mPOST /_dash-update-component HTTP/1.1\u001b[0m\" 200 -\n",
      "127.0.0.1 - - [11/May/2022 11:56:40] \"\u001b[37mPOST /_dash-update-component HTTP/1.1\u001b[0m\" 200 -\n",
      "127.0.0.1 - - [11/May/2022 11:56:40] \"\u001b[37mPOST /_dash-update-component HTTP/1.1\u001b[0m\" 200 -\n",
      "127.0.0.1 - - [11/May/2022 11:56:40] \"\u001b[37mPOST /_dash-update-component HTTP/1.1\u001b[0m\" 200 -\n",
      "127.0.0.1 - - [11/May/2022 11:56:40] \"\u001b[37mPOST /_dash-update-component HTTP/1.1\u001b[0m\" 200 -\n"
     ]
    },
    {
     "name": "stdout",
     "output_type": "stream",
     "text": [
      "\n",
      "  document  n_tokens  n_i\n",
      "0      I f         2    1\n",
      "  document  n_tokens  n_i\n",
      "0       I          1    1\n",
      "I\n",
      "\n",
      "  document  n_tokens  n_i\n",
      "0        I         1    0\n",
      "  document  n_tokens  n_i\n",
      "0                  0    0\n"
     ]
    },
    {
     "name": "stderr",
     "output_type": "stream",
     "text": [
      "127.0.0.1 - - [11/May/2022 11:56:41] \"\u001b[37mGET /_dash-dependencies HTTP/1.1\u001b[0m\" 200 -\n",
      "127.0.0.1 - - [11/May/2022 11:56:41] \"\u001b[37mGET /_dash-layout HTTP/1.1\u001b[0m\" 200 -\n",
      "127.0.0.1 - - [11/May/2022 11:56:41] \"\u001b[37mGET /_favicon.ico?v=2.0.0 HTTP/1.1\u001b[0m\" 200 -\n",
      "127.0.0.1 - - [11/May/2022 11:56:41] \"\u001b[37mGET /_dash-component-suites/dash/dcc/async-dropdown.js HTTP/1.1\u001b[0m\" 200 -\n",
      "127.0.0.1 - - [11/May/2022 11:56:41] \"\u001b[37mGET /_dash-component-suites/dash/dcc/async-plotlyjs.js HTTP/1.1\u001b[0m\" 200 -\n",
      "127.0.0.1 - - [11/May/2022 11:56:41] \"\u001b[37mGET /_dash-component-suites/dash/dcc/async-graph.js HTTP/1.1\u001b[0m\" 200 -\n",
      "127.0.0.1 - - [11/May/2022 11:56:41] \"\u001b[37mPOST /_dash-update-component HTTP/1.1\u001b[0m\" 204 -\n"
     ]
    },
    {
     "name": "stdout",
     "output_type": "stream",
     "text": [
      "None\n"
     ]
    },
    {
     "name": "stderr",
     "output_type": "stream",
     "text": [
      "127.0.0.1 - - [11/May/2022 11:56:41] \"\u001b[37mGET /_favicon.ico?v=2.0.0 HTTP/1.1\u001b[0m\" 200 -\n",
      "127.0.0.1 - - [11/May/2022 11:56:47] \"\u001b[37mPOST /_dash-update-component HTTP/1.1\u001b[0m\" 200 -\n"
     ]
    },
    {
     "name": "stdout",
     "output_type": "stream",
     "text": [
      "ZI\n",
      "  document  n_tokens  n_i\n",
      "0       ZI         1    0\n"
     ]
    },
    {
     "name": "stderr",
     "output_type": "stream",
     "text": [
      "127.0.0.1 - - [11/May/2022 11:56:47] \"\u001b[37mPOST /_dash-update-component HTTP/1.1\u001b[0m\" 200 -\n",
      "127.0.0.1 - - [11/May/2022 11:56:47] \"\u001b[37mPOST /_dash-update-component HTTP/1.1\u001b[0m\" 200 -\n"
     ]
    },
    {
     "name": "stdout",
     "output_type": "stream",
     "text": [
      "Z\n",
      "  document  n_tokens  n_i\n",
      "0        Z         1    0\n",
      "\n",
      "  document  n_tokens  n_i\n",
      "0                  0    0\n"
     ]
    },
    {
     "name": "stderr",
     "output_type": "stream",
     "text": [
      "127.0.0.1 - - [11/May/2022 11:56:48] \"\u001b[37mPOST /_dash-update-component HTTP/1.1\u001b[0m\" 200 -\n",
      "127.0.0.1 - - [11/May/2022 11:56:48] \"\u001b[37mPOST /_dash-update-component HTTP/1.1\u001b[0m\" 200 -\n"
     ]
    },
    {
     "name": "stdout",
     "output_type": "stream",
     "text": [
      "I\n",
      "  document  n_tokens  n_i\n",
      "0        I         1    0\n",
      "I \n",
      "  document  n_tokens  n_i\n",
      "0       I          1    1\n"
     ]
    },
    {
     "name": "stderr",
     "output_type": "stream",
     "text": [
      "127.0.0.1 - - [11/May/2022 11:56:48] \"\u001b[37mPOST /_dash-update-component HTTP/1.1\u001b[0m\" 200 -\n",
      "127.0.0.1 - - [11/May/2022 11:56:48] \"\u001b[37mPOST /_dash-update-component HTTP/1.1\u001b[0m\" 200 -\n"
     ]
    },
    {
     "name": "stdout",
     "output_type": "stream",
     "text": [
      "I f\n",
      "  document  n_tokens  n_i\n",
      "0      I f         2    1\n",
      "I fe\n",
      "  document  n_tokens  n_i\n",
      "0     I fe         2    1\n"
     ]
    },
    {
     "name": "stderr",
     "output_type": "stream",
     "text": [
      "127.0.0.1 - - [11/May/2022 11:56:48] \"\u001b[37mPOST /_dash-update-component HTTP/1.1\u001b[0m\" 200 -\n"
     ]
    },
    {
     "name": "stdout",
     "output_type": "stream",
     "text": [
      "I fee\n",
      "  document  n_tokens  n_i\n",
      "0    I fee         2    1\n",
      "I feel\n",
      "I feel \n",
      "I feel s  document  n_tokens  n_i\n",
      "0   I feel         2    1"
     ]
    },
    {
     "name": "stderr",
     "output_type": "stream",
     "text": [
      "127.0.0.1 - - [11/May/2022 11:56:48] \"\u001b[37mPOST /_dash-update-component HTTP/1.1\u001b[0m\" 200 -\n",
      "127.0.0.1 - - [11/May/2022 11:56:48] \"\u001b[37mPOST /_dash-update-component HTTP/1.1\u001b[0m\" 200 -\n",
      "127.0.0.1 - - [11/May/2022 11:56:48] \"\u001b[37mPOST /_dash-update-component HTTP/1.1\u001b[0m\" 200 -\n"
     ]
    },
    {
     "name": "stdout",
     "output_type": "stream",
     "text": [
      "\n",
      "\n",
      "  document  n_tokens  n_i\n",
      "0  I feel          2    1\n",
      "   document  n_tokens  n_i\n",
      "0  I feel s         3    1\n"
     ]
    },
    {
     "name": "stderr",
     "output_type": "stream",
     "text": [
      "127.0.0.1 - - [11/May/2022 11:56:49] \"\u001b[37mPOST /_dash-update-component HTTP/1.1\u001b[0m\" 200 -\n"
     ]
    },
    {
     "name": "stdout",
     "output_type": "stream",
     "text": [
      "I feel sw\n",
      "    document  n_tokens  n_i\n",
      "0  I feel sw         3    1\n",
      "I feel swe\n",
      "     document  n_tokens  n_i\n",
      "0  I feel swe         3    1\n",
      "I feel swel"
     ]
    },
    {
     "name": "stderr",
     "output_type": "stream",
     "text": [
      "127.0.0.1 - - [11/May/2022 11:56:49] \"\u001b[37mPOST /_dash-update-component HTTP/1.1\u001b[0m\" 200 -\n",
      "127.0.0.1 - - [11/May/2022 11:56:49] \"\u001b[37mPOST /_dash-update-component HTTP/1.1\u001b[0m\" 200 -\n"
     ]
    },
    {
     "name": "stdout",
     "output_type": "stream",
     "text": [
      "\n",
      "      document  n_tokens  n_i\n",
      "0  I feel swel         3    1\n",
      "I feel swell\n",
      "       document  n_tokens  n_i\n",
      "0  I feel swell         3    1\n"
     ]
    },
    {
     "name": "stderr",
     "output_type": "stream",
     "text": [
      "127.0.0.1 - - [11/May/2022 11:56:49] \"\u001b[37mPOST /_dash-update-component HTTP/1.1\u001b[0m\" 200 -\n",
      "127.0.0.1 - - [11/May/2022 11:56:53] \"\u001b[37mPOST /_dash-update-component HTTP/1.1\u001b[0m\" 200 -\n",
      "127.0.0.1 - - [11/May/2022 11:56:53] \"\u001b[37mPOST /_dash-update-component HTTP/1.1\u001b[0m\" 200 -\n"
     ]
    },
    {
     "name": "stdout",
     "output_type": "stream",
     "text": [
      "I feel swel\n",
      "      document  n_tokens  n_i\n",
      "0  I feel swel         3    1\n",
      "I feel swe\n",
      "     document  n_tokens  n_i\n",
      "0  I feel swe         3    1\n"
     ]
    },
    {
     "name": "stderr",
     "output_type": "stream",
     "text": [
      "127.0.0.1 - - [11/May/2022 11:56:54] \"\u001b[37mPOST /_dash-update-component HTTP/1.1\u001b[0m\" 200 -\n"
     ]
    },
    {
     "name": "stdout",
     "output_type": "stream",
     "text": [
      "I feel sw\n",
      "    document  n_tokens  n_i\n",
      "0  I feel sw         3    1\n",
      "I feel s\n",
      "   document  n_tokens  n_i\n",
      "0  I feel s         3    1"
     ]
    },
    {
     "name": "stderr",
     "output_type": "stream",
     "text": [
      "127.0.0.1 - - [11/May/2022 11:56:54] \"\u001b[37mPOST /_dash-update-component HTTP/1.1\u001b[0m\" 200 -\n"
     ]
    },
    {
     "name": "stdout",
     "output_type": "stream",
     "text": [
      "\n",
      "I feel \n",
      "  document  n_tokens  n_i\n",
      "0  I feel          2    1"
     ]
    },
    {
     "name": "stderr",
     "output_type": "stream",
     "text": [
      "127.0.0.1 - - [11/May/2022 11:56:54] \"\u001b[37mPOST /_dash-update-component HTTP/1.1\u001b[0m\" 200 -\n"
     ]
    },
    {
     "name": "stdout",
     "output_type": "stream",
     "text": [
      "\n"
     ]
    },
    {
     "name": "stderr",
     "output_type": "stream",
     "text": [
      "127.0.0.1 - - [11/May/2022 11:56:54] \"\u001b[37mPOST /_dash-update-component HTTP/1.1\u001b[0m\" 200 -\n"
     ]
    },
    {
     "name": "stdout",
     "output_type": "stream",
     "text": [
      "I feel\n",
      "  document  n_tokens  n_i\n",
      "0   I feel         2    1\n",
      "I fee\n",
      "  document  n_tokens  n_i\n",
      "0    I fee         2    1\n"
     ]
    },
    {
     "name": "stderr",
     "output_type": "stream",
     "text": [
      "127.0.0.1 - - [11/May/2022 11:56:55] \"\u001b[37mPOST /_dash-update-component HTTP/1.1\u001b[0m\" 200 -\n",
      "127.0.0.1 - - [11/May/2022 11:56:55] \"\u001b[37mPOST /_dash-update-component HTTP/1.1\u001b[0m\" 200 -\n"
     ]
    },
    {
     "name": "stdout",
     "output_type": "stream",
     "text": [
      "I fe\n",
      "  document  n_tokens  n_i\n",
      "0     I fe         2    1\n",
      "I f\n",
      "  document  n_tokens  n_i\n",
      "0      I f         2    1I \n",
      "\n",
      "  document  n_tokens  n_i\n",
      "0       I          1    1\n"
     ]
    },
    {
     "name": "stderr",
     "output_type": "stream",
     "text": [
      "127.0.0.1 - - [11/May/2022 11:56:55] \"\u001b[37mPOST /_dash-update-component HTTP/1.1\u001b[0m\" 200 -\n",
      "127.0.0.1 - - [11/May/2022 11:56:55] \"\u001b[37mPOST /_dash-update-component HTTP/1.1\u001b[0m\" 200 -\n",
      "127.0.0.1 - - [11/May/2022 11:56:55] \"\u001b[37mPOST /_dash-update-component HTTP/1.1\u001b[0m\" 200 -\n",
      "127.0.0.1 - - [11/May/2022 11:56:55] \"\u001b[37mPOST /_dash-update-component HTTP/1.1\u001b[0m\" 200 -\n"
     ]
    },
    {
     "name": "stdout",
     "output_type": "stream",
     "text": [
      "I\n",
      "  document  n_tokens  n_i\n",
      "0        I         1    0\n",
      "\n",
      "  document  n_tokens  n_i\n",
      "0                  0    0\n"
     ]
    },
    {
     "name": "stderr",
     "output_type": "stream",
     "text": [
      "127.0.0.1 - - [11/May/2022 11:56:57] \"\u001b[37mGET / HTTP/1.1\u001b[0m\" 200 -\n",
      "127.0.0.1 - - [11/May/2022 11:56:58] \"\u001b[37mGET /_dash-dependencies HTTP/1.1\u001b[0m\" 200 -\n",
      "127.0.0.1 - - [11/May/2022 11:56:58] \"\u001b[37mGET /_dash-layout HTTP/1.1\u001b[0m\" 200 -\n",
      "127.0.0.1 - - [11/May/2022 11:56:58] \"\u001b[37mGET /_favicon.ico?v=2.0.0 HTTP/1.1\u001b[0m\" 200 -\n",
      "127.0.0.1 - - [11/May/2022 11:56:58] \"\u001b[37mGET /_dash-component-suites/dash/dcc/async-graph.js HTTP/1.1\u001b[0m\" 200 -\n",
      "127.0.0.1 - - [11/May/2022 11:56:58] \"\u001b[37mGET /_dash-component-suites/dash/dcc/async-dropdown.js HTTP/1.1\u001b[0m\" 200 -\n",
      "127.0.0.1 - - [11/May/2022 11:56:58] \"\u001b[37mGET /_dash-component-suites/dash/dcc/async-plotlyjs.js HTTP/1.1\u001b[0m\" 200 -\n",
      "127.0.0.1 - - [11/May/2022 11:56:58] \"\u001b[37mPOST /_dash-update-component HTTP/1.1\u001b[0m\" 204 -\n"
     ]
    },
    {
     "name": "stdout",
     "output_type": "stream",
     "text": [
      "None\n"
     ]
    },
    {
     "name": "stderr",
     "output_type": "stream",
     "text": [
      "127.0.0.1 - - [11/May/2022 11:56:58] \"\u001b[37mGET /_favicon.ico?v=2.0.0 HTTP/1.1\u001b[0m\" 200 -\n"
     ]
    },
    {
     "name": "stdout",
     "output_type": "stream",
     "text": [
      "Z\n",
      "ZI\n",
      "  document  n_tokens  n_i\n",
      "0        Z         1    0\n",
      "  document  n_tokens  n_i\n",
      "0       ZI         1    0"
     ]
    },
    {
     "name": "stderr",
     "output_type": "stream",
     "text": [
      "127.0.0.1 - - [11/May/2022 11:57:01] \"\u001b[37mPOST /_dash-update-component HTTP/1.1\u001b[0m\" 200 -\n",
      "127.0.0.1 - - [11/May/2022 11:57:01] \"\u001b[37mPOST /_dash-update-component HTTP/1.1\u001b[0m\" 200 -\n"
     ]
    },
    {
     "name": "stdout",
     "output_type": "stream",
     "text": [
      "\n"
     ]
    },
    {
     "name": "stderr",
     "output_type": "stream",
     "text": [
      "127.0.0.1 - - [11/May/2022 11:57:01] \"\u001b[37mPOST /_dash-update-component HTTP/1.1\u001b[0m\" 200 -\n"
     ]
    },
    {
     "name": "stdout",
     "output_type": "stream",
     "text": [
      "Z\n",
      "  document  n_tokens  n_i\n",
      "0        Z         1    0\n",
      "\n",
      "  document  n_tokens  n_i\n",
      "0                  0    0\n"
     ]
    },
    {
     "name": "stderr",
     "output_type": "stream",
     "text": [
      "127.0.0.1 - - [11/May/2022 11:57:01] \"\u001b[37mPOST /_dash-update-component HTTP/1.1\u001b[0m\" 200 -\n",
      "127.0.0.1 - - [11/May/2022 11:57:02] \"\u001b[37mPOST /_dash-update-component HTTP/1.1\u001b[0m\" 200 -\n"
     ]
    },
    {
     "name": "stdout",
     "output_type": "stream",
     "text": [
      "I\n",
      "  document  n_tokens  n_i\n",
      "0        I         1    0\n"
     ]
    },
    {
     "name": "stderr",
     "output_type": "stream",
     "text": [
      "127.0.0.1 - - [11/May/2022 11:57:02] \"\u001b[37mPOST /_dash-update-component HTTP/1.1\u001b[0m\" 200 -\n",
      "127.0.0.1 - - [11/May/2022 11:57:02] \"\u001b[37mPOST /_dash-update-component HTTP/1.1\u001b[0m\" 200 -\n"
     ]
    },
    {
     "name": "stdout",
     "output_type": "stream",
     "text": [
      "I \n",
      "  document  n_tokens  n_i\n",
      "0       I          1    1\n",
      "I f\n",
      "  document  n_tokens  n_i\n",
      "0      I f         2    1\n",
      "I fe"
     ]
    },
    {
     "name": "stderr",
     "output_type": "stream",
     "text": [
      "127.0.0.1 - - [11/May/2022 11:57:02] \"\u001b[37mPOST /_dash-update-component HTTP/1.1\u001b[0m\" 200 -\n"
     ]
    },
    {
     "name": "stdout",
     "output_type": "stream",
     "text": [
      "\n",
      "  document  n_tokens  n_i\n",
      "0     I fe         2    1\n",
      "I fee\n",
      "  document  n_tokens  n_i\n",
      "0    I fee         2    1"
     ]
    },
    {
     "name": "stderr",
     "output_type": "stream",
     "text": [
      "127.0.0.1 - - [11/May/2022 11:57:02] \"\u001b[37mPOST /_dash-update-component HTTP/1.1\u001b[0m\" 200 -\n"
     ]
    },
    {
     "name": "stdout",
     "output_type": "stream",
     "text": [
      "\n",
      "I feel\n",
      "I feel \n",
      "I feel s\n",
      "  document  n_tokens  n_i\n",
      "0   I feel         2    1  document  n_tokens  n_i\n",
      "0  I feel          2    1\n",
      "\n",
      "   document  n_tokens  n_i\n",
      "0  I feel s         3    1\n",
      "I feel sw\n",
      "I feel swe\n",
      "    document  n_tokens  n_i\n",
      "0  I feel sw         3    1\n"
     ]
    },
    {
     "name": "stderr",
     "output_type": "stream",
     "text": [
      "127.0.0.1 - - [11/May/2022 11:57:03] \"\u001b[37mPOST /_dash-update-component HTTP/1.1\u001b[0m\" 200 -\n",
      "127.0.0.1 - - [11/May/2022 11:57:03] \"\u001b[37mPOST /_dash-update-component HTTP/1.1\u001b[0m\" 200 -\n",
      "127.0.0.1 - - [11/May/2022 11:57:03] \"\u001b[37mPOST /_dash-update-component HTTP/1.1\u001b[0m\" 200 -\n",
      "127.0.0.1 - - [11/May/2022 11:57:03] \"\u001b[37mPOST /_dash-update-component HTTP/1.1\u001b[0m\" 200 -\n",
      "127.0.0.1 - - [11/May/2022 11:57:03] \"\u001b[37mPOST /_dash-update-component HTTP/1.1\u001b[0m\" 200 -\n"
     ]
    },
    {
     "name": "stdout",
     "output_type": "stream",
     "text": [
      "     document  n_tokens  n_i\n",
      "0  I feel swe         3    1\n",
      "I feel swel\n",
      "      document  n_tokens  n_i\n",
      "0  I feel swel         3    1"
     ]
    },
    {
     "name": "stderr",
     "output_type": "stream",
     "text": [
      "127.0.0.1 - - [11/May/2022 11:57:03] \"\u001b[37mPOST /_dash-update-component HTTP/1.1\u001b[0m\" 200 -\n"
     ]
    },
    {
     "name": "stdout",
     "output_type": "stream",
     "text": [
      "\n",
      "I feel swell"
     ]
    },
    {
     "name": "stderr",
     "output_type": "stream",
     "text": [
      "127.0.0.1 - - [11/May/2022 11:57:03] \"\u001b[37mPOST /_dash-update-component HTTP/1.1\u001b[0m\" 200 -\n"
     ]
    },
    {
     "name": "stdout",
     "output_type": "stream",
     "text": [
      "\n",
      "       document  n_tokens  n_i\n",
      "0  I feel swell         3    1\n"
     ]
    },
    {
     "name": "stderr",
     "output_type": "stream",
     "text": [
      "127.0.0.1 - - [11/May/2022 11:57:06] \"\u001b[37mPOST /_dash-update-component HTTP/1.1\u001b[0m\" 200 -\n"
     ]
    },
    {
     "name": "stdout",
     "output_type": "stream",
     "text": [
      "I feel swel\n",
      "      document  n_tokens  n_i\n",
      "0  I feel swel         3    1\n",
      "I feel swe\n",
      "     document  n_tokens  n_i\n",
      "0  I feel swe         3    1\n"
     ]
    },
    {
     "name": "stderr",
     "output_type": "stream",
     "text": [
      "127.0.0.1 - - [11/May/2022 11:57:06] \"\u001b[37mPOST /_dash-update-component HTTP/1.1\u001b[0m\" 200 -\n",
      "127.0.0.1 - - [11/May/2022 11:57:06] \"\u001b[37mPOST /_dash-update-component HTTP/1.1\u001b[0m\" 200 -\n"
     ]
    },
    {
     "name": "stdout",
     "output_type": "stream",
     "text": [
      "I feel sw\n",
      "    document  n_tokens  n_i\n",
      "0  I feel sw         3    1\n",
      "I feel s\n",
      "   document  n_tokens  n_i\n",
      "0  I feel s         3    1\n"
     ]
    },
    {
     "name": "stderr",
     "output_type": "stream",
     "text": [
      "127.0.0.1 - - [11/May/2022 11:57:07] \"\u001b[37mPOST /_dash-update-component HTTP/1.1\u001b[0m\" 200 -\n",
      "127.0.0.1 - - [11/May/2022 11:57:07] \"\u001b[37mPOST /_dash-update-component HTTP/1.1\u001b[0m\" 200 -\n"
     ]
    },
    {
     "name": "stdout",
     "output_type": "stream",
     "text": [
      "I feel \n",
      "  document  n_tokens  n_i\n",
      "0  I feel          2    1\n"
     ]
    },
    {
     "name": "stderr",
     "output_type": "stream",
     "text": [
      "127.0.0.1 - - [11/May/2022 11:57:08] \"\u001b[37mPOST /_dash-update-component HTTP/1.1\u001b[0m\" 200 -\n"
     ]
    },
    {
     "name": "stdout",
     "output_type": "stream",
     "text": [
      "I feel e\n",
      "   document  n_tokens  n_i\n",
      "0  I feel e         3    1\n",
      "I feel en\n",
      "    document  n_tokens  n_i\n",
      "0  I feel en         3    1\n",
      "I feel ene\n"
     ]
    },
    {
     "name": "stderr",
     "output_type": "stream",
     "text": [
      "127.0.0.1 - - [11/May/2022 11:57:08] \"\u001b[37mPOST /_dash-update-component HTTP/1.1\u001b[0m\" 200 -\n",
      "127.0.0.1 - - [11/May/2022 11:57:08] \"\u001b[37mPOST /_dash-update-component HTTP/1.1\u001b[0m\" 200 -\n",
      "127.0.0.1 - - [11/May/2022 11:57:08] \"\u001b[37mPOST /_dash-update-component HTTP/1.1\u001b[0m\" 200 -\n"
     ]
    },
    {
     "name": "stdout",
     "output_type": "stream",
     "text": [
      "     document  n_tokens  n_i\n",
      "0  I feel ene         3    1\n",
      "I feel ener\n",
      "      document  n_tokens  n_i\n",
      "0  I feel ener         3    1\n"
     ]
    },
    {
     "name": "stderr",
     "output_type": "stream",
     "text": [
      "127.0.0.1 - - [11/May/2022 11:57:08] \"\u001b[37mPOST /_dash-update-component HTTP/1.1\u001b[0m\" 200 -\n"
     ]
    },
    {
     "name": "stdout",
     "output_type": "stream",
     "text": [
      "I feel energ\n",
      "       document  n_tokens  n_i\n",
      "0  I feel energ         3    1\n"
     ]
    },
    {
     "name": "stderr",
     "output_type": "stream",
     "text": [
      "127.0.0.1 - - [11/May/2022 11:57:09] \"\u001b[37mPOST /_dash-update-component HTTP/1.1\u001b[0m\" 200 -\n"
     ]
    },
    {
     "name": "stdout",
     "output_type": "stream",
     "text": [
      "I feel energi\n",
      "        document  n_tokens  n_i\n",
      "0  I feel energi         3    1\n",
      "I feel energiz\n",
      "I feel energize\n",
      "I feel energized\n",
      "         document  n_tokens  n_i\n",
      "0  I feel energiz         3    1\n"
     ]
    },
    {
     "name": "stderr",
     "output_type": "stream",
     "text": [
      "127.0.0.1 - - [11/May/2022 11:57:11] \"\u001b[37mPOST /_dash-update-component HTTP/1.1\u001b[0m\" 200 -\n",
      "127.0.0.1 - - [11/May/2022 11:57:11] \"\u001b[37mPOST /_dash-update-component HTTP/1.1\u001b[0m\" 200 -\n",
      "127.0.0.1 - - [11/May/2022 11:57:11] \"\u001b[37mPOST /_dash-update-component HTTP/1.1\u001b[0m\" 200 -\n"
     ]
    },
    {
     "name": "stdout",
     "output_type": "stream",
     "text": [
      "           document  n_tokens  n_i\n",
      "0  I feel energized         3    1\n",
      "          document  n_tokens  n_i\n",
      "0  I feel energize         3    1\n",
      "I feel energize\n",
      "I feel energiz\n",
      "I feel energI feel energi\n",
      "\n",
      "I feel ener\n",
      "I feel ene\n",
      "     document  n_tokens  n_i\n",
      "0  I feel ene         3    1\n",
      "      document  n_tokens  n_i\n",
      "0  I feel ener         3    1       document  n_tokens  n_i\n",
      "0  I feel energ         3    1\n",
      "        document  n_tokens  n_i\n",
      "0  I feel energi         3    1\n",
      "\n"
     ]
    },
    {
     "name": "stderr",
     "output_type": "stream",
     "text": [
      "127.0.0.1 - - [11/May/2022 11:57:29] \"\u001b[37mPOST /_dash-update-component HTTP/1.1\u001b[0m\" 200 -\n",
      "127.0.0.1 - - [11/May/2022 11:57:29] \"\u001b[37mPOST /_dash-update-component HTTP/1.1\u001b[0m\" 200 -\n",
      "127.0.0.1 - - [11/May/2022 11:57:30] \"\u001b[37mPOST /_dash-update-component HTTP/1.1\u001b[0m\" 200 -\n",
      "127.0.0.1 - - [11/May/2022 11:57:30] \"\u001b[37mPOST /_dash-update-component HTTP/1.1\u001b[0m\" 200 -\n",
      "127.0.0.1 - - [11/May/2022 11:57:30] \"\u001b[37mPOST /_dash-update-component HTTP/1.1\u001b[0m\" 200 -\n",
      "127.0.0.1 - - [11/May/2022 11:57:30] \"\u001b[37mPOST /_dash-update-component HTTP/1.1\u001b[0m\" 200 -\n"
     ]
    },
    {
     "name": "stdout",
     "output_type": "stream",
     "text": [
      "          document  n_tokens  n_i\n",
      "0  I feel energize         3    1\n",
      "         document  n_tokens  n_i\n",
      "0  I feel energiz         3    1\n",
      "I feel en\n"
     ]
    },
    {
     "name": "stderr",
     "output_type": "stream",
     "text": [
      "127.0.0.1 - - [11/May/2022 11:57:30] \"\u001b[37mPOST /_dash-update-component HTTP/1.1\u001b[0m\" 200 -\n"
     ]
    },
    {
     "name": "stdout",
     "output_type": "stream",
     "text": [
      "I feel eI feel \n",
      "\n",
      "    document  n_tokens  n_i\n",
      "0  I feel en         3    1\n",
      "   document  n_tokens  n_i\n",
      "0  I feel e         3    1\n",
      "  document  n_tokens  n_i\n",
      "0  I feel          2    1\n"
     ]
    },
    {
     "name": "stderr",
     "output_type": "stream",
     "text": [
      "127.0.0.1 - - [11/May/2022 11:57:30] \"\u001b[37mPOST /_dash-update-component HTTP/1.1\u001b[0m\" 200 -\n",
      "127.0.0.1 - - [11/May/2022 11:57:30] \"\u001b[37mPOST /_dash-update-component HTTP/1.1\u001b[0m\" 200 -\n",
      "127.0.0.1 - - [11/May/2022 11:57:30] \"\u001b[37mPOST /_dash-update-component HTTP/1.1\u001b[0m\" 200 -\n"
     ]
    },
    {
     "name": "stdout",
     "output_type": "stream",
     "text": [
      "I feel a\n",
      "   document  n_tokens  n_i\n",
      "0  I feel a         3    1\n",
      "I feel ab\n",
      "    document  n_tokens  n_i\n",
      "0  I feel ab         3    1"
     ]
    },
    {
     "name": "stderr",
     "output_type": "stream",
     "text": [
      "127.0.0.1 - - [11/May/2022 11:57:31] \"\u001b[37mPOST /_dash-update-component HTTP/1.1\u001b[0m\" 200 -\n"
     ]
    },
    {
     "name": "stdout",
     "output_type": "stream",
     "text": [
      "\n"
     ]
    },
    {
     "name": "stderr",
     "output_type": "stream",
     "text": [
      "127.0.0.1 - - [11/May/2022 11:57:31] \"\u001b[37mPOST /_dash-update-component HTTP/1.1\u001b[0m\" 200 -\n"
     ]
    },
    {
     "name": "stdout",
     "output_type": "stream",
     "text": [
      "I feel abs\n",
      "     document  n_tokens  n_i\n",
      "0  I feel abs         3    1\n",
      "I feel absu\n",
      "I feel absur\n"
     ]
    },
    {
     "name": "stderr",
     "output_type": "stream",
     "text": [
      "127.0.0.1 - - [11/May/2022 11:57:32] \"\u001b[37mPOST /_dash-update-component HTTP/1.1\u001b[0m\" 200 -\n",
      "127.0.0.1 - - [11/May/2022 11:57:32] \"\u001b[37mPOST /_dash-update-component HTTP/1.1\u001b[0m\" 200 -\n",
      "127.0.0.1 - - [11/May/2022 11:57:32] \"\u001b[37mPOST /_dash-update-component HTTP/1.1\u001b[0m\" 200 -\n"
     ]
    },
    {
     "name": "stdout",
     "output_type": "stream",
     "text": [
      "I feel absurd\n",
      "       document  n_tokens  n_i\n",
      "0  I feel absur         3    1\n",
      "        document  n_tokens  n_i\n",
      "0  I feel absurd         3    1\n",
      "      document  n_tokens  n_i\n",
      "0  I feel absu         3    1\n"
     ]
    },
    {
     "name": "stderr",
     "output_type": "stream",
     "text": [
      "127.0.0.1 - - [11/May/2022 11:57:47] \"\u001b[37mPOST /_dash-update-component HTTP/1.1\u001b[0m\" 200 -\n"
     ]
    },
    {
     "name": "stdout",
     "output_type": "stream",
     "text": [
      "I feel absur\n",
      "       document  n_tokens  n_i\n",
      "0  I feel absur         3    1\n",
      "I feel absu\n"
     ]
    },
    {
     "name": "stderr",
     "output_type": "stream",
     "text": [
      "127.0.0.1 - - [11/May/2022 11:57:48] \"\u001b[37mPOST /_dash-update-component HTTP/1.1\u001b[0m\" 200 -\n",
      "127.0.0.1 - - [11/May/2022 11:57:48] \"\u001b[37mPOST /_dash-update-component HTTP/1.1\u001b[0m\" 200 -\n"
     ]
    },
    {
     "name": "stdout",
     "output_type": "stream",
     "text": [
      "I feel abs\n",
      "      document  n_tokens  n_i\n",
      "0  I feel absu         3    1\n",
      "     document  n_tokens  n_i\n",
      "0  I feel abs         3    1\n",
      "I feel ab\n"
     ]
    },
    {
     "name": "stderr",
     "output_type": "stream",
     "text": [
      "127.0.0.1 - - [11/May/2022 11:57:48] \"\u001b[37mPOST /_dash-update-component HTTP/1.1\u001b[0m\" 200 -\n",
      "127.0.0.1 - - [11/May/2022 11:57:48] \"\u001b[37mPOST /_dash-update-component HTTP/1.1\u001b[0m\" 200 -\n"
     ]
    },
    {
     "name": "stdout",
     "output_type": "stream",
     "text": [
      "    document  n_tokens  n_i\n",
      "0  I feel ab         3    1\n",
      "I feel a\n",
      "   document  n_tokens  n_i\n",
      "0  I feel a         3    1\n"
     ]
    },
    {
     "name": "stderr",
     "output_type": "stream",
     "text": [
      "127.0.0.1 - - [11/May/2022 11:57:48] \"\u001b[37mPOST /_dash-update-component HTTP/1.1\u001b[0m\" 200 -\n"
     ]
    },
    {
     "name": "stdout",
     "output_type": "stream",
     "text": [
      "I feel \n",
      "  document  n_tokens  n_i\n",
      "0  I feel          2    1\n"
     ]
    },
    {
     "name": "stderr",
     "output_type": "stream",
     "text": [
      "127.0.0.1 - - [11/May/2022 11:57:49] \"\u001b[37mPOST /_dash-update-component HTTP/1.1\u001b[0m\" 200 -\n"
     ]
    },
    {
     "name": "stdout",
     "output_type": "stream",
     "text": [
      "I feel p\n",
      "   document  n_tokens  n_i\n",
      "0  I feel p         3    1\n"
     ]
    },
    {
     "name": "stderr",
     "output_type": "stream",
     "text": [
      "127.0.0.1 - - [11/May/2022 11:57:49] \"\u001b[37mPOST /_dash-update-component HTTP/1.1\u001b[0m\" 200 -\n"
     ]
    },
    {
     "name": "stdout",
     "output_type": "stream",
     "text": [
      "I feel pi\n",
      "    document  n_tokens  n_i\n",
      "0  I feel pi         3    1\n"
     ]
    },
    {
     "name": "stderr",
     "output_type": "stream",
     "text": [
      "127.0.0.1 - - [11/May/2022 11:57:50] \"\u001b[37mPOST /_dash-update-component HTTP/1.1\u001b[0m\" 200 -\n"
     ]
    },
    {
     "name": "stdout",
     "output_type": "stream",
     "text": [
      "I feel pis\n",
      "     document  n_tokens  n_i\n",
      "0  I feel pis         3    1\n"
     ]
    },
    {
     "name": "stderr",
     "output_type": "stream",
     "text": [
      "127.0.0.1 - - [11/May/2022 11:57:50] \"\u001b[37mPOST /_dash-update-component HTTP/1.1\u001b[0m\" 200 -\n"
     ]
    },
    {
     "name": "stdout",
     "output_type": "stream",
     "text": [
      "I feel piss\n",
      "      document  n_tokens  n_i\n",
      "0  I feel piss         3    1\n",
      "I feel pisse\n",
      "       document  n_tokens  n_i\n",
      "0  I feel pisse         3    1"
     ]
    },
    {
     "name": "stderr",
     "output_type": "stream",
     "text": [
      "127.0.0.1 - - [11/May/2022 11:57:50] \"\u001b[37mPOST /_dash-update-component HTTP/1.1\u001b[0m\" 200 -\n"
     ]
    },
    {
     "name": "stdout",
     "output_type": "stream",
     "text": [
      "\n",
      "I feel pissed\n",
      "        document  n_tokens  n_i\n",
      "0  I feel pissed         3    1I feel pissed \n"
     ]
    },
    {
     "name": "stderr",
     "output_type": "stream",
     "text": [
      "127.0.0.1 - - [11/May/2022 11:57:50] \"\u001b[37mPOST /_dash-update-component HTTP/1.1\u001b[0m\" 200 -\n",
      "127.0.0.1 - - [11/May/2022 11:57:50] \"\u001b[37mPOST /_dash-update-component HTTP/1.1\u001b[0m\" 200 -\n"
     ]
    },
    {
     "name": "stdout",
     "output_type": "stream",
     "text": [
      "\n",
      "         document  n_tokens  n_i\n",
      "0  I feel pissed          3    1\n",
      "I feel pissed o\n",
      "I feel pissed of"
     ]
    },
    {
     "name": "stderr",
     "output_type": "stream",
     "text": [
      "127.0.0.1 - - [11/May/2022 11:57:51] \"\u001b[37mPOST /_dash-update-component HTTP/1.1\u001b[0m\" 200 -\n",
      "127.0.0.1 - - [11/May/2022 11:57:51] \"\u001b[37mPOST /_dash-update-component HTTP/1.1\u001b[0m\" 200 -\n",
      "127.0.0.1 - - [11/May/2022 11:57:51] \"\u001b[37mPOST /_dash-update-component HTTP/1.1\u001b[0m\" 200 -\n"
     ]
    },
    {
     "name": "stdout",
     "output_type": "stream",
     "text": [
      "\n",
      "          document  n_tokens  n_i\n",
      "0  I feel pissed o         4    1\n",
      "I feel pissed off           document  n_tokens  n_i\n",
      "0  I feel pissed of         4    1\n",
      "\n",
      "            document  n_tokens  n_i\n",
      "0  I feel pissed off         4    1\n"
     ]
    },
    {
     "name": "stderr",
     "output_type": "stream",
     "text": [
      "127.0.0.1 - - [11/May/2022 11:57:58] \"\u001b[37mPOST /_dash-update-component HTTP/1.1\u001b[0m\" 200 -\n"
     ]
    },
    {
     "name": "stdout",
     "output_type": "stream",
     "text": [
      "I feel pissed of\n",
      "           document  n_tokens  n_i\n",
      "0  I feel pissed of         4    1\n",
      "I feel pissed o\n",
      "          document  n_tokens  n_i\n",
      "0  I feel pissed o         4    1I feel pissed \n",
      "\n",
      "I feel pissed\n",
      "I feel pisse\n",
      "I feel piss\n"
     ]
    },
    {
     "name": "stderr",
     "output_type": "stream",
     "text": [
      "127.0.0.1 - - [11/May/2022 11:57:59] \"\u001b[37mPOST /_dash-update-component HTTP/1.1\u001b[0m\" 200 -\n",
      "127.0.0.1 - - [11/May/2022 11:57:59] \"\u001b[37mPOST /_dash-update-component HTTP/1.1\u001b[0m\" 200 -\n",
      "127.0.0.1 - - [11/May/2022 11:57:59] \"\u001b[37mPOST /_dash-update-component HTTP/1.1\u001b[0m\" 200 -\n"
     ]
    },
    {
     "name": "stdout",
     "output_type": "stream",
     "text": [
      "         document  n_tokens  n_i\n",
      "0  I feel pissed          3    1I feel pis\n",
      "\n",
      "      document  n_tokens  n_i\n",
      "0  I feel piss         3    1        document  n_tokens  n_i\n",
      "0  I feel pissed         3    1\n",
      "\n",
      "     document  n_tokens  n_i\n",
      "0  I feel pis         3    1       document  n_tokens  n_i\n",
      "0  I feel pisse         3    1\n",
      "\n",
      "I feel pi"
     ]
    },
    {
     "name": "stderr",
     "output_type": "stream",
     "text": [
      "127.0.0.1 - - [11/May/2022 11:57:59] \"\u001b[37mPOST /_dash-update-component HTTP/1.1\u001b[0m\" 200 -\n",
      "127.0.0.1 - - [11/May/2022 11:57:59] \"\u001b[37mPOST /_dash-update-component HTTP/1.1\u001b[0m\" 200 -\n",
      "127.0.0.1 - - [11/May/2022 11:57:59] \"\u001b[37mPOST /_dash-update-component HTTP/1.1\u001b[0m\" 200 -\n"
     ]
    },
    {
     "name": "stdout",
     "output_type": "stream",
     "text": [
      "\n",
      "I feel p\n",
      "    document  n_tokens  n_i\n",
      "0  I feel pi         3    1\n",
      "I feel    document  n_tokens  n_i\n",
      "0  I feel p         3    1\n",
      "\n",
      "I feel"
     ]
    },
    {
     "name": "stderr",
     "output_type": "stream",
     "text": [
      "127.0.0.1 - - [11/May/2022 11:58:00] \"\u001b[37mPOST /_dash-update-component HTTP/1.1\u001b[0m\" 200 -\n",
      "127.0.0.1 - - [11/May/2022 11:58:00] \"\u001b[37mPOST /_dash-update-component HTTP/1.1\u001b[0m\" 200 -\n",
      "127.0.0.1 - - [11/May/2022 11:58:00] \"\u001b[37mPOST /_dash-update-component HTTP/1.1\u001b[0m\" 200 -\n",
      "127.0.0.1 - - [11/May/2022 11:58:00] \"\u001b[37mPOST /_dash-update-component HTTP/1.1\u001b[0m\" 200 -\n",
      "127.0.0.1 - - [11/May/2022 11:58:00] \"\u001b[37mPOST /_dash-update-component HTTP/1.1\u001b[0m\" 200 -\n",
      "127.0.0.1 - - [11/May/2022 11:58:00] \"\u001b[37mPOST /_dash-update-component HTTP/1.1\u001b[0m\" 200 -\n"
     ]
    },
    {
     "name": "stdout",
     "output_type": "stream",
     "text": [
      "I fee\n",
      "\n",
      "I fe\n",
      "  document  n_tokens  n_i\n",
      "0    I fee         2    1  document  n_tokens  n_i\n",
      "0  I feel          2    1\n",
      "\n",
      "  document  n_tokens  n_i\n",
      "0   I feel         2    1\n",
      "  document  n_tokens  n_i\n",
      "0     I fe         2    1\n",
      "I f"
     ]
    },
    {
     "name": "stderr",
     "output_type": "stream",
     "text": [
      "127.0.0.1 - - [11/May/2022 11:58:00] \"\u001b[37mPOST /_dash-update-component HTTP/1.1\u001b[0m\" 200 -\n",
      "127.0.0.1 - - [11/May/2022 11:58:00] \"\u001b[37mPOST /_dash-update-component HTTP/1.1\u001b[0m\" 200 -\n"
     ]
    },
    {
     "name": "stdout",
     "output_type": "stream",
     "text": [
      "\n",
      "I \n",
      "  document  n_tokens  n_i\n",
      "0      I f         2    1\n",
      "  document  n_tokens  n_i\n",
      "0       I          1    1\n"
     ]
    },
    {
     "name": "stderr",
     "output_type": "stream",
     "text": [
      "127.0.0.1 - - [11/May/2022 11:58:01] \"\u001b[37mPOST /_dash-update-component HTTP/1.1\u001b[0m\" 200 -\n",
      "127.0.0.1 - - [11/May/2022 11:58:01] \"\u001b[37mPOST /_dash-update-component HTTP/1.1\u001b[0m\" 200 -\n"
     ]
    },
    {
     "name": "stdout",
     "output_type": "stream",
     "text": [
      "I a\n",
      "  document  n_tokens  n_i\n",
      "0      I a         2    1\n",
      "I am\n",
      "  document  n_tokens  n_i\n",
      "0     I am         2    1\n",
      "I am \n"
     ]
    },
    {
     "name": "stderr",
     "output_type": "stream",
     "text": [
      "127.0.0.1 - - [11/May/2022 11:58:01] \"\u001b[37mPOST /_dash-update-component HTTP/1.1\u001b[0m\" 200 -\n",
      "127.0.0.1 - - [11/May/2022 11:58:01] \"\u001b[37mPOST /_dash-update-component HTTP/1.1\u001b[0m\" 200 -\n"
     ]
    },
    {
     "name": "stdout",
     "output_type": "stream",
     "text": [
      "  document  n_tokens  n_i\n",
      "0    I am          2    1\n",
      "I am t\n",
      "  document  n_tokens  n_i\n",
      "0   I am t         3    1\n",
      "I am ti\n",
      "I am tir  document  n_tokens  n_i\n",
      "0  I am ti         3    1\n",
      "\n",
      "   document  n_tokens  n_i\n",
      "0  I am tir         3    1\n"
     ]
    },
    {
     "name": "stderr",
     "output_type": "stream",
     "text": [
      "127.0.0.1 - - [11/May/2022 11:58:02] \"\u001b[37mPOST /_dash-update-component HTTP/1.1\u001b[0m\" 200 -\n",
      "127.0.0.1 - - [11/May/2022 11:58:02] \"\u001b[37mPOST /_dash-update-component HTTP/1.1\u001b[0m\" 200 -\n",
      "127.0.0.1 - - [11/May/2022 11:58:02] \"\u001b[37mPOST /_dash-update-component HTTP/1.1\u001b[0m\" 200 -\n"
     ]
    },
    {
     "name": "stdout",
     "output_type": "stream",
     "text": [
      "I am tire\n",
      "    document  n_tokens  n_i\n",
      "0  I am tire         3    1\n",
      "I am tired\n",
      "     document  n_tokens  n_i\n",
      "0  I am tired         3    1"
     ]
    },
    {
     "name": "stderr",
     "output_type": "stream",
     "text": [
      "127.0.0.1 - - [11/May/2022 11:58:02] \"\u001b[37mPOST /_dash-update-component HTTP/1.1\u001b[0m\" 200 -\n"
     ]
    },
    {
     "name": "stdout",
     "output_type": "stream",
     "text": [
      "\n"
     ]
    },
    {
     "name": "stderr",
     "output_type": "stream",
     "text": [
      "127.0.0.1 - - [11/May/2022 11:58:21] \"\u001b[37mPOST /_dash-update-component HTTP/1.1\u001b[0m\" 200 -\n",
      "127.0.0.1 - - [11/May/2022 11:58:21] \"\u001b[37mPOST /_dash-update-component HTTP/1.1\u001b[0m\" 200 -\n"
     ]
    },
    {
     "name": "stdout",
     "output_type": "stream",
     "text": [
      "I am tire\n",
      "    document  n_tokens  n_i\n",
      "0  I am tire         3    1\n",
      "I am tir\n",
      "   document  n_tokens  n_i\n",
      "0  I am tir         3    1\n"
     ]
    },
    {
     "name": "stderr",
     "output_type": "stream",
     "text": [
      "127.0.0.1 - - [11/May/2022 11:58:21] \"\u001b[37mPOST /_dash-update-component HTTP/1.1\u001b[0m\" 200 -\n"
     ]
    },
    {
     "name": "stdout",
     "output_type": "stream",
     "text": [
      "I am ti\n",
      "  document  n_tokens  n_i\n",
      "0  I am ti         3    1\n",
      "I am t\n",
      "  document  n_tokens  n_i\n",
      "0   I am t         3    1\n"
     ]
    },
    {
     "name": "stderr",
     "output_type": "stream",
     "text": [
      "127.0.0.1 - - [11/May/2022 11:58:21] \"\u001b[37mPOST /_dash-update-component HTTP/1.1\u001b[0m\" 200 -\n"
     ]
    },
    {
     "name": "stdout",
     "output_type": "stream",
     "text": [
      "I am \n",
      "  document  n_tokens  n_i\n",
      "0    I am          2    1\n"
     ]
    },
    {
     "name": "stderr",
     "output_type": "stream",
     "text": [
      "127.0.0.1 - - [11/May/2022 11:58:22] \"\u001b[37mPOST /_dash-update-component HTTP/1.1\u001b[0m\" 200 -\n",
      "127.0.0.1 - - [11/May/2022 11:58:23] \"\u001b[37mPOST /_dash-update-component HTTP/1.1\u001b[0m\" 200 -\n",
      "127.0.0.1 - - [11/May/2022 11:58:23] \"\u001b[37mPOST /_dash-update-component HTTP/1.1\u001b[0m\" 200 -\n"
     ]
    },
    {
     "name": "stdout",
     "output_type": "stream",
     "text": [
      "I am f\n",
      "  document  n_tokens  n_i\n",
      "0   I am f         3    1\n",
      "I am fe\n",
      "  document  n_tokens  n_i\n",
      "0  I am fe         3    1\n"
     ]
    },
    {
     "name": "stderr",
     "output_type": "stream",
     "text": [
      "127.0.0.1 - - [11/May/2022 11:58:23] \"\u001b[37mPOST /_dash-update-component HTTP/1.1\u001b[0m\" 200 -\n"
     ]
    },
    {
     "name": "stdout",
     "output_type": "stream",
     "text": [
      "I am fee\n",
      "   document  n_tokens  n_i\n",
      "0  I am fee         3    1\n",
      "I am feel"
     ]
    },
    {
     "name": "stderr",
     "output_type": "stream",
     "text": [
      "127.0.0.1 - - [11/May/2022 11:58:24] \"\u001b[37mPOST /_dash-update-component HTTP/1.1\u001b[0m\" 200 -\n"
     ]
    },
    {
     "name": "stdout",
     "output_type": "stream",
     "text": [
      "\n",
      "    document  n_tokens  n_i\n",
      "0  I am feel         3    1\n",
      "I am feeli\n",
      "     document  n_tokens  n_i\n",
      "0  I am feeli         3    1I am feelin\n",
      "\n",
      "      document  n_tokens  n_i\n",
      "0  I am feelin         3    1I am feeling\n"
     ]
    },
    {
     "name": "stderr",
     "output_type": "stream",
     "text": [
      "127.0.0.1 - - [11/May/2022 11:58:24] \"\u001b[37mPOST /_dash-update-component HTTP/1.1\u001b[0m\" 200 -\n",
      "127.0.0.1 - - [11/May/2022 11:58:24] \"\u001b[37mPOST /_dash-update-component HTTP/1.1\u001b[0m\" 200 -\n"
     ]
    },
    {
     "name": "stdout",
     "output_type": "stream",
     "text": [
      "\n",
      "       document  n_tokens  n_i\n",
      "0  I am feeling         3    1\n",
      "I am feeling \n",
      "        document  n_tokens  n_i\n",
      "0  I am feeling          3    1\n"
     ]
    },
    {
     "name": "stderr",
     "output_type": "stream",
     "text": [
      "127.0.0.1 - - [11/May/2022 11:58:24] \"\u001b[37mPOST /_dash-update-component HTTP/1.1\u001b[0m\" 200 -\n",
      "127.0.0.1 - - [11/May/2022 11:58:24] \"\u001b[37mPOST /_dash-update-component HTTP/1.1\u001b[0m\" 200 -\n",
      "127.0.0.1 - - [11/May/2022 11:58:24] \"\u001b[37mPOST /_dash-update-component HTTP/1.1\u001b[0m\" 200 -\n",
      "127.0.0.1 - - [11/May/2022 11:58:24] \"\u001b[37mPOST /_dash-update-component HTTP/1.1\u001b[0m\" 200 -\n"
     ]
    },
    {
     "name": "stdout",
     "output_type": "stream",
     "text": [
      "I am feeling s\n",
      "         document  n_tokens  n_i\n",
      "0  I am feeling s         4    1\n",
      "I am feeling so\n",
      "          document  n_tokens  n_i\n",
      "0  I am feeling so         4    1\n",
      "I am feeling so \n",
      "           document  n_tokens  n_i\n",
      "0  I am feeling so          4    1\n"
     ]
    },
    {
     "name": "stderr",
     "output_type": "stream",
     "text": [
      "127.0.0.1 - - [11/May/2022 11:58:24] \"\u001b[37mPOST /_dash-update-component HTTP/1.1\u001b[0m\" 200 -\n",
      "127.0.0.1 - - [11/May/2022 11:58:25] \"\u001b[37mPOST /_dash-update-component HTTP/1.1\u001b[0m\" 200 -\n"
     ]
    },
    {
     "name": "stdout",
     "output_type": "stream",
     "text": [
      "I am feeling so l\n",
      "            document  n_tokens  n_i\n",
      "0  I am feeling so l         5    1\n",
      "I am feeling so lo\n",
      "             document  n_tokens  n_i\n",
      "0  I am feeling so lo         5    1\n"
     ]
    },
    {
     "name": "stderr",
     "output_type": "stream",
     "text": [
      "127.0.0.1 - - [11/May/2022 11:58:25] \"\u001b[37mPOST /_dash-update-component HTTP/1.1\u001b[0m\" 200 -\n",
      "127.0.0.1 - - [11/May/2022 11:58:25] \"\u001b[37mPOST /_dash-update-component HTTP/1.1\u001b[0m\" 200 -\n",
      "127.0.0.1 - - [11/May/2022 11:58:25] \"\u001b[37mPOST /_dash-update-component HTTP/1.1\u001b[0m\" 200 -\n"
     ]
    },
    {
     "name": "stdout",
     "output_type": "stream",
     "text": [
      "I am feeling so lov\n",
      "              document  n_tokens  n_i\n",
      "0  I am feeling so lov         5    1I am feeling so love\n",
      "\n",
      "               document  n_tokens  n_i\n",
      "0  I am feeling so love         5    1\n"
     ]
    },
    {
     "name": "stderr",
     "output_type": "stream",
     "text": [
      "127.0.0.1 - - [11/May/2022 11:58:25] \"\u001b[37mPOST /_dash-update-component HTTP/1.1\u001b[0m\" 200 -\n"
     ]
    },
    {
     "name": "stdout",
     "output_type": "stream",
     "text": [
      "I am feeling so loved\n",
      "                document  n_tokens  n_i\n",
      "0  I am feeling so loved         5    1\n"
     ]
    },
    {
     "name": "stderr",
     "output_type": "stream",
     "text": [
      "127.0.0.1 - - [11/May/2022 11:58:35] \"\u001b[37mPOST /_dash-update-component HTTP/1.1\u001b[0m\" 200 -\n"
     ]
    },
    {
     "name": "stdout",
     "output_type": "stream",
     "text": [
      "I \n",
      "  document  n_tokens  n_i\n",
      "0       I          1    1\n"
     ]
    },
    {
     "name": "stderr",
     "output_type": "stream",
     "text": [
      "127.0.0.1 - - [11/May/2022 11:58:35] \"\u001b[37mPOST /_dash-update-component HTTP/1.1\u001b[0m\" 200 -\n"
     ]
    },
    {
     "name": "stdout",
     "output_type": "stream",
     "text": [
      "I d\n",
      "  document  n_tokens  n_i\n",
      "0      I d         2    1\n",
      "I di\n",
      "I did\n",
      "  document  n_tokens  n_i\n",
      "0     I di         2    1\n",
      "  document  n_tokens  n_i\n",
      "0    I did         2    1I did "
     ]
    },
    {
     "name": "stderr",
     "output_type": "stream",
     "text": [
      "127.0.0.1 - - [11/May/2022 11:58:35] \"\u001b[37mPOST /_dash-update-component HTTP/1.1\u001b[0m\" 200 -\n",
      "127.0.0.1 - - [11/May/2022 11:58:35] \"\u001b[37mPOST /_dash-update-component HTTP/1.1\u001b[0m\" 200 -\n",
      "127.0.0.1 - - [11/May/2022 11:58:35] \"\u001b[37mPOST /_dash-update-component HTTP/1.1\u001b[0m\" 200 -\n"
     ]
    },
    {
     "name": "stdout",
     "output_type": "stream",
     "text": [
      "\n",
      "\n",
      "  document  n_tokens  n_i\n",
      "0   I did          2    1\n",
      "I did n\n",
      "I did no  document  n_tokens  n_i\n",
      "0  I did n         3    1I did not\n",
      "\n",
      "\n",
      "I did not \n",
      "   document  n_tokens  n_i\n",
      "0  I did no         3    1    document  n_tokens  n_i\n",
      "0  I did not         3    1\n",
      "\n",
      "     document  n_tokens  n_i\n",
      "0  I did not          3    1\n",
      "I did not e\n"
     ]
    },
    {
     "name": "stderr",
     "output_type": "stream",
     "text": [
      "127.0.0.1 - - [11/May/2022 11:58:36] \"\u001b[37mPOST /_dash-update-component HTTP/1.1\u001b[0m\" 200 -\n",
      "127.0.0.1 - - [11/May/2022 11:58:36] \"\u001b[37mPOST /_dash-update-component HTTP/1.1\u001b[0m\" 200 -\n",
      "127.0.0.1 - - [11/May/2022 11:58:36] \"\u001b[37mPOST /_dash-update-component HTTP/1.1\u001b[0m\" 200 -\n",
      "127.0.0.1 - - [11/May/2022 11:58:36] \"\u001b[37mPOST /_dash-update-component HTTP/1.1\u001b[0m\" 200 -\n",
      "127.0.0.1 - - [11/May/2022 11:58:36] \"\u001b[37mPOST /_dash-update-component HTTP/1.1\u001b[0m\" 200 -\n",
      "127.0.0.1 - - [11/May/2022 11:58:36] \"\u001b[37mPOST /_dash-update-component HTTP/1.1\u001b[0m\" 200 -\n"
     ]
    },
    {
     "name": "stdout",
     "output_type": "stream",
     "text": [
      "      document  n_tokens  n_i\n",
      "0  I did not e         4    1\n",
      "I did not ex\n",
      "       document  n_tokens  n_i\n",
      "0  I did not ex         4    1\n",
      "I did not exp"
     ]
    },
    {
     "name": "stderr",
     "output_type": "stream",
     "text": [
      "127.0.0.1 - - [11/May/2022 11:58:36] \"\u001b[37mPOST /_dash-update-component HTTP/1.1\u001b[0m\" 200 -\n"
     ]
    },
    {
     "name": "stdout",
     "output_type": "stream",
     "text": [
      "\n",
      "I did not expe        document  n_tokens  n_i\n",
      "0  I did not exp         4    1\n",
      "\n",
      "         document  n_tokens  n_i\n",
      "0  I did not expe         4    1\n"
     ]
    },
    {
     "name": "stderr",
     "output_type": "stream",
     "text": [
      "127.0.0.1 - - [11/May/2022 11:58:36] \"\u001b[37mPOST /_dash-update-component HTTP/1.1\u001b[0m\" 200 -\n",
      "127.0.0.1 - - [11/May/2022 11:58:36] \"\u001b[37mPOST /_dash-update-component HTTP/1.1\u001b[0m\" 200 -\n"
     ]
    },
    {
     "name": "stdout",
     "output_type": "stream",
     "text": [
      "I did not expec\n",
      "          document  n_tokens  n_i\n",
      "0  I did not expec         4    1\n"
     ]
    },
    {
     "name": "stderr",
     "output_type": "stream",
     "text": [
      "127.0.0.1 - - [11/May/2022 11:58:36] \"\u001b[37mPOST /_dash-update-component HTTP/1.1\u001b[0m\" 200 -\n"
     ]
    },
    {
     "name": "stdout",
     "output_type": "stream",
     "text": [
      "I did not expect\n",
      "           document  n_tokens  n_i\n",
      "0  I did not expect         4    1\n"
     ]
    },
    {
     "name": "stderr",
     "output_type": "stream",
     "text": [
      "127.0.0.1 - - [11/May/2022 11:58:39] \"\u001b[37mPOST /_dash-update-component HTTP/1.1\u001b[0m\" 200 -\n"
     ]
    },
    {
     "name": "stdout",
     "output_type": "stream",
     "text": [
      "I did not expec\n",
      "          document  n_tokens  n_i\n",
      "0  I did not expec         4    1\n",
      "I did not expe\n",
      "I did not exp\n",
      "         document  n_tokens  n_i\n",
      "0  I did not expe         4    1\n",
      "I did not ex\n",
      "        document  n_tokens  n_i\n",
      "0  I did not exp         4    1\n",
      "I did not e\n",
      "I did not        document  n_tokens  n_i\n",
      "0  I did not ex         4    1\n",
      "I did not\n"
     ]
    },
    {
     "name": "stderr",
     "output_type": "stream",
     "text": [
      "127.0.0.1 - - [11/May/2022 11:58:40] \"\u001b[37mPOST /_dash-update-component HTTP/1.1\u001b[0m\" 200 -\n"
     ]
    },
    {
     "name": "stdout",
     "output_type": "stream",
     "text": [
      "\n",
      "     document  n_tokens  n_i\n",
      "0  I did not          3    1      document  n_tokens  n_i\n",
      "0  I did not e         4    1\n",
      "\n",
      "    document  n_tokens  n_i\n",
      "0  I did not         3    1\n"
     ]
    },
    {
     "name": "stderr",
     "output_type": "stream",
     "text": [
      "127.0.0.1 - - [11/May/2022 11:58:40] \"\u001b[37mPOST /_dash-update-component HTTP/1.1\u001b[0m\" 200 -\n",
      "127.0.0.1 - - [11/May/2022 11:58:40] \"\u001b[37mPOST /_dash-update-component HTTP/1.1\u001b[0m\" 200 -\n",
      "127.0.0.1 - - [11/May/2022 11:58:40] \"\u001b[37mPOST /_dash-update-component HTTP/1.1\u001b[0m\" 200 -\n",
      "127.0.0.1 - - [11/May/2022 11:58:40] \"\u001b[37mPOST /_dash-update-component HTTP/1.1\u001b[0m\" 200 -\n"
     ]
    },
    {
     "name": "stdout",
     "output_type": "stream",
     "text": [
      "I did no\n",
      "   document  n_tokens  n_i\n",
      "0  I did no         3    1I did n\n",
      "\n",
      "I did \n"
     ]
    },
    {
     "name": "stderr",
     "output_type": "stream",
     "text": [
      "127.0.0.1 - - [11/May/2022 11:58:40] \"\u001b[37mPOST /_dash-update-component HTTP/1.1\u001b[0m\" 200 -\n"
     ]
    },
    {
     "name": "stdout",
     "output_type": "stream",
     "text": [
      "  document  n_tokens  n_i\n",
      "0  I did n         3    1\n",
      "I did\n",
      "  document  n_tokens  n_i\n",
      "0   I did          2    1\n",
      "I di\n"
     ]
    },
    {
     "name": "stderr",
     "output_type": "stream",
     "text": [
      "127.0.0.1 - - [11/May/2022 11:58:41] \"\u001b[37mPOST /_dash-update-component HTTP/1.1\u001b[0m\" 200 -\n",
      "127.0.0.1 - - [11/May/2022 11:58:41] \"\u001b[37mPOST /_dash-update-component HTTP/1.1\u001b[0m\" 200 -\n"
     ]
    },
    {
     "name": "stdout",
     "output_type": "stream",
     "text": [
      "  document  n_tokens  n_i\n",
      "0    I did         2    1\n",
      "I d  document  n_tokens  n_i\n",
      "0     I di         2    1\n",
      "\n"
     ]
    },
    {
     "name": "stderr",
     "output_type": "stream",
     "text": [
      "127.0.0.1 - - [11/May/2022 11:58:41] \"\u001b[37mPOST /_dash-update-component HTTP/1.1\u001b[0m\" 200 -\n",
      "127.0.0.1 - - [11/May/2022 11:58:41] \"\u001b[37mPOST /_dash-update-component HTTP/1.1\u001b[0m\" 200 -\n",
      "127.0.0.1 - - [11/May/2022 11:58:41] \"\u001b[37mPOST /_dash-update-component HTTP/1.1\u001b[0m\" 200 -\n",
      "127.0.0.1 - - [11/May/2022 11:58:41] \"\u001b[37mPOST /_dash-update-component HTTP/1.1\u001b[0m\" 200 -\n",
      "127.0.0.1 - - [11/May/2022 11:58:41] \"\u001b[37mPOST /_dash-update-component HTTP/1.1\u001b[0m\" 200 -\n"
     ]
    },
    {
     "name": "stdout",
     "output_type": "stream",
     "text": [
      "I   document  n_tokens  n_i\n",
      "0      I d         2    1\n",
      "\n",
      "  document  n_tokens  n_i\n",
      "0       I          1    1\n"
     ]
    },
    {
     "name": "stderr",
     "output_type": "stream",
     "text": [
      "127.0.0.1 - - [11/May/2022 11:58:42] \"\u001b[37mPOST /_dash-update-component HTTP/1.1\u001b[0m\" 200 -\n"
     ]
    },
    {
     "name": "stdout",
     "output_type": "stream",
     "text": [
      "I c\n",
      "  document  n_tokens  n_i\n",
      "0      I c         2    1\n",
      "I ca"
     ]
    },
    {
     "name": "stderr",
     "output_type": "stream",
     "text": [
      "127.0.0.1 - - [11/May/2022 11:58:42] \"\u001b[37mPOST /_dash-update-component HTTP/1.1\u001b[0m\" 200 -\n",
      "127.0.0.1 - - [11/May/2022 11:58:42] \"\u001b[37mPOST /_dash-update-component HTTP/1.1\u001b[0m\" 200 -\n"
     ]
    },
    {
     "name": "stdout",
     "output_type": "stream",
     "text": [
      "\n",
      "  document  n_tokens  n_i\n",
      "0     I ca         2    1\n",
      "I can\n",
      "  document  n_tokens  n_i\n",
      "0    I can         2    1\n",
      "I cann\n",
      "  document  n_tokens  n_i\n",
      "0   I cann         2    1\n",
      "I canno\n"
     ]
    },
    {
     "name": "stderr",
     "output_type": "stream",
     "text": [
      "127.0.0.1 - - [11/May/2022 11:58:43] \"\u001b[37mPOST /_dash-update-component HTTP/1.1\u001b[0m\" 200 -\n",
      "127.0.0.1 - - [11/May/2022 11:58:43] \"\u001b[37mPOST /_dash-update-component HTTP/1.1\u001b[0m\" 200 -\n"
     ]
    },
    {
     "name": "stdout",
     "output_type": "stream",
     "text": [
      "I cannot  document  n_tokens  n_i\n",
      "0  I canno         2    1\n",
      "\n",
      "I cannot \n",
      "   document  n_tokens  n_i\n",
      "0  I cannot         3    1\n",
      "I cannot b"
     ]
    },
    {
     "name": "stderr",
     "output_type": "stream",
     "text": [
      "127.0.0.1 - - [11/May/2022 11:58:43] \"\u001b[37mPOST /_dash-update-component HTTP/1.1\u001b[0m\" 200 -\n"
     ]
    },
    {
     "name": "stdout",
     "output_type": "stream",
     "text": [
      "\n",
      "    document  n_tokens  n_i\n",
      "0  I cannot          3    1\n",
      "     document  n_tokens  n_i\n",
      "0  I cannot b         4    1\n",
      "I cannot be\n",
      "I cannot bel"
     ]
    },
    {
     "name": "stderr",
     "output_type": "stream",
     "text": [
      "127.0.0.1 - - [11/May/2022 11:58:43] \"\u001b[37mPOST /_dash-update-component HTTP/1.1\u001b[0m\" 200 -\n",
      "127.0.0.1 - - [11/May/2022 11:58:43] \"\u001b[37mPOST /_dash-update-component HTTP/1.1\u001b[0m\" 200 -\n"
     ]
    },
    {
     "name": "stdout",
     "output_type": "stream",
     "text": [
      "\n",
      "      document  n_tokens  n_i\n",
      "0  I cannot be         4    1\n",
      "I cannot beliI cannot belie\n",
      "       document  n_tokens  n_i\n",
      "0  I cannot bel         4    1\n",
      "\n",
      "I cannot believ\n"
     ]
    },
    {
     "name": "stderr",
     "output_type": "stream",
     "text": [
      "127.0.0.1 - - [11/May/2022 11:58:44] \"\u001b[37mPOST /_dash-update-component HTTP/1.1\u001b[0m\" 200 -\n",
      "127.0.0.1 - - [11/May/2022 11:58:44] \"\u001b[37mPOST /_dash-update-component HTTP/1.1\u001b[0m\" 200 -\n"
     ]
    },
    {
     "name": "stdout",
     "output_type": "stream",
     "text": [
      "         document  n_tokens  n_i\n",
      "0  I cannot belie         4    1        document  n_tokens  n_i\n",
      "0  I cannot beli         4    1\n",
      "\n",
      "I cannot believe\n",
      "          document  n_tokens  n_i\n",
      "0  I cannot believ         4    1\n",
      "           document  n_tokens  n_i\n",
      "0  I cannot believe         4    1"
     ]
    },
    {
     "name": "stderr",
     "output_type": "stream",
     "text": [
      "127.0.0.1 - - [11/May/2022 11:58:44] \"\u001b[37mPOST /_dash-update-component HTTP/1.1\u001b[0m\" 200 -\n"
     ]
    },
    {
     "name": "stdout",
     "output_type": "stream",
     "text": [
      "\n",
      "I cannot believe \n",
      "I cannot believe t\n"
     ]
    },
    {
     "name": "stderr",
     "output_type": "stream",
     "text": [
      "127.0.0.1 - - [11/May/2022 11:58:44] \"\u001b[37mPOST /_dash-update-component HTTP/1.1\u001b[0m\" 200 -\n",
      "127.0.0.1 - - [11/May/2022 11:58:44] \"\u001b[37mPOST /_dash-update-component HTTP/1.1\u001b[0m\" 200 -\n",
      "127.0.0.1 - - [11/May/2022 11:58:44] \"\u001b[37mPOST /_dash-update-component HTTP/1.1\u001b[0m\" 200 -\n",
      "127.0.0.1 - - [11/May/2022 11:58:44] \"\u001b[37mPOST /_dash-update-component HTTP/1.1\u001b[0m\" 200 -\n",
      "127.0.0.1 - - [11/May/2022 11:58:44] \"\u001b[37mPOST /_dash-update-component HTTP/1.1\u001b[0m\" 200 -\n",
      "127.0.0.1 - - [11/May/2022 11:58:44] \"\u001b[37mPOST /_dash-update-component HTTP/1.1\u001b[0m\" 200 -\n"
     ]
    },
    {
     "name": "stdout",
     "output_type": "stream",
     "text": [
      "            document  n_tokens  n_i\n",
      "0  I cannot believe          4    1             document  n_tokens  n_i\n",
      "0  I cannot believe t         5    1I cannot believe th\n",
      "\n",
      "\n",
      "              document  n_tokens  n_i\n",
      "0  I cannot believe th         5    1\n",
      "I cannot believe tha\n"
     ]
    },
    {
     "name": "stderr",
     "output_type": "stream",
     "text": [
      "127.0.0.1 - - [11/May/2022 11:58:44] \"\u001b[37mPOST /_dash-update-component HTTP/1.1\u001b[0m\" 200 -\n"
     ]
    },
    {
     "name": "stdout",
     "output_type": "stream",
     "text": [
      "               document  n_tokens  n_i\n",
      "0  I cannot believe tha         5    1\n",
      "I cannot believe that\n",
      "I cannot believe that I cannot believe that hI cannot believe that haI cannot believe that hap\n",
      "\n",
      "\n",
      "                document  n_tokens  n_i\n",
      "0  I cannot believe that         5    1\n",
      "\n",
      "                   document  n_tokens  n_i\n",
      "0  I cannot believe that ha         6    1\n",
      "I cannot believe that happ                 document  n_tokens  n_i\n",
      "0  I cannot believe that          5    1                    document  n_tokens  n_i\n",
      "0  I cannot believe that hap         6    1"
     ]
    },
    {
     "name": "stderr",
     "output_type": "stream",
     "text": [
      "127.0.0.1 - - [11/May/2022 11:58:45] \"\u001b[37mPOST /_dash-update-component HTTP/1.1\u001b[0m\" 200 -\n",
      "127.0.0.1 - - [11/May/2022 11:58:45] \"\u001b[37mPOST /_dash-update-component HTTP/1.1\u001b[0m\" 200 -\n",
      "127.0.0.1 - - [11/May/2022 11:58:45] \"\u001b[37mPOST /_dash-update-component HTTP/1.1\u001b[0m\" 200 -\n",
      "127.0.0.1 - - [11/May/2022 11:58:45] \"\u001b[37mPOST /_dash-update-component HTTP/1.1\u001b[0m\" 200 -\n",
      "127.0.0.1 - - [11/May/2022 11:58:45] \"\u001b[37mPOST /_dash-update-component HTTP/1.1\u001b[0m\" 200 -\n"
     ]
    },
    {
     "name": "stdout",
     "output_type": "stream",
     "text": [
      "\n",
      "                  document  n_tokens  n_i\n",
      "0  I cannot believe that h         6    1\n",
      "\n",
      "\n",
      "                     document  n_tokens  n_i\n",
      "0  I cannot believe that happ         6    1\n",
      "I cannot believe that happe"
     ]
    },
    {
     "name": "stderr",
     "output_type": "stream",
     "text": [
      "127.0.0.1 - - [11/May/2022 11:58:45] \"\u001b[37mPOST /_dash-update-component HTTP/1.1\u001b[0m\" 200 -\n",
      "127.0.0.1 - - [11/May/2022 11:58:45] \"\u001b[37mPOST /_dash-update-component HTTP/1.1\u001b[0m\" 200 -\n"
     ]
    },
    {
     "name": "stdout",
     "output_type": "stream",
     "text": [
      "\n",
      "                      document  n_tokens  n_i\n",
      "0  I cannot believe that happe         6    1\n",
      "I cannot believe that happenI cannot believe that happene\n",
      "I cannot believe that happened"
     ]
    },
    {
     "name": "stderr",
     "output_type": "stream",
     "text": [
      "127.0.0.1 - - [11/May/2022 11:58:46] \"\u001b[37mPOST /_dash-update-component HTTP/1.1\u001b[0m\" 200 -\n"
     ]
    },
    {
     "name": "stdout",
     "output_type": "stream",
     "text": [
      "\n",
      "\n",
      "                       document  n_tokens  n_i\n",
      "0  I cannot believe that happen         6    1                         document  n_tokens  n_i\n",
      "0  I cannot believe that happened         6    1\n",
      "\n",
      "                        document  n_tokens  n_i\n",
      "0  I cannot believe that happene         6    1\n"
     ]
    },
    {
     "name": "stderr",
     "output_type": "stream",
     "text": [
      "127.0.0.1 - - [11/May/2022 11:58:46] \"\u001b[37mPOST /_dash-update-component HTTP/1.1\u001b[0m\" 200 -\n",
      "127.0.0.1 - - [11/May/2022 11:58:46] \"\u001b[37mPOST /_dash-update-component HTTP/1.1\u001b[0m\" 200 -\n",
      "127.0.0.1 - - [11/May/2022 11:58:47] \"\u001b[37mPOST /_dash-update-component HTTP/1.1\u001b[0m\" 200 -\n"
     ]
    },
    {
     "name": "stdout",
     "output_type": "stream",
     "text": [
      "I cannot believe that happene\n",
      "                        document  n_tokens  n_i\n",
      "0  I cannot believe that happene         6    1\n",
      "I cannot believe that happen\n",
      "I cannot believe that happe\n",
      "I cannot believe that happ\n",
      "I cannot believe that hap\n",
      "                       document  n_tokens  n_i\n",
      "0  I cannot believe that happen         6    1\n",
      "                      document  n_tokens  n_i\n",
      "0  I cannot believe that happe         6    1I cannot believe that ha\n",
      "\n",
      "                     document  n_tokens  n_i\n",
      "0  I cannot believe that happ         6    1I cannot believe that h"
     ]
    },
    {
     "name": "stderr",
     "output_type": "stream",
     "text": [
      "127.0.0.1 - - [11/May/2022 11:58:48] \"\u001b[37mPOST /_dash-update-component HTTP/1.1\u001b[0m\" 200 -\n",
      "127.0.0.1 - - [11/May/2022 11:58:48] \"\u001b[37mPOST /_dash-update-component HTTP/1.1\u001b[0m\" 200 -\n",
      "127.0.0.1 - - [11/May/2022 11:58:48] \"\u001b[37mPOST /_dash-update-component HTTP/1.1\u001b[0m\" 200 -\n",
      "127.0.0.1 - - [11/May/2022 11:58:48] \"\u001b[37mPOST /_dash-update-component HTTP/1.1\u001b[0m\" 200 -\n",
      "127.0.0.1 - - [11/May/2022 11:58:48] \"\u001b[37mPOST /_dash-update-component HTTP/1.1\u001b[0m\" 200 -\n"
     ]
    },
    {
     "name": "stdout",
     "output_type": "stream",
     "text": [
      "\n",
      "\n",
      "                    document  n_tokens  n_i\n",
      "0  I cannot believe that hap         6    1\n",
      "                  document  n_tokens  n_i\n",
      "0  I cannot believe that h         6    1                   document  n_tokens  n_i\n",
      "0  I cannot believe that ha         6    1\n",
      "\n",
      "I cannot believe that "
     ]
    },
    {
     "name": "stderr",
     "output_type": "stream",
     "text": [
      "127.0.0.1 - - [11/May/2022 11:58:48] \"\u001b[37mPOST /_dash-update-component HTTP/1.1\u001b[0m\" 200 -\n"
     ]
    },
    {
     "name": "stdout",
     "output_type": "stream",
     "text": [
      "I cannot believe that\n",
      "\n",
      "I cannot believe tha\n",
      "I cannot believe th                 document  n_tokens  n_i\n",
      "0  I cannot believe that          5    1\n",
      "                document  n_tokens  n_i\n",
      "0  I cannot believe that         5    1\n",
      "\n",
      "I cannot believe t"
     ]
    },
    {
     "name": "stderr",
     "output_type": "stream",
     "text": [
      "127.0.0.1 - - [11/May/2022 11:58:49] \"\u001b[37mPOST /_dash-update-component HTTP/1.1\u001b[0m\" 200 -\n"
     ]
    },
    {
     "name": "stdout",
     "output_type": "stream",
     "text": [
      "\n",
      "               document  n_tokens  n_i\n",
      "0  I cannot believe tha         5    1\n",
      "              document  n_tokens  n_i\n",
      "0  I cannot believe th         5    1I cannot believe \n",
      "             document  n_tokens  n_i\n",
      "0  I cannot believe t         5    1\n",
      "\n"
     ]
    },
    {
     "name": "stderr",
     "output_type": "stream",
     "text": [
      "127.0.0.1 - - [11/May/2022 11:58:49] \"\u001b[37mPOST /_dash-update-component HTTP/1.1\u001b[0m\" 200 -\n",
      "127.0.0.1 - - [11/May/2022 11:58:49] \"\u001b[37mPOST /_dash-update-component HTTP/1.1\u001b[0m\" 200 -\n",
      "127.0.0.1 - - [11/May/2022 11:58:49] \"\u001b[37mPOST /_dash-update-component HTTP/1.1\u001b[0m\" 200 -\n",
      "127.0.0.1 - - [11/May/2022 11:58:49] \"\u001b[37mPOST /_dash-update-component HTTP/1.1\u001b[0m\" 200 -\n",
      "127.0.0.1 - - [11/May/2022 11:58:49] \"\u001b[37mPOST /_dash-update-component HTTP/1.1\u001b[0m\" 200 -\n"
     ]
    },
    {
     "name": "stdout",
     "output_type": "stream",
     "text": [
      "            document  n_tokens  n_i\n",
      "0  I cannot believe          4    1\n",
      "I cannot believe\n",
      "I cannot believ\n",
      "I cannot belie\n",
      "I cannot beli\n",
      "I cannot bel           document  n_tokens  n_i\n",
      "0  I cannot believe         4    1\n",
      "          document  n_tokens  n_i\n",
      "0  I cannot believ         4    1\n",
      "\n",
      "         document  n_tokens  n_i\n",
      "0  I cannot belie         4    1"
     ]
    },
    {
     "name": "stderr",
     "output_type": "stream",
     "text": [
      "127.0.0.1 - - [11/May/2022 11:58:50] \"\u001b[37mPOST /_dash-update-component HTTP/1.1\u001b[0m\" 200 -\n",
      "127.0.0.1 - - [11/May/2022 11:58:50] \"\u001b[37mPOST /_dash-update-component HTTP/1.1\u001b[0m\" 200 -\n",
      "127.0.0.1 - - [11/May/2022 11:58:50] \"\u001b[37mPOST /_dash-update-component HTTP/1.1\u001b[0m\" 200 -\n",
      "127.0.0.1 - - [11/May/2022 11:58:50] \"\u001b[37mPOST /_dash-update-component HTTP/1.1\u001b[0m\" 200 -\n",
      "127.0.0.1 - - [11/May/2022 11:58:50] \"\u001b[37mPOST /_dash-update-component HTTP/1.1\u001b[0m\" 200 -\n"
     ]
    },
    {
     "name": "stdout",
     "output_type": "stream",
     "text": [
      "\n",
      "        document  n_tokens  n_i\n",
      "0  I cannot beli         4    1\n",
      "I cannot be       document  n_tokens  n_i\n",
      "0  I cannot bel         4    1\n",
      "\n",
      "      document  n_tokens  n_i\n",
      "0  I cannot be         4    1\n"
     ]
    },
    {
     "name": "stderr",
     "output_type": "stream",
     "text": [
      "127.0.0.1 - - [11/May/2022 11:58:50] \"\u001b[37mPOST /_dash-update-component HTTP/1.1\u001b[0m\" 200 -\n"
     ]
    },
    {
     "name": "stdout",
     "output_type": "stream",
     "text": [
      "I cannot I cannot b\n",
      "I cannot\n",
      "\n",
      "    document  n_tokens  n_i\n",
      "0  I cannot          3    1     document  n_tokens  n_i\n",
      "0  I cannot b         4    1\n",
      "   document  n_tokens  n_i\n",
      "0  I cannot         3    1I canno\n",
      "\n",
      "\n"
     ]
    },
    {
     "name": "stderr",
     "output_type": "stream",
     "text": [
      "127.0.0.1 - - [11/May/2022 11:58:51] \"\u001b[37mPOST /_dash-update-component HTTP/1.1\u001b[0m\" 200 -\n",
      "127.0.0.1 - - [11/May/2022 11:58:51] \"\u001b[37mPOST /_dash-update-component HTTP/1.1\u001b[0m\" 200 -\n"
     ]
    },
    {
     "name": "stdout",
     "output_type": "stream",
     "text": [
      "I cann\n",
      "I can\n",
      "  document  n_tokens  n_i\n",
      "0  I canno         2    1\n",
      "  document  n_tokens  n_i\n",
      "0    I can         2    1\n",
      "  document  n_tokens  n_i\n",
      "0   I cann         2    1\n"
     ]
    },
    {
     "name": "stderr",
     "output_type": "stream",
     "text": [
      "127.0.0.1 - - [11/May/2022 11:58:51] \"\u001b[37mPOST /_dash-update-component HTTP/1.1\u001b[0m\" 200 -\n",
      "127.0.0.1 - - [11/May/2022 11:58:51] \"\u001b[37mPOST /_dash-update-component HTTP/1.1\u001b[0m\" 200 -\n",
      "127.0.0.1 - - [11/May/2022 11:58:51] \"\u001b[37mPOST /_dash-update-component HTTP/1.1\u001b[0m\" 200 -\n",
      "127.0.0.1 - - [11/May/2022 11:58:51] \"\u001b[37mPOST /_dash-update-component HTTP/1.1\u001b[0m\" 200 -\n"
     ]
    },
    {
     "name": "stdout",
     "output_type": "stream",
     "text": [
      "I caI c\n",
      "\n",
      "I \n",
      "  document  n_tokens  n_i\n",
      "0     I ca         2    1  document  n_tokens  n_i\n",
      "0      I c         2    1\n",
      "\n",
      "I f\n"
     ]
    },
    {
     "name": "stderr",
     "output_type": "stream",
     "text": [
      "127.0.0.1 - - [11/May/2022 11:58:51] \"\u001b[37mPOST /_dash-update-component HTTP/1.1\u001b[0m\" 200 -\n"
     ]
    },
    {
     "name": "stdout",
     "output_type": "stream",
     "text": [
      "  document  n_tokens  n_i\n",
      "0       I          1    1I fe\n",
      "\n",
      "I fee\n",
      "  document  n_tokens  n_i\n",
      "0      I f         2    1\n",
      "  document  n_tokens  n_i\n",
      "0     I fe         2    1\n"
     ]
    },
    {
     "name": "stderr",
     "output_type": "stream",
     "text": [
      "127.0.0.1 - - [11/May/2022 11:58:51] \"\u001b[37mPOST /_dash-update-component HTTP/1.1\u001b[0m\" 200 -\n",
      "127.0.0.1 - - [11/May/2022 11:58:51] \"\u001b[37mPOST /_dash-update-component HTTP/1.1\u001b[0m\" 200 -\n",
      "127.0.0.1 - - [11/May/2022 11:58:51] \"\u001b[37mPOST /_dash-update-component HTTP/1.1\u001b[0m\" 200 -\n",
      "127.0.0.1 - - [11/May/2022 11:58:51] \"\u001b[37mPOST /_dash-update-component HTTP/1.1\u001b[0m\" 200 -\n",
      "127.0.0.1 - - [11/May/2022 11:58:51] \"\u001b[37mPOST /_dash-update-component HTTP/1.1\u001b[0m\" 200 -\n"
     ]
    },
    {
     "name": "stdout",
     "output_type": "stream",
     "text": [
      "  document  n_tokens  n_i\n",
      "0    I fee         2    1\n",
      "I feel\n",
      "  document  n_tokens  n_i\n",
      "0   I feel         2    1\n"
     ]
    },
    {
     "name": "stderr",
     "output_type": "stream",
     "text": [
      "127.0.0.1 - - [11/May/2022 11:58:52] \"\u001b[37mPOST /_dash-update-component HTTP/1.1\u001b[0m\" 200 -\n"
     ]
    },
    {
     "name": "stdout",
     "output_type": "stream",
     "text": [
      "I feel \n",
      "I feel sI feel shI feel shoI feel shocI feel shock\n",
      "\n",
      "\n",
      "\n",
      "\n",
      "     document  n_tokens  n_i\n",
      "0  I feel sho         3    1\n",
      "  document  n_tokens  n_i\n",
      "0  I feel          2    1\n",
      "       document  n_tokens  n_i\n",
      "0  I feel shock         3    1   document  n_tokens  n_i\n",
      "0  I feel s         3    1\n",
      "\n"
     ]
    },
    {
     "name": "stderr",
     "output_type": "stream",
     "text": [
      "127.0.0.1 - - [11/May/2022 11:58:52] \"\u001b[37mPOST /_dash-update-component HTTP/1.1\u001b[0m\" 200 -\n",
      "127.0.0.1 - - [11/May/2022 11:58:52] \"\u001b[37mPOST /_dash-update-component HTTP/1.1\u001b[0m\" 200 -\n",
      "127.0.0.1 - - [11/May/2022 11:58:52] \"\u001b[37mPOST /_dash-update-component HTTP/1.1\u001b[0m\" 200 -\n",
      "127.0.0.1 - - [11/May/2022 11:58:52] \"\u001b[37mPOST /_dash-update-component HTTP/1.1\u001b[0m\" 200 -\n",
      "127.0.0.1 - - [11/May/2022 11:58:52] \"\u001b[37mPOST /_dash-update-component HTTP/1.1\u001b[0m\" 200 -\n",
      "127.0.0.1 - - [11/May/2022 11:58:52] \"\u001b[37mPOST /_dash-update-component HTTP/1.1\u001b[0m\" 200 -\n"
     ]
    },
    {
     "name": "stdout",
     "output_type": "stream",
     "text": [
      "      document  n_tokens  n_i\n",
      "0  I feel shoc         3    1\n",
      "    document  n_tokens  n_i\n",
      "0  I feel sh         3    1\n"
     ]
    },
    {
     "name": "stderr",
     "output_type": "stream",
     "text": [
      "127.0.0.1 - - [11/May/2022 11:58:53] \"\u001b[37mPOST /_dash-update-component HTTP/1.1\u001b[0m\" 200 -\n",
      "127.0.0.1 - - [11/May/2022 11:58:53] \"\u001b[37mPOST /_dash-update-component HTTP/1.1\u001b[0m\" 200 -\n"
     ]
    },
    {
     "name": "stdout",
     "output_type": "stream",
     "text": [
      "I feel shockedI feel shocke\n",
      "\n",
      "        document  n_tokens  n_i\n",
      "0  I feel shocke         3    1\n",
      "         document  n_tokens  n_i\n",
      "0  I feel shocked         3    1\n"
     ]
    },
    {
     "name": "stderr",
     "output_type": "stream",
     "text": [
      "127.0.0.1 - - [11/May/2022 11:59:17] \"\u001b[37mPOST /_dash-update-component HTTP/1.1\u001b[0m\" 200 -\n"
     ]
    },
    {
     "name": "stdout",
     "output_type": "stream",
     "text": [
      "I feel shocke\n",
      "        document  n_tokens  n_i\n",
      "0  I feel shocke         3    1\n",
      "I feel shock\n",
      "I feel shoc\n",
      "I feel sho\n",
      "       document  n_tokens  n_i\n",
      "0  I feel shock         3    1I feel sh\n",
      "\n"
     ]
    },
    {
     "name": "stderr",
     "output_type": "stream",
     "text": [
      "127.0.0.1 - - [11/May/2022 11:59:17] \"\u001b[37mPOST /_dash-update-component HTTP/1.1\u001b[0m\" 200 -\n",
      "127.0.0.1 - - [11/May/2022 11:59:18] \"\u001b[37mPOST /_dash-update-component HTTP/1.1\u001b[0m\" 200 -\n",
      "127.0.0.1 - - [11/May/2022 11:59:18] \"\u001b[37mPOST /_dash-update-component HTTP/1.1\u001b[0m\" 200 -\n",
      "127.0.0.1 - - [11/May/2022 11:59:18] \"\u001b[37mPOST /_dash-update-component HTTP/1.1\u001b[0m\" 200 -\n",
      "127.0.0.1 - - [11/May/2022 11:59:18] \"\u001b[37mPOST /_dash-update-component HTTP/1.1\u001b[0m\" 200 -\n",
      "127.0.0.1 - - [11/May/2022 11:59:18] \"\u001b[37mPOST /_dash-update-component HTTP/1.1\u001b[0m\" 200 -\n"
     ]
    },
    {
     "name": "stdout",
     "output_type": "stream",
     "text": [
      "I feel s\n",
      "I feel       document  n_tokens  n_i\n",
      "0  I feel shoc         3    1\n",
      "\n",
      "     document  n_tokens  n_i\n",
      "0  I feel sho         3    1\n",
      "    document  n_tokens  n_i\n",
      "0  I feel sh         3    1\n",
      "  document  n_tokens  n_i\n",
      "0  I feel          2    1   document  n_tokens  n_i\n",
      "0  I feel s         3    1\n",
      "\n",
      "I feel\n",
      "I fee\n",
      "I fe  document  n_tokens  n_i\n",
      "0   I feel         2    1\n",
      "\n"
     ]
    },
    {
     "name": "stderr",
     "output_type": "stream",
     "text": [
      "127.0.0.1 - - [11/May/2022 11:59:18] \"\u001b[37mPOST /_dash-update-component HTTP/1.1\u001b[0m\" 200 -\n"
     ]
    },
    {
     "name": "stdout",
     "output_type": "stream",
     "text": [
      "I f\n",
      "I \n",
      "  document  n_tokens  n_i\n",
      "0    I fee         2    1I\n",
      "\n",
      "  document  n_tokens  n_i\n",
      "0     I fe         2    1  document  n_tokens  n_i\n",
      "0      I f         2    1\n",
      "\n",
      "  document  n_tokens  n_i\n",
      "0       I          1    1\n",
      "  document  n_tokens  n_i\n",
      "0        I         1    0\n"
     ]
    },
    {
     "name": "stderr",
     "output_type": "stream",
     "text": [
      "127.0.0.1 - - [11/May/2022 11:59:18] \"\u001b[37mPOST /_dash-update-component HTTP/1.1\u001b[0m\" 200 -\n",
      "127.0.0.1 - - [11/May/2022 11:59:18] \"\u001b[37mPOST /_dash-update-component HTTP/1.1\u001b[0m\" 200 -\n",
      "127.0.0.1 - - [11/May/2022 11:59:18] \"\u001b[37mPOST /_dash-update-component HTTP/1.1\u001b[0m\" 200 -\n",
      "127.0.0.1 - - [11/May/2022 11:59:18] \"\u001b[37mPOST /_dash-update-component HTTP/1.1\u001b[0m\" 200 -\n",
      "127.0.0.1 - - [11/May/2022 11:59:18] \"\u001b[37mPOST /_dash-update-component HTTP/1.1\u001b[0m\" 200 -\n",
      "127.0.0.1 - - [11/May/2022 11:59:18] \"\u001b[37mPOST /_dash-update-component HTTP/1.1\u001b[0m\" 200 -\n"
     ]
    },
    {
     "name": "stdout",
     "output_type": "stream",
     "text": [
      "\n",
      "  document  n_tokens  n_i\n",
      "0                  0    0\n"
     ]
    },
    {
     "name": "stderr",
     "output_type": "stream",
     "text": [
      "127.0.0.1 - - [11/May/2022 11:59:42] \"\u001b[37mPOST /_dash-update-component HTTP/1.1\u001b[0m\" 200 -\n",
      "127.0.0.1 - - [11/May/2022 11:59:42] \"\u001b[37mPOST /_dash-update-component HTTP/1.1\u001b[0m\" 200 -\n"
     ]
    },
    {
     "name": "stdout",
     "output_type": "stream",
     "text": [
      "I\n",
      "  document  n_tokens  n_i\n",
      "0        I         1    0\n",
      "I \n",
      "  document  n_tokens  n_i\n",
      "0       I          1    1\n"
     ]
    },
    {
     "name": "stderr",
     "output_type": "stream",
     "text": [
      "127.0.0.1 - - [11/May/2022 11:59:43] \"\u001b[37mPOST /_dash-update-component HTTP/1.1\u001b[0m\" 200 -\n"
     ]
    },
    {
     "name": "stdout",
     "output_type": "stream",
     "text": [
      "I a\n",
      "  document  n_tokens  n_i\n",
      "0      I a         2    1\n"
     ]
    },
    {
     "name": "stderr",
     "output_type": "stream",
     "text": [
      "127.0.0.1 - - [11/May/2022 11:59:43] \"\u001b[37mPOST /_dash-update-component HTTP/1.1\u001b[0m\" 200 -\n"
     ]
    },
    {
     "name": "stdout",
     "output_type": "stream",
     "text": [
      "I am\n",
      "  document  n_tokens  n_i\n",
      "0     I am         2    1\n",
      "I am \n",
      "  document  n_tokens  n_i\n",
      "0    I am          2    1\n"
     ]
    },
    {
     "name": "stderr",
     "output_type": "stream",
     "text": [
      "127.0.0.1 - - [11/May/2022 11:59:43] \"\u001b[37mPOST /_dash-update-component HTTP/1.1\u001b[0m\" 200 -\n",
      "127.0.0.1 - - [11/May/2022 11:59:44] \"\u001b[37mPOST /_dash-update-component HTTP/1.1\u001b[0m\" 200 -\n"
     ]
    },
    {
     "name": "stdout",
     "output_type": "stream",
     "text": [
      "I am b\n",
      "  document  n_tokens  n_i\n",
      "0   I am b         3    1\n",
      "I am bo\n"
     ]
    },
    {
     "name": "stderr",
     "output_type": "stream",
     "text": [
      "127.0.0.1 - - [11/May/2022 11:59:44] \"\u001b[37mPOST /_dash-update-component HTTP/1.1\u001b[0m\" 200 -\n"
     ]
    },
    {
     "name": "stdout",
     "output_type": "stream",
     "text": [
      "  document  n_tokens  n_i\n",
      "0  I am bo         3    1I am bor\n",
      "\n",
      "   document  n_tokens  n_i\n",
      "0  I am bor         3    1\n",
      "I am bore\n"
     ]
    },
    {
     "name": "stderr",
     "output_type": "stream",
     "text": [
      "127.0.0.1 - - [11/May/2022 11:59:44] \"\u001b[37mPOST /_dash-update-component HTTP/1.1\u001b[0m\" 200 -\n"
     ]
    },
    {
     "name": "stdout",
     "output_type": "stream",
     "text": [
      "I am bored\n",
      "    document  n_tokens  n_i\n",
      "0  I am bore         3    1\n",
      "I am bored \n",
      "I am bored o\n",
      "I am bored ou     document  n_tokens  n_i\n",
      "0  I am bored         3    1\n",
      "\n",
      "       document  n_tokens  n_i\n",
      "0  I am bored o         4    1\n"
     ]
    },
    {
     "name": "stderr",
     "output_type": "stream",
     "text": [
      "127.0.0.1 - - [11/May/2022 11:59:45] \"\u001b[37mPOST /_dash-update-component HTTP/1.1\u001b[0m\" 200 -\n",
      "127.0.0.1 - - [11/May/2022 11:59:45] \"\u001b[37mPOST /_dash-update-component HTTP/1.1\u001b[0m\" 200 -\n"
     ]
    },
    {
     "name": "stdout",
     "output_type": "stream",
     "text": [
      "        document  n_tokens  n_i\n",
      "0  I am bored ou         4    1      document  n_tokens  n_i\n",
      "0  I am bored          3    1\n",
      "\n",
      "I am bored out\n",
      "         document  n_tokens  n_i\n",
      "0  I am bored out         4    1I am bored out "
     ]
    },
    {
     "name": "stderr",
     "output_type": "stream",
     "text": [
      "127.0.0.1 - - [11/May/2022 11:59:45] \"\u001b[37mPOST /_dash-update-component HTTP/1.1\u001b[0m\" 200 -\n",
      "127.0.0.1 - - [11/May/2022 11:59:45] \"\u001b[37mPOST /_dash-update-component HTTP/1.1\u001b[0m\" 200 -\n",
      "127.0.0.1 - - [11/May/2022 11:59:45] \"\u001b[37mPOST /_dash-update-component HTTP/1.1\u001b[0m\" 200 -\n",
      "127.0.0.1 - - [11/May/2022 11:59:45] \"\u001b[37mPOST /_dash-update-component HTTP/1.1\u001b[0m\" 200 -\n"
     ]
    },
    {
     "name": "stdout",
     "output_type": "stream",
     "text": [
      "\n",
      "\n",
      "          document  n_tokens  n_i\n",
      "0  I am bored out          4    1\n",
      "I am bored out o\n"
     ]
    },
    {
     "name": "stderr",
     "output_type": "stream",
     "text": [
      "127.0.0.1 - - [11/May/2022 11:59:45] \"\u001b[37mPOST /_dash-update-component HTTP/1.1\u001b[0m\" 200 -\n",
      "127.0.0.1 - - [11/May/2022 11:59:46] \"\u001b[37mPOST /_dash-update-component HTTP/1.1\u001b[0m\" 200 -\n",
      "127.0.0.1 - - [11/May/2022 11:59:46] \"\u001b[37mPOST /_dash-update-component HTTP/1.1\u001b[0m\" 200 -\n"
     ]
    },
    {
     "name": "stdout",
     "output_type": "stream",
     "text": [
      "I am bored out of\n",
      "I am bored out of \n",
      "I am bored out of m\n",
      "           document  n_tokens  n_i\n",
      "0  I am bored out o         5    1\n",
      "            document  n_tokens  n_i\n",
      "0  I am bored out of         5    1\n",
      "              document  n_tokens  n_i\n",
      "0  I am bored out of m         6    1\n",
      "             document  n_tokens  n_i\n",
      "0  I am bored out of          5    1\n",
      "I am bored out of m \n"
     ]
    },
    {
     "name": "stderr",
     "output_type": "stream",
     "text": [
      "127.0.0.1 - - [11/May/2022 11:59:46] \"\u001b[37mPOST /_dash-update-component HTTP/1.1\u001b[0m\" 200 -\n",
      "127.0.0.1 - - [11/May/2022 11:59:46] \"\u001b[37mPOST /_dash-update-component HTTP/1.1\u001b[0m\" 200 -\n",
      "127.0.0.1 - - [11/May/2022 11:59:46] \"\u001b[37mPOST /_dash-update-component HTTP/1.1\u001b[0m\" 200 -\n",
      "127.0.0.1 - - [11/May/2022 11:59:46] \"\u001b[37mPOST /_dash-update-component HTTP/1.1\u001b[0m\" 200 -\n"
     ]
    },
    {
     "name": "stdout",
     "output_type": "stream",
     "text": [
      "               document  n_tokens  n_i\n",
      "0  I am bored out of m          6    1\n",
      "I am bored out of m\n",
      "              document  n_tokens  n_i\n",
      "0  I am bored out of m         6    1\n"
     ]
    },
    {
     "name": "stderr",
     "output_type": "stream",
     "text": [
      "127.0.0.1 - - [11/May/2022 11:59:46] \"\u001b[37mPOST /_dash-update-component HTTP/1.1\u001b[0m\" 200 -\n"
     ]
    },
    {
     "name": "stdout",
     "output_type": "stream",
     "text": [
      "I am bored out of m \n",
      "               document  n_tokens  n_i\n",
      "0  I am bored out of m          6    1\n"
     ]
    },
    {
     "name": "stderr",
     "output_type": "stream",
     "text": [
      "127.0.0.1 - - [11/May/2022 11:59:47] \"\u001b[37mPOST /_dash-update-component HTTP/1.1\u001b[0m\" 200 -\n"
     ]
    },
    {
     "name": "stdout",
     "output_type": "stream",
     "text": [
      "I am bored out of m\n",
      "              document  n_tokens  n_i\n",
      "0  I am bored out of m         6    1\n"
     ]
    },
    {
     "name": "stderr",
     "output_type": "stream",
     "text": [
      "127.0.0.1 - - [11/May/2022 11:59:48] \"\u001b[37mPOST /_dash-update-component HTTP/1.1\u001b[0m\" 200 -\n",
      "127.0.0.1 - - [11/May/2022 11:59:48] \"\u001b[37mPOST /_dash-update-component HTTP/1.1\u001b[0m\" 200 -\n"
     ]
    },
    {
     "name": "stdout",
     "output_type": "stream",
     "text": [
      "I am bored out of my\n",
      "               document  n_tokens  n_i\n",
      "0  I am bored out of my         6    1\n",
      "I am bored out of my \n",
      "                document  n_tokens  n_i\n",
      "0  I am bored out of my          6    1\n"
     ]
    },
    {
     "name": "stderr",
     "output_type": "stream",
     "text": [
      "127.0.0.1 - - [11/May/2022 11:59:48] \"\u001b[37mPOST /_dash-update-component HTTP/1.1\u001b[0m\" 200 -\n"
     ]
    },
    {
     "name": "stdout",
     "output_type": "stream",
     "text": [
      "I am bored out of my m\n",
      "                 document  n_tokens  n_i\n",
      "0  I am bored out of my m         7    1\n"
     ]
    },
    {
     "name": "stderr",
     "output_type": "stream",
     "text": [
      "127.0.0.1 - - [11/May/2022 11:59:48] \"\u001b[37mPOST /_dash-update-component HTTP/1.1\u001b[0m\" 200 -\n",
      "127.0.0.1 - - [11/May/2022 11:59:48] \"\u001b[37mPOST /_dash-update-component HTTP/1.1\u001b[0m\" 200 -\n",
      "127.0.0.1 - - [11/May/2022 11:59:48] \"\u001b[37mPOST /_dash-update-component HTTP/1.1\u001b[0m\" 200 -\n"
     ]
    },
    {
     "name": "stdout",
     "output_type": "stream",
     "text": [
      "I am bored out of my miI am bored out of my min\n",
      "\n",
      "I am bored out of my mind\n",
      "                   document  n_tokens  n_i\n",
      "0  I am bored out of my min         7    1\n",
      "                  document  n_tokens  n_i\n",
      "0  I am bored out of my mi         7    1\n",
      "                    document  n_tokens  n_i\n",
      "0  I am bored out of my mind         7    1\n"
     ]
    }
   ],
   "source": [
    "if __name__=='__main__':\n",
    "    app.run_server()"
   ]
  }
 ],
 "metadata": {
  "interpreter": {
   "hash": "97ae724bfa85b9b34df7982b8bb8c7216f435b92902d749e4263f71162bea840"
  },
  "kernelspec": {
   "display_name": "Python 3",
   "language": "python",
   "name": "python3"
  },
  "language_info": {
   "codemirror_mode": {
    "name": "ipython",
    "version": 3
   },
   "file_extension": ".py",
   "mimetype": "text/x-python",
   "name": "python",
   "nbconvert_exporter": "python",
   "pygments_lexer": "ipython3",
   "version": "3.8.5"
  }
 },
 "nbformat": 4,
 "nbformat_minor": 4
}
