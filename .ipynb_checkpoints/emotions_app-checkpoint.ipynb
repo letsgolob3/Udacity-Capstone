{
 "cells": [
  {
   "cell_type": "markdown",
   "metadata": {},
   "source": [
    "# Packages "
   ]
  },
  {
   "cell_type": "code",
   "execution_count": 1,
   "metadata": {},
   "outputs": [
    {
     "name": "stderr",
     "output_type": "stream",
     "text": [
      "C:\\Anaconda3\\lib\\site-packages\\dash_bootstrap_components\\_table.py:5: UserWarning: \n",
      "The dash_html_components package is deprecated. Please replace\n",
      "`import dash_html_components as html` with `from dash import html`\n",
      "  import dash_html_components as html\n",
      "[nltk_data] Downloading package punkt to\n",
      "[nltk_data]     C:\\Users\\E082499\\AppData\\Roaming\\nltk_data...\n",
      "[nltk_data]   Package punkt is already up-to-date!\n",
      "[nltk_data] Downloading package stopwords to\n",
      "[nltk_data]     C:\\Users\\E082499\\AppData\\Roaming\\nltk_data...\n",
      "[nltk_data]   Package stopwords is already up-to-date!\n",
      "[nltk_data] Downloading package wordnet to\n",
      "[nltk_data]     C:\\Users\\E082499\\AppData\\Roaming\\nltk_data...\n",
      "[nltk_data]   Package wordnet is already up-to-date!\n"
     ]
    }
   ],
   "source": [
    "import pandas as pd\n",
    "import numpy as np\n",
    "import plotly\n",
    "import plotly.graph_objects as go\n",
    "import os\n",
    "import base64\n",
    "import re\n",
    "import pickle\n",
    "import dash\n",
    "import dash_bootstrap_components as dbc\n",
    "\n",
    "from dash.exceptions import PreventUpdate\n",
    "from dash import dcc\n",
    "from dash import html\n",
    "from dash import dash_table\n",
    "from dash.dependencies import Output\n",
    "from dash.dependencies import Input\n",
    "from plotly.subplots import make_subplots\n",
    "from textblob import TextBlob\n",
    "from nltk.stem.wordnet import WordNetLemmatizer\n",
    "\n",
    "import nltk\n",
    "nltk.download('punkt')\n",
    "nltk.download('stopwords')\n",
    "nltk.download('wordnet')\n",
    "\n",
    "from emotions_model import count_tokens\n",
    "from emotions_model import apply_features\n",
    "from emotions_model import count_n_char\n",
    "from emotions_model import load_model\n",
    "from emotions_model import tokenize_and_join\n",
    "from emotions_model import get_top_words_per_emotion_idx"
   ]
  },
  {
   "cell_type": "markdown",
   "metadata": {},
   "source": [
    "# Images and Model\n"
   ]
  },
  {
   "cell_type": "code",
   "execution_count": 2,
   "metadata": {},
   "outputs": [
    {
     "name": "stdout",
     "output_type": "stream",
     "text": [
      "dict_keys(['surprise', 'love', 'anger', 'sadness', 'fear', 'joy'])\n"
     ]
    }
   ],
   "source": [
    "# Relative paths\n",
    "cwd=os.getcwd()\n",
    "\n",
    "fpath='.\\images\\initial.jpg'\n",
    "\n",
    "test_base64 = base64.b64encode(open(fpath, 'rb').read()).decode('ascii')\n",
    "\n",
    "\n",
    "# Deserializing model object and keywords for indicators\n",
    "pipeML= load_model('model.pkl')\n",
    "\n",
    "handler = open('top_words_per_target.pkl', \"rb\")\n",
    "top_words_per_target= pickle.load(handler)\n",
    "\n",
    "print(top_words_per_target.keys())\n",
    "\n",
    "\n"
   ]
  },
  {
   "cell_type": "markdown",
   "metadata": {},
   "source": [
    "# App layout and controls"
   ]
  },
  {
   "cell_type": "code",
   "execution_count": 3,
   "metadata": {},
   "outputs": [],
   "source": [
    "app=dash.Dash(__name__,external_stylesheets=[dbc.themes.SPACELAB,\n",
    "                                             \"https://cdnjs.cloudflare.com/ajax/libs/font-awesome/4.7.0/css/font-awesome.min.css\"])\n",
    "\n",
    "\n",
    "\n",
    "app.layout=html.Div([\n",
    "    \n",
    "#Colors and app title\n",
    "    dbc.Row([dbc.Col(\n",
    "                    html.H1('Anger',style={\"color\":\"black\",\"background-color\":\"#F13027\",\n",
    "                                          \"text-align\":\"center\"})\n",
    "                    ,width={'size':2,'offset':0,'order':1}\n",
    "                    ),\n",
    "            dbc.Col(\n",
    "                    html.H1(\"Love\",style={\"color\":\"black\",\"background-color\":\"#F127A1\",\n",
    "                                          \"text-align\":\"center\"})\n",
    "                    ,width={'size':2,'order':2}\n",
    "                    ),\n",
    "            dbc.Col(\n",
    "                    html.H1(\"Joy\",style={\"color\":\"black\",\"background-color\":\"#FFF633\",\n",
    "                                        \"text-align\":\"center\"})\n",
    "                    ,width={'size':2,'order':3}\n",
    "                    ), \n",
    "            dbc.Col(\n",
    "                    html.H1(\"Surprise\",style={\"color\":\"black\",\"background-color\":\"#27F143\",\n",
    "                                             \"text-align\":\"center\"})\n",
    "                    ,width={'size':2,'order':4}\n",
    "                    ), \n",
    "            dbc.Col(\n",
    "                    html.H1(\"Sadness\",style={\"color\":\"black\",\"background-color\":\"#279BF1\",\n",
    "                                            \"text-align\":\"center\"})\n",
    "                    ,width={'size':2,'order':5}\n",
    "                    ), \n",
    "            dbc.Col(\n",
    "                    html.H1(\"Fear\",style={\"color\":\"black\",\"background-color\":\"#9827F1\",\n",
    "                                         \"text-align\":\"center\"})\n",
    "                    ,width={'size':2,'order':6}\n",
    "                    ), \n",
    "            ]),\n",
    "\n",
    "    \n",
    "#Free text input for user text.  The dcc store is used to store data in browser and\n",
    "    #can share data between callbacks \n",
    "    dbc.Row([dbc.Col([\n",
    "                    html.Div([\"How are you feeling\"],style={'font-size':24}),\n",
    "                    dcc.Input(id='text_input',placeholder='Enter text..',type='text',style={'font-size':24,\n",
    "                                                                                      'width':'80%'})],\n",
    "            width={'size':6,'offset':1}),\n",
    "            ]),\n",
    "    \n",
    "    dcc.Download(id='download_excel'),    \n",
    "    dcc.Store(id='saved_data',data={}),\n",
    "    dcc.Store(id='df_filtered',data={}),\n",
    "\n",
    "# Variable image\n",
    "    dbc.Row([\n",
    "\n",
    "        dbc.Col([\n",
    "                html.Br(),\n",
    "                html.Img(id='picture',src='data:image/png;base64,{}'.format(test_base64)),\n",
    "\n",
    "                ],\n",
    "                width={'offset':5,'order':1},\n",
    "\n",
    "                ),#End dbc.Col\n",
    "        \n",
    "            ]), #End dbc.Row\n",
    "        \n",
    "\n",
    "    dbc.Row([html.Br()]),\n",
    "    \n",
    "    dbc.Row([\n",
    "        dbc.Col([\n",
    "            dcc.Graph(id='sentiment')],width={'size':4,'offset':4}),\n",
    "        ]), #End dbc.Row\n",
    "    dbc.Row([\n",
    "        dbc.Col([\n",
    "            html.Table([\n",
    "                html.Tr([html.Td(['Sentiment Subjectivity:  '],\n",
    "                                 style={'font-size':24}), \n",
    "                         html.Td(id='subj',\n",
    "                                 style={'text-align':'right','font-size':24})],\n",
    "                         style={'text-align':'right','font-size':24}),\n",
    "                html.Tr([html.Td('The subjectivity is in the range [0.0, 1.0]',\n",
    "                                  style={'text-align':'right','font-size':16})],\n",
    "                        style={'text-align':'right','font-size':16}),\n",
    "                html.Tr([html.Td('where 0.0 is very objective and 1.0 is very subjective',\n",
    "                                  style={'text-align':'right','font-size':16})],\n",
    "                        style={'text-align':'right','font-size':16}),\n",
    "                        ]), # End Table \n",
    "                ],width={'offset':5}) # End Col\n",
    "\n",
    "    ]) #End Row\n",
    "\n",
    "\n",
    "        \n",
    "        \n",
    "\n",
    "                    \n",
    "]) #End html.Div\n",
    "\n",
    "        "
   ]
  },
  {
   "cell_type": "markdown",
   "metadata": {},
   "source": [
    "# Callbacks\n"
   ]
  },
  {
   "cell_type": "code",
   "execution_count": 4,
   "metadata": {},
   "outputs": [],
   "source": [
    "# 1) Populate the graph with sentiment and subjectivity\n",
    "# 2) Populate the image based on the value of model output \n",
    "\n",
    "@app.callback(\n",
    "    Output(component_id='sentiment',component_property='figure'),\n",
    "    Output('picture', 'src'),\n",
    "    Output('subj','children'),\n",
    "    Input(component_id='text_input',component_property='value')\n",
    "\n",
    ")\n",
    "\n",
    "def set_graph(text):\n",
    "    \n",
    "    print(text)\n",
    "    '''\n",
    "    INPUT\n",
    "    text - a string of text based on the user input in the application\n",
    "\n",
    "    OUTPUT\n",
    "    fig - a figure to show the sentiment and subjectivity of the text using the TextBlob library\n",
    "    '''    \n",
    "    \n",
    "    \n",
    "    def SetColor(y):\n",
    "        '''\n",
    "        INPUT\n",
    "        y - the y-value for the graph\n",
    "\n",
    "        OUTPUT\n",
    "        col - color based on y-value\n",
    "        '''            \n",
    "        if y>=0:\n",
    "            col= \"#3F9C35\"\n",
    "        else:\n",
    "            col= \"red\"\n",
    "        return col\n",
    "\n",
    "    \n",
    "    \n",
    "    if text is None:\n",
    "        raise PreventUpdate\n",
    "    \n",
    "    \n",
    "    #Sentiment from Textblob\n",
    "\n",
    "    tb_phrase = TextBlob(text)\n",
    "    \n",
    "    phrase_corrected=str(tb_phrase.correct())\n",
    "    \n",
    "    \n",
    "    if tb_phrase==phrase_corrected:\n",
    "#         print('No spelling errors')\n",
    "        pass\n",
    "    else:\n",
    "#         print('Spelling error! Fixed')\n",
    "#         print(phrase_corrected)\n",
    "        tb_phrase=TextBlob(phrase_corrected)\n",
    "    \n",
    "\n",
    "    sentiment=tb_phrase.sentiment\n",
    "\n",
    "    polarity=sentiment.polarity\n",
    "\n",
    "    subjectivity=sentiment.subjectivity\n",
    "\n",
    "    #Variables for graph\n",
    "    x=['Sentiment']\n",
    "\n",
    "    ydf=pd.DataFrame([polarity],columns=[\"y1\"])\n",
    "\n",
    "    if polarity<0:\n",
    "\n",
    "        y_text = ['Negative']\n",
    "    else:\n",
    "        y_text = ['Positive']\n",
    "\n",
    "\n",
    "    #Graph properties\n",
    "    fig = go.Figure(data=go.Bar(x=x, y=ydf['y1'],text=y_text,\n",
    "                                marker=dict(color = list(map(SetColor, ydf[\"y1\"])))))\n",
    "\n",
    "    fig.update_traces(marker_line_color='black',marker_line_width=1.5,opacity=0.6)\n",
    "\n",
    "\n",
    "    fig.update_layout(title_text=\"Sentiment score: -1 to 1\",\n",
    "                      title_font_size=30,\n",
    "                      font=dict(size=24),\n",
    "                      title_x=0.5)\n",
    "\n",
    "    fig.update_yaxes(range=[-1,1],tickvals=[-1, -0.5, 0, 0.5,1],\n",
    "                     zeroline=True,zerolinewidth=2,\n",
    "                     zerolinecolor='black',showgrid=True)  \n",
    "    \n",
    "    #Instantiate feature generation object and use methods for preprocessing\n",
    "\n",
    "    new_text_df=pd.DataFrame({'document':[text]},columns=['document'])\n",
    "    \n",
    "    new_text_df['document']=new_text_df['document'].apply(tokenize_and_join)\n",
    "       \n",
    "    new_text_df=apply_features(new_text_df)\n",
    "    \n",
    "    # Adding in the indicators as features\n",
    "    for emotion in top_words_per_target.keys():\n",
    "        new_text_df[f'has_top_{emotion}_word']=new_text_df['document'].str.contains('|'.join(top_words_per_target[emotion]))\n",
    "    \n",
    "    \n",
    "    [new_text_df[f'has_top_{emotion}_word'].replace({True:1,False:0},inplace=True) \\\n",
    "         for emotion in top_words_per_target.keys()]\n",
    "    \n",
    "    \n",
    "    print(new_text_df.head())\n",
    "    \n",
    "    # Use trained model on new text and output result via image\n",
    "\n",
    "    pred=pipeML.predict(new_text_df)\n",
    "    \n",
    "    pred_emotion=list(pred)[0]\n",
    "    \n",
    "    \n",
    "    fpath=f\".\\images\\{pred_emotion}.jpg\"\n",
    "    \n",
    "    test_base64 = base64.b64encode(open(fpath, 'rb').read()).decode('ascii')\n",
    "    src='data:image/png;base64,{}'.format(test_base64)\n",
    "    \n",
    "    return fig,src,round(subjectivity,1)"
   ]
  },
  {
   "cell_type": "code",
   "execution_count": null,
   "metadata": {},
   "outputs": [
    {
     "name": "stdout",
     "output_type": "stream",
     "text": [
      "Dash is running on http://127.0.0.1:8050/\n",
      "\n",
      " * Serving Flask app \"__main__\" (lazy loading)\n",
      " * Environment: production\n",
      "   WARNING: This is a development server. Do not use it in a production deployment.\n",
      "   Use a production WSGI server instead.\n",
      " * Debug mode: off\n"
     ]
    },
    {
     "name": "stderr",
     "output_type": "stream",
     "text": [
      " * Running on http://127.0.0.1:8050/ (Press CTRL+C to quit)\n",
      "127.0.0.1 - - [23/May/2022 11:50:46] \"\u001b[37mGET / HTTP/1.1\u001b[0m\" 200 -\n",
      "127.0.0.1 - - [23/May/2022 11:50:46] \"\u001b[37mGET /_dash-dependencies HTTP/1.1\u001b[0m\" 200 -\n",
      "127.0.0.1 - - [23/May/2022 11:50:46] \"\u001b[37mGET /_dash-layout HTTP/1.1\u001b[0m\" 200 -\n",
      "127.0.0.1 - - [23/May/2022 11:50:46] \"\u001b[37mGET /_favicon.ico?v=2.0.0 HTTP/1.1\u001b[0m\" 200 -\n",
      "127.0.0.1 - - [23/May/2022 11:50:47] \"\u001b[37mGET /_dash-component-suites/dash/dcc/async-graph.js HTTP/1.1\u001b[0m\" 200 -\n",
      "127.0.0.1 - - [23/May/2022 11:50:47] \"\u001b[37mGET /_dash-component-suites/dash/dcc/async-plotlyjs.js HTTP/1.1\u001b[0m\" 200 -\n",
      "127.0.0.1 - - [23/May/2022 11:50:47] \"\u001b[37mPOST /_dash-update-component HTTP/1.1\u001b[0m\" 204 -\n"
     ]
    },
    {
     "name": "stdout",
     "output_type": "stream",
     "text": [
      "None\n"
     ]
    },
    {
     "name": "stderr",
     "output_type": "stream",
     "text": [
      "127.0.0.1 - - [23/May/2022 11:50:47] \"\u001b[37mGET /_favicon.ico?v=2.0.0 HTTP/1.1\u001b[0m\" 200 -\n"
     ]
    },
    {
     "name": "stdout",
     "output_type": "stream",
     "text": [
      "b\n",
      "bo\n",
      "bor\n",
      "bore\n",
      "bored\n"
     ]
    },
    {
     "name": "stderr",
     "output_type": "stream",
     "text": [
      "C:\\Anaconda3\\lib\\site-packages\\sklearn\\compose\\_column_transformer.py:437: FutureWarning:\n",
      "\n",
      "Given feature/column names or counts do not match the ones for the data given during fit. This will fail from v0.24.\n",
      "\n",
      "127.0.0.1 - - [23/May/2022 11:51:03] \"\u001b[37mPOST /_dash-update-component HTTP/1.1\u001b[0m\" 200 -\n"
     ]
    },
    {
     "name": "stdout",
     "output_type": "stream",
     "text": [
      "Generating features\n",
      "  document  n_tokens  n_i  sentiment has_top_surprise_word has_top_love_word  \\\n",
      "0     bore         1    0        0.0                     0                 0   \n",
      "\n",
      "  has_top_anger_word has_top_sadness_word has_top_fear_word has_top_joy_word  \n",
      "0                  0                    0                 0                0  \n",
      "Exception on /_dash-update-component [POST]\n",
      "Traceback (most recent call last):\n",
      "  File \"C:\\Anaconda3\\lib\\site-packages\\flask\\app.py\", line 2447, in wsgi_app\n",
      "    response = self.full_dispatch_request()\n",
      "  File \"C:\\Anaconda3\\lib\\site-packages\\flask\\app.py\", line 1952, in full_dispatch_request\n",
      "    rv = self.handle_user_exception(e)\n",
      "  File \"C:\\Anaconda3\\lib\\site-packages\\flask\\app.py\", line 1821, in handle_user_exception\n",
      "    reraise(exc_type, exc_value, tb)\n",
      "  File \"C:\\Anaconda3\\lib\\site-packages\\flask\\_compat.py\", line 39, in reraise\n",
      "    raise value\n",
      "  File \"C:\\Anaconda3\\lib\\site-packages\\flask\\app.py\", line 1950, in full_dispatch_request\n",
      "    rv = self.dispatch_request()\n",
      "  File \"C:\\Anaconda3\\lib\\site-packages\\flask\\app.py\", line 1936, in dispatch_request\n",
      "    return self.view_functions[rule.endpoint](**req.view_args)\n",
      "  File \"C:\\Anaconda3\\lib\\site-packages\\dash\\dash.py\", line 1336, in dispatch\n",
      "    response.set_data(func(*args, outputs_list=outputs_list))\n",
      "  File \"C:\\Anaconda3\\lib\\site-packages\\dash\\_callback.py\", line 151, in add_context\n",
      "    output_value = func(*func_args, **func_kwargs)  # %% callback invoked %%\n",
      "  File \"<ipython-input-4-6367da92eb19>\", line 105, in set_graph\n",
      "    new_text_df['document']=new_text_df['document'].apply(tokenize_and_join)\n",
      "  File \"C:\\Anaconda3\\lib\\site-packages\\pandas\\core\\series.py\", line 4200, in apply\n",
      "    mapped = lib.map_infer(values, f, convert=convert_dtype)\n",
      "  File \"pandas\\_libs\\lib.pyx\", line 2402, in pandas._libs.lib.map_infer\n",
      "  File \"C:\\Users\\E082499\\OneDrive - RSM\\python_scripts\\Project 4 Capstone\\Project 4\\emotions_model.py\", line 322, in tokenize_and_join\n",
      "    tokens= tokenize(text)\n",
      "  File \"C:\\Users\\E082499\\OneDrive - RSM\\python_scripts\\Project 4 Capstone\\Project 4\\emotions_model.py\", line 296, in tokenize\n",
      "    tokens = [WordNetLemmatizer().lemmatize(w) for w in tokens]\n",
      "  File \"C:\\Users\\E082499\\OneDrive - RSM\\python_scripts\\Project 4 Capstone\\Project 4\\emotions_model.py\", line 296, in <listcomp>\n",
      "    tokens = [WordNetLemmatizer().lemmatize(w) for w in tokens]\n",
      "  File \"C:\\Anaconda3\\lib\\site-packages\\nltk\\stem\\wordnet.py\", line 38, in lemmatize\n",
      "    lemmas = wordnet._morphy(word, pos)\n",
      "  File \"C:\\Anaconda3\\lib\\site-packages\\nltk\\corpus\\util.py\", line 120, in __getattr__\n",
      "    self.__load()\n",
      "  File \"C:\\Anaconda3\\lib\\site-packages\\nltk\\corpus\\util.py\", line 94, in __load\n",
      "    args, kwargs = self.__args, self.__kwargs\n",
      "AttributeError: 'WordNetCorpusReader' object has no attribute '_LazyCorpusLoader__args'\n"
     ]
    },
    {
     "name": "stderr",
     "output_type": "stream",
     "text": [
      "127.0.0.1 - - [23/May/2022 11:51:03] \"\u001b[35m\u001b[1mPOST /_dash-update-component HTTP/1.1\u001b[0m\" 500 -\n"
     ]
    },
    {
     "name": "stdout",
     "output_type": "stream",
     "text": [
      "Exception on /_dash-update-component [POST]\n",
      "Traceback (most recent call last):\n",
      "  File \"C:\\Anaconda3\\lib\\site-packages\\flask\\app.py\", line 2447, in wsgi_app\n",
      "    response = self.full_dispatch_request()\n",
      "  File \"C:\\Anaconda3\\lib\\site-packages\\flask\\app.py\", line 1952, in full_dispatch_request\n",
      "    rv = self.handle_user_exception(e)\n",
      "  File \"C:\\Anaconda3\\lib\\site-packages\\flask\\app.py\", line 1821, in handle_user_exception\n",
      "    reraise(exc_type, exc_value, tb)\n",
      "  File \"C:\\Anaconda3\\lib\\site-packages\\flask\\_compat.py\", line 39, in reraise\n",
      "    raise value\n",
      "  File \"C:\\Anaconda3\\lib\\site-packages\\flask\\app.py\", line 1950, in full_dispatch_request\n",
      "    rv = self.dispatch_request()\n",
      "  File \"C:\\Anaconda3\\lib\\site-packages\\flask\\app.py\", line 1936, in dispatch_request\n",
      "    return self.view_functions[rule.endpoint](**req.view_args)\n",
      "  File \"C:\\Anaconda3\\lib\\site-packages\\dash\\dash.py\", line 1336, in dispatch\n",
      "    response.set_data(func(*args, outputs_list=outputs_list))\n",
      "  File \"C:\\Anaconda3\\lib\\site-packages\\dash\\_callback.py\", line 151, in add_context\n",
      "    output_value = func(*func_args, **func_kwargs)  # %% callback invoked %%\n",
      "  File \"<ipython-input-4-6367da92eb19>\", line 105, in set_graph\n",
      "    new_text_df['document']=new_text_df['document'].apply(tokenize_and_join)\n",
      "  File \"C:\\Anaconda3\\lib\\site-packages\\pandas\\core\\series.py\", line 4200, in apply\n",
      "    mapped = lib.map_infer(values, f, convert=convert_dtype)\n",
      "  File \"pandas\\_libs\\lib.pyx\", line 2402, in pandas._libs.lib.map_infer\n",
      "  File \"C:\\Users\\E082499\\OneDrive - RSM\\python_scripts\\Project 4 Capstone\\Project 4\\emotions_model.py\", line 322, in tokenize_and_join\n",
      "    tokens= tokenize(text)\n",
      "  File \"C:\\Users\\E082499\\OneDrive - RSM\\python_scripts\\Project 4 Capstone\\Project 4\\emotions_model.py\", line 296, in tokenize\n",
      "    tokens = [WordNetLemmatizer().lemmatize(w) for w in tokens]\n",
      "  File \"C:\\Users\\E082499\\OneDrive - RSM\\python_scripts\\Project 4 Capstone\\Project 4\\emotions_model.py\", line 296, in <listcomp>\n",
      "    tokens = [WordNetLemmatizer().lemmatize(w) for w in tokens]\n",
      "  File \"C:\\Anaconda3\\lib\\site-packages\\nltk\\stem\\wordnet.py\", line 38, in lemmatize\n",
      "    lemmas = wordnet._morphy(word, pos)\n",
      "  File \"C:\\Anaconda3\\lib\\site-packages\\nltk\\corpus\\util.py\", line 120, in __getattr__\n",
      "    self.__load()\n",
      "  File \"C:\\Anaconda3\\lib\\site-packages\\nltk\\corpus\\util.py\", line 94, in __load\n",
      "    args, kwargs = self.__args, self.__kwargs\n",
      "AttributeError: 'WordNetCorpusReader' object has no attribute '_LazyCorpusLoader__args'\n"
     ]
    },
    {
     "name": "stderr",
     "output_type": "stream",
     "text": [
      "127.0.0.1 - - [23/May/2022 11:51:03] \"\u001b[35m\u001b[1mPOST /_dash-update-component HTTP/1.1\u001b[0m\" 500 -\n"
     ]
    },
    {
     "name": "stdout",
     "output_type": "stream",
     "text": [
      "Exception on /_dash-update-component [POST]\n",
      "Traceback (most recent call last):\n",
      "  File \"C:\\Anaconda3\\lib\\site-packages\\flask\\app.py\", line 2447, in wsgi_app\n",
      "    response = self.full_dispatch_request()\n",
      "  File \"C:\\Anaconda3\\lib\\site-packages\\flask\\app.py\", line 1952, in full_dispatch_request\n",
      "    rv = self.handle_user_exception(e)\n",
      "  File \"C:\\Anaconda3\\lib\\site-packages\\flask\\app.py\", line 1821, in handle_user_exception\n",
      "    reraise(exc_type, exc_value, tb)\n",
      "  File \"C:\\Anaconda3\\lib\\site-packages\\flask\\_compat.py\", line 39, in reraise\n",
      "    raise value\n",
      "  File \"C:\\Anaconda3\\lib\\site-packages\\flask\\app.py\", line 1950, in full_dispatch_request\n",
      "    rv = self.dispatch_request()\n",
      "  File \"C:\\Anaconda3\\lib\\site-packages\\flask\\app.py\", line 1936, in dispatch_request\n",
      "    return self.view_functions[rule.endpoint](**req.view_args)\n",
      "  File \"C:\\Anaconda3\\lib\\site-packages\\dash\\dash.py\", line 1336, in dispatch\n",
      "    response.set_data(func(*args, outputs_list=outputs_list))\n",
      "  File \"C:\\Anaconda3\\lib\\site-packages\\dash\\_callback.py\", line 151, in add_context\n",
      "    output_value = func(*func_args, **func_kwargs)  # %% callback invoked %%\n",
      "  File \"<ipython-input-4-6367da92eb19>\", line 105, in set_graph\n",
      "    new_text_df['document']=new_text_df['document'].apply(tokenize_and_join)\n",
      "  File \"C:\\Anaconda3\\lib\\site-packages\\pandas\\core\\series.py\", line 4200, in apply\n",
      "    mapped = lib.map_infer(values, f, convert=convert_dtype)\n",
      "  File \"pandas\\_libs\\lib.pyx\", line 2402, in pandas._libs.lib.map_infer\n",
      "  File \"C:\\Users\\E082499\\OneDrive - RSM\\python_scripts\\Project 4 Capstone\\Project 4\\emotions_model.py\", line 322, in tokenize_and_join\n",
      "    tokens= tokenize(text)\n",
      "  File \"C:\\Users\\E082499\\OneDrive - RSM\\python_scripts\\Project 4 Capstone\\Project 4\\emotions_model.py\", line 296, in tokenize\n",
      "    tokens = [WordNetLemmatizer().lemmatize(w) for w in tokens]\n",
      "  File \"C:\\Users\\E082499\\OneDrive - RSM\\python_scripts\\Project 4 Capstone\\Project 4\\emotions_model.py\", line 296, in <listcomp>\n",
      "    tokens = [WordNetLemmatizer().lemmatize(w) for w in tokens]\n",
      "  File \"C:\\Anaconda3\\lib\\site-packages\\nltk\\stem\\wordnet.py\", line 38, in lemmatize\n",
      "    lemmas = wordnet._morphy(word, pos)\n",
      "  File \"C:\\Anaconda3\\lib\\site-packages\\nltk\\corpus\\util.py\", line 120, in __getattr__\n",
      "    self.__load()\n",
      "  File \"C:\\Anaconda3\\lib\\site-packages\\nltk\\corpus\\util.py\", line 94, in __load\n",
      "    args, kwargs = self.__args, self.__kwargs\n",
      "AttributeError: 'WordNetCorpusReader' object has no attribute '_LazyCorpusLoader__args'\n"
     ]
    },
    {
     "name": "stderr",
     "output_type": "stream",
     "text": [
      "127.0.0.1 - - [23/May/2022 11:51:03] \"\u001b[35m\u001b[1mPOST /_dash-update-component HTTP/1.1\u001b[0m\" 500 -\n"
     ]
    },
    {
     "name": "stdout",
     "output_type": "stream",
     "text": [
      "Exception on /_dash-update-component [POST]\n",
      "Traceback (most recent call last):\n",
      "  File \"C:\\Anaconda3\\lib\\site-packages\\flask\\app.py\", line 2447, in wsgi_app\n",
      "    response = self.full_dispatch_request()\n",
      "  File \"C:\\Anaconda3\\lib\\site-packages\\flask\\app.py\", line 1952, in full_dispatch_request\n",
      "    rv = self.handle_user_exception(e)\n",
      "  File \"C:\\Anaconda3\\lib\\site-packages\\flask\\app.py\", line 1821, in handle_user_exception\n",
      "    reraise(exc_type, exc_value, tb)\n",
      "  File \"C:\\Anaconda3\\lib\\site-packages\\flask\\_compat.py\", line 39, in reraise\n",
      "    raise value\n",
      "  File \"C:\\Anaconda3\\lib\\site-packages\\flask\\app.py\", line 1950, in full_dispatch_request\n",
      "    rv = self.dispatch_request()\n",
      "  File \"C:\\Anaconda3\\lib\\site-packages\\flask\\app.py\", line 1936, in dispatch_request\n",
      "    return self.view_functions[rule.endpoint](**req.view_args)\n",
      "  File \"C:\\Anaconda3\\lib\\site-packages\\dash\\dash.py\", line 1336, in dispatch\n",
      "    response.set_data(func(*args, outputs_list=outputs_list))\n",
      "  File \"C:\\Anaconda3\\lib\\site-packages\\dash\\_callback.py\", line 151, in add_context\n",
      "    output_value = func(*func_args, **func_kwargs)  # %% callback invoked %%\n",
      "  File \"<ipython-input-4-6367da92eb19>\", line 105, in set_graph\n",
      "    new_text_df['document']=new_text_df['document'].apply(tokenize_and_join)\n",
      "  File \"C:\\Anaconda3\\lib\\site-packages\\pandas\\core\\series.py\", line 4200, in apply\n",
      "    mapped = lib.map_infer(values, f, convert=convert_dtype)\n",
      "  File \"pandas\\_libs\\lib.pyx\", line 2402, in pandas._libs.lib.map_infer\n",
      "  File \"C:\\Users\\E082499\\OneDrive - RSM\\python_scripts\\Project 4 Capstone\\Project 4\\emotions_model.py\", line 322, in tokenize_and_join\n",
      "    tokens= tokenize(text)\n",
      "  File \"C:\\Users\\E082499\\OneDrive - RSM\\python_scripts\\Project 4 Capstone\\Project 4\\emotions_model.py\", line 296, in tokenize\n",
      "    tokens = [WordNetLemmatizer().lemmatize(w) for w in tokens]\n",
      "  File \"C:\\Users\\E082499\\OneDrive - RSM\\python_scripts\\Project 4 Capstone\\Project 4\\emotions_model.py\", line 296, in <listcomp>\n",
      "    tokens = [WordNetLemmatizer().lemmatize(w) for w in tokens]\n",
      "  File \"C:\\Anaconda3\\lib\\site-packages\\nltk\\stem\\wordnet.py\", line 38, in lemmatize\n",
      "    lemmas = wordnet._morphy(word, pos)\n",
      "  File \"C:\\Anaconda3\\lib\\site-packages\\nltk\\corpus\\util.py\", line 120, in __getattr__\n",
      "    self.__load()\n",
      "  File \"C:\\Anaconda3\\lib\\site-packages\\nltk\\corpus\\util.py\", line 94, in __load\n",
      "    args, kwargs = self.__args, self.__kwargs\n",
      "AttributeError: 'WordNetCorpusReader' object has no attribute '_LazyCorpusLoader__args'\n"
     ]
    },
    {
     "name": "stderr",
     "output_type": "stream",
     "text": [
      "127.0.0.1 - - [23/May/2022 11:51:03] \"\u001b[35m\u001b[1mPOST /_dash-update-component HTTP/1.1\u001b[0m\" 500 -\n",
      "C:\\Anaconda3\\lib\\site-packages\\sklearn\\compose\\_column_transformer.py:437: FutureWarning:\n",
      "\n",
      "Given feature/column names or counts do not match the ones for the data given during fit. This will fail from v0.24.\n",
      "\n",
      "127.0.0.1 - - [23/May/2022 11:55:49] \"\u001b[37mPOST /_dash-update-component HTTP/1.1\u001b[0m\" 200 -\n"
     ]
    },
    {
     "name": "stdout",
     "output_type": "stream",
     "text": [
      "\n",
      "Generating features\n",
      "  document  n_tokens  n_i  sentiment has_top_surprise_word has_top_love_word  \\\n",
      "0                  0    0        0.0                     0                 0   \n",
      "\n",
      "  has_top_anger_word has_top_sadness_word has_top_fear_word has_top_joy_word  \n",
      "0                  0                    0                 0                0  \n"
     ]
    },
    {
     "name": "stderr",
     "output_type": "stream",
     "text": [
      "C:\\Anaconda3\\lib\\site-packages\\sklearn\\compose\\_column_transformer.py:437: FutureWarning:\n",
      "\n",
      "Given feature/column names or counts do not match the ones for the data given during fit. This will fail from v0.24.\n",
      "\n",
      "127.0.0.1 - - [23/May/2022 11:55:50] \"\u001b[37mPOST /_dash-update-component HTTP/1.1\u001b[0m\" 200 -\n"
     ]
    },
    {
     "name": "stdout",
     "output_type": "stream",
     "text": [
      "bored\n",
      "Generating features\n",
      "  document  n_tokens  n_i  sentiment has_top_surprise_word has_top_love_word  \\\n",
      "0    bored         1    0       -0.5                     0                 0   \n",
      "\n",
      "  has_top_anger_word has_top_sadness_word has_top_fear_word has_top_joy_word  \n",
      "0                  0                    0                 0                0  \n"
     ]
    },
    {
     "name": "stderr",
     "output_type": "stream",
     "text": [
      "C:\\Anaconda3\\lib\\site-packages\\sklearn\\compose\\_column_transformer.py:437: FutureWarning:\n",
      "\n",
      "Given feature/column names or counts do not match the ones for the data given during fit. This will fail from v0.24.\n",
      "\n",
      "127.0.0.1 - - [23/May/2022 11:56:01] \"\u001b[37mPOST /_dash-update-component HTTP/1.1\u001b[0m\" 200 -\n"
     ]
    },
    {
     "name": "stdout",
     "output_type": "stream",
     "text": [
      "bore\n",
      "Generating features\n",
      "  document  n_tokens  n_i  sentiment has_top_surprise_word has_top_love_word  \\\n",
      "0     bore         1    0        0.0                     0                 0   \n",
      "\n",
      "  has_top_anger_word has_top_sadness_word has_top_fear_word has_top_joy_word  \n",
      "0                  0                    0                 0                0  \n"
     ]
    },
    {
     "name": "stderr",
     "output_type": "stream",
     "text": [
      "C:\\Anaconda3\\lib\\site-packages\\sklearn\\compose\\_column_transformer.py:437: FutureWarning:\n",
      "\n",
      "Given feature/column names or counts do not match the ones for the data given during fit. This will fail from v0.24.\n",
      "\n",
      "127.0.0.1 - - [23/May/2022 11:56:03] \"\u001b[37mPOST /_dash-update-component HTTP/1.1\u001b[0m\" 200 -\n"
     ]
    },
    {
     "name": "stdout",
     "output_type": "stream",
     "text": [
      "bor\n",
      "Generating features\n",
      "  document  n_tokens  n_i  sentiment has_top_surprise_word has_top_love_word  \\\n",
      "0      bor         1    0        0.0                     0                 0   \n",
      "\n",
      "  has_top_anger_word has_top_sadness_word has_top_fear_word has_top_joy_word  \n",
      "0                  0                    0                 0                0  \n",
      "bo\n",
      "Generating features\n",
      "  document  n_tokens  n_i  sentiment has_top_surprise_word has_top_love_word  \\\n",
      "0       bo         1    0        0.0                     0                 0   \n",
      "\n",
      "  has_top_anger_word has_top_sadness_word has_top_fear_word has_top_joy_word  \n",
      "0                  0                    0                 0                0  "
     ]
    },
    {
     "name": "stderr",
     "output_type": "stream",
     "text": [
      "C:\\Anaconda3\\lib\\site-packages\\sklearn\\compose\\_column_transformer.py:437: FutureWarning:\n",
      "\n",
      "Given feature/column names or counts do not match the ones for the data given during fit. This will fail from v0.24.\n",
      "\n",
      "127.0.0.1 - - [23/May/2022 11:56:03] \"\u001b[37mPOST /_dash-update-component HTTP/1.1\u001b[0m\" 200 -\n",
      "C:\\Anaconda3\\lib\\site-packages\\sklearn\\compose\\_column_transformer.py:437: FutureWarning:\n",
      "\n",
      "Given feature/column names or counts do not match the ones for the data given during fit. This will fail from v0.24.\n",
      "\n",
      "127.0.0.1 - - [23/May/2022 11:56:04] \"\u001b[37mPOST /_dash-update-component HTTP/1.1\u001b[0m\" 200 -\n"
     ]
    },
    {
     "name": "stdout",
     "output_type": "stream",
     "text": [
      "\n",
      "b\n",
      "Generating features\n",
      "  document  n_tokens  n_i  sentiment has_top_surprise_word has_top_love_word  \\\n",
      "0        b         1    0        0.0                     0                 0   \n",
      "\n",
      "  has_top_anger_word has_top_sadness_word has_top_fear_word has_top_joy_word  \n",
      "0                  0                    0                 0                0  \n"
     ]
    },
    {
     "name": "stderr",
     "output_type": "stream",
     "text": [
      "C:\\Anaconda3\\lib\\site-packages\\sklearn\\compose\\_column_transformer.py:437: FutureWarning:\n",
      "\n",
      "Given feature/column names or counts do not match the ones for the data given during fit. This will fail from v0.24.\n",
      "\n",
      "127.0.0.1 - - [23/May/2022 11:56:04] \"\u001b[37mPOST /_dash-update-component HTTP/1.1\u001b[0m\" 200 -\n"
     ]
    },
    {
     "name": "stdout",
     "output_type": "stream",
     "text": [
      "\n",
      "Generating features\n",
      "  document  n_tokens  n_i  sentiment has_top_surprise_word has_top_love_word  \\\n",
      "0                  0    0        0.0                     0                 0   \n",
      "\n",
      "  has_top_anger_word has_top_sadness_word has_top_fear_word has_top_joy_word  \n",
      "0                  0                    0                 0                0  \n"
     ]
    },
    {
     "name": "stderr",
     "output_type": "stream",
     "text": [
      "C:\\Anaconda3\\lib\\site-packages\\sklearn\\compose\\_column_transformer.py:437: FutureWarning:\n",
      "\n",
      "Given feature/column names or counts do not match the ones for the data given during fit. This will fail from v0.24.\n",
      "\n",
      "127.0.0.1 - - [23/May/2022 11:56:06] \"\u001b[37mPOST /_dash-update-component HTTP/1.1\u001b[0m\" 200 -\n"
     ]
    },
    {
     "name": "stdout",
     "output_type": "stream",
     "text": [
      "h\n",
      "Generating features\n",
      "  document  n_tokens  n_i  sentiment has_top_surprise_word has_top_love_word  \\\n",
      "0        h         1    0        0.0                     0                 0   \n",
      "\n",
      "  has_top_anger_word has_top_sadness_word has_top_fear_word has_top_joy_word  \n",
      "0                  0                    0                 0                0  \n",
      "ha\n",
      "Generating features\n",
      "  document  n_tokens  n_i  sentiment has_top_surprise_word has_top_love_word  \\\n",
      "0       ha         1    0        0.0                     0                 0   \n",
      "\n",
      "  has_top_anger_word has_top_sadness_word has_top_fear_word has_top_joy_word  \n",
      "0                  0                    0                 0                0  "
     ]
    },
    {
     "name": "stderr",
     "output_type": "stream",
     "text": [
      "C:\\Anaconda3\\lib\\site-packages\\sklearn\\compose\\_column_transformer.py:437: FutureWarning:\n",
      "\n",
      "Given feature/column names or counts do not match the ones for the data given during fit. This will fail from v0.24.\n",
      "\n",
      "127.0.0.1 - - [23/May/2022 11:56:06] \"\u001b[37mPOST /_dash-update-component HTTP/1.1\u001b[0m\" 200 -\n",
      "C:\\Anaconda3\\lib\\site-packages\\sklearn\\compose\\_column_transformer.py:437: FutureWarning:\n",
      "\n",
      "Given feature/column names or counts do not match the ones for the data given during fit. This will fail from v0.24.\n",
      "\n",
      "127.0.0.1 - - [23/May/2022 11:56:06] \"\u001b[37mPOST /_dash-update-component HTTP/1.1\u001b[0m\" 200 -\n"
     ]
    },
    {
     "name": "stdout",
     "output_type": "stream",
     "text": [
      "\n",
      "hap\n",
      "Generating features\n",
      "  document  n_tokens  n_i  sentiment has_top_surprise_word has_top_love_word  \\\n",
      "0      hap         1    0        0.0                     0                 0   \n",
      "\n",
      "  has_top_anger_word has_top_sadness_word has_top_fear_word has_top_joy_word  \n",
      "0                  0                    0                 0                0  \n",
      "happ"
     ]
    },
    {
     "name": "stderr",
     "output_type": "stream",
     "text": [
      "C:\\Anaconda3\\lib\\site-packages\\sklearn\\compose\\_column_transformer.py:437: FutureWarning:\n",
      "\n",
      "Given feature/column names or counts do not match the ones for the data given during fit. This will fail from v0.24.\n",
      "\n",
      "127.0.0.1 - - [23/May/2022 11:56:06] \"\u001b[37mPOST /_dash-update-component HTTP/1.1\u001b[0m\" 200 -\n"
     ]
    },
    {
     "name": "stdout",
     "output_type": "stream",
     "text": [
      "\n",
      "Generating features\n",
      "  document  n_tokens  n_i  sentiment has_top_surprise_word has_top_love_word  \\\n",
      "0     happ         1    0        0.0                     0                 0   \n",
      "\n",
      "  has_top_anger_word has_top_sadness_word has_top_fear_word has_top_joy_word  \n",
      "0                  0                    0                 0                0  \n"
     ]
    },
    {
     "name": "stderr",
     "output_type": "stream",
     "text": [
      "C:\\Anaconda3\\lib\\site-packages\\sklearn\\compose\\_column_transformer.py:437: FutureWarning:\n",
      "\n",
      "Given feature/column names or counts do not match the ones for the data given during fit. This will fail from v0.24.\n",
      "\n",
      "127.0.0.1 - - [23/May/2022 11:56:07] \"\u001b[37mPOST /_dash-update-component HTTP/1.1\u001b[0m\" 200 -\n"
     ]
    },
    {
     "name": "stdout",
     "output_type": "stream",
     "text": [
      "happy\n",
      "Generating features\n",
      "  document  n_tokens  n_i  sentiment has_top_surprise_word has_top_love_word  \\\n",
      "0    happy         1    0        0.8                     0                 0   \n",
      "\n",
      "  has_top_anger_word has_top_sadness_word has_top_fear_word has_top_joy_word  \n",
      "0                  0                    0                 0                0  \n"
     ]
    },
    {
     "name": "stderr",
     "output_type": "stream",
     "text": [
      "C:\\Anaconda3\\lib\\site-packages\\sklearn\\compose\\_column_transformer.py:437: FutureWarning:\n",
      "\n",
      "Given feature/column names or counts do not match the ones for the data given during fit. This will fail from v0.24.\n",
      "\n",
      "127.0.0.1 - - [23/May/2022 11:56:08] \"\u001b[37mPOST /_dash-update-component HTTP/1.1\u001b[0m\" 200 -\n",
      "C:\\Anaconda3\\lib\\site-packages\\sklearn\\compose\\_column_transformer.py:437: FutureWarning:\n",
      "\n",
      "Given feature/column names or counts do not match the ones for the data given during fit. This will fail from v0.24.\n",
      "\n",
      "127.0.0.1 - - [23/May/2022 11:56:08] \"\u001b[37mPOST /_dash-update-component HTTP/1.1\u001b[0m\" 200 -\n"
     ]
    },
    {
     "name": "stdout",
     "output_type": "stream",
     "text": [
      "happ\n",
      "Generating features\n",
      "  document  n_tokens  n_i  sentiment has_top_surprise_word has_top_love_word  \\\n",
      "0     happ         1    0        0.0                     0                 0   \n",
      "\n",
      "  has_top_anger_word has_top_sadness_word has_top_fear_word has_top_joy_word  \n",
      "0                  0                    0                 0                0  \n",
      "hap\n",
      "Generating features\n",
      "  document  n_tokens  n_i  sentiment has_top_surprise_word has_top_love_word  \\\n",
      "0      hap         1    0        0.0                     0                 0   \n",
      "\n",
      "  has_top_anger_word has_top_sadness_word has_top_fear_word has_top_joy_word  \n",
      "0                  0                    0                 0                0  \n"
     ]
    },
    {
     "name": "stderr",
     "output_type": "stream",
     "text": [
      "C:\\Anaconda3\\lib\\site-packages\\sklearn\\compose\\_column_transformer.py:437: FutureWarning:\n",
      "\n",
      "Given feature/column names or counts do not match the ones for the data given during fit. This will fail from v0.24.\n",
      "\n",
      "127.0.0.1 - - [23/May/2022 11:56:09] \"\u001b[37mPOST /_dash-update-component HTTP/1.1\u001b[0m\" 200 -\n",
      "C:\\Anaconda3\\lib\\site-packages\\sklearn\\compose\\_column_transformer.py:437: FutureWarning:\n",
      "\n",
      "Given feature/column names or counts do not match the ones for the data given during fit. This will fail from v0.24.\n",
      "\n",
      "127.0.0.1 - - [23/May/2022 11:56:09] \"\u001b[37mPOST /_dash-update-component HTTP/1.1\u001b[0m\" 200 -\n"
     ]
    },
    {
     "name": "stdout",
     "output_type": "stream",
     "text": [
      "ha\n",
      "Generating features\n",
      "  document  n_tokens  n_i  sentiment has_top_surprise_word has_top_love_word  \\\n",
      "0       ha         1    0        0.0                     0                 0   \n",
      "\n",
      "  has_top_anger_word has_top_sadness_word has_top_fear_word has_top_joy_word  \n",
      "0                  0                    0                 0                0  \n",
      "h\n",
      "Generating features\n",
      "  document  n_tokens  n_i  sentiment has_top_surprise_word has_top_love_word  \\\n",
      "0        h         1    0        0.0                     0                 0   \n",
      "\n",
      "  has_top_anger_word has_top_sadness_word has_top_fear_word has_top_joy_word  \n",
      "0                  0                    0                 0                0  \n"
     ]
    },
    {
     "name": "stderr",
     "output_type": "stream",
     "text": [
      "C:\\Anaconda3\\lib\\site-packages\\sklearn\\compose\\_column_transformer.py:437: FutureWarning:\n",
      "\n",
      "Given feature/column names or counts do not match the ones for the data given during fit. This will fail from v0.24.\n",
      "\n",
      "127.0.0.1 - - [23/May/2022 11:56:09] \"\u001b[37mPOST /_dash-update-component HTTP/1.1\u001b[0m\" 200 -\n"
     ]
    },
    {
     "name": "stdout",
     "output_type": "stream",
     "text": [
      "\n",
      "Generating features\n",
      "  document  n_tokens  n_i  sentiment has_top_surprise_word has_top_love_word  \\\n",
      "0                  0    0        0.0                     0                 0   \n",
      "\n",
      "  has_top_anger_word has_top_sadness_word has_top_fear_word has_top_joy_word  \n",
      "0                  0                    0                 0                0  \n"
     ]
    },
    {
     "name": "stderr",
     "output_type": "stream",
     "text": [
      "C:\\Anaconda3\\lib\\site-packages\\sklearn\\compose\\_column_transformer.py:437: FutureWarning:\n",
      "\n",
      "Given feature/column names or counts do not match the ones for the data given during fit. This will fail from v0.24.\n",
      "\n",
      "127.0.0.1 - - [23/May/2022 11:56:11] \"\u001b[37mPOST /_dash-update-component HTTP/1.1\u001b[0m\" 200 -\n"
     ]
    },
    {
     "name": "stdout",
     "output_type": "stream",
     "text": [
      "b\n",
      "Generating features\n",
      "  document  n_tokens  n_i  sentiment has_top_surprise_word has_top_love_word  \\\n",
      "0        b         1    0        0.0                     0                 0   \n",
      "\n",
      "  has_top_anger_word has_top_sadness_word has_top_fear_word has_top_joy_word  \n",
      "0                  0                    0                 0                0  \n",
      "bo\n",
      "Generating features\n",
      "  document  n_tokens  n_i  sentiment has_top_surprise_word has_top_love_word  \\\n",
      "0       bo         1    0        0.0                     0                 0   \n",
      "\n",
      "  has_top_anger_word has_top_sadness_word has_top_fear_word has_top_joy_word  \n",
      "0                  0                    0                 0                0  \n"
     ]
    },
    {
     "name": "stderr",
     "output_type": "stream",
     "text": [
      "C:\\Anaconda3\\lib\\site-packages\\sklearn\\compose\\_column_transformer.py:437: FutureWarning:\n",
      "\n",
      "Given feature/column names or counts do not match the ones for the data given during fit. This will fail from v0.24.\n",
      "\n",
      "127.0.0.1 - - [23/May/2022 11:56:11] \"\u001b[37mPOST /_dash-update-component HTTP/1.1\u001b[0m\" 200 -\n",
      "C:\\Anaconda3\\lib\\site-packages\\sklearn\\compose\\_column_transformer.py:437: FutureWarning:\n",
      "\n",
      "Given feature/column names or counts do not match the ones for the data given during fit. This will fail from v0.24.\n",
      "\n",
      "C:\\Anaconda3\\lib\\site-packages\\sklearn\\compose\\_column_transformer.py:437: FutureWarning:\n",
      "\n",
      "Given feature/column names or counts do not match the ones for the data given during fit. This will fail from v0.24.\n",
      "\n",
      "127.0.0.1 - - [23/May/2022 11:56:11] \"\u001b[37mPOST /_dash-update-component HTTP/1.1\u001b[0m\" 200 -\n",
      "127.0.0.1 - - [23/May/2022 11:56:11] \"\u001b[37mPOST /_dash-update-component HTTP/1.1\u001b[0m\" 200 -\n"
     ]
    },
    {
     "name": "stdout",
     "output_type": "stream",
     "text": [
      "bor\n",
      "bore\n",
      "Generating featuresGenerating features\n",
      "\n",
      "  document  n_tokens  n_i  sentiment has_top_surprise_word has_top_love_word  \\\n",
      "0     bore         1    0        0.0                     0                 0   \n",
      "\n",
      "  has_top_anger_word has_top_sadness_word has_top_fear_word has_top_joy_word  \n",
      "0                  0                    0                 0                0  \n",
      "  document  n_tokens  n_i  sentiment has_top_surprise_word has_top_love_word  \\\n",
      "0      bor         1    0        0.0                     0                 0   \n",
      "\n",
      "  has_top_anger_word has_top_sadness_word has_top_fear_word has_top_joy_word  \n",
      "0                  0                    0                 0                0  \n"
     ]
    },
    {
     "name": "stderr",
     "output_type": "stream",
     "text": [
      "C:\\Anaconda3\\lib\\site-packages\\sklearn\\compose\\_column_transformer.py:437: FutureWarning:\n",
      "\n",
      "Given feature/column names or counts do not match the ones for the data given during fit. This will fail from v0.24.\n",
      "\n",
      "127.0.0.1 - - [23/May/2022 11:56:11] \"\u001b[37mPOST /_dash-update-component HTTP/1.1\u001b[0m\" 200 -\n"
     ]
    },
    {
     "name": "stdout",
     "output_type": "stream",
     "text": [
      "bored\n",
      "Generating features\n",
      "  document  n_tokens  n_i  sentiment has_top_surprise_word has_top_love_word  \\\n",
      "0    bored         1    0       -0.5                     0                 0   \n",
      "\n",
      "  has_top_anger_word has_top_sadness_word has_top_fear_word has_top_joy_word  \n",
      "0                  0                    0                 0                0  \n",
      "bored \n",
      "Generating features\n",
      "  document  n_tokens  n_i  sentiment has_top_surprise_word has_top_love_word  \\\n",
      "0    bored         1    0       -0.5                     0                 0   \n",
      "\n",
      "  has_top_anger_word has_top_sadness_word has_top_fear_word has_top_joy_word  \n",
      "0                  0                    0                 0                0  "
     ]
    },
    {
     "name": "stderr",
     "output_type": "stream",
     "text": [
      "C:\\Anaconda3\\lib\\site-packages\\sklearn\\compose\\_column_transformer.py:437: FutureWarning:\n",
      "\n",
      "Given feature/column names or counts do not match the ones for the data given during fit. This will fail from v0.24.\n",
      "\n",
      "127.0.0.1 - - [23/May/2022 11:56:11] \"\u001b[37mPOST /_dash-update-component HTTP/1.1\u001b[0m\" 200 -\n"
     ]
    },
    {
     "name": "stdout",
     "output_type": "stream",
     "text": [
      "\n"
     ]
    },
    {
     "name": "stderr",
     "output_type": "stream",
     "text": [
      "C:\\Anaconda3\\lib\\site-packages\\sklearn\\compose\\_column_transformer.py:437: FutureWarning:\n",
      "\n",
      "Given feature/column names or counts do not match the ones for the data given during fit. This will fail from v0.24.\n",
      "\n",
      "127.0.0.1 - - [23/May/2022 11:56:12] \"\u001b[37mPOST /_dash-update-component HTTP/1.1\u001b[0m\" 200 -\n"
     ]
    },
    {
     "name": "stdout",
     "output_type": "stream",
     "text": [
      "bored o\n",
      "Generating features\n",
      "  document  n_tokens  n_i  sentiment has_top_surprise_word has_top_love_word  \\\n",
      "0    bored         1    0       -0.5                     0                 0   \n",
      "\n",
      "  has_top_anger_word has_top_sadness_word has_top_fear_word has_top_joy_word  \n",
      "0                  0                    0                 0                0  \n",
      "bored ou\n",
      "Generating features\n",
      "bored out   document  n_tokens  n_i  sentiment has_top_surprise_word has_top_love_word  \\\n",
      "0  bored ou         2    0       -0.5                     0                 0   \n",
      "\n",
      "  has_top_anger_word has_top_sadness_word has_top_fear_word has_top_joy_word  \n",
      "0                  0                    0                 0                0  \n",
      "\n"
     ]
    },
    {
     "name": "stderr",
     "output_type": "stream",
     "text": [
      "C:\\Anaconda3\\lib\\site-packages\\sklearn\\compose\\_column_transformer.py:437: FutureWarning:\n",
      "\n",
      "Given feature/column names or counts do not match the ones for the data given during fit. This will fail from v0.24.\n",
      "\n",
      "127.0.0.1 - - [23/May/2022 11:56:12] \"\u001b[37mPOST /_dash-update-component HTTP/1.1\u001b[0m\" 200 -\n",
      "C:\\Anaconda3\\lib\\site-packages\\sklearn\\compose\\_column_transformer.py:437: FutureWarning:\n",
      "\n",
      "Given feature/column names or counts do not match the ones for the data given during fit. This will fail from v0.24.\n",
      "\n",
      "C:\\Anaconda3\\lib\\site-packages\\sklearn\\compose\\_column_transformer.py:437: FutureWarning:\n",
      "\n",
      "Given feature/column names or counts do not match the ones for the data given during fit. This will fail from v0.24.\n",
      "\n",
      "127.0.0.1 - - [23/May/2022 11:56:12] \"\u001b[37mPOST /_dash-update-component HTTP/1.1\u001b[0m\" 200 -\n"
     ]
    },
    {
     "name": "stdout",
     "output_type": "stream",
     "text": [
      "bored out \n",
      "Generating features\n",
      "Generating features\n",
      "  document  n_tokens  n_i  sentiment has_top_surprise_word has_top_love_word  \\\n",
      "0    bored         1    0       -0.5                     0                 0   \n",
      "\n",
      "  has_top_anger_word has_top_sadness_word has_top_fear_word has_top_joy_word  \n",
      "0                  0                    0                 0                0  \n",
      "  document  n_tokens  n_i  sentiment has_top_surprise_word has_top_love_word  \\\n",
      "0    bored         1    0       -0.5                     0                 0   \n",
      "\n",
      "  has_top_anger_word has_top_sadness_word has_top_fear_word has_top_joy_word  \n",
      "0                  0                    0                 0                0  \n",
      "bored out o"
     ]
    },
    {
     "name": "stderr",
     "output_type": "stream",
     "text": [
      "127.0.0.1 - - [23/May/2022 11:56:12] \"\u001b[37mPOST /_dash-update-component HTTP/1.1\u001b[0m\" 200 -\n",
      "C:\\Anaconda3\\lib\\site-packages\\sklearn\\compose\\_column_transformer.py:437: FutureWarning:\n",
      "\n",
      "Given feature/column names or counts do not match the ones for the data given during fit. This will fail from v0.24.\n",
      "\n",
      "127.0.0.1 - - [23/May/2022 11:56:12] \"\u001b[37mPOST /_dash-update-component HTTP/1.1\u001b[0m\" 200 -\n"
     ]
    },
    {
     "name": "stdout",
     "output_type": "stream",
     "text": [
      "\n",
      "Generating features\n",
      "  document  n_tokens  n_i  sentiment has_top_surprise_word has_top_love_word  \\\n",
      "0    bored         1    0       -0.5                     0                 0   \n",
      "\n",
      "  has_top_anger_word has_top_sadness_word has_top_fear_word has_top_joy_word  \n",
      "0                  0                    0                 0                0  bored out of\n",
      "\n",
      "Generating features\n",
      "bored out of \n",
      "  document  n_tokens  n_i  sentiment has_top_surprise_word has_top_love_word  \\\n",
      "0    bored         1    0       -0.5                     0                 0   \n",
      "\n",
      "  has_top_anger_word has_top_sadness_word has_top_fear_word has_top_joy_word  \n",
      "0                  0                    0                 0                0  \n",
      "Generating features"
     ]
    },
    {
     "name": "stderr",
     "output_type": "stream",
     "text": [
      "C:\\Anaconda3\\lib\\site-packages\\sklearn\\compose\\_column_transformer.py:437: FutureWarning:\n",
      "\n",
      "Given feature/column names or counts do not match the ones for the data given during fit. This will fail from v0.24.\n",
      "\n",
      "127.0.0.1 - - [23/May/2022 11:56:13] \"\u001b[37mPOST /_dash-update-component HTTP/1.1\u001b[0m\" 200 -\n",
      "C:\\Anaconda3\\lib\\site-packages\\sklearn\\compose\\_column_transformer.py:437: FutureWarning:\n",
      "\n",
      "Given feature/column names or counts do not match the ones for the data given during fit. This will fail from v0.24.\n",
      "\n",
      "127.0.0.1 - - [23/May/2022 11:56:13] \"\u001b[37mPOST /_dash-update-component HTTP/1.1\u001b[0m\" 200 -\n",
      "C:\\Anaconda3\\lib\\site-packages\\sklearn\\compose\\_column_transformer.py:437: FutureWarning:\n",
      "\n",
      "Given feature/column names or counts do not match the ones for the data given during fit. This will fail from v0.24.\n",
      "\n",
      "127.0.0.1 - - [23/May/2022 11:56:13] \"\u001b[37mPOST /_dash-update-component HTTP/1.1\u001b[0m\" 200 -\n"
     ]
    },
    {
     "name": "stdout",
     "output_type": "stream",
     "text": [
      "\n",
      "  document  n_tokens  n_i  sentiment has_top_surprise_word has_top_love_word  \\\n",
      "0    bored         1    0       -0.5                     0                 0   \n",
      "\n",
      "  has_top_anger_word has_top_sadness_word has_top_fear_word has_top_joy_word  \n",
      "0                  0                    0                 0                0  \n",
      "bored out of m\n",
      "Generating features\n",
      "  document  n_tokens  n_i  sentiment has_top_surprise_word has_top_love_word  \\\n",
      "0    bored         1    0       -0.5                     0                 0   \n",
      "\n",
      "  has_top_anger_word has_top_sadness_word has_top_fear_word has_top_joy_word  \n",
      "0                  0                    0                 0                0  \n"
     ]
    },
    {
     "name": "stderr",
     "output_type": "stream",
     "text": [
      "C:\\Anaconda3\\lib\\site-packages\\sklearn\\compose\\_column_transformer.py:437: FutureWarning:\n",
      "\n",
      "Given feature/column names or counts do not match the ones for the data given during fit. This will fail from v0.24.\n",
      "\n",
      "C:\\Anaconda3\\lib\\site-packages\\sklearn\\compose\\_column_transformer.py:437: FutureWarning:\n",
      "\n",
      "Given feature/column names or counts do not match the ones for the data given during fit. This will fail from v0.24.\n",
      "\n",
      "127.0.0.1 - - [23/May/2022 11:56:13] \"\u001b[37mPOST /_dash-update-component HTTP/1.1\u001b[0m\" 200 -\n",
      "127.0.0.1 - - [23/May/2022 11:56:13] \"\u001b[37mPOST /_dash-update-component HTTP/1.1\u001b[0m\" 200 -\n"
     ]
    },
    {
     "name": "stdout",
     "output_type": "stream",
     "text": [
      "bored out of my\n",
      "bored out of my \n",
      "Generating features\n",
      "   document  n_tokens  n_i  sentiment has_top_surprise_word has_top_love_word  \\\n",
      "0  bored my         2    0       -0.5                     0                 0   \n",
      "\n",
      "  has_top_anger_word has_top_sadness_word has_top_fear_word has_top_joy_word  \n",
      "0                  0                    0                 0                0  \n",
      "Generating features\n",
      "   document  n_tokens  n_i  sentiment has_top_surprise_word has_top_love_word  \\\n",
      "0  bored my         2    0       -0.5                     0                 0   \n",
      "\n",
      "  has_top_anger_word has_top_sadness_word has_top_fear_word has_top_joy_word  \n",
      "0                  0                    0                 0                0  \n"
     ]
    },
    {
     "name": "stderr",
     "output_type": "stream",
     "text": [
      "C:\\Anaconda3\\lib\\site-packages\\sklearn\\compose\\_column_transformer.py:437: FutureWarning:\n",
      "\n",
      "Given feature/column names or counts do not match the ones for the data given during fit. This will fail from v0.24.\n",
      "\n",
      "127.0.0.1 - - [23/May/2022 11:56:13] \"\u001b[37mPOST /_dash-update-component HTTP/1.1\u001b[0m\" 200 -\n"
     ]
    },
    {
     "name": "stdout",
     "output_type": "stream",
     "text": [
      "bored out of my m\n",
      "Generating features\n",
      "   document  n_tokens  n_i  sentiment has_top_surprise_word has_top_love_word  \\\n",
      "0  bored my         2    0       -0.5                     0                 0   \n",
      "\n",
      "  has_top_anger_word has_top_sadness_word has_top_fear_word has_top_joy_word  \n",
      "0                  0                    0                 0                0  \n",
      "bored out of my mi\n",
      "Generating features\n",
      "bored out of my min\n"
     ]
    },
    {
     "name": "stderr",
     "output_type": "stream",
     "text": [
      "C:\\Anaconda3\\lib\\site-packages\\sklearn\\compose\\_column_transformer.py:437: FutureWarning:\n",
      "\n",
      "Given feature/column names or counts do not match the ones for the data given during fit. This will fail from v0.24.\n",
      "\n",
      "C:\\Anaconda3\\lib\\site-packages\\sklearn\\compose\\_column_transformer.py:437: FutureWarning:\n",
      "\n",
      "Given feature/column names or counts do not match the ones for the data given during fit. This will fail from v0.24.\n",
      "\n",
      "127.0.0.1 - - [23/May/2022 11:56:13] \"\u001b[37mPOST /_dash-update-component HTTP/1.1\u001b[0m\" 200 -\n",
      "C:\\Anaconda3\\lib\\site-packages\\sklearn\\compose\\_column_transformer.py:437: FutureWarning:\n",
      "\n",
      "Given feature/column names or counts do not match the ones for the data given during fit. This will fail from v0.24.\n",
      "\n",
      "127.0.0.1 - - [23/May/2022 11:56:13] \"\u001b[37mPOST /_dash-update-component HTTP/1.1\u001b[0m\" 200 -\n",
      "127.0.0.1 - - [23/May/2022 11:56:13] \"\u001b[37mPOST /_dash-update-component HTTP/1.1\u001b[0m\" 200 -\n"
     ]
    },
    {
     "name": "stdout",
     "output_type": "stream",
     "text": [
      "      document  n_tokens  n_i  sentiment has_top_surprise_word  \\\n",
      "0  bored my mi         3    0       -0.5                     0   \n",
      "\n",
      "  has_top_love_word has_top_anger_word has_top_sadness_word has_top_fear_word  \\\n",
      "0                 0                  0                    0                 0   \n",
      "\n",
      "  has_top_joy_word  \n",
      "0                0  \n",
      "bored out of my mind\n",
      "Generating features\n",
      "Generating features\n",
      "       document  n_tokens  n_i  sentiment has_top_surprise_word  \\\n",
      "0  bored my min         3    0       -0.5                     0   \n",
      "\n",
      "  has_top_love_word has_top_anger_word has_top_sadness_word has_top_fear_word  \\\n",
      "0                 0                  0                    0                 0   \n",
      "\n",
      "  has_top_joy_word  \n",
      "0                0  \n",
      "        document  n_tokens  n_i  sentiment has_top_surprise_word  \\\n",
      "0  bored my mind         3    0       -0.5                     0   \n",
      "\n",
      "  has_top_love_word has_top_anger_word has_top_sadness_word has_top_fear_word  \\\n",
      "0                 0                  0                    0                 0   \n",
      "\n",
      "  has_top_joy_word  \n",
      "0                0  \n"
     ]
    },
    {
     "name": "stderr",
     "output_type": "stream",
     "text": [
      "C:\\Anaconda3\\lib\\site-packages\\sklearn\\compose\\_column_transformer.py:437: FutureWarning:\n",
      "\n",
      "Given feature/column names or counts do not match the ones for the data given during fit. This will fail from v0.24.\n",
      "\n",
      "127.0.0.1 - - [23/May/2022 11:56:19] \"\u001b[37mPOST /_dash-update-component HTTP/1.1\u001b[0m\" 200 -\n",
      "C:\\Anaconda3\\lib\\site-packages\\sklearn\\compose\\_column_transformer.py:437: FutureWarning:\n",
      "\n",
      "Given feature/column names or counts do not match the ones for the data given during fit. This will fail from v0.24.\n",
      "\n",
      "127.0.0.1 - - [23/May/2022 11:56:19] \"\u001b[37mPOST /_dash-update-component HTTP/1.1\u001b[0m\" 200 -\n"
     ]
    },
    {
     "name": "stdout",
     "output_type": "stream",
     "text": [
      "I\n",
      "Generating features\n",
      "  document  n_tokens  n_i  sentiment has_top_surprise_word has_top_love_word  \\\n",
      "0        i         1    0        0.0                     0                 0   \n",
      "\n",
      "  has_top_anger_word has_top_sadness_word has_top_fear_word has_top_joy_word  \n",
      "0                  0                    0                 0                0  \n",
      "I \n",
      "Generating features\n",
      "  document  n_tokens  n_i  sentiment has_top_surprise_word has_top_love_word  \\\n",
      "0        i         1    0        0.0                     0                 0   \n",
      "\n",
      "  has_top_anger_word has_top_sadness_word has_top_fear_word has_top_joy_word  \n",
      "0                  0                    0                 0                0  \n"
     ]
    },
    {
     "name": "stderr",
     "output_type": "stream",
     "text": [
      "C:\\Anaconda3\\lib\\site-packages\\sklearn\\compose\\_column_transformer.py:437: FutureWarning:\n",
      "\n",
      "Given feature/column names or counts do not match the ones for the data given during fit. This will fail from v0.24.\n",
      "\n",
      "127.0.0.1 - - [23/May/2022 11:56:19] \"\u001b[37mPOST /_dash-update-component HTTP/1.1\u001b[0m\" 200 -\n"
     ]
    },
    {
     "name": "stdout",
     "output_type": "stream",
     "text": [
      "I c\n",
      "Generating features\n",
      "  document  n_tokens  n_i  sentiment has_top_surprise_word has_top_love_word  \\\n",
      "0      i c         2    1        0.0                     0                 0   \n",
      "\n",
      "  has_top_anger_word has_top_sadness_word has_top_fear_word has_top_joy_word  \n",
      "0                  0                    0                 0                0  \n",
      "I co\n",
      "Generating features\n",
      "  document  n_tokens  n_i  sentiment has_top_surprise_word has_top_love_word  \\\n",
      "0     i co         2    1        0.0                     0                 0   \n",
      "\n",
      "  has_top_anger_word has_top_sadness_word has_top_fear_word has_top_joy_word  \n",
      "0                  0                    0                 0                0  \n",
      "I cou"
     ]
    },
    {
     "name": "stderr",
     "output_type": "stream",
     "text": [
      "C:\\Anaconda3\\lib\\site-packages\\sklearn\\compose\\_column_transformer.py:437: FutureWarning:\n",
      "\n",
      "Given feature/column names or counts do not match the ones for the data given during fit. This will fail from v0.24.\n",
      "\n",
      "127.0.0.1 - - [23/May/2022 11:56:19] \"\u001b[37mPOST /_dash-update-component HTTP/1.1\u001b[0m\" 200 -\n",
      "C:\\Anaconda3\\lib\\site-packages\\sklearn\\compose\\_column_transformer.py:437: FutureWarning:\n",
      "\n",
      "Given feature/column names or counts do not match the ones for the data given during fit. This will fail from v0.24.\n",
      "\n",
      "127.0.0.1 - - [23/May/2022 11:56:19] \"\u001b[37mPOST /_dash-update-component HTTP/1.1\u001b[0m\" 200 -\n"
     ]
    },
    {
     "name": "stdout",
     "output_type": "stream",
     "text": [
      "\n",
      "Generating features\n",
      "  document  n_tokens  n_i  sentiment has_top_surprise_word has_top_love_word  \\\n",
      "0    i cou         2    1        0.0                     0                 0   \n",
      "\n",
      "  has_top_anger_word has_top_sadness_word has_top_fear_word has_top_joy_word  \n",
      "0                  0                    0                 0                0  \n",
      "I coul\n",
      "Generating features\n",
      "  document  n_tokens  n_i  sentiment has_top_surprise_word has_top_love_word  \\\n",
      "0   i coul         2    1        0.0                     0                 0   \n",
      "\n",
      "  has_top_anger_word has_top_sadness_word has_top_fear_word has_top_joy_word  \n",
      "0                  0                    0                 0                0  I could"
     ]
    },
    {
     "name": "stderr",
     "output_type": "stream",
     "text": [
      "C:\\Anaconda3\\lib\\site-packages\\sklearn\\compose\\_column_transformer.py:437: FutureWarning:\n",
      "\n",
      "Given feature/column names or counts do not match the ones for the data given during fit. This will fail from v0.24.\n",
      "\n",
      "127.0.0.1 - - [23/May/2022 11:56:19] \"\u001b[37mPOST /_dash-update-component HTTP/1.1\u001b[0m\" 200 -\n",
      "C:\\Anaconda3\\lib\\site-packages\\sklearn\\compose\\_column_transformer.py:437: FutureWarning:\n",
      "\n",
      "Given feature/column names or counts do not match the ones for the data given during fit. This will fail from v0.24.\n",
      "\n",
      "C:\\Anaconda3\\lib\\site-packages\\sklearn\\compose\\_column_transformer.py:437: FutureWarning:\n",
      "\n",
      "Given feature/column names or counts do not match the ones for the data given during fit. This will fail from v0.24.\n",
      "\n",
      "127.0.0.1 - - [23/May/2022 11:56:19] \"\u001b[37mPOST /_dash-update-component HTTP/1.1\u001b[0m\" 200 -\n",
      "127.0.0.1 - - [23/May/2022 11:56:19] \"\u001b[37mPOST /_dash-update-component HTTP/1.1\u001b[0m\" 200 -\n"
     ]
    },
    {
     "name": "stdout",
     "output_type": "stream",
     "text": [
      "\n",
      "\n",
      "Generating features\n",
      "I could \n",
      "  document  n_tokens  n_i  sentiment has_top_surprise_word has_top_love_word  \\\n",
      "0  i could         2    1        0.0                     0                 0   \n",
      "\n",
      "  has_top_anger_word has_top_sadness_word has_top_fear_word has_top_joy_word  \n",
      "0                  0                    0                 0                0  \n",
      "Generating features\n",
      "  document  n_tokens  n_i  sentiment has_top_surprise_word has_top_love_word  \\\n",
      "0  i could         2    1        0.0                     0                 0   \n",
      "\n",
      "  has_top_anger_word has_top_sadness_word has_top_fear_word has_top_joy_word  \n",
      "0                  0                    0                 0                0  \n"
     ]
    },
    {
     "name": "stderr",
     "output_type": "stream",
     "text": [
      "C:\\Anaconda3\\lib\\site-packages\\sklearn\\compose\\_column_transformer.py:437: FutureWarning:\n",
      "\n",
      "Given feature/column names or counts do not match the ones for the data given during fit. This will fail from v0.24.\n",
      "\n"
     ]
    },
    {
     "name": "stdout",
     "output_type": "stream",
     "text": [
      "I could n\n",
      "Generating features\n",
      "I could no\n",
      "    document  n_tokens  n_i  sentiment has_top_surprise_word  \\\n",
      "0  i could n         3    1        0.0                     0   \n",
      "\n",
      "  has_top_love_word has_top_anger_word has_top_sadness_word has_top_fear_word  \\\n",
      "0                 0                  0                    0                 0   \n",
      "\n",
      "  has_top_joy_word  \n",
      "0                0  \n",
      "I could not\n",
      "Generating features\n",
      "I could not \n"
     ]
    },
    {
     "name": "stderr",
     "output_type": "stream",
     "text": [
      "127.0.0.1 - - [23/May/2022 11:56:20] \"\u001b[37mPOST /_dash-update-component HTTP/1.1\u001b[0m\" 200 -\n",
      "C:\\Anaconda3\\lib\\site-packages\\sklearn\\compose\\_column_transformer.py:437: FutureWarning:\n",
      "\n",
      "Given feature/column names or counts do not match the ones for the data given during fit. This will fail from v0.24.\n",
      "\n",
      "C:\\Anaconda3\\lib\\site-packages\\sklearn\\compose\\_column_transformer.py:437: FutureWarning:\n",
      "\n",
      "Given feature/column names or counts do not match the ones for the data given during fit. This will fail from v0.24.\n",
      "\n",
      "C:\\Anaconda3\\lib\\site-packages\\sklearn\\compose\\_column_transformer.py:437: FutureWarning:\n",
      "\n",
      "Given feature/column names or counts do not match the ones for the data given during fit. This will fail from v0.24.\n",
      "\n",
      "127.0.0.1 - - [23/May/2022 11:56:20] \"\u001b[37mPOST /_dash-update-component HTTP/1.1\u001b[0m\" 200 -\n",
      "127.0.0.1 - - [23/May/2022 11:56:20] \"\u001b[37mPOST /_dash-update-component HTTP/1.1\u001b[0m\" 200 -\n",
      "127.0.0.1 - - [23/May/2022 11:56:20] \"\u001b[37mPOST /_dash-update-component HTTP/1.1\u001b[0m\" 200 -\n"
     ]
    },
    {
     "name": "stdout",
     "output_type": "stream",
     "text": [
      "Generating features\n",
      "Generating features\n",
      "  document  n_tokens  n_i  sentiment has_top_surprise_word has_top_love_word  \\\n",
      "0  i could         2    1        0.0                     0                 0   \n",
      "\n",
      "  has_top_anger_word has_top_sadness_word has_top_fear_word has_top_joy_word  \n",
      "0                  0                    0                 0                0  \n",
      "  document  n_tokens  n_i  sentiment has_top_surprise_word has_top_love_word  \\\n",
      "0  i could         2    1        0.0                     0                 0   \n",
      "\n",
      "  has_top_anger_word has_top_sadness_word has_top_fear_word has_top_joy_word  \n",
      "0                  0                    0                 0                0  \n",
      "  document  n_tokens  n_i  sentiment has_top_surprise_word has_top_love_word  \\\n",
      "0  i could         2    1        0.0                     0                 0   \n",
      "\n",
      "  has_top_anger_word has_top_sadness_word has_top_fear_word has_top_joy_word  \n",
      "0                  0                    0                 0                0  \n"
     ]
    },
    {
     "name": "stderr",
     "output_type": "stream",
     "text": [
      "C:\\Anaconda3\\lib\\site-packages\\sklearn\\compose\\_column_transformer.py:437: FutureWarning:\n",
      "\n",
      "Given feature/column names or counts do not match the ones for the data given during fit. This will fail from v0.24.\n",
      "\n",
      "127.0.0.1 - - [23/May/2022 11:56:20] \"\u001b[37mPOST /_dash-update-component HTTP/1.1\u001b[0m\" 200 -\n"
     ]
    },
    {
     "name": "stdout",
     "output_type": "stream",
     "text": [
      "I could not b\n",
      "Generating features\n",
      "    document  n_tokens  n_i  sentiment has_top_surprise_word  \\\n",
      "0  i could b         3    1        0.0                     0   \n",
      "\n",
      "  has_top_love_word has_top_anger_word has_top_sadness_word has_top_fear_word  \\\n",
      "0                 0                  0                    0                 0   \n",
      "\n",
      "  has_top_joy_word  \n",
      "0                0  \n"
     ]
    },
    {
     "name": "stderr",
     "output_type": "stream",
     "text": [
      "C:\\Anaconda3\\lib\\site-packages\\sklearn\\compose\\_column_transformer.py:437: FutureWarning:\n",
      "\n",
      "Given feature/column names or counts do not match the ones for the data given during fit. This will fail from v0.24.\n",
      "\n",
      "127.0.0.1 - - [23/May/2022 11:56:21] \"\u001b[37mPOST /_dash-update-component HTTP/1.1\u001b[0m\" 200 -\n"
     ]
    },
    {
     "name": "stdout",
     "output_type": "stream",
     "text": [
      "I could not be\n",
      "Generating features\n",
      "  document  n_tokens  n_i  sentiment has_top_surprise_word has_top_love_word  \\\n",
      "0  i could         2    1        0.0                     0                 0   \n",
      "\n",
      "  has_top_anger_word has_top_sadness_word has_top_fear_word has_top_joy_word  \n",
      "0                  0                    0                 0                0  \n",
      "I could not bel\n",
      "Generating features\n",
      "      document  n_tokens  n_i  sentiment has_top_surprise_word  \\\n",
      "0  i could bel         3    1        0.0                     0   \n",
      "\n",
      "  has_top_love_word has_top_anger_word has_top_sadness_word has_top_fear_word  \\\n",
      "0                 0                  0                    0                 0   \n",
      "\n",
      "  has_top_joy_word  \n",
      "0                0  \n",
      "I could not beli\n"
     ]
    },
    {
     "name": "stderr",
     "output_type": "stream",
     "text": [
      "C:\\Anaconda3\\lib\\site-packages\\sklearn\\compose\\_column_transformer.py:437: FutureWarning:\n",
      "\n",
      "Given feature/column names or counts do not match the ones for the data given during fit. This will fail from v0.24.\n",
      "\n",
      "127.0.0.1 - - [23/May/2022 11:56:21] \"\u001b[37mPOST /_dash-update-component HTTP/1.1\u001b[0m\" 200 -\n",
      "C:\\Anaconda3\\lib\\site-packages\\sklearn\\compose\\_column_transformer.py:437: FutureWarning:\n",
      "\n",
      "Given feature/column names or counts do not match the ones for the data given during fit. This will fail from v0.24.\n",
      "\n",
      "127.0.0.1 - - [23/May/2022 11:56:21] \"\u001b[37mPOST /_dash-update-component HTTP/1.1\u001b[0m\" 200 -\n"
     ]
    },
    {
     "name": "stdout",
     "output_type": "stream",
     "text": [
      "Generating features\n",
      "       document  n_tokens  n_i  sentiment has_top_surprise_word  \\\n",
      "0  i could beli         3    1        0.0                     0   \n",
      "\n",
      "  has_top_love_word has_top_anger_word has_top_sadness_word has_top_fear_word  \\\n",
      "0                 0                  0                    0                 0   \n",
      "\n",
      "  has_top_joy_word  \n",
      "0                0  \n",
      "I could not beliv\n"
     ]
    },
    {
     "name": "stderr",
     "output_type": "stream",
     "text": [
      "C:\\Anaconda3\\lib\\site-packages\\sklearn\\compose\\_column_transformer.py:437: FutureWarning:\n",
      "\n",
      "Given feature/column names or counts do not match the ones for the data given during fit. This will fail from v0.24.\n",
      "\n",
      "C:\\Anaconda3\\lib\\site-packages\\sklearn\\compose\\_column_transformer.py:437: FutureWarning:\n",
      "\n",
      "Given feature/column names or counts do not match the ones for the data given during fit. This will fail from v0.24.\n",
      "\n",
      "127.0.0.1 - - [23/May/2022 11:56:21] \"\u001b[37mPOST /_dash-update-component HTTP/1.1\u001b[0m\" 200 -\n",
      "127.0.0.1 - - [23/May/2022 11:56:21] \"\u001b[37mPOST /_dash-update-component HTTP/1.1\u001b[0m\" 200 -\n"
     ]
    },
    {
     "name": "stdout",
     "output_type": "stream",
     "text": [
      "I could not belive\n",
      "Generating features\n",
      "Generating features\n",
      "        document  n_tokens  n_i  sentiment has_top_surprise_word  \\\n",
      "0  i could beliv         3    1        0.0                     0   \n",
      "\n",
      "  has_top_love_word has_top_anger_word has_top_sadness_word has_top_fear_word  \\\n",
      "0                 0                  0                    0                 0   \n",
      "\n",
      "  has_top_joy_word  \n",
      "0                0  \n",
      "         document  n_tokens  n_i  sentiment has_top_surprise_word  \\\n",
      "0  i could belive         3    1        0.0                     0   \n",
      "\n",
      "  has_top_love_word has_top_anger_word has_top_sadness_word has_top_fear_word  \\\n",
      "0                 0                  0                    0                 0   \n",
      "\n",
      "  has_top_joy_word  \n",
      "0                0  \n",
      "I could not beliv\n"
     ]
    },
    {
     "name": "stderr",
     "output_type": "stream",
     "text": [
      "C:\\Anaconda3\\lib\\site-packages\\sklearn\\compose\\_column_transformer.py:437: FutureWarning:\n",
      "\n",
      "Given feature/column names or counts do not match the ones for the data given during fit. This will fail from v0.24.\n",
      "\n",
      "C:\\Anaconda3\\lib\\site-packages\\sklearn\\compose\\_column_transformer.py:437: FutureWarning:\n",
      "\n",
      "Given feature/column names or counts do not match the ones for the data given during fit. This will fail from v0.24.\n",
      "\n",
      "127.0.0.1 - - [23/May/2022 11:56:22] \"\u001b[37mPOST /_dash-update-component HTTP/1.1\u001b[0m\" 200 -\n",
      "127.0.0.1 - - [23/May/2022 11:56:22] \"\u001b[37mPOST /_dash-update-component HTTP/1.1\u001b[0m\" 200 -\n"
     ]
    },
    {
     "name": "stdout",
     "output_type": "stream",
     "text": [
      "I could not beli\n",
      "Generating features\n",
      "Generating features\n",
      "       document  n_tokens  n_i  sentiment has_top_surprise_word  \\\n",
      "0  i could beli         3    1        0.0                     0   \n",
      "\n",
      "  has_top_love_word has_top_anger_word has_top_sadness_word has_top_fear_word  \\\n",
      "0                 0                  0                    0                 0   \n",
      "\n",
      "  has_top_joy_word  \n",
      "0                0  \n",
      "        document  n_tokens  n_i  sentiment has_top_surprise_word  \\\n",
      "0  i could beliv         3    1        0.0                     0   \n",
      "\n",
      "  has_top_love_word has_top_anger_word has_top_sadness_word has_top_fear_word  \\\n",
      "0                 0                  0                    0                 0   \n",
      "\n",
      "  has_top_joy_word  \n",
      "0                0  \n"
     ]
    },
    {
     "name": "stderr",
     "output_type": "stream",
     "text": [
      "C:\\Anaconda3\\lib\\site-packages\\sklearn\\compose\\_column_transformer.py:437: FutureWarning:\n",
      "\n",
      "Given feature/column names or counts do not match the ones for the data given during fit. This will fail from v0.24.\n",
      "\n",
      "127.0.0.1 - - [23/May/2022 11:56:23] \"\u001b[37mPOST /_dash-update-component HTTP/1.1\u001b[0m\" 200 -\n"
     ]
    },
    {
     "name": "stdout",
     "output_type": "stream",
     "text": [
      "I could not belie\n",
      "Generating features\n",
      "        document  n_tokens  n_i  sentiment has_top_surprise_word  \\\n",
      "0  i could belie         3    1        0.0                     0   \n",
      "\n",
      "  has_top_love_word has_top_anger_word has_top_sadness_word has_top_fear_word  \\\n",
      "0                 0                  0                    0                 0   \n",
      "\n",
      "  has_top_joy_word  \n",
      "0                0  \n",
      "I could not believ\n",
      "Generating features"
     ]
    },
    {
     "name": "stderr",
     "output_type": "stream",
     "text": [
      "C:\\Anaconda3\\lib\\site-packages\\sklearn\\compose\\_column_transformer.py:437: FutureWarning:\n",
      "\n",
      "Given feature/column names or counts do not match the ones for the data given during fit. This will fail from v0.24.\n",
      "\n",
      "127.0.0.1 - - [23/May/2022 11:56:23] \"\u001b[37mPOST /_dash-update-component HTTP/1.1\u001b[0m\" 200 -\n",
      "C:\\Anaconda3\\lib\\site-packages\\sklearn\\compose\\_column_transformer.py:437: FutureWarning:\n",
      "\n",
      "Given feature/column names or counts do not match the ones for the data given during fit. This will fail from v0.24.\n",
      "\n",
      "127.0.0.1 - - [23/May/2022 11:56:23] \"\u001b[37mPOST /_dash-update-component HTTP/1.1\u001b[0m\" 200 -\n"
     ]
    },
    {
     "name": "stdout",
     "output_type": "stream",
     "text": [
      "\n",
      "         document  n_tokens  n_i  sentiment has_top_surprise_word  \\\n",
      "0  i could believ         3    1        0.0                     0   \n",
      "\n",
      "  has_top_love_word has_top_anger_word has_top_sadness_word has_top_fear_word  \\\n",
      "0                 0                  0                    0                 0   \n",
      "\n",
      "  has_top_joy_word  \n",
      "0                0  \n",
      "I could not believe\n",
      "Generating features\n",
      "          document  n_tokens  n_i  sentiment has_top_surprise_word  \\\n",
      "0  i could believe         3    1        0.0                     0   \n",
      "\n",
      "  has_top_love_word has_top_anger_word has_top_sadness_word has_top_fear_word  \\\n",
      "0                 0                  0                    0                 0   \n",
      "\n",
      "  has_top_joy_word  \n",
      "0                0  \n"
     ]
    },
    {
     "name": "stderr",
     "output_type": "stream",
     "text": [
      "C:\\Anaconda3\\lib\\site-packages\\sklearn\\compose\\_column_transformer.py:437: FutureWarning:\n",
      "\n",
      "Given feature/column names or counts do not match the ones for the data given during fit. This will fail from v0.24.\n",
      "\n",
      "127.0.0.1 - - [23/May/2022 11:56:28] \"\u001b[37mPOST /_dash-update-component HTTP/1.1\u001b[0m\" 200 -\n"
     ]
    },
    {
     "name": "stdout",
     "output_type": "stream",
     "text": [
      "I could not believe \n",
      "Generating features\n",
      "          document  n_tokens  n_i  sentiment has_top_surprise_word  \\\n",
      "0  i could believe         3    1        0.0                     0   \n",
      "\n",
      "  has_top_love_word has_top_anger_word has_top_sadness_word has_top_fear_word  \\\n",
      "0                 0                  0                    0                 0   \n",
      "\n",
      "  has_top_joy_word  \n",
      "0                0  \n",
      "I could not believe t\n",
      "I could not believe th\n",
      "Generating features\n",
      "I could not believe tha\n",
      "Generating features\n",
      "          document  n_tokens  n_i  sentiment has_top_surprise_word  \\\n",
      "0  i could believe         3    1        0.0                     0   \n",
      "\n",
      "  has_top_love_word has_top_anger_word has_top_sadness_word has_top_fear_word  \\\n",
      "0                 0                  0                    0                 0   \n",
      "\n",
      "  has_top_joy_word  \n",
      "0                0  \n",
      "I could not believe that"
     ]
    },
    {
     "name": "stderr",
     "output_type": "stream",
     "text": [
      "C:\\Anaconda3\\lib\\site-packages\\sklearn\\compose\\_column_transformer.py:437: FutureWarning:\n",
      "\n",
      "Given feature/column names or counts do not match the ones for the data given during fit. This will fail from v0.24.\n",
      "\n",
      "127.0.0.1 - - [23/May/2022 11:56:28] \"\u001b[37mPOST /_dash-update-component HTTP/1.1\u001b[0m\" 200 -\n",
      "C:\\Anaconda3\\lib\\site-packages\\sklearn\\compose\\_column_transformer.py:437: FutureWarning:\n",
      "\n",
      "Given feature/column names or counts do not match the ones for the data given during fit. This will fail from v0.24.\n",
      "\n",
      "C:\\Anaconda3\\lib\\site-packages\\sklearn\\compose\\_column_transformer.py:437: FutureWarning:\n",
      "\n",
      "Given feature/column names or counts do not match the ones for the data given during fit. This will fail from v0.24.\n",
      "\n",
      "C:\\Anaconda3\\lib\\site-packages\\sklearn\\compose\\_column_transformer.py:437: FutureWarning:\n",
      "\n",
      "Given feature/column names or counts do not match the ones for the data given during fit. This will fail from v0.24.\n",
      "\n",
      "127.0.0.1 - - [23/May/2022 11:56:28] \"\u001b[37mPOST /_dash-update-component HTTP/1.1\u001b[0m\" 200 -\n",
      "127.0.0.1 - - [23/May/2022 11:56:28] \"\u001b[37mPOST /_dash-update-component HTTP/1.1\u001b[0m\" 200 -\n",
      "127.0.0.1 - - [23/May/2022 11:56:28] \"\u001b[37mPOST /_dash-update-component HTTP/1.1\u001b[0m\" 200 -\n"
     ]
    },
    {
     "name": "stdout",
     "output_type": "stream",
     "text": [
      "\n",
      "Generating features\n",
      "Generating features\n",
      "             document  n_tokens  n_i  sentiment has_top_surprise_word  \\\n",
      "0  i could believe th         4    1        0.0                     0   \n",
      "\n",
      "  has_top_love_word has_top_anger_word has_top_sadness_word has_top_fear_word  \\\n",
      "0                 0                  0                    0                 0   \n",
      "\n",
      "  has_top_joy_word  \n",
      "0                0  \n",
      "              document  n_tokens  n_i  sentiment has_top_surprise_word  \\\n",
      "0  i could believe tha         4    1        0.0                     0   \n",
      "\n",
      "  has_top_love_word has_top_anger_word has_top_sadness_word has_top_fear_word  \\\n",
      "0                 0                  0                    0                 0   \n",
      "\n",
      "  has_top_joy_word  \n",
      "0                0  \n",
      "          document  n_tokens  n_i  sentiment has_top_surprise_word  \\\n",
      "0  i could believe         3    1        0.0                     0   \n",
      "\n",
      "  has_top_love_word has_top_anger_word has_top_sadness_word has_top_fear_word  \\\n",
      "0                 0                  0                    0                 0   \n",
      "\n",
      "  has_top_joy_word  \n",
      "0                0  \n"
     ]
    },
    {
     "name": "stderr",
     "output_type": "stream",
     "text": [
      "C:\\Anaconda3\\lib\\site-packages\\sklearn\\compose\\_column_transformer.py:437: FutureWarning:\n",
      "\n",
      "Given feature/column names or counts do not match the ones for the data given during fit. This will fail from v0.24.\n",
      "\n",
      "127.0.0.1 - - [23/May/2022 11:56:29] \"\u001b[37mPOST /_dash-update-component HTTP/1.1\u001b[0m\" 200 -\n"
     ]
    },
    {
     "name": "stdout",
     "output_type": "stream",
     "text": [
      "I could not believe that!\n",
      "Generating features\n",
      "          document  n_tokens  n_i  sentiment has_top_surprise_word  \\\n",
      "0  i could believe         3    1        0.0                     0   \n",
      "\n",
      "  has_top_love_word has_top_anger_word has_top_sadness_word has_top_fear_word  \\\n",
      "0                 0                  0                    0                 0   \n",
      "\n",
      "  has_top_joy_word  \n",
      "0                0  \n"
     ]
    },
    {
     "name": "stderr",
     "output_type": "stream",
     "text": [
      "C:\\Anaconda3\\lib\\site-packages\\sklearn\\compose\\_column_transformer.py:437: FutureWarning:\n",
      "\n",
      "Given feature/column names or counts do not match the ones for the data given during fit. This will fail from v0.24.\n",
      "\n",
      "127.0.0.1 - - [23/May/2022 11:57:09] \"\u001b[37mPOST /_dash-update-component HTTP/1.1\u001b[0m\" 200 -\n"
     ]
    },
    {
     "name": "stdout",
     "output_type": "stream",
     "text": [
      "I\n",
      "Generating features\n",
      "  document  n_tokens  n_i  sentiment has_top_surprise_word has_top_love_word  \\\n",
      "0        i         1    0        0.0                     0                 0   \n",
      "\n",
      "  has_top_anger_word has_top_sadness_word has_top_fear_word has_top_joy_word  \n",
      "0                  0                    0                 0                0  \n",
      "I \n",
      "Generating features\n",
      "  document  n_tokens  n_i  sentiment has_top_surprise_word has_top_love_word  \\\n",
      "0        i         1    0        0.0                     0                 0   \n",
      "\n",
      "  has_top_anger_word has_top_sadness_word has_top_fear_word has_top_joy_word  \n",
      "0                  0                    0                 0                0  \n"
     ]
    },
    {
     "name": "stderr",
     "output_type": "stream",
     "text": [
      "C:\\Anaconda3\\lib\\site-packages\\sklearn\\compose\\_column_transformer.py:437: FutureWarning:\n",
      "\n",
      "Given feature/column names or counts do not match the ones for the data given during fit. This will fail from v0.24.\n",
      "\n",
      "127.0.0.1 - - [23/May/2022 11:57:09] \"\u001b[37mPOST /_dash-update-component HTTP/1.1\u001b[0m\" 200 -\n",
      "C:\\Anaconda3\\lib\\site-packages\\sklearn\\compose\\_column_transformer.py:437: FutureWarning:\n",
      "\n",
      "Given feature/column names or counts do not match the ones for the data given during fit. This will fail from v0.24.\n",
      "\n",
      "127.0.0.1 - - [23/May/2022 11:57:09] \"\u001b[37mPOST /_dash-update-component HTTP/1.1\u001b[0m\" 200 -\n",
      "C:\\Anaconda3\\lib\\site-packages\\sklearn\\compose\\_column_transformer.py:437: FutureWarning:\n",
      "\n",
      "Given feature/column names or counts do not match the ones for the data given during fit. This will fail from v0.24.\n",
      "\n",
      "127.0.0.1 - - [23/May/2022 11:57:10] \"\u001b[37mPOST /_dash-update-component HTTP/1.1\u001b[0m\" 200 -\n"
     ]
    },
    {
     "name": "stdout",
     "output_type": "stream",
     "text": [
      "I w\n",
      "Generating features\n",
      "  document  n_tokens  n_i  sentiment has_top_surprise_word has_top_love_word  \\\n",
      "0      i w         2    1        0.0                     0                 0   \n",
      "\n",
      "  has_top_anger_word has_top_sadness_word has_top_fear_word has_top_joy_word  \n",
      "0                  0                    0                 0                0  \n",
      "I wa\n",
      "Generating features\n",
      "  document  n_tokens  n_i  sentiment has_top_surprise_word has_top_love_word  \\\n",
      "0     i wa         2    1        0.0                     0                 0   \n",
      "\n",
      "  has_top_anger_word has_top_sadness_word has_top_fear_word has_top_joy_word  \n",
      "0                  0                    0                 0                0  \n"
     ]
    },
    {
     "name": "stderr",
     "output_type": "stream",
     "text": [
      "C:\\Anaconda3\\lib\\site-packages\\sklearn\\compose\\_column_transformer.py:437: FutureWarning:\n",
      "\n",
      "Given feature/column names or counts do not match the ones for the data given during fit. This will fail from v0.24.\n",
      "\n",
      "127.0.0.1 - - [23/May/2022 11:57:10] \"\u001b[37mPOST /_dash-update-component HTTP/1.1\u001b[0m\" 200 -\n"
     ]
    },
    {
     "name": "stdout",
     "output_type": "stream",
     "text": [
      "I was\n",
      "Generating features\n",
      "  document  n_tokens  n_i  sentiment has_top_surprise_word has_top_love_word  \\\n",
      "0     i wa         2    1        0.0                     0                 0   \n",
      "\n",
      "  has_top_anger_word has_top_sadness_word has_top_fear_word has_top_joy_word  \n",
      "0                  0                    0                 0                0  \n",
      "I was \n",
      "Generating features\n",
      "  document  n_tokens  n_i  sentiment has_top_surprise_word has_top_love_word  \\\n",
      "0     i wa         2    1        0.0                     0                 0   \n",
      "\n",
      "  has_top_anger_word has_top_sadness_word has_top_fear_word has_top_joy_word  \n",
      "0                  0                    0                 0                0  \n"
     ]
    },
    {
     "name": "stderr",
     "output_type": "stream",
     "text": [
      "C:\\Anaconda3\\lib\\site-packages\\sklearn\\compose\\_column_transformer.py:437: FutureWarning:\n",
      "\n",
      "Given feature/column names or counts do not match the ones for the data given during fit. This will fail from v0.24.\n",
      "\n",
      "127.0.0.1 - - [23/May/2022 11:57:10] \"\u001b[37mPOST /_dash-update-component HTTP/1.1\u001b[0m\" 200 -\n",
      "C:\\Anaconda3\\lib\\site-packages\\sklearn\\compose\\_column_transformer.py:437: FutureWarning:\n",
      "\n",
      "Given feature/column names or counts do not match the ones for the data given during fit. This will fail from v0.24.\n",
      "\n",
      "127.0.0.1 - - [23/May/2022 11:57:10] \"\u001b[37mPOST /_dash-update-component HTTP/1.1\u001b[0m\" 200 -\n"
     ]
    },
    {
     "name": "stdout",
     "output_type": "stream",
     "text": [
      "I was s\n",
      "Generating features\n",
      "  document  n_tokens  n_i  sentiment has_top_surprise_word has_top_love_word  \\\n",
      "0     i wa         2    1        0.0                     0                 0   \n",
      "\n",
      "  has_top_anger_word has_top_sadness_word has_top_fear_word has_top_joy_word  \n",
      "0                  0                    0                 0                0  \n",
      "I was so\n",
      "I was so \n",
      "I was so c\n",
      "Generating features\n",
      "Generating features\n",
      "I was so \n",
      "Generating features\n",
      "  document  n_tokens  n_i  sentiment has_top_surprise_word has_top_love_word  \\\n",
      "0     i wa         2    1        0.0                     0                 0   \n",
      "\n",
      "  has_top_anger_word has_top_sadness_word has_top_fear_word has_top_joy_word  \n",
      "0                  0                    0                 0                0  \n",
      "  document  n_tokens  n_i  sentiment has_top_surprise_word has_top_love_word  \\\n",
      "0     i wa         2    1        0.0                     0                 0   \n",
      "\n",
      "  has_top_anger_word has_top_sadness_word has_top_fear_word has_top_joy_word  \n",
      "0                  0                    0                 0                0  "
     ]
    },
    {
     "name": "stderr",
     "output_type": "stream",
     "text": [
      "C:\\Anaconda3\\lib\\site-packages\\sklearn\\compose\\_column_transformer.py:437: FutureWarning:\n",
      "\n",
      "Given feature/column names or counts do not match the ones for the data given during fit. This will fail from v0.24.\n",
      "\n",
      "C:\\Anaconda3\\lib\\site-packages\\sklearn\\compose\\_column_transformer.py:437: FutureWarning:\n",
      "\n",
      "Given feature/column names or counts do not match the ones for the data given during fit. This will fail from v0.24.\n",
      "\n",
      "C:\\Anaconda3\\lib\\site-packages\\sklearn\\compose\\_column_transformer.py:437: FutureWarning:\n",
      "\n",
      "Given feature/column names or counts do not match the ones for the data given during fit. This will fail from v0.24.\n",
      "\n",
      "127.0.0.1 - - [23/May/2022 11:57:11] \"\u001b[37mPOST /_dash-update-component HTTP/1.1\u001b[0m\" 200 -\n",
      "C:\\Anaconda3\\lib\\site-packages\\sklearn\\compose\\_column_transformer.py:437: FutureWarning:\n",
      "\n",
      "Given feature/column names or counts do not match the ones for the data given during fit. This will fail from v0.24.\n",
      "\n",
      "C:\\Anaconda3\\lib\\site-packages\\sklearn\\compose\\_column_transformer.py:437: FutureWarning:\n",
      "\n",
      "Given feature/column names or counts do not match the ones for the data given during fit. This will fail from v0.24.\n",
      "\n",
      "127.0.0.1 - - [23/May/2022 11:57:11] \"\u001b[37mPOST /_dash-update-component HTTP/1.1\u001b[0m\" 200 -\n",
      "127.0.0.1 - - [23/May/2022 11:57:11] \"\u001b[37mPOST /_dash-update-component HTTP/1.1\u001b[0m\" 200 -\n"
     ]
    },
    {
     "name": "stdout",
     "output_type": "stream",
     "text": [
      "I was so s\n",
      "\n",
      "Generating features\n",
      "  document  n_tokens  n_i  sentiment has_top_surprise_word has_top_love_word  \\\n",
      "0   i wa c         3    1        0.0                     0                 0   \n",
      "\n",
      "  has_top_anger_word has_top_sadness_word has_top_fear_word has_top_joy_word  \n",
      "0                  0                    0                 0                0  \n",
      "Generating features\n",
      "  document  n_tokens  n_i  sentiment has_top_surprise_word has_top_love_word  \\\n",
      "0     i wa         2    1        0.0                     0                 0   \n",
      "\n",
      "  has_top_anger_word has_top_sadness_word has_top_fear_word has_top_joy_word  \n",
      "0                  0                    0                 0                0  \n",
      "  document  n_tokens  n_i  sentiment has_top_surprise_word has_top_love_word  \\\n",
      "0     i wa         2    1        0.0                     0                 0   \n",
      "\n",
      "  has_top_anger_word has_top_sadness_word has_top_fear_word has_top_joy_word  \n",
      "0                  0                    0                 0                0  \n",
      "I was so sh\n"
     ]
    },
    {
     "name": "stderr",
     "output_type": "stream",
     "text": [
      "127.0.0.1 - - [23/May/2022 11:57:11] \"\u001b[37mPOST /_dash-update-component HTTP/1.1\u001b[0m\" 200 -\n",
      "127.0.0.1 - - [23/May/2022 11:57:11] \"\u001b[37mPOST /_dash-update-component HTTP/1.1\u001b[0m\" 200 -\n"
     ]
    },
    {
     "name": "stdout",
     "output_type": "stream",
     "text": [
      "Generating features\n",
      "I was so sho\n",
      "I was so shoc\n",
      "  document  n_tokens  n_i  sentiment has_top_surprise_word has_top_love_word  \\\n",
      "0  i wa sh         3    1        0.0                     0                 0   \n",
      "\n",
      "  has_top_anger_word has_top_sadness_word has_top_fear_word has_top_joy_word  \n",
      "0                  0                    0                 0                0  \n",
      "Generating features"
     ]
    },
    {
     "name": "stderr",
     "output_type": "stream",
     "text": [
      "C:\\Anaconda3\\lib\\site-packages\\sklearn\\compose\\_column_transformer.py:437: FutureWarning:\n",
      "\n",
      "Given feature/column names or counts do not match the ones for the data given during fit. This will fail from v0.24.\n",
      "\n",
      "C:\\Anaconda3\\lib\\site-packages\\sklearn\\compose\\_column_transformer.py:437: FutureWarning:\n",
      "\n",
      "Given feature/column names or counts do not match the ones for the data given during fit. This will fail from v0.24.\n",
      "\n",
      "127.0.0.1 - - [23/May/2022 11:57:11] \"\u001b[37mPOST /_dash-update-component HTTP/1.1\u001b[0m\" 200 -\n",
      "C:\\Anaconda3\\lib\\site-packages\\sklearn\\compose\\_column_transformer.py:437: FutureWarning:\n",
      "\n",
      "Given feature/column names or counts do not match the ones for the data given during fit. This will fail from v0.24.\n",
      "\n",
      "127.0.0.1 - - [23/May/2022 11:57:11] \"\u001b[37mPOST /_dash-update-component HTTP/1.1\u001b[0m\" 200 -\n"
     ]
    },
    {
     "name": "stdout",
     "output_type": "stream",
     "text": [
      "\n",
      "Generating features\n",
      "   document  n_tokens  n_i  sentiment has_top_surprise_word has_top_love_word  \\\n",
      "0  i wa sho         3    1        0.0                     0                 0   \n",
      "\n",
      "  has_top_anger_word has_top_sadness_word has_top_fear_word has_top_joy_word  \n",
      "0                  0                    0                 0                0  \n",
      "    document  n_tokens  n_i  sentiment has_top_surprise_word  \\\n",
      "0  i wa shoc         3    1        0.0                     0   \n",
      "\n",
      "  has_top_love_word has_top_anger_word has_top_sadness_word has_top_fear_word  \\\n",
      "0                 0                  0                    0                 0   \n",
      "\n",
      "  has_top_joy_word  \n",
      "0                0  \n",
      "I was so shock\n",
      "I was so shocke\n"
     ]
    },
    {
     "name": "stderr",
     "output_type": "stream",
     "text": [
      "127.0.0.1 - - [23/May/2022 11:57:12] \"\u001b[37mPOST /_dash-update-component HTTP/1.1\u001b[0m\" 200 -\n",
      "C:\\Anaconda3\\lib\\site-packages\\sklearn\\compose\\_column_transformer.py:437: FutureWarning:\n",
      "\n",
      "Given feature/column names or counts do not match the ones for the data given during fit. This will fail from v0.24.\n",
      "\n",
      "C:\\Anaconda3\\lib\\site-packages\\sklearn\\compose\\_column_transformer.py:437: FutureWarning:\n",
      "\n",
      "Given feature/column names or counts do not match the ones for the data given during fit. This will fail from v0.24.\n",
      "\n",
      "127.0.0.1 - - [23/May/2022 11:57:12] \"\u001b[37mPOST /_dash-update-component HTTP/1.1\u001b[0m\" 200 -\n",
      "127.0.0.1 - - [23/May/2022 11:57:12] \"\u001b[37mPOST /_dash-update-component HTTP/1.1\u001b[0m\" 200 -\n"
     ]
    },
    {
     "name": "stdout",
     "output_type": "stream",
     "text": [
      "Generating features\n",
      "Generating features\n",
      "     document  n_tokens  n_i  sentiment has_top_surprise_word  \\\n",
      "0  i wa shock         3    1        0.0                     0   \n",
      "\n",
      "  has_top_love_word has_top_anger_word has_top_sadness_word has_top_fear_word  \\\n",
      "0                 0                  0                    0                 0   \n",
      "\n",
      "  has_top_joy_word  \n",
      "0                0  \n",
      "      document  n_tokens  n_i  sentiment has_top_surprise_word  \\\n",
      "0  i wa shocke         3    1        0.0                     0   \n",
      "\n",
      "  has_top_love_word has_top_anger_word has_top_sadness_word has_top_fear_word  \\\n",
      "0                 0                  0                    0                 0   \n",
      "\n",
      "  has_top_joy_word  \n",
      "0                0  \n"
     ]
    },
    {
     "name": "stderr",
     "output_type": "stream",
     "text": [
      "C:\\Anaconda3\\lib\\site-packages\\sklearn\\compose\\_column_transformer.py:437: FutureWarning:\n",
      "\n",
      "Given feature/column names or counts do not match the ones for the data given during fit. This will fail from v0.24.\n",
      "\n",
      "127.0.0.1 - - [23/May/2022 11:57:12] \"\u001b[37mPOST /_dash-update-component HTTP/1.1\u001b[0m\" 200 -\n"
     ]
    },
    {
     "name": "stdout",
     "output_type": "stream",
     "text": [
      "I was so shocked\n",
      "Generating features\n",
      "       document  n_tokens  n_i  sentiment  has_top_surprise_word  \\\n",
      "0  i wa shocked         3    1       -0.7                      1   \n",
      "\n",
      "  has_top_love_word has_top_anger_word has_top_sadness_word has_top_fear_word  \\\n",
      "0                 0                  0                    0                 0   \n",
      "\n",
      "  has_top_joy_word  \n",
      "0                0  \n"
     ]
    },
    {
     "name": "stderr",
     "output_type": "stream",
     "text": [
      "C:\\Anaconda3\\lib\\site-packages\\sklearn\\compose\\_column_transformer.py:437: FutureWarning:\n",
      "\n",
      "Given feature/column names or counts do not match the ones for the data given during fit. This will fail from v0.24.\n",
      "\n",
      "127.0.0.1 - - [23/May/2022 11:57:52] \"\u001b[37mPOST /_dash-update-component HTTP/1.1\u001b[0m\" 200 -\n"
     ]
    },
    {
     "name": "stdout",
     "output_type": "stream",
     "text": [
      "I\n",
      "Generating features\n",
      "  document  n_tokens  n_i  sentiment has_top_surprise_word has_top_love_word  \\\n",
      "0        i         1    0        0.0                     0                 0   \n",
      "\n",
      "  has_top_anger_word has_top_sadness_word has_top_fear_word has_top_joy_word  \n",
      "0                  0                    0                 0                0  \n",
      "I "
     ]
    },
    {
     "name": "stderr",
     "output_type": "stream",
     "text": [
      "C:\\Anaconda3\\lib\\site-packages\\sklearn\\compose\\_column_transformer.py:437: FutureWarning:\n",
      "\n",
      "Given feature/column names or counts do not match the ones for the data given during fit. This will fail from v0.24.\n",
      "\n",
      "127.0.0.1 - - [23/May/2022 11:57:52] \"\u001b[37mPOST /_dash-update-component HTTP/1.1\u001b[0m\" 200 -\n"
     ]
    },
    {
     "name": "stdout",
     "output_type": "stream",
     "text": [
      "\n",
      "Generating features\n",
      "  document  n_tokens  n_i  sentiment has_top_surprise_word has_top_love_word  \\\n",
      "0        i         1    0        0.0                     0                 0   \n",
      "\n",
      "  has_top_anger_word has_top_sadness_word has_top_fear_word has_top_joy_word  \n",
      "0                  0                    0                 0                0  \n",
      "I h\n",
      "Generating features\n",
      "  document  n_tokens  n_i  sentiment has_top_surprise_word has_top_love_word  \\\n",
      "0      i h         2    1        0.0                     0                 0   \n",
      "\n",
      "  has_top_anger_word has_top_sadness_word has_top_fear_word has_top_joy_word  \n",
      "0                  0                    0                 0                0  \n"
     ]
    },
    {
     "name": "stderr",
     "output_type": "stream",
     "text": [
      "C:\\Anaconda3\\lib\\site-packages\\sklearn\\compose\\_column_transformer.py:437: FutureWarning:\n",
      "\n",
      "Given feature/column names or counts do not match the ones for the data given during fit. This will fail from v0.24.\n",
      "\n",
      "127.0.0.1 - - [23/May/2022 11:57:53] \"\u001b[37mPOST /_dash-update-component HTTP/1.1\u001b[0m\" 200 -\n",
      "C:\\Anaconda3\\lib\\site-packages\\sklearn\\compose\\_column_transformer.py:437: FutureWarning:\n",
      "\n",
      "Given feature/column names or counts do not match the ones for the data given during fit. This will fail from v0.24.\n",
      "\n",
      "127.0.0.1 - - [23/May/2022 11:57:53] \"\u001b[37mPOST /_dash-update-component HTTP/1.1\u001b[0m\" 200 -\n",
      "C:\\Anaconda3\\lib\\site-packages\\sklearn\\compose\\_column_transformer.py:437: FutureWarning:\n",
      "\n",
      "Given feature/column names or counts do not match the ones for the data given during fit. This will fail from v0.24.\n",
      "\n",
      "127.0.0.1 - - [23/May/2022 11:57:53] \"\u001b[37mPOST /_dash-update-component HTTP/1.1\u001b[0m\" 200 -\n"
     ]
    },
    {
     "name": "stdout",
     "output_type": "stream",
     "text": [
      "I hu\n",
      "Generating features\n",
      "  document  n_tokens  n_i  sentiment has_top_surprise_word has_top_love_word  \\\n",
      "0     i hu         2    1        0.0                     0                 0   \n",
      "\n",
      "  has_top_anger_word has_top_sadness_word has_top_fear_word has_top_joy_word  \n",
      "0                  0                    0                 0                0  I hur\n",
      "\n",
      "Generating features\n",
      "  document  n_tokens  n_i  sentiment has_top_surprise_word has_top_love_word  \\\n",
      "0    i hur         2    1        0.0                     0                 0   \n",
      "\n",
      "  has_top_anger_word has_top_sadness_word has_top_fear_word has_top_joy_word  \n",
      "0                  0                    0                 0                0  \n"
     ]
    },
    {
     "name": "stderr",
     "output_type": "stream",
     "text": [
      "C:\\Anaconda3\\lib\\site-packages\\sklearn\\compose\\_column_transformer.py:437: FutureWarning:\n",
      "\n",
      "Given feature/column names or counts do not match the ones for the data given during fit. This will fail from v0.24.\n",
      "\n",
      "C:\\Anaconda3\\lib\\site-packages\\sklearn\\compose\\_column_transformer.py:437: FutureWarning:\n",
      "\n",
      "Given feature/column names or counts do not match the ones for the data given during fit. This will fail from v0.24.\n",
      "\n",
      "127.0.0.1 - - [23/May/2022 11:57:53] \"\u001b[37mPOST /_dash-update-component HTTP/1.1\u001b[0m\" 200 -\n",
      "127.0.0.1 - - [23/May/2022 11:57:53] \"\u001b[37mPOST /_dash-update-component HTTP/1.1\u001b[0m\" 200 -\n"
     ]
    },
    {
     "name": "stdout",
     "output_type": "stream",
     "text": [
      "I hurt\n",
      "I hurt \n",
      "Generating features\n",
      "  document  n_tokens  n_i  sentiment has_top_surprise_word has_top_love_word  \\\n",
      "0   i hurt         2    1        0.0                     0                 0   \n",
      "\n",
      "  has_top_anger_word has_top_sadness_word has_top_fear_word has_top_joy_word  \n",
      "0                  0                    0                 0                0  \n",
      "Generating features\n",
      "  document  n_tokens  n_i  sentiment has_top_surprise_word has_top_love_word  \\\n",
      "0   i hurt         2    1        0.0                     0                 0   \n",
      "\n",
      "  has_top_anger_word has_top_sadness_word has_top_fear_word has_top_joy_word  \n",
      "0                  0                    0                 0                0  \n"
     ]
    },
    {
     "name": "stderr",
     "output_type": "stream",
     "text": [
      "C:\\Anaconda3\\lib\\site-packages\\sklearn\\compose\\_column_transformer.py:437: FutureWarning:\n",
      "\n",
      "Given feature/column names or counts do not match the ones for the data given during fit. This will fail from v0.24.\n",
      "\n",
      "127.0.0.1 - - [23/May/2022 11:57:54] \"\u001b[37mPOST /_dash-update-component HTTP/1.1\u001b[0m\" 200 -\n"
     ]
    },
    {
     "name": "stdout",
     "output_type": "stream",
     "text": [
      "I hurt m\n",
      "Generating features\n",
      "  document  n_tokens  n_i  sentiment has_top_surprise_word has_top_love_word  \\\n",
      "0   i hurt         2    1        0.0                     0                 0   \n",
      "\n",
      "  has_top_anger_word has_top_sadness_word has_top_fear_word has_top_joy_word  \n",
      "0                  0                    0                 0                0  \n"
     ]
    },
    {
     "name": "stderr",
     "output_type": "stream",
     "text": [
      "C:\\Anaconda3\\lib\\site-packages\\sklearn\\compose\\_column_transformer.py:437: FutureWarning:\n",
      "\n",
      "Given feature/column names or counts do not match the ones for the data given during fit. This will fail from v0.24.\n",
      "\n",
      "127.0.0.1 - - [23/May/2022 11:57:54] \"\u001b[37mPOST /_dash-update-component HTTP/1.1\u001b[0m\" 200 -\n",
      "C:\\Anaconda3\\lib\\site-packages\\sklearn\\compose\\_column_transformer.py:437: FutureWarning:\n",
      "\n",
      "Given feature/column names or counts do not match the ones for the data given during fit. This will fail from v0.24.\n",
      "\n",
      "127.0.0.1 - - [23/May/2022 11:57:54] \"\u001b[37mPOST /_dash-update-component HTTP/1.1\u001b[0m\" 200 -\n"
     ]
    },
    {
     "name": "stdout",
     "output_type": "stream",
     "text": [
      "I hurt my\n",
      "Generating features\n",
      "    document  n_tokens  n_i  sentiment has_top_surprise_word  \\\n",
      "0  i hurt my         3    1        0.0                     0   \n",
      "\n",
      "  has_top_love_word has_top_anger_word has_top_sadness_word has_top_fear_word  \\\n",
      "0                 0                  0                    0                 0   \n",
      "\n",
      "  has_top_joy_word  \n",
      "0                0  I hurt my \n",
      "\n",
      "Generating features\n",
      "    document  n_tokens  n_i  sentiment has_top_surprise_word  \\\n",
      "0  i hurt my         3    1        0.0                     0   \n",
      "\n",
      "  has_top_love_word has_top_anger_word has_top_sadness_word has_top_fear_word  \\\n",
      "0                 0                  0                    0                 0   \n",
      "\n",
      "  has_top_joy_word  \n",
      "0                0  \n"
     ]
    },
    {
     "name": "stderr",
     "output_type": "stream",
     "text": [
      "C:\\Anaconda3\\lib\\site-packages\\sklearn\\compose\\_column_transformer.py:437: FutureWarning:\n",
      "\n",
      "Given feature/column names or counts do not match the ones for the data given during fit. This will fail from v0.24.\n",
      "\n",
      "127.0.0.1 - - [23/May/2022 11:57:54] \"\u001b[37mPOST /_dash-update-component HTTP/1.1\u001b[0m\" 200 -\n",
      "C:\\Anaconda3\\lib\\site-packages\\sklearn\\compose\\_column_transformer.py:437: FutureWarning:\n",
      "\n",
      "Given feature/column names or counts do not match the ones for the data given during fit. This will fail from v0.24.\n",
      "\n",
      "127.0.0.1 - - [23/May/2022 11:57:54] \"\u001b[37mPOST /_dash-update-component HTTP/1.1\u001b[0m\" 200 -\n"
     ]
    },
    {
     "name": "stdout",
     "output_type": "stream",
     "text": [
      "I hurt my b\n",
      "Generating features\n",
      "      document  n_tokens  n_i  sentiment has_top_surprise_word  \\\n",
      "0  i hurt my b         4    1        0.0                     0   \n",
      "\n",
      "  has_top_love_word has_top_anger_word has_top_sadness_word has_top_fear_word  \\\n",
      "0                 0                  0                    0                 0   \n",
      "\n",
      "  has_top_joy_word  \n",
      "0                0  \n",
      "I hurt my ba\n",
      "Generating features\n",
      "       document  n_tokens  n_i  sentiment has_top_surprise_word  \\\n",
      "0  i hurt my ba         4    1        0.0                     0   \n",
      "\n",
      "  has_top_love_word has_top_anger_word has_top_sadness_word has_top_fear_word  \\\n",
      "0                 0                  0                    0                 0   \n",
      "\n",
      "  has_top_joy_word  \n",
      "0                0  \n"
     ]
    },
    {
     "name": "stderr",
     "output_type": "stream",
     "text": [
      "C:\\Anaconda3\\lib\\site-packages\\sklearn\\compose\\_column_transformer.py:437: FutureWarning:\n",
      "\n",
      "Given feature/column names or counts do not match the ones for the data given during fit. This will fail from v0.24.\n",
      "\n",
      "C:\\Anaconda3\\lib\\site-packages\\sklearn\\compose\\_column_transformer.py:437: FutureWarning:\n",
      "\n",
      "Given feature/column names or counts do not match the ones for the data given during fit. This will fail from v0.24.\n",
      "\n",
      "127.0.0.1 - - [23/May/2022 11:57:55] \"\u001b[37mPOST /_dash-update-component HTTP/1.1\u001b[0m\" 200 -\n",
      "127.0.0.1 - - [23/May/2022 11:57:55] \"\u001b[37mPOST /_dash-update-component HTTP/1.1\u001b[0m\" 200 -\n"
     ]
    },
    {
     "name": "stdout",
     "output_type": "stream",
     "text": [
      "I hurt my bac\n",
      "I hurt my back\n",
      "Generating features\n",
      "        document  n_tokens  n_i  sentiment has_top_surprise_word  \\\n",
      "0  i hurt my bac         4    1        0.0                     0   \n",
      "\n",
      "  has_top_love_word has_top_anger_word has_top_sadness_word has_top_fear_word  \\\n",
      "0                 0                  0                    0                 0   \n",
      "\n",
      "  has_top_joy_word  \n",
      "0                0  Generating features\n",
      "\n",
      "         document  n_tokens  n_i  sentiment has_top_surprise_word  \\\n",
      "0  i hurt my back         4    1        0.0                     0   \n",
      "\n",
      "  has_top_love_word has_top_anger_word has_top_sadness_word has_top_fear_word  \\\n",
      "0                 0                  0                    0                 0   \n",
      "\n",
      "  has_top_joy_word  \n",
      "0                0  \n"
     ]
    },
    {
     "name": "stderr",
     "output_type": "stream",
     "text": [
      "C:\\Anaconda3\\lib\\site-packages\\sklearn\\compose\\_column_transformer.py:437: FutureWarning:\n",
      "\n",
      "Given feature/column names or counts do not match the ones for the data given during fit. This will fail from v0.24.\n",
      "\n",
      "127.0.0.1 - - [23/May/2022 11:57:56] \"\u001b[37mPOST /_dash-update-component HTTP/1.1\u001b[0m\" 200 -\n"
     ]
    },
    {
     "name": "stdout",
     "output_type": "stream",
     "text": [
      "I hurt my back \n",
      "Generating features\n",
      "         document  n_tokens  n_i  sentiment has_top_surprise_word  \\\n",
      "0  i hurt my back         4    1        0.0                     0   \n",
      "\n",
      "  has_top_love_word has_top_anger_word has_top_sadness_word has_top_fear_word  \\\n",
      "0                 0                  0                    0                 0   \n",
      "\n",
      "  has_top_joy_word  \n",
      "0                0  \n"
     ]
    },
    {
     "name": "stderr",
     "output_type": "stream",
     "text": [
      "C:\\Anaconda3\\lib\\site-packages\\sklearn\\compose\\_column_transformer.py:437: FutureWarning:\n",
      "\n",
      "Given feature/column names or counts do not match the ones for the data given during fit. This will fail from v0.24.\n",
      "\n",
      "127.0.0.1 - - [23/May/2022 11:57:59] \"\u001b[37mPOST /_dash-update-component HTTP/1.1\u001b[0m\" 200 -\n"
     ]
    },
    {
     "name": "stdout",
     "output_type": "stream",
     "text": [
      "I hurt my back\n",
      "Generating features\n",
      "         document  n_tokens  n_i  sentiment has_top_surprise_word  \\\n",
      "0  i hurt my back         4    1        0.0                     0   \n",
      "\n",
      "  has_top_love_word has_top_anger_word has_top_sadness_word has_top_fear_word  \\\n",
      "0                 0                  0                    0                 0   \n",
      "\n",
      "  has_top_joy_word  \n",
      "0                0  \n"
     ]
    },
    {
     "name": "stderr",
     "output_type": "stream",
     "text": [
      "C:\\Anaconda3\\lib\\site-packages\\sklearn\\compose\\_column_transformer.py:437: FutureWarning:\n",
      "\n",
      "Given feature/column names or counts do not match the ones for the data given during fit. This will fail from v0.24.\n",
      "\n",
      "127.0.0.1 - - [23/May/2022 11:58:15] \"\u001b[37mPOST /_dash-update-component HTTP/1.1\u001b[0m\" 200 -\n"
     ]
    },
    {
     "name": "stdout",
     "output_type": "stream",
     "text": [
      "I a\n",
      "Generating features\n",
      "  document  n_tokens  n_i  sentiment has_top_surprise_word has_top_love_word  \\\n",
      "0        i         1    0        0.0                     0                 0   \n",
      "\n",
      "  has_top_anger_word has_top_sadness_word has_top_fear_word has_top_joy_word  \n",
      "0                  0                    0                 0                0  \n"
     ]
    },
    {
     "name": "stderr",
     "output_type": "stream",
     "text": [
      "C:\\Anaconda3\\lib\\site-packages\\sklearn\\compose\\_column_transformer.py:437: FutureWarning:\n",
      "\n",
      "Given feature/column names or counts do not match the ones for the data given during fit. This will fail from v0.24.\n",
      "\n",
      "127.0.0.1 - - [23/May/2022 11:58:16] \"\u001b[37mPOST /_dash-update-component HTTP/1.1\u001b[0m\" 200 -\n"
     ]
    },
    {
     "name": "stdout",
     "output_type": "stream",
     "text": [
      "I a \n",
      "Generating features\n",
      "  document  n_tokens  n_i  sentiment has_top_surprise_word has_top_love_word  \\\n",
      "0        i         1    0        0.0                     0                 0   \n",
      "\n",
      "  has_top_anger_word has_top_sadness_word has_top_fear_word has_top_joy_word  \n",
      "0                  0                    0                 0                0  \n"
     ]
    },
    {
     "name": "stderr",
     "output_type": "stream",
     "text": [
      "C:\\Anaconda3\\lib\\site-packages\\sklearn\\compose\\_column_transformer.py:437: FutureWarning:\n",
      "\n",
      "Given feature/column names or counts do not match the ones for the data given during fit. This will fail from v0.24.\n",
      "\n",
      "127.0.0.1 - - [23/May/2022 11:58:16] \"\u001b[37mPOST /_dash-update-component HTTP/1.1\u001b[0m\" 200 -\n"
     ]
    },
    {
     "name": "stdout",
     "output_type": "stream",
     "text": [
      "I a\n",
      "Generating features\n",
      "  document  n_tokens  n_i  sentiment has_top_surprise_word has_top_love_word  \\\n",
      "0        i         1    0        0.0                     0                 0   \n",
      "\n",
      "  has_top_anger_word has_top_sadness_word has_top_fear_word has_top_joy_word  \n",
      "0                  0                    0                 0                0  \n"
     ]
    },
    {
     "name": "stderr",
     "output_type": "stream",
     "text": [
      "C:\\Anaconda3\\lib\\site-packages\\sklearn\\compose\\_column_transformer.py:437: FutureWarning:\n",
      "\n",
      "Given feature/column names or counts do not match the ones for the data given during fit. This will fail from v0.24.\n",
      "\n",
      "127.0.0.1 - - [23/May/2022 11:58:16] \"\u001b[37mPOST /_dash-update-component HTTP/1.1\u001b[0m\" 200 -\n"
     ]
    },
    {
     "name": "stdout",
     "output_type": "stream",
     "text": [
      "I am\n",
      "Generating features\n",
      "  document  n_tokens  n_i  sentiment has_top_surprise_word has_top_love_word  \\\n",
      "0        i         1    0        0.0                     0                 0   \n",
      "\n",
      "  has_top_anger_word has_top_sadness_word has_top_fear_word has_top_joy_word  \n",
      "0                  0                    0                 0                0  \n",
      "I am \n",
      "Generating features\n",
      "I am f  document  n_tokens  n_i  sentiment has_top_surprise_word has_top_love_word  \\\n",
      "0        i         1    0        0.0                     0                 0   \n",
      "\n",
      "  has_top_anger_word has_top_sadness_word has_top_fear_word has_top_joy_word  \n",
      "0                  0                    0                 0                0  \n"
     ]
    },
    {
     "name": "stderr",
     "output_type": "stream",
     "text": [
      "C:\\Anaconda3\\lib\\site-packages\\sklearn\\compose\\_column_transformer.py:437: FutureWarning:\n",
      "\n",
      "Given feature/column names or counts do not match the ones for the data given during fit. This will fail from v0.24.\n",
      "\n",
      "127.0.0.1 - - [23/May/2022 11:58:16] \"\u001b[37mPOST /_dash-update-component HTTP/1.1\u001b[0m\" 200 -\n",
      "C:\\Anaconda3\\lib\\site-packages\\sklearn\\compose\\_column_transformer.py:437: FutureWarning:\n",
      "\n",
      "Given feature/column names or counts do not match the ones for the data given during fit. This will fail from v0.24.\n",
      "\n",
      "C:\\Anaconda3\\lib\\site-packages\\sklearn\\compose\\_column_transformer.py:437: FutureWarning:\n",
      "\n",
      "Given feature/column names or counts do not match the ones for the data given during fit. This will fail from v0.24.\n",
      "\n",
      "127.0.0.1 - - [23/May/2022 11:58:17] \"\u001b[37mPOST /_dash-update-component HTTP/1.1\u001b[0m\" 200 -\n"
     ]
    },
    {
     "name": "stdout",
     "output_type": "stream",
     "text": [
      "\n",
      "Generating features\n",
      "I am fe\n",
      "  document  n_tokens  n_i  sentiment has_top_surprise_word has_top_love_word  \\\n",
      "0      i f         2    1        0.0                     0                 0   \n",
      "\n",
      "  has_top_anger_word has_top_sadness_word has_top_fear_word has_top_joy_word  \n",
      "0                  0                    0                 0                0  \n",
      "Generating features\n",
      "  document  n_tokens  n_i  sentiment has_top_surprise_word has_top_love_word  \\\n",
      "0     i fe         2    1        0.0                     0                 0   \n",
      "\n",
      "  has_top_anger_word has_top_sadness_word has_top_fear_word has_top_joy_word  \n",
      "0                  0                    0                 0                0  \n"
     ]
    },
    {
     "name": "stderr",
     "output_type": "stream",
     "text": [
      "127.0.0.1 - - [23/May/2022 11:58:17] \"\u001b[37mPOST /_dash-update-component HTTP/1.1\u001b[0m\" 200 -\n",
      "C:\\Anaconda3\\lib\\site-packages\\sklearn\\compose\\_column_transformer.py:437: FutureWarning:\n",
      "\n",
      "Given feature/column names or counts do not match the ones for the data given during fit. This will fail from v0.24.\n",
      "\n",
      "127.0.0.1 - - [23/May/2022 11:58:17] \"\u001b[37mPOST /_dash-update-component HTTP/1.1\u001b[0m\" 200 -\n",
      "C:\\Anaconda3\\lib\\site-packages\\sklearn\\compose\\_column_transformer.py:437: FutureWarning:\n",
      "\n",
      "Given feature/column names or counts do not match the ones for the data given during fit. This will fail from v0.24.\n",
      "\n",
      "127.0.0.1 - - [23/May/2022 11:58:17] \"\u001b[37mPOST /_dash-update-component HTTP/1.1\u001b[0m\" 200 -\n"
     ]
    },
    {
     "name": "stdout",
     "output_type": "stream",
     "text": [
      "I am fee\n",
      "Generating features\n",
      "I am feel\n",
      "  document  n_tokens  n_i  sentiment has_top_surprise_word has_top_love_word  \\\n",
      "0    i fee         2    1        0.0                     0                 0   \n",
      "\n",
      "  has_top_anger_word has_top_sadness_word has_top_fear_word has_top_joy_word  \n",
      "0                  0                    0                 0                0  \n",
      "Generating features\n",
      "  document  n_tokens  n_i  sentiment has_top_surprise_word has_top_love_word  \\\n",
      "0   i feel         2    1        0.0                     0                 0   \n",
      "\n",
      "  has_top_anger_word has_top_sadness_word has_top_fear_word has_top_joy_word  \n",
      "0                  0                    0                 0                0  \n",
      "I am feeli\n",
      "I am feelin\n",
      "Generating features\n",
      "I am feeling\n",
      "I am feeling Generating features\n",
      "\n",
      "  document  n_tokens  n_i  sentiment has_top_surprise_word has_top_love_word  \\\n",
      "0  i feeli         2    1        0.0                     0                 0   \n",
      "\n",
      "  has_top_anger_word has_top_sadness_word has_top_fear_word has_top_joy_word  \n",
      "0                  0                    0                 0                0  \n",
      "I am feeling aGenerating features\n",
      "\n",
      "   document  n_tokens  n_i  sentiment has_top_surprise_word has_top_love_word  \\\n",
      "0  i feelin         2    1        0.0                     0                 0   \n",
      "\n",
      "  has_top_anger_word has_top_sadness_word has_top_fear_word has_top_joy_word  \n",
      "0                  0                    0                 0                0  Generating features\n",
      "\n",
      "Generating features"
     ]
    },
    {
     "name": "stderr",
     "output_type": "stream",
     "text": [
      "C:\\Anaconda3\\lib\\site-packages\\sklearn\\compose\\_column_transformer.py:437: FutureWarning:\n",
      "\n",
      "Given feature/column names or counts do not match the ones for the data given during fit. This will fail from v0.24.\n",
      "\n",
      "C:\\Anaconda3\\lib\\site-packages\\sklearn\\compose\\_column_transformer.py:437: FutureWarning:\n",
      "\n",
      "Given feature/column names or counts do not match the ones for the data given during fit. This will fail from v0.24.\n",
      "\n",
      "127.0.0.1 - - [23/May/2022 11:58:17] \"\u001b[37mPOST /_dash-update-component HTTP/1.1\u001b[0m\" 200 -\n",
      "C:\\Anaconda3\\lib\\site-packages\\sklearn\\compose\\_column_transformer.py:437: FutureWarning:\n",
      "\n",
      "Given feature/column names or counts do not match the ones for the data given during fit. This will fail from v0.24.\n",
      "\n",
      "C:\\Anaconda3\\lib\\site-packages\\sklearn\\compose\\_column_transformer.py:437: FutureWarning:\n",
      "\n",
      "Given feature/column names or counts do not match the ones for the data given during fit. This will fail from v0.24.\n",
      "\n",
      "C:\\Anaconda3\\lib\\site-packages\\sklearn\\compose\\_column_transformer.py:437: FutureWarning:\n",
      "\n",
      "Given feature/column names or counts do not match the ones for the data given during fit. This will fail from v0.24.\n",
      "\n",
      "127.0.0.1 - - [23/May/2022 11:58:17] \"\u001b[37mPOST /_dash-update-component HTTP/1.1\u001b[0m\" 200 -\n",
      "127.0.0.1 - - [23/May/2022 11:58:17] \"\u001b[37mPOST /_dash-update-component HTTP/1.1\u001b[0m\" 200 -\n"
     ]
    },
    {
     "name": "stdout",
     "output_type": "stream",
     "text": [
      "    document  n_tokens  n_i  sentiment has_top_surprise_word  \\\n",
      "0  i feeling         2    1        0.0                     0   \n",
      "\n",
      "  has_top_love_word has_top_anger_word has_top_sadness_word has_top_fear_word  \\\n",
      "0                 0                  0                    0                 0   \n",
      "\n",
      "  has_top_joy_word  \n",
      "0                0  \n",
      "\n",
      "    document  n_tokens  n_i  sentiment has_top_surprise_word  \\\n",
      "0  i feeling         2    1        0.0                     0   \n",
      "\n",
      "  has_top_love_word has_top_anger_word has_top_sadness_word has_top_fear_word  \\\n",
      "0                 0                  0                    0                 0   \n",
      "\n",
      "  has_top_joy_word  \n",
      "0                0  I am feeling ad\n",
      "\n",
      "    document  n_tokens  n_i  sentiment has_top_surprise_word  \\\n",
      "0  i feeling         2    1        0.0                     0   \n",
      "\n",
      "  has_top_love_word has_top_anger_word has_top_sadness_word has_top_fear_word  \\\n",
      "0                 0                  0                    0                 0   \n",
      "\n",
      "  has_top_joy_word  \n",
      "0                0  \n",
      "Generating features\n",
      "I am feeling ado\n",
      "       document  n_tokens  n_i  sentiment has_top_surprise_word  \\\n",
      "0  i feeling ad         3    1        0.0                     0   \n",
      "\n",
      "  has_top_love_word has_top_anger_word has_top_sadness_word has_top_fear_word  \\\n",
      "0                 0                  0                    0                 0   \n",
      "\n",
      "  has_top_joy_word  \n",
      "0                0  \n",
      "I am feeling ador"
     ]
    },
    {
     "name": "stderr",
     "output_type": "stream",
     "text": [
      "C:\\Anaconda3\\lib\\site-packages\\sklearn\\compose\\_column_transformer.py:437: FutureWarning:\n",
      "\n",
      "Given feature/column names or counts do not match the ones for the data given during fit. This will fail from v0.24.\n",
      "\n",
      "127.0.0.1 - - [23/May/2022 11:58:18] \"\u001b[37mPOST /_dash-update-component HTTP/1.1\u001b[0m\" 200 -\n",
      "127.0.0.1 - - [23/May/2022 11:58:18] \"\u001b[37mPOST /_dash-update-component HTTP/1.1\u001b[0m\" 200 -\n",
      "127.0.0.1 - - [23/May/2022 11:58:18] \"\u001b[37mPOST /_dash-update-component HTTP/1.1\u001b[0m\" 200 -\n"
     ]
    },
    {
     "name": "stdout",
     "output_type": "stream",
     "text": [
      "\n",
      "I am feeling adore\n",
      "Generating features\n",
      "Generating features\n",
      "Generating features\n",
      "I am feeling adored         document  n_tokens  n_i  sentiment has_top_surprise_word  \\\n",
      "0  i feeling ador         3    1        0.0                     0   \n",
      "\n",
      "  has_top_love_word has_top_anger_word has_top_sadness_word has_top_fear_word  \\\n",
      "0                 0                  0                    0                 0   \n",
      "\n",
      "  has_top_joy_word  \n",
      "0                0  \n",
      "\n",
      "        document  n_tokens  n_i  sentiment has_top_surprise_word  \\\n",
      "0  i feeling ado         3    1        0.0                     0   \n",
      "\n",
      "  has_top_love_word has_top_anger_word has_top_sadness_word has_top_fear_word  \\\n",
      "0                 0                  0                    0                 0   \n",
      "\n",
      "  has_top_joy_word  \n",
      "0                0  "
     ]
    },
    {
     "name": "stderr",
     "output_type": "stream",
     "text": [
      "C:\\Anaconda3\\lib\\site-packages\\sklearn\\compose\\_column_transformer.py:437: FutureWarning:\n",
      "\n",
      "Given feature/column names or counts do not match the ones for the data given during fit. This will fail from v0.24.\n",
      "\n",
      "C:\\Anaconda3\\lib\\site-packages\\sklearn\\compose\\_column_transformer.py:437: FutureWarning:\n",
      "\n",
      "Given feature/column names or counts do not match the ones for the data given during fit. This will fail from v0.24.\n",
      "\n",
      "C:\\Anaconda3\\lib\\site-packages\\sklearn\\compose\\_column_transformer.py:437: FutureWarning:\n",
      "\n",
      "Given feature/column names or counts do not match the ones for the data given during fit. This will fail from v0.24.\n",
      "\n",
      "127.0.0.1 - - [23/May/2022 11:58:18] \"\u001b[37mPOST /_dash-update-component HTTP/1.1\u001b[0m\" 200 -\n",
      "127.0.0.1 - - [23/May/2022 11:58:18] \"\u001b[37mPOST /_dash-update-component HTTP/1.1\u001b[0m\" 200 -\n",
      "127.0.0.1 - - [23/May/2022 11:58:18] \"\u001b[37mPOST /_dash-update-component HTTP/1.1\u001b[0m\" 200 -\n",
      "C:\\Anaconda3\\lib\\site-packages\\sklearn\\compose\\_column_transformer.py:437: FutureWarning:\n",
      "\n",
      "Given feature/column names or counts do not match the ones for the data given during fit. This will fail from v0.24.\n",
      "\n",
      "127.0.0.1 - - [23/May/2022 11:58:18] \"\u001b[37mPOST /_dash-update-component HTTP/1.1\u001b[0m\" 200 -\n"
     ]
    },
    {
     "name": "stdout",
     "output_type": "stream",
     "text": [
      "\n",
      "          document  n_tokens  n_i  sentiment has_top_surprise_word  \\\n",
      "0  i feeling adore         3    1        0.0                     0   \n",
      "\n",
      "  has_top_love_word has_top_anger_word has_top_sadness_word has_top_fear_word  \\\n",
      "0                 0                  0                    0                 0   \n",
      "\n",
      "  has_top_joy_word  \n",
      "0                0  \n",
      "Generating features\n",
      "           document  n_tokens  n_i  sentiment has_top_surprise_word  \\\n",
      "0  i feeling adored         3    1        0.0                     0   \n",
      "\n",
      "  has_top_love_word has_top_anger_word has_top_sadness_word has_top_fear_word  \\\n",
      "0                 0                  0                    0                 0   \n",
      "\n",
      "  has_top_joy_word  \n",
      "0                0  \n"
     ]
    },
    {
     "name": "stderr",
     "output_type": "stream",
     "text": [
      "C:\\Anaconda3\\lib\\site-packages\\sklearn\\compose\\_column_transformer.py:437: FutureWarning:\n",
      "\n",
      "Given feature/column names or counts do not match the ones for the data given during fit. This will fail from v0.24.\n",
      "\n",
      "127.0.0.1 - - [23/May/2022 11:58:39] \"\u001b[37mPOST /_dash-update-component HTTP/1.1\u001b[0m\" 200 -\n"
     ]
    },
    {
     "name": "stdout",
     "output_type": "stream",
     "text": [
      "I am feeling adore\n",
      "Generating features\n",
      "          document  n_tokens  n_i  sentiment has_top_surprise_word  \\\n",
      "0  i feeling adore         3    1        0.0                     0   \n",
      "\n",
      "  has_top_love_word has_top_anger_word has_top_sadness_word has_top_fear_word  \\\n",
      "0                 0                  0                    0                 0   \n",
      "\n",
      "  has_top_joy_word  \n",
      "0                0  \n",
      "I am feeling ador\n",
      "I am feeling ado\n",
      "I am feeling ad\n",
      "I am feeling aGenerating features\n",
      "\n"
     ]
    },
    {
     "name": "stderr",
     "output_type": "stream",
     "text": [
      "C:\\Anaconda3\\lib\\site-packages\\sklearn\\compose\\_column_transformer.py:437: FutureWarning:\n",
      "\n",
      "Given feature/column names or counts do not match the ones for the data given during fit. This will fail from v0.24.\n",
      "\n",
      "C:\\Anaconda3\\lib\\site-packages\\sklearn\\compose\\_column_transformer.py:437: FutureWarning:\n",
      "\n",
      "Given feature/column names or counts do not match the ones for the data given during fit. This will fail from v0.24.\n",
      "\n",
      "C:\\Anaconda3\\lib\\site-packages\\sklearn\\compose\\_column_transformer.py:437: FutureWarning:\n",
      "\n",
      "Given feature/column names or counts do not match the ones for the data given during fit. This will fail from v0.24.\n",
      "\n",
      "127.0.0.1 - - [23/May/2022 11:58:40] \"\u001b[37mPOST /_dash-update-component HTTP/1.1\u001b[0m\" 200 -\n"
     ]
    },
    {
     "name": "stdout",
     "output_type": "stream",
     "text": [
      "Generating features\n",
      "Generating features\n",
      "        document  n_tokens  n_i  sentiment has_top_surprise_word  \\\n",
      "0  i feeling ado         3    1        0.0                     0   \n",
      "\n",
      "  has_top_love_word has_top_anger_word has_top_sadness_word has_top_fear_word  \\\n",
      "0                 0                  0                    0                 0   \n",
      "\n",
      "  has_top_joy_word  \n",
      "0                0  \n",
      "         document  n_tokens  n_i  sentiment has_top_surprise_word  \\\n",
      "0  i feeling ador         3    1        0.0                     0   \n",
      "\n",
      "  has_top_love_word has_top_anger_word has_top_sadness_word has_top_fear_word  \\\n",
      "0                 0                  0                    0                 0   \n",
      "\n",
      "  has_top_joy_word  \n",
      "0                0  Generating features       document  n_tokens  n_i  sentiment has_top_surprise_word  \\\n",
      "0  i feeling ad         3    1        0.0                     0   \n",
      "\n",
      "  has_top_love_word has_top_anger_word has_top_sadness_word has_top_fear_word  \\\n",
      "0                 0                  0                    0                 0   \n",
      "\n",
      "  has_top_joy_word  \n",
      "0                0  \n",
      "\n",
      "\n",
      "    document  n_tokens  n_i  sentiment has_top_surprise_word  \\\n",
      "0  i feeling         2    1        0.0                     0   \n",
      "\n",
      "  has_top_love_word has_top_anger_word has_top_sadness_word has_top_fear_word  \\\n",
      "0                 0                  0                    0                 0   \n",
      "\n",
      "  has_top_joy_word  \n",
      "0                0  I am feeling \n",
      "\n"
     ]
    },
    {
     "name": "stderr",
     "output_type": "stream",
     "text": [
      "127.0.0.1 - - [23/May/2022 11:58:40] \"\u001b[37mPOST /_dash-update-component HTTP/1.1\u001b[0m\" 200 -\n",
      "127.0.0.1 - - [23/May/2022 11:58:40] \"\u001b[37mPOST /_dash-update-component HTTP/1.1\u001b[0m\" 200 -\n",
      "127.0.0.1 - - [23/May/2022 11:58:40] \"\u001b[37mPOST /_dash-update-component HTTP/1.1\u001b[0m\" 200 -\n",
      "C:\\Anaconda3\\lib\\site-packages\\sklearn\\compose\\_column_transformer.py:437: FutureWarning:\n",
      "\n",
      "Given feature/column names or counts do not match the ones for the data given during fit. This will fail from v0.24.\n",
      "\n",
      "127.0.0.1 - - [23/May/2022 11:58:40] \"\u001b[37mPOST /_dash-update-component HTTP/1.1\u001b[0m\" 200 -\n"
     ]
    },
    {
     "name": "stdout",
     "output_type": "stream",
     "text": [
      "Generating features\n",
      "    document  n_tokens  n_i  sentiment has_top_surprise_word  \\\n",
      "0  i feeling         2    1        0.0                     0   \n",
      "\n",
      "  has_top_love_word has_top_anger_word has_top_sadness_word has_top_fear_word  \\\n",
      "0                 0                  0                    0                 0   \n",
      "\n",
      "  has_top_joy_word  \n",
      "0                0  \n"
     ]
    },
    {
     "name": "stderr",
     "output_type": "stream",
     "text": [
      "C:\\Anaconda3\\lib\\site-packages\\sklearn\\compose\\_column_transformer.py:437: FutureWarning:\n",
      "\n",
      "Given feature/column names or counts do not match the ones for the data given during fit. This will fail from v0.24.\n",
      "\n",
      "127.0.0.1 - - [23/May/2022 11:58:43] \"\u001b[37mPOST /_dash-update-component HTTP/1.1\u001b[0m\" 200 -\n"
     ]
    },
    {
     "name": "stdout",
     "output_type": "stream",
     "text": [
      "I am feeling l\n",
      "Generating features\n",
      "      document  n_tokens  n_i  sentiment has_top_surprise_word  \\\n",
      "0  i feeling l         3    1        0.0                     0   \n",
      "\n",
      "  has_top_love_word has_top_anger_word has_top_sadness_word has_top_fear_word  \\\n",
      "0                 0                  0                    0                 0   \n",
      "\n",
      "  has_top_joy_word  \n",
      "0                0  \n",
      "I am feeling lo"
     ]
    },
    {
     "name": "stderr",
     "output_type": "stream",
     "text": [
      "C:\\Anaconda3\\lib\\site-packages\\sklearn\\compose\\_column_transformer.py:437: FutureWarning:\n",
      "\n",
      "Given feature/column names or counts do not match the ones for the data given during fit. This will fail from v0.24.\n",
      "\n",
      "127.0.0.1 - - [23/May/2022 11:58:43] \"\u001b[37mPOST /_dash-update-component HTTP/1.1\u001b[0m\" 200 -\n"
     ]
    },
    {
     "name": "stdout",
     "output_type": "stream",
     "text": [
      "\n",
      "Generating features\n",
      "       document  n_tokens  n_i  sentiment has_top_surprise_word  \\\n",
      "0  i feeling lo         3    1        0.0                     0   \n",
      "\n",
      "  has_top_love_word has_top_anger_word has_top_sadness_word has_top_fear_word  \\\n",
      "0                 0                  0                    0                 0   \n",
      "\n",
      "  has_top_joy_word  \n",
      "0                0  \n",
      "I am feeling lov\n",
      "Generating features\n",
      "        document  n_tokens  n_i  sentiment has_top_surprise_word  \\\n",
      "0  i feeling lov         3    1        0.0                     0   \n",
      "\n",
      "  has_top_love_word has_top_anger_word has_top_sadness_word has_top_fear_word  \\\n",
      "0                 0                  0                    0                 0   \n",
      "\n",
      "  has_top_joy_word  \n",
      "0                0  \n",
      "I am feeling love\n"
     ]
    },
    {
     "name": "stderr",
     "output_type": "stream",
     "text": [
      "C:\\Anaconda3\\lib\\site-packages\\sklearn\\compose\\_column_transformer.py:437: FutureWarning:\n",
      "\n",
      "Given feature/column names or counts do not match the ones for the data given during fit. This will fail from v0.24.\n",
      "\n",
      "127.0.0.1 - - [23/May/2022 11:58:43] \"\u001b[37mPOST /_dash-update-component HTTP/1.1\u001b[0m\" 200 -\n",
      "C:\\Anaconda3\\lib\\site-packages\\sklearn\\compose\\_column_transformer.py:437: FutureWarning:\n",
      "\n",
      "Given feature/column names or counts do not match the ones for the data given during fit. This will fail from v0.24.\n",
      "\n",
      "127.0.0.1 - - [23/May/2022 11:58:43] \"\u001b[37mPOST /_dash-update-component HTTP/1.1\u001b[0m\" 200 -\n"
     ]
    },
    {
     "name": "stdout",
     "output_type": "stream",
     "text": [
      "Generating features\n",
      "         document  n_tokens  n_i  sentiment has_top_surprise_word  \\\n",
      "0  i feeling love         3    1        0.5                     0   \n",
      "\n",
      "  has_top_love_word has_top_anger_word has_top_sadness_word has_top_fear_word  \\\n",
      "0                 0                  0                    0                 0   \n",
      "\n",
      "  has_top_joy_word  \n",
      "0                0  \n"
     ]
    },
    {
     "name": "stderr",
     "output_type": "stream",
     "text": [
      "C:\\Anaconda3\\lib\\site-packages\\sklearn\\compose\\_column_transformer.py:437: FutureWarning:\n",
      "\n",
      "Given feature/column names or counts do not match the ones for the data given during fit. This will fail from v0.24.\n",
      "\n",
      "127.0.0.1 - - [23/May/2022 11:58:45] \"\u001b[37mPOST /_dash-update-component HTTP/1.1\u001b[0m\" 200 -\n"
     ]
    },
    {
     "name": "stdout",
     "output_type": "stream",
     "text": [
      "I am feeling loved\n",
      "Generating features\n",
      "          document  n_tokens  n_i  sentiment has_top_surprise_word  \\\n",
      "0  i feeling loved         3    1        0.7                     0   \n",
      "\n",
      "  has_top_love_word has_top_anger_word has_top_sadness_word has_top_fear_word  \\\n",
      "0                 0                  0                    0                 0   \n",
      "\n",
      "  has_top_joy_word  \n",
      "0                0  \n"
     ]
    },
    {
     "name": "stderr",
     "output_type": "stream",
     "text": [
      "C:\\Anaconda3\\lib\\site-packages\\sklearn\\compose\\_column_transformer.py:437: FutureWarning:\n",
      "\n",
      "Given feature/column names or counts do not match the ones for the data given during fit. This will fail from v0.24.\n",
      "\n",
      "127.0.0.1 - - [23/May/2022 11:58:46] \"\u001b[37mPOST /_dash-update-component HTTP/1.1\u001b[0m\" 200 -\n"
     ]
    },
    {
     "name": "stdout",
     "output_type": "stream",
     "text": [
      "I am feeling love\n",
      "Generating features\n",
      "         document  n_tokens  n_i  sentiment has_top_surprise_word  \\\n",
      "0  i feeling love         3    1        0.5                     0   \n",
      "\n",
      "  has_top_love_word has_top_anger_word has_top_sadness_word has_top_fear_word  \\\n",
      "0                 0                  0                    0                 0   \n",
      "\n",
      "  has_top_joy_word  \n",
      "0                0  \n"
     ]
    },
    {
     "name": "stderr",
     "output_type": "stream",
     "text": [
      "C:\\Anaconda3\\lib\\site-packages\\sklearn\\compose\\_column_transformer.py:437: FutureWarning:\n",
      "\n",
      "Given feature/column names or counts do not match the ones for the data given during fit. This will fail from v0.24.\n",
      "\n",
      "127.0.0.1 - - [23/May/2022 11:58:48] \"\u001b[37mPOST /_dash-update-component HTTP/1.1\u001b[0m\" 200 -\n"
     ]
    },
    {
     "name": "stdout",
     "output_type": "stream",
     "text": [
      "I am feeling loved\n",
      "Generating features\n",
      "          document  n_tokens  n_i  sentiment has_top_surprise_word  \\\n",
      "0  i feeling loved         3    1        0.7                     0   \n",
      "\n",
      "  has_top_love_word has_top_anger_word has_top_sadness_word has_top_fear_word  \\\n",
      "0                 0                  0                    0                 0   \n",
      "\n",
      "  has_top_joy_word  \n",
      "0                0  \n"
     ]
    },
    {
     "name": "stderr",
     "output_type": "stream",
     "text": [
      "C:\\Anaconda3\\lib\\site-packages\\sklearn\\compose\\_column_transformer.py:437: FutureWarning:\n",
      "\n",
      "Given feature/column names or counts do not match the ones for the data given during fit. This will fail from v0.24.\n",
      "\n",
      "127.0.0.1 - - [23/May/2022 12:00:04] \"\u001b[37mPOST /_dash-update-component HTTP/1.1\u001b[0m\" 200 -\n"
     ]
    },
    {
     "name": "stdout",
     "output_type": "stream",
     "text": [
      "d\n",
      "Generating features\n",
      "  document  n_tokens  n_i  sentiment has_top_surprise_word has_top_love_word  \\\n",
      "0                  0    0        0.0                     0                 0   \n",
      "\n",
      "  has_top_anger_word has_top_sadness_word has_top_fear_word has_top_joy_word  \n",
      "0                  0                    0                 0                0  \n"
     ]
    },
    {
     "name": "stderr",
     "output_type": "stream",
     "text": [
      "C:\\Anaconda3\\lib\\site-packages\\sklearn\\compose\\_column_transformer.py:437: FutureWarning:\n",
      "\n",
      "Given feature/column names or counts do not match the ones for the data given during fit. This will fail from v0.24.\n",
      "\n",
      "127.0.0.1 - - [23/May/2022 12:00:05] \"\u001b[37mPOST /_dash-update-component HTTP/1.1\u001b[0m\" 200 -\n"
     ]
    },
    {
     "name": "stdout",
     "output_type": "stream",
     "text": [
      "de\n",
      "Generating features\n",
      "  document  n_tokens  n_i  sentiment has_top_surprise_word has_top_love_word  \\\n",
      "0       de         1    0        0.0                     0                 0   \n",
      "\n",
      "  has_top_anger_word has_top_sadness_word has_top_fear_word has_top_joy_word  \n",
      "0                  0                    0                 0                0  \n"
     ]
    },
    {
     "name": "stderr",
     "output_type": "stream",
     "text": [
      "C:\\Anaconda3\\lib\\site-packages\\sklearn\\compose\\_column_transformer.py:437: FutureWarning:\n",
      "\n",
      "Given feature/column names or counts do not match the ones for the data given during fit. This will fail from v0.24.\n",
      "\n",
      "127.0.0.1 - - [23/May/2022 12:00:05] \"\u001b[37mPOST /_dash-update-component HTTP/1.1\u001b[0m\" 200 -\n"
     ]
    },
    {
     "name": "stdout",
     "output_type": "stream",
     "text": [
      "dev\n",
      "Generating features\n",
      "  document  n_tokens  n_i  sentiment has_top_surprise_word has_top_love_word  \\\n",
      "0      dev         1    0        0.0                     0                 0   \n",
      "\n",
      "  has_top_anger_word has_top_sadness_word has_top_fear_word has_top_joy_word  \n",
      "0                  0                    0                 0                0  \n",
      "devo\n",
      "Generating features\n"
     ]
    },
    {
     "name": "stderr",
     "output_type": "stream",
     "text": [
      "C:\\Anaconda3\\lib\\site-packages\\sklearn\\compose\\_column_transformer.py:437: FutureWarning:\n",
      "\n",
      "Given feature/column names or counts do not match the ones for the data given during fit. This will fail from v0.24.\n",
      "\n",
      "127.0.0.1 - - [23/May/2022 12:00:05] \"\u001b[37mPOST /_dash-update-component HTTP/1.1\u001b[0m\" 200 -\n"
     ]
    },
    {
     "name": "stdout",
     "output_type": "stream",
     "text": [
      "  document  n_tokens  n_i  sentiment has_top_surprise_word has_top_love_word  \\\n",
      "0     devo         1    0        0.0                     0                 0   \n",
      "\n",
      "  has_top_anger_word has_top_sadness_word has_top_fear_word has_top_joy_word  \n",
      "0                  0                    0                 0                0  \n",
      "devot\n",
      "Generating features\n",
      "  document  n_tokens  n_i  sentiment has_top_surprise_word has_top_love_word  \\\n",
      "0    devot         1    0        0.0                     0                 0   \n",
      "\n",
      "  has_top_anger_word has_top_sadness_word has_top_fear_word has_top_joy_word  \n",
      "0                  0                    0                 0                0  devoti\n",
      "\n",
      "devotio\n"
     ]
    },
    {
     "name": "stderr",
     "output_type": "stream",
     "text": [
      "C:\\Anaconda3\\lib\\site-packages\\sklearn\\compose\\_column_transformer.py:437: FutureWarning:\n",
      "\n",
      "Given feature/column names or counts do not match the ones for the data given during fit. This will fail from v0.24.\n",
      "\n",
      "127.0.0.1 - - [23/May/2022 12:00:05] \"\u001b[37mPOST /_dash-update-component HTTP/1.1\u001b[0m\" 200 -\n",
      "C:\\Anaconda3\\lib\\site-packages\\sklearn\\compose\\_column_transformer.py:437: FutureWarning:\n",
      "\n",
      "Given feature/column names or counts do not match the ones for the data given during fit. This will fail from v0.24.\n",
      "\n",
      "C:\\Anaconda3\\lib\\site-packages\\sklearn\\compose\\_column_transformer.py:437: FutureWarning:\n",
      "\n",
      "Given feature/column names or counts do not match the ones for the data given during fit. This will fail from v0.24.\n",
      "\n",
      "127.0.0.1 - - [23/May/2022 12:00:06] \"\u001b[37mPOST /_dash-update-component HTTP/1.1\u001b[0m\" 200 -\n",
      "127.0.0.1 - - [23/May/2022 12:00:06] \"\u001b[37mPOST /_dash-update-component HTTP/1.1\u001b[0m\" 200 -\n",
      "127.0.0.1 - - [23/May/2022 12:00:06] \"\u001b[37mPOST /_dash-update-component HTTP/1.1\u001b[0m\" 200 -\n"
     ]
    },
    {
     "name": "stdout",
     "output_type": "stream",
     "text": [
      "devotionGenerating features\n",
      "\n",
      "Generating features\n",
      "Generating features\n",
      "  document  n_tokens  n_i  sentiment has_top_surprise_word has_top_love_word  \\\n",
      "0  devotio         1    0        0.0                     0                 0   \n",
      "\n",
      "  has_top_anger_word has_top_sadness_word has_top_fear_word has_top_joy_word  \n",
      "0                  0                    0                 0                0  \n",
      "  document  n_tokens  n_i  sentiment has_top_surprise_word has_top_love_word  \\\n",
      "0   devoti         1    0        0.0                     0                 0   \n",
      "\n",
      "  has_top_anger_word has_top_sadness_word has_top_fear_word has_top_joy_word  \n",
      "0                  0                    0                 0                0  \n",
      "   document  n_tokens  n_i  sentiment has_top_surprise_word has_top_love_word  \\\n",
      "0  devotion         1    0        0.0                     0                 0   \n",
      "\n",
      "  has_top_anger_word has_top_sadness_word has_top_fear_word has_top_joy_word  \n",
      "0                  0                    0                 0                0  \n"
     ]
    },
    {
     "name": "stderr",
     "output_type": "stream",
     "text": [
      "C:\\Anaconda3\\lib\\site-packages\\sklearn\\compose\\_column_transformer.py:437: FutureWarning:\n",
      "\n",
      "Given feature/column names or counts do not match the ones for the data given during fit. This will fail from v0.24.\n",
      "\n",
      "127.0.0.1 - - [23/May/2022 12:00:08] \"\u001b[37mPOST /_dash-update-component HTTP/1.1\u001b[0m\" 200 -\n"
     ]
    },
    {
     "name": "stdout",
     "output_type": "stream",
     "text": [
      "devotio\n",
      "Generating features\n",
      "  document  n_tokens  n_i  sentiment has_top_surprise_word has_top_love_word  \\\n",
      "0  devotio         1    0        0.0                     0                 0   \n",
      "\n",
      "  has_top_anger_word has_top_sadness_word has_top_fear_word has_top_joy_word  \n",
      "0                  0                    0                 0                0  \n",
      "devoti\n",
      "Generating features"
     ]
    },
    {
     "name": "stderr",
     "output_type": "stream",
     "text": [
      "C:\\Anaconda3\\lib\\site-packages\\sklearn\\compose\\_column_transformer.py:437: FutureWarning:\n",
      "\n",
      "Given feature/column names or counts do not match the ones for the data given during fit. This will fail from v0.24.\n",
      "\n",
      "127.0.0.1 - - [23/May/2022 12:00:08] \"\u001b[37mPOST /_dash-update-component HTTP/1.1\u001b[0m\" 200 -\n",
      "C:\\Anaconda3\\lib\\site-packages\\sklearn\\compose\\_column_transformer.py:437: FutureWarning:\n",
      "\n",
      "Given feature/column names or counts do not match the ones for the data given during fit. This will fail from v0.24.\n",
      "\n",
      "127.0.0.1 - - [23/May/2022 12:00:08] \"\u001b[37mPOST /_dash-update-component HTTP/1.1\u001b[0m\" 200 -\n"
     ]
    },
    {
     "name": "stdout",
     "output_type": "stream",
     "text": [
      "\n",
      "  document  n_tokens  n_i  sentiment has_top_surprise_word has_top_love_word  \\\n",
      "0   devoti         1    0        0.0                     0                 0   \n",
      "\n",
      "  has_top_anger_word has_top_sadness_word has_top_fear_word has_top_joy_word  \n",
      "0                  0                    0                 0                0  \n",
      "devot\n",
      "Generating features\n",
      "  document  n_tokens  n_i  sentiment has_top_surprise_word has_top_love_word  \\\n",
      "0    devot         1    0        0.0                     0                 0   \n",
      "\n",
      "  has_top_anger_word has_top_sadness_word has_top_fear_word has_top_joy_word  \n",
      "0                  0                    0                 0                0  \n",
      "devo\n",
      "dev\n",
      "Generating features\n",
      "Generating features\n"
     ]
    },
    {
     "name": "stderr",
     "output_type": "stream",
     "text": [
      "C:\\Anaconda3\\lib\\site-packages\\sklearn\\compose\\_column_transformer.py:437: FutureWarning:\n",
      "\n",
      "Given feature/column names or counts do not match the ones for the data given during fit. This will fail from v0.24.\n",
      "\n",
      "C:\\Anaconda3\\lib\\site-packages\\sklearn\\compose\\_column_transformer.py:437: FutureWarning:\n",
      "\n",
      "Given feature/column names or counts do not match the ones for the data given during fit. This will fail from v0.24.\n",
      "\n",
      "127.0.0.1 - - [23/May/2022 12:00:09] \"\u001b[37mPOST /_dash-update-component HTTP/1.1\u001b[0m\" 200 -\n",
      "127.0.0.1 - - [23/May/2022 12:00:09] \"\u001b[37mPOST /_dash-update-component HTTP/1.1\u001b[0m\" 200 -\n"
     ]
    },
    {
     "name": "stdout",
     "output_type": "stream",
     "text": [
      "de  document  n_tokens  n_i  sentiment has_top_surprise_word has_top_love_word  \\\n",
      "0      dev         1    0        0.0                     0                 0   \n",
      "\n",
      "  has_top_anger_word has_top_sadness_word has_top_fear_word has_top_joy_word  \n",
      "0                  0                    0                 0                0  \n",
      "\n",
      "  document  n_tokens  n_i  sentiment has_top_surprise_word has_top_love_word  \\\n",
      "0     devo         1    0        0.0                     0                 0   \n",
      "\n",
      "  has_top_anger_word has_top_sadness_word has_top_fear_word has_top_joy_word  \n",
      "0                  0                    0                 0                0  \n",
      "Generating features\n",
      "d\n",
      "  document  n_tokens  n_i  sentiment has_top_surprise_word has_top_love_word  \\\n",
      "0       de         1    0        0.0                     0                 0   \n",
      "\n",
      "  has_top_anger_word has_top_sadness_word has_top_fear_word has_top_joy_word  \n",
      "0                  0                    0                 0                0  \n",
      "Generating features\n"
     ]
    },
    {
     "name": "stderr",
     "output_type": "stream",
     "text": [
      "C:\\Anaconda3\\lib\\site-packages\\sklearn\\compose\\_column_transformer.py:437: FutureWarning:\n",
      "\n",
      "Given feature/column names or counts do not match the ones for the data given during fit. This will fail from v0.24.\n",
      "\n",
      "C:\\Anaconda3\\lib\\site-packages\\sklearn\\compose\\_column_transformer.py:437: FutureWarning:\n",
      "\n",
      "Given feature/column names or counts do not match the ones for the data given during fit. This will fail from v0.24.\n",
      "\n",
      "127.0.0.1 - - [23/May/2022 12:00:09] \"\u001b[37mPOST /_dash-update-component HTTP/1.1\u001b[0m\" 200 -\n",
      "127.0.0.1 - - [23/May/2022 12:00:09] \"\u001b[37mPOST /_dash-update-component HTTP/1.1\u001b[0m\" 200 -\n",
      "C:\\Anaconda3\\lib\\site-packages\\sklearn\\compose\\_column_transformer.py:437: FutureWarning:\n",
      "\n",
      "Given feature/column names or counts do not match the ones for the data given during fit. This will fail from v0.24.\n",
      "\n",
      "127.0.0.1 - - [23/May/2022 12:00:09] \"\u001b[37mPOST /_dash-update-component HTTP/1.1\u001b[0m\" 200 -\n"
     ]
    },
    {
     "name": "stdout",
     "output_type": "stream",
     "text": [
      "  document  n_tokens  n_i  sentiment has_top_surprise_word has_top_love_word  \\\n",
      "0                  0    0        0.0                     0                 0   \n",
      "\n",
      "  has_top_anger_word has_top_sadness_word has_top_fear_word has_top_joy_word  \n",
      "0                  0                    0                 0                0  \n",
      "\n",
      "Generating features\n",
      "  document  n_tokens  n_i  sentiment has_top_surprise_word has_top_love_word  \\\n",
      "0                  0    0        0.0                     0                 0   \n",
      "\n",
      "  has_top_anger_word has_top_sadness_word has_top_fear_word has_top_joy_word  \n",
      "0                  0                    0                 0                0  \n"
     ]
    },
    {
     "name": "stderr",
     "output_type": "stream",
     "text": [
      "C:\\Anaconda3\\lib\\site-packages\\sklearn\\compose\\_column_transformer.py:437: FutureWarning:\n",
      "\n",
      "Given feature/column names or counts do not match the ones for the data given during fit. This will fail from v0.24.\n",
      "\n",
      "127.0.0.1 - - [23/May/2022 12:00:12] \"\u001b[37mPOST /_dash-update-component HTTP/1.1\u001b[0m\" 200 -\n"
     ]
    },
    {
     "name": "stdout",
     "output_type": "stream",
     "text": [
      "I\n",
      "Generating features\n",
      "  document  n_tokens  n_i  sentiment has_top_surprise_word has_top_love_word  \\\n",
      "0        i         1    0        0.0                     0                 0   \n",
      "\n",
      "  has_top_anger_word has_top_sadness_word has_top_fear_word has_top_joy_word  \n",
      "0                  0                    0                 0                0  \n"
     ]
    },
    {
     "name": "stderr",
     "output_type": "stream",
     "text": [
      "C:\\Anaconda3\\lib\\site-packages\\sklearn\\compose\\_column_transformer.py:437: FutureWarning:\n",
      "\n",
      "Given feature/column names or counts do not match the ones for the data given during fit. This will fail from v0.24.\n",
      "\n",
      "127.0.0.1 - - [23/May/2022 12:00:13] \"\u001b[37mPOST /_dash-update-component HTTP/1.1\u001b[0m\" 200 -\n"
     ]
    },
    {
     "name": "stdout",
     "output_type": "stream",
     "text": [
      "I \n",
      "Generating features\n",
      "  document  n_tokens  n_i  sentiment has_top_surprise_word has_top_love_word  \\\n",
      "0        i         1    0        0.0                     0                 0   \n",
      "\n",
      "  has_top_anger_word has_top_sadness_word has_top_fear_word has_top_joy_word  \n",
      "0                  0                    0                 0                0  \n"
     ]
    },
    {
     "name": "stderr",
     "output_type": "stream",
     "text": [
      "C:\\Anaconda3\\lib\\site-packages\\sklearn\\compose\\_column_transformer.py:437: FutureWarning:\n",
      "\n",
      "Given feature/column names or counts do not match the ones for the data given during fit. This will fail from v0.24.\n",
      "\n",
      "C:\\Anaconda3\\lib\\site-packages\\sklearn\\compose\\_column_transformer.py:437: FutureWarning:\n",
      "\n",
      "Given feature/column names or counts do not match the ones for the data given during fit. This will fail from v0.24.\n",
      "\n",
      "127.0.0.1 - - [23/May/2022 12:00:15] \"\u001b[37mPOST /_dash-update-component HTTP/1.1\u001b[0m\" 200 -\n",
      "127.0.0.1 - - [23/May/2022 12:00:15] \"\u001b[37mPOST /_dash-update-component HTTP/1.1\u001b[0m\" 200 -\n"
     ]
    },
    {
     "name": "stdout",
     "output_type": "stream",
     "text": [
      "I l\n",
      "I li\n",
      "Generating features\n",
      "  document  n_tokens  n_i  sentiment has_top_surprise_word has_top_love_word  \\\n",
      "0      i l         2    1        0.0                     0                 0   \n",
      "\n",
      "  has_top_anger_word has_top_sadness_word has_top_fear_word has_top_joy_word  \n",
      "0                  0                    0                 0                0  \n",
      "Generating features\n",
      "  document  n_tokens  n_i  sentiment has_top_surprise_word has_top_love_word  \\\n",
      "0     i li         2    1        0.0                     0                 0   \n",
      "\n",
      "  has_top_anger_word has_top_sadness_word has_top_fear_word has_top_joy_word  \n",
      "0                  0                    0                 0                0  \n"
     ]
    },
    {
     "name": "stderr",
     "output_type": "stream",
     "text": [
      "C:\\Anaconda3\\lib\\site-packages\\sklearn\\compose\\_column_transformer.py:437: FutureWarning:\n",
      "\n",
      "Given feature/column names or counts do not match the ones for the data given during fit. This will fail from v0.24.\n",
      "\n",
      "127.0.0.1 - - [23/May/2022 12:00:16] \"\u001b[37mPOST /_dash-update-component HTTP/1.1\u001b[0m\" 200 -\n",
      "C:\\Anaconda3\\lib\\site-packages\\sklearn\\compose\\_column_transformer.py:437: FutureWarning:\n",
      "\n",
      "Given feature/column names or counts do not match the ones for the data given during fit. This will fail from v0.24.\n",
      "\n",
      "127.0.0.1 - - [23/May/2022 12:00:16] \"\u001b[37mPOST /_dash-update-component HTTP/1.1\u001b[0m\" 200 -\n"
     ]
    },
    {
     "name": "stdout",
     "output_type": "stream",
     "text": [
      "I lik\n",
      "Generating features\n",
      "I like\n",
      "  document  n_tokens  n_i  sentiment has_top_surprise_word has_top_love_word  \\\n",
      "0    i lik         2    1        0.0                     0                 0   \n",
      "\n",
      "  has_top_anger_word has_top_sadness_word has_top_fear_word has_top_joy_word  \n",
      "0                  0                    0                 0                0  \n",
      "Generating features\n",
      "  document  n_tokens  n_i  sentiment has_top_surprise_word has_top_love_word  \\\n",
      "0   i like         2    1        0.0                     0                 0   \n",
      "\n",
      "  has_top_anger_word has_top_sadness_word has_top_fear_word has_top_joy_word  \n",
      "0                  0                    0                 0                0  \n"
     ]
    },
    {
     "name": "stderr",
     "output_type": "stream",
     "text": [
      "C:\\Anaconda3\\lib\\site-packages\\sklearn\\compose\\_column_transformer.py:437: FutureWarning:\n",
      "\n",
      "Given feature/column names or counts do not match the ones for the data given during fit. This will fail from v0.24.\n",
      "\n",
      "127.0.0.1 - - [23/May/2022 12:00:16] \"\u001b[37mPOST /_dash-update-component HTTP/1.1\u001b[0m\" 200 -\n"
     ]
    },
    {
     "name": "stdout",
     "output_type": "stream",
     "text": [
      "I liked\n",
      "Generating features\n",
      "  document  n_tokens  n_i  sentiment has_top_surprise_word  has_top_love_word  \\\n",
      "0  i liked         2    1        0.6                     0                  1   \n",
      "\n",
      "  has_top_anger_word has_top_sadness_word has_top_fear_word has_top_joy_word  \n",
      "0                  0                    0                 0                0  \n",
      "I liked \n",
      "I liked m\n",
      "Generating features\n",
      "Generating features\n"
     ]
    },
    {
     "name": "stderr",
     "output_type": "stream",
     "text": [
      "C:\\Anaconda3\\lib\\site-packages\\sklearn\\compose\\_column_transformer.py:437: FutureWarning:\n",
      "\n",
      "Given feature/column names or counts do not match the ones for the data given during fit. This will fail from v0.24.\n",
      "\n",
      "C:\\Anaconda3\\lib\\site-packages\\sklearn\\compose\\_column_transformer.py:437: FutureWarning:\n",
      "\n",
      "Given feature/column names or counts do not match the ones for the data given during fit. This will fail from v0.24.\n",
      "\n",
      "127.0.0.1 - - [23/May/2022 12:00:16] \"\u001b[37mPOST /_dash-update-component HTTP/1.1\u001b[0m\" 200 -\n",
      "127.0.0.1 - - [23/May/2022 12:00:16] \"\u001b[37mPOST /_dash-update-component HTTP/1.1\u001b[0m\" 200 -\n"
     ]
    },
    {
     "name": "stdout",
     "output_type": "stream",
     "text": [
      "  document  n_tokens  n_i  sentiment has_top_surprise_word  has_top_love_word  \\\n",
      "0  i liked         2    1        0.6                     0                  1   \n",
      "\n",
      "  has_top_anger_word has_top_sadness_word has_top_fear_word has_top_joy_word  \n",
      "0                  0                    0                 0                0  \n",
      "  document  n_tokens  n_i  sentiment has_top_surprise_word  has_top_love_word  \\\n",
      "0  i liked         2    1        0.6                     0                  1   \n",
      "\n",
      "  has_top_anger_word has_top_sadness_word has_top_fear_word has_top_joy_word  \n",
      "0                  0                    0                 0                0  \n",
      "I liked my\n",
      "Generating features\n",
      "I liked my "
     ]
    },
    {
     "name": "stderr",
     "output_type": "stream",
     "text": [
      "C:\\Anaconda3\\lib\\site-packages\\sklearn\\compose\\_column_transformer.py:437: FutureWarning:\n",
      "\n",
      "Given feature/column names or counts do not match the ones for the data given during fit. This will fail from v0.24.\n",
      "\n",
      "C:\\Anaconda3\\lib\\site-packages\\sklearn\\compose\\_column_transformer.py:437: FutureWarning:\n",
      "\n",
      "Given feature/column names or counts do not match the ones for the data given during fit. This will fail from v0.24.\n",
      "\n",
      "127.0.0.1 - - [23/May/2022 12:00:16] \"\u001b[37mPOST /_dash-update-component HTTP/1.1\u001b[0m\" 200 -\n",
      "127.0.0.1 - - [23/May/2022 12:00:16] \"\u001b[37mPOST /_dash-update-component HTTP/1.1\u001b[0m\" 200 -\n"
     ]
    },
    {
     "name": "stdout",
     "output_type": "stream",
     "text": [
      "\n",
      "     document  n_tokens  n_i  sentiment has_top_surprise_word  \\\n",
      "0  i liked my         3    1        0.6                     0   \n",
      "\n",
      "   has_top_love_word has_top_anger_word has_top_sadness_word  \\\n",
      "0                  1                  0                    0   \n",
      "\n",
      "  has_top_fear_word has_top_joy_word  \n",
      "0                 0                0  \n",
      "Generating features\n",
      "     document  n_tokens  n_i  sentiment has_top_surprise_word  \\\n",
      "0  i liked my         3    1        0.6                     0   \n",
      "\n",
      "   has_top_love_word has_top_anger_word has_top_sadness_word  \\\n",
      "0                  1                  0                    0   \n",
      "\n",
      "  has_top_fear_word has_top_joy_word  \n",
      "0                 0                0  \n",
      "I liked my r\n"
     ]
    },
    {
     "name": "stderr",
     "output_type": "stream",
     "text": [
      "C:\\Anaconda3\\lib\\site-packages\\sklearn\\compose\\_column_transformer.py:437: FutureWarning:\n",
      "\n",
      "Given feature/column names or counts do not match the ones for the data given during fit. This will fail from v0.24.\n",
      "\n",
      "127.0.0.1 - - [23/May/2022 12:00:16] \"\u001b[37mPOST /_dash-update-component HTTP/1.1\u001b[0m\" 200 -\n",
      "C:\\Anaconda3\\lib\\site-packages\\sklearn\\compose\\_column_transformer.py:437: FutureWarning:\n",
      "\n",
      "Given feature/column names or counts do not match the ones for the data given during fit. This will fail from v0.24.\n",
      "\n",
      "127.0.0.1 - - [23/May/2022 12:00:16] \"\u001b[37mPOST /_dash-update-component HTTP/1.1\u001b[0m\" 200 -\n"
     ]
    },
    {
     "name": "stdout",
     "output_type": "stream",
     "text": [
      "Generating features\n",
      "I liked my ro\n",
      "       document  n_tokens  n_i  sentiment has_top_surprise_word  \\\n",
      "0  i liked my r         4    1        0.6                     0   \n",
      "\n",
      "   has_top_love_word has_top_anger_word has_top_sadness_word  \\\n",
      "0                  1                  0                    0   \n",
      "\n",
      "  has_top_fear_word has_top_joy_word  \n",
      "0                 0                0  \n",
      "Generating features\n",
      "        document  n_tokens  n_i  sentiment has_top_surprise_word  \\\n",
      "0  i liked my ro         4    1        0.6                     0   \n",
      "\n",
      "   has_top_love_word has_top_anger_word has_top_sadness_word  \\\n",
      "0                  1                  0                    0   \n",
      "\n",
      "  has_top_fear_word has_top_joy_word  \n",
      "0                 0                0  \n"
     ]
    },
    {
     "name": "stderr",
     "output_type": "stream",
     "text": [
      "C:\\Anaconda3\\lib\\site-packages\\sklearn\\compose\\_column_transformer.py:437: FutureWarning:\n",
      "\n",
      "Given feature/column names or counts do not match the ones for the data given during fit. This will fail from v0.24.\n",
      "\n",
      "127.0.0.1 - - [23/May/2022 12:00:17] \"\u001b[37mPOST /_dash-update-component HTTP/1.1\u001b[0m\" 200 -\n",
      "C:\\Anaconda3\\lib\\site-packages\\sklearn\\compose\\_column_transformer.py:437: FutureWarning:\n",
      "\n",
      "Given feature/column names or counts do not match the ones for the data given during fit. This will fail from v0.24.\n",
      "\n",
      "127.0.0.1 - - [23/May/2022 12:00:17] \"\u001b[37mPOST /_dash-update-component HTTP/1.1\u001b[0m\" 200 -\n"
     ]
    },
    {
     "name": "stdout",
     "output_type": "stream",
     "text": [
      "I liked my rom\n",
      "Generating features\n",
      "         document  n_tokens  n_i  sentiment has_top_surprise_word  \\\n",
      "0  i liked my rom         4    1        0.6                     0   \n",
      "\n",
      "   has_top_love_word has_top_anger_word has_top_sadness_word  \\\n",
      "0                  1                  0                    0   \n",
      "\n",
      "  has_top_fear_word has_top_joy_word  \n",
      "0                 0                0  \n",
      "I liked my roma\n",
      "Generating features\n",
      "         document  n_tokens  n_i  sentiment has_top_surprise_word  \\\n",
      "0  i liked my rom         4    1        0.6                     0   \n",
      "\n",
      "   has_top_love_word has_top_anger_word has_top_sadness_word  \\\n",
      "0                  1                  0                    0   \n",
      "\n",
      "  has_top_fear_word has_top_joy_word  \n",
      "0                 0                0  \n"
     ]
    },
    {
     "name": "stderr",
     "output_type": "stream",
     "text": [
      "C:\\Anaconda3\\lib\\site-packages\\sklearn\\compose\\_column_transformer.py:437: FutureWarning:\n",
      "\n",
      "Given feature/column names or counts do not match the ones for the data given during fit. This will fail from v0.24.\n",
      "\n",
      "127.0.0.1 - - [23/May/2022 12:00:17] \"\u001b[37mPOST /_dash-update-component HTTP/1.1\u001b[0m\" 200 -\n",
      "C:\\Anaconda3\\lib\\site-packages\\sklearn\\compose\\_column_transformer.py:437: FutureWarning:\n",
      "\n",
      "Given feature/column names or counts do not match the ones for the data given during fit. This will fail from v0.24.\n",
      "\n",
      "127.0.0.1 - - [23/May/2022 12:00:17] \"\u001b[37mPOST /_dash-update-component HTTP/1.1\u001b[0m\" 200 -\n"
     ]
    },
    {
     "name": "stdout",
     "output_type": "stream",
     "text": [
      "I liked my roman\n",
      "Generating features\n",
      "           document  n_tokens  n_i  sentiment has_top_surprise_word  \\\n",
      "0  i liked my roman         4    1        0.6                     0   \n",
      "\n",
      "   has_top_love_word has_top_anger_word has_top_sadness_word  \\\n",
      "0                  1                  0                    0   \n",
      "\n",
      "  has_top_fear_word has_top_joy_word  \n",
      "0                 0                0  \n",
      "I liked my romant\n",
      "Generating features\n",
      "            document  n_tokens  n_i  sentiment has_top_surprise_word  \\\n",
      "0  i liked my romant         4    1        0.6                     0   \n",
      "\n",
      "   has_top_love_word has_top_anger_word has_top_sadness_word  \\\n",
      "0                  1                  0                    0   \n",
      "\n",
      "  has_top_fear_word has_top_joy_word  \n",
      "0                 0                0  \n"
     ]
    },
    {
     "name": "stderr",
     "output_type": "stream",
     "text": [
      "C:\\Anaconda3\\lib\\site-packages\\sklearn\\compose\\_column_transformer.py:437: FutureWarning:\n",
      "\n",
      "Given feature/column names or counts do not match the ones for the data given during fit. This will fail from v0.24.\n",
      "\n",
      "127.0.0.1 - - [23/May/2022 12:00:17] \"\u001b[37mPOST /_dash-update-component HTTP/1.1\u001b[0m\" 200 -\n"
     ]
    },
    {
     "name": "stdout",
     "output_type": "stream",
     "text": [
      "I liked my romanti\n",
      "Generating features\n",
      "             document  n_tokens  n_i  sentiment has_top_surprise_word  \\\n",
      "0  i liked my romanti         4    1        0.6                     0   \n",
      "\n",
      "   has_top_love_word has_top_anger_word has_top_sadness_word  \\\n",
      "0                  1                  0                    0   \n",
      "\n",
      "  has_top_fear_word has_top_joy_word  \n",
      "0                 0                0  \n"
     ]
    },
    {
     "name": "stderr",
     "output_type": "stream",
     "text": [
      "C:\\Anaconda3\\lib\\site-packages\\sklearn\\compose\\_column_transformer.py:437: FutureWarning:\n",
      "\n",
      "Given feature/column names or counts do not match the ones for the data given during fit. This will fail from v0.24.\n",
      "\n",
      "127.0.0.1 - - [23/May/2022 12:00:18] \"\u001b[37mPOST /_dash-update-component HTTP/1.1\u001b[0m\" 200 -\n",
      "C:\\Anaconda3\\lib\\site-packages\\sklearn\\compose\\_column_transformer.py:437: FutureWarning:\n",
      "\n",
      "Given feature/column names or counts do not match the ones for the data given during fit. This will fail from v0.24.\n",
      "\n",
      "127.0.0.1 - - [23/May/2022 12:00:18] \"\u001b[37mPOST /_dash-update-component HTTP/1.1\u001b[0m\" 200 -\n"
     ]
    },
    {
     "name": "stdout",
     "output_type": "stream",
     "text": [
      "I liked my romantic\n",
      "Generating features\n",
      "              document  n_tokens  n_i  sentiment has_top_surprise_word  \\\n",
      "0  i liked my romantic         4    1        0.3                     0   \n",
      "\n",
      "   has_top_love_word has_top_anger_word has_top_sadness_word  \\\n",
      "0                  1                  0                    0   \n",
      "\n",
      "  has_top_fear_word has_top_joy_word  \n",
      "0                 0                0  \n",
      "I liked my romantic \n",
      "Generating features\n",
      "              document  n_tokens  n_i  sentiment has_top_surprise_word  \\\n",
      "0  i liked my romantic         4    1        0.3                     0   \n",
      "\n",
      "   has_top_love_word has_top_anger_word has_top_sadness_word  \\\n",
      "0                  1                  0                    0   \n",
      "\n",
      "  has_top_fear_word has_top_joy_word  \n",
      "0                 0                0  \n"
     ]
    },
    {
     "name": "stderr",
     "output_type": "stream",
     "text": [
      "C:\\Anaconda3\\lib\\site-packages\\sklearn\\compose\\_column_transformer.py:437: FutureWarning:\n",
      "\n",
      "Given feature/column names or counts do not match the ones for the data given during fit. This will fail from v0.24.\n",
      "\n",
      "127.0.0.1 - - [23/May/2022 12:00:18] \"\u001b[37mPOST /_dash-update-component HTTP/1.1\u001b[0m\" 200 -\n"
     ]
    },
    {
     "name": "stdout",
     "output_type": "stream",
     "text": [
      "I liked my romantic d\n",
      "Generating features\n",
      "              document  n_tokens  n_i  sentiment has_top_surprise_word  \\\n",
      "0  i liked my romantic         4    1        0.3                     0   \n",
      "\n",
      "   has_top_love_word has_top_anger_word has_top_sadness_word  \\\n",
      "0                  1                  0                    0   \n",
      "\n",
      "  has_top_fear_word has_top_joy_word  \n",
      "0                 0                0  \n",
      "I liked my romantic da\n",
      "Generating features\n",
      "                 document  n_tokens  n_i  sentiment has_top_surprise_word  \\\n",
      "0  i liked my romantic da         5    1        0.3                     0   \n",
      "\n",
      "   has_top_love_word has_top_anger_word has_top_sadness_word  \\\n",
      "0                  1                  0                    0   \n",
      "\n",
      "  has_top_fear_word has_top_joy_word  \n",
      "0                 0                0  "
     ]
    },
    {
     "name": "stderr",
     "output_type": "stream",
     "text": [
      "C:\\Anaconda3\\lib\\site-packages\\sklearn\\compose\\_column_transformer.py:437: FutureWarning:\n",
      "\n",
      "Given feature/column names or counts do not match the ones for the data given during fit. This will fail from v0.24.\n",
      "\n",
      "127.0.0.1 - - [23/May/2022 12:00:18] \"\u001b[37mPOST /_dash-update-component HTTP/1.1\u001b[0m\" 200 -\n"
     ]
    },
    {
     "name": "stdout",
     "output_type": "stream",
     "text": [
      "\n",
      "I liked my romantic dat\n",
      "I liked my romantic date\n",
      "Generating features\n",
      "                  document  n_tokens  n_i  sentiment has_top_surprise_word  \\\n",
      "0  i liked my romantic dat         5    1        0.3                     0   \n",
      "\n",
      "   has_top_love_word has_top_anger_word has_top_sadness_word  \\\n",
      "0                  1                  0                    0   \n",
      "\n",
      "  has_top_fear_word has_top_joy_word  \n",
      "0                 0                0  Generating features\n",
      "\n",
      "                   document  n_tokens  n_i  sentiment has_top_surprise_word  \\\n",
      "0  i liked my romantic date         5    1        0.3                     0   \n",
      "\n",
      "   has_top_love_word has_top_anger_word has_top_sadness_word  \\\n",
      "0                  1                  0                    0   \n",
      "\n",
      "  has_top_fear_word has_top_joy_word  \n",
      "0                 0                0  \n"
     ]
    },
    {
     "name": "stderr",
     "output_type": "stream",
     "text": [
      "C:\\Anaconda3\\lib\\site-packages\\sklearn\\compose\\_column_transformer.py:437: FutureWarning:\n",
      "\n",
      "Given feature/column names or counts do not match the ones for the data given during fit. This will fail from v0.24.\n",
      "\n",
      "C:\\Anaconda3\\lib\\site-packages\\sklearn\\compose\\_column_transformer.py:437: FutureWarning:\n",
      "\n",
      "Given feature/column names or counts do not match the ones for the data given during fit. This will fail from v0.24.\n",
      "\n",
      "127.0.0.1 - - [23/May/2022 12:00:19] \"\u001b[37mPOST /_dash-update-component HTTP/1.1\u001b[0m\" 200 -\n",
      "127.0.0.1 - - [23/May/2022 12:00:19] \"\u001b[37mPOST /_dash-update-component HTTP/1.1\u001b[0m\" 200 -\n",
      "C:\\Anaconda3\\lib\\site-packages\\sklearn\\compose\\_column_transformer.py:437: FutureWarning:\n",
      "\n",
      "Given feature/column names or counts do not match the ones for the data given during fit. This will fail from v0.24.\n",
      "\n",
      "127.0.0.1 - - [23/May/2022 12:01:09] \"\u001b[37mPOST /_dash-update-component HTTP/1.1\u001b[0m\" 200 -\n"
     ]
    },
    {
     "name": "stdout",
     "output_type": "stream",
     "text": [
      "t\n",
      "Generating features\n",
      "  document  n_tokens  n_i  sentiment has_top_surprise_word has_top_love_word  \\\n",
      "0                  0    0        0.0                     0                 0   \n",
      "\n",
      "  has_top_anger_word has_top_sadness_word has_top_fear_word has_top_joy_word  \n",
      "0                  0                    0                 0                0  \n",
      "th\n",
      "tha\n",
      "that\n",
      "Generating features\n",
      "Generating features\n",
      "that \n",
      "Generating features\n",
      "that w  document  n_tokens  n_i  sentiment has_top_surprise_word has_top_love_word  \\\n",
      "0       th         1    0        0.0                     0                 0   \n",
      "\n",
      "  has_top_anger_word has_top_sadness_word has_top_fear_word has_top_joy_word  \n",
      "0                  0                    0                 0                0  \n",
      "\n",
      "  document  n_tokens  n_i  sentiment has_top_surprise_word has_top_love_word  \\\n",
      "0      tha         1    0        0.0                     0                 0   \n",
      "\n",
      "  has_top_anger_word has_top_sadness_word has_top_fear_word has_top_joy_word  \n",
      "0                  0                    0                 0                0  \n",
      "  document  n_tokens  n_i  sentiment has_top_surprise_word has_top_love_word  \\\n",
      "0                  0    0        0.0                     0                 0   \n",
      "\n",
      "  has_top_anger_word has_top_sadness_word has_top_fear_word has_top_joy_word  \n",
      "0                  0                    0                 0                0  \n"
     ]
    },
    {
     "name": "stderr",
     "output_type": "stream",
     "text": [
      "C:\\Anaconda3\\lib\\site-packages\\sklearn\\compose\\_column_transformer.py:437: FutureWarning:\n",
      "\n",
      "Given feature/column names or counts do not match the ones for the data given during fit. This will fail from v0.24.\n",
      "\n",
      "C:\\Anaconda3\\lib\\site-packages\\sklearn\\compose\\_column_transformer.py:437: FutureWarning:\n",
      "\n",
      "Given feature/column names or counts do not match the ones for the data given during fit. This will fail from v0.24.\n",
      "\n",
      "C:\\Anaconda3\\lib\\site-packages\\sklearn\\compose\\_column_transformer.py:437: FutureWarning:\n",
      "\n",
      "Given feature/column names or counts do not match the ones for the data given during fit. This will fail from v0.24.\n",
      "\n",
      "C:\\Anaconda3\\lib\\site-packages\\sklearn\\compose\\_column_transformer.py:437: FutureWarning:\n",
      "\n",
      "Given feature/column names or counts do not match the ones for the data given during fit. This will fail from v0.24.\n",
      "\n",
      "127.0.0.1 - - [23/May/2022 12:01:09] \"\u001b[37mPOST /_dash-update-component HTTP/1.1\u001b[0m\" 200 -\n",
      "C:\\Anaconda3\\lib\\site-packages\\sklearn\\compose\\_column_transformer.py:437: FutureWarning:\n",
      "\n",
      "Given feature/column names or counts do not match the ones for the data given during fit. This will fail from v0.24.\n",
      "\n",
      "127.0.0.1 - - [23/May/2022 12:01:09] \"\u001b[37mPOST /_dash-update-component HTTP/1.1\u001b[0m\" 200 -\n",
      "127.0.0.1 - - [23/May/2022 12:01:09] \"\u001b[37mPOST /_dash-update-component HTTP/1.1\u001b[0m\" 200 -\n"
     ]
    },
    {
     "name": "stdout",
     "output_type": "stream",
     "text": [
      "Generating features\n",
      "Generating features\n",
      "  document  n_tokens  n_i  sentiment has_top_surprise_word has_top_love_word  \\\n",
      "0                  0    0        0.0                     0                 0   \n",
      "\n",
      "  has_top_anger_word has_top_sadness_word has_top_fear_word has_top_joy_word  \n",
      "0                  0                    0                 0                0  that wa\n",
      "\n",
      "  document  n_tokens  n_i  sentiment has_top_surprise_word has_top_love_word  \\\n",
      "0        w         1    0        0.0                     0                 0   \n",
      "\n",
      "  has_top_anger_word has_top_sadness_word has_top_fear_word has_top_joy_word  \n",
      "0                  0                    0                 0                0  \n",
      "Generating features\n"
     ]
    },
    {
     "name": "stderr",
     "output_type": "stream",
     "text": [
      "127.0.0.1 - - [23/May/2022 12:01:10] \"\u001b[37mPOST /_dash-update-component HTTP/1.1\u001b[0m\" 200 -\n",
      "127.0.0.1 - - [23/May/2022 12:01:10] \"\u001b[37mPOST /_dash-update-component HTTP/1.1\u001b[0m\" 200 -\n",
      "C:\\Anaconda3\\lib\\site-packages\\sklearn\\compose\\_column_transformer.py:437: FutureWarning:\n",
      "\n",
      "Given feature/column names or counts do not match the ones for the data given during fit. This will fail from v0.24.\n",
      "\n",
      "127.0.0.1 - - [23/May/2022 12:01:10] \"\u001b[37mPOST /_dash-update-component HTTP/1.1\u001b[0m\" 200 -\n"
     ]
    },
    {
     "name": "stdout",
     "output_type": "stream",
     "text": [
      "  document  n_tokens  n_i  sentiment has_top_surprise_word has_top_love_word  \\\n",
      "0       wa         1    0        0.0                     0                 0   \n",
      "\n",
      "  has_top_anger_word has_top_sadness_word has_top_fear_word has_top_joy_word  \n",
      "0                  0                    0                 0                0  \n",
      "that wasthat was \n",
      "\n",
      "that was s\n"
     ]
    },
    {
     "name": "stderr",
     "output_type": "stream",
     "text": [
      "C:\\Anaconda3\\lib\\site-packages\\sklearn\\compose\\_column_transformer.py:437: FutureWarning:\n",
      "\n",
      "Given feature/column names or counts do not match the ones for the data given during fit. This will fail from v0.24.\n",
      "\n",
      "C:\\Anaconda3\\lib\\site-packages\\sklearn\\compose\\_column_transformer.py:437: FutureWarning:\n",
      "\n",
      "Given feature/column names or counts do not match the ones for the data given during fit. This will fail from v0.24.\n",
      "\n",
      "C:\\Anaconda3\\lib\\site-packages\\sklearn\\compose\\_column_transformer.py:437: FutureWarning:\n",
      "\n",
      "Given feature/column names or counts do not match the ones for the data given during fit. This will fail from v0.24.\n",
      "\n",
      "127.0.0.1 - - [23/May/2022 12:01:10] \"\u001b[37mPOST /_dash-update-component HTTP/1.1\u001b[0m\" 200 -\n",
      "127.0.0.1 - - [23/May/2022 12:01:10] \"\u001b[37mPOST /_dash-update-component HTTP/1.1\u001b[0m\" 200 -\n",
      "127.0.0.1 - - [23/May/2022 12:01:10] \"\u001b[37mPOST /_dash-update-component HTTP/1.1\u001b[0m\" 200 -\n"
     ]
    },
    {
     "name": "stdout",
     "output_type": "stream",
     "text": [
      "Generating featuresGenerating features\n",
      "\n",
      "Generating features\n",
      "  document  n_tokens  n_i  sentiment has_top_surprise_word has_top_love_word  \\\n",
      "0       wa         1    0        0.0                     0                 0   \n",
      "\n",
      "  has_top_anger_word has_top_sadness_word has_top_fear_word has_top_joy_word  \n",
      "0                  0                    0                 0                0  \n",
      "  document  n_tokens  n_i  sentiment has_top_surprise_word has_top_love_word  \\\n",
      "0       wa         1    0        0.0                     0                 0   \n",
      "\n",
      "  has_top_anger_word has_top_sadness_word has_top_fear_word has_top_joy_word  \n",
      "0                  0                    0                 0                0  \n",
      "  document  n_tokens  n_i  sentiment has_top_surprise_word has_top_love_word  \\\n",
      "0       wa         1    0        0.0                     0                 0   \n",
      "\n",
      "  has_top_anger_word has_top_sadness_word has_top_fear_word has_top_joy_word  \n",
      "0                  0                    0                 0                0  \n",
      "that was sc"
     ]
    },
    {
     "name": "stderr",
     "output_type": "stream",
     "text": [
      "C:\\Anaconda3\\lib\\site-packages\\sklearn\\compose\\_column_transformer.py:437: FutureWarning:\n",
      "\n",
      "Given feature/column names or counts do not match the ones for the data given during fit. This will fail from v0.24.\n",
      "\n",
      "127.0.0.1 - - [23/May/2022 12:01:10] \"\u001b[37mPOST /_dash-update-component HTTP/1.1\u001b[0m\" 200 -\n"
     ]
    },
    {
     "name": "stdout",
     "output_type": "stream",
     "text": [
      "\n",
      "Generating features\n",
      "  document  n_tokens  n_i  sentiment has_top_surprise_word has_top_love_word  \\\n",
      "0    wa sc         2    0        0.0                     0                 0   \n",
      "\n",
      "  has_top_anger_word has_top_sadness_word has_top_fear_word has_top_joy_word  \n",
      "0                  0                    0                 0                0  \n",
      "that was sca\n",
      "Generating features"
     ]
    },
    {
     "name": "stderr",
     "output_type": "stream",
     "text": [
      "C:\\Anaconda3\\lib\\site-packages\\sklearn\\compose\\_column_transformer.py:437: FutureWarning:\n",
      "\n",
      "Given feature/column names or counts do not match the ones for the data given during fit. This will fail from v0.24.\n",
      "\n",
      "C:\\Anaconda3\\lib\\site-packages\\sklearn\\compose\\_column_transformer.py:437: FutureWarning:\n",
      "\n",
      "Given feature/column names or counts do not match the ones for the data given during fit. This will fail from v0.24.\n",
      "\n",
      "127.0.0.1 - - [23/May/2022 12:01:10] \"\u001b[37mPOST /_dash-update-component HTTP/1.1\u001b[0m\" 200 -\n",
      "127.0.0.1 - - [23/May/2022 12:01:10] \"\u001b[37mPOST /_dash-update-component HTTP/1.1\u001b[0m\" 200 -\n",
      "C:\\Anaconda3\\lib\\site-packages\\sklearn\\compose\\_column_transformer.py:437: FutureWarning:\n",
      "\n",
      "Given feature/column names or counts do not match the ones for the data given during fit. This will fail from v0.24.\n",
      "\n",
      "127.0.0.1 - - [23/May/2022 12:01:10] \"\u001b[37mPOST /_dash-update-component HTTP/1.1\u001b[0m\" 200 -\n"
     ]
    },
    {
     "name": "stdout",
     "output_type": "stream",
     "text": [
      "\n",
      "that was scar\n",
      "  document  n_tokens  n_i  sentiment has_top_surprise_word has_top_love_word  \\\n",
      "0   wa sca         2    0        0.0                     0                 0   \n",
      "\n",
      "  has_top_anger_word has_top_sadness_word has_top_fear_word has_top_joy_word  \n",
      "0                  0                    0                 0                0  \n",
      "Generating features\n",
      "  document  n_tokens  n_i  sentiment has_top_surprise_word has_top_love_word  \\\n",
      "0  wa scar         2    0        0.0                     0                 0   \n",
      "\n",
      "  has_top_anger_word has_top_sadness_word has_top_fear_word has_top_joy_word  \n",
      "0                  0                    0                 0                0  \n",
      "that was scary\n",
      "Generating features\n",
      "   document  n_tokens  n_i  sentiment has_top_surprise_word has_top_love_word  \\\n",
      "0  wa scary         2    0       -0.5                     0                 0   \n",
      "\n",
      "  has_top_anger_word has_top_sadness_word has_top_fear_word has_top_joy_word  \n",
      "0                  0                    0                 0                0  \n"
     ]
    },
    {
     "name": "stderr",
     "output_type": "stream",
     "text": [
      "C:\\Anaconda3\\lib\\site-packages\\sklearn\\compose\\_column_transformer.py:437: FutureWarning:\n",
      "\n",
      "Given feature/column names or counts do not match the ones for the data given during fit. This will fail from v0.24.\n",
      "\n",
      "127.0.0.1 - - [23/May/2022 12:01:14] \"\u001b[37mPOST /_dash-update-component HTTP/1.1\u001b[0m\" 200 -\n"
     ]
    },
    {
     "name": "stdout",
     "output_type": "stream",
     "text": [
      "that was scar\n",
      "Generating features\n",
      "  document  n_tokens  n_i  sentiment has_top_surprise_word has_top_love_word  \\\n",
      "0  wa scar         2    0        0.0                     0                 0   \n",
      "\n",
      "  has_top_anger_word has_top_sadness_word has_top_fear_word has_top_joy_word  \n",
      "0                  0                    0                 0                0  \n",
      "that was sca\n",
      "that was sc\n",
      "that was sGenerating features\n",
      "\n",
      "that was \n",
      "that was\n"
     ]
    },
    {
     "name": "stderr",
     "output_type": "stream",
     "text": [
      "C:\\Anaconda3\\lib\\site-packages\\sklearn\\compose\\_column_transformer.py:437: FutureWarning:\n",
      "\n",
      "Given feature/column names or counts do not match the ones for the data given during fit. This will fail from v0.24.\n",
      "\n",
      "C:\\Anaconda3\\lib\\site-packages\\sklearn\\compose\\_column_transformer.py:437: FutureWarning:\n",
      "\n",
      "Given feature/column names or counts do not match the ones for the data given during fit. This will fail from v0.24.\n",
      "\n",
      "C:\\Anaconda3\\lib\\site-packages\\sklearn\\compose\\_column_transformer.py:437: FutureWarning:\n",
      "\n",
      "Given feature/column names or counts do not match the ones for the data given during fit. This will fail from v0.24.\n",
      "\n",
      "C:\\Anaconda3\\lib\\site-packages\\sklearn\\compose\\_column_transformer.py:437: FutureWarning:\n",
      "\n",
      "Given feature/column names or counts do not match the ones for the data given during fit. This will fail from v0.24.\n",
      "\n",
      "127.0.0.1 - - [23/May/2022 12:01:15] \"\u001b[37mPOST /_dash-update-component HTTP/1.1\u001b[0m\" 200 -\n"
     ]
    },
    {
     "name": "stdout",
     "output_type": "stream",
     "text": [
      "that wa\n",
      "Generating features\n",
      "  document  n_tokens  n_i  sentiment has_top_surprise_word has_top_love_word  \\\n",
      "0   wa sca         2    0        0.0                     0                 0   \n",
      "\n",
      "  has_top_anger_word has_top_sadness_word has_top_fear_word has_top_joy_word  \n",
      "0                  0                    0                 0                0  \n",
      "Generating features\n",
      "Generating features\n",
      "Generating features\n",
      "Generating features\n",
      "  document  n_tokens  n_i  sentiment has_top_surprise_word has_top_love_word  \\\n",
      "0       wa         1    0        0.0                     0                 0   \n",
      "\n",
      "  has_top_anger_word has_top_sadness_word has_top_fear_word has_top_joy_word  \n",
      "0                  0                    0                 0                0  \n",
      "  document  n_tokens  n_i  sentiment has_top_surprise_word has_top_love_word  \\\n",
      "0    wa sc         2    0        0.0                     0                 0   \n",
      "\n",
      "  has_top_anger_word has_top_sadness_word has_top_fear_word has_top_joy_word  \n",
      "0                  0                    0                 0                0  \n",
      "  document  n_tokens  n_i  sentiment has_top_surprise_word has_top_love_word  \\\n",
      "0       wa         1    0        0.0                     0                 0   \n",
      "\n",
      "  has_top_anger_word has_top_sadness_word has_top_fear_word has_top_joy_word  \n",
      "0                  0                    0                 0                0  \n",
      "  document  n_tokens  n_i  sentiment has_top_surprise_word has_top_love_word  \\\n",
      "0       wa         1    0        0.0                     0                 0   \n",
      "\n",
      "  has_top_anger_word has_top_sadness_word has_top_fear_word has_top_joy_word  \n",
      "0                  0                    0                 0                0    document  n_tokens  n_i  sentiment has_top_surprise_word has_top_love_word  \\\n",
      "0       wa         1    0        0.0                     0                 0   \n",
      "\n",
      "  has_top_anger_word has_top_sadness_word has_top_fear_word has_top_joy_word  \n",
      "0                  0                    0                 0                0  \n"
     ]
    },
    {
     "name": "stderr",
     "output_type": "stream",
     "text": [
      "C:\\Anaconda3\\lib\\site-packages\\sklearn\\compose\\_column_transformer.py:437: FutureWarning:\n",
      "\n",
      "Given feature/column names or counts do not match the ones for the data given during fit. This will fail from v0.24.\n",
      "\n",
      "127.0.0.1 - - [23/May/2022 12:01:15] \"\u001b[37mPOST /_dash-update-component HTTP/1.1\u001b[0m\" 200 -\n",
      "127.0.0.1 - - [23/May/2022 12:01:15] \"\u001b[37mPOST /_dash-update-component HTTP/1.1\u001b[0m\" 200 -\n",
      "127.0.0.1 - - [23/May/2022 12:01:15] \"\u001b[37mPOST /_dash-update-component HTTP/1.1\u001b[0m\" 200 -\n",
      "127.0.0.1 - - [23/May/2022 12:01:15] \"\u001b[37mPOST /_dash-update-component HTTP/1.1\u001b[0m\" 200 -\n"
     ]
    },
    {
     "name": "stdout",
     "output_type": "stream",
     "text": [
      "\n",
      "that w\n",
      "that \n",
      "that\n",
      "Generating features\n",
      "Generating features\n"
     ]
    },
    {
     "name": "stderr",
     "output_type": "stream",
     "text": [
      "127.0.0.1 - - [23/May/2022 12:01:15] \"\u001b[37mPOST /_dash-update-component HTTP/1.1\u001b[0m\" 200 -\n",
      "C:\\Anaconda3\\lib\\site-packages\\sklearn\\compose\\_column_transformer.py:437: FutureWarning:\n",
      "\n",
      "Given feature/column names or counts do not match the ones for the data given during fit. This will fail from v0.24.\n",
      "\n",
      "C:\\Anaconda3\\lib\\site-packages\\sklearn\\compose\\_column_transformer.py:437: FutureWarning:\n",
      "\n",
      "Given feature/column names or counts do not match the ones for the data given during fit. This will fail from v0.24.\n",
      "\n",
      "C:\\Anaconda3\\lib\\site-packages\\sklearn\\compose\\_column_transformer.py:437: FutureWarning:\n",
      "\n",
      "Given feature/column names or counts do not match the ones for the data given during fit. This will fail from v0.24.\n",
      "\n",
      "C:\\Anaconda3\\lib\\site-packages\\sklearn\\compose\\_column_transformer.py:437: FutureWarning:\n",
      "\n",
      "Given feature/column names or counts do not match the ones for the data given during fit. This will fail from v0.24.\n",
      "\n",
      "127.0.0.1 - - [23/May/2022 12:01:15] \"\u001b[37mPOST /_dash-update-component HTTP/1.1\u001b[0m\" 200 -\n",
      "127.0.0.1 - - [23/May/2022 12:01:15] \"\u001b[37mPOST /_dash-update-component HTTP/1.1\u001b[0m\" 200 -\n"
     ]
    },
    {
     "name": "stdout",
     "output_type": "stream",
     "text": [
      "  document  n_tokens  n_i  sentiment has_top_surprise_word has_top_love_word  \\\n",
      "0                  0    0        0.0                     0                 0   \n",
      "\n",
      "  has_top_anger_word has_top_sadness_word has_top_fear_word has_top_joy_word  \n",
      "0                  0                    0                 0                0  tha\n",
      "Generating features\n",
      "\n",
      "th\n",
      "  document  n_tokens  n_i  sentiment has_top_surprise_word has_top_love_word  \\\n",
      "0        w         1    0        0.0                     0                 0   \n",
      "\n",
      "  has_top_anger_word has_top_sadness_word has_top_fear_word has_top_joy_word  \n",
      "0                  0                    0                 0                0  \n",
      "Generating features\n",
      "  document  n_tokens  n_i  sentiment has_top_surprise_word has_top_love_word  \\\n",
      "0                  0    0        0.0                     0                 0   \n",
      "\n",
      "  has_top_anger_word has_top_sadness_word has_top_fear_word has_top_joy_word  \n",
      "0                  0                    0                 0                0  \n",
      "  document  n_tokens  n_i  sentiment has_top_surprise_word has_top_love_word  \\\n",
      "0      tha         1    0        0.0                     0                 0   \n",
      "\n",
      "  has_top_anger_word has_top_sadness_word has_top_fear_word has_top_joy_word  \n",
      "0                  0                    0                 0                0  \n",
      "Generating features\n"
     ]
    },
    {
     "name": "stderr",
     "output_type": "stream",
     "text": [
      "C:\\Anaconda3\\lib\\site-packages\\sklearn\\compose\\_column_transformer.py:437: FutureWarning:\n",
      "\n",
      "Given feature/column names or counts do not match the ones for the data given during fit. This will fail from v0.24.\n",
      "\n",
      "127.0.0.1 - - [23/May/2022 12:01:15] \"\u001b[37mPOST /_dash-update-component HTTP/1.1\u001b[0m\" 200 -\n",
      "127.0.0.1 - - [23/May/2022 12:01:15] \"\u001b[37mPOST /_dash-update-component HTTP/1.1\u001b[0m\" 200 -\n",
      "127.0.0.1 - - [23/May/2022 12:01:15] \"\u001b[37mPOST /_dash-update-component HTTP/1.1\u001b[0m\" 200 -\n",
      "C:\\Anaconda3\\lib\\site-packages\\sklearn\\compose\\_column_transformer.py:437: FutureWarning:\n",
      "\n",
      "Given feature/column names or counts do not match the ones for the data given during fit. This will fail from v0.24.\n",
      "\n",
      "127.0.0.1 - - [23/May/2022 12:01:16] \"\u001b[37mPOST /_dash-update-component HTTP/1.1\u001b[0m\" 200 -\n"
     ]
    },
    {
     "name": "stdout",
     "output_type": "stream",
     "text": [
      "  document  n_tokens  n_i  sentiment has_top_surprise_word has_top_love_word  \\\n",
      "0       th         1    0        0.0                     0                 0   \n",
      "\n",
      "  has_top_anger_word has_top_sadness_word has_top_fear_word has_top_joy_word  \n",
      "0                  0                    0                 0                0  \n",
      "tha\n",
      "Generating features\n",
      "  document  n_tokens  n_i  sentiment has_top_surprise_word has_top_love_word  \\\n",
      "0      tha         1    0        0.0                     0                 0   \n",
      "\n",
      "  has_top_anger_word has_top_sadness_word has_top_fear_word has_top_joy_word  \n",
      "0                  0                    0                 0                0  \n",
      "that\n",
      "Generating features\n",
      "  document  n_tokens  n_i  sentiment has_top_surprise_word has_top_love_word  \\\n",
      "0                  0    0        0.0                     0                 0   \n",
      "\n",
      "  has_top_anger_word has_top_sadness_word has_top_fear_word has_top_joy_word  \n",
      "0                  0                    0                 0                0  that "
     ]
    },
    {
     "name": "stderr",
     "output_type": "stream",
     "text": [
      "C:\\Anaconda3\\lib\\site-packages\\sklearn\\compose\\_column_transformer.py:437: FutureWarning:\n",
      "\n",
      "Given feature/column names or counts do not match the ones for the data given during fit. This will fail from v0.24.\n",
      "\n",
      "127.0.0.1 - - [23/May/2022 12:01:16] \"\u001b[37mPOST /_dash-update-component HTTP/1.1\u001b[0m\" 200 -\n"
     ]
    },
    {
     "name": "stdout",
     "output_type": "stream",
     "text": [
      "\n",
      "\n",
      "that wGenerating features\n",
      "\n",
      "  document  n_tokens  n_i  sentiment has_top_surprise_word has_top_love_word  \\\n",
      "0                  0    0        0.0                     0                 0   \n",
      "\n",
      "  has_top_anger_word has_top_sadness_word has_top_fear_word has_top_joy_word  \n",
      "0                  0                    0                 0                0  \n",
      "Generating features\n",
      "  document  n_tokens  n_i  sentiment has_top_surprise_word has_top_love_word  \\\n",
      "0        w         1    0        0.0                     0                 0   \n",
      "\n",
      "  has_top_anger_word has_top_sadness_word has_top_fear_word has_top_joy_word  \n",
      "0                  0                    0                 0                0  \n",
      "that wa"
     ]
    },
    {
     "name": "stderr",
     "output_type": "stream",
     "text": [
      "C:\\Anaconda3\\lib\\site-packages\\sklearn\\compose\\_column_transformer.py:437: FutureWarning:\n",
      "\n",
      "Given feature/column names or counts do not match the ones for the data given during fit. This will fail from v0.24.\n",
      "\n",
      "C:\\Anaconda3\\lib\\site-packages\\sklearn\\compose\\_column_transformer.py:437: FutureWarning:\n",
      "\n",
      "Given feature/column names or counts do not match the ones for the data given during fit. This will fail from v0.24.\n",
      "\n",
      "127.0.0.1 - - [23/May/2022 12:01:16] \"\u001b[37mPOST /_dash-update-component HTTP/1.1\u001b[0m\" 200 -\n",
      "127.0.0.1 - - [23/May/2022 12:01:16] \"\u001b[37mPOST /_dash-update-component HTTP/1.1\u001b[0m\" 200 -\n"
     ]
    },
    {
     "name": "stdout",
     "output_type": "stream",
     "text": [
      "\n",
      "that was\n",
      "Generating features\n",
      "that was \n",
      "Generating features"
     ]
    },
    {
     "name": "stderr",
     "output_type": "stream",
     "text": [
      "C:\\Anaconda3\\lib\\site-packages\\sklearn\\compose\\_column_transformer.py:437: FutureWarning:\n",
      "\n",
      "Given feature/column names or counts do not match the ones for the data given during fit. This will fail from v0.24.\n",
      "\n",
      "C:\\Anaconda3\\lib\\site-packages\\sklearn\\compose\\_column_transformer.py:437: FutureWarning:\n",
      "\n",
      "Given feature/column names or counts do not match the ones for the data given during fit. This will fail from v0.24.\n",
      "\n",
      "127.0.0.1 - - [23/May/2022 12:01:16] \"\u001b[37mPOST /_dash-update-component HTTP/1.1\u001b[0m\" 200 -\n",
      "C:\\Anaconda3\\lib\\site-packages\\sklearn\\compose\\_column_transformer.py:437: FutureWarning:\n",
      "\n",
      "Given feature/column names or counts do not match the ones for the data given during fit. This will fail from v0.24.\n",
      "\n",
      "127.0.0.1 - - [23/May/2022 12:01:16] \"\u001b[37mPOST /_dash-update-component HTTP/1.1\u001b[0m\" 200 -\n",
      "127.0.0.1 - - [23/May/2022 12:01:16] \"\u001b[37mPOST /_dash-update-component HTTP/1.1\u001b[0m\" 200 -\n"
     ]
    },
    {
     "name": "stdout",
     "output_type": "stream",
     "text": [
      "  document  n_tokens  n_i  sentiment has_top_surprise_word has_top_love_word  \\\n",
      "0       wa         1    0        0.0                     0                 0   \n",
      "\n",
      "  has_top_anger_word has_top_sadness_word has_top_fear_word has_top_joy_word  \n",
      "0                  0                    0                 0                0  \n",
      "\n",
      "Generating features\n",
      "  document  n_tokens  n_i  sentiment has_top_surprise_word has_top_love_word  \\\n",
      "0       wa         1    0        0.0                     0                 0   \n",
      "\n",
      "  has_top_anger_word has_top_sadness_word has_top_fear_word has_top_joy_word  \n",
      "0                  0                    0                 0                0  \n",
      "  document  n_tokens  n_i  sentiment has_top_surprise_word has_top_love_word  \\\n",
      "0       wa         1    0        0.0                     0                 0   \n",
      "\n",
      "  has_top_anger_word has_top_sadness_word has_top_fear_word has_top_joy_word  \n",
      "0                  0                    0                 0                0  \n"
     ]
    },
    {
     "name": "stderr",
     "output_type": "stream",
     "text": [
      "C:\\Anaconda3\\lib\\site-packages\\sklearn\\compose\\_column_transformer.py:437: FutureWarning:\n",
      "\n",
      "Given feature/column names or counts do not match the ones for the data given during fit. This will fail from v0.24.\n",
      "\n",
      "127.0.0.1 - - [23/May/2022 12:01:16] \"\u001b[37mPOST /_dash-update-component HTTP/1.1\u001b[0m\" 200 -\n"
     ]
    },
    {
     "name": "stdout",
     "output_type": "stream",
     "text": [
      "that was s\n",
      "Generating features\n",
      "  document  n_tokens  n_i  sentiment has_top_surprise_word has_top_love_word  \\\n",
      "0       wa         1    0        0.0                     0                 0   \n",
      "\n",
      "  has_top_anger_word has_top_sadness_word has_top_fear_word has_top_joy_word  \n",
      "0                  0                    0                 0                0  \n"
     ]
    },
    {
     "name": "stderr",
     "output_type": "stream",
     "text": [
      "C:\\Anaconda3\\lib\\site-packages\\sklearn\\compose\\_column_transformer.py:437: FutureWarning:\n",
      "\n",
      "Given feature/column names or counts do not match the ones for the data given during fit. This will fail from v0.24.\n",
      "\n",
      "127.0.0.1 - - [23/May/2022 12:01:17] \"\u001b[37mPOST /_dash-update-component HTTP/1.1\u001b[0m\" 200 -\n",
      "C:\\Anaconda3\\lib\\site-packages\\sklearn\\compose\\_column_transformer.py:437: FutureWarning:\n",
      "\n",
      "Given feature/column names or counts do not match the ones for the data given during fit. This will fail from v0.24.\n",
      "\n",
      "127.0.0.1 - - [23/May/2022 12:01:17] \"\u001b[37mPOST /_dash-update-component HTTP/1.1\u001b[0m\" 200 -\n"
     ]
    },
    {
     "name": "stdout",
     "output_type": "stream",
     "text": [
      "that was sc\n",
      "Generating features\n",
      "  document  n_tokens  n_i  sentiment has_top_surprise_word has_top_love_word  \\\n",
      "0    wa sc         2    0        0.0                     0                 0   \n",
      "\n",
      "  has_top_anger_word has_top_sadness_word has_top_fear_word has_top_joy_word  \n",
      "0                  0                    0                 0                0  \n",
      "that was sca\n",
      "Generating features\n",
      "  document  n_tokens  n_i  sentiment has_top_surprise_word has_top_love_word  \\\n",
      "0   wa sca         2    0        0.0                     0                 0   \n",
      "\n",
      "  has_top_anger_word has_top_sadness_word has_top_fear_word has_top_joy_word  \n",
      "0                  0                    0                 0                0  \n"
     ]
    },
    {
     "name": "stderr",
     "output_type": "stream",
     "text": [
      "C:\\Anaconda3\\lib\\site-packages\\sklearn\\compose\\_column_transformer.py:437: FutureWarning:\n",
      "\n",
      "Given feature/column names or counts do not match the ones for the data given during fit. This will fail from v0.24.\n",
      "\n",
      "127.0.0.1 - - [23/May/2022 12:01:17] \"\u001b[37mPOST /_dash-update-component HTTP/1.1\u001b[0m\" 200 -\n",
      "C:\\Anaconda3\\lib\\site-packages\\sklearn\\compose\\_column_transformer.py:437: FutureWarning:\n",
      "\n",
      "Given feature/column names or counts do not match the ones for the data given during fit. This will fail from v0.24.\n",
      "\n",
      "127.0.0.1 - - [23/May/2022 12:01:17] \"\u001b[37mPOST /_dash-update-component HTTP/1.1\u001b[0m\" 200 -\n"
     ]
    },
    {
     "name": "stdout",
     "output_type": "stream",
     "text": [
      "that was scar\n",
      "Generating features\n",
      "  document  n_tokens  n_i  sentiment has_top_surprise_word has_top_love_word  \\\n",
      "0  wa scar         2    0        0.0                     0                 0   \n",
      "\n",
      "  has_top_anger_word has_top_sadness_word has_top_fear_word has_top_joy_word  \n",
      "0                  0                    0                 0                0  \n",
      "that was scary\n",
      "Generating features\n",
      "   document  n_tokens  n_i  sentiment has_top_surprise_word has_top_love_word  \\\n",
      "0  wa scary         2    0       -0.5                     0                 0   \n",
      "\n",
      "  has_top_anger_word has_top_sadness_word has_top_fear_word has_top_joy_word  \n",
      "0                  0                    0                 0                0  \n"
     ]
    },
    {
     "name": "stderr",
     "output_type": "stream",
     "text": [
      "C:\\Anaconda3\\lib\\site-packages\\sklearn\\compose\\_column_transformer.py:437: FutureWarning:\n",
      "\n",
      "Given feature/column names or counts do not match the ones for the data given during fit. This will fail from v0.24.\n",
      "\n",
      "127.0.0.1 - - [23/May/2022 12:01:20] \"\u001b[37mPOST /_dash-update-component HTTP/1.1\u001b[0m\" 200 -\n"
     ]
    },
    {
     "name": "stdout",
     "output_type": "stream",
     "text": [
      "that was scar\n",
      "Generating features\n",
      "  document  n_tokens  n_i  sentiment has_top_surprise_word has_top_love_word  \\\n",
      "0  wa scar         2    0        0.0                     0                 0   \n",
      "\n",
      "  has_top_anger_word has_top_sadness_word has_top_fear_word has_top_joy_word  \n",
      "0                  0                    0                 0                0  \n"
     ]
    },
    {
     "name": "stderr",
     "output_type": "stream",
     "text": [
      "C:\\Anaconda3\\lib\\site-packages\\sklearn\\compose\\_column_transformer.py:437: FutureWarning:\n",
      "\n",
      "Given feature/column names or counts do not match the ones for the data given during fit. This will fail from v0.24.\n",
      "\n",
      "127.0.0.1 - - [23/May/2022 12:01:23] \"\u001b[37mPOST /_dash-update-component HTTP/1.1\u001b[0m\" 200 -\n"
     ]
    },
    {
     "name": "stdout",
     "output_type": "stream",
     "text": [
      "that was scare\n",
      "Generating features\n",
      "   document  n_tokens  n_i  sentiment has_top_surprise_word has_top_love_word  \\\n",
      "0  wa scare         2    0        0.0                     0                 0   \n",
      "\n",
      "  has_top_anger_word has_top_sadness_word has_top_fear_word has_top_joy_word  \n",
      "0                  0                    0                 0                0  \n"
     ]
    },
    {
     "name": "stderr",
     "output_type": "stream",
     "text": [
      "C:\\Anaconda3\\lib\\site-packages\\sklearn\\compose\\_column_transformer.py:437: FutureWarning:\n",
      "\n",
      "Given feature/column names or counts do not match the ones for the data given during fit. This will fail from v0.24.\n",
      "\n",
      "127.0.0.1 - - [23/May/2022 12:01:23] \"\u001b[37mPOST /_dash-update-component HTTP/1.1\u001b[0m\" 200 -\n"
     ]
    },
    {
     "name": "stdout",
     "output_type": "stream",
     "text": [
      "that was scar\n",
      "Generating features\n",
      "  document  n_tokens  n_i  sentiment has_top_surprise_word has_top_love_word  \\\n",
      "0  wa scar         2    0        0.0                     0                 0   \n",
      "\n",
      "  has_top_anger_word has_top_sadness_word has_top_fear_word has_top_joy_word  \n",
      "0                  0                    0                 0                0  \n",
      "that was sca\n",
      "Generating features\n",
      "  document  n_tokens  n_i  sentiment has_top_surprise_word has_top_love_word  \\\n",
      "0   wa sca         2    0        0.0                     0                 0   \n",
      "\n",
      "  has_top_anger_word has_top_sadness_word has_top_fear_word has_top_joy_word  \n",
      "0                  0                    0                 0                0  "
     ]
    },
    {
     "name": "stderr",
     "output_type": "stream",
     "text": [
      "C:\\Anaconda3\\lib\\site-packages\\sklearn\\compose\\_column_transformer.py:437: FutureWarning:\n",
      "\n",
      "Given feature/column names or counts do not match the ones for the data given during fit. This will fail from v0.24.\n",
      "\n",
      "127.0.0.1 - - [23/May/2022 12:01:24] \"\u001b[37mPOST /_dash-update-component HTTP/1.1\u001b[0m\" 200 -\n",
      "C:\\Anaconda3\\lib\\site-packages\\sklearn\\compose\\_column_transformer.py:437: FutureWarning:\n",
      "\n",
      "Given feature/column names or counts do not match the ones for the data given during fit. This will fail from v0.24.\n",
      "\n",
      "127.0.0.1 - - [23/May/2022 12:01:24] \"\u001b[37mPOST /_dash-update-component HTTP/1.1\u001b[0m\" 200 -\n"
     ]
    },
    {
     "name": "stdout",
     "output_type": "stream",
     "text": [
      "\n",
      "that was sc\n",
      "Generating features\n",
      "  document  n_tokens  n_i  sentiment has_top_surprise_word has_top_love_word  \\\n",
      "0    wa sc         2    0        0.0                     0                 0   \n",
      "\n",
      "  has_top_anger_word has_top_sadness_word has_top_fear_word has_top_joy_word  \n",
      "0                  0                    0                 0                0  \n",
      "that was s\n",
      "that was \n",
      "that was\n",
      "that wa\n",
      "Generating features\n",
      "that w\n",
      "that \n",
      "Generating features\n",
      "Generating featuresGenerating features\n",
      "Generating features\n",
      "\n",
      "  document  n_tokens  n_i  sentiment has_top_surprise_word has_top_love_word  \\\n",
      "0        w         1    0        0.0                     0                 0   \n",
      "\n",
      "  has_top_anger_word has_top_sadness_word has_top_fear_word has_top_joy_word  \n",
      "0                  0                    0                 0                0  \n",
      "  document  n_tokens  n_i  sentiment has_top_surprise_word has_top_love_word  \\\n",
      "0       wa         1    0        0.0                     0                 0   \n",
      "\n",
      "  has_top_anger_word has_top_sadness_word has_top_fear_word has_top_joy_word  \n",
      "0                  0                    0                 0                0  Generating features  document  n_tokens  n_i  sentiment has_top_surprise_word has_top_love_word  \\\n",
      "0       wa         1    0        0.0                     0                 0   \n",
      "\n",
      "  has_top_anger_word has_top_sadness_word has_top_fear_word has_top_joy_word  \n",
      "0                  0                    0                 0                0  \n",
      "\n",
      "\n",
      "  document  n_tokens  n_i  sentiment has_top_surprise_word has_top_love_word  \\\n",
      "0       wa         1    0        0.0                     0                 0   \n",
      "\n",
      "  has_top_anger_word has_top_sadness_word has_top_fear_word has_top_joy_word  \n",
      "0                  0                    0                 0                0  \n"
     ]
    },
    {
     "name": "stderr",
     "output_type": "stream",
     "text": [
      "C:\\Anaconda3\\lib\\site-packages\\sklearn\\compose\\_column_transformer.py:437: FutureWarning:\n",
      "\n",
      "Given feature/column names or counts do not match the ones for the data given during fit. This will fail from v0.24.\n",
      "\n",
      "C:\\Anaconda3\\lib\\site-packages\\sklearn\\compose\\_column_transformer.py:437: FutureWarning:\n",
      "\n",
      "Given feature/column names or counts do not match the ones for the data given during fit. This will fail from v0.24.\n",
      "\n",
      "C:\\Anaconda3\\lib\\site-packages\\sklearn\\compose\\_column_transformer.py:437: FutureWarning:\n",
      "\n",
      "Given feature/column names or counts do not match the ones for the data given during fit. This will fail from v0.24.\n",
      "\n",
      "C:\\Anaconda3\\lib\\site-packages\\sklearn\\compose\\_column_transformer.py:437: FutureWarning:\n",
      "\n",
      "Given feature/column names or counts do not match the ones for the data given during fit. This will fail from v0.24.\n",
      "\n",
      "127.0.0.1 - - [23/May/2022 12:01:25] \"\u001b[37mPOST /_dash-update-component HTTP/1.1\u001b[0m\" 200 -\n",
      "C:\\Anaconda3\\lib\\site-packages\\sklearn\\compose\\_column_transformer.py:437: FutureWarning:\n",
      "\n",
      "Given feature/column names or counts do not match the ones for the data given during fit. This will fail from v0.24.\n",
      "\n",
      "127.0.0.1 - - [23/May/2022 12:01:25] \"\u001b[37mPOST /_dash-update-component HTTP/1.1\u001b[0m\" 200 -\n",
      "127.0.0.1 - - [23/May/2022 12:01:25] \"\u001b[37mPOST /_dash-update-component HTTP/1.1\u001b[0m\" 200 -\n",
      "127.0.0.1 - - [23/May/2022 12:01:25] \"\u001b[37mPOST /_dash-update-component HTTP/1.1\u001b[0m\" 200 -\n",
      "127.0.0.1 - - [23/May/2022 12:01:25] \"\u001b[37mPOST /_dash-update-component HTTP/1.1\u001b[0m\" 200 -\n",
      "127.0.0.1 - - [23/May/2022 12:01:25] \"\u001b[37mPOST /_dash-update-component HTTP/1.1\u001b[0m\" 200 -\n"
     ]
    },
    {
     "name": "stdout",
     "output_type": "stream",
     "text": [
      "  document  n_tokens  n_i  sentiment has_top_surprise_word has_top_love_word  \\\n",
      "0       wa         1    0        0.0                     0                 0   \n",
      "\n",
      "  has_top_anger_word has_top_sadness_word has_top_fear_word has_top_joy_word  \n",
      "0                  0                    0                 0                0  \n",
      "  document  n_tokens  n_i  sentiment has_top_surprise_word has_top_love_word  \\\n",
      "0                  0    0        0.0                     0                 0   \n",
      "\n",
      "  has_top_anger_word has_top_sadness_word has_top_fear_word has_top_joy_word  \n",
      "0                  0                    0                 0                0  \n",
      "that\n",
      "Generating features\n"
     ]
    },
    {
     "name": "stderr",
     "output_type": "stream",
     "text": [
      "C:\\Anaconda3\\lib\\site-packages\\sklearn\\compose\\_column_transformer.py:437: FutureWarning:\n",
      "\n",
      "Given feature/column names or counts do not match the ones for the data given during fit. This will fail from v0.24.\n",
      "\n"
     ]
    },
    {
     "name": "stdout",
     "output_type": "stream",
     "text": [
      "ththa\n",
      "  document  n_tokens  n_i  sentiment has_top_surprise_word has_top_love_word  \\\n",
      "0                  0    0        0.0                     0                 0   \n",
      "\n",
      "  has_top_anger_word has_top_sadness_word has_top_fear_word has_top_joy_word  \n",
      "0                  0                    0                 0                0  t\n",
      "\n",
      "\n",
      "s\n",
      "\n",
      "Generating features\n",
      "Generating features\n"
     ]
    },
    {
     "name": "stderr",
     "output_type": "stream",
     "text": [
      "C:\\Anaconda3\\lib\\site-packages\\sklearn\\compose\\_column_transformer.py:437: FutureWarning:\n",
      "\n",
      "Given feature/column names or counts do not match the ones for the data given during fit. This will fail from v0.24.\n",
      "\n",
      "127.0.0.1 - - [23/May/2022 12:01:25] \"\u001b[37mPOST /_dash-update-component HTTP/1.1\u001b[0m\" 200 -\n",
      "C:\\Anaconda3\\lib\\site-packages\\sklearn\\compose\\_column_transformer.py:437: FutureWarning:\n",
      "\n",
      "Given feature/column names or counts do not match the ones for the data given during fit. This will fail from v0.24.\n",
      "\n",
      "C:\\Anaconda3\\lib\\site-packages\\sklearn\\compose\\_column_transformer.py:437: FutureWarning:\n",
      "\n",
      "Given feature/column names or counts do not match the ones for the data given during fit. This will fail from v0.24.\n",
      "\n",
      "127.0.0.1 - - [23/May/2022 12:01:25] \"\u001b[37mPOST /_dash-update-component HTTP/1.1\u001b[0m\" 200 -\n",
      "C:\\Anaconda3\\lib\\site-packages\\sklearn\\compose\\_column_transformer.py:437: FutureWarning:\n",
      "\n",
      "Given feature/column names or counts do not match the ones for the data given during fit. This will fail from v0.24.\n",
      "\n",
      "127.0.0.1 - - [23/May/2022 12:01:25] \"\u001b[37mPOST /_dash-update-component HTTP/1.1\u001b[0m\" 200 -\n",
      "127.0.0.1 - - [23/May/2022 12:01:26] \"\u001b[37mPOST /_dash-update-component HTTP/1.1\u001b[0m\" 200 -\n"
     ]
    },
    {
     "name": "stdout",
     "output_type": "stream",
     "text": [
      "Generating features\n",
      "Generating features\n",
      "Generating features\n",
      "  document  n_tokens  n_i  sentiment has_top_surprise_word has_top_love_word  \\\n",
      "0      tha         1    0        0.0                     0                 0   \n",
      "\n",
      "  has_top_anger_word has_top_sadness_word has_top_fear_word has_top_joy_word  \n",
      "0                  0                    0                 0                0  \n",
      "  document  n_tokens  n_i  sentiment has_top_surprise_word has_top_love_word  \\\n",
      "0                  0    0        0.0                     0                 0   \n",
      "\n",
      "  has_top_anger_word has_top_sadness_word has_top_fear_word has_top_joy_word  \n",
      "0                  0                    0                 0                0    document  n_tokens  n_i  sentiment has_top_surprise_word has_top_love_word  \\\n",
      "0       th         1    0        0.0                     0                 0   \n",
      "\n",
      "  has_top_anger_word has_top_sadness_word has_top_fear_word has_top_joy_word  \n",
      "0                  0                    0                 0                0  \n",
      "\n",
      "  document  n_tokens  n_i  sentiment has_top_surprise_word has_top_love_word  \\\n",
      "0                  0    0        0.0                     0                 0   \n",
      "\n",
      "  has_top_anger_word has_top_sadness_word has_top_fear_word has_top_joy_word  \n",
      "0                  0                    0                 0                0  \n",
      "  document  n_tokens  n_i  sentiment has_top_surprise_word has_top_love_word  \\\n",
      "0                  0    0        0.0                     0                 0   \n",
      "\n",
      "  has_top_anger_word has_top_sadness_word has_top_fear_word has_top_joy_word  \n",
      "0                  0                    0                 0                0  \n",
      "sc"
     ]
    },
    {
     "name": "stderr",
     "output_type": "stream",
     "text": [
      "127.0.0.1 - - [23/May/2022 12:01:26] \"\u001b[37mPOST /_dash-update-component HTTP/1.1\u001b[0m\" 200 -\n",
      "127.0.0.1 - - [23/May/2022 12:01:26] \"\u001b[37mPOST /_dash-update-component HTTP/1.1\u001b[0m\" 200 -\n",
      "C:\\Anaconda3\\lib\\site-packages\\sklearn\\compose\\_column_transformer.py:437: FutureWarning:\n",
      "\n",
      "Given feature/column names or counts do not match the ones for the data given during fit. This will fail from v0.24.\n",
      "\n"
     ]
    },
    {
     "name": "stdout",
     "output_type": "stream",
     "text": [
      "\n",
      "Generating features\n",
      "  document  n_tokens  n_i  sentiment has_top_surprise_word has_top_love_word  \\\n",
      "0       sc         1    0        0.0                     0                 0   \n",
      "\n",
      "  has_top_anger_word has_top_sadness_word has_top_fear_word has_top_joy_word  \n",
      "0                  0                    0                 0                0  scar\n",
      "\n",
      "sca\n",
      "Generating features\n",
      "scare\n"
     ]
    },
    {
     "name": "stderr",
     "output_type": "stream",
     "text": [
      "127.0.0.1 - - [23/May/2022 12:01:26] \"\u001b[37mPOST /_dash-update-component HTTP/1.1\u001b[0m\" 200 -\n",
      "C:\\Anaconda3\\lib\\site-packages\\sklearn\\compose\\_column_transformer.py:437: FutureWarning:\n",
      "\n",
      "Given feature/column names or counts do not match the ones for the data given during fit. This will fail from v0.24.\n",
      "\n",
      "C:\\Anaconda3\\lib\\site-packages\\sklearn\\compose\\_column_transformer.py:437: FutureWarning:\n",
      "\n",
      "Given feature/column names or counts do not match the ones for the data given during fit. This will fail from v0.24.\n",
      "\n",
      "C:\\Anaconda3\\lib\\site-packages\\sklearn\\compose\\_column_transformer.py:437: FutureWarning:\n",
      "\n",
      "Given feature/column names or counts do not match the ones for the data given during fit. This will fail from v0.24.\n",
      "\n",
      "C:\\Anaconda3\\lib\\site-packages\\sklearn\\compose\\_column_transformer.py:437: FutureWarning:\n",
      "\n",
      "Given feature/column names or counts do not match the ones for the data given during fit. This will fail from v0.24.\n",
      "\n",
      "127.0.0.1 - - [23/May/2022 12:01:26] \"\u001b[37mPOST /_dash-update-component HTTP/1.1\u001b[0m\" 200 -\n",
      "127.0.0.1 - - [23/May/2022 12:01:26] \"\u001b[37mPOST /_dash-update-component HTTP/1.1\u001b[0m\" 200 -\n"
     ]
    },
    {
     "name": "stdout",
     "output_type": "stream",
     "text": [
      "scared\n",
      "Generating features\n",
      "Generating features\n",
      "  document  n_tokens  n_i  sentiment has_top_surprise_word has_top_love_word  \\\n",
      "0     scar         1    0        0.0                     0                 0   \n",
      "\n",
      "  has_top_anger_word has_top_sadness_word has_top_fear_word has_top_joy_word  \n",
      "0                  0                    0                 0                0  Generating features\n",
      "\n",
      "  document  n_tokens  n_i  sentiment has_top_surprise_word has_top_love_word  \\\n",
      "0    scare         1    0        0.0                     0                 0   \n",
      "\n",
      "  has_top_anger_word has_top_sadness_word has_top_fear_word has_top_joy_word  \n",
      "0                  0                    0                 0                0  \n",
      "  document  n_tokens  n_i  sentiment has_top_surprise_word has_top_love_word  \\\n",
      "0      sca         1    0        0.0                     0                 0   \n",
      "\n",
      "  has_top_anger_word has_top_sadness_word has_top_fear_word has_top_joy_word  \n",
      "0                  0                    0                 0                0  \n",
      "  document  n_tokens  n_i  sentiment has_top_surprise_word has_top_love_word  \\\n",
      "0   scared         1    0        0.0                     0                 0   \n",
      "\n",
      "  has_top_anger_word has_top_sadness_word  has_top_fear_word has_top_joy_word  \n",
      "0                  0                    0                  1                0  \n"
     ]
    },
    {
     "name": "stderr",
     "output_type": "stream",
     "text": [
      "127.0.0.1 - - [23/May/2022 12:01:26] \"\u001b[37mPOST /_dash-update-component HTTP/1.1\u001b[0m\" 200 -\n",
      "127.0.0.1 - - [23/May/2022 12:01:26] \"\u001b[37mPOST /_dash-update-component HTTP/1.1\u001b[0m\" 200 -\n",
      "C:\\Anaconda3\\lib\\site-packages\\sklearn\\compose\\_column_transformer.py:437: FutureWarning:\n",
      "\n",
      "Given feature/column names or counts do not match the ones for the data given during fit. This will fail from v0.24.\n",
      "\n",
      "127.0.0.1 - - [23/May/2022 12:01:28] \"\u001b[37mPOST /_dash-update-component HTTP/1.1\u001b[0m\" 200 -\n"
     ]
    },
    {
     "name": "stdout",
     "output_type": "stream",
     "text": [
      "scare\n",
      "Generating features\n",
      "  document  n_tokens  n_i  sentiment has_top_surprise_word has_top_love_word  \\\n",
      "0    scare         1    0        0.0                     0                 0   \n",
      "\n",
      "  has_top_anger_word has_top_sadness_word has_top_fear_word has_top_joy_word  \n",
      "0                  0                    0                 0                0  \n",
      "scar\n",
      "sca\n",
      "sc\n",
      "s\n",
      "Generating features\n",
      "Generating features\n"
     ]
    },
    {
     "name": "stderr",
     "output_type": "stream",
     "text": [
      "C:\\Anaconda3\\lib\\site-packages\\sklearn\\compose\\_column_transformer.py:437: FutureWarning:\n",
      "\n",
      "Given feature/column names or counts do not match the ones for the data given during fit. This will fail from v0.24.\n",
      "\n",
      "C:\\Anaconda3\\lib\\site-packages\\sklearn\\compose\\_column_transformer.py:437: FutureWarning:\n",
      "\n",
      "Given feature/column names or counts do not match the ones for the data given during fit. This will fail from v0.24.\n",
      "\n",
      "C:\\Anaconda3\\lib\\site-packages\\sklearn\\compose\\_column_transformer.py:437: FutureWarning:\n",
      "\n",
      "Given feature/column names or counts do not match the ones for the data given during fit. This will fail from v0.24.\n",
      "\n",
      "C:\\Anaconda3\\lib\\site-packages\\sklearn\\compose\\_column_transformer.py:437: FutureWarning:\n",
      "\n",
      "Given feature/column names or counts do not match the ones for the data given during fit. This will fail from v0.24.\n",
      "\n",
      "C:\\Anaconda3\\lib\\site-packages\\sklearn\\compose\\_column_transformer.py:437: FutureWarning:\n",
      "\n",
      "Given feature/column names or counts do not match the ones for the data given during fit. This will fail from v0.24.\n",
      "\n",
      "127.0.0.1 - - [23/May/2022 12:01:29] \"\u001b[37mPOST /_dash-update-component HTTP/1.1\u001b[0m\" 200 -\n",
      "127.0.0.1 - - [23/May/2022 12:01:29] \"\u001b[37mPOST /_dash-update-component HTTP/1.1\u001b[0m\" 200 -\n",
      "127.0.0.1 - - [23/May/2022 12:01:29] \"\u001b[37mPOST /_dash-update-component HTTP/1.1\u001b[0m\" 200 -\n",
      "127.0.0.1 - - [23/May/2022 12:01:29] \"\u001b[37mPOST /_dash-update-component HTTP/1.1\u001b[0m\" 200 -\n",
      "127.0.0.1 - - [23/May/2022 12:01:29] \"\u001b[37mPOST /_dash-update-component HTTP/1.1\u001b[0m\" 200 -\n"
     ]
    },
    {
     "name": "stdout",
     "output_type": "stream",
     "text": [
      "\n",
      "Generating features\n",
      "Generating features\n",
      "  document  n_tokens  n_i  sentiment has_top_surprise_word has_top_love_word  \\\n",
      "0      sca         1    0        0.0                     0                 0   \n",
      "\n",
      "  has_top_anger_word has_top_sadness_word has_top_fear_word has_top_joy_word  \n",
      "0                  0                    0                 0                0  \n",
      "Generating features\n",
      "  document  n_tokens  n_i  sentiment has_top_surprise_word has_top_love_word  \\\n",
      "0       sc         1    0        0.0                     0                 0   \n",
      "\n",
      "  has_top_anger_word has_top_sadness_word has_top_fear_word has_top_joy_word  \n",
      "0                  0                    0                 0                0  \n",
      "  document  n_tokens  n_i  sentiment has_top_surprise_word has_top_love_word  \\\n",
      "0     scar         1    0        0.0                     0                 0   \n",
      "\n",
      "  has_top_anger_word has_top_sadness_word has_top_fear_word has_top_joy_word  \n",
      "0                  0                    0                 0                0  \n",
      "  document  n_tokens  n_i  sentiment has_top_surprise_word has_top_love_word  \\\n",
      "0                  0    0        0.0                     0                 0   \n",
      "\n",
      "  has_top_anger_word has_top_sadness_word has_top_fear_word has_top_joy_word  \n",
      "0                  0                    0                 0                0  \n",
      "  document  n_tokens  n_i  sentiment has_top_surprise_word has_top_love_word  \\\n",
      "0                  0    0        0.0                     0                 0   \n",
      "\n",
      "  has_top_anger_word has_top_sadness_word has_top_fear_word has_top_joy_word  \n",
      "0                  0                    0                 0                0  \n"
     ]
    },
    {
     "name": "stderr",
     "output_type": "stream",
     "text": [
      "C:\\Anaconda3\\lib\\site-packages\\sklearn\\compose\\_column_transformer.py:437: FutureWarning:\n",
      "\n",
      "Given feature/column names or counts do not match the ones for the data given during fit. This will fail from v0.24.\n",
      "\n",
      "127.0.0.1 - - [23/May/2022 12:01:30] \"\u001b[37mPOST /_dash-update-component HTTP/1.1\u001b[0m\" 200 -\n"
     ]
    },
    {
     "name": "stdout",
     "output_type": "stream",
     "text": [
      "I\n",
      "Generating features\n",
      "  document  n_tokens  n_i  sentiment has_top_surprise_word has_top_love_word  \\\n",
      "0        i         1    0        0.0                     0                 0   \n",
      "\n",
      "  has_top_anger_word has_top_sadness_word has_top_fear_word has_top_joy_word  \n",
      "0                  0                    0                 0                0  \n",
      "I "
     ]
    },
    {
     "name": "stderr",
     "output_type": "stream",
     "text": [
      "C:\\Anaconda3\\lib\\site-packages\\sklearn\\compose\\_column_transformer.py:437: FutureWarning:\n",
      "\n",
      "Given feature/column names or counts do not match the ones for the data given during fit. This will fail from v0.24.\n",
      "\n",
      "127.0.0.1 - - [23/May/2022 12:01:30] \"\u001b[37mPOST /_dash-update-component HTTP/1.1\u001b[0m\" 200 -\n"
     ]
    },
    {
     "name": "stdout",
     "output_type": "stream",
     "text": [
      "\n",
      "Generating features\n",
      "  document  n_tokens  n_i  sentiment has_top_surprise_word has_top_love_word  \\\n",
      "0        i         1    0        0.0                     0                 0   \n",
      "\n",
      "  has_top_anger_word has_top_sadness_word has_top_fear_word has_top_joy_word  \n",
      "0                  0                    0                 0                0  \n"
     ]
    },
    {
     "name": "stderr",
     "output_type": "stream",
     "text": [
      "C:\\Anaconda3\\lib\\site-packages\\sklearn\\compose\\_column_transformer.py:437: FutureWarning:\n",
      "\n",
      "Given feature/column names or counts do not match the ones for the data given during fit. This will fail from v0.24.\n",
      "\n",
      "127.0.0.1 - - [23/May/2022 12:01:31] \"\u001b[37mPOST /_dash-update-component HTTP/1.1\u001b[0m\" 200 -\n"
     ]
    },
    {
     "name": "stdout",
     "output_type": "stream",
     "text": [
      "I w\n",
      "Generating features\n",
      "  document  n_tokens  n_i  sentiment has_top_surprise_word has_top_love_word  \\\n",
      "0      i w         2    1        0.0                     0                 0   \n",
      "\n",
      "  has_top_anger_word has_top_sadness_word has_top_fear_word has_top_joy_word  \n",
      "0                  0                    0                 0                0  \n"
     ]
    },
    {
     "name": "stderr",
     "output_type": "stream",
     "text": [
      "C:\\Anaconda3\\lib\\site-packages\\sklearn\\compose\\_column_transformer.py:437: FutureWarning:\n",
      "\n",
      "Given feature/column names or counts do not match the ones for the data given during fit. This will fail from v0.24.\n",
      "\n",
      "127.0.0.1 - - [23/May/2022 12:01:31] \"\u001b[37mPOST /_dash-update-component HTTP/1.1\u001b[0m\" 200 -\n",
      "C:\\Anaconda3\\lib\\site-packages\\sklearn\\compose\\_column_transformer.py:437: FutureWarning:\n",
      "\n",
      "Given feature/column names or counts do not match the ones for the data given during fit. This will fail from v0.24.\n",
      "\n",
      "127.0.0.1 - - [23/May/2022 12:01:31] \"\u001b[37mPOST /_dash-update-component HTTP/1.1\u001b[0m\" 200 -\n"
     ]
    },
    {
     "name": "stdout",
     "output_type": "stream",
     "text": [
      "I was\n",
      "Generating features\n",
      "  document  n_tokens  n_i  sentiment has_top_surprise_word has_top_love_word  \\\n",
      "0     i wa         2    1        0.0                     0                 0   \n",
      "\n",
      "  has_top_anger_word has_top_sadness_word has_top_fear_word has_top_joy_word  \n",
      "0                  0                    0                 0                0  \n",
      "I was \n",
      "Generating features\n",
      "  document  n_tokens  n_i  sentiment has_top_surprise_word has_top_love_word  \\\n",
      "0     i wa         2    1        0.0                     0                 0   \n",
      "\n",
      "  has_top_anger_word has_top_sadness_word has_top_fear_word has_top_joy_word  \n",
      "0                  0                    0                 0                0  \n"
     ]
    },
    {
     "name": "stderr",
     "output_type": "stream",
     "text": [
      "C:\\Anaconda3\\lib\\site-packages\\sklearn\\compose\\_column_transformer.py:437: FutureWarning:\n",
      "\n",
      "Given feature/column names or counts do not match the ones for the data given during fit. This will fail from v0.24.\n",
      "\n",
      "C:\\Anaconda3\\lib\\site-packages\\sklearn\\compose\\_column_transformer.py:437: FutureWarning:\n",
      "\n",
      "Given feature/column names or counts do not match the ones for the data given during fit. This will fail from v0.24.\n",
      "\n",
      "127.0.0.1 - - [23/May/2022 12:01:31] \"\u001b[37mPOST /_dash-update-component HTTP/1.1\u001b[0m\" 200 -\n",
      "127.0.0.1 - - [23/May/2022 12:01:31] \"\u001b[37mPOST /_dash-update-component HTTP/1.1\u001b[0m\" 200 -\n"
     ]
    },
    {
     "name": "stdout",
     "output_type": "stream",
     "text": [
      "I was h\n",
      "Generating featuresI was ho\n",
      "\n",
      "  document  n_tokens  n_i  sentiment has_top_surprise_word has_top_love_word  \\\n",
      "0   i wa h         3    1        0.0                     0                 0   \n",
      "\n",
      "  has_top_anger_word has_top_sadness_word has_top_fear_word has_top_joy_word  \n",
      "0                  0                    0                 0                0  \n",
      "Generating features\n",
      "  document  n_tokens  n_i  sentiment has_top_surprise_word has_top_love_word  \\\n",
      "0  i wa ho         3    1        0.0                     0                 0   \n",
      "\n",
      "  has_top_anger_word has_top_sadness_word has_top_fear_word has_top_joy_word  \n",
      "0                  0                    0                 0                0  \n"
     ]
    },
    {
     "name": "stderr",
     "output_type": "stream",
     "text": [
      "C:\\Anaconda3\\lib\\site-packages\\sklearn\\compose\\_column_transformer.py:437: FutureWarning:\n",
      "\n",
      "Given feature/column names or counts do not match the ones for the data given during fit. This will fail from v0.24.\n",
      "\n",
      "127.0.0.1 - - [23/May/2022 12:01:32] \"\u001b[37mPOST /_dash-update-component HTTP/1.1\u001b[0m\" 200 -\n"
     ]
    },
    {
     "name": "stdout",
     "output_type": "stream",
     "text": [
      "I was hor\n",
      "Generating features\n",
      "   document  n_tokens  n_i  sentiment has_top_surprise_word has_top_love_word  \\\n",
      "0  i wa hor         3    1        0.0                     0                 0   \n",
      "\n",
      "  has_top_anger_word has_top_sadness_word has_top_fear_word has_top_joy_word  \n",
      "0                  0                    0                 0                0  \n",
      "I was horr"
     ]
    },
    {
     "name": "stderr",
     "output_type": "stream",
     "text": [
      "C:\\Anaconda3\\lib\\site-packages\\sklearn\\compose\\_column_transformer.py:437: FutureWarning:\n",
      "\n",
      "Given feature/column names or counts do not match the ones for the data given during fit. This will fail from v0.24.\n",
      "\n",
      "127.0.0.1 - - [23/May/2022 12:01:32] \"\u001b[37mPOST /_dash-update-component HTTP/1.1\u001b[0m\" 200 -\n",
      "C:\\Anaconda3\\lib\\site-packages\\sklearn\\compose\\_column_transformer.py:437: FutureWarning:\n",
      "\n",
      "Given feature/column names or counts do not match the ones for the data given during fit. This will fail from v0.24.\n",
      "\n",
      "127.0.0.1 - - [23/May/2022 12:01:32] \"\u001b[37mPOST /_dash-update-component HTTP/1.1\u001b[0m\" 200 -\n"
     ]
    },
    {
     "name": "stdout",
     "output_type": "stream",
     "text": [
      "\n",
      "Generating features\n",
      "    document  n_tokens  n_i  sentiment has_top_surprise_word  \\\n",
      "0  i wa horr         3    1        0.0                     0   \n",
      "\n",
      "  has_top_love_word has_top_anger_word has_top_sadness_word has_top_fear_word  \\\n",
      "0                 0                  0                    0                 0   \n",
      "\n",
      "  has_top_joy_word  \n",
      "0                0  \n",
      "I was horri\n",
      "Generating features\n",
      "     document  n_tokens  n_i  sentiment has_top_surprise_word  \\\n",
      "0  i wa horri         3    1        0.0                     0   \n",
      "\n",
      "  has_top_love_word has_top_anger_word has_top_sadness_word has_top_fear_word  \\\n",
      "0                 0                  0                    0                 0   \n",
      "\n",
      "  has_top_joy_word  \n",
      "0                0  \n"
     ]
    },
    {
     "name": "stderr",
     "output_type": "stream",
     "text": [
      "C:\\Anaconda3\\lib\\site-packages\\sklearn\\compose\\_column_transformer.py:437: FutureWarning:\n",
      "\n",
      "Given feature/column names or counts do not match the ones for the data given during fit. This will fail from v0.24.\n",
      "\n",
      "127.0.0.1 - - [23/May/2022 12:01:32] \"\u001b[37mPOST /_dash-update-component HTTP/1.1\u001b[0m\" 200 -\n"
     ]
    },
    {
     "name": "stdout",
     "output_type": "stream",
     "text": [
      "I was horrif\n",
      "Generating features\n",
      "      document  n_tokens  n_i  sentiment has_top_surprise_word  \\\n",
      "0  i wa horrif         3    1        0.0                     0   \n",
      "\n",
      "  has_top_love_word has_top_anger_word has_top_sadness_word has_top_fear_word  \\\n",
      "0                 0                  0                    0                 0   \n",
      "\n",
      "  has_top_joy_word  \n",
      "0                0  \n",
      "I was horrifi\n",
      "I was horrifie\n",
      "Generating features\n",
      "       document  n_tokens  n_i  sentiment has_top_surprise_word  \\\n",
      "0  i wa horrifi         3    1        0.0                     0   \n",
      "\n",
      "  has_top_love_word has_top_anger_word has_top_sadness_word has_top_fear_word  \\\n",
      "0                 0                  0                    0                 0   \n",
      "\n",
      "  has_top_joy_word  \n",
      "0                0  "
     ]
    },
    {
     "name": "stderr",
     "output_type": "stream",
     "text": [
      "C:\\Anaconda3\\lib\\site-packages\\sklearn\\compose\\_column_transformer.py:437: FutureWarning:\n",
      "\n",
      "Given feature/column names or counts do not match the ones for the data given during fit. This will fail from v0.24.\n",
      "\n",
      "C:\\Anaconda3\\lib\\site-packages\\sklearn\\compose\\_column_transformer.py:437: FutureWarning:\n",
      "\n",
      "Given feature/column names or counts do not match the ones for the data given during fit. This will fail from v0.24.\n",
      "\n",
      "127.0.0.1 - - [23/May/2022 12:01:32] \"\u001b[37mPOST /_dash-update-component HTTP/1.1\u001b[0m\" 200 -\n",
      "127.0.0.1 - - [23/May/2022 12:01:32] \"\u001b[37mPOST /_dash-update-component HTTP/1.1\u001b[0m\" 200 -\n",
      "C:\\Anaconda3\\lib\\site-packages\\sklearn\\compose\\_column_transformer.py:437: FutureWarning:\n",
      "\n",
      "Given feature/column names or counts do not match the ones for the data given during fit. This will fail from v0.24.\n",
      "\n",
      "127.0.0.1 - - [23/May/2022 12:01:32] \"\u001b[37mPOST /_dash-update-component HTTP/1.1\u001b[0m\" 200 -\n"
     ]
    },
    {
     "name": "stdout",
     "output_type": "stream",
     "text": [
      "\n",
      "Generating features\n",
      "        document  n_tokens  n_i  sentiment has_top_surprise_word  \\\n",
      "0  i wa horrifie         3    1        0.0                     0   \n",
      "\n",
      "  has_top_love_word has_top_anger_word has_top_sadness_word has_top_fear_word  \\\n",
      "0                 0                  0                    0                 0   \n",
      "\n",
      "  has_top_joy_word  \n",
      "0                0  \n",
      "I was horrified\n",
      "Generating features\n",
      "         document  n_tokens  n_i  sentiment has_top_surprise_word  \\\n",
      "0  i wa horrified         3    1        0.0                     0   \n",
      "\n",
      "  has_top_love_word has_top_anger_word has_top_sadness_word has_top_fear_word  \\\n",
      "0                 0                  0                    0                 0   \n",
      "\n",
      "  has_top_joy_word  \n",
      "0                0  \n"
     ]
    },
    {
     "name": "stderr",
     "output_type": "stream",
     "text": [
      "C:\\Anaconda3\\lib\\site-packages\\sklearn\\compose\\_column_transformer.py:437: FutureWarning:\n",
      "\n",
      "Given feature/column names or counts do not match the ones for the data given during fit. This will fail from v0.24.\n",
      "\n",
      "127.0.0.1 - - [23/May/2022 12:01:36] \"\u001b[37mPOST /_dash-update-component HTTP/1.1\u001b[0m\" 200 -\n"
     ]
    },
    {
     "name": "stdout",
     "output_type": "stream",
     "text": [
      "I was horrifie\n",
      "Generating features\n",
      "        document  n_tokens  n_i  sentiment has_top_surprise_word  \\\n",
      "0  i wa horrifie         3    1        0.0                     0   \n",
      "\n",
      "  has_top_love_word has_top_anger_word has_top_sadness_word has_top_fear_word  \\\n",
      "0                 0                  0                    0                 0   \n",
      "\n",
      "  has_top_joy_word  \n",
      "0                0  \n"
     ]
    },
    {
     "name": "stderr",
     "output_type": "stream",
     "text": [
      "C:\\Anaconda3\\lib\\site-packages\\sklearn\\compose\\_column_transformer.py:437: FutureWarning:\n",
      "\n",
      "Given feature/column names or counts do not match the ones for the data given during fit. This will fail from v0.24.\n",
      "\n",
      "127.0.0.1 - - [23/May/2022 12:01:37] \"\u001b[37mPOST /_dash-update-component HTTP/1.1\u001b[0m\" 200 -\n"
     ]
    },
    {
     "name": "stdout",
     "output_type": "stream",
     "text": [
      "I was horrifi\n",
      "Generating features\n",
      "       document  n_tokens  n_i  sentiment has_top_surprise_word  \\\n",
      "0  i wa horrifi         3    1        0.0                     0   \n",
      "\n",
      "  has_top_love_word has_top_anger_word has_top_sadness_word has_top_fear_word  \\\n",
      "0                 0                  0                    0                 0   \n",
      "\n",
      "  has_top_joy_word  \n",
      "0                0  \n",
      "I was horrif\n",
      "Generating features\n",
      "      document  n_tokens  n_i  sentiment has_top_surprise_word  \\\n",
      "0  i wa horrif         3    1        0.0                     0   \n",
      "\n",
      "  has_top_love_word has_top_anger_word has_top_sadness_word has_top_fear_word  \\\n",
      "0                 0                  0                    0                 0   \n",
      "\n",
      "  has_top_joy_word  \n",
      "0                0  \n"
     ]
    },
    {
     "name": "stderr",
     "output_type": "stream",
     "text": [
      "C:\\Anaconda3\\lib\\site-packages\\sklearn\\compose\\_column_transformer.py:437: FutureWarning:\n",
      "\n",
      "Given feature/column names or counts do not match the ones for the data given during fit. This will fail from v0.24.\n",
      "\n",
      "127.0.0.1 - - [23/May/2022 12:01:37] \"\u001b[37mPOST /_dash-update-component HTTP/1.1\u001b[0m\" 200 -\n",
      "C:\\Anaconda3\\lib\\site-packages\\sklearn\\compose\\_column_transformer.py:437: FutureWarning:\n",
      "\n",
      "Given feature/column names or counts do not match the ones for the data given during fit. This will fail from v0.24.\n",
      "\n",
      "127.0.0.1 - - [23/May/2022 12:01:37] \"\u001b[37mPOST /_dash-update-component HTTP/1.1\u001b[0m\" 200 -\n"
     ]
    },
    {
     "name": "stdout",
     "output_type": "stream",
     "text": [
      "I was horri\n",
      "Generating features\n",
      "     document  n_tokens  n_i  sentiment has_top_surprise_word  \\\n",
      "0  i wa horri         3    1        0.0                     0   \n",
      "\n",
      "  has_top_love_word has_top_anger_word has_top_sadness_word has_top_fear_word  \\\n",
      "0                 0                  0                    0                 0   \n",
      "\n",
      "  has_top_joy_word  \n",
      "0                0  \n"
     ]
    },
    {
     "name": "stderr",
     "output_type": "stream",
     "text": [
      "C:\\Anaconda3\\lib\\site-packages\\sklearn\\compose\\_column_transformer.py:437: FutureWarning:\n",
      "\n",
      "Given feature/column names or counts do not match the ones for the data given during fit. This will fail from v0.24.\n",
      "\n",
      "127.0.0.1 - - [23/May/2022 12:01:37] \"\u001b[37mPOST /_dash-update-component HTTP/1.1\u001b[0m\" 200 -\n"
     ]
    },
    {
     "name": "stdout",
     "output_type": "stream",
     "text": [
      "I was horr\n",
      "Generating features\n",
      "    document  n_tokens  n_i  sentiment has_top_surprise_word  \\\n",
      "0  i wa horr         3    1        0.0                     0   \n",
      "\n",
      "  has_top_love_word has_top_anger_word has_top_sadness_word has_top_fear_word  \\\n",
      "0                 0                  0                    0                 0   \n",
      "\n",
      "  has_top_joy_word  \n",
      "0                0  \n"
     ]
    },
    {
     "name": "stderr",
     "output_type": "stream",
     "text": [
      "C:\\Anaconda3\\lib\\site-packages\\sklearn\\compose\\_column_transformer.py:437: FutureWarning:\n",
      "\n",
      "Given feature/column names or counts do not match the ones for the data given during fit. This will fail from v0.24.\n",
      "\n",
      "127.0.0.1 - - [23/May/2022 12:01:38] \"\u001b[37mPOST /_dash-update-component HTTP/1.1\u001b[0m\" 200 -\n"
     ]
    },
    {
     "name": "stdout",
     "output_type": "stream",
     "text": [
      "I was hor\n",
      "Generating features\n",
      "   document  n_tokens  n_i  sentiment has_top_surprise_word has_top_love_word  \\\n",
      "0  i wa hor         3    1        0.0                     0                 0   \n",
      "\n",
      "  has_top_anger_word has_top_sadness_word has_top_fear_word has_top_joy_word  \n",
      "0                  0                    0                 0                0  \n",
      "I was ho\n",
      "I was h\n",
      "I was \n",
      "I wasGenerating features\n",
      "\n",
      "I wa\n",
      "I w\n",
      "Generating features\n",
      "Generating features\n",
      "Generating features  document  n_tokens  n_i  sentiment has_top_surprise_word has_top_love_word  \\\n",
      "0  i wa ho         3    1        0.0                     0                 0   \n",
      "\n",
      "  has_top_anger_word has_top_sadness_word has_top_fear_word has_top_joy_word  \n",
      "0                  0                    0                 0                0  \n",
      "Generating features\n",
      "Generating features\n",
      "\n",
      "  document  n_tokens  n_i  sentiment has_top_surprise_word has_top_love_word  \\\n",
      "0     i wa         2    1        0.0                     0                 0   \n",
      "\n",
      "  has_top_anger_word has_top_sadness_word has_top_fear_word has_top_joy_word  \n",
      "0                  0                    0                 0                0    document  n_tokens  n_i  sentiment has_top_surprise_word has_top_love_word  \\\n",
      "0   i wa h         3    1        0.0                     0                 0   \n",
      "\n",
      "  has_top_anger_word has_top_sadness_word has_top_fear_word has_top_joy_word  \n",
      "0                  0                    0                 0                0  \n",
      "\n",
      "  document  n_tokens  n_i  sentiment has_top_surprise_word has_top_love_word  \\\n",
      "0      i w         2    1        0.0                     0                 0   \n",
      "\n",
      "  has_top_anger_word has_top_sadness_word has_top_fear_word has_top_joy_word  \n",
      "0                  0                    0                 0                0  \n",
      "  document  n_tokens  n_i  sentiment has_top_surprise_word has_top_love_word  \\\n",
      "0     i wa         2    1        0.0                     0                 0   \n",
      "\n",
      "  has_top_anger_word has_top_sadness_word has_top_fear_word has_top_joy_word  \n",
      "0                  0                    0                 0                0  \n"
     ]
    },
    {
     "name": "stderr",
     "output_type": "stream",
     "text": [
      "C:\\Anaconda3\\lib\\site-packages\\sklearn\\compose\\_column_transformer.py:437: FutureWarning:\n",
      "\n",
      "Given feature/column names or counts do not match the ones for the data given during fit. This will fail from v0.24.\n",
      "\n",
      "C:\\Anaconda3\\lib\\site-packages\\sklearn\\compose\\_column_transformer.py:437: FutureWarning:\n",
      "\n",
      "Given feature/column names or counts do not match the ones for the data given during fit. This will fail from v0.24.\n",
      "\n",
      "C:\\Anaconda3\\lib\\site-packages\\sklearn\\compose\\_column_transformer.py:437: FutureWarning:\n",
      "\n",
      "Given feature/column names or counts do not match the ones for the data given during fit. This will fail from v0.24.\n",
      "\n",
      "C:\\Anaconda3\\lib\\site-packages\\sklearn\\compose\\_column_transformer.py:437: FutureWarning:\n",
      "\n",
      "Given feature/column names or counts do not match the ones for the data given during fit. This will fail from v0.24.\n",
      "\n",
      "C:\\Anaconda3\\lib\\site-packages\\sklearn\\compose\\_column_transformer.py:437: FutureWarning:\n",
      "\n",
      "Given feature/column names or counts do not match the ones for the data given during fit. This will fail from v0.24.\n",
      "\n",
      "127.0.0.1 - - [23/May/2022 12:01:39] \"\u001b[37mPOST /_dash-update-component HTTP/1.1\u001b[0m\" 200 -\n",
      "127.0.0.1 - - [23/May/2022 12:01:39] \"\u001b[37mPOST /_dash-update-component HTTP/1.1\u001b[0m\" 200 -\n",
      "127.0.0.1 - - [23/May/2022 12:01:39] \"\u001b[37mPOST /_dash-update-component HTTP/1.1\u001b[0m\" 200 -\n",
      "127.0.0.1 - - [23/May/2022 12:01:39] \"\u001b[37mPOST /_dash-update-component HTTP/1.1\u001b[0m\" 200 -\n",
      "127.0.0.1 - - [23/May/2022 12:01:39] \"\u001b[37mPOST /_dash-update-component HTTP/1.1\u001b[0m\" 200 -\n",
      "127.0.0.1 - - [23/May/2022 12:01:39] \"\u001b[37mPOST /_dash-update-component HTTP/1.1\u001b[0m\" 200 -\n"
     ]
    },
    {
     "name": "stdout",
     "output_type": "stream",
     "text": [
      "  document  n_tokens  n_i  sentiment has_top_surprise_word has_top_love_word  \\\n",
      "0     i wa         2    1        0.0                     0                 0   \n",
      "\n",
      "  has_top_anger_word has_top_sadness_word has_top_fear_word has_top_joy_word  \n",
      "0                  0                    0                 0                0  \n",
      "Ihoh\n",
      "\n",
      "horI \n",
      "\n",
      "\n",
      "\n",
      "Generating featuresGenerating features\n",
      "\n",
      "Generating features\n",
      "Generating featuresGenerating featuresGenerating features"
     ]
    },
    {
     "name": "stderr",
     "output_type": "stream",
     "text": [
      "C:\\Anaconda3\\lib\\site-packages\\sklearn\\compose\\_column_transformer.py:437: FutureWarning:\n",
      "\n",
      "Given feature/column names or counts do not match the ones for the data given during fit. This will fail from v0.24.\n",
      "\n",
      "C:\\Anaconda3\\lib\\site-packages\\sklearn\\compose\\_column_transformer.py:437: FutureWarning:\n",
      "\n",
      "Given feature/column names or counts do not match the ones for the data given during fit. This will fail from v0.24.\n",
      "\n",
      "C:\\Anaconda3\\lib\\site-packages\\sklearn\\compose\\_column_transformer.py:437: FutureWarning:\n",
      "\n",
      "Given feature/column names or counts do not match the ones for the data given during fit. This will fail from v0.24.\n",
      "\n",
      "C:\\Anaconda3\\lib\\site-packages\\sklearn\\compose\\_column_transformer.py:437: FutureWarning:\n",
      "\n",
      "Given feature/column names or counts do not match the ones for the data given during fit. This will fail from v0.24.\n",
      "\n",
      "C:\\Anaconda3\\lib\\site-packages\\sklearn\\compose\\_column_transformer.py:437: FutureWarning:\n",
      "\n",
      "Given feature/column names or counts do not match the ones for the data given during fit. This will fail from v0.24.\n",
      "\n",
      "C:\\Anaconda3\\lib\\site-packages\\sklearn\\compose\\_column_transformer.py:437: FutureWarning:\n",
      "\n",
      "Given feature/column names or counts do not match the ones for the data given during fit. This will fail from v0.24.\n",
      "\n",
      "127.0.0.1 - - [23/May/2022 12:01:40] \"\u001b[37mPOST /_dash-update-component HTTP/1.1\u001b[0m\" 200 -\n",
      "127.0.0.1 - - [23/May/2022 12:01:40] \"\u001b[37mPOST /_dash-update-component HTTP/1.1\u001b[0m\" 200 -\n",
      "127.0.0.1 - - [23/May/2022 12:01:40] \"\u001b[37mPOST /_dash-update-component HTTP/1.1\u001b[0m\" 200 -\n",
      "127.0.0.1 - - [23/May/2022 12:01:40] \"\u001b[37mPOST /_dash-update-component HTTP/1.1\u001b[0m\" 200 -\n",
      "127.0.0.1 - - [23/May/2022 12:01:40] \"\u001b[37mPOST /_dash-update-component HTTP/1.1\u001b[0m\" 200 -\n",
      "127.0.0.1 - - [23/May/2022 12:01:40] \"\u001b[37mPOST /_dash-update-component HTTP/1.1\u001b[0m\" 200 -\n"
     ]
    },
    {
     "name": "stdout",
     "output_type": "stream",
     "text": [
      "\n",
      "\n",
      "\n",
      "  document  n_tokens  n_i  sentiment has_top_surprise_word has_top_love_word  \\\n",
      "0        i         1    0        0.0                     0                 0   \n",
      "\n",
      "  has_top_anger_word has_top_sadness_word has_top_fear_word has_top_joy_word  \n",
      "0                  0                    0                 0                0  \n",
      "  document  n_tokens  n_i  sentiment has_top_surprise_word has_top_love_word  \\\n",
      "0       ho         1    0        0.0                     0                 0   \n",
      "\n",
      "  has_top_anger_word has_top_sadness_word has_top_fear_word has_top_joy_word  \n",
      "0                  0                    0                 0                0  \n",
      "  document  n_tokens  n_i  sentiment has_top_surprise_word has_top_love_word  \\\n",
      "0        i         1    0        0.0                     0                 0   \n",
      "\n",
      "  has_top_anger_word has_top_sadness_word has_top_fear_word has_top_joy_word  \n",
      "0                  0                    0                 0                0  \n",
      "  document  n_tokens  n_i  sentiment has_top_surprise_word has_top_love_word  \\\n",
      "0      hor         1    0        0.0                     0                 0   \n",
      "\n",
      "  has_top_anger_word has_top_sadness_word has_top_fear_word has_top_joy_word  \n",
      "0                  0                    0                 0                0  \n",
      "  document  n_tokens  n_i  sentiment has_top_surprise_word has_top_love_word  \\\n",
      "0        h         1    0        0.0                     0                 0   \n",
      "\n",
      "  has_top_anger_word has_top_sadness_word has_top_fear_word has_top_joy_word  \n",
      "0                  0                    0                 0                0  \n",
      "  document  n_tokens  n_i  sentiment has_top_surprise_word has_top_love_word  \\\n",
      "0                  0    0        0.0                     0                 0   \n",
      "\n",
      "  has_top_anger_word has_top_sadness_word has_top_fear_word has_top_joy_word  \n",
      "0                  0                    0                 0                0  \n",
      "horrhorro\n",
      "horror\n",
      "\n",
      "Generating featuresGenerating features\n",
      "\n",
      "Generating features\n",
      "  document  n_tokens  n_i  sentiment has_top_surprise_word has_top_love_word  \\\n",
      "0     horr         1    0        0.0                     0                 0   \n",
      "\n",
      "  has_top_anger_word has_top_sadness_word has_top_fear_word has_top_joy_word  \n",
      "0                  0                    0                 0                0  \n",
      "  document  n_tokens  n_i  sentiment has_top_surprise_word has_top_love_word  \\\n",
      "0    horro         1    0        0.0                     0                 0   \n",
      "\n",
      "  has_top_anger_word has_top_sadness_word has_top_fear_word has_top_joy_word  \n",
      "0                  0                    0                 0                0  \n",
      "  document  n_tokens  n_i  sentiment has_top_surprise_word has_top_love_word  \\\n",
      "0   horror         1    0        0.0                     0                 0   \n",
      "\n",
      "  has_top_anger_word has_top_sadness_word has_top_fear_word has_top_joy_word  \n",
      "0                  0                    0                 0                0  \n"
     ]
    },
    {
     "name": "stderr",
     "output_type": "stream",
     "text": [
      "C:\\Anaconda3\\lib\\site-packages\\sklearn\\compose\\_column_transformer.py:437: FutureWarning:\n",
      "\n",
      "Given feature/column names or counts do not match the ones for the data given during fit. This will fail from v0.24.\n",
      "\n",
      "C:\\Anaconda3\\lib\\site-packages\\sklearn\\compose\\_column_transformer.py:437: FutureWarning:\n",
      "\n",
      "Given feature/column names or counts do not match the ones for the data given during fit. This will fail from v0.24.\n",
      "\n",
      "C:\\Anaconda3\\lib\\site-packages\\sklearn\\compose\\_column_transformer.py:437: FutureWarning:\n",
      "\n",
      "Given feature/column names or counts do not match the ones for the data given during fit. This will fail from v0.24.\n",
      "\n",
      "127.0.0.1 - - [23/May/2022 12:01:40] \"\u001b[37mPOST /_dash-update-component HTTP/1.1\u001b[0m\" 200 -\n",
      "127.0.0.1 - - [23/May/2022 12:01:40] \"\u001b[37mPOST /_dash-update-component HTTP/1.1\u001b[0m\" 200 -\n",
      "127.0.0.1 - - [23/May/2022 12:01:40] \"\u001b[37mPOST /_dash-update-component HTTP/1.1\u001b[0m\" 200 -\n",
      "C:\\Anaconda3\\lib\\site-packages\\sklearn\\compose\\_column_transformer.py:437: FutureWarning:\n",
      "\n",
      "Given feature/column names or counts do not match the ones for the data given during fit. This will fail from v0.24.\n",
      "\n",
      "127.0.0.1 - - [23/May/2022 12:01:41] \"\u001b[37mPOST /_dash-update-component HTTP/1.1\u001b[0m\" 200 -\n"
     ]
    },
    {
     "name": "stdout",
     "output_type": "stream",
     "text": [
      "horro\n",
      "Generating features\n",
      "  document  n_tokens  n_i  sentiment has_top_surprise_word has_top_love_word  \\\n",
      "0    horro         1    0        0.0                     0                 0   \n",
      "\n",
      "  has_top_anger_word has_top_sadness_word has_top_fear_word has_top_joy_word  \n",
      "0                  0                    0                 0                0  \n",
      "horr\n",
      "hor\n",
      "ho\n",
      "h\n",
      "\n"
     ]
    },
    {
     "name": "stderr",
     "output_type": "stream",
     "text": [
      "C:\\Anaconda3\\lib\\site-packages\\sklearn\\compose\\_column_transformer.py:437: FutureWarning:\n",
      "\n",
      "Given feature/column names or counts do not match the ones for the data given during fit. This will fail from v0.24.\n",
      "\n",
      "C:\\Anaconda3\\lib\\site-packages\\sklearn\\compose\\_column_transformer.py:437: FutureWarning:\n",
      "\n",
      "Given feature/column names or counts do not match the ones for the data given during fit. This will fail from v0.24.\n",
      "\n",
      "C:\\Anaconda3\\lib\\site-packages\\sklearn\\compose\\_column_transformer.py:437: FutureWarning:\n",
      "\n",
      "Given feature/column names or counts do not match the ones for the data given during fit. This will fail from v0.24.\n",
      "\n",
      "C:\\Anaconda3\\lib\\site-packages\\sklearn\\compose\\_column_transformer.py:437: FutureWarning:\n",
      "\n",
      "Given feature/column names or counts do not match the ones for the data given during fit. This will fail from v0.24.\n",
      "\n",
      "C:\\Anaconda3\\lib\\site-packages\\sklearn\\compose\\_column_transformer.py:437: FutureWarning:\n",
      "\n",
      "Given feature/column names or counts do not match the ones for the data given during fit. This will fail from v0.24.\n",
      "\n",
      "127.0.0.1 - - [23/May/2022 12:01:41] \"\u001b[37mPOST /_dash-update-component HTTP/1.1\u001b[0m\" 200 -\n"
     ]
    },
    {
     "name": "stdout",
     "output_type": "stream",
     "text": [
      "Generating features\n",
      "Generating featuresGenerating features\n",
      "\n",
      "Generating features\n",
      "Generating features\n",
      "  document  n_tokens  n_i  sentiment has_top_surprise_word has_top_love_word  \\\n",
      "0        h         1    0        0.0                     0                 0   \n",
      "\n",
      "  has_top_anger_word has_top_sadness_word has_top_fear_word has_top_joy_word  \n",
      "0                  0                    0                 0                0  \n",
      "  document  n_tokens  n_i  sentiment has_top_surprise_word has_top_love_word  \\\n",
      "0       ho         1    0        0.0                     0                 0   \n",
      "\n",
      "  has_top_anger_word has_top_sadness_word has_top_fear_word has_top_joy_word  \n",
      "0                  0                    0                 0                0  \n",
      "  document  n_tokens  n_i  sentiment has_top_surprise_word has_top_love_word  \\\n",
      "0     horr         1    0        0.0                     0                 0   \n",
      "\n",
      "  has_top_anger_word has_top_sadness_word has_top_fear_word has_top_joy_word  \n",
      "0                  0                    0                 0                0  \n",
      "  document  n_tokens  n_i  sentiment has_top_surprise_word has_top_love_word  \\\n",
      "0      hor         1    0        0.0                     0                 0   \n",
      "\n",
      "  has_top_anger_word has_top_sadness_word has_top_fear_word has_top_joy_word  \n",
      "0                  0                    0                 0                0  \n",
      "  document  n_tokens  n_i  sentiment has_top_surprise_word has_top_love_word  \\\n",
      "0                  0    0        0.0                     0                 0   \n",
      "\n",
      "  has_top_anger_word has_top_sadness_word has_top_fear_word has_top_joy_word  \n",
      "0                  0                    0                 0                0  \n"
     ]
    },
    {
     "name": "stderr",
     "output_type": "stream",
     "text": [
      "127.0.0.1 - - [23/May/2022 12:01:41] \"\u001b[37mPOST /_dash-update-component HTTP/1.1\u001b[0m\" 200 -\n",
      "127.0.0.1 - - [23/May/2022 12:01:41] \"\u001b[37mPOST /_dash-update-component HTTP/1.1\u001b[0m\" 200 -\n",
      "127.0.0.1 - - [23/May/2022 12:01:41] \"\u001b[37mPOST /_dash-update-component HTTP/1.1\u001b[0m\" 200 -\n",
      "127.0.0.1 - - [23/May/2022 12:01:41] \"\u001b[37mPOST /_dash-update-component HTTP/1.1\u001b[0m\" 200 -\n",
      "C:\\Anaconda3\\lib\\site-packages\\sklearn\\compose\\_column_transformer.py:437: FutureWarning:\n",
      "\n",
      "Given feature/column names or counts do not match the ones for the data given during fit. This will fail from v0.24.\n",
      "\n",
      "127.0.0.1 - - [23/May/2022 12:01:43] \"\u001b[37mPOST /_dash-update-component HTTP/1.1\u001b[0m\" 200 -\n"
     ]
    },
    {
     "name": "stdout",
     "output_type": "stream",
     "text": [
      "I\n",
      "Generating features\n",
      "  document  n_tokens  n_i  sentiment has_top_surprise_word has_top_love_word  \\\n",
      "0        i         1    0        0.0                     0                 0   \n",
      "\n",
      "  has_top_anger_word has_top_sadness_word has_top_fear_word has_top_joy_word  \n",
      "0                  0                    0                 0                0  \n"
     ]
    },
    {
     "name": "stderr",
     "output_type": "stream",
     "text": [
      "C:\\Anaconda3\\lib\\site-packages\\sklearn\\compose\\_column_transformer.py:437: FutureWarning:\n",
      "\n",
      "Given feature/column names or counts do not match the ones for the data given during fit. This will fail from v0.24.\n",
      "\n",
      "127.0.0.1 - - [23/May/2022 12:01:43] \"\u001b[37mPOST /_dash-update-component HTTP/1.1\u001b[0m\" 200 -\n"
     ]
    },
    {
     "name": "stdout",
     "output_type": "stream",
     "text": [
      "I \n",
      "Generating features\n",
      "  document  n_tokens  n_i  sentiment has_top_surprise_word has_top_love_word  \\\n",
      "0        i         1    0        0.0                     0                 0   \n",
      "\n",
      "  has_top_anger_word has_top_sadness_word has_top_fear_word has_top_joy_word  \n",
      "0                  0                    0                 0                0  \n"
     ]
    },
    {
     "name": "stderr",
     "output_type": "stream",
     "text": [
      "C:\\Anaconda3\\lib\\site-packages\\sklearn\\compose\\_column_transformer.py:437: FutureWarning:\n",
      "\n",
      "Given feature/column names or counts do not match the ones for the data given during fit. This will fail from v0.24.\n",
      "\n",
      "127.0.0.1 - - [23/May/2022 12:01:44] \"\u001b[37mPOST /_dash-update-component HTTP/1.1\u001b[0m\" 200 -\n"
     ]
    },
    {
     "name": "stdout",
     "output_type": "stream",
     "text": [
      "I a\n",
      "Generating features\n",
      "  document  n_tokens  n_i  sentiment has_top_surprise_word has_top_love_word  \\\n",
      "0        i         1    0        0.0                     0                 0   \n",
      "\n",
      "  has_top_anger_word has_top_sadness_word has_top_fear_word has_top_joy_word  \n",
      "0                  0                    0                 0                0  \n"
     ]
    },
    {
     "name": "stderr",
     "output_type": "stream",
     "text": [
      "C:\\Anaconda3\\lib\\site-packages\\sklearn\\compose\\_column_transformer.py:437: FutureWarning:\n",
      "\n",
      "Given feature/column names or counts do not match the ones for the data given during fit. This will fail from v0.24.\n",
      "\n",
      "127.0.0.1 - - [23/May/2022 12:01:44] \"\u001b[37mPOST /_dash-update-component HTTP/1.1\u001b[0m\" 200 -\n"
     ]
    },
    {
     "name": "stdout",
     "output_type": "stream",
     "text": [
      "I \n",
      "Generating features\n",
      "  document  n_tokens  n_i  sentiment has_top_surprise_word has_top_love_word  \\\n",
      "0        i         1    0        0.0                     0                 0   \n",
      "\n",
      "  has_top_anger_word has_top_sadness_word has_top_fear_word has_top_joy_word  \n",
      "0                  0                    0                 0                0  \n"
     ]
    },
    {
     "name": "stderr",
     "output_type": "stream",
     "text": [
      "C:\\Anaconda3\\lib\\site-packages\\sklearn\\compose\\_column_transformer.py:437: FutureWarning:\n",
      "\n",
      "Given feature/column names or counts do not match the ones for the data given during fit. This will fail from v0.24.\n",
      "\n",
      "127.0.0.1 - - [23/May/2022 12:01:45] \"\u001b[37mPOST /_dash-update-component HTTP/1.1\u001b[0m\" 200 -\n"
     ]
    },
    {
     "name": "stdout",
     "output_type": "stream",
     "text": [
      "I w\n",
      "Generating features\n",
      "  document  n_tokens  n_i  sentiment has_top_surprise_word has_top_love_word  \\\n",
      "0      i w         2    1        0.0                     0                 0   \n",
      "\n",
      "  has_top_anger_word has_top_sadness_word has_top_fear_word has_top_joy_word  \n",
      "0                  0                    0                 0                0  \n"
     ]
    },
    {
     "name": "stderr",
     "output_type": "stream",
     "text": [
      "C:\\Anaconda3\\lib\\site-packages\\sklearn\\compose\\_column_transformer.py:437: FutureWarning:\n",
      "\n",
      "Given feature/column names or counts do not match the ones for the data given during fit. This will fail from v0.24.\n",
      "\n",
      "127.0.0.1 - - [23/May/2022 12:01:45] \"\u001b[37mPOST /_dash-update-component HTTP/1.1\u001b[0m\" 200 -\n",
      "C:\\Anaconda3\\lib\\site-packages\\sklearn\\compose\\_column_transformer.py:437: FutureWarning:\n",
      "\n",
      "Given feature/column names or counts do not match the ones for the data given during fit. This will fail from v0.24.\n",
      "\n",
      "127.0.0.1 - - [23/May/2022 12:01:45] \"\u001b[37mPOST /_dash-update-component HTTP/1.1\u001b[0m\" 200 -\n"
     ]
    },
    {
     "name": "stdout",
     "output_type": "stream",
     "text": [
      "I wa\n",
      "Generating features\n",
      "I was\n",
      "  document  n_tokens  n_i  sentiment has_top_surprise_word has_top_love_word  \\\n",
      "0     i wa         2    1        0.0                     0                 0   \n",
      "\n",
      "  has_top_anger_word has_top_sadness_word has_top_fear_word has_top_joy_word  \n",
      "0                  0                    0                 0                0  \n",
      "Generating features\n",
      "  document  n_tokens  n_i  sentiment has_top_surprise_word has_top_love_word  \\\n",
      "0     i wa         2    1        0.0                     0                 0   \n",
      "\n",
      "  has_top_anger_word has_top_sadness_word has_top_fear_word has_top_joy_word  \n",
      "0                  0                    0                 0                0  \n"
     ]
    },
    {
     "name": "stderr",
     "output_type": "stream",
     "text": [
      "C:\\Anaconda3\\lib\\site-packages\\sklearn\\compose\\_column_transformer.py:437: FutureWarning:\n",
      "\n",
      "Given feature/column names or counts do not match the ones for the data given during fit. This will fail from v0.24.\n",
      "\n",
      "127.0.0.1 - - [23/May/2022 12:01:45] \"\u001b[37mPOST /_dash-update-component HTTP/1.1\u001b[0m\" 200 -\n"
     ]
    },
    {
     "name": "stdout",
     "output_type": "stream",
     "text": [
      "I was \n",
      "Generating features\n",
      "  document  n_tokens  n_i  sentiment has_top_surprise_word has_top_love_word  \\\n",
      "0     i wa         2    1        0.0                     0                 0   \n",
      "\n",
      "  has_top_anger_word has_top_sadness_word has_top_fear_word has_top_joy_word  \n",
      "0                  0                    0                 0                0  \n"
     ]
    },
    {
     "name": "stderr",
     "output_type": "stream",
     "text": [
      "C:\\Anaconda3\\lib\\site-packages\\sklearn\\compose\\_column_transformer.py:437: FutureWarning:\n",
      "\n",
      "Given feature/column names or counts do not match the ones for the data given during fit. This will fail from v0.24.\n",
      "\n",
      "127.0.0.1 - - [23/May/2022 12:01:46] \"\u001b[37mPOST /_dash-update-component HTTP/1.1\u001b[0m\" 200 -\n"
     ]
    },
    {
     "name": "stdout",
     "output_type": "stream",
     "text": [
      "I was s\n",
      "Generating features\n",
      "  document  n_tokens  n_i  sentiment has_top_surprise_word has_top_love_word  \\\n",
      "0     i wa         2    1        0.0                     0                 0   \n",
      "\n",
      "  has_top_anger_word has_top_sadness_word has_top_fear_word has_top_joy_word  \n",
      "0                  0                    0                 0                0  \n"
     ]
    },
    {
     "name": "stderr",
     "output_type": "stream",
     "text": [
      "C:\\Anaconda3\\lib\\site-packages\\sklearn\\compose\\_column_transformer.py:437: FutureWarning:\n",
      "\n",
      "Given feature/column names or counts do not match the ones for the data given during fit. This will fail from v0.24.\n",
      "\n",
      "127.0.0.1 - - [23/May/2022 12:01:47] \"\u001b[37mPOST /_dash-update-component HTTP/1.1\u001b[0m\" 200 -\n"
     ]
    },
    {
     "name": "stdout",
     "output_type": "stream",
     "text": [
      "I was sc\n",
      "Generating features\n",
      "  document  n_tokens  n_i  sentiment has_top_surprise_word has_top_love_word  \\\n",
      "0  i wa sc         3    1        0.0                     0                 0   \n",
      "\n",
      "  has_top_anger_word has_top_sadness_word has_top_fear_word has_top_joy_word  \n",
      "0                  0                    0                 0                0  \n"
     ]
    },
    {
     "name": "stderr",
     "output_type": "stream",
     "text": [
      "C:\\Anaconda3\\lib\\site-packages\\sklearn\\compose\\_column_transformer.py:437: FutureWarning:\n",
      "\n",
      "Given feature/column names or counts do not match the ones for the data given during fit. This will fail from v0.24.\n",
      "\n",
      "127.0.0.1 - - [23/May/2022 12:01:47] \"\u001b[37mPOST /_dash-update-component HTTP/1.1\u001b[0m\" 200 -\n"
     ]
    },
    {
     "name": "stdout",
     "output_type": "stream",
     "text": [
      "I was sca\n",
      "Generating features\n",
      "   document  n_tokens  n_i  sentiment has_top_surprise_word has_top_love_word  \\\n",
      "0  i wa sca         3    1        0.0                     0                 0   \n",
      "\n",
      "  has_top_anger_word has_top_sadness_word has_top_fear_word has_top_joy_word  \n",
      "0                  0                    0                 0                0  \n",
      "I was scar\n",
      "Generating features\n",
      "    document  n_tokens  n_i  sentiment has_top_surprise_word  \\\n",
      "0  i wa scar         3    1        0.0                     0   \n",
      "\n",
      "  has_top_love_word has_top_anger_word has_top_sadness_word has_top_fear_word  \\\n",
      "0                 0                  0                    0                 0   \n",
      "\n",
      "  has_top_joy_word  \n",
      "0                0  \n",
      "I was scare\n"
     ]
    },
    {
     "name": "stderr",
     "output_type": "stream",
     "text": [
      "C:\\Anaconda3\\lib\\site-packages\\sklearn\\compose\\_column_transformer.py:437: FutureWarning:\n",
      "\n",
      "Given feature/column names or counts do not match the ones for the data given during fit. This will fail from v0.24.\n",
      "\n",
      "127.0.0.1 - - [23/May/2022 12:01:47] \"\u001b[37mPOST /_dash-update-component HTTP/1.1\u001b[0m\" 200 -\n",
      "C:\\Anaconda3\\lib\\site-packages\\sklearn\\compose\\_column_transformer.py:437: FutureWarning:\n",
      "\n",
      "Given feature/column names or counts do not match the ones for the data given during fit. This will fail from v0.24.\n",
      "\n",
      "127.0.0.1 - - [23/May/2022 12:01:47] \"\u001b[37mPOST /_dash-update-component HTTP/1.1\u001b[0m\" 200 -\n",
      "C:\\Anaconda3\\lib\\site-packages\\sklearn\\compose\\_column_transformer.py:437: FutureWarning:\n",
      "\n",
      "Given feature/column names or counts do not match the ones for the data given during fit. This will fail from v0.24.\n",
      "\n",
      "127.0.0.1 - - [23/May/2022 12:01:47] \"\u001b[37mPOST /_dash-update-component HTTP/1.1\u001b[0m\" 200 -\n"
     ]
    },
    {
     "name": "stdout",
     "output_type": "stream",
     "text": [
      "Generating features\n",
      "     document  n_tokens  n_i  sentiment has_top_surprise_word  \\\n",
      "0  i wa scare         3    1        0.0                     0   \n",
      "\n",
      "  has_top_love_word has_top_anger_word has_top_sadness_word has_top_fear_word  \\\n",
      "0                 0                  0                    0                 0   \n",
      "\n",
      "  has_top_joy_word  \n",
      "0                0  \n",
      "I was scared\n",
      "Generating features\n",
      "      document  n_tokens  n_i  sentiment has_top_surprise_word  \\\n",
      "0  i wa scared         3    1        0.0                     0   \n",
      "\n",
      "  has_top_love_word has_top_anger_word has_top_sadness_word  \\\n",
      "0                 0                  0                    0   \n",
      "\n",
      "   has_top_fear_word has_top_joy_word  \n",
      "0                  1                0  \n"
     ]
    },
    {
     "name": "stderr",
     "output_type": "stream",
     "text": [
      "C:\\Anaconda3\\lib\\site-packages\\sklearn\\compose\\_column_transformer.py:437: FutureWarning:\n",
      "\n",
      "Given feature/column names or counts do not match the ones for the data given during fit. This will fail from v0.24.\n",
      "\n",
      "127.0.0.1 - - [23/May/2022 12:01:51] \"\u001b[37mPOST /_dash-update-component HTTP/1.1\u001b[0m\" 200 -\n"
     ]
    },
    {
     "name": "stdout",
     "output_type": "stream",
     "text": [
      "I was scared \n",
      "Generating features\n",
      "      document  n_tokens  n_i  sentiment has_top_surprise_word  \\\n",
      "0  i wa scared         3    1        0.0                     0   \n",
      "\n",
      "  has_top_love_word has_top_anger_word has_top_sadness_word  \\\n",
      "0                 0                  0                    0   \n",
      "\n",
      "   has_top_fear_word has_top_joy_word  \n",
      "0                  1                0  \n",
      "I was scared i\n",
      "Generating features\n",
      "I was scared in\n",
      "I was scared in \n",
      "        document  n_tokens  n_i  sentiment has_top_surprise_word  \\\n",
      "0  i wa scared i         4    1        0.0                     0   \n",
      "\n",
      "  has_top_love_word has_top_anger_word has_top_sadness_word  \\\n",
      "0                 0                  0                    0   \n",
      "\n",
      "   has_top_fear_word has_top_joy_word  \n",
      "0                  1                0  I was scared in t\n",
      "Generating features\n",
      "\n",
      "Generating features\n",
      "I was scared in thI was scared in the\n",
      "\n",
      "Generating features\n"
     ]
    },
    {
     "name": "stderr",
     "output_type": "stream",
     "text": [
      "C:\\Anaconda3\\lib\\site-packages\\sklearn\\compose\\_column_transformer.py:437: FutureWarning:\n",
      "\n",
      "Given feature/column names or counts do not match the ones for the data given during fit. This will fail from v0.24.\n",
      "\n",
      "127.0.0.1 - - [23/May/2022 12:01:52] \"\u001b[37mPOST /_dash-update-component HTTP/1.1\u001b[0m\" 200 -\n",
      "C:\\Anaconda3\\lib\\site-packages\\sklearn\\compose\\_column_transformer.py:437: FutureWarning:\n",
      "\n",
      "Given feature/column names or counts do not match the ones for the data given during fit. This will fail from v0.24.\n",
      "\n",
      "C:\\Anaconda3\\lib\\site-packages\\sklearn\\compose\\_column_transformer.py:437: FutureWarning:\n",
      "\n",
      "Given feature/column names or counts do not match the ones for the data given during fit. This will fail from v0.24.\n",
      "\n",
      "C:\\Anaconda3\\lib\\site-packages\\sklearn\\compose\\_column_transformer.py:437: FutureWarning:\n",
      "\n",
      "Given feature/column names or counts do not match the ones for the data given during fit. This will fail from v0.24.\n",
      "\n",
      "C:\\Anaconda3\\lib\\site-packages\\sklearn\\compose\\_column_transformer.py:437: FutureWarning:\n",
      "\n",
      "Given feature/column names or counts do not match the ones for the data given during fit. This will fail from v0.24.\n",
      "\n",
      "C:\\Anaconda3\\lib\\site-packages\\sklearn\\compose\\_column_transformer.py:437: FutureWarning:\n",
      "\n",
      "Given feature/column names or counts do not match the ones for the data given during fit. This will fail from v0.24.\n",
      "\n",
      "127.0.0.1 - - [23/May/2022 12:01:52] \"\u001b[37mPOST /_dash-update-component HTTP/1.1\u001b[0m\" 200 -\n"
     ]
    },
    {
     "name": "stdout",
     "output_type": "stream",
     "text": [
      "      document  n_tokens  n_i  sentiment has_top_surprise_word  \\\n",
      "0  i wa scared         3    1        0.0                     0   \n",
      "\n",
      "  has_top_love_word has_top_anger_word has_top_sadness_word  \\\n",
      "0                 0                  0                    0   \n",
      "\n",
      "   has_top_fear_word has_top_joy_word  \n",
      "0                  1                0  \n",
      "Generating features\n",
      "      document  n_tokens  n_i  sentiment has_top_surprise_word  \\\n",
      "0  i wa scared         3    1        0.0                     0   \n",
      "\n",
      "  has_top_love_word has_top_anger_word has_top_sadness_word  \\\n",
      "0                 0                  0                    0   \n",
      "\n",
      "   has_top_fear_word has_top_joy_word  \n",
      "0                  1                0  \n",
      "Generating features\n",
      "      document  n_tokens  n_i  sentiment has_top_surprise_word  \\\n",
      "0  i wa scared         3    1        0.0                     0   \n",
      "\n",
      "  has_top_love_word has_top_anger_word has_top_sadness_word  \\\n",
      "0                 0                  0                    0   \n",
      "\n",
      "   has_top_fear_word has_top_joy_word  \n",
      "0                  1                0  \n",
      "         document  n_tokens  n_i  sentiment has_top_surprise_word  \\\n",
      "0  i wa scared th         4    1        0.0                     0   \n",
      "\n",
      "  has_top_love_word has_top_anger_word has_top_sadness_word  \\\n",
      "0                 0                  0                    0   \n",
      "\n",
      "   has_top_fear_word has_top_joy_word  \n",
      "0                  1                0  \n",
      "      document  n_tokens  n_i  sentiment has_top_surprise_word  \\\n",
      "0  i wa scared         3    1        0.0                     0   \n",
      "\n",
      "  has_top_love_word has_top_anger_word has_top_sadness_word  \\\n",
      "0                 0                  0                    0   \n",
      "\n",
      "   has_top_fear_word has_top_joy_word  \n",
      "0                  1                0  \n",
      "I was scared in the \n"
     ]
    },
    {
     "name": "stderr",
     "output_type": "stream",
     "text": [
      "127.0.0.1 - - [23/May/2022 12:01:52] \"\u001b[37mPOST /_dash-update-component HTTP/1.1\u001b[0m\" 200 -\n",
      "127.0.0.1 - - [23/May/2022 12:01:52] \"\u001b[37mPOST /_dash-update-component HTTP/1.1\u001b[0m\" 200 -\n",
      "127.0.0.1 - - [23/May/2022 12:01:52] \"\u001b[37mPOST /_dash-update-component HTTP/1.1\u001b[0m\" 200 -\n",
      "127.0.0.1 - - [23/May/2022 12:01:52] \"\u001b[37mPOST /_dash-update-component HTTP/1.1\u001b[0m\" 200 -\n",
      "C:\\Anaconda3\\lib\\site-packages\\sklearn\\compose\\_column_transformer.py:437: FutureWarning:\n",
      "\n",
      "Given feature/column names or counts do not match the ones for the data given during fit. This will fail from v0.24.\n",
      "\n",
      "127.0.0.1 - - [23/May/2022 12:01:52] \"\u001b[37mPOST /_dash-update-component HTTP/1.1\u001b[0m\" 200 -\n"
     ]
    },
    {
     "name": "stdout",
     "output_type": "stream",
     "text": [
      "Generating features\n",
      "      document  n_tokens  n_i  sentiment has_top_surprise_word  \\\n",
      "0  i wa scared         3    1        0.0                     0   \n",
      "\n",
      "  has_top_love_word has_top_anger_word has_top_sadness_word  \\\n",
      "0                 0                  0                    0   \n",
      "\n",
      "   has_top_fear_word has_top_joy_word  \n",
      "0                  1                0  \n",
      "I was scared in the h\n",
      "Generating features\n",
      "        document  n_tokens  n_i  sentiment has_top_surprise_word  \\\n",
      "0  i wa scared h         4    1        0.0                     0   \n",
      "\n",
      "  has_top_love_word has_top_anger_word has_top_sadness_word  \\\n",
      "0                 0                  0                    0   \n",
      "\n",
      "   has_top_fear_word has_top_joy_word  \n",
      "0                  1                0  \n"
     ]
    },
    {
     "name": "stderr",
     "output_type": "stream",
     "text": [
      "C:\\Anaconda3\\lib\\site-packages\\sklearn\\compose\\_column_transformer.py:437: FutureWarning:\n",
      "\n",
      "Given feature/column names or counts do not match the ones for the data given during fit. This will fail from v0.24.\n",
      "\n",
      "127.0.0.1 - - [23/May/2022 12:01:52] \"\u001b[37mPOST /_dash-update-component HTTP/1.1\u001b[0m\" 200 -\n",
      "C:\\Anaconda3\\lib\\site-packages\\sklearn\\compose\\_column_transformer.py:437: FutureWarning:\n",
      "\n",
      "Given feature/column names or counts do not match the ones for the data given during fit. This will fail from v0.24.\n",
      "\n",
      "127.0.0.1 - - [23/May/2022 12:01:53] \"\u001b[37mPOST /_dash-update-component HTTP/1.1\u001b[0m\" 200 -\n",
      "C:\\Anaconda3\\lib\\site-packages\\sklearn\\compose\\_column_transformer.py:437: FutureWarning:\n",
      "\n",
      "Given feature/column names or counts do not match the ones for the data given during fit. This will fail from v0.24.\n",
      "\n",
      "127.0.0.1 - - [23/May/2022 12:01:53] \"\u001b[37mPOST /_dash-update-component HTTP/1.1\u001b[0m\" 200 -\n"
     ]
    },
    {
     "name": "stdout",
     "output_type": "stream",
     "text": [
      "I was scared in the ho\n",
      "Generating features\n",
      "I was scared in the hou\n",
      "         document  n_tokens  n_i  sentiment has_top_surprise_word  \\\n",
      "0  i wa scared ho         4    1        0.0                     0   \n",
      "\n",
      "  has_top_love_word has_top_anger_word has_top_sadness_word  \\\n",
      "0                 0                  0                    0   \n",
      "\n",
      "   has_top_fear_word has_top_joy_word  \n",
      "0                  1                0  \n",
      "Generating features\n",
      "          document  n_tokens  n_i  sentiment has_top_surprise_word  \\\n",
      "0  i wa scared hou         4    1        0.0                     0   \n",
      "\n",
      "  has_top_love_word has_top_anger_word has_top_sadness_word  \\\n",
      "0                 0                  0                    0   \n",
      "\n",
      "   has_top_fear_word has_top_joy_word  \n",
      "0                  1                0  \n"
     ]
    },
    {
     "name": "stderr",
     "output_type": "stream",
     "text": [
      "C:\\Anaconda3\\lib\\site-packages\\sklearn\\compose\\_column_transformer.py:437: FutureWarning:\n",
      "\n",
      "Given feature/column names or counts do not match the ones for the data given during fit. This will fail from v0.24.\n",
      "\n",
      "127.0.0.1 - - [23/May/2022 12:01:53] \"\u001b[37mPOST /_dash-update-component HTTP/1.1\u001b[0m\" 200 -\n",
      "C:\\Anaconda3\\lib\\site-packages\\sklearn\\compose\\_column_transformer.py:437: FutureWarning:\n",
      "\n",
      "Given feature/column names or counts do not match the ones for the data given during fit. This will fail from v0.24.\n",
      "\n",
      "127.0.0.1 - - [23/May/2022 12:01:53] \"\u001b[37mPOST /_dash-update-component HTTP/1.1\u001b[0m\" 200 -\n"
     ]
    },
    {
     "name": "stdout",
     "output_type": "stream",
     "text": [
      "I was scared in the ho\n",
      "Generating features\n",
      "         document  n_tokens  n_i  sentiment has_top_surprise_word  \\\n",
      "0  i wa scared ho         4    1        0.0                     0   \n",
      "\n",
      "  has_top_love_word has_top_anger_word has_top_sadness_word  \\\n",
      "0                 0                  0                    0   \n",
      "\n",
      "   has_top_fear_word has_top_joy_word  \n",
      "0                  1                0  \n",
      "I was scared in the h\n",
      "Generating features\n",
      "        document  n_tokens  n_i  sentiment has_top_surprise_word  \\\n",
      "0  i wa scared h         4    1        0.0                     0   \n",
      "\n",
      "  has_top_love_word has_top_anger_word has_top_sadness_word  \\\n",
      "0                 0                  0                    0   \n",
      "\n",
      "   has_top_fear_word has_top_joy_word  \n",
      "0                  1                0  \n"
     ]
    },
    {
     "name": "stderr",
     "output_type": "stream",
     "text": [
      "C:\\Anaconda3\\lib\\site-packages\\sklearn\\compose\\_column_transformer.py:437: FutureWarning:\n",
      "\n",
      "Given feature/column names or counts do not match the ones for the data given during fit. This will fail from v0.24.\n",
      "\n",
      "C:\\Anaconda3\\lib\\site-packages\\sklearn\\compose\\_column_transformer.py:437: FutureWarning:\n",
      "\n",
      "Given feature/column names or counts do not match the ones for the data given during fit. This will fail from v0.24.\n",
      "\n",
      "127.0.0.1 - - [23/May/2022 12:01:53] \"\u001b[37mPOST /_dash-update-component HTTP/1.1\u001b[0m\" 200 -\n"
     ]
    },
    {
     "name": "stdout",
     "output_type": "stream",
     "text": [
      "I was scared in the ha\n",
      "I was scared in the hau\n",
      "Generating features\n",
      "         document  n_tokens  n_i  sentiment has_top_surprise_word  \\\n",
      "0  i wa scared ha         4    1        0.0                     0   \n",
      "\n",
      "  has_top_love_word has_top_anger_word has_top_sadness_word  \\\n",
      "0                 0                  0                    0   \n",
      "\n",
      "   has_top_fear_word has_top_joy_word  \n",
      "0                  1                0  \n",
      "Generating features\n",
      "          document  n_tokens  n_i  sentiment has_top_surprise_word  \\\n",
      "0  i wa scared hau         4    1        0.0                     0   \n",
      "\n",
      "  has_top_love_word has_top_anger_word has_top_sadness_word  \\\n",
      "0                 0                  0                    0   \n",
      "\n",
      "   has_top_fear_word has_top_joy_word  \n",
      "0                  1                0  \n"
     ]
    },
    {
     "name": "stderr",
     "output_type": "stream",
     "text": [
      "127.0.0.1 - - [23/May/2022 12:01:53] \"\u001b[37mPOST /_dash-update-component HTTP/1.1\u001b[0m\" 200 -\n"
     ]
    },
    {
     "name": "stdout",
     "output_type": "stream",
     "text": [
      "I was scared in the haun\n",
      "I was scared in the haunt\n",
      "I was scared in the haunte\n",
      "Generating features\n",
      "Generating features           document  n_tokens  n_i  sentiment has_top_surprise_word  \\\n",
      "0  i wa scared haun         4    1        0.0                     0   \n",
      "\n",
      "  has_top_love_word has_top_anger_word has_top_sadness_word  \\\n",
      "0                 0                  0                    0   \n",
      "\n",
      "   has_top_fear_word has_top_joy_word  \n",
      "0                  1                0  \n",
      "Generating features\n",
      "\n"
     ]
    },
    {
     "name": "stderr",
     "output_type": "stream",
     "text": [
      "C:\\Anaconda3\\lib\\site-packages\\sklearn\\compose\\_column_transformer.py:437: FutureWarning:\n",
      "\n",
      "Given feature/column names or counts do not match the ones for the data given during fit. This will fail from v0.24.\n",
      "\n",
      "C:\\Anaconda3\\lib\\site-packages\\sklearn\\compose\\_column_transformer.py:437: FutureWarning:\n",
      "\n",
      "Given feature/column names or counts do not match the ones for the data given during fit. This will fail from v0.24.\n",
      "\n",
      "C:\\Anaconda3\\lib\\site-packages\\sklearn\\compose\\_column_transformer.py:437: FutureWarning:\n",
      "\n",
      "Given feature/column names or counts do not match the ones for the data given during fit. This will fail from v0.24.\n",
      "\n",
      "127.0.0.1 - - [23/May/2022 12:01:54] \"\u001b[37mPOST /_dash-update-component HTTP/1.1\u001b[0m\" 200 -\n",
      "127.0.0.1 - - [23/May/2022 12:01:54] \"\u001b[37mPOST /_dash-update-component HTTP/1.1\u001b[0m\" 200 -\n"
     ]
    },
    {
     "name": "stdout",
     "output_type": "stream",
     "text": [
      "             document  n_tokens  n_i  sentiment has_top_surprise_word  \\\n",
      "0  i wa scared haunte         4    1        0.0                     0   \n",
      "\n",
      "  has_top_love_word has_top_anger_word has_top_sadness_word  \\\n",
      "0                 0                  0                    0   \n",
      "\n",
      "   has_top_fear_word has_top_joy_word  \n",
      "0                  1                0              document  n_tokens  n_i  sentiment has_top_surprise_word  \\\n",
      "0  i wa scared haunt         4    1        0.0                     0   \n",
      "\n",
      "  has_top_love_word has_top_anger_word has_top_sadness_word  \\\n",
      "0                 0                  0                    0   \n",
      "\n",
      "   has_top_fear_word has_top_joy_word  \n",
      "0                  1                0  \n",
      "I was scared in the haunted\n",
      "\n",
      "I was scared in the haunted \n",
      "I was scared in the haunted hGenerating features\n",
      "\n",
      "Generating features\n"
     ]
    },
    {
     "name": "stderr",
     "output_type": "stream",
     "text": [
      "127.0.0.1 - - [23/May/2022 12:01:54] \"\u001b[37mPOST /_dash-update-component HTTP/1.1\u001b[0m\" 200 -\n",
      "C:\\Anaconda3\\lib\\site-packages\\sklearn\\compose\\_column_transformer.py:437: FutureWarning:\n",
      "\n",
      "Given feature/column names or counts do not match the ones for the data given during fit. This will fail from v0.24.\n",
      "\n",
      "C:\\Anaconda3\\lib\\site-packages\\sklearn\\compose\\_column_transformer.py:437: FutureWarning:\n",
      "\n",
      "Given feature/column names or counts do not match the ones for the data given during fit. This will fail from v0.24.\n",
      "\n"
     ]
    },
    {
     "name": "stdout",
     "output_type": "stream",
     "text": [
      "Generating features\n",
      "I was scared in the haunted ho              document  n_tokens  n_i  sentiment has_top_surprise_word  \\\n",
      "0  i wa scared haunted         4    1        0.0                     0   \n",
      "\n",
      "  has_top_love_word has_top_anger_word has_top_sadness_word  \\\n",
      "0                 0                  0                    0   \n",
      "\n",
      "   has_top_fear_word has_top_joy_word  \n",
      "0                  1                0  \n",
      "\n",
      "              document  n_tokens  n_i  sentiment has_top_surprise_word  \\\n",
      "0  i wa scared haunted         4    1        0.0                     0   \n",
      "\n",
      "  has_top_love_word has_top_anger_word has_top_sadness_word  \\\n",
      "0                 0                  0                    0   \n",
      "\n",
      "   has_top_fear_word has_top_joy_word  \n",
      "0                  1                0                  document  n_tokens  n_i  sentiment has_top_surprise_word  \\\n",
      "0  i wa scared haunted h         5    1        0.0                     0   \n",
      "\n",
      "  has_top_love_word has_top_anger_word has_top_sadness_word  \\\n",
      "0                 0                  0                    0   \n",
      "\n",
      "   has_top_fear_word has_top_joy_word  \n",
      "0                  1                0  \n",
      "\n",
      "I was scared in the haunted hou\n",
      "I was scared in the haunted hous\n",
      "Generating features"
     ]
    },
    {
     "name": "stderr",
     "output_type": "stream",
     "text": [
      "127.0.0.1 - - [23/May/2022 12:01:54] \"\u001b[37mPOST /_dash-update-component HTTP/1.1\u001b[0m\" 200 -\n",
      "127.0.0.1 - - [23/May/2022 12:01:54] \"\u001b[37mPOST /_dash-update-component HTTP/1.1\u001b[0m\" 200 -\n",
      "C:\\Anaconda3\\lib\\site-packages\\sklearn\\compose\\_column_transformer.py:437: FutureWarning:\n",
      "\n",
      "Given feature/column names or counts do not match the ones for the data given during fit. This will fail from v0.24.\n",
      "\n",
      "C:\\Anaconda3\\lib\\site-packages\\sklearn\\compose\\_column_transformer.py:437: FutureWarning:\n",
      "\n",
      "Given feature/column names or counts do not match the ones for the data given during fit. This will fail from v0.24.\n",
      "\n",
      "127.0.0.1 - - [23/May/2022 12:01:54] \"\u001b[37mPOST /_dash-update-component HTTP/1.1\u001b[0m\" 200 -\n",
      "C:\\Anaconda3\\lib\\site-packages\\sklearn\\compose\\_column_transformer.py:437: FutureWarning:\n",
      "\n",
      "Given feature/column names or counts do not match the ones for the data given during fit. This will fail from v0.24.\n",
      "\n",
      "127.0.0.1 - - [23/May/2022 12:01:54] \"\u001b[37mPOST /_dash-update-component HTTP/1.1\u001b[0m\" 200 -\n",
      "127.0.0.1 - - [23/May/2022 12:01:54] \"\u001b[37mPOST /_dash-update-component HTTP/1.1\u001b[0m\" 200 -\n",
      "127.0.0.1 - - [23/May/2022 12:01:54] \"\u001b[37mPOST /_dash-update-component HTTP/1.1\u001b[0m\" 200 -\n"
     ]
    },
    {
     "name": "stdout",
     "output_type": "stream",
     "text": [
      "\n",
      "Generating features\n",
      "Generating features\n",
      "                 document  n_tokens  n_i  sentiment has_top_surprise_word  \\\n",
      "0  i wa scared haunted ho         5    1        0.0                     0   \n",
      "\n",
      "  has_top_love_word has_top_anger_word has_top_sadness_word  \\\n",
      "0                 0                  0                    0   \n",
      "\n",
      "   has_top_fear_word has_top_joy_word  \n",
      "0                  1                0  \n",
      "                   document  n_tokens  n_i  sentiment has_top_surprise_word  \\\n",
      "0  i wa scared haunted hous         5    1        0.0                     0   \n",
      "\n",
      "  has_top_love_word has_top_anger_word has_top_sadness_word  \\\n",
      "0                 0                  0                    0   \n",
      "\n",
      "   has_top_fear_word has_top_joy_word  \n",
      "0                  1                0  \n",
      "                  document  n_tokens  n_i  sentiment has_top_surprise_word  \\\n",
      "0  i wa scared haunted hou         5    1        0.0                     0   \n",
      "\n",
      "  has_top_love_word has_top_anger_word has_top_sadness_word  \\\n",
      "0                 0                  0                    0   \n",
      "\n",
      "   has_top_fear_word has_top_joy_word  \n",
      "0                  1                0  \n",
      "I was scared in the haunted house"
     ]
    },
    {
     "name": "stderr",
     "output_type": "stream",
     "text": [
      "C:\\Anaconda3\\lib\\site-packages\\sklearn\\compose\\_column_transformer.py:437: FutureWarning:\n",
      "\n",
      "Given feature/column names or counts do not match the ones for the data given during fit. This will fail from v0.24.\n",
      "\n",
      "127.0.0.1 - - [23/May/2022 12:01:54] \"\u001b[37mPOST /_dash-update-component HTTP/1.1\u001b[0m\" 200 -\n"
     ]
    },
    {
     "name": "stdout",
     "output_type": "stream",
     "text": [
      "\n",
      "Generating features\n",
      "                    document  n_tokens  n_i  sentiment has_top_surprise_word  \\\n",
      "0  i wa scared haunted house         5    1        0.0                     0   \n",
      "\n",
      "  has_top_love_word has_top_anger_word has_top_sadness_word  \\\n",
      "0                 0                  0                    0   \n",
      "\n",
      "   has_top_fear_word has_top_joy_word  \n",
      "0                  1                0  \n"
     ]
    }
   ],
   "source": [
    "if __name__=='__main__':\n",
    "    app.run_server()"
   ]
  },
  {
   "cell_type": "code",
   "execution_count": null,
   "metadata": {},
   "outputs": [],
   "source": []
  }
 ],
 "metadata": {
  "interpreter": {
   "hash": "97ae724bfa85b9b34df7982b8bb8c7216f435b92902d749e4263f71162bea840"
  },
  "kernelspec": {
   "display_name": "Python 3",
   "language": "python",
   "name": "python3"
  },
  "language_info": {
   "codemirror_mode": {
    "name": "ipython",
    "version": 3
   },
   "file_extension": ".py",
   "mimetype": "text/x-python",
   "name": "python",
   "nbconvert_exporter": "python",
   "pygments_lexer": "ipython3",
   "version": "3.8.5"
  }
 },
 "nbformat": 4,
 "nbformat_minor": 4
}
