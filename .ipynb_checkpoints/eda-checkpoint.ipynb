{
 "cells": [
  {
   "cell_type": "markdown",
   "metadata": {},
   "source": [
    "# Exploratory data analysis\n",
    "Adhering to CRISP-DM principles, it is important to obtain a better understanding of the data before preprocessing and modeling.  "
   ]
  },
  {
   "cell_type": "code",
   "execution_count": 1,
   "metadata": {},
   "outputs": [
    {
     "name": "stderr",
     "output_type": "stream",
     "text": [
      "[nltk_data] Downloading package punkt to\n",
      "[nltk_data]     C:\\Users\\E082499\\AppData\\Roaming\\nltk_data...\n",
      "[nltk_data]   Package punkt is already up-to-date!\n",
      "[nltk_data] Downloading package stopwords to\n",
      "[nltk_data]     C:\\Users\\E082499\\AppData\\Roaming\\nltk_data...\n",
      "[nltk_data]   Package stopwords is already up-to-date!\n",
      "[nltk_data] Downloading package wordnet to\n",
      "[nltk_data]     C:\\Users\\E082499\\AppData\\Roaming\\nltk_data...\n",
      "[nltk_data]   Package wordnet is already up-to-date!\n"
     ]
    }
   ],
   "source": [
    "# Imports\n",
    "\n",
    "import re\n",
    "import numpy as np\n",
    "import pandas as pd\n",
    "import matplotlib.pyplot as plt\n",
    "import seaborn as sns\n",
    "import nltk\n",
    "nltk.download('punkt') \n",
    "nltk.download('stopwords') \n",
    "nltk.download('wordnet') \n",
    "\n",
    "from nltk import FreqDist\n",
    "\n",
    "from emotions_model import get_top_words_per_emotion_idx\n",
    "from emotions_model import generateSentiment\n",
    "from emotions_model import tokenize"
   ]
  },
  {
   "cell_type": "markdown",
   "metadata": {},
   "source": [
    "# Custom functions\n",
    "- Other functions pulled from emotions_model.py"
   ]
  },
  {
   "cell_type": "code",
   "execution_count": 2,
   "metadata": {},
   "outputs": [],
   "source": [
    "def tokenize_and_join(text):\n",
    "    '''\n",
    "    INPUT\n",
    "    text - a string of text\n",
    "\n",
    "    OUTPUT\n",
    "    text - a string of text that has been processed with the steps below\n",
    "        1) Normalize\n",
    "        2) Remove punctuation\n",
    "        3) Lemmatize\n",
    "        4) Stop words removed \n",
    "    '''\n",
    "    tokens= tokenize(text)\n",
    "    \n",
    "    tokens=' '.join(tokens)\n",
    "    \n",
    "    return tokens\n",
    "\n"
   ]
  },
  {
   "cell_type": "markdown",
   "metadata": {},
   "source": [
    "# Data load"
   ]
  },
  {
   "cell_type": "code",
   "execution_count": 3,
   "metadata": {},
   "outputs": [
    {
     "name": "stdout",
     "output_type": "stream",
     "text": [
      "<class 'pandas.core.frame.DataFrame'>\n",
      "RangeIndex: 19997 entries, 0 to 19996\n",
      "Data columns (total 2 columns):\n",
      " #   Column    Non-Null Count  Dtype \n",
      "---  ------    --------------  ----- \n",
      " 0   document  19997 non-null  object\n",
      " 1   target    19997 non-null  object\n",
      "dtypes: object(2)\n",
      "memory usage: 312.6+ KB\n",
      "None\n"
     ]
    }
   ],
   "source": [
    "df=pd.read_csv('./data/emotion_corpus.txt',sep=';')\n",
    "\n",
    "print(df.info())"
   ]
  },
  {
   "cell_type": "markdown",
   "metadata": {},
   "source": [
    "# Section 1:\n",
    "- 1.1 How many instances of each target category are there? \n",
    "- 1.2 If we group some of the target categories together into positive/negative/neutral groups, is there a trend?\n",
    "- 1.3 Using TextBlob, what percent of the data is positive/negative/neutral?\n",
    "- 1.4 How does the estimated sentiment from #2 compare to the score from 3? \n",
    "\n",
    "## 1.1 Emotion counts"
   ]
  },
  {
   "cell_type": "code",
   "execution_count": 4,
   "metadata": {},
   "outputs": [
    {
     "data": {
      "image/png": "[encoded data removed]",
      "text/plain": [
       "<Figure size 432x288 with 1 Axes>"
      ]
     },
     "metadata": {
      "needs_background": "light"
     },
     "output_type": "display_data"
    },
    {
     "name": "stdout",
     "output_type": "stream",
     "text": [
      "Percent of emotions within dataset:\n",
      "\n",
      "joy         34.0\n",
      "sadness     29.0\n",
      "anger       14.0\n",
      "fear        12.0\n",
      "love         8.0\n",
      "surprise     4.0\n",
      "Name: target, dtype: float64\n"
     ]
    }
   ],
   "source": [
    "palette_dict={\n",
    "    'joy':'#FFF633',\n",
    "    'anger':'#F13027',\n",
    "    'sadness':'#279BF1',\n",
    "    'fear':'#9827F1',\n",
    "    'love':'#F127A1',\n",
    "    'surprise':'#27F143'\n",
    "    }\n",
    "\n",
    "\n",
    "sns.countplot(x=df['target'],order=df['target'].value_counts().index,\n",
    "              palette=palette_dict)\n",
    "plt.title('Counts of emotions')\n",
    "plt.xlabel('\\nEmotion')\n",
    "plt.show()\n",
    "\n",
    "\n",
    "print('Percent of emotions within dataset:\\n')\n",
    "print(round(df['target'].value_counts(normalize=True),2)*100)"
   ]
  },
  {
   "cell_type": "markdown",
   "metadata": {},
   "source": [
    "- From 1.1:\n",
    "    - Joy and sadness comprise the majority of the dataset.\n",
    "\n",
    "## 1.2 Estimate sentiment based on emotion groupings"
   ]
  },
  {
   "cell_type": "code",
   "execution_count": 5,
   "metadata": {},
   "outputs": [
    {
     "data": {
      "image/png": "[encoded data removed]",
      "text/plain": [
       "<Figure size 432x288 with 1 Axes>"
      ]
     },
     "metadata": {
      "needs_background": "light"
     },
     "output_type": "display_data"
    },
    {
     "name": "stdout",
     "output_type": "stream",
     "text": [
      "Percent of estimated sentiment within dataset:\n",
      "\n",
      "negative    54.0\n",
      "positive    42.0\n",
      "neutral      4.0\n",
      "Name: est_sentiment, dtype: float64\n"
     ]
    }
   ],
   "source": [
    "\n",
    "df['est_sentiment']='neutral'\n",
    "df.loc[df['target'].isin(['joy','love']),'est_sentiment']='positive'\n",
    "df.loc[df['target'].isin(['anger','fear','sadness']),'est_sentiment']='negative'\n",
    "\n",
    "est_sent_dict={\n",
    "    'neutral':'#ACACAC',\n",
    "    'negative':'#F13027',\n",
    "    'positive':'#27F143'\n",
    "    }\n",
    "\n",
    "sns.countplot(x=df['est_sentiment'],order=df['est_sentiment'].value_counts().index,\n",
    "              palette=est_sent_dict)\n",
    "plt.title('Grouping emotions into sentiment categories')\n",
    "plt.xlabel('\\nCategory')\n",
    "plt.show()\n",
    "\n",
    "\n",
    "print('Percent of estimated sentiment within dataset:\\n')\n",
    "print(round(df['est_sentiment'].value_counts(normalize=True),2)*100)"
   ]
  },
  {
   "cell_type": "markdown",
   "metadata": {},
   "source": [
    "- From 1.2:\n",
    "    - Assuming joy/love are positive, anger/fear/sadness are negative, and suprise is neutral the data set is 54% negative, 42% positive,and 4% neutral.\n",
    "\n",
    "\n",
    "## 1.3 Determine the sentiment based on the TextBlob library"
   ]
  },
  {
   "cell_type": "code",
   "execution_count": 6,
   "metadata": {},
   "outputs": [
    {
     "name": "stdout",
     "output_type": "stream",
     "text": [
      "          sentiment  sentiment_subjectivity\n",
      "target                                     \n",
      "anger     -0.100165                0.478725\n",
      "fear      -0.059723                0.461128\n",
      "joy        0.250720                0.552062\n",
      "love       0.171699                0.572435\n",
      "sadness   -0.107580                0.490578\n",
      "surprise   0.044648                0.610824\n"
     ]
    },
    {
     "data": {
      "image/png": "[encoded data removed]",
      "text/plain": [
       "<Figure size 432x288 with 1 Axes>"
      ]
     },
     "metadata": {
      "needs_background": "light"
     },
     "output_type": "display_data"
    }
   ],
   "source": [
    "\n",
    "#   Convert the list of numbers to separate columns\n",
    "df[['sentiment',\n",
    "    'sentiment_subjectivity']]=pd.DataFrame(df['document'].apply(generateSentiment).tolist(),\n",
    "                                            index=df.index)\n",
    "\n",
    "print(pd.pivot_table(df,index='target',\n",
    "                     values=['sentiment','sentiment_subjectivity']))\n",
    "\n",
    "sentiment_agg=pd.pivot_table(df,index='target',\n",
    "                     values=['sentiment','sentiment_subjectivity']).reset_index()\n",
    "\n",
    "\n",
    "ax=sentiment_agg.plot.bar(x='target',y='sentiment',color=['#F13027','#F13027',\n",
    "                                                       '#27F143','#27F143',\n",
    "                                                     '#F13027','#D2F50F'])\n",
    "ax.axhline(linewidth=2,color='black')\n",
    "ax.axhline(y=0)\n",
    "plt.title('TextBlob Sentiment Score per Emotion')\n",
    "plt.xlabel('Emotion')\n",
    "plt.ylabel('Sentiment')\n",
    "plt.show()"
   ]
  },
  {
   "cell_type": "markdown",
   "metadata": {},
   "source": [
    "- From 1.3:\n",
    "    - the average sentiment for anger, fear, and sadness is less than 0 while the average sentiment for joy and love is greater than 0.  \n",
    "    - the average sentiment for surprise is positive but much closer to 0 since that could be positive or negative \n",
    "    - The subjectivity for surprise is higher than all the other emotions\n",
    "\n",
    "## 1.4 Estimated sentiment to TextBlob sentiment"
   ]
  },
  {
   "cell_type": "code",
   "execution_count": 7,
   "metadata": {},
   "outputs": [
    {
     "name": "stdout",
     "output_type": "stream",
     "text": [
      "               sentiment  sentiment_subjectivity\n",
      "est_sentiment                                   \n",
      "negative       -0.095291                0.481200\n",
      "neutral         0.044648                0.610824\n",
      "positive        0.235287                0.556041\n"
     ]
    }
   ],
   "source": [
    "print(pd.pivot_table(df,index='est_sentiment',\n",
    "                     values=['sentiment','sentiment_subjectivity']))"
   ]
  },
  {
   "cell_type": "markdown",
   "metadata": {},
   "source": [
    "- From 1.4:\n",
    "    - The negative estimated sentiment matches the TextBlob sentiment since average negative estimated sentiment is less than 0, average neutral sentiment is close to 0, and average positive sentiment is greater than 0\n",
    "    \n",
    "# Section 2a: Word count and common words questions\n",
    "   - 2a.1 How many total and unique words are there?\n",
    "   - 2a.2 What are the most common words?\n",
    "   - 2a.3 What is the term frequency for all words? \n",
    "   - 2a.4 Are there any numbers in any of the records?\n",
    "   \n",
    "## 2a.1 and 2a.2"
   ]
  },
  {
   "cell_type": "code",
   "execution_count": 8,
   "metadata": {},
   "outputs": [
    {
     "name": "stdout",
     "output_type": "stream",
     "text": [
      "Number of words: 382671\n",
      "Number of unique words: 17096\n"
     ]
    }
   ],
   "source": [
    "# Combine all records into one document and make everything lower case\n",
    "corpus = \" \".join(df['document'].values).lower()\n",
    "\n",
    "# Split by whitespace\n",
    "word_list = corpus.split() \n",
    "\n",
    "print(f\"Number of words: {len(word_list)}\")\n",
    "\n",
    "print(f\"Number of unique words: {len(set(word_list))}\")"
   ]
  },
  {
   "cell_type": "markdown",
   "metadata": {},
   "source": [
    "- From 2a.1 and 2a.2\n",
    "    - There are over 38,000 and 17,000 total and unique words, respectively.\n",
    "    - Many of the most frequent words are stop words, so let's repeat the process after removing stop words and performing lemmatization. \n",
    "    \n",
    "## 2a.3\n"
   ]
  },
  {
   "cell_type": "code",
   "execution_count": 9,
   "metadata": {},
   "outputs": [
    {
     "name": "stdout",
     "output_type": "stream",
     "text": [
      "0           i\n",
      "1        feel\n",
      "2         and\n",
      "3          to\n",
      "4         the\n",
      "5           a\n",
      "6     feeling\n",
      "7        that\n",
      "8          of\n",
      "9          my\n",
      "10         in\n",
      "11         it\n",
      "12       like\n",
      "13         so\n",
      "14         im\n",
      "15        for\n",
      "16         me\n",
      "17        was\n",
      "18       have\n",
      "19        but\n",
      "Name: word, dtype: object\n"
     ]
    }
   ],
   "source": [
    "#2a.3\n",
    "fd = FreqDist(word_list)\n",
    "\n",
    "word_counts=pd.DataFrame(fd.most_common(),columns=['word','word_count'])\n",
    "word_counts['TF']=word_counts['word_count']/word_counts['word_count'].sum()\n",
    "\n",
    "word_counts.sort_values(by='TF',ascending=False,inplace=True)\n",
    "\n",
    "word_counts['rank']=word_counts['TF'].rank(method='first',ascending=False)\n",
    "\n",
    "word_counts['quantile']=pd.qcut(word_counts['rank'],100,labels=np.arange(1,101))\n",
    "\n",
    "print(word_counts.loc[word_counts['quantile']==1,'word'].head(20))\n"
   ]
  },
  {
   "cell_type": "markdown",
   "metadata": {},
   "source": [
    "## 2a.4\n",
    "- There are no numbers in any record"
   ]
  },
  {
   "cell_type": "code",
   "execution_count": 10,
   "metadata": {},
   "outputs": [
    {
     "name": "stdout",
     "output_type": "stream",
     "text": [
      "False    19997\n",
      "Name: has_num, dtype: int64\n"
     ]
    }
   ],
   "source": [
    "df['has_num']=df['document'].str.contains('[0-9]+',regex=True)\n",
    "\n",
    "print(df['has_num'].value_counts())"
   ]
  },
  {
   "cell_type": "markdown",
   "metadata": {},
   "source": [
    "# Section 2b: Word counts and common words questions after stop word removal and lemmatization\n",
    "   - 2b.1 Are there more stop words in one category than another? \n",
    "   - 2b.2 Are there more words in one category than another? \n",
    "   - 2b.3 How many total and unique words are there?\n",
    "   - 2b.4 What are the most common words by term frequency?\n",
    "   - 2b.5 What is the term frequency for all words? \n",
    "   \n",
    " ## 2b.1 and 2b.2"
   ]
  },
  {
   "cell_type": "code",
   "execution_count": 11,
   "metadata": {},
   "outputs": [
    {
     "data": {
      "image/png": "[encoded data removed]",
      "text/plain": [
       "<Figure size 432x288 with 1 Axes>"
      ]
     },
     "metadata": {
      "needs_background": "light"
     },
     "output_type": "display_data"
    },
    {
     "name": "stdout",
     "output_type": "stream",
     "text": [
      "          sentiment  sentiment_subjectivity       n_words    n_stop_wds\n",
      "count  19997.000000            19997.000000  19997.000000  19997.000000\n",
      "mean       0.048637                0.517306     19.136420      7.398010\n",
      "std        0.343589                0.312000     10.972127      5.397582\n",
      "min       -1.000000                0.000000      2.000000     -1.000000\n",
      "25%       -0.108333                0.300000     11.000000      3.000000\n",
      "50%        0.000000                0.534286     17.000000      6.000000\n",
      "75%        0.260000                0.750000     25.000000     10.000000\n",
      "max        1.000000                1.000000     66.000000     35.000000\n",
      "          n_stop_wds    n_words\n",
      "target                         \n",
      "anger       7.432632  19.247693\n",
      "fear        7.183734  18.743363\n",
      "joy         7.611152  19.426416\n",
      "love        8.154784  20.611822\n",
      "sadness     6.976527  18.417328\n",
      "surprise    7.639777  19.714882\n"
     ]
    }
   ],
   "source": [
    "df['n_words']=df['document'].str.split('\\s').apply(len)\n",
    "df['document']=df['document'].apply(tokenize_and_join)\n",
    "df['n_words_stop_rm']=df['document'].str.split('\\s').apply(len)\n",
    "df['n_stop_wds']=df['n_words']-df['n_words_stop_rm']\n",
    "\n",
    "df.drop(columns=['n_words_stop_rm'],inplace=True)\n",
    "\n",
    "# N_words distribution based on target\n",
    "sns.histplot(x=df['n_words'],hue=df['target'],multiple='stack')\n",
    "plt.title('Distribution of number of words')\n",
    "plt.xlabel('Number of words')\n",
    "plt.show()\n",
    "\n",
    "# Descriptiptive statistics; total and based on target\n",
    "print(df.describe())\n",
    "\n",
    "print(pd.pivot_table(df,index='target',values=['n_words','n_stop_wds']))"
   ]
  },
  {
   "cell_type": "markdown",
   "metadata": {},
   "source": [
    "- From 2b.1:\n",
    "    - The average number of stop words is least in sadness (7) and most in love (8),\n",
    "    but the spread is low\n",
    "- From 2b.2:\n",
    "    - The average number of words between all categories ranges between 18-20\n",
    "    - Distribution of words in all categories is similar\n",
    "    \n",
    "## 2b.3-2b.5\n",
    "- From 2b.4:\n",
    "    - There are over 23,000 and 15,000 total and unique words, respectively.\n",
    "    - Some of the most common words are feel/feeling, very, myself"
   ]
  },
  {
   "cell_type": "code",
   "execution_count": 12,
   "metadata": {},
   "outputs": [
    {
     "name": "stdout",
     "output_type": "stream",
     "text": [
      "Number of words: 234733\n",
      "Number of unique words: 15091\n",
      "0           i\n",
      "1        feel\n",
      "2     feeling\n",
      "3          my\n",
      "4        like\n",
      "5          im\n",
      "6          me\n",
      "7          wa\n",
      "8         you\n",
      "9        time\n",
      "10     really\n",
      "11       know\n",
      "12       very\n",
      "13     myself\n",
      "14        get\n",
      "15       make\n",
      "16     little\n",
      "17     people\n",
      "18        day\n",
      "19       want\n",
      "Name: word, dtype: object\n"
     ]
    }
   ],
   "source": [
    "# Combine all records into one document and make everything lower case\n",
    "corpus = \" \".join(df['document'].values).lower()\n",
    "\n",
    "\n",
    "# Split by whitespace\n",
    "word_list = corpus.split() \n",
    "\n",
    "print(f\"Number of words: {len(word_list)}\")\n",
    "\n",
    "print(f\"Number of unique words: {len(set(word_list))}\")\n",
    "\n",
    "fd = FreqDist(word_list)\n",
    "\n",
    "word_counts=pd.DataFrame(fd.most_common(),columns=['word','word_count'])\n",
    "word_counts['TF']=word_counts['word_count']/word_counts['word_count'].sum()\n",
    "\n",
    "word_counts.sort_values(by='TF',ascending=False,inplace=True)\n",
    "\n",
    "word_counts['rank']=word_counts['TF'].rank(method='first',ascending=False)\n",
    "\n",
    "word_counts['quantile']=pd.qcut(word_counts['rank'],100,labels=np.arange(1,101))\n",
    "\n",
    "print(word_counts.loc[word_counts['quantile']==1,'word'].head(20))"
   ]
  },
  {
   "cell_type": "markdown",
   "metadata": {},
   "source": [
    "# Section 3: Top percentile of words for each emotion category\n",
    "- 3.1 What are the top words in each emotion category by term frequency\n",
    "    that are unique to that category? "
   ]
  },
  {
   "cell_type": "code",
   "execution_count": 14,
   "metadata": {},
   "outputs": [
    {
     "name": "stdout",
     "output_type": "stream",
     "text": [
      "sadness\n",
      "Number of words: 66288\n",
      "Number of unique words: 7124\n",
      "joy\n",
      "Number of words: 79883\n",
      "Number of unique words: 8719\n",
      "fear\n",
      "Number of words: 27431\n",
      "Number of unique words: 4434\n",
      "anger\n",
      "Number of words: 32007\n",
      "Number of unique words: 4962\n",
      "love\n",
      "Number of words: 20442\n",
      "Number of unique words: 3933\n",
      "surprise\n",
      "Number of words: 8682\n",
      "Number of unique words: 2224\n",
      "sadness top words:\n",
      "['unwelcome', 'ignored', 'crappy', 'lonely', 'idiotic', 'lately', 'gloomy', 'listless', 'hopeless', 'doomed', 'ugly'] \n",
      "\n",
      "\n",
      "joy top words:\n",
      "['keen', 'true', 'energetic', 'passionate', 'cool', 'divine', 'lately', 'glamorous', 'faithful', 'complacent', 'mellow'] \n",
      "\n",
      "\n",
      "fear top words:\n",
      "['unsure', 'distraught', 'skeptical', 'shy', 'assaulted', 'intimidated', 'terrified', 'uncertain', 'distressed', 'apprehensive', 'uptight'] \n",
      "\n",
      "\n",
      "anger top words:\n",
      "['cold', 'violent', 'stressed', 'jealous', 'hostile', 'rushed', 'irritated', 'lately', 'whatever', 'grouchy', 'towards'] \n",
      "\n",
      "\n",
      "love top words:\n",
      "['caring', 'treasured', 'passionate', 'romantic', 'loyal', 'nostalgic', 'lovely', 'horny', 'fond', 'towards', 'supporting'] \n",
      "\n",
      "\n",
      "surprise top words:\n",
      "['stunned', 'shocked', 'curious', 'amazed', 'dazed', 'impressed'] \n",
      "\n",
      "\n"
     ]
    }
   ],
   "source": [
    "df,top_words_per_emotion=get_top_words_per_emotion_idx(df,df['target'].unique())\n",
    "\n",
    "for emotion,words in top_words_per_emotion.items():\n",
    "    print(f'{emotion} top words:')\n",
    "    print(words[0:11],'\\n\\n')"
   ]
  },
  {
   "cell_type": "markdown",
   "metadata": {},
   "source": [
    "- Most of the top words associated with each category make sense from a language perspective"
   ]
  },
  {
   "cell_type": "code",
   "execution_count": null,
   "metadata": {},
   "outputs": [],
   "source": []
  }
 ],
 "metadata": {
  "kernelspec": {
   "display_name": "Python 3",
   "language": "python",
   "name": "python3"
  },
  "language_info": {
   "codemirror_mode": {
    "name": "ipython",
    "version": 3
   },
   "file_extension": ".py",
   "mimetype": "text/x-python",
   "name": "python",
   "nbconvert_exporter": "python",
   "pygments_lexer": "ipython3",
   "version": "3.8.5"
  }
 },
 "nbformat": 4,
 "nbformat_minor": 4
}
